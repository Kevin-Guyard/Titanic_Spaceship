{
 "cells": [
  {
   "cell_type": "markdown",
   "id": "518f2a14-9aba-485b-bf4d-c7fc910c9f26",
   "metadata": {},
   "source": [
    "# Titanic spaceship kaggle competition"
   ]
  },
  {
   "cell_type": "markdown",
   "id": "0c2d2f51-e50d-4802-927e-d5599499e9a3",
   "metadata": {
    "jp-MarkdownHeadingCollapsed": true,
    "tags": []
   },
   "source": [
    "## Initialisation"
   ]
  },
  {
   "cell_type": "code",
   "execution_count": 1,
   "id": "1a82661d-5545-4ca0-8c29-65d0e6975312",
   "metadata": {},
   "outputs": [],
   "source": [
    "import numpy as np\n",
    "import pandas as pd\n",
    "import kaggle\n",
    "import seaborn as sns\n",
    "import matplotlib.pyplot as plt\n",
    "import os"
   ]
  },
  {
   "cell_type": "code",
   "execution_count": 2,
   "id": "ee8d3b07-480c-440a-8f77-a7df9c2168a9",
   "metadata": {},
   "outputs": [],
   "source": [
    "REPO_DATA = 'data'"
   ]
  },
  {
   "cell_type": "code",
   "execution_count": 3,
   "id": "79aeb1e6-6858-49ff-a71f-28498bbcadc8",
   "metadata": {},
   "outputs": [],
   "source": [
    "if not os.path.exists(REPO_DATA):\n",
    "    os.mkdir(REPO_DATA)"
   ]
  },
  {
   "cell_type": "markdown",
   "id": "b5c2ca42-4af9-4662-82ab-c66c9bcbd3b9",
   "metadata": {
    "jp-MarkdownHeadingCollapsed": true,
    "tags": []
   },
   "source": [
    "## Load data"
   ]
  },
  {
   "cell_type": "code",
   "execution_count": 4,
   "id": "4a779ce2-3fe4-4985-98c5-68700c996b30",
   "metadata": {},
   "outputs": [],
   "source": [
    "import zipfile\n",
    "\n",
    "if not os.path.exists(os.path.join(REPO_DATA, 'train.csv')) \\\n",
    "or not os.path.exists(os.path.join(REPO_DATA, 'test.csv')) \\\n",
    "or not os.path.exists(os.path.join(REPO_DATA, 'sample_submission.csv')):\n",
    "    \n",
    "    !kaggle competitions download -c spaceship-titanic -p $REPO_DATA\n",
    "    \n",
    "    with zipfile.ZipFile(os.path.join(REPO_DATA, 'spaceship-titanic.zip'), 'r') as zip_ref:\n",
    "        zip_ref.extractall(REPO_DATA)\n",
    "        \n",
    "df_train = pd.read_csv(os.path.join(REPO_DATA, 'train.csv'))\n",
    "df_test = pd.read_csv(os.path.join(REPO_DATA, 'test.csv'))"
   ]
  },
  {
   "cell_type": "code",
   "execution_count": 5,
   "id": "b7d38524-ce40-47a3-a45f-03b706e5ecaa",
   "metadata": {},
   "outputs": [
    {
     "data": {
      "text/html": [
       "<div>\n",
       "<style scoped>\n",
       "    .dataframe tbody tr th:only-of-type {\n",
       "        vertical-align: middle;\n",
       "    }\n",
       "\n",
       "    .dataframe tbody tr th {\n",
       "        vertical-align: top;\n",
       "    }\n",
       "\n",
       "    .dataframe thead th {\n",
       "        text-align: right;\n",
       "    }\n",
       "</style>\n",
       "<table border=\"1\" class=\"dataframe\">\n",
       "  <thead>\n",
       "    <tr style=\"text-align: right;\">\n",
       "      <th></th>\n",
       "      <th>PassengerId</th>\n",
       "      <th>HomePlanet</th>\n",
       "      <th>CryoSleep</th>\n",
       "      <th>Cabin</th>\n",
       "      <th>Destination</th>\n",
       "      <th>Age</th>\n",
       "      <th>VIP</th>\n",
       "      <th>RoomService</th>\n",
       "      <th>FoodCourt</th>\n",
       "      <th>ShoppingMall</th>\n",
       "      <th>Spa</th>\n",
       "      <th>VRDeck</th>\n",
       "      <th>Name</th>\n",
       "      <th>Transported</th>\n",
       "    </tr>\n",
       "  </thead>\n",
       "  <tbody>\n",
       "    <tr>\n",
       "      <th>0</th>\n",
       "      <td>0001_01</td>\n",
       "      <td>Europa</td>\n",
       "      <td>False</td>\n",
       "      <td>B/0/P</td>\n",
       "      <td>TRAPPIST-1e</td>\n",
       "      <td>39.0</td>\n",
       "      <td>False</td>\n",
       "      <td>0.0</td>\n",
       "      <td>0.0</td>\n",
       "      <td>0.0</td>\n",
       "      <td>0.0</td>\n",
       "      <td>0.0</td>\n",
       "      <td>Maham Ofracculy</td>\n",
       "      <td>False</td>\n",
       "    </tr>\n",
       "    <tr>\n",
       "      <th>1</th>\n",
       "      <td>0002_01</td>\n",
       "      <td>Earth</td>\n",
       "      <td>False</td>\n",
       "      <td>F/0/S</td>\n",
       "      <td>TRAPPIST-1e</td>\n",
       "      <td>24.0</td>\n",
       "      <td>False</td>\n",
       "      <td>109.0</td>\n",
       "      <td>9.0</td>\n",
       "      <td>25.0</td>\n",
       "      <td>549.0</td>\n",
       "      <td>44.0</td>\n",
       "      <td>Juanna Vines</td>\n",
       "      <td>True</td>\n",
       "    </tr>\n",
       "    <tr>\n",
       "      <th>2</th>\n",
       "      <td>0003_01</td>\n",
       "      <td>Europa</td>\n",
       "      <td>False</td>\n",
       "      <td>A/0/S</td>\n",
       "      <td>TRAPPIST-1e</td>\n",
       "      <td>58.0</td>\n",
       "      <td>True</td>\n",
       "      <td>43.0</td>\n",
       "      <td>3576.0</td>\n",
       "      <td>0.0</td>\n",
       "      <td>6715.0</td>\n",
       "      <td>49.0</td>\n",
       "      <td>Altark Susent</td>\n",
       "      <td>False</td>\n",
       "    </tr>\n",
       "    <tr>\n",
       "      <th>3</th>\n",
       "      <td>0003_02</td>\n",
       "      <td>Europa</td>\n",
       "      <td>False</td>\n",
       "      <td>A/0/S</td>\n",
       "      <td>TRAPPIST-1e</td>\n",
       "      <td>33.0</td>\n",
       "      <td>False</td>\n",
       "      <td>0.0</td>\n",
       "      <td>1283.0</td>\n",
       "      <td>371.0</td>\n",
       "      <td>3329.0</td>\n",
       "      <td>193.0</td>\n",
       "      <td>Solam Susent</td>\n",
       "      <td>False</td>\n",
       "    </tr>\n",
       "  </tbody>\n",
       "</table>\n",
       "</div>"
      ],
      "text/plain": [
       "  PassengerId HomePlanet CryoSleep  Cabin  Destination   Age    VIP  \\\n",
       "0     0001_01     Europa     False  B/0/P  TRAPPIST-1e  39.0  False   \n",
       "1     0002_01      Earth     False  F/0/S  TRAPPIST-1e  24.0  False   \n",
       "2     0003_01     Europa     False  A/0/S  TRAPPIST-1e  58.0   True   \n",
       "3     0003_02     Europa     False  A/0/S  TRAPPIST-1e  33.0  False   \n",
       "\n",
       "   RoomService  FoodCourt  ShoppingMall     Spa  VRDeck             Name  \\\n",
       "0          0.0        0.0           0.0     0.0     0.0  Maham Ofracculy   \n",
       "1        109.0        9.0          25.0   549.0    44.0     Juanna Vines   \n",
       "2         43.0     3576.0           0.0  6715.0    49.0    Altark Susent   \n",
       "3          0.0     1283.0         371.0  3329.0   193.0     Solam Susent   \n",
       "\n",
       "   Transported  \n",
       "0        False  \n",
       "1         True  \n",
       "2        False  \n",
       "3        False  "
      ]
     },
     "execution_count": 5,
     "metadata": {},
     "output_type": "execute_result"
    }
   ],
   "source": [
    "df_train.head(4)"
   ]
  },
  {
   "cell_type": "code",
   "execution_count": 6,
   "id": "7543b03d-bc6d-4efb-9922-70dd1f3ab865",
   "metadata": {},
   "outputs": [
    {
     "data": {
      "text/html": [
       "<div>\n",
       "<style scoped>\n",
       "    .dataframe tbody tr th:only-of-type {\n",
       "        vertical-align: middle;\n",
       "    }\n",
       "\n",
       "    .dataframe tbody tr th {\n",
       "        vertical-align: top;\n",
       "    }\n",
       "\n",
       "    .dataframe thead th {\n",
       "        text-align: right;\n",
       "    }\n",
       "</style>\n",
       "<table border=\"1\" class=\"dataframe\">\n",
       "  <thead>\n",
       "    <tr style=\"text-align: right;\">\n",
       "      <th></th>\n",
       "      <th>PassengerId</th>\n",
       "      <th>HomePlanet</th>\n",
       "      <th>CryoSleep</th>\n",
       "      <th>Cabin</th>\n",
       "      <th>Destination</th>\n",
       "      <th>Age</th>\n",
       "      <th>VIP</th>\n",
       "      <th>RoomService</th>\n",
       "      <th>FoodCourt</th>\n",
       "      <th>ShoppingMall</th>\n",
       "      <th>Spa</th>\n",
       "      <th>VRDeck</th>\n",
       "      <th>Name</th>\n",
       "    </tr>\n",
       "  </thead>\n",
       "  <tbody>\n",
       "    <tr>\n",
       "      <th>0</th>\n",
       "      <td>0013_01</td>\n",
       "      <td>Earth</td>\n",
       "      <td>True</td>\n",
       "      <td>G/3/S</td>\n",
       "      <td>TRAPPIST-1e</td>\n",
       "      <td>27.0</td>\n",
       "      <td>False</td>\n",
       "      <td>0.0</td>\n",
       "      <td>0.0</td>\n",
       "      <td>0.0</td>\n",
       "      <td>0.0</td>\n",
       "      <td>0.0</td>\n",
       "      <td>Nelly Carsoning</td>\n",
       "    </tr>\n",
       "    <tr>\n",
       "      <th>1</th>\n",
       "      <td>0018_01</td>\n",
       "      <td>Earth</td>\n",
       "      <td>False</td>\n",
       "      <td>F/4/S</td>\n",
       "      <td>TRAPPIST-1e</td>\n",
       "      <td>19.0</td>\n",
       "      <td>False</td>\n",
       "      <td>0.0</td>\n",
       "      <td>9.0</td>\n",
       "      <td>0.0</td>\n",
       "      <td>2823.0</td>\n",
       "      <td>0.0</td>\n",
       "      <td>Lerome Peckers</td>\n",
       "    </tr>\n",
       "    <tr>\n",
       "      <th>2</th>\n",
       "      <td>0019_01</td>\n",
       "      <td>Europa</td>\n",
       "      <td>True</td>\n",
       "      <td>C/0/S</td>\n",
       "      <td>55 Cancri e</td>\n",
       "      <td>31.0</td>\n",
       "      <td>False</td>\n",
       "      <td>0.0</td>\n",
       "      <td>0.0</td>\n",
       "      <td>0.0</td>\n",
       "      <td>0.0</td>\n",
       "      <td>0.0</td>\n",
       "      <td>Sabih Unhearfus</td>\n",
       "    </tr>\n",
       "    <tr>\n",
       "      <th>3</th>\n",
       "      <td>0021_01</td>\n",
       "      <td>Europa</td>\n",
       "      <td>False</td>\n",
       "      <td>C/1/S</td>\n",
       "      <td>TRAPPIST-1e</td>\n",
       "      <td>38.0</td>\n",
       "      <td>False</td>\n",
       "      <td>0.0</td>\n",
       "      <td>6652.0</td>\n",
       "      <td>0.0</td>\n",
       "      <td>181.0</td>\n",
       "      <td>585.0</td>\n",
       "      <td>Meratz Caltilter</td>\n",
       "    </tr>\n",
       "  </tbody>\n",
       "</table>\n",
       "</div>"
      ],
      "text/plain": [
       "  PassengerId HomePlanet CryoSleep  Cabin  Destination   Age    VIP  \\\n",
       "0     0013_01      Earth      True  G/3/S  TRAPPIST-1e  27.0  False   \n",
       "1     0018_01      Earth     False  F/4/S  TRAPPIST-1e  19.0  False   \n",
       "2     0019_01     Europa      True  C/0/S  55 Cancri e  31.0  False   \n",
       "3     0021_01     Europa     False  C/1/S  TRAPPIST-1e  38.0  False   \n",
       "\n",
       "   RoomService  FoodCourt  ShoppingMall     Spa  VRDeck              Name  \n",
       "0          0.0        0.0           0.0     0.0     0.0   Nelly Carsoning  \n",
       "1          0.0        9.0           0.0  2823.0     0.0    Lerome Peckers  \n",
       "2          0.0        0.0           0.0     0.0     0.0   Sabih Unhearfus  \n",
       "3          0.0     6652.0           0.0   181.0   585.0  Meratz Caltilter  "
      ]
     },
     "execution_count": 6,
     "metadata": {},
     "output_type": "execute_result"
    }
   ],
   "source": [
    "df_test.head(4)"
   ]
  },
  {
   "cell_type": "code",
   "execution_count": 7,
   "id": "682f780d-140f-45e0-ac35-c10858f43b15",
   "metadata": {},
   "outputs": [
    {
     "name": "stdout",
     "output_type": "stream",
     "text": [
      "There is 8693 rows and 14 columns in the train dataframe.\n",
      "There is 4277 rows and 13 columns in the test dataframe.\n"
     ]
    }
   ],
   "source": [
    "print(\"There is {n_rows_train} rows and {n_cols_train} columns in the train dataframe.\"\n",
    "      .format(n_rows_train=df_train.shape[0], n_cols_train=df_train.shape[1]))\n",
    "print(\"There is {n_rows_test} rows and {n_cols_test} columns in the test dataframe.\"\n",
    "      .format(n_rows_test=df_test.shape[0], n_cols_test=df_test.shape[1]))"
   ]
  },
  {
   "cell_type": "markdown",
   "id": "20e85663-80ad-473a-9123-3b0bd7b51d78",
   "metadata": {},
   "source": [
    "## Preprocessing"
   ]
  },
  {
   "cell_type": "markdown",
   "id": "c6a8e2dd-faff-4230-8866-b6252ec7d5d2",
   "metadata": {
    "jp-MarkdownHeadingCollapsed": true,
    "tags": []
   },
   "source": [
    "### Split feature"
   ]
  },
  {
   "cell_type": "code",
   "execution_count": 8,
   "id": "1342056a-eed4-4da8-aa2d-6bd355480aa2",
   "metadata": {},
   "outputs": [],
   "source": [
    "df_train[\"GroupId\"] = df_train.PassengerId.apply(lambda passenger_id: passenger_id.split('_')[0])\n",
    "df_train[\"PassengerGroupNumber\"] = df_train.PassengerId.apply(lambda passenger_id: passenger_id.split('_')[1])\n",
    "\n",
    "df_test[\"GroupId\"] = df_test.PassengerId.apply(lambda passenger_id: passenger_id.split('_')[0])\n",
    "df_test[\"PassengerGroupNumber\"] = df_test.PassengerId.apply(lambda passenger_id: passenger_id.split('_')[1])"
   ]
  },
  {
   "cell_type": "code",
   "execution_count": 9,
   "id": "b6644bf7-fb83-4117-96be-8bc0af2d072e",
   "metadata": {},
   "outputs": [],
   "source": [
    "df_train[\"CabinDeck\"] = df_train.Cabin.apply(lambda cabin: cabin.split('/')[0] if pd.notna(cabin) else cabin)\n",
    "df_train[\"CabinNum\"] = df_train.Cabin.apply(lambda cabin: cabin.split('/')[1] if pd.notna(cabin) else cabin)\n",
    "df_train[\"CabinSide\"] = df_train.Cabin.apply(lambda cabin: cabin.split('/')[2] if pd.notna(cabin) else cabin)\n",
    "\n",
    "df_test[\"CabinDeck\"] = df_test.Cabin.apply(lambda cabin: cabin.split('/')[0] if pd.notna(cabin) else cabin)\n",
    "df_test[\"CabinNum\"] = df_test.Cabin.apply(lambda cabin: cabin.split('/')[1] if pd.notna(cabin) else cabin)\n",
    "df_test[\"CabinSide\"] = df_test.Cabin.apply(lambda cabin: cabin.split('/')[2] if pd.notna(cabin) else cabin)"
   ]
  },
  {
   "cell_type": "markdown",
   "id": "114a800f-7f70-44f5-8f65-3e4de9ac4eb3",
   "metadata": {
    "jp-MarkdownHeadingCollapsed": true,
    "tags": []
   },
   "source": [
    "### Fill na"
   ]
  },
  {
   "cell_type": "code",
   "execution_count": 10,
   "id": "f3b65492-acdd-4d77-be1d-7767e9151d67",
   "metadata": {},
   "outputs": [],
   "source": [
    "group_home_planet_mapping = {row.GroupId: row.HomePlanet for _, row in pd.concat([df_train, df_test]) \\\n",
    "                                                                         .groupby(by=[\"GroupId\"], axis=0, as_index=False)[\"HomePlanet\"] \\\n",
    "                                                                         .first()\n",
    "                                                                         .iterrows()}\n",
    "\n",
    "df_train[\"HomePlanet\"] = df_train.apply(lambda row: row.HomePlanet if pd.notna(row.HomePlanet) else group_home_planet_mapping.get(row.GroupId, row.HomePlanet), axis=1)\n",
    "df_test[\"HomePlanet\"] = df_test.apply(lambda row: row.HomePlanet if pd.notna(row.HomePlanet) else group_home_planet_mapping.get(row.GroupId, row.HomePlanet), axis=1)"
   ]
  },
  {
   "cell_type": "code",
   "execution_count": 11,
   "id": "7b7b8bdb-3b34-4ce8-a7c0-925d0be3b3d3",
   "metadata": {},
   "outputs": [],
   "source": [
    "def complete_missing_home_planet_using_deck(row):\n",
    "    if pd.notna(row.HomePlanet):\n",
    "        home_planet = row.HomePlanet\n",
    "    elif pd.isna(row.CabinDeck):\n",
    "        home_planet = row.HomePlanet\n",
    "    elif row.CabinDeck in ['A', 'B', 'C', 'T']:\n",
    "        home_planet = 'Europa'\n",
    "    elif row.CabinDeck in ['G']:\n",
    "        home_planet = 'Earth'\n",
    "    else:\n",
    "        home_planet = row.HomePlanet\n",
    "    return home_planet\n",
    "\n",
    "df_train.HomePlanet = df_train.apply(complete_missing_home_planet_using_deck, axis=1)\n",
    "df_test.HomePlanet = df_test.apply(complete_missing_home_planet_using_deck, axis=1)"
   ]
  },
  {
   "cell_type": "code",
   "execution_count": 12,
   "id": "75ed94b7-6647-4d80-8f17-6cf92b8523f4",
   "metadata": {},
   "outputs": [],
   "source": [
    "df_train.CryoSleep = df_train.CryoSleep.fillna(False)\n",
    "df_test.CryoSleep = df_test.CryoSleep.fillna(False)"
   ]
  },
  {
   "cell_type": "code",
   "execution_count": 13,
   "id": "5fcfe310-81ce-4136-8fe8-fe8667c63918",
   "metadata": {},
   "outputs": [],
   "source": [
    "mean_age = pd.concat([df_train, df_test]).Age.mean()\n",
    "df_train.Age = df_train.Age.fillna(mean_age)\n",
    "df_test.Age = df_test.Age.fillna(mean_age)"
   ]
  },
  {
   "cell_type": "code",
   "execution_count": 14,
   "id": "f46bb8c7-4beb-439d-b156-502bd9dbc110",
   "metadata": {},
   "outputs": [],
   "source": [
    "df_train.VIP = df_train.VIP.fillna(False)\n",
    "df_test.VIP = df_test.VIP.fillna(False)"
   ]
  },
  {
   "cell_type": "code",
   "execution_count": 19,
   "id": "bea8e833-4cce-4f44-8c5b-936855d7f865",
   "metadata": {},
   "outputs": [],
   "source": [
    "df_train.RoomService = df_train.RoomService.fillna(0)\n",
    "df_train.FoodCourt = df_train.FoodCourt.fillna(0)\n",
    "df_train.Spa = df_train.Spa.fillna(0)\n",
    "df_train.ShoppingMall = df_train.ShoppingMall.fillna(0)\n",
    "df_train.VRDeck = df_train.VRDeck.fillna(0)\n",
    "\n",
    "df_test.RoomService = df_test.RoomService.fillna(0)\n",
    "df_test.FoodCourt = df_test.FoodCourt.fillna(0)\n",
    "df_test.Spa = df_test.Spa.fillna(0)\n",
    "df_test.ShoppingMall = df_test.ShoppingMall.fillna(0)\n",
    "df_test.VRDeck = df_test.VRDeck.fillna(0)"
   ]
  },
  {
   "cell_type": "code",
   "execution_count": 20,
   "id": "c94669b9-e683-4078-8929-f0e42be6a8cf",
   "metadata": {},
   "outputs": [
    {
     "data": {
      "text/plain": [
       "PassengerId               0\n",
       "HomePlanet               63\n",
       "CryoSleep                 0\n",
       "Cabin                   199\n",
       "Destination             182\n",
       "Age                       0\n",
       "VIP                       0\n",
       "RoomService               0\n",
       "FoodCourt                 0\n",
       "ShoppingMall              0\n",
       "Spa                       0\n",
       "VRDeck                    0\n",
       "Name                    200\n",
       "Transported               0\n",
       "GroupId                   0\n",
       "PassengerGroupNumber      0\n",
       "CabinDeck               199\n",
       "CabinNum                199\n",
       "CabinSide               199\n",
       "dtype: int64"
      ]
     },
     "execution_count": 20,
     "metadata": {},
     "output_type": "execute_result"
    }
   ],
   "source": [
    "df_train.isna().sum()"
   ]
  },
  {
   "cell_type": "markdown",
   "id": "f4a5b8dd-de39-4a3a-8349-05beb0594b79",
   "metadata": {
    "jp-MarkdownHeadingCollapsed": true,
    "tags": []
   },
   "source": [
    "### Hot encoding"
   ]
  },
  {
   "cell_type": "code",
   "execution_count": 21,
   "id": "fad55086-2773-4d0a-ab81-0f2db636c9ec",
   "metadata": {},
   "outputs": [],
   "source": [
    "df_train = pd.get_dummies(df_train, columns=[\"HomePlanet\", \"Destination\", \"CabinDeck\", \"CabinSide\"])\n",
    "df_test = pd.get_dummies(df_test, columns=[\"HomePlanet\", \"Destination\", \"CabinDeck\", \"CabinSide\"])"
   ]
  },
  {
   "cell_type": "code",
   "execution_count": 23,
   "id": "931a8d58-0870-4616-9ab2-63eb79462178",
   "metadata": {},
   "outputs": [],
   "source": [
    "df_train.drop(columns=[\"Cabin\", \"Name\", \"CabinNum\"], inplace=True)\n",
    "df_test.drop(columns=[\"Cabin\", \"Name\", \"CabinNum\"], inplace=True)"
   ]
  },
  {
   "cell_type": "code",
   "execution_count": 24,
   "id": "7458bd3c-ed0f-4743-bd1c-a54af8cbd5e8",
   "metadata": {},
   "outputs": [
    {
     "data": {
      "text/plain": [
       "PassengerId                  0\n",
       "CryoSleep                    0\n",
       "Age                          0\n",
       "VIP                          0\n",
       "RoomService                  0\n",
       "FoodCourt                    0\n",
       "ShoppingMall                 0\n",
       "Spa                          0\n",
       "VRDeck                       0\n",
       "Transported                  0\n",
       "GroupId                      0\n",
       "PassengerGroupNumber         0\n",
       "HomePlanet_Earth             0\n",
       "HomePlanet_Europa            0\n",
       "HomePlanet_Mars              0\n",
       "Destination_55 Cancri e      0\n",
       "Destination_PSO J318.5-22    0\n",
       "Destination_TRAPPIST-1e      0\n",
       "CabinDeck_A                  0\n",
       "CabinDeck_B                  0\n",
       "CabinDeck_C                  0\n",
       "CabinDeck_D                  0\n",
       "CabinDeck_E                  0\n",
       "CabinDeck_F                  0\n",
       "CabinDeck_G                  0\n",
       "CabinDeck_T                  0\n",
       "CabinSide_P                  0\n",
       "CabinSide_S                  0\n",
       "dtype: int64"
      ]
     },
     "execution_count": 24,
     "metadata": {},
     "output_type": "execute_result"
    }
   ],
   "source": [
    "df_train.isna().sum()"
   ]
  },
  {
   "cell_type": "markdown",
   "id": "c9f75b10-7449-48a0-8f42-8cc778a0a3ed",
   "metadata": {},
   "source": [
    "### Transformation"
   ]
  },
  {
   "cell_type": "code",
   "execution_count": 26,
   "id": "f718dae4-ec25-4448-a8ab-86af39be51a6",
   "metadata": {},
   "outputs": [],
   "source": [
    "from scipy.stats import yeojohnson\n",
    "\n",
    "df_train.RoomService = df_train.RoomService.apply(lambda bill: np.log(bill+1))\n",
    "df_train.FoodCourt = df_train.FoodCourt.apply(lambda bill: np.log(bill+1))\n",
    "df_train.ShoppingMall = df_train.ShoppingMall.apply(lambda bill: np.log(bill+1))\n",
    "df_train.Spa = df_train.Spa.apply(lambda bill: np.log(bill+1))\n",
    "df_train.VRDeck = df_train.VRDeck.apply(lambda bill: np.log(bill+1))\n",
    "df_train.Age, lmbda = yeojohnson(df_train.Age)\n",
    "\n",
    "df_test.RoomService = df_test.RoomService.apply(lambda bill: np.log(bill+1))\n",
    "df_test.FoodCourt = df_test.FoodCourt.apply(lambda bill: np.log(bill+1))\n",
    "df_test.ShoppingMall = df_test.ShoppingMall.apply(lambda bill: np.log(bill+1))\n",
    "df_test.Spa = df_test.Spa.apply(lambda bill: np.log(bill+1))\n",
    "df_test.VRDeck = df_test.VRDeck.apply(lambda bill: np.log(bill+1))\n",
    "df_test.Age = yeojohnson(df_test.Age, lmbda=lmbda)"
   ]
  },
  {
   "cell_type": "code",
   "execution_count": 27,
   "id": "f8959fcb-ccce-4237-be72-b344b3d9100d",
   "metadata": {},
   "outputs": [],
   "source": [
    "X = df_train[[\"RoomService\", \"CryoSleep\"]]"
   ]
  },
  {
   "cell_type": "code",
   "execution_count": 29,
   "id": "fac17c2c-055c-498b-94dd-e8f950c802f3",
   "metadata": {},
   "outputs": [],
   "source": [
    "from sklearn.preprocessing import StandardScaler\n",
    "\n",
    "scaler = StandardScaler()\n",
    "X_new = scaler.fit_transform(X)"
   ]
  },
  {
   "cell_type": "code",
   "execution_count": 31,
   "id": "6a7e9922-2ea1-4f58-ab4f-1a2009f3a4f5",
   "metadata": {},
   "outputs": [
    {
     "data": {
      "text/html": [
       "<div>\n",
       "<style scoped>\n",
       "    .dataframe tbody tr th:only-of-type {\n",
       "        vertical-align: middle;\n",
       "    }\n",
       "\n",
       "    .dataframe tbody tr th {\n",
       "        vertical-align: top;\n",
       "    }\n",
       "\n",
       "    .dataframe thead th {\n",
       "        text-align: right;\n",
       "    }\n",
       "</style>\n",
       "<table border=\"1\" class=\"dataframe\">\n",
       "  <thead>\n",
       "    <tr style=\"text-align: right;\">\n",
       "      <th></th>\n",
       "      <th>0</th>\n",
       "      <th>1</th>\n",
       "    </tr>\n",
       "  </thead>\n",
       "  <tbody>\n",
       "    <tr>\n",
       "      <th>0</th>\n",
       "      <td>-0.680981</td>\n",
       "      <td>-0.732770</td>\n",
       "    </tr>\n",
       "    <tr>\n",
       "      <th>1</th>\n",
       "      <td>1.344645</td>\n",
       "      <td>-0.732770</td>\n",
       "    </tr>\n",
       "    <tr>\n",
       "      <th>2</th>\n",
       "      <td>1.140711</td>\n",
       "      <td>-0.732770</td>\n",
       "    </tr>\n",
       "    <tr>\n",
       "      <th>3</th>\n",
       "      <td>-0.680981</td>\n",
       "      <td>-0.732770</td>\n",
       "    </tr>\n",
       "    <tr>\n",
       "      <th>4</th>\n",
       "      <td>1.535617</td>\n",
       "      <td>-0.732770</td>\n",
       "    </tr>\n",
       "    <tr>\n",
       "      <th>...</th>\n",
       "      <td>...</td>\n",
       "      <td>...</td>\n",
       "    </tr>\n",
       "    <tr>\n",
       "      <th>8688</th>\n",
       "      <td>-0.680981</td>\n",
       "      <td>-0.732770</td>\n",
       "    </tr>\n",
       "    <tr>\n",
       "      <th>8689</th>\n",
       "      <td>-0.680981</td>\n",
       "      <td>1.364685</td>\n",
       "    </tr>\n",
       "    <tr>\n",
       "      <th>8690</th>\n",
       "      <td>-0.680981</td>\n",
       "      <td>-0.732770</td>\n",
       "    </tr>\n",
       "    <tr>\n",
       "      <th>8691</th>\n",
       "      <td>-0.680981</td>\n",
       "      <td>-0.732770</td>\n",
       "    </tr>\n",
       "    <tr>\n",
       "      <th>8692</th>\n",
       "      <td>1.373620</td>\n",
       "      <td>-0.732770</td>\n",
       "    </tr>\n",
       "  </tbody>\n",
       "</table>\n",
       "<p>8693 rows × 2 columns</p>\n",
       "</div>"
      ],
      "text/plain": [
       "             0         1\n",
       "0    -0.680981 -0.732770\n",
       "1     1.344645 -0.732770\n",
       "2     1.140711 -0.732770\n",
       "3    -0.680981 -0.732770\n",
       "4     1.535617 -0.732770\n",
       "...        ...       ...\n",
       "8688 -0.680981 -0.732770\n",
       "8689 -0.680981  1.364685\n",
       "8690 -0.680981 -0.732770\n",
       "8691 -0.680981 -0.732770\n",
       "8692  1.373620 -0.732770\n",
       "\n",
       "[8693 rows x 2 columns]"
      ]
     },
     "execution_count": 31,
     "metadata": {},
     "output_type": "execute_result"
    }
   ],
   "source": [
    "pd.DataFrame(X_new)"
   ]
  }
 ],
 "metadata": {
  "kernelspec": {
   "display_name": "Python 3 (ipykernel)",
   "language": "python",
   "name": "python3"
  },
  "language_info": {
   "codemirror_mode": {
    "name": "ipython",
    "version": 3
   },
   "file_extension": ".py",
   "mimetype": "text/x-python",
   "name": "python",
   "nbconvert_exporter": "python",
   "pygments_lexer": "ipython3",
   "version": "3.10.4"
  }
 },
 "nbformat": 4,
 "nbformat_minor": 5
}
