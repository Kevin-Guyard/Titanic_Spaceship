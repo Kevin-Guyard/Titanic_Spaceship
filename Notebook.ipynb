{
 "cells": [
  {
   "cell_type": "markdown",
   "id": "717a9b62",
   "metadata": {
    "tags": []
   },
   "source": [
    "# Titanic spaceship kaggle competition"
   ]
  },
  {
   "cell_type": "markdown",
   "id": "22ec9d2b",
   "metadata": {
    "jp-MarkdownHeadingCollapsed": true,
    "tags": []
   },
   "source": [
    "## Initialisation"
   ]
  },
  {
   "cell_type": "code",
   "execution_count": 1,
   "id": "05025d42",
   "metadata": {},
   "outputs": [],
   "source": [
    "import numpy as np\n",
    "import pandas as pd\n",
    "import kaggle\n",
    "import os\n",
    "import json\n",
    "import time\n",
    "from titanic_spaceship_package import dataframe_preprocessing, get_pipeline"
   ]
  },
  {
   "cell_type": "code",
   "execution_count": 2,
   "id": "6f8897e3",
   "metadata": {},
   "outputs": [],
   "source": [
    "REPO_DATA = 'data'\n",
    "REPO_DATA_PREPROCESSED = 'data_preprocessed'\n",
    "REPO_MODEL = 'model'\n",
    "REPO_SUBMISSION = 'submission'"
   ]
  },
  {
   "cell_type": "code",
   "execution_count": 3,
   "id": "d2502a7e",
   "metadata": {},
   "outputs": [],
   "source": [
    "if not os.path.exists(REPO_DATA):\n",
    "    os.mkdir(REPO_DATA)\n",
    "if not os.path.exists(REPO_DATA_PREPROCESSED):\n",
    "    os.mkdir(REPO_DATA_PREPROCESSED)\n",
    "if not os.path.exists(REPO_MODEL):\n",
    "    os.mkdir(REPO_MODEL)\n",
    "if not os.path.exists(REPO_SUBMISSION):\n",
    "    os.mkdir(REPO_SUBMISSION)"
   ]
  },
  {
   "cell_type": "markdown",
   "id": "b30fa65f",
   "metadata": {
    "jp-MarkdownHeadingCollapsed": true,
    "tags": []
   },
   "source": [
    "## Load data"
   ]
  },
  {
   "cell_type": "code",
   "execution_count": 4,
   "id": "038c355e",
   "metadata": {},
   "outputs": [],
   "source": [
    "import zipfile\n",
    "\n",
    "if not os.path.exists(os.path.join(REPO_DATA, 'train.csv')) \\\n",
    "or not os.path.exists(os.path.join(REPO_DATA, 'test.csv')) \\\n",
    "or not os.path.exists(os.path.join(REPO_DATA, 'sample_submission.csv')):\n",
    "    \n",
    "    !kaggle competitions download -c spaceship-titanic -p $REPO_DATA\n",
    "    \n",
    "    with zipfile.ZipFile(os.path.join(REPO_DATA, 'spaceship-titanic.zip'), 'r') as zip_ref:\n",
    "        zip_ref.extractall(REPO_DATA)\n",
    "        \n",
    "df_train = pd.read_csv(os.path.join(REPO_DATA, 'train.csv'))\n",
    "df_test = pd.read_csv(os.path.join(REPO_DATA, 'test.csv'))"
   ]
  },
  {
   "cell_type": "code",
   "execution_count": 5,
   "id": "93293840",
   "metadata": {},
   "outputs": [],
   "source": [
    "if not os.path.exists(os.path.join(REPO_DATA_PREPROCESSED, \"X_train.csv\")) \\\n",
    "or not os.path.exists(os.path.join(REPO_DATA_PREPROCESSED, \"X_test.csv\")) \\\n",
    "or not os.path.exists(os.path.join(REPO_DATA_PREPROCESSED, \"y_train.csv\")) \\\n",
    "or not os.path.exists(os.path.join(REPO_DATA_PREPROCESSED, \"list_passenger_id.csv\")):\n",
    "    \n",
    "    X_train, X_test, y_train, list_passenger_id = dataframe_preprocessing(df_train, df_test)\n",
    "    X_train.to_csv(os.path.join(REPO_DATA_PREPROCESSED, \"X_train.csv\"), index=False)\n",
    "    X_test.to_csv(os.path.join(REPO_DATA_PREPROCESSED, \"X_test.csv\"), index=False)\n",
    "    y_train.to_csv(os.path.join(REPO_DATA_PREPROCESSED, \"y_train.csv\"), index=False)\n",
    "    list_passenger_id.to_csv(os.path.join(REPO_DATA_PREPROCESSED, \"list_passenger_id.csv\"), index=False)\n",
    "    \n",
    "else:\n",
    "    \n",
    "    X_train = pd.read_csv(os.path.join(REPO_DATA_PREPROCESSED, \"X_train.csv\"))\n",
    "    X_test = pd.read_csv(os.path.join(REPO_DATA_PREPROCESSED, \"X_test.csv\"))\n",
    "    y_train = pd.read_csv(os.path.join(REPO_DATA_PREPROCESSED, \"y_train.csv\")).Transported\n",
    "    list_passenger_id = pd.read_csv(os.path.join(REPO_DATA_PREPROCESSED, \"list_passenger_id.csv\")).PassengerId"
   ]
  },
  {
   "cell_type": "markdown",
   "id": "116a0b86",
   "metadata": {
    "jp-MarkdownHeadingCollapsed": true,
    "tags": []
   },
   "source": [
    "## Kaggle submission function"
   ]
  },
  {
   "cell_type": "code",
   "execution_count": 6,
   "id": "21704467",
   "metadata": {},
   "outputs": [],
   "source": [
    "def analyze_model(model_name, repo_model, repo_submission, X_train, y_train, X_test, list_passenger_id):\n",
    "    \n",
    "    with open(os.path.join(repo_model, model_name + \".json\"), 'r') as file:\n",
    "        data = json.load(file)\n",
    "        \n",
    "    print(\"Model name: {}\".format(data.get(\"model_name\")))\n",
    "    print(\"Cross validation score: {:.5f}\".format(data.get(\"best_score\")))\n",
    "    print(\"Best params: {}\".format(data.get(\"best_params\")))\n",
    "    print(\"Time to tune: {} seconds\".format(int(data.get(\"time_to_tune\"))))\n",
    "    \n",
    "    score_kaggle = data.get(\"score_kaggle\")\n",
    "    \n",
    "    if score_kaggle == None:\n",
    "    \n",
    "        pipeline = get_pipeline(model_name=model_name, X_train=X_train, y_train=y_train)\n",
    "        pipeline = pipeline.set_params(**data[\"best_params\"])\n",
    "        pipeline = pipeline.fit(X_train, y_train)\n",
    "        y_pred = pipeline.predict(X_test)\n",
    "\n",
    "        submission = pd.DataFrame({'PassengerId': list_passenger_id, 'Transported': y_pred})\n",
    "        submission.to_csv(os.path.join(repo_submission, model_name + \".csv\"), index=False)\n",
    "            \n",
    "        path = os.path.join(repo_submission, model_name + \".csv\")\n",
    "        request = !kaggle competitions submit -c spaceship-titanic -f $path -m $model_name\"\n",
    "                \n",
    "        time.sleep(5)\n",
    "        \n",
    "        response = !kaggle competitions submissions -c spaceship-titanic --csv\n",
    "        score_kaggle = float(response[2].split(',')[4])\n",
    "        \n",
    "        data[\"score_kaggle\"] = score_kaggle\n",
    "        \n",
    "        with open(os.path.join(repo_model, model_name + \".json\"), 'w+') as file:\n",
    "            json.dump(data, file)\n",
    "        \n",
    "    print(\"Kaggle submission score: {}\".format(score_kaggle))"
   ]
  },
  {
   "cell_type": "markdown",
   "id": "35c0e52c",
   "metadata": {
    "jp-MarkdownHeadingCollapsed": true,
    "tags": []
   },
   "source": [
    "## Basic features"
   ]
  },
  {
   "cell_type": "markdown",
   "id": "718c1ebb",
   "metadata": {
    "jp-MarkdownHeadingCollapsed": true,
    "tags": []
   },
   "source": [
    "### Pipeline v1"
   ]
  },
  {
   "cell_type": "markdown",
   "id": "2727f54f",
   "metadata": {
    "jp-MarkdownHeadingCollapsed": true,
    "tags": []
   },
   "source": [
    "#### Logistic regression"
   ]
  },
  {
   "cell_type": "code",
   "execution_count": 53,
   "id": "be6000fa",
   "metadata": {},
   "outputs": [
    {
     "name": "stdout",
     "output_type": "stream",
     "text": [
      "Model name: logistic_regression__v01\n",
      "Cross validation score: 0.77948\n",
      "Best params: {'logistic__C': 0.01, 'logistic__penalty': 'l2', 'logistic__solver': 'liblinear'}\n",
      "Time to tune: 1476 seconds\n",
      "Kaggle submission score: 0.78442\n"
     ]
    }
   ],
   "source": [
    "MODEL_NAME = \"logistic_regression__v01\"\n",
    "\n",
    "if not os.path.exists(os.path.join(REPO_MODEL, MODEL_NAME + \".json\")):\n",
    "    !python script_tuning.py $MODEL_NAME\n",
    "    \n",
    "analyze_model(\n",
    "    model_name=MODEL_NAME, \n",
    "    repo_model=REPO_MODEL, \n",
    "    repo_submission=REPO_SUBMISSION, \n",
    "    X_train=X_train, \n",
    "    y_train=y_train, \n",
    "    X_test=X_test, \n",
    "    list_passenger_id=list_passenger_id\n",
    ")"
   ]
  },
  {
   "cell_type": "markdown",
   "id": "af4a67c9",
   "metadata": {
    "jp-MarkdownHeadingCollapsed": true,
    "tags": []
   },
   "source": [
    "#### KNN"
   ]
  },
  {
   "cell_type": "code",
   "execution_count": 54,
   "id": "29193e86",
   "metadata": {},
   "outputs": [
    {
     "name": "stdout",
     "output_type": "stream",
     "text": [
      "Model name: knn__v01\n",
      "Cross validation score: 0.78880\n",
      "Best params: {'knn__n_neighbors': 47, 'knn__p': 2, 'knn__weights': 'uniform'}\n",
      "Time to tune: 5311 seconds\n",
      "Kaggle submission score: 0.78793\n"
     ]
    }
   ],
   "source": [
    "MODEL_NAME = \"knn__v01\"\n",
    "\n",
    "if not os.path.exists(os.path.join(REPO_MODEL, MODEL_NAME + \".json\")):\n",
    "    !python script_tuning.py $MODEL_NAME\n",
    "\n",
    "analyze_model(\n",
    "    model_name=MODEL_NAME, \n",
    "    repo_model=REPO_MODEL, \n",
    "    repo_submission=REPO_SUBMISSION, \n",
    "    X_train=X_train, \n",
    "    y_train=y_train, \n",
    "    X_test=X_test, \n",
    "    list_passenger_id=list_passenger_id\n",
    ")"
   ]
  },
  {
   "cell_type": "markdown",
   "id": "89b6f591",
   "metadata": {
    "jp-MarkdownHeadingCollapsed": true,
    "tags": []
   },
   "source": [
    "#### SVM"
   ]
  },
  {
   "cell_type": "code",
   "execution_count": 55,
   "id": "219f6974",
   "metadata": {},
   "outputs": [
    {
     "name": "stdout",
     "output_type": "stream",
     "text": [
      "Model name: svm__v01\n",
      "Cross validation score: 0.80053\n",
      "Best params: {'svm__C': 0.46415888336127775, 'svm__degree': 3, 'svm__kernel': 'poly'}\n",
      "Time to tune: 2623 seconds\n",
      "Kaggle submission score: 0.80032\n"
     ]
    }
   ],
   "source": [
    "MODEL_NAME = \"svm__v01\"\n",
    "\n",
    "if not os.path.exists(os.path.join(REPO_MODEL, MODEL_NAME + \".json\")):\n",
    "    !python script_tuning.py $MODEL_NAME\n",
    "\n",
    "analyze_model(\n",
    "    model_name=MODEL_NAME, \n",
    "    repo_model=REPO_MODEL, \n",
    "    repo_submission=REPO_SUBMISSION, \n",
    "    X_train=X_train, \n",
    "    y_train=y_train, \n",
    "    X_test=X_test, \n",
    "    list_passenger_id=list_passenger_id\n",
    ")"
   ]
  },
  {
   "cell_type": "markdown",
   "id": "9955d7fa",
   "metadata": {
    "jp-MarkdownHeadingCollapsed": true,
    "tags": []
   },
   "source": [
    "### Pipeline v2"
   ]
  },
  {
   "cell_type": "markdown",
   "id": "04b58eac",
   "metadata": {
    "jp-MarkdownHeadingCollapsed": true,
    "tags": []
   },
   "source": [
    "#### Logistic regression"
   ]
  },
  {
   "cell_type": "code",
   "execution_count": 56,
   "id": "32b90687",
   "metadata": {},
   "outputs": [
    {
     "name": "stdout",
     "output_type": "stream",
     "text": [
      "Model name: logistic_regression__v02\n",
      "Cross validation score: 0.78155\n",
      "Best params: {'feature_selection__k': 15, 'logistic__C': 0.021544346900318822, 'logistic__l1_ratio': 0.1, 'logistic__penalty': 'elasticnet', 'logistic__solver': 'saga'}\n",
      "Time to tune: 12903 seconds\n",
      "Kaggle submission score: 0.78349\n"
     ]
    }
   ],
   "source": [
    "MODEL_NAME = \"logistic_regression__v02\"\n",
    "\n",
    "if not os.path.exists(os.path.join(REPO_MODEL, MODEL_NAME + \".json\")):\n",
    "    !python script_tuning.py $MODEL_NAME\n",
    "\n",
    "analyze_model(\n",
    "    model_name=MODEL_NAME, \n",
    "    repo_model=REPO_MODEL, \n",
    "    repo_submission=REPO_SUBMISSION, \n",
    "    X_train=X_train, \n",
    "    y_train=y_train, \n",
    "    X_test=X_test, \n",
    "    list_passenger_id=list_passenger_id\n",
    ")"
   ]
  },
  {
   "cell_type": "markdown",
   "id": "2ff76e22",
   "metadata": {
    "jp-MarkdownHeadingCollapsed": true,
    "tags": []
   },
   "source": [
    "#### KNN"
   ]
  },
  {
   "cell_type": "code",
   "execution_count": 58,
   "id": "b8e7855d",
   "metadata": {},
   "outputs": [
    {
     "name": "stdout",
     "output_type": "stream",
     "text": [
      "Model name: knn__v02\n",
      "Cross validation score: 0.79029\n",
      "Best params: {'feature_selection__k': 18, 'knn__n_neighbors': 31, 'knn__p': 1, 'knn__weights': 'uniform'}\n",
      "Time to tune: 64065 seconds\n",
      "Kaggle submission score: 0.78442\n"
     ]
    }
   ],
   "source": [
    "MODEL_NAME = \"knn__v02\"\n",
    "\n",
    "if not os.path.exists(os.path.join(REPO_MODEL, MODEL_NAME + \".json\")):\n",
    "    !python script_tuning.py $MODEL_NAME\n",
    "\n",
    "analyze_model(\n",
    "    model_name=MODEL_NAME, \n",
    "    repo_model=REPO_MODEL, \n",
    "    repo_submission=REPO_SUBMISSION, \n",
    "    X_train=X_train, \n",
    "    y_train=y_train, \n",
    "    X_test=X_test, \n",
    "    list_passenger_id=list_passenger_id\n",
    ")"
   ]
  },
  {
   "cell_type": "markdown",
   "id": "2744178d",
   "metadata": {
    "jp-MarkdownHeadingCollapsed": true,
    "tags": []
   },
   "source": [
    "#### SVM"
   ]
  },
  {
   "cell_type": "code",
   "execution_count": 57,
   "id": "986ed83b",
   "metadata": {},
   "outputs": [
    {
     "name": "stdout",
     "output_type": "stream",
     "text": [
      "Model name: svm__v02\n",
      "Cross validation score: 0.80122\n",
      "Best params: {'feature_selection__k': 20, 'svm__C': 0.46415888336127775, 'svm__degree': 3, 'svm__kernel': 'poly'}\n",
      "Time to tune: 307954 seconds\n",
      "Kaggle submission score: 0.79892\n"
     ]
    }
   ],
   "source": [
    "MODEL_NAME = \"svm__v02\"\n",
    "\n",
    "if not os.path.exists(os.path.join(REPO_MODEL, MODEL_NAME + \".json\")):\n",
    "    !python script_tuning.py $MODEL_NAME\n",
    "\n",
    "analyze_model(\n",
    "    model_name=MODEL_NAME, \n",
    "    repo_model=REPO_MODEL, \n",
    "    repo_submission=REPO_SUBMISSION, \n",
    "    X_train=X_train, \n",
    "    y_train=y_train, \n",
    "    X_test=X_test, \n",
    "    list_passenger_id=list_passenger_id\n",
    ")"
   ]
  },
  {
   "cell_type": "markdown",
   "id": "388680f3",
   "metadata": {
    "jp-MarkdownHeadingCollapsed": true,
    "tags": []
   },
   "source": [
    "### Pipeline v3"
   ]
  },
  {
   "cell_type": "markdown",
   "id": "12c682a0",
   "metadata": {
    "jp-MarkdownHeadingCollapsed": true,
    "tags": []
   },
   "source": [
    "#### Logistic regression"
   ]
  },
  {
   "cell_type": "code",
   "execution_count": null,
   "id": "d8531528",
   "metadata": {},
   "outputs": [],
   "source": [
    "MODEL_NAME = \"logistic_regression__v03\"\n",
    "\n",
    "if not os.path.exists(os.path.join(REPO_MODEL, MODEL_NAME + \".json\")):\n",
    "    !python script_tuning.py $MODEL_NAME\n",
    "\n",
    "analyze_model(\n",
    "    model_name=MODEL_NAME, \n",
    "    repo_model=REPO_MODEL, \n",
    "    repo_submission=REPO_SUBMISSION, \n",
    "    X_train=X_train, \n",
    "    y_train=y_train, \n",
    "    X_test=X_test, \n",
    "    list_passenger_id=list_passenger_id\n",
    ")"
   ]
  },
  {
   "cell_type": "markdown",
   "id": "42681cbb",
   "metadata": {
    "jp-MarkdownHeadingCollapsed": true,
    "tags": []
   },
   "source": [
    "#### KNN"
   ]
  },
  {
   "cell_type": "code",
   "execution_count": 7,
   "id": "e7c00af4",
   "metadata": {},
   "outputs": [
    {
     "name": "stdout",
     "output_type": "stream",
     "text": [
      "Model name: knn__v03\n",
      "Cross validation score: 0.79593\n",
      "Best params: {'feature_selection__k': 13, 'knn__n_neighbors': 48, 'knn__p': 1, 'knn__weights': 'uniform'}\n",
      "Time to tune: 75335 seconds\n",
      "Kaggle submission score: 0.78887\n"
     ]
    }
   ],
   "source": [
    "MODEL_NAME = \"knn__v03\"\n",
    "\n",
    "if not os.path.exists(os.path.join(REPO_MODEL, MODEL_NAME + \".json\")):\n",
    "    !python script_tuning.py $MODEL_NAME\n",
    "\n",
    "analyze_model(\n",
    "    model_name=MODEL_NAME, \n",
    "    repo_model=REPO_MODEL, \n",
    "    repo_submission=REPO_SUBMISSION, \n",
    "    X_train=X_train, \n",
    "    y_train=y_train, \n",
    "    X_test=X_test, \n",
    "    list_passenger_id=list_passenger_id\n",
    ")"
   ]
  },
  {
   "cell_type": "markdown",
   "id": "fcd019b6",
   "metadata": {
    "jp-MarkdownHeadingCollapsed": true,
    "tags": []
   },
   "source": [
    "#### SVM"
   ]
  },
  {
   "cell_type": "code",
   "execution_count": null,
   "id": "16ec33fd",
   "metadata": {},
   "outputs": [],
   "source": [
    "MODEL_NAME = \"svm__v03\"\n",
    "\n",
    "if not os.path.exists(os.path.join(REPO_MODEL, MODEL_NAME + \".json\")):\n",
    "    !python script_tuning.py $MODEL_NAME\n",
    "\n",
    "analyze_model(\n",
    "    model_name=MODEL_NAME, \n",
    "    repo_model=REPO_MODEL, \n",
    "    repo_submission=REPO_SUBMISSION, \n",
    "    X_train=X_train, \n",
    "    y_train=y_train, \n",
    "    X_test=X_test, \n",
    "    list_passenger_id=list_passenger_id\n",
    ")"
   ]
  },
  {
   "cell_type": "markdown",
   "id": "4dfb610f",
   "metadata": {
    "jp-MarkdownHeadingCollapsed": true,
    "tags": []
   },
   "source": [
    "### Pipeline v4"
   ]
  },
  {
   "cell_type": "markdown",
   "id": "1f0a8548",
   "metadata": {
    "jp-MarkdownHeadingCollapsed": true,
    "tags": []
   },
   "source": [
    "#### Logistic regression"
   ]
  },
  {
   "cell_type": "code",
   "execution_count": null,
   "id": "c01fdf6d",
   "metadata": {},
   "outputs": [],
   "source": [
    "MODEL_NAME = \"logistic_regression__v04\"\n",
    "\n",
    "if not os.path.exists(os.path.join(REPO_MODEL, MODEL_NAME + \".json\")):\n",
    "    !python script_tuning.py $MODEL_NAME\n",
    "\n",
    "analyze_model(\n",
    "    model_name=MODEL_NAME, \n",
    "    repo_model=REPO_MODEL, \n",
    "    repo_submission=REPO_SUBMISSION, \n",
    "    X_train=X_train, \n",
    "    y_train=y_train, \n",
    "    X_test=X_test, \n",
    "    list_passenger_id=list_passenger_id\n",
    ")"
   ]
  },
  {
   "cell_type": "markdown",
   "id": "29f02a07",
   "metadata": {
    "jp-MarkdownHeadingCollapsed": true,
    "tags": []
   },
   "source": [
    "#### KNN"
   ]
  },
  {
   "cell_type": "code",
   "execution_count": null,
   "id": "df1faf5a",
   "metadata": {},
   "outputs": [],
   "source": [
    "MODEL_NAME = \"knn__v04\"\n",
    "\n",
    "if not os.path.exists(os.path.join(REPO_MODEL, MODEL_NAME + \".json\")):\n",
    "    !python script_tuning.py $MODEL_NAME\n",
    "\n",
    "analyze_model(\n",
    "    model_name=MODEL_NAME, \n",
    "    repo_model=REPO_MODEL, \n",
    "    repo_submission=REPO_SUBMISSION, \n",
    "    X_train=X_train, \n",
    "    y_train=y_train, \n",
    "    X_test=X_test, \n",
    "    list_passenger_id=list_passenger_id\n",
    ")"
   ]
  },
  {
   "cell_type": "markdown",
   "id": "a6758366",
   "metadata": {
    "jp-MarkdownHeadingCollapsed": true,
    "tags": []
   },
   "source": [
    "#### SVM"
   ]
  },
  {
   "cell_type": "code",
   "execution_count": null,
   "id": "ef576f25",
   "metadata": {},
   "outputs": [],
   "source": [
    "MODEL_NAME = \"svm__v04\"\n",
    "\n",
    "if not os.path.exists(os.path.join(REPO_MODEL, MODEL_NAME + \".json\")):\n",
    "    !python script_tuning.py $MODEL_NAME\n",
    "\n",
    "analyze_model(\n",
    "    model_name=MODEL_NAME, \n",
    "    repo_model=REPO_MODEL, \n",
    "    repo_submission=REPO_SUBMISSION, \n",
    "    X_train=X_train, \n",
    "    y_train=y_train, \n",
    "    X_test=X_test, \n",
    "    list_passenger_id=list_passenger_id\n",
    ")"
   ]
  },
  {
   "cell_type": "markdown",
   "id": "56cbb174",
   "metadata": {
    "jp-MarkdownHeadingCollapsed": true,
    "tags": []
   },
   "source": [
    "### Pipeline v5"
   ]
  },
  {
   "cell_type": "markdown",
   "id": "d093cd6f",
   "metadata": {
    "jp-MarkdownHeadingCollapsed": true,
    "tags": []
   },
   "source": [
    "#### Logistic regression"
   ]
  },
  {
   "cell_type": "code",
   "execution_count": null,
   "id": "ea1fb04f",
   "metadata": {},
   "outputs": [],
   "source": [
    "MODEL_NAME = \"logistic_regression__v05\"\n",
    "\n",
    "if not os.path.exists(os.path.join(REPO_MODEL, MODEL_NAME + \".json\")):\n",
    "    !python script_tuning.py $MODEL_NAME\n",
    "\n",
    "analyze_model(\n",
    "    model_name=MODEL_NAME, \n",
    "    repo_model=REPO_MODEL, \n",
    "    repo_submission=REPO_SUBMISSION, \n",
    "    X_train=X_train, \n",
    "    y_train=y_train, \n",
    "    X_test=X_test, \n",
    "    list_passenger_id=list_passenger_id\n",
    ")"
   ]
  },
  {
   "cell_type": "markdown",
   "id": "69b3a745",
   "metadata": {
    "jp-MarkdownHeadingCollapsed": true,
    "tags": []
   },
   "source": [
    "#### KNN"
   ]
  },
  {
   "cell_type": "code",
   "execution_count": null,
   "id": "bc415ffd",
   "metadata": {},
   "outputs": [],
   "source": [
    "MODEL_NAME = \"knn__v05\"\n",
    "\n",
    "if not os.path.exists(os.path.join(REPO_MODEL, MODEL_NAME + \".json\")):\n",
    "    !python script_tuning.py $MODEL_NAME\n",
    "\n",
    "analyze_model(\n",
    "    model_name=MODEL_NAME, \n",
    "    repo_model=REPO_MODEL, \n",
    "    repo_submission=REPO_SUBMISSION, \n",
    "    X_train=X_train, \n",
    "    y_train=y_train, \n",
    "    X_test=X_test, \n",
    "    list_passenger_id=list_passenger_id\n",
    ")"
   ]
  },
  {
   "cell_type": "markdown",
   "id": "aebc02e3",
   "metadata": {
    "jp-MarkdownHeadingCollapsed": true,
    "tags": []
   },
   "source": [
    "#### SVM"
   ]
  },
  {
   "cell_type": "code",
   "execution_count": null,
   "id": "92830077",
   "metadata": {},
   "outputs": [],
   "source": [
    "MODEL_NAME = \"svm__v05\"\n",
    "\n",
    "if not os.path.exists(os.path.join(REPO_MODEL, MODEL_NAME + \".json\")):\n",
    "    !python script_tuning.py $MODEL_NAME\n",
    "\n",
    "analyze_model(\n",
    "    model_name=MODEL_NAME, \n",
    "    repo_model=REPO_MODEL, \n",
    "    repo_submission=REPO_SUBMISSION, \n",
    "    X_train=X_train, \n",
    "    y_train=y_train, \n",
    "    X_test=X_test, \n",
    "    list_passenger_id=list_passenger_id\n",
    ")"
   ]
  },
  {
   "cell_type": "markdown",
   "id": "6e3d0d50",
   "metadata": {
    "jp-MarkdownHeadingCollapsed": true,
    "tags": []
   },
   "source": [
    "### Pipeline v6"
   ]
  },
  {
   "cell_type": "markdown",
   "id": "33c5ef2e",
   "metadata": {
    "jp-MarkdownHeadingCollapsed": true,
    "tags": []
   },
   "source": [
    "#### Logistic regression"
   ]
  },
  {
   "cell_type": "code",
   "execution_count": null,
   "id": "262b21e8",
   "metadata": {},
   "outputs": [],
   "source": [
    "MODEL_NAME = \"logistic_regression__v06\"\n",
    "\n",
    "if not os.path.exists(os.path.join(REPO_MODEL, MODEL_NAME + \".json\")):\n",
    "    !python script_tuning.py $MODEL_NAME\n",
    "\n",
    "analyze_model(\n",
    "    model_name=MODEL_NAME, \n",
    "    repo_model=REPO_MODEL, \n",
    "    repo_submission=REPO_SUBMISSION, \n",
    "    X_train=X_train, \n",
    "    y_train=y_train, \n",
    "    X_test=X_test, \n",
    "    list_passenger_id=list_passenger_id\n",
    ")"
   ]
  },
  {
   "cell_type": "markdown",
   "id": "8fa4bc31",
   "metadata": {
    "jp-MarkdownHeadingCollapsed": true,
    "tags": []
   },
   "source": [
    "#### KNN"
   ]
  },
  {
   "cell_type": "code",
   "execution_count": null,
   "id": "bab1aee6",
   "metadata": {},
   "outputs": [],
   "source": [
    "MODEL_NAME = \"knn__v06\"\n",
    "\n",
    "if not os.path.exists(os.path.join(REPO_MODEL, MODEL_NAME + \".json\")):\n",
    "    !python script_tuning.py $MODEL_NAME\n",
    "\n",
    "analyze_model(\n",
    "    model_name=MODEL_NAME, \n",
    "    repo_model=REPO_MODEL, \n",
    "    repo_submission=REPO_SUBMISSION, \n",
    "    X_train=X_train, \n",
    "    y_train=y_train, \n",
    "    X_test=X_test, \n",
    "    list_passenger_id=list_passenger_id\n",
    ")"
   ]
  },
  {
   "cell_type": "markdown",
   "id": "3de96578",
   "metadata": {
    "jp-MarkdownHeadingCollapsed": true,
    "tags": []
   },
   "source": [
    "#### SVM"
   ]
  },
  {
   "cell_type": "code",
   "execution_count": null,
   "id": "aaa32ebb",
   "metadata": {},
   "outputs": [],
   "source": [
    "MODEL_NAME = \"svm__v06\"\n",
    "\n",
    "if not os.path.exists(os.path.join(REPO_MODEL, MODEL_NAME + \".json\")):\n",
    "    !python script_tuning.py $MODEL_NAME\n",
    "\n",
    "analyze_model(\n",
    "    model_name=MODEL_NAME, \n",
    "    repo_model=REPO_MODEL, \n",
    "    repo_submission=REPO_SUBMISSION, \n",
    "    X_train=X_train, \n",
    "    y_train=y_train, \n",
    "    X_test=X_test, \n",
    "    list_passenger_id=list_passenger_id\n",
    ")"
   ]
  },
  {
   "cell_type": "markdown",
   "id": "c8bbd269",
   "metadata": {
    "jp-MarkdownHeadingCollapsed": true,
    "tags": []
   },
   "source": [
    "### Pipeline v7"
   ]
  },
  {
   "cell_type": "markdown",
   "id": "32b65f4d",
   "metadata": {
    "jp-MarkdownHeadingCollapsed": true,
    "tags": []
   },
   "source": [
    "#### Logistic regression"
   ]
  },
  {
   "cell_type": "code",
   "execution_count": null,
   "id": "4ec3163f",
   "metadata": {},
   "outputs": [],
   "source": [
    "MODEL_NAME = \"logistic_regression__v07\"\n",
    "\n",
    "if not os.path.exists(os.path.join(REPO_MODEL, MODEL_NAME + \".json\")):\n",
    "    !python script_tuning.py $MODEL_NAME\n",
    "\n",
    "analyze_model(\n",
    "    model_name=MODEL_NAME, \n",
    "    repo_model=REPO_MODEL, \n",
    "    repo_submission=REPO_SUBMISSION, \n",
    "    X_train=X_train, \n",
    "    y_train=y_train, \n",
    "    X_test=X_test, \n",
    "    list_passenger_id=list_passenger_id\n",
    ")"
   ]
  },
  {
   "cell_type": "markdown",
   "id": "7c471536",
   "metadata": {
    "jp-MarkdownHeadingCollapsed": true,
    "tags": []
   },
   "source": [
    "#### KNN"
   ]
  },
  {
   "cell_type": "code",
   "execution_count": null,
   "id": "113a2165",
   "metadata": {},
   "outputs": [],
   "source": [
    "MODEL_NAME = \"knn__v07\"\n",
    "\n",
    "if not os.path.exists(os.path.join(REPO_MODEL, MODEL_NAME + \".json\")):\n",
    "    !python script_tuning.py $MODEL_NAME\n",
    "\n",
    "analyze_model(\n",
    "    model_name=MODEL_NAME, \n",
    "    repo_model=REPO_MODEL, \n",
    "    repo_submission=REPO_SUBMISSION, \n",
    "    X_train=X_train, \n",
    "    y_train=y_train, \n",
    "    X_test=X_test, \n",
    "    list_passenger_id=list_passenger_id\n",
    ")"
   ]
  },
  {
   "cell_type": "markdown",
   "id": "e4327e1c",
   "metadata": {
    "jp-MarkdownHeadingCollapsed": true,
    "tags": []
   },
   "source": [
    "#### SVM"
   ]
  },
  {
   "cell_type": "code",
   "execution_count": null,
   "id": "e6ceed17",
   "metadata": {},
   "outputs": [],
   "source": [
    "MODEL_NAME = \"svm__v07\"\n",
    "\n",
    "if not os.path.exists(os.path.join(REPO_MODEL, MODEL_NAME + \".json\")):\n",
    "    !python script_tuning.py $MODEL_NAME\n",
    "\n",
    "analyze_model(\n",
    "    model_name=MODEL_NAME, \n",
    "    repo_model=REPO_MODEL, \n",
    "    repo_submission=REPO_SUBMISSION, \n",
    "    X_train=X_train, \n",
    "    y_train=y_train, \n",
    "    X_test=X_test, \n",
    "    list_passenger_id=list_passenger_id\n",
    ")"
   ]
  },
  {
   "cell_type": "markdown",
   "id": "4e8480f1",
   "metadata": {
    "jp-MarkdownHeadingCollapsed": true,
    "tags": []
   },
   "source": [
    "### Pipeline v8"
   ]
  },
  {
   "cell_type": "markdown",
   "id": "b708ae41",
   "metadata": {
    "jp-MarkdownHeadingCollapsed": true,
    "tags": []
   },
   "source": [
    "#### Logistic regression"
   ]
  },
  {
   "cell_type": "code",
   "execution_count": 29,
   "id": "d180732c",
   "metadata": {},
   "outputs": [
    {
     "name": "stderr",
     "output_type": "stream",
     "text": [
      "Traceback (most recent call last):\n",
      "  File \"C:\\Users\\kevin\\Kaggle\\Titanic_Spaceship\\script_tuning.py\", line 16, in <module>\n",
      "    pipeline = get_pipeline(model_name=MODEL_NAME, X_train=X_train, y_train=y_train)\n",
      "  File \"C:\\Users\\kevin\\Kaggle\\Titanic_Spaceship\\titanic_spaceship_package\\get_pipeline.py\", line 39, in get_pipeline\n",
      "    rf = RandomForestClassifier(random_state=42, max_jobs=-1)\n",
      "TypeError: RandomForestClassifier.__init__() got an unexpected keyword argument 'max_jobs'\n"
     ]
    },
    {
     "ename": "FileNotFoundError",
     "evalue": "[Errno 2] No such file or directory: 'model\\\\logistic_regression__v08.json'",
     "output_type": "error",
     "traceback": [
      "\u001b[1;31m---------------------------------------------------------------------------\u001b[0m",
      "\u001b[1;31mFileNotFoundError\u001b[0m                         Traceback (most recent call last)",
      "Input \u001b[1;32mIn [29]\u001b[0m, in \u001b[0;36m<cell line: 8>\u001b[1;34m()\u001b[0m\n\u001b[0;32m      5\u001b[0m \u001b[38;5;28;01melse\u001b[39;00m:\n\u001b[0;32m      6\u001b[0m     \u001b[38;5;28mprint\u001b[39m(\u001b[38;5;124m\"\u001b[39m\u001b[38;5;124ma\u001b[39m\u001b[38;5;124m\"\u001b[39m)\n\u001b[1;32m----> 8\u001b[0m \u001b[43manalyze_model\u001b[49m\u001b[43m(\u001b[49m\n\u001b[0;32m      9\u001b[0m \u001b[43m    \u001b[49m\u001b[43mmodel_name\u001b[49m\u001b[38;5;241;43m=\u001b[39;49m\u001b[43mMODEL_NAME\u001b[49m\u001b[43m,\u001b[49m\u001b[43m \u001b[49m\n\u001b[0;32m     10\u001b[0m \u001b[43m    \u001b[49m\u001b[43mrepo_model\u001b[49m\u001b[38;5;241;43m=\u001b[39;49m\u001b[43mREPO_MODEL\u001b[49m\u001b[43m,\u001b[49m\u001b[43m \u001b[49m\n\u001b[0;32m     11\u001b[0m \u001b[43m    \u001b[49m\u001b[43mrepo_submission\u001b[49m\u001b[38;5;241;43m=\u001b[39;49m\u001b[43mREPO_SUBMISSION\u001b[49m\u001b[43m,\u001b[49m\u001b[43m \u001b[49m\n\u001b[0;32m     12\u001b[0m \u001b[43m    \u001b[49m\u001b[43mX_train\u001b[49m\u001b[38;5;241;43m=\u001b[39;49m\u001b[43mX_train\u001b[49m\u001b[43m,\u001b[49m\u001b[43m \u001b[49m\n\u001b[0;32m     13\u001b[0m \u001b[43m    \u001b[49m\u001b[43my_train\u001b[49m\u001b[38;5;241;43m=\u001b[39;49m\u001b[43my_train\u001b[49m\u001b[43m,\u001b[49m\u001b[43m \u001b[49m\n\u001b[0;32m     14\u001b[0m \u001b[43m    \u001b[49m\u001b[43mX_test\u001b[49m\u001b[38;5;241;43m=\u001b[39;49m\u001b[43mX_test\u001b[49m\u001b[43m,\u001b[49m\u001b[43m \u001b[49m\n\u001b[0;32m     15\u001b[0m \u001b[43m    \u001b[49m\u001b[43mlist_passenger_id\u001b[49m\u001b[38;5;241;43m=\u001b[39;49m\u001b[43mlist_passenger_id\u001b[49m\n\u001b[0;32m     16\u001b[0m \u001b[43m)\u001b[49m\n",
      "Input \u001b[1;32mIn [24]\u001b[0m, in \u001b[0;36manalyze_model\u001b[1;34m(model_name, repo_model, repo_submission, X_train, y_train, X_test, list_passenger_id)\u001b[0m\n\u001b[0;32m      1\u001b[0m \u001b[38;5;28;01mdef\u001b[39;00m \u001b[38;5;21manalyze_model\u001b[39m(model_name, repo_model, repo_submission, X_train, y_train, X_test, list_passenger_id):\n\u001b[1;32m----> 3\u001b[0m     \u001b[38;5;28;01mwith\u001b[39;00m \u001b[38;5;28;43mopen\u001b[39;49m\u001b[43m(\u001b[49m\u001b[43mos\u001b[49m\u001b[38;5;241;43m.\u001b[39;49m\u001b[43mpath\u001b[49m\u001b[38;5;241;43m.\u001b[39;49m\u001b[43mjoin\u001b[49m\u001b[43m(\u001b[49m\u001b[43mrepo_model\u001b[49m\u001b[43m,\u001b[49m\u001b[43m \u001b[49m\u001b[43mmodel_name\u001b[49m\u001b[43m \u001b[49m\u001b[38;5;241;43m+\u001b[39;49m\u001b[43m \u001b[49m\u001b[38;5;124;43m\"\u001b[39;49m\u001b[38;5;124;43m.json\u001b[39;49m\u001b[38;5;124;43m\"\u001b[39;49m\u001b[43m)\u001b[49m\u001b[43m,\u001b[49m\u001b[43m \u001b[49m\u001b[38;5;124;43m'\u001b[39;49m\u001b[38;5;124;43mr\u001b[39;49m\u001b[38;5;124;43m'\u001b[39;49m\u001b[43m)\u001b[49m \u001b[38;5;28;01mas\u001b[39;00m file:\n\u001b[0;32m      4\u001b[0m         data \u001b[38;5;241m=\u001b[39m json\u001b[38;5;241m.\u001b[39mload(file)\n\u001b[0;32m      6\u001b[0m     \u001b[38;5;28mprint\u001b[39m(\u001b[38;5;124m\"\u001b[39m\u001b[38;5;124mModel name: \u001b[39m\u001b[38;5;132;01m{}\u001b[39;00m\u001b[38;5;124m\"\u001b[39m\u001b[38;5;241m.\u001b[39mformat(data\u001b[38;5;241m.\u001b[39mget(\u001b[38;5;124m\"\u001b[39m\u001b[38;5;124mmodel_name\u001b[39m\u001b[38;5;124m\"\u001b[39m)))\n",
      "\u001b[1;31mFileNotFoundError\u001b[0m: [Errno 2] No such file or directory: 'model\\\\logistic_regression__v08.json'"
     ]
    }
   ],
   "source": [
    "MODEL_NAME = \"logistic_regression__v08\"\n",
    "\n",
    "if not os.path.exists(os.path.join(REPO_MODEL, MODEL_NAME + \".json\")):\n",
    "    !python script_tuning.py $MODEL_NAME\n",
    "\n",
    "analyze_model(\n",
    "    model_name=MODEL_NAME, \n",
    "    repo_model=REPO_MODEL, \n",
    "    repo_submission=REPO_SUBMISSION, \n",
    "    X_train=X_train, \n",
    "    y_train=y_train, \n",
    "    X_test=X_test, \n",
    "    list_passenger_id=list_passenger_id\n",
    ")"
   ]
  },
  {
   "cell_type": "markdown",
   "id": "470de828",
   "metadata": {
    "jp-MarkdownHeadingCollapsed": true,
    "tags": []
   },
   "source": [
    "#### KNN"
   ]
  },
  {
   "cell_type": "code",
   "execution_count": null,
   "id": "e076b3f9",
   "metadata": {},
   "outputs": [],
   "source": [
    "MODEL_NAME = \"knn__v08\"\n",
    "\n",
    "if not os.path.exists(os.path.join(REPO_MODEL, MODEL_NAME + \".json\")):\n",
    "    !python script_tuning.py $MODEL_NAME\n",
    "\n",
    "analyze_model(\n",
    "    model_name=MODEL_NAME, \n",
    "    repo_model=REPO_MODEL, \n",
    "    repo_submission=REPO_SUBMISSION, \n",
    "    X_train=X_train, \n",
    "    y_train=y_train, \n",
    "    X_test=X_test, \n",
    "    list_passenger_id=list_passenger_id\n",
    ")"
   ]
  },
  {
   "cell_type": "markdown",
   "id": "7f249035",
   "metadata": {
    "jp-MarkdownHeadingCollapsed": true,
    "tags": []
   },
   "source": [
    "#### SVM"
   ]
  },
  {
   "cell_type": "code",
   "execution_count": null,
   "id": "75698431",
   "metadata": {},
   "outputs": [],
   "source": [
    "MODEL_NAME = \"svm__v08\"\n",
    "\n",
    "if not os.path.exists(os.path.join(REPO_MODEL, MODEL_NAME + \".json\")):\n",
    "    !python script_tuning.py $MODEL_NAME\n",
    "\n",
    "analyze_model(\n",
    "    model_name=MODEL_NAME, \n",
    "    repo_model=REPO_MODEL, \n",
    "    repo_submission=REPO_SUBMISSION, \n",
    "    X_train=X_train, \n",
    "    y_train=y_train, \n",
    "    X_test=X_test, \n",
    "    list_passenger_id=list_passenger_id\n",
    ")"
   ]
  },
  {
   "cell_type": "markdown",
   "id": "968dbefc",
   "metadata": {
    "jp-MarkdownHeadingCollapsed": true,
    "tags": []
   },
   "source": [
    "### Pipeline v9"
   ]
  },
  {
   "cell_type": "markdown",
   "id": "96449a06",
   "metadata": {
    "jp-MarkdownHeadingCollapsed": true,
    "tags": []
   },
   "source": [
    "#### Logistic regression"
   ]
  },
  {
   "cell_type": "code",
   "execution_count": 29,
   "id": "e8aa95dd",
   "metadata": {},
   "outputs": [
    {
     "name": "stderr",
     "output_type": "stream",
     "text": [
      "Traceback (most recent call last):\n",
      "  File \"C:\\Users\\kevin\\Kaggle\\Titanic_Spaceship\\script_tuning.py\", line 16, in <module>\n",
      "    pipeline = get_pipeline(model_name=MODEL_NAME, X_train=X_train, y_train=y_train)\n",
      "  File \"C:\\Users\\kevin\\Kaggle\\Titanic_Spaceship\\titanic_spaceship_package\\get_pipeline.py\", line 39, in get_pipeline\n",
      "    rf = RandomForestClassifier(random_state=42, max_jobs=-1)\n",
      "TypeError: RandomForestClassifier.__init__() got an unexpected keyword argument 'max_jobs'\n"
     ]
    },
    {
     "ename": "FileNotFoundError",
     "evalue": "[Errno 2] No such file or directory: 'model\\\\logistic_regression__v08.json'",
     "output_type": "error",
     "traceback": [
      "\u001b[1;31m---------------------------------------------------------------------------\u001b[0m",
      "\u001b[1;31mFileNotFoundError\u001b[0m                         Traceback (most recent call last)",
      "Input \u001b[1;32mIn [29]\u001b[0m, in \u001b[0;36m<cell line: 8>\u001b[1;34m()\u001b[0m\n\u001b[0;32m      5\u001b[0m \u001b[38;5;28;01melse\u001b[39;00m:\n\u001b[0;32m      6\u001b[0m     \u001b[38;5;28mprint\u001b[39m(\u001b[38;5;124m\"\u001b[39m\u001b[38;5;124ma\u001b[39m\u001b[38;5;124m\"\u001b[39m)\n\u001b[1;32m----> 8\u001b[0m \u001b[43manalyze_model\u001b[49m\u001b[43m(\u001b[49m\n\u001b[0;32m      9\u001b[0m \u001b[43m    \u001b[49m\u001b[43mmodel_name\u001b[49m\u001b[38;5;241;43m=\u001b[39;49m\u001b[43mMODEL_NAME\u001b[49m\u001b[43m,\u001b[49m\u001b[43m \u001b[49m\n\u001b[0;32m     10\u001b[0m \u001b[43m    \u001b[49m\u001b[43mrepo_model\u001b[49m\u001b[38;5;241;43m=\u001b[39;49m\u001b[43mREPO_MODEL\u001b[49m\u001b[43m,\u001b[49m\u001b[43m \u001b[49m\n\u001b[0;32m     11\u001b[0m \u001b[43m    \u001b[49m\u001b[43mrepo_submission\u001b[49m\u001b[38;5;241;43m=\u001b[39;49m\u001b[43mREPO_SUBMISSION\u001b[49m\u001b[43m,\u001b[49m\u001b[43m \u001b[49m\n\u001b[0;32m     12\u001b[0m \u001b[43m    \u001b[49m\u001b[43mX_train\u001b[49m\u001b[38;5;241;43m=\u001b[39;49m\u001b[43mX_train\u001b[49m\u001b[43m,\u001b[49m\u001b[43m \u001b[49m\n\u001b[0;32m     13\u001b[0m \u001b[43m    \u001b[49m\u001b[43my_train\u001b[49m\u001b[38;5;241;43m=\u001b[39;49m\u001b[43my_train\u001b[49m\u001b[43m,\u001b[49m\u001b[43m \u001b[49m\n\u001b[0;32m     14\u001b[0m \u001b[43m    \u001b[49m\u001b[43mX_test\u001b[49m\u001b[38;5;241;43m=\u001b[39;49m\u001b[43mX_test\u001b[49m\u001b[43m,\u001b[49m\u001b[43m \u001b[49m\n\u001b[0;32m     15\u001b[0m \u001b[43m    \u001b[49m\u001b[43mlist_passenger_id\u001b[49m\u001b[38;5;241;43m=\u001b[39;49m\u001b[43mlist_passenger_id\u001b[49m\n\u001b[0;32m     16\u001b[0m \u001b[43m)\u001b[49m\n",
      "Input \u001b[1;32mIn [24]\u001b[0m, in \u001b[0;36manalyze_model\u001b[1;34m(model_name, repo_model, repo_submission, X_train, y_train, X_test, list_passenger_id)\u001b[0m\n\u001b[0;32m      1\u001b[0m \u001b[38;5;28;01mdef\u001b[39;00m \u001b[38;5;21manalyze_model\u001b[39m(model_name, repo_model, repo_submission, X_train, y_train, X_test, list_passenger_id):\n\u001b[1;32m----> 3\u001b[0m     \u001b[38;5;28;01mwith\u001b[39;00m \u001b[38;5;28;43mopen\u001b[39;49m\u001b[43m(\u001b[49m\u001b[43mos\u001b[49m\u001b[38;5;241;43m.\u001b[39;49m\u001b[43mpath\u001b[49m\u001b[38;5;241;43m.\u001b[39;49m\u001b[43mjoin\u001b[49m\u001b[43m(\u001b[49m\u001b[43mrepo_model\u001b[49m\u001b[43m,\u001b[49m\u001b[43m \u001b[49m\u001b[43mmodel_name\u001b[49m\u001b[43m \u001b[49m\u001b[38;5;241;43m+\u001b[39;49m\u001b[43m \u001b[49m\u001b[38;5;124;43m\"\u001b[39;49m\u001b[38;5;124;43m.json\u001b[39;49m\u001b[38;5;124;43m\"\u001b[39;49m\u001b[43m)\u001b[49m\u001b[43m,\u001b[49m\u001b[43m \u001b[49m\u001b[38;5;124;43m'\u001b[39;49m\u001b[38;5;124;43mr\u001b[39;49m\u001b[38;5;124;43m'\u001b[39;49m\u001b[43m)\u001b[49m \u001b[38;5;28;01mas\u001b[39;00m file:\n\u001b[0;32m      4\u001b[0m         data \u001b[38;5;241m=\u001b[39m json\u001b[38;5;241m.\u001b[39mload(file)\n\u001b[0;32m      6\u001b[0m     \u001b[38;5;28mprint\u001b[39m(\u001b[38;5;124m\"\u001b[39m\u001b[38;5;124mModel name: \u001b[39m\u001b[38;5;132;01m{}\u001b[39;00m\u001b[38;5;124m\"\u001b[39m\u001b[38;5;241m.\u001b[39mformat(data\u001b[38;5;241m.\u001b[39mget(\u001b[38;5;124m\"\u001b[39m\u001b[38;5;124mmodel_name\u001b[39m\u001b[38;5;124m\"\u001b[39m)))\n",
      "\u001b[1;31mFileNotFoundError\u001b[0m: [Errno 2] No such file or directory: 'model\\\\logistic_regression__v08.json'"
     ]
    }
   ],
   "source": [
    "MODEL_NAME = \"logistic_regression__v09\"\n",
    "\n",
    "if not os.path.exists(os.path.join(REPO_MODEL, MODEL_NAME + \".json\")):\n",
    "    !python script_tuning.py $MODEL_NAME\n",
    "\n",
    "analyze_model(\n",
    "    model_name=MODEL_NAME, \n",
    "    repo_model=REPO_MODEL, \n",
    "    repo_submission=REPO_SUBMISSION, \n",
    "    X_train=X_train, \n",
    "    y_train=y_train, \n",
    "    X_test=X_test, \n",
    "    list_passenger_id=list_passenger_id\n",
    ")"
   ]
  },
  {
   "cell_type": "markdown",
   "id": "46c92831",
   "metadata": {
    "jp-MarkdownHeadingCollapsed": true,
    "tags": []
   },
   "source": [
    "#### KNN"
   ]
  },
  {
   "cell_type": "code",
   "execution_count": null,
   "id": "64dab370",
   "metadata": {},
   "outputs": [],
   "source": [
    "MODEL_NAME = \"knn__v09\"\n",
    "\n",
    "if not os.path.exists(os.path.join(REPO_MODEL, MODEL_NAME + \".json\")):\n",
    "    !python script_tuning.py $MODEL_NAME\n",
    "\n",
    "analyze_model(\n",
    "    model_name=MODEL_NAME, \n",
    "    repo_model=REPO_MODEL, \n",
    "    repo_submission=REPO_SUBMISSION, \n",
    "    X_train=X_train, \n",
    "    y_train=y_train, \n",
    "    X_test=X_test, \n",
    "    list_passenger_id=list_passenger_id\n",
    ")"
   ]
  },
  {
   "cell_type": "markdown",
   "id": "332f0666",
   "metadata": {
    "jp-MarkdownHeadingCollapsed": true,
    "tags": []
   },
   "source": [
    "#### SVM"
   ]
  },
  {
   "cell_type": "code",
   "execution_count": null,
   "id": "a681e7ec",
   "metadata": {},
   "outputs": [],
   "source": [
    "MODEL_NAME = \"svm__v09\"\n",
    "\n",
    "if not os.path.exists(os.path.join(REPO_MODEL, MODEL_NAME + \".json\")):\n",
    "    !python script_tuning.py $MODEL_NAME\n",
    "\n",
    "analyze_model(\n",
    "    model_name=MODEL_NAME, \n",
    "    repo_model=REPO_MODEL, \n",
    "    repo_submission=REPO_SUBMISSION, \n",
    "    X_train=X_train, \n",
    "    y_train=y_train, \n",
    "    X_test=X_test, \n",
    "    list_passenger_id=list_passenger_id\n",
    ")"
   ]
  },
  {
   "cell_type": "markdown",
   "id": "3d790e4b",
   "metadata": {
    "jp-MarkdownHeadingCollapsed": true,
    "tags": []
   },
   "source": [
    "## Analysis"
   ]
  },
  {
   "cell_type": "code",
   "execution_count": 8,
   "id": "0d05a910",
   "metadata": {},
   "outputs": [],
   "source": [
    "VERSIONS = [str(x) if x > 9 else \"0\" + str(x) for x in range(1, 10)]\n",
    "COLUMNS = [\"Version\", \"Description\", \"Best_score\", \"Time_to_tune\", \"Score_kaggle\", \"Best_params\"]\n",
    "DESCRIPTION_VERSIONS = {\n",
    "    \"01\": \"Basic feature\",\n",
    "    \"02\": \"Basic feature with feature selection f_classif\",\n",
    "    \"03\": \"Basic feature with feature selection MI n=1\",\n",
    "    \"04\": \"Basic feature with feature selection MI n=2\",\n",
    "    \"05\": \"Basic feature with feature selection MI n=3\",\n",
    "    \"06\": \"Basic feature with feature selection MI n=4\",\n",
    "    \"07\": \"Basic feature with feature selection MI n=5\",\n",
    "    \"08\": \"Basic feature with feature selection from rf\",\n",
    "    \"09\": \"Basic feature with feature selection from ridge\",\n",
    "}"
   ]
  },
  {
   "cell_type": "markdown",
   "id": "6517300a",
   "metadata": {
    "jp-MarkdownHeadingCollapsed": true,
    "tags": []
   },
   "source": [
    "### Logistic regression"
   ]
  },
  {
   "cell_type": "code",
   "execution_count": 12,
   "id": "cc737e29",
   "metadata": {},
   "outputs": [
    {
     "data": {
      "text/html": [
       "<style type=\"text/css\">\n",
       "#T_41f94_row0_col0, #T_41f94_row0_col1, #T_41f94_row0_col2, #T_41f94_row0_col3, #T_41f94_row0_col4, #T_41f94_row0_col5 {\n",
       "  background-color: white;\n",
       "}\n",
       "#T_41f94_row1_col0, #T_41f94_row1_col1, #T_41f94_row1_col2, #T_41f94_row1_col3, #T_41f94_row1_col4, #T_41f94_row1_col5 {\n",
       "  background-color: yellow;\n",
       "}\n",
       "</style>\n",
       "<table id=\"T_41f94\">\n",
       "  <thead>\n",
       "    <tr>\n",
       "      <th class=\"blank level0\" >&nbsp;</th>\n",
       "      <th id=\"T_41f94_level0_col0\" class=\"col_heading level0 col0\" >Version</th>\n",
       "      <th id=\"T_41f94_level0_col1\" class=\"col_heading level0 col1\" >Description</th>\n",
       "      <th id=\"T_41f94_level0_col2\" class=\"col_heading level0 col2\" >Best_score</th>\n",
       "      <th id=\"T_41f94_level0_col3\" class=\"col_heading level0 col3\" >Time_to_tune</th>\n",
       "      <th id=\"T_41f94_level0_col4\" class=\"col_heading level0 col4\" >Score_kaggle</th>\n",
       "      <th id=\"T_41f94_level0_col5\" class=\"col_heading level0 col5\" >Best_params</th>\n",
       "    </tr>\n",
       "  </thead>\n",
       "  <tbody>\n",
       "    <tr>\n",
       "      <th id=\"T_41f94_level0_row0\" class=\"row_heading level0 row0\" >0</th>\n",
       "      <td id=\"T_41f94_row0_col0\" class=\"data row0 col0\" >01</td>\n",
       "      <td id=\"T_41f94_row0_col1\" class=\"data row0 col1\" >Basic feature</td>\n",
       "      <td id=\"T_41f94_row0_col2\" class=\"data row0 col2\" >0.779479</td>\n",
       "      <td id=\"T_41f94_row0_col3\" class=\"data row0 col3\" >1476</td>\n",
       "      <td id=\"T_41f94_row0_col4\" class=\"data row0 col4\" >0.784420</td>\n",
       "      <td id=\"T_41f94_row0_col5\" class=\"data row0 col5\" >{'logistic__C': 0.01, 'logistic__penalty': 'l2', 'logistic__solver': 'liblinear'}</td>\n",
       "    </tr>\n",
       "    <tr>\n",
       "      <th id=\"T_41f94_level0_row1\" class=\"row_heading level0 row1\" >1</th>\n",
       "      <td id=\"T_41f94_row1_col0\" class=\"data row1 col0\" >02</td>\n",
       "      <td id=\"T_41f94_row1_col1\" class=\"data row1 col1\" >Basic feature with feature selection f_classif</td>\n",
       "      <td id=\"T_41f94_row1_col2\" class=\"data row1 col2\" >0.781549</td>\n",
       "      <td id=\"T_41f94_row1_col3\" class=\"data row1 col3\" >12903</td>\n",
       "      <td id=\"T_41f94_row1_col4\" class=\"data row1 col4\" >0.783490</td>\n",
       "      <td id=\"T_41f94_row1_col5\" class=\"data row1 col5\" >{'feature_selection__k': 15, 'logistic__C': 0.021544346900318822, 'logistic__l1_ratio': 0.1, 'logistic__penalty': 'elasticnet', 'logistic__solver': 'saga'}</td>\n",
       "    </tr>\n",
       "  </tbody>\n",
       "</table>\n"
      ],
      "text/plain": [
       "<pandas.io.formats.style.Styler at 0x1f47e6073a0>"
      ]
     },
     "execution_count": 12,
     "metadata": {},
     "output_type": "execute_result"
    }
   ],
   "source": [
    "df_results = pd.DataFrame(columns=COLUMNS)\n",
    "NAME_MODEL = \"logistic_regression\"\n",
    "\n",
    "for version in VERSIONS:\n",
    "    \n",
    "    if os.path.exists(os.path.join(REPO_MODEL, NAME_MODEL + \"__v\" + version + \".json\")):\n",
    "        with open(os.path.join(REPO_MODEL, NAME_MODEL + \"__v\" + version + \".json\"), \"r\") as file:\n",
    "            data = json.load(file)\n",
    "        df_results = pd.concat([\n",
    "            df_results, \n",
    "            pd.DataFrame({\n",
    "                \"Version\": [version], \n",
    "                \"Description\": DESCRIPTION_VERSIONS.get(version),\n",
    "                \"Best_score\": [data[\"best_score\"]],\n",
    "                \"Time_to_tune\": [int(data[\"time_to_tune\"])],\n",
    "                \"Score_kaggle\": [data[\"score_kaggle\"]],\n",
    "                \"Best_params\": [data[\"best_params\"]],\n",
    "                \n",
    "            })])\n",
    "        \n",
    "df_results.reset_index(inplace=True, drop=True)\n",
    "df_results.style.apply(lambda row: ['background-color: yellow'] * df_results.shape[1] if row.Best_score == max(df_results.Best_score) else ['background-color: white'] * df_results.shape[1], axis=1)"
   ]
  },
  {
   "cell_type": "markdown",
   "id": "6e2d50e8",
   "metadata": {
    "jp-MarkdownHeadingCollapsed": true,
    "tags": []
   },
   "source": [
    "### KNN"
   ]
  },
  {
   "cell_type": "code",
   "execution_count": 11,
   "id": "5177365a",
   "metadata": {},
   "outputs": [
    {
     "data": {
      "text/html": [
       "<style type=\"text/css\">\n",
       "#T_d3066_row0_col0, #T_d3066_row0_col1, #T_d3066_row0_col2, #T_d3066_row0_col3, #T_d3066_row0_col4, #T_d3066_row0_col5, #T_d3066_row1_col0, #T_d3066_row1_col1, #T_d3066_row1_col2, #T_d3066_row1_col3, #T_d3066_row1_col4, #T_d3066_row1_col5 {\n",
       "  background-color: white;\n",
       "}\n",
       "#T_d3066_row2_col0, #T_d3066_row2_col1, #T_d3066_row2_col2, #T_d3066_row2_col3, #T_d3066_row2_col4, #T_d3066_row2_col5 {\n",
       "  background-color: yellow;\n",
       "}\n",
       "</style>\n",
       "<table id=\"T_d3066\">\n",
       "  <thead>\n",
       "    <tr>\n",
       "      <th class=\"blank level0\" >&nbsp;</th>\n",
       "      <th id=\"T_d3066_level0_col0\" class=\"col_heading level0 col0\" >Version</th>\n",
       "      <th id=\"T_d3066_level0_col1\" class=\"col_heading level0 col1\" >Description</th>\n",
       "      <th id=\"T_d3066_level0_col2\" class=\"col_heading level0 col2\" >Best_score</th>\n",
       "      <th id=\"T_d3066_level0_col3\" class=\"col_heading level0 col3\" >Time_to_tune</th>\n",
       "      <th id=\"T_d3066_level0_col4\" class=\"col_heading level0 col4\" >Score_kaggle</th>\n",
       "      <th id=\"T_d3066_level0_col5\" class=\"col_heading level0 col5\" >Best_params</th>\n",
       "    </tr>\n",
       "  </thead>\n",
       "  <tbody>\n",
       "    <tr>\n",
       "      <th id=\"T_d3066_level0_row0\" class=\"row_heading level0 row0\" >0</th>\n",
       "      <td id=\"T_d3066_row0_col0\" class=\"data row0 col0\" >01</td>\n",
       "      <td id=\"T_d3066_row0_col1\" class=\"data row0 col1\" >Basic feature</td>\n",
       "      <td id=\"T_d3066_row0_col2\" class=\"data row0 col2\" >0.788799</td>\n",
       "      <td id=\"T_d3066_row0_col3\" class=\"data row0 col3\" >5311</td>\n",
       "      <td id=\"T_d3066_row0_col4\" class=\"data row0 col4\" >0.787930</td>\n",
       "      <td id=\"T_d3066_row0_col5\" class=\"data row0 col5\" >{'knn__n_neighbors': 47, 'knn__p': 2, 'knn__weights': 'uniform'}</td>\n",
       "    </tr>\n",
       "    <tr>\n",
       "      <th id=\"T_d3066_level0_row1\" class=\"row_heading level0 row1\" >1</th>\n",
       "      <td id=\"T_d3066_row1_col0\" class=\"data row1 col0\" >02</td>\n",
       "      <td id=\"T_d3066_row1_col1\" class=\"data row1 col1\" >Basic feature with feature selection f_classif</td>\n",
       "      <td id=\"T_d3066_row1_col2\" class=\"data row1 col2\" >0.790294</td>\n",
       "      <td id=\"T_d3066_row1_col3\" class=\"data row1 col3\" >64065</td>\n",
       "      <td id=\"T_d3066_row1_col4\" class=\"data row1 col4\" >0.784420</td>\n",
       "      <td id=\"T_d3066_row1_col5\" class=\"data row1 col5\" >{'feature_selection__k': 18, 'knn__n_neighbors': 31, 'knn__p': 1, 'knn__weights': 'uniform'}</td>\n",
       "    </tr>\n",
       "    <tr>\n",
       "      <th id=\"T_d3066_level0_row2\" class=\"row_heading level0 row2\" >2</th>\n",
       "      <td id=\"T_d3066_row2_col0\" class=\"data row2 col0\" >03</td>\n",
       "      <td id=\"T_d3066_row2_col1\" class=\"data row2 col1\" >Basic feature with feature selection MI n=1</td>\n",
       "      <td id=\"T_d3066_row2_col2\" class=\"data row2 col2\" >0.795932</td>\n",
       "      <td id=\"T_d3066_row2_col3\" class=\"data row2 col3\" >75335</td>\n",
       "      <td id=\"T_d3066_row2_col4\" class=\"data row2 col4\" >0.788870</td>\n",
       "      <td id=\"T_d3066_row2_col5\" class=\"data row2 col5\" >{'feature_selection__k': 13, 'knn__n_neighbors': 48, 'knn__p': 1, 'knn__weights': 'uniform'}</td>\n",
       "    </tr>\n",
       "  </tbody>\n",
       "</table>\n"
      ],
      "text/plain": [
       "<pandas.io.formats.style.Styler at 0x1f47ece79d0>"
      ]
     },
     "execution_count": 11,
     "metadata": {},
     "output_type": "execute_result"
    }
   ],
   "source": [
    "df_results = pd.DataFrame(columns=COLUMNS)\n",
    "NAME_MODEL = \"knn\"\n",
    "\n",
    "for version in VERSIONS:\n",
    "    \n",
    "    if os.path.exists(os.path.join(REPO_MODEL, NAME_MODEL + \"__v\" + version + \".json\")):\n",
    "        with open(os.path.join(REPO_MODEL, NAME_MODEL + \"__v\" + version + \".json\"), \"r\") as file:\n",
    "            data = json.load(file)\n",
    "        df_results = pd.concat([\n",
    "            df_results, \n",
    "            pd.DataFrame({\n",
    "                \"Version\": [version], \n",
    "                \"Description\": DESCRIPTION_VERSIONS.get(version), \n",
    "                \"Best_score\": [data[\"best_score\"]],\n",
    "                \"Time_to_tune\": [int(data[\"time_to_tune\"])],\n",
    "                \"Score_kaggle\": [data[\"score_kaggle\"]],\n",
    "                \"Best_params\": [data[\"best_params\"]],\n",
    "            })])\n",
    "        \n",
    "df_results.reset_index(inplace=True, drop=True)\n",
    "df_results.style.apply(lambda row: ['background-color: yellow'] * df_results.shape[1] if row.Best_score == max(df_results.Best_score) else ['background-color: white'] * df_results.shape[1], axis=1)"
   ]
  },
  {
   "cell_type": "markdown",
   "id": "e88ad052",
   "metadata": {
    "jp-MarkdownHeadingCollapsed": true,
    "tags": []
   },
   "source": [
    "### SVM "
   ]
  },
  {
   "cell_type": "code",
   "execution_count": 13,
   "id": "bbc4d9ea",
   "metadata": {},
   "outputs": [
    {
     "data": {
      "text/html": [
       "<style type=\"text/css\">\n",
       "#T_efe50_row0_col0, #T_efe50_row0_col1, #T_efe50_row0_col2, #T_efe50_row0_col3, #T_efe50_row0_col4, #T_efe50_row0_col5 {\n",
       "  background-color: white;\n",
       "}\n",
       "#T_efe50_row1_col0, #T_efe50_row1_col1, #T_efe50_row1_col2, #T_efe50_row1_col3, #T_efe50_row1_col4, #T_efe50_row1_col5 {\n",
       "  background-color: yellow;\n",
       "}\n",
       "</style>\n",
       "<table id=\"T_efe50\">\n",
       "  <thead>\n",
       "    <tr>\n",
       "      <th class=\"blank level0\" >&nbsp;</th>\n",
       "      <th id=\"T_efe50_level0_col0\" class=\"col_heading level0 col0\" >Version</th>\n",
       "      <th id=\"T_efe50_level0_col1\" class=\"col_heading level0 col1\" >Description</th>\n",
       "      <th id=\"T_efe50_level0_col2\" class=\"col_heading level0 col2\" >Best_score</th>\n",
       "      <th id=\"T_efe50_level0_col3\" class=\"col_heading level0 col3\" >Time_to_tune</th>\n",
       "      <th id=\"T_efe50_level0_col4\" class=\"col_heading level0 col4\" >Score_kaggle</th>\n",
       "      <th id=\"T_efe50_level0_col5\" class=\"col_heading level0 col5\" >Best_params</th>\n",
       "    </tr>\n",
       "  </thead>\n",
       "  <tbody>\n",
       "    <tr>\n",
       "      <th id=\"T_efe50_level0_row0\" class=\"row_heading level0 row0\" >0</th>\n",
       "      <td id=\"T_efe50_row0_col0\" class=\"data row0 col0\" >01</td>\n",
       "      <td id=\"T_efe50_row0_col1\" class=\"data row0 col1\" >Basic feature</td>\n",
       "      <td id=\"T_efe50_row0_col2\" class=\"data row0 col2\" >0.800532</td>\n",
       "      <td id=\"T_efe50_row0_col3\" class=\"data row0 col3\" >2623</td>\n",
       "      <td id=\"T_efe50_row0_col4\" class=\"data row0 col4\" >0.800320</td>\n",
       "      <td id=\"T_efe50_row0_col5\" class=\"data row0 col5\" >{'svm__C': 0.46415888336127775, 'svm__degree': 3, 'svm__kernel': 'poly'}</td>\n",
       "    </tr>\n",
       "    <tr>\n",
       "      <th id=\"T_efe50_level0_row1\" class=\"row_heading level0 row1\" >1</th>\n",
       "      <td id=\"T_efe50_row1_col0\" class=\"data row1 col0\" >02</td>\n",
       "      <td id=\"T_efe50_row1_col1\" class=\"data row1 col1\" >Basic feature with feature selection f_classif</td>\n",
       "      <td id=\"T_efe50_row1_col2\" class=\"data row1 col2\" >0.801222</td>\n",
       "      <td id=\"T_efe50_row1_col3\" class=\"data row1 col3\" >307954</td>\n",
       "      <td id=\"T_efe50_row1_col4\" class=\"data row1 col4\" >0.798920</td>\n",
       "      <td id=\"T_efe50_row1_col5\" class=\"data row1 col5\" >{'feature_selection__k': 20, 'svm__C': 0.46415888336127775, 'svm__degree': 3, 'svm__kernel': 'poly'}</td>\n",
       "    </tr>\n",
       "  </tbody>\n",
       "</table>\n"
      ],
      "text/plain": [
       "<pandas.io.formats.style.Styler at 0x1f47dfb3f40>"
      ]
     },
     "execution_count": 13,
     "metadata": {},
     "output_type": "execute_result"
    }
   ],
   "source": [
    "df_results = pd.DataFrame(columns=COLUMNS)\n",
    "NAME_MODEL = \"svm\"\n",
    "\n",
    "for version in VERSIONS:\n",
    "    \n",
    "    if os.path.exists(os.path.join(REPO_MODEL, NAME_MODEL + \"__v\" + version + \".json\")):\n",
    "        with open(os.path.join(REPO_MODEL, NAME_MODEL + \"__v\" + version + \".json\"), \"r\") as file:\n",
    "            data = json.load(file)\n",
    "        df_results = pd.concat([\n",
    "            df_results, \n",
    "            pd.DataFrame({\n",
    "                \"Version\": [version], \n",
    "                \"Description\": DESCRIPTION_VERSIONS.get(version), \n",
    "                \"Best_score\": [data[\"best_score\"]],\n",
    "                \"Time_to_tune\": [int(data[\"time_to_tune\"])],\n",
    "                \"Score_kaggle\": [data[\"score_kaggle\"]],\n",
    "                \"Best_params\": [data[\"best_params\"]],\n",
    "            })])\n",
    "        \n",
    "df_results.reset_index(inplace=True, drop=True)\n",
    "df_results.style.apply(lambda row: ['background-color: yellow'] * df_results.shape[1] if row.Best_score == max(df_results.Best_score) else ['background-color: white'] * df_results.shape[1], axis=1)"
   ]
  }
 ],
 "metadata": {
  "kernelspec": {
   "display_name": "Python 3 (ipykernel)",
   "language": "python",
   "name": "python3"
  },
  "language_info": {
   "codemirror_mode": {
    "name": "ipython",
    "version": 3
   },
   "file_extension": ".py",
   "mimetype": "text/x-python",
   "name": "python",
   "nbconvert_exporter": "python",
   "pygments_lexer": "ipython3",
   "version": "3.10.4"
  }
 },
 "nbformat": 4,
 "nbformat_minor": 5
}
