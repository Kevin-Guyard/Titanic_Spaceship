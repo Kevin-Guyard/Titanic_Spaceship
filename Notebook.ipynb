{
 "cells": [
  {
   "cell_type": "markdown",
   "id": "717a9b62",
   "metadata": {
    "tags": []
   },
   "source": [
    "# Titanic spaceship kaggle competition"
   ]
  },
  {
   "cell_type": "markdown",
   "id": "22ec9d2b",
   "metadata": {
    "jp-MarkdownHeadingCollapsed": true,
    "tags": []
   },
   "source": [
    "## Initialisation"
   ]
  },
  {
   "cell_type": "code",
   "execution_count": 1,
   "id": "05025d42",
   "metadata": {},
   "outputs": [],
   "source": [
    "import numpy as np\n",
    "import pandas as pd\n",
    "import kaggle\n",
    "import os\n",
    "import json\n",
    "import time\n",
    "from titanic_spaceship_package import dataframe_preprocessing, get_pipeline"
   ]
  },
  {
   "cell_type": "code",
   "execution_count": 2,
   "id": "6f8897e3",
   "metadata": {},
   "outputs": [],
   "source": [
    "REPO_DATA = 'data'\n",
    "REPO_DATA_PREPROCESSED = 'data_preprocessed'\n",
    "REPO_MODEL = 'model'\n",
    "REPO_SUBMISSION = 'submission'"
   ]
  },
  {
   "cell_type": "code",
   "execution_count": 3,
   "id": "d2502a7e",
   "metadata": {},
   "outputs": [],
   "source": [
    "if not os.path.exists(REPO_DATA):\n",
    "    os.mkdir(REPO_DATA)\n",
    "if not os.path.exists(REPO_DATA_PREPROCESSED):\n",
    "    os.mkdir(REPO_DATA_PREPROCESSED)\n",
    "if not os.path.exists(REPO_MODEL):\n",
    "    os.mkdir(REPO_MODEL)\n",
    "if not os.path.exists(REPO_SUBMISSION):\n",
    "    os.mkdir(REPO_SUBMISSION)"
   ]
  },
  {
   "cell_type": "markdown",
   "id": "b30fa65f",
   "metadata": {
    "jp-MarkdownHeadingCollapsed": true,
    "tags": []
   },
   "source": [
    "## Load data"
   ]
  },
  {
   "cell_type": "code",
   "execution_count": 4,
   "id": "038c355e",
   "metadata": {},
   "outputs": [],
   "source": [
    "import zipfile\n",
    "\n",
    "if not os.path.exists(os.path.join(REPO_DATA, 'train.csv')) \\\n",
    "or not os.path.exists(os.path.join(REPO_DATA, 'test.csv')) \\\n",
    "or not os.path.exists(os.path.join(REPO_DATA, 'sample_submission.csv')):\n",
    "    \n",
    "    !kaggle competitions download -c spaceship-titanic -p $REPO_DATA\n",
    "    \n",
    "    with zipfile.ZipFile(os.path.join(REPO_DATA, 'spaceship-titanic.zip'), 'r') as zip_ref:\n",
    "        zip_ref.extractall(REPO_DATA)\n",
    "        \n",
    "df_train = pd.read_csv(os.path.join(REPO_DATA, 'train.csv'))\n",
    "df_test = pd.read_csv(os.path.join(REPO_DATA, 'test.csv'))"
   ]
  },
  {
   "cell_type": "code",
   "execution_count": 5,
   "id": "93293840",
   "metadata": {},
   "outputs": [],
   "source": [
    "if not os.path.exists(os.path.join(REPO_DATA_PREPROCESSED, \"X_train.csv\")) \\\n",
    "or not os.path.exists(os.path.join(REPO_DATA_PREPROCESSED, \"X_test.csv\")) \\\n",
    "or not os.path.exists(os.path.join(REPO_DATA_PREPROCESSED, \"y_train.csv\")) \\\n",
    "or not os.path.exists(os.path.join(REPO_DATA_PREPROCESSED, \"list_passenger_id.csv\")):\n",
    "    \n",
    "    X_train, X_test, y_train, list_passenger_id = dataframe_preprocessing(df_train, df_test)\n",
    "    X_train.to_csv(os.path.join(REPO_DATA_PREPROCESSED, \"X_train.csv\"), index=False)\n",
    "    X_test.to_csv(os.path.join(REPO_DATA_PREPROCESSED, \"X_test.csv\"), index=False)\n",
    "    y_train.to_csv(os.path.join(REPO_DATA_PREPROCESSED, \"y_train.csv\"), index=False)\n",
    "    list_passenger_id.to_csv(os.path.join(REPO_DATA_PREPROCESSED, \"list_passenger_id.csv\"), index=False)\n",
    "    \n",
    "else:\n",
    "    \n",
    "    X_train = pd.read_csv(os.path.join(REPO_DATA_PREPROCESSED, \"X_train.csv\"))\n",
    "    X_test = pd.read_csv(os.path.join(REPO_DATA_PREPROCESSED, \"X_test.csv\"))\n",
    "    y_train = pd.read_csv(os.path.join(REPO_DATA_PREPROCESSED, \"y_train.csv\")).Transported\n",
    "    list_passenger_id = pd.read_csv(os.path.join(REPO_DATA_PREPROCESSED, \"list_passenger_id.csv\")).PassengerId"
   ]
  },
  {
   "cell_type": "markdown",
   "id": "116a0b86",
   "metadata": {
    "jp-MarkdownHeadingCollapsed": true,
    "tags": []
   },
   "source": [
    "## Kaggle submission function"
   ]
  },
  {
   "cell_type": "code",
   "execution_count": 6,
   "id": "21704467",
   "metadata": {},
   "outputs": [],
   "source": [
    "def analyze_model(model_name, repo_model, repo_submission, X_train, y_train, X_test, list_passenger_id):\n",
    "    \n",
    "    with open(os.path.join(repo_model, model_name + \".json\"), 'r') as file:\n",
    "        data = json.load(file)\n",
    "        \n",
    "    print(\"Model name: {}\".format(data.get(\"model_name\")))\n",
    "    print(\"Cross validation score: {:.5f}\".format(data.get(\"best_score\")))\n",
    "    print(\"Best params: {}\".format(data.get(\"best_params\")))\n",
    "    print(\"Time to tune: {} seconds\".format(int(data.get(\"time_to_tune\"))))\n",
    "    \n",
    "    score_kaggle = data.get(\"score_kaggle\")\n",
    "    \n",
    "    if score_kaggle == None:\n",
    "    \n",
    "        pipeline = get_pipeline(model_name=model_name)\n",
    "        pipeline = pipeline.set_params(**data[\"best_params\"])\n",
    "        pipeline = pipeline.fit(X_train, y_train)\n",
    "        y_pred = pipeline.predict(X_test)\n",
    "\n",
    "        submission = pd.DataFrame({'PassengerId': list_passenger_id, 'Transported': y_pred})\n",
    "        submission.to_csv(os.path.join(repo_submission, model_name + \".csv\"), index=False)\n",
    "            \n",
    "        path = os.path.join(repo_submission, model_name + \".csv\")\n",
    "        request = !kaggle competitions submit -c spaceship-titanic -f $path -m $model_name\"\n",
    "                \n",
    "        time.sleep(5)\n",
    "        \n",
    "        response = !kaggle competitions submissions -c spaceship-titanic --csv\n",
    "        score_kaggle = float(response[2].split(',')[4])\n",
    "        \n",
    "        data[\"score_kaggle\"] = score_kaggle\n",
    "        \n",
    "        with open(os.path.join(repo_model, model_name + \".json\"), 'w+') as file:\n",
    "            json.dump(data, file)\n",
    "        \n",
    "    print(\"Kaggle submission score: {}\".format(score_kaggle))"
   ]
  },
  {
   "cell_type": "markdown",
   "id": "35c0e52c",
   "metadata": {
    "jp-MarkdownHeadingCollapsed": true,
    "tags": []
   },
   "source": [
    "## Basic features"
   ]
  },
  {
   "cell_type": "markdown",
   "id": "718c1ebb",
   "metadata": {
    "jp-MarkdownHeadingCollapsed": true,
    "tags": []
   },
   "source": [
    "### Pipeline v1"
   ]
  },
  {
   "cell_type": "markdown",
   "id": "2727f54f",
   "metadata": {
    "jp-MarkdownHeadingCollapsed": true,
    "tags": []
   },
   "source": [
    "#### Logistic regression"
   ]
  },
  {
   "cell_type": "code",
   "execution_count": 7,
   "id": "be6000fa",
   "metadata": {},
   "outputs": [
    {
     "name": "stdout",
     "output_type": "stream",
     "text": [
      "Model name: logistic_regression__v01\n",
      "Cross validation score: 0.77948\n",
      "Best params: {'logistic__C': 0.01, 'logistic__penalty': 'l2', 'logistic__solver': 'liblinear'}\n",
      "Time to tune: 1476 seconds\n",
      "Kaggle submission score: 0.78442\n"
     ]
    }
   ],
   "source": [
    "MODEL_NAME = \"logistic_regression__v01\"\n",
    "\n",
    "if not os.path.exists(os.path.join(REPO_MODEL, MODEL_NAME + \".json\")):\n",
    "    !python script_tuning.py $MODEL_NAME\n",
    "    \n",
    "analyze_model(\n",
    "    model_name=MODEL_NAME, \n",
    "    repo_model=REPO_MODEL, \n",
    "    repo_submission=REPO_SUBMISSION, \n",
    "    X_train=X_train, \n",
    "    y_train=y_train, \n",
    "    X_test=X_test, \n",
    "    list_passenger_id=list_passenger_id\n",
    ")"
   ]
  },
  {
   "cell_type": "markdown",
   "id": "af4a67c9",
   "metadata": {
    "jp-MarkdownHeadingCollapsed": true,
    "tags": []
   },
   "source": [
    "#### KNN"
   ]
  },
  {
   "cell_type": "code",
   "execution_count": 8,
   "id": "29193e86",
   "metadata": {},
   "outputs": [
    {
     "name": "stdout",
     "output_type": "stream",
     "text": [
      "Model name: knn__v01\n",
      "Cross validation score: 0.78880\n",
      "Best params: {'knn__n_neighbors': 47, 'knn__p': 2, 'knn__weights': 'uniform'}\n",
      "Time to tune: 5311 seconds\n",
      "Kaggle submission score: 0.78793\n"
     ]
    }
   ],
   "source": [
    "MODEL_NAME = \"knn__v01\"\n",
    "\n",
    "if not os.path.exists(os.path.join(REPO_MODEL, MODEL_NAME + \".json\")):\n",
    "    !python script_tuning.py $MODEL_NAME\n",
    "\n",
    "analyze_model(\n",
    "    model_name=MODEL_NAME, \n",
    "    repo_model=REPO_MODEL, \n",
    "    repo_submission=REPO_SUBMISSION, \n",
    "    X_train=X_train, \n",
    "    y_train=y_train, \n",
    "    X_test=X_test, \n",
    "    list_passenger_id=list_passenger_id\n",
    ")"
   ]
  },
  {
   "cell_type": "markdown",
   "id": "89b6f591",
   "metadata": {
    "jp-MarkdownHeadingCollapsed": true,
    "tags": []
   },
   "source": [
    "#### SVM"
   ]
  },
  {
   "cell_type": "code",
   "execution_count": 9,
   "id": "219f6974",
   "metadata": {},
   "outputs": [
    {
     "name": "stdout",
     "output_type": "stream",
     "text": [
      "Model name: svm__v01\n",
      "Cross validation score: 0.80053\n",
      "Best params: {'svm__C': 0.46415888336127775, 'svm__degree': 3, 'svm__kernel': 'poly'}\n",
      "Time to tune: 2623 seconds\n",
      "Kaggle submission score: 0.80032\n"
     ]
    }
   ],
   "source": [
    "MODEL_NAME = \"svm__v01\"\n",
    "\n",
    "if not os.path.exists(os.path.join(REPO_MODEL, MODEL_NAME + \".json\")):\n",
    "    !python script_tuning.py $MODEL_NAME\n",
    "\n",
    "analyze_model(\n",
    "    model_name=MODEL_NAME, \n",
    "    repo_model=REPO_MODEL, \n",
    "    repo_submission=REPO_SUBMISSION, \n",
    "    X_train=X_train, \n",
    "    y_train=y_train, \n",
    "    X_test=X_test, \n",
    "    list_passenger_id=list_passenger_id\n",
    ")"
   ]
  },
  {
   "cell_type": "markdown",
   "id": "d7f22c08-57a8-4d54-8793-2164a367b0b7",
   "metadata": {
    "jp-MarkdownHeadingCollapsed": true,
    "tags": []
   },
   "source": [
    "#### GNB"
   ]
  },
  {
   "cell_type": "code",
   "execution_count": 7,
   "id": "98c00477-3c32-412a-9eed-8ebcdc561a75",
   "metadata": {},
   "outputs": [
    {
     "name": "stdout",
     "output_type": "stream",
     "text": [
      "Model name: gnb__v01\n",
      "Cross validation score: 0.75774\n",
      "Best params: {'gnb__var_smoothing': 0.811130830789689}\n",
      "Time to tune: 42 seconds\n",
      "Kaggle submission score: 0.77016\n"
     ]
    }
   ],
   "source": [
    "MODEL_NAME = \"gnb__v01\"\n",
    "\n",
    "if not os.path.exists(os.path.join(REPO_MODEL, MODEL_NAME + \".json\")):\n",
    "    !python script_tuning.py $MODEL_NAME\n",
    "\n",
    "analyze_model(\n",
    "    model_name=MODEL_NAME, \n",
    "    repo_model=REPO_MODEL, \n",
    "    repo_submission=REPO_SUBMISSION, \n",
    "    X_train=X_train, \n",
    "    y_train=y_train, \n",
    "    X_test=X_test, \n",
    "    list_passenger_id=list_passenger_id\n",
    ")"
   ]
  },
  {
   "cell_type": "markdown",
   "id": "9955d7fa",
   "metadata": {
    "jp-MarkdownHeadingCollapsed": true,
    "tags": []
   },
   "source": [
    "### Pipeline v2"
   ]
  },
  {
   "cell_type": "markdown",
   "id": "04b58eac",
   "metadata": {
    "jp-MarkdownHeadingCollapsed": true,
    "tags": []
   },
   "source": [
    "#### Logistic regression"
   ]
  },
  {
   "cell_type": "code",
   "execution_count": 10,
   "id": "32b90687",
   "metadata": {},
   "outputs": [
    {
     "name": "stdout",
     "output_type": "stream",
     "text": [
      "Model name: logistic_regression__v02\n",
      "Cross validation score: 0.78155\n",
      "Best params: {'feature_selection__k': 15, 'logistic__C': 0.021544346900318822, 'logistic__l1_ratio': 0.1, 'logistic__penalty': 'elasticnet', 'logistic__solver': 'saga'}\n",
      "Time to tune: 12903 seconds\n",
      "Kaggle submission score: 0.78349\n"
     ]
    }
   ],
   "source": [
    "MODEL_NAME = \"logistic_regression__v02\"\n",
    "\n",
    "if not os.path.exists(os.path.join(REPO_MODEL, MODEL_NAME + \".json\")):\n",
    "    !python script_tuning.py $MODEL_NAME\n",
    "\n",
    "analyze_model(\n",
    "    model_name=MODEL_NAME, \n",
    "    repo_model=REPO_MODEL, \n",
    "    repo_submission=REPO_SUBMISSION, \n",
    "    X_train=X_train, \n",
    "    y_train=y_train, \n",
    "    X_test=X_test, \n",
    "    list_passenger_id=list_passenger_id\n",
    ")"
   ]
  },
  {
   "cell_type": "markdown",
   "id": "2ff76e22",
   "metadata": {
    "jp-MarkdownHeadingCollapsed": true,
    "tags": []
   },
   "source": [
    "#### KNN"
   ]
  },
  {
   "cell_type": "code",
   "execution_count": 11,
   "id": "b8e7855d",
   "metadata": {},
   "outputs": [
    {
     "name": "stdout",
     "output_type": "stream",
     "text": [
      "Model name: knn__v02\n",
      "Cross validation score: 0.79029\n",
      "Best params: {'feature_selection__k': 18, 'knn__n_neighbors': 31, 'knn__p': 1, 'knn__weights': 'uniform'}\n",
      "Time to tune: 64065 seconds\n",
      "Kaggle submission score: 0.78442\n"
     ]
    }
   ],
   "source": [
    "MODEL_NAME = \"knn__v02\"\n",
    "\n",
    "if not os.path.exists(os.path.join(REPO_MODEL, MODEL_NAME + \".json\")):\n",
    "    !python script_tuning.py $MODEL_NAME\n",
    "\n",
    "analyze_model(\n",
    "    model_name=MODEL_NAME, \n",
    "    repo_model=REPO_MODEL, \n",
    "    repo_submission=REPO_SUBMISSION, \n",
    "    X_train=X_train, \n",
    "    y_train=y_train, \n",
    "    X_test=X_test, \n",
    "    list_passenger_id=list_passenger_id\n",
    ")"
   ]
  },
  {
   "cell_type": "markdown",
   "id": "2744178d",
   "metadata": {
    "jp-MarkdownHeadingCollapsed": true,
    "tags": []
   },
   "source": [
    "#### SVM"
   ]
  },
  {
   "cell_type": "code",
   "execution_count": 12,
   "id": "986ed83b",
   "metadata": {},
   "outputs": [
    {
     "name": "stdout",
     "output_type": "stream",
     "text": [
      "Model name: svm__v02\n",
      "Cross validation score: 0.80122\n",
      "Best params: {'feature_selection__k': 20, 'svm__C': 0.46415888336127775, 'svm__degree': 3, 'svm__kernel': 'poly'}\n",
      "Time to tune: 307954 seconds\n",
      "Kaggle submission score: 0.79892\n"
     ]
    }
   ],
   "source": [
    "MODEL_NAME = \"svm__v02\"\n",
    "\n",
    "if not os.path.exists(os.path.join(REPO_MODEL, MODEL_NAME + \".json\")):\n",
    "    !python script_tuning.py $MODEL_NAME\n",
    "\n",
    "analyze_model(\n",
    "    model_name=MODEL_NAME, \n",
    "    repo_model=REPO_MODEL, \n",
    "    repo_submission=REPO_SUBMISSION, \n",
    "    X_train=X_train, \n",
    "    y_train=y_train, \n",
    "    X_test=X_test, \n",
    "    list_passenger_id=list_passenger_id\n",
    ")"
   ]
  },
  {
   "cell_type": "markdown",
   "id": "f43665bf-1413-4590-b2f3-c9e77d8e0ac7",
   "metadata": {
    "jp-MarkdownHeadingCollapsed": true,
    "tags": []
   },
   "source": [
    "#### GNB"
   ]
  },
  {
   "cell_type": "code",
   "execution_count": null,
   "id": "a902eb43-a3fb-4393-8941-2022bbae5940",
   "metadata": {},
   "outputs": [],
   "source": [
    "MODEL_NAME = \"gnb__v02\"\n",
    "\n",
    "if not os.path.exists(os.path.join(REPO_MODEL, MODEL_NAME + \".json\")):\n",
    "    !python script_tuning.py $MODEL_NAME\n",
    "\n",
    "analyze_model(\n",
    "    model_name=MODEL_NAME, \n",
    "    repo_model=REPO_MODEL, \n",
    "    repo_submission=REPO_SUBMISSION, \n",
    "    X_train=X_train, \n",
    "    y_train=y_train, \n",
    "    X_test=X_test, \n",
    "    list_passenger_id=list_passenger_id\n",
    ")"
   ]
  },
  {
   "cell_type": "markdown",
   "id": "388680f3",
   "metadata": {
    "jp-MarkdownHeadingCollapsed": true,
    "tags": []
   },
   "source": [
    "### Pipeline v3"
   ]
  },
  {
   "cell_type": "markdown",
   "id": "12c682a0",
   "metadata": {
    "jp-MarkdownHeadingCollapsed": true,
    "tags": []
   },
   "source": [
    "#### Logistic regression"
   ]
  },
  {
   "cell_type": "code",
   "execution_count": 13,
   "id": "d8531528",
   "metadata": {},
   "outputs": [
    {
     "name": "stdout",
     "output_type": "stream",
     "text": [
      "Model name: logistic_regression__v03\n",
      "Cross validation score: 0.78167\n",
      "Best params: {'feature_selection__k': 16, 'logistic__C': 0.21544346900318823, 'logistic__l1_ratio': 0.2, 'logistic__penalty': 'elasticnet', 'logistic__solver': 'saga'}\n",
      "Time to tune: 57133 seconds\n",
      "Kaggle submission score: 0.77928\n"
     ]
    }
   ],
   "source": [
    "MODEL_NAME = \"logistic_regression__v03\"\n",
    "\n",
    "if not os.path.exists(os.path.join(REPO_MODEL, MODEL_NAME + \".json\")):\n",
    "    !python script_tuning.py $MODEL_NAME\n",
    "\n",
    "analyze_model(\n",
    "    model_name=MODEL_NAME, \n",
    "    repo_model=REPO_MODEL, \n",
    "    repo_submission=REPO_SUBMISSION, \n",
    "    X_train=X_train, \n",
    "    y_train=y_train, \n",
    "    X_test=X_test, \n",
    "    list_passenger_id=list_passenger_id\n",
    ")"
   ]
  },
  {
   "cell_type": "markdown",
   "id": "42681cbb",
   "metadata": {
    "jp-MarkdownHeadingCollapsed": true,
    "tags": []
   },
   "source": [
    "#### KNN"
   ]
  },
  {
   "cell_type": "code",
   "execution_count": 14,
   "id": "e7c00af4",
   "metadata": {},
   "outputs": [
    {
     "name": "stdout",
     "output_type": "stream",
     "text": [
      "Model name: knn__v03\n",
      "Cross validation score: 0.79593\n",
      "Best params: {'feature_selection__k': 13, 'knn__n_neighbors': 48, 'knn__p': 1, 'knn__weights': 'uniform'}\n",
      "Time to tune: 75335 seconds\n",
      "Kaggle submission score: 0.78887\n"
     ]
    }
   ],
   "source": [
    "MODEL_NAME = \"knn__v03\"\n",
    "\n",
    "if not os.path.exists(os.path.join(REPO_MODEL, MODEL_NAME + \".json\")):\n",
    "    !python script_tuning.py $MODEL_NAME\n",
    "\n",
    "analyze_model(\n",
    "    model_name=MODEL_NAME, \n",
    "    repo_model=REPO_MODEL, \n",
    "    repo_submission=REPO_SUBMISSION, \n",
    "    X_train=X_train, \n",
    "    y_train=y_train, \n",
    "    X_test=X_test, \n",
    "    list_passenger_id=list_passenger_id\n",
    ")"
   ]
  },
  {
   "cell_type": "markdown",
   "id": "fcd019b6",
   "metadata": {
    "jp-MarkdownHeadingCollapsed": true,
    "tags": []
   },
   "source": [
    "#### SVM"
   ]
  },
  {
   "cell_type": "code",
   "execution_count": null,
   "id": "16ec33fd",
   "metadata": {},
   "outputs": [],
   "source": [
    "MODEL_NAME = \"svm__v03\"\n",
    "\n",
    "if not os.path.exists(os.path.join(REPO_MODEL, MODEL_NAME + \".json\")):\n",
    "    !python script_tuning.py $MODEL_NAME\n",
    "\n",
    "analyze_model(\n",
    "    model_name=MODEL_NAME, \n",
    "    repo_model=REPO_MODEL, \n",
    "    repo_submission=REPO_SUBMISSION, \n",
    "    X_train=X_train, \n",
    "    y_train=y_train, \n",
    "    X_test=X_test, \n",
    "    list_passenger_id=list_passenger_id\n",
    ")"
   ]
  },
  {
   "cell_type": "markdown",
   "id": "b9236a77-cd62-43d0-ac79-4565f189f52b",
   "metadata": {
    "jp-MarkdownHeadingCollapsed": true,
    "tags": []
   },
   "source": [
    "#### GNB"
   ]
  },
  {
   "cell_type": "code",
   "execution_count": null,
   "id": "796495f0-c55c-4271-a4f2-ae44d81256fa",
   "metadata": {},
   "outputs": [],
   "source": [
    "MODEL_NAME = \"gnb__v03\"\n",
    "\n",
    "if not os.path.exists(os.path.join(REPO_MODEL, MODEL_NAME + \".json\")):\n",
    "    !python script_tuning.py $MODEL_NAME\n",
    "\n",
    "analyze_model(\n",
    "    model_name=MODEL_NAME, \n",
    "    repo_model=REPO_MODEL, \n",
    "    repo_submission=REPO_SUBMISSION, \n",
    "    X_train=X_train, \n",
    "    y_train=y_train, \n",
    "    X_test=X_test, \n",
    "    list_passenger_id=list_passenger_id\n",
    ")"
   ]
  },
  {
   "cell_type": "markdown",
   "id": "4dfb610f",
   "metadata": {
    "jp-MarkdownHeadingCollapsed": true,
    "tags": []
   },
   "source": [
    "### Pipeline v4"
   ]
  },
  {
   "cell_type": "markdown",
   "id": "1f0a8548",
   "metadata": {
    "jp-MarkdownHeadingCollapsed": true,
    "tags": []
   },
   "source": [
    "#### Logistic regression"
   ]
  },
  {
   "cell_type": "code",
   "execution_count": 8,
   "id": "c01fdf6d",
   "metadata": {},
   "outputs": [
    {
     "name": "stdout",
     "output_type": "stream",
     "text": [
      "Model name: logistic_regression__v04\n",
      "Cross validation score: 0.78063\n",
      "Best params: {'feature_selection__k': 24, 'logistic__C': 0.01, 'logistic__penalty': 'l2', 'logistic__solver': 'liblinear'}\n",
      "Time to tune: 58302 seconds\n",
      "Kaggle submission score: 0.78512\n"
     ]
    }
   ],
   "source": [
    "MODEL_NAME = \"logistic_regression__v04\"\n",
    "\n",
    "if not os.path.exists(os.path.join(REPO_MODEL, MODEL_NAME + \".json\")):\n",
    "    !python script_tuning.py $MODEL_NAME\n",
    "\n",
    "analyze_model(\n",
    "    model_name=MODEL_NAME, \n",
    "    repo_model=REPO_MODEL, \n",
    "    repo_submission=REPO_SUBMISSION, \n",
    "    X_train=X_train, \n",
    "    y_train=y_train, \n",
    "    X_test=X_test, \n",
    "    list_passenger_id=list_passenger_id\n",
    ")"
   ]
  },
  {
   "cell_type": "markdown",
   "id": "29f02a07",
   "metadata": {
    "jp-MarkdownHeadingCollapsed": true,
    "tags": []
   },
   "source": [
    "#### KNN"
   ]
  },
  {
   "cell_type": "code",
   "execution_count": 9,
   "id": "df1faf5a",
   "metadata": {},
   "outputs": [
    {
     "name": "stdout",
     "output_type": "stream",
     "text": [
      "Model name: knn__v04\n",
      "Cross validation score: 0.79501\n",
      "Best params: {'feature_selection__k': 18, 'knn__n_neighbors': 33, 'knn__p': 1, 'knn__weights': 'uniform'}\n",
      "Time to tune: 105862 seconds\n",
      "Kaggle submission score: 0.78723\n"
     ]
    }
   ],
   "source": [
    "MODEL_NAME = \"knn__v04\"\n",
    "\n",
    "if not os.path.exists(os.path.join(REPO_MODEL, MODEL_NAME + \".json\")):\n",
    "    !python script_tuning.py $MODEL_NAME\n",
    "\n",
    "analyze_model(\n",
    "    model_name=MODEL_NAME, \n",
    "    repo_model=REPO_MODEL, \n",
    "    repo_submission=REPO_SUBMISSION, \n",
    "    X_train=X_train, \n",
    "    y_train=y_train, \n",
    "    X_test=X_test, \n",
    "    list_passenger_id=list_passenger_id\n",
    ")"
   ]
  },
  {
   "cell_type": "markdown",
   "id": "a6758366",
   "metadata": {
    "jp-MarkdownHeadingCollapsed": true,
    "tags": []
   },
   "source": [
    "#### SVM"
   ]
  },
  {
   "cell_type": "code",
   "execution_count": 10,
   "id": "ef576f25",
   "metadata": {},
   "outputs": [
    {
     "name": "stdout",
     "output_type": "stream",
     "text": [
      "Model name: svm__v04\n",
      "Cross validation score: 0.80019\n",
      "Best params: {'feature_selection__k': 21, 'svm__C': 4.6415888336127775, 'svm__degree': 2, 'svm__kernel': 'poly'}\n",
      "Time to tune: 226415 seconds\n",
      "Kaggle submission score: 0.79448\n"
     ]
    }
   ],
   "source": [
    "MODEL_NAME = \"svm__v04\"\n",
    "\n",
    "if not os.path.exists(os.path.join(REPO_MODEL, MODEL_NAME + \".json\")):\n",
    "    !python script_tuning.py $MODEL_NAME\n",
    "\n",
    "analyze_model(\n",
    "    model_name=MODEL_NAME, \n",
    "    repo_model=REPO_MODEL, \n",
    "    repo_submission=REPO_SUBMISSION, \n",
    "    X_train=X_train, \n",
    "    y_train=y_train, \n",
    "    X_test=X_test, \n",
    "    list_passenger_id=list_passenger_id\n",
    ")"
   ]
  },
  {
   "cell_type": "markdown",
   "id": "8d05a66f-b1d2-4fa1-bdbb-3411716b53d6",
   "metadata": {
    "jp-MarkdownHeadingCollapsed": true,
    "tags": []
   },
   "source": [
    "#### GNB"
   ]
  },
  {
   "cell_type": "code",
   "execution_count": null,
   "id": "85e60e0c-b375-431d-82f3-c396bc0d3eae",
   "metadata": {},
   "outputs": [],
   "source": [
    "MODEL_NAME = \"gnb__v04\"\n",
    "\n",
    "if not os.path.exists(os.path.join(REPO_MODEL, MODEL_NAME + \".json\")):\n",
    "    !python script_tuning.py $MODEL_NAME\n",
    "\n",
    "analyze_model(\n",
    "    model_name=MODEL_NAME, \n",
    "    repo_model=REPO_MODEL, \n",
    "    repo_submission=REPO_SUBMISSION, \n",
    "    X_train=X_train, \n",
    "    y_train=y_train, \n",
    "    X_test=X_test, \n",
    "    list_passenger_id=list_passenger_id\n",
    ")"
   ]
  },
  {
   "cell_type": "markdown",
   "id": "56cbb174",
   "metadata": {
    "jp-MarkdownHeadingCollapsed": true,
    "tags": []
   },
   "source": [
    "### Pipeline v5"
   ]
  },
  {
   "cell_type": "markdown",
   "id": "d093cd6f",
   "metadata": {
    "jp-MarkdownHeadingCollapsed": true,
    "tags": []
   },
   "source": [
    "#### Logistic regression"
   ]
  },
  {
   "cell_type": "code",
   "execution_count": 11,
   "id": "ea1fb04f",
   "metadata": {},
   "outputs": [
    {
     "name": "stdout",
     "output_type": "stream",
     "text": [
      "Model name: logistic_regression__v05\n",
      "Cross validation score: 0.78075\n",
      "Best params: {'feature_selection__k': 12, 'logistic__C': 2154.434690031878, 'logistic__l1_ratio': 0.5, 'logistic__penalty': 'elasticnet', 'logistic__solver': 'saga'}\n",
      "Time to tune: 59880 seconds\n",
      "Kaggle submission score: 0.77671\n"
     ]
    }
   ],
   "source": [
    "MODEL_NAME = \"logistic_regression__v05\"\n",
    "\n",
    "if not os.path.exists(os.path.join(REPO_MODEL, MODEL_NAME + \".json\")):\n",
    "    !python script_tuning.py $MODEL_NAME\n",
    "\n",
    "analyze_model(\n",
    "    model_name=MODEL_NAME, \n",
    "    repo_model=REPO_MODEL, \n",
    "    repo_submission=REPO_SUBMISSION, \n",
    "    X_train=X_train, \n",
    "    y_train=y_train, \n",
    "    X_test=X_test, \n",
    "    list_passenger_id=list_passenger_id\n",
    ")"
   ]
  },
  {
   "cell_type": "markdown",
   "id": "69b3a745",
   "metadata": {
    "jp-MarkdownHeadingCollapsed": true,
    "tags": []
   },
   "source": [
    "#### KNN"
   ]
  },
  {
   "cell_type": "code",
   "execution_count": 12,
   "id": "bc415ffd",
   "metadata": {},
   "outputs": [
    {
     "name": "stdout",
     "output_type": "stream",
     "text": [
      "Model name: knn__v05\n",
      "Cross validation score: 0.79248\n",
      "Best params: {'feature_selection__k': 11, 'knn__n_neighbors': 37, 'knn__p': 1, 'knn__weights': 'uniform'}\n",
      "Time to tune: 91760 seconds\n",
      "Kaggle submission score: 0.78021\n"
     ]
    }
   ],
   "source": [
    "MODEL_NAME = \"knn__v05\"\n",
    "\n",
    "if not os.path.exists(os.path.join(REPO_MODEL, MODEL_NAME + \".json\")):\n",
    "    !python script_tuning.py $MODEL_NAME\n",
    "\n",
    "analyze_model(\n",
    "    model_name=MODEL_NAME, \n",
    "    repo_model=REPO_MODEL, \n",
    "    repo_submission=REPO_SUBMISSION, \n",
    "    X_train=X_train, \n",
    "    y_train=y_train, \n",
    "    X_test=X_test, \n",
    "    list_passenger_id=list_passenger_id\n",
    ")"
   ]
  },
  {
   "cell_type": "markdown",
   "id": "aebc02e3",
   "metadata": {
    "jp-MarkdownHeadingCollapsed": true,
    "tags": []
   },
   "source": [
    "#### SVM"
   ]
  },
  {
   "cell_type": "code",
   "execution_count": 13,
   "id": "92830077",
   "metadata": {},
   "outputs": [
    {
     "name": "stdout",
     "output_type": "stream",
     "text": [
      "Model name: svm__v05\n",
      "Cross validation score: 0.80191\n",
      "Best params: {'feature_selection__k': 23, 'svm__C': 0.46415888336127775, 'svm__degree': 3, 'svm__kernel': 'poly'}\n",
      "Time to tune: 180134 seconds\n",
      "Kaggle submission score: 0.79939\n"
     ]
    }
   ],
   "source": [
    "MODEL_NAME = \"svm__v05\"\n",
    "\n",
    "if not os.path.exists(os.path.join(REPO_MODEL, MODEL_NAME + \".json\")):\n",
    "    !python script_tuning.py $MODEL_NAME\n",
    "\n",
    "analyze_model(\n",
    "    model_name=MODEL_NAME, \n",
    "    repo_model=REPO_MODEL, \n",
    "    repo_submission=REPO_SUBMISSION, \n",
    "    X_train=X_train, \n",
    "    y_train=y_train, \n",
    "    X_test=X_test, \n",
    "    list_passenger_id=list_passenger_id\n",
    ")"
   ]
  },
  {
   "cell_type": "markdown",
   "id": "73af5de2-e108-4911-a152-410fed76a622",
   "metadata": {
    "jp-MarkdownHeadingCollapsed": true,
    "tags": []
   },
   "source": [
    "#### GNB"
   ]
  },
  {
   "cell_type": "code",
   "execution_count": null,
   "id": "cb6e761b-c470-490b-8cb8-4b55ba9417bf",
   "metadata": {},
   "outputs": [],
   "source": [
    "MODEL_NAME = \"gnb__v05\"\n",
    "\n",
    "if not os.path.exists(os.path.join(REPO_MODEL, MODEL_NAME + \".json\")):\n",
    "    !python script_tuning.py $MODEL_NAME\n",
    "\n",
    "analyze_model(\n",
    "    model_name=MODEL_NAME, \n",
    "    repo_model=REPO_MODEL, \n",
    "    repo_submission=REPO_SUBMISSION, \n",
    "    X_train=X_train, \n",
    "    y_train=y_train, \n",
    "    X_test=X_test, \n",
    "    list_passenger_id=list_passenger_id\n",
    ")"
   ]
  },
  {
   "cell_type": "markdown",
   "id": "6e3d0d50",
   "metadata": {
    "jp-MarkdownHeadingCollapsed": true,
    "tags": []
   },
   "source": [
    "### Pipeline v6"
   ]
  },
  {
   "cell_type": "markdown",
   "id": "33c5ef2e",
   "metadata": {
    "jp-MarkdownHeadingCollapsed": true,
    "tags": []
   },
   "source": [
    "#### Logistic regression"
   ]
  },
  {
   "cell_type": "code",
   "execution_count": 14,
   "id": "262b21e8",
   "metadata": {},
   "outputs": [
    {
     "name": "stdout",
     "output_type": "stream",
     "text": [
      "Model name: logistic_regression__v06\n",
      "Cross validation score: 0.78040\n",
      "Best params: {'feature_selection__k': 15, 'logistic__C': 4641.588833612773, 'logistic__l1_ratio': 0.8, 'logistic__penalty': 'elasticnet', 'logistic__solver': 'saga'}\n",
      "Time to tune: 61262 seconds\n",
      "Kaggle submission score: 0.78255\n"
     ]
    }
   ],
   "source": [
    "MODEL_NAME = \"logistic_regression__v06\"\n",
    "\n",
    "if not os.path.exists(os.path.join(REPO_MODEL, MODEL_NAME + \".json\")):\n",
    "    !python script_tuning.py $MODEL_NAME\n",
    "\n",
    "analyze_model(\n",
    "    model_name=MODEL_NAME, \n",
    "    repo_model=REPO_MODEL, \n",
    "    repo_submission=REPO_SUBMISSION, \n",
    "    X_train=X_train, \n",
    "    y_train=y_train, \n",
    "    X_test=X_test, \n",
    "    list_passenger_id=list_passenger_id\n",
    ")"
   ]
  },
  {
   "cell_type": "markdown",
   "id": "8fa4bc31",
   "metadata": {
    "jp-MarkdownHeadingCollapsed": true,
    "tags": []
   },
   "source": [
    "#### KNN"
   ]
  },
  {
   "cell_type": "code",
   "execution_count": 15,
   "id": "bab1aee6",
   "metadata": {},
   "outputs": [
    {
     "name": "stdout",
     "output_type": "stream",
     "text": [
      "Model name: knn__v06\n",
      "Cross validation score: 0.79340\n",
      "Best params: {'feature_selection__k': 13, 'knn__n_neighbors': 49, 'knn__p': 1, 'knn__weights': 'uniform'}\n",
      "Time to tune: 110870 seconds\n",
      "Kaggle submission score: 0.78559\n"
     ]
    }
   ],
   "source": [
    "MODEL_NAME = \"knn__v06\"\n",
    "\n",
    "if not os.path.exists(os.path.join(REPO_MODEL, MODEL_NAME + \".json\")):\n",
    "    !python script_tuning.py $MODEL_NAME\n",
    "\n",
    "analyze_model(\n",
    "    model_name=MODEL_NAME, \n",
    "    repo_model=REPO_MODEL, \n",
    "    repo_submission=REPO_SUBMISSION, \n",
    "    X_train=X_train, \n",
    "    y_train=y_train, \n",
    "    X_test=X_test, \n",
    "    list_passenger_id=list_passenger_id\n",
    ")"
   ]
  },
  {
   "cell_type": "markdown",
   "id": "3de96578",
   "metadata": {
    "jp-MarkdownHeadingCollapsed": true,
    "tags": []
   },
   "source": [
    "#### SVM"
   ]
  },
  {
   "cell_type": "code",
   "execution_count": 16,
   "id": "aaa32ebb",
   "metadata": {},
   "outputs": [
    {
     "name": "stdout",
     "output_type": "stream",
     "text": [
      "Model name: svm__v06\n",
      "Cross validation score: 0.80065\n",
      "Best params: {'feature_selection__k': 24, 'svm__C': 0.46415888336127775, 'svm__degree': 3, 'svm__kernel': 'poly'}\n",
      "Time to tune: 209248 seconds\n",
      "Kaggle submission score: 0.79939\n"
     ]
    }
   ],
   "source": [
    "MODEL_NAME = \"svm__v06\"\n",
    "\n",
    "if not os.path.exists(os.path.join(REPO_MODEL, MODEL_NAME + \".json\")):\n",
    "    !python script_tuning.py $MODEL_NAME\n",
    "\n",
    "analyze_model(\n",
    "    model_name=MODEL_NAME, \n",
    "    repo_model=REPO_MODEL, \n",
    "    repo_submission=REPO_SUBMISSION, \n",
    "    X_train=X_train, \n",
    "    y_train=y_train, \n",
    "    X_test=X_test, \n",
    "    list_passenger_id=list_passenger_id\n",
    ")"
   ]
  },
  {
   "cell_type": "markdown",
   "id": "ac4690cb-2518-40ee-986a-efad89e741c8",
   "metadata": {
    "jp-MarkdownHeadingCollapsed": true,
    "tags": []
   },
   "source": [
    "#### GNB"
   ]
  },
  {
   "cell_type": "code",
   "execution_count": null,
   "id": "06ce4d94-522f-4170-847c-5a3cc432049c",
   "metadata": {},
   "outputs": [],
   "source": [
    "MODEL_NAME = \"gnb__v06\"\n",
    "\n",
    "if not os.path.exists(os.path.join(REPO_MODEL, MODEL_NAME + \".json\")):\n",
    "    !python script_tuning.py $MODEL_NAME\n",
    "\n",
    "analyze_model(\n",
    "    model_name=MODEL_NAME, \n",
    "    repo_model=REPO_MODEL, \n",
    "    repo_submission=REPO_SUBMISSION, \n",
    "    X_train=X_train, \n",
    "    y_train=y_train, \n",
    "    X_test=X_test, \n",
    "    list_passenger_id=list_passenger_id\n",
    ")"
   ]
  },
  {
   "cell_type": "markdown",
   "id": "c8bbd269",
   "metadata": {
    "jp-MarkdownHeadingCollapsed": true,
    "tags": []
   },
   "source": [
    "### Pipeline v7"
   ]
  },
  {
   "cell_type": "markdown",
   "id": "32b65f4d",
   "metadata": {
    "jp-MarkdownHeadingCollapsed": true,
    "tags": []
   },
   "source": [
    "#### Logistic regression"
   ]
  },
  {
   "cell_type": "code",
   "execution_count": 17,
   "id": "4ec3163f",
   "metadata": {},
   "outputs": [
    {
     "name": "stdout",
     "output_type": "stream",
     "text": [
      "Model name: logistic_regression__v07\n",
      "Cross validation score: 0.78074\n",
      "Best params: {'feature_selection__k': 15, 'logistic__C': 10000.0, 'logistic__penalty': 'l2', 'logistic__solver': 'liblinear'}\n",
      "Time to tune: 62178 seconds\n",
      "Kaggle submission score: 0.78209\n"
     ]
    }
   ],
   "source": [
    "MODEL_NAME = \"logistic_regression__v07\"\n",
    "\n",
    "if not os.path.exists(os.path.join(REPO_MODEL, MODEL_NAME + \".json\")):\n",
    "    !python script_tuning.py $MODEL_NAME\n",
    "\n",
    "analyze_model(\n",
    "    model_name=MODEL_NAME, \n",
    "    repo_model=REPO_MODEL, \n",
    "    repo_submission=REPO_SUBMISSION, \n",
    "    X_train=X_train, \n",
    "    y_train=y_train, \n",
    "    X_test=X_test, \n",
    "    list_passenger_id=list_passenger_id\n",
    ")"
   ]
  },
  {
   "cell_type": "markdown",
   "id": "7c471536",
   "metadata": {
    "jp-MarkdownHeadingCollapsed": true,
    "tags": []
   },
   "source": [
    "#### KNN"
   ]
  },
  {
   "cell_type": "code",
   "execution_count": 18,
   "id": "113a2165",
   "metadata": {},
   "outputs": [
    {
     "name": "stdout",
     "output_type": "stream",
     "text": [
      "Model name: knn__v07\n",
      "Cross validation score: 0.79363\n",
      "Best params: {'feature_selection__k': 16, 'knn__n_neighbors': 51, 'knn__p': 1, 'knn__weights': 'uniform'}\n",
      "Time to tune: 113486 seconds\n",
      "Kaggle submission score: 0.78863\n"
     ]
    }
   ],
   "source": [
    "MODEL_NAME = \"knn__v07\"\n",
    "\n",
    "if not os.path.exists(os.path.join(REPO_MODEL, MODEL_NAME + \".json\")):\n",
    "    !python script_tuning.py $MODEL_NAME\n",
    "\n",
    "analyze_model(\n",
    "    model_name=MODEL_NAME, \n",
    "    repo_model=REPO_MODEL, \n",
    "    repo_submission=REPO_SUBMISSION, \n",
    "    X_train=X_train, \n",
    "    y_train=y_train, \n",
    "    X_test=X_test, \n",
    "    list_passenger_id=list_passenger_id\n",
    ")"
   ]
  },
  {
   "cell_type": "markdown",
   "id": "e4327e1c",
   "metadata": {
    "jp-MarkdownHeadingCollapsed": true,
    "tags": []
   },
   "source": [
    "#### SVM"
   ]
  },
  {
   "cell_type": "code",
   "execution_count": 19,
   "id": "e6ceed17",
   "metadata": {},
   "outputs": [
    {
     "name": "stdout",
     "output_type": "stream",
     "text": [
      "Model name: svm__v07\n",
      "Cross validation score: 0.80122\n",
      "Best params: {'feature_selection__k': 24, 'svm__C': 1.0, 'svm__degree': 3, 'svm__kernel': 'poly'}\n",
      "Time to tune: 220124 seconds\n",
      "Kaggle submission score: 0.80009\n"
     ]
    }
   ],
   "source": [
    "MODEL_NAME = \"svm__v07\"\n",
    "\n",
    "if not os.path.exists(os.path.join(REPO_MODEL, MODEL_NAME + \".json\")):\n",
    "    !python script_tuning.py $MODEL_NAME\n",
    "\n",
    "analyze_model(\n",
    "    model_name=MODEL_NAME, \n",
    "    repo_model=REPO_MODEL, \n",
    "    repo_submission=REPO_SUBMISSION, \n",
    "    X_train=X_train, \n",
    "    y_train=y_train, \n",
    "    X_test=X_test, \n",
    "    list_passenger_id=list_passenger_id\n",
    ")"
   ]
  },
  {
   "cell_type": "markdown",
   "id": "8ebe870c-61df-4aed-b15e-feb9848ae30f",
   "metadata": {
    "jp-MarkdownHeadingCollapsed": true,
    "tags": []
   },
   "source": [
    "#### GNB"
   ]
  },
  {
   "cell_type": "code",
   "execution_count": null,
   "id": "913fca85-7cc7-452e-a673-207a8c15f020",
   "metadata": {},
   "outputs": [],
   "source": [
    "MODEL_NAME = \"gnb__v07\"\n",
    "\n",
    "if not os.path.exists(os.path.join(REPO_MODEL, MODEL_NAME + \".json\")):\n",
    "    !python script_tuning.py $MODEL_NAME\n",
    "\n",
    "analyze_model(\n",
    "    model_name=MODEL_NAME, \n",
    "    repo_model=REPO_MODEL, \n",
    "    repo_submission=REPO_SUBMISSION, \n",
    "    X_train=X_train, \n",
    "    y_train=y_train, \n",
    "    X_test=X_test, \n",
    "    list_passenger_id=list_passenger_id\n",
    ")"
   ]
  },
  {
   "cell_type": "markdown",
   "id": "4e8480f1",
   "metadata": {
    "jp-MarkdownHeadingCollapsed": true,
    "tags": []
   },
   "source": [
    "### Pipeline v8"
   ]
  },
  {
   "cell_type": "markdown",
   "id": "b708ae41",
   "metadata": {
    "jp-MarkdownHeadingCollapsed": true,
    "tags": []
   },
   "source": [
    "#### Logistic regression"
   ]
  },
  {
   "cell_type": "code",
   "execution_count": 20,
   "id": "d180732c",
   "metadata": {},
   "outputs": [
    {
     "name": "stdout",
     "output_type": "stream",
     "text": [
      "Model name: logistic_regression__v08\n",
      "Cross validation score: 0.77948\n",
      "Best params: {'feature_selection__max_features': 23, 'logistic__C': 0.01, 'logistic__penalty': 'l2', 'logistic__solver': 'liblinear'}\n",
      "Time to tune: 42744 seconds\n",
      "Kaggle submission score: 0.78419\n"
     ]
    }
   ],
   "source": [
    "MODEL_NAME = \"logistic_regression__v08\"\n",
    "\n",
    "if not os.path.exists(os.path.join(REPO_MODEL, MODEL_NAME + \".json\")):\n",
    "    !python script_tuning.py $MODEL_NAME\n",
    "\n",
    "analyze_model(\n",
    "    model_name=MODEL_NAME, \n",
    "    repo_model=REPO_MODEL, \n",
    "    repo_submission=REPO_SUBMISSION, \n",
    "    X_train=X_train, \n",
    "    y_train=y_train, \n",
    "    X_test=X_test, \n",
    "    list_passenger_id=list_passenger_id\n",
    ")"
   ]
  },
  {
   "cell_type": "markdown",
   "id": "470de828",
   "metadata": {
    "jp-MarkdownHeadingCollapsed": true,
    "tags": []
   },
   "source": [
    "#### KNN"
   ]
  },
  {
   "cell_type": "code",
   "execution_count": 21,
   "id": "e076b3f9",
   "metadata": {},
   "outputs": [
    {
     "name": "stdout",
     "output_type": "stream",
     "text": [
      "Model name: knn__v08\n",
      "Cross validation score: 0.79121\n",
      "Best params: {'feature_selection__max_features': 11, 'knn__n_neighbors': 63, 'knn__p': 1, 'knn__weights': 'uniform'}\n",
      "Time to tune: 83657 seconds\n",
      "Kaggle submission score: 0.78349\n"
     ]
    }
   ],
   "source": [
    "MODEL_NAME = \"knn__v08\"\n",
    "\n",
    "if not os.path.exists(os.path.join(REPO_MODEL, MODEL_NAME + \".json\")):\n",
    "    !python script_tuning.py $MODEL_NAME\n",
    "\n",
    "analyze_model(\n",
    "    model_name=MODEL_NAME, \n",
    "    repo_model=REPO_MODEL, \n",
    "    repo_submission=REPO_SUBMISSION, \n",
    "    X_train=X_train, \n",
    "    y_train=y_train, \n",
    "    X_test=X_test, \n",
    "    list_passenger_id=list_passenger_id\n",
    ")"
   ]
  },
  {
   "cell_type": "markdown",
   "id": "7f249035",
   "metadata": {
    "jp-MarkdownHeadingCollapsed": true,
    "tags": []
   },
   "source": [
    "#### SVM"
   ]
  },
  {
   "cell_type": "code",
   "execution_count": 22,
   "id": "75698431",
   "metadata": {},
   "outputs": [
    {
     "name": "stdout",
     "output_type": "stream",
     "text": [
      "Model name: svm__v08\n",
      "Cross validation score: 0.80168\n",
      "Best params: {'feature_selection__max_features': 25, 'svm__C': 0.46415888336127775, 'svm__degree': 3, 'svm__kernel': 'poly'}\n",
      "Time to tune: 97146 seconds\n",
      "Kaggle submission score: 0.79962\n"
     ]
    }
   ],
   "source": [
    "MODEL_NAME = \"svm__v08\"\n",
    "\n",
    "if not os.path.exists(os.path.join(REPO_MODEL, MODEL_NAME + \".json\")):\n",
    "    !python script_tuning.py $MODEL_NAME\n",
    "\n",
    "analyze_model(\n",
    "    model_name=MODEL_NAME, \n",
    "    repo_model=REPO_MODEL, \n",
    "    repo_submission=REPO_SUBMISSION, \n",
    "    X_train=X_train, \n",
    "    y_train=y_train, \n",
    "    X_test=X_test, \n",
    "    list_passenger_id=list_passenger_id\n",
    ")"
   ]
  },
  {
   "cell_type": "markdown",
   "id": "6736781f-5dd2-49c5-b6da-d2369d8aec5c",
   "metadata": {
    "jp-MarkdownHeadingCollapsed": true,
    "tags": []
   },
   "source": [
    "#### GNB"
   ]
  },
  {
   "cell_type": "code",
   "execution_count": null,
   "id": "75a60302-d1dd-4acd-9567-fa46f20bc37a",
   "metadata": {},
   "outputs": [],
   "source": [
    "MODEL_NAME = \"gnb__v08\"\n",
    "\n",
    "if not os.path.exists(os.path.join(REPO_MODEL, MODEL_NAME + \".json\")):\n",
    "    !python script_tuning.py $MODEL_NAME\n",
    "\n",
    "analyze_model(\n",
    "    model_name=MODEL_NAME, \n",
    "    repo_model=REPO_MODEL, \n",
    "    repo_submission=REPO_SUBMISSION, \n",
    "    X_train=X_train, \n",
    "    y_train=y_train, \n",
    "    X_test=X_test, \n",
    "    list_passenger_id=list_passenger_id\n",
    ")"
   ]
  },
  {
   "cell_type": "markdown",
   "id": "968dbefc",
   "metadata": {
    "jp-MarkdownHeadingCollapsed": true,
    "tags": []
   },
   "source": [
    "### Pipeline v9"
   ]
  },
  {
   "cell_type": "markdown",
   "id": "96449a06",
   "metadata": {
    "jp-MarkdownHeadingCollapsed": true,
    "tags": []
   },
   "source": [
    "#### Logistic regression"
   ]
  },
  {
   "cell_type": "code",
   "execution_count": 23,
   "id": "e8aa95dd",
   "metadata": {},
   "outputs": [
    {
     "name": "stdout",
     "output_type": "stream",
     "text": [
      "Model name: logistic_regression__v09\n",
      "Cross validation score: 0.77994\n",
      "Best params: {'feature_selection__max_features': 19, 'logistic__C': 0.021544346900318822, 'logistic__l1_ratio': 0.4, 'logistic__penalty': 'elasticnet', 'logistic__solver': 'saga'}\n",
      "Time to tune: 13259 seconds\n",
      "Kaggle submission score: 0.78115\n"
     ]
    }
   ],
   "source": [
    "MODEL_NAME = \"logistic_regression__v09\"\n",
    "\n",
    "if not os.path.exists(os.path.join(REPO_MODEL, MODEL_NAME + \".json\")):\n",
    "    !python script_tuning.py $MODEL_NAME\n",
    "\n",
    "analyze_model(\n",
    "    model_name=MODEL_NAME, \n",
    "    repo_model=REPO_MODEL, \n",
    "    repo_submission=REPO_SUBMISSION, \n",
    "    X_train=X_train, \n",
    "    y_train=y_train, \n",
    "    X_test=X_test, \n",
    "    list_passenger_id=list_passenger_id\n",
    ")"
   ]
  },
  {
   "cell_type": "markdown",
   "id": "46c92831",
   "metadata": {
    "jp-MarkdownHeadingCollapsed": true,
    "tags": []
   },
   "source": [
    "#### KNN"
   ]
  },
  {
   "cell_type": "code",
   "execution_count": 24,
   "id": "64dab370",
   "metadata": {},
   "outputs": [
    {
     "name": "stdout",
     "output_type": "stream",
     "text": [
      "Model name: knn__v09\n",
      "Cross validation score: 0.79018\n",
      "Best params: {'feature_selection__max_features': 27, 'knn__n_neighbors': 47, 'knn__p': 2, 'knn__weights': 'uniform'}\n",
      "Time to tune: 20887 seconds\n",
      "Kaggle submission score: 0.7877\n"
     ]
    }
   ],
   "source": [
    "MODEL_NAME = \"knn__v09\"\n",
    "\n",
    "if not os.path.exists(os.path.join(REPO_MODEL, MODEL_NAME + \".json\")):\n",
    "    !python script_tuning.py $MODEL_NAME\n",
    "\n",
    "analyze_model(\n",
    "    model_name=MODEL_NAME, \n",
    "    repo_model=REPO_MODEL, \n",
    "    repo_submission=REPO_SUBMISSION, \n",
    "    X_train=X_train, \n",
    "    y_train=y_train, \n",
    "    X_test=X_test, \n",
    "    list_passenger_id=list_passenger_id\n",
    ")"
   ]
  },
  {
   "cell_type": "markdown",
   "id": "332f0666",
   "metadata": {
    "jp-MarkdownHeadingCollapsed": true,
    "tags": []
   },
   "source": [
    "#### SVM"
   ]
  },
  {
   "cell_type": "code",
   "execution_count": null,
   "id": "a681e7ec",
   "metadata": {},
   "outputs": [],
   "source": [
    "MODEL_NAME = \"svm__v09\"\n",
    "\n",
    "if not os.path.exists(os.path.join(REPO_MODEL, MODEL_NAME + \".json\")):\n",
    "    !python script_tuning.py $MODEL_NAME\n",
    "\n",
    "analyze_model(\n",
    "    model_name=MODEL_NAME, \n",
    "    repo_model=REPO_MODEL, \n",
    "    repo_submission=REPO_SUBMISSION, \n",
    "    X_train=X_train, \n",
    "    y_train=y_train, \n",
    "    X_test=X_test, \n",
    "    list_passenger_id=list_passenger_id\n",
    ")"
   ]
  },
  {
   "cell_type": "markdown",
   "id": "019724a2-4603-4991-aa6c-9eb405a81304",
   "metadata": {
    "jp-MarkdownHeadingCollapsed": true,
    "tags": []
   },
   "source": [
    "#### GNB"
   ]
  },
  {
   "cell_type": "code",
   "execution_count": null,
   "id": "283a4a54-4730-4a51-a281-68796bbd3fc7",
   "metadata": {},
   "outputs": [],
   "source": [
    "MODEL_NAME = \"gnb__v09\"\n",
    "\n",
    "if not os.path.exists(os.path.join(REPO_MODEL, MODEL_NAME + \".json\")):\n",
    "    !python script_tuning.py $MODEL_NAME\n",
    "\n",
    "analyze_model(\n",
    "    model_name=MODEL_NAME, \n",
    "    repo_model=REPO_MODEL, \n",
    "    repo_submission=REPO_SUBMISSION, \n",
    "    X_train=X_train, \n",
    "    y_train=y_train, \n",
    "    X_test=X_test, \n",
    "    list_passenger_id=list_passenger_id\n",
    ")"
   ]
  },
  {
   "cell_type": "markdown",
   "id": "3d790e4b",
   "metadata": {
    "jp-MarkdownHeadingCollapsed": true,
    "tags": []
   },
   "source": [
    "## Analysis"
   ]
  },
  {
   "cell_type": "markdown",
   "id": "d73d405b-ef3d-4fd3-bad1-c4128551651a",
   "metadata": {
    "jp-MarkdownHeadingCollapsed": true,
    "tags": []
   },
   "source": [
    "### By model"
   ]
  },
  {
   "cell_type": "code",
   "execution_count": 25,
   "id": "8ce9587a-5c33-4a8f-a294-0c66a5157134",
   "metadata": {},
   "outputs": [],
   "source": [
    "VERSIONS = [str(x) if x > 9 else \"0\" + str(x) for x in range(1, 10)]\n",
    "COLUMNS = [\"Version\", \"Description\", \"Best_score\", \"Time_to_tune\", \"Score_kaggle\", \"Best_params\"]\n",
    "DESCRIPTION_VERSIONS = {\n",
    "    \"01\": \"Basic feature\",\n",
    "    \"02\": \"Basic feature with feature selection f_classif\",\n",
    "    \"03\": \"Basic feature with feature selection MI n=1\",\n",
    "    \"04\": \"Basic feature with feature selection MI n=2\",\n",
    "    \"05\": \"Basic feature with feature selection MI n=3\",\n",
    "    \"06\": \"Basic feature with feature selection MI n=4\",\n",
    "    \"07\": \"Basic feature with feature selection MI n=5\",\n",
    "    \"08\": \"Basic feature with feature selection from rf\",\n",
    "    \"09\": \"Basic feature with feature selection from ridge\",\n",
    "}"
   ]
  },
  {
   "cell_type": "markdown",
   "id": "6517300a",
   "metadata": {
    "jp-MarkdownHeadingCollapsed": true,
    "tags": []
   },
   "source": [
    "#### Logistic regression"
   ]
  },
  {
   "cell_type": "code",
   "execution_count": 26,
   "id": "cc737e29",
   "metadata": {},
   "outputs": [
    {
     "data": {
      "text/html": [
       "<style type=\"text/css\">\n",
       "#T_fdb70_row0_col0, #T_fdb70_row0_col1, #T_fdb70_row0_col2, #T_fdb70_row0_col3, #T_fdb70_row0_col4, #T_fdb70_row0_col5, #T_fdb70_row1_col0, #T_fdb70_row1_col1, #T_fdb70_row1_col2, #T_fdb70_row1_col3, #T_fdb70_row1_col4, #T_fdb70_row1_col5, #T_fdb70_row3_col0, #T_fdb70_row3_col1, #T_fdb70_row3_col2, #T_fdb70_row3_col3, #T_fdb70_row3_col4, #T_fdb70_row3_col5, #T_fdb70_row4_col0, #T_fdb70_row4_col1, #T_fdb70_row4_col2, #T_fdb70_row4_col3, #T_fdb70_row4_col4, #T_fdb70_row4_col5, #T_fdb70_row5_col0, #T_fdb70_row5_col1, #T_fdb70_row5_col2, #T_fdb70_row5_col3, #T_fdb70_row5_col4, #T_fdb70_row5_col5, #T_fdb70_row6_col0, #T_fdb70_row6_col1, #T_fdb70_row6_col2, #T_fdb70_row6_col3, #T_fdb70_row6_col4, #T_fdb70_row6_col5, #T_fdb70_row7_col0, #T_fdb70_row7_col1, #T_fdb70_row7_col2, #T_fdb70_row7_col3, #T_fdb70_row7_col4, #T_fdb70_row7_col5, #T_fdb70_row8_col0, #T_fdb70_row8_col1, #T_fdb70_row8_col2, #T_fdb70_row8_col3, #T_fdb70_row8_col4, #T_fdb70_row8_col5 {\n",
       "  background-color: white;\n",
       "}\n",
       "#T_fdb70_row2_col0, #T_fdb70_row2_col1, #T_fdb70_row2_col2, #T_fdb70_row2_col3, #T_fdb70_row2_col4, #T_fdb70_row2_col5 {\n",
       "  background-color: yellow;\n",
       "}\n",
       "</style>\n",
       "<table id=\"T_fdb70\">\n",
       "  <thead>\n",
       "    <tr>\n",
       "      <th class=\"blank level0\" >&nbsp;</th>\n",
       "      <th id=\"T_fdb70_level0_col0\" class=\"col_heading level0 col0\" >Version</th>\n",
       "      <th id=\"T_fdb70_level0_col1\" class=\"col_heading level0 col1\" >Description</th>\n",
       "      <th id=\"T_fdb70_level0_col2\" class=\"col_heading level0 col2\" >Best_score</th>\n",
       "      <th id=\"T_fdb70_level0_col3\" class=\"col_heading level0 col3\" >Time_to_tune</th>\n",
       "      <th id=\"T_fdb70_level0_col4\" class=\"col_heading level0 col4\" >Score_kaggle</th>\n",
       "      <th id=\"T_fdb70_level0_col5\" class=\"col_heading level0 col5\" >Best_params</th>\n",
       "    </tr>\n",
       "  </thead>\n",
       "  <tbody>\n",
       "    <tr>\n",
       "      <th id=\"T_fdb70_level0_row0\" class=\"row_heading level0 row0\" >0</th>\n",
       "      <td id=\"T_fdb70_row0_col0\" class=\"data row0 col0\" >01</td>\n",
       "      <td id=\"T_fdb70_row0_col1\" class=\"data row0 col1\" >Basic feature</td>\n",
       "      <td id=\"T_fdb70_row0_col2\" class=\"data row0 col2\" >0.779479</td>\n",
       "      <td id=\"T_fdb70_row0_col3\" class=\"data row0 col3\" >1476</td>\n",
       "      <td id=\"T_fdb70_row0_col4\" class=\"data row0 col4\" >0.784420</td>\n",
       "      <td id=\"T_fdb70_row0_col5\" class=\"data row0 col5\" >{'logistic__C': 0.01, 'logistic__penalty': 'l2', 'logistic__solver': 'liblinear'}</td>\n",
       "    </tr>\n",
       "    <tr>\n",
       "      <th id=\"T_fdb70_level0_row1\" class=\"row_heading level0 row1\" >1</th>\n",
       "      <td id=\"T_fdb70_row1_col0\" class=\"data row1 col0\" >02</td>\n",
       "      <td id=\"T_fdb70_row1_col1\" class=\"data row1 col1\" >Basic feature with feature selection f_classif</td>\n",
       "      <td id=\"T_fdb70_row1_col2\" class=\"data row1 col2\" >0.781549</td>\n",
       "      <td id=\"T_fdb70_row1_col3\" class=\"data row1 col3\" >12903</td>\n",
       "      <td id=\"T_fdb70_row1_col4\" class=\"data row1 col4\" >0.783490</td>\n",
       "      <td id=\"T_fdb70_row1_col5\" class=\"data row1 col5\" >{'feature_selection__k': 15, 'logistic__C': 0.021544346900318822, 'logistic__l1_ratio': 0.1, 'logistic__penalty': 'elasticnet', 'logistic__solver': 'saga'}</td>\n",
       "    </tr>\n",
       "    <tr>\n",
       "      <th id=\"T_fdb70_level0_row2\" class=\"row_heading level0 row2\" >2</th>\n",
       "      <td id=\"T_fdb70_row2_col0\" class=\"data row2 col0\" >03</td>\n",
       "      <td id=\"T_fdb70_row2_col1\" class=\"data row2 col1\" >Basic feature with feature selection MI n=1</td>\n",
       "      <td id=\"T_fdb70_row2_col2\" class=\"data row2 col2\" >0.781665</td>\n",
       "      <td id=\"T_fdb70_row2_col3\" class=\"data row2 col3\" >57133</td>\n",
       "      <td id=\"T_fdb70_row2_col4\" class=\"data row2 col4\" >0.779280</td>\n",
       "      <td id=\"T_fdb70_row2_col5\" class=\"data row2 col5\" >{'feature_selection__k': 16, 'logistic__C': 0.21544346900318823, 'logistic__l1_ratio': 0.2, 'logistic__penalty': 'elasticnet', 'logistic__solver': 'saga'}</td>\n",
       "    </tr>\n",
       "    <tr>\n",
       "      <th id=\"T_fdb70_level0_row3\" class=\"row_heading level0 row3\" >3</th>\n",
       "      <td id=\"T_fdb70_row3_col0\" class=\"data row3 col0\" >04</td>\n",
       "      <td id=\"T_fdb70_row3_col1\" class=\"data row3 col1\" >Basic feature with feature selection MI n=2</td>\n",
       "      <td id=\"T_fdb70_row3_col2\" class=\"data row3 col2\" >0.780629</td>\n",
       "      <td id=\"T_fdb70_row3_col3\" class=\"data row3 col3\" >58302</td>\n",
       "      <td id=\"T_fdb70_row3_col4\" class=\"data row3 col4\" >0.785120</td>\n",
       "      <td id=\"T_fdb70_row3_col5\" class=\"data row3 col5\" >{'feature_selection__k': 24, 'logistic__C': 0.01, 'logistic__penalty': 'l2', 'logistic__solver': 'liblinear'}</td>\n",
       "    </tr>\n",
       "    <tr>\n",
       "      <th id=\"T_fdb70_level0_row4\" class=\"row_heading level0 row4\" >4</th>\n",
       "      <td id=\"T_fdb70_row4_col0\" class=\"data row4 col0\" >05</td>\n",
       "      <td id=\"T_fdb70_row4_col1\" class=\"data row4 col1\" >Basic feature with feature selection MI n=3</td>\n",
       "      <td id=\"T_fdb70_row4_col2\" class=\"data row4 col2\" >0.780745</td>\n",
       "      <td id=\"T_fdb70_row4_col3\" class=\"data row4 col3\" >59880</td>\n",
       "      <td id=\"T_fdb70_row4_col4\" class=\"data row4 col4\" >0.776710</td>\n",
       "      <td id=\"T_fdb70_row4_col5\" class=\"data row4 col5\" >{'feature_selection__k': 12, 'logistic__C': 2154.434690031878, 'logistic__l1_ratio': 0.5, 'logistic__penalty': 'elasticnet', 'logistic__solver': 'saga'}</td>\n",
       "    </tr>\n",
       "    <tr>\n",
       "      <th id=\"T_fdb70_level0_row5\" class=\"row_heading level0 row5\" >5</th>\n",
       "      <td id=\"T_fdb70_row5_col0\" class=\"data row5 col0\" >06</td>\n",
       "      <td id=\"T_fdb70_row5_col1\" class=\"data row5 col1\" >Basic feature with feature selection MI n=4</td>\n",
       "      <td id=\"T_fdb70_row5_col2\" class=\"data row5 col2\" >0.780400</td>\n",
       "      <td id=\"T_fdb70_row5_col3\" class=\"data row5 col3\" >61262</td>\n",
       "      <td id=\"T_fdb70_row5_col4\" class=\"data row5 col4\" >0.782550</td>\n",
       "      <td id=\"T_fdb70_row5_col5\" class=\"data row5 col5\" >{'feature_selection__k': 15, 'logistic__C': 4641.588833612773, 'logistic__l1_ratio': 0.8, 'logistic__penalty': 'elasticnet', 'logistic__solver': 'saga'}</td>\n",
       "    </tr>\n",
       "    <tr>\n",
       "      <th id=\"T_fdb70_level0_row6\" class=\"row_heading level0 row6\" >6</th>\n",
       "      <td id=\"T_fdb70_row6_col0\" class=\"data row6 col0\" >07</td>\n",
       "      <td id=\"T_fdb70_row6_col1\" class=\"data row6 col1\" >Basic feature with feature selection MI n=5</td>\n",
       "      <td id=\"T_fdb70_row6_col2\" class=\"data row6 col2\" >0.780745</td>\n",
       "      <td id=\"T_fdb70_row6_col3\" class=\"data row6 col3\" >62178</td>\n",
       "      <td id=\"T_fdb70_row6_col4\" class=\"data row6 col4\" >0.782090</td>\n",
       "      <td id=\"T_fdb70_row6_col5\" class=\"data row6 col5\" >{'feature_selection__k': 15, 'logistic__C': 10000.0, 'logistic__penalty': 'l2', 'logistic__solver': 'liblinear'}</td>\n",
       "    </tr>\n",
       "    <tr>\n",
       "      <th id=\"T_fdb70_level0_row7\" class=\"row_heading level0 row7\" >7</th>\n",
       "      <td id=\"T_fdb70_row7_col0\" class=\"data row7 col0\" >08</td>\n",
       "      <td id=\"T_fdb70_row7_col1\" class=\"data row7 col1\" >Basic feature with feature selection from rf</td>\n",
       "      <td id=\"T_fdb70_row7_col2\" class=\"data row7 col2\" >0.779479</td>\n",
       "      <td id=\"T_fdb70_row7_col3\" class=\"data row7 col3\" >42744</td>\n",
       "      <td id=\"T_fdb70_row7_col4\" class=\"data row7 col4\" >0.784190</td>\n",
       "      <td id=\"T_fdb70_row7_col5\" class=\"data row7 col5\" >{'feature_selection__max_features': 23, 'logistic__C': 0.01, 'logistic__penalty': 'l2', 'logistic__solver': 'liblinear'}</td>\n",
       "    </tr>\n",
       "    <tr>\n",
       "      <th id=\"T_fdb70_level0_row8\" class=\"row_heading level0 row8\" >8</th>\n",
       "      <td id=\"T_fdb70_row8_col0\" class=\"data row8 col0\" >09</td>\n",
       "      <td id=\"T_fdb70_row8_col1\" class=\"data row8 col1\" >Basic feature with feature selection from ridge</td>\n",
       "      <td id=\"T_fdb70_row8_col2\" class=\"data row8 col2\" >0.779939</td>\n",
       "      <td id=\"T_fdb70_row8_col3\" class=\"data row8 col3\" >13259</td>\n",
       "      <td id=\"T_fdb70_row8_col4\" class=\"data row8 col4\" >0.781150</td>\n",
       "      <td id=\"T_fdb70_row8_col5\" class=\"data row8 col5\" >{'feature_selection__max_features': 19, 'logistic__C': 0.021544346900318822, 'logistic__l1_ratio': 0.4, 'logistic__penalty': 'elasticnet', 'logistic__solver': 'saga'}</td>\n",
       "    </tr>\n",
       "  </tbody>\n",
       "</table>\n"
      ],
      "text/plain": [
       "<pandas.io.formats.style.Styler at 0x146edddabf0>"
      ]
     },
     "execution_count": 26,
     "metadata": {},
     "output_type": "execute_result"
    }
   ],
   "source": [
    "df_results = pd.DataFrame(columns=COLUMNS)\n",
    "NAME_MODEL = \"logistic_regression\"\n",
    "\n",
    "for version in VERSIONS:\n",
    "    \n",
    "    if os.path.exists(os.path.join(REPO_MODEL, NAME_MODEL + \"__v\" + version + \".json\")):\n",
    "        with open(os.path.join(REPO_MODEL, NAME_MODEL + \"__v\" + version + \".json\"), \"r\") as file:\n",
    "            data = json.load(file)\n",
    "        df_results = pd.concat([\n",
    "            df_results, \n",
    "            pd.DataFrame({\n",
    "                \"Version\": [version], \n",
    "                \"Description\": DESCRIPTION_VERSIONS.get(version),\n",
    "                \"Best_score\": [data[\"best_score\"]],\n",
    "                \"Time_to_tune\": [int(data[\"time_to_tune\"])],\n",
    "                \"Score_kaggle\": [data[\"score_kaggle\"]],\n",
    "                \"Best_params\": [data[\"best_params\"]],\n",
    "                \n",
    "            })])\n",
    "        \n",
    "df_results.reset_index(inplace=True, drop=True)\n",
    "df_results.style.apply(lambda row: ['background-color: yellow'] * df_results.shape[1] if row.Best_score == max(df_results.Best_score) else ['background-color: white'] * df_results.shape[1], axis=1)"
   ]
  },
  {
   "cell_type": "markdown",
   "id": "6e2d50e8",
   "metadata": {
    "jp-MarkdownHeadingCollapsed": true,
    "tags": []
   },
   "source": [
    "#### KNN"
   ]
  },
  {
   "cell_type": "code",
   "execution_count": 27,
   "id": "5177365a",
   "metadata": {},
   "outputs": [
    {
     "data": {
      "text/html": [
       "<style type=\"text/css\">\n",
       "#T_0268e_row0_col0, #T_0268e_row0_col1, #T_0268e_row0_col2, #T_0268e_row0_col3, #T_0268e_row0_col4, #T_0268e_row0_col5, #T_0268e_row1_col0, #T_0268e_row1_col1, #T_0268e_row1_col2, #T_0268e_row1_col3, #T_0268e_row1_col4, #T_0268e_row1_col5, #T_0268e_row3_col0, #T_0268e_row3_col1, #T_0268e_row3_col2, #T_0268e_row3_col3, #T_0268e_row3_col4, #T_0268e_row3_col5, #T_0268e_row4_col0, #T_0268e_row4_col1, #T_0268e_row4_col2, #T_0268e_row4_col3, #T_0268e_row4_col4, #T_0268e_row4_col5, #T_0268e_row5_col0, #T_0268e_row5_col1, #T_0268e_row5_col2, #T_0268e_row5_col3, #T_0268e_row5_col4, #T_0268e_row5_col5, #T_0268e_row6_col0, #T_0268e_row6_col1, #T_0268e_row6_col2, #T_0268e_row6_col3, #T_0268e_row6_col4, #T_0268e_row6_col5, #T_0268e_row7_col0, #T_0268e_row7_col1, #T_0268e_row7_col2, #T_0268e_row7_col3, #T_0268e_row7_col4, #T_0268e_row7_col5, #T_0268e_row8_col0, #T_0268e_row8_col1, #T_0268e_row8_col2, #T_0268e_row8_col3, #T_0268e_row8_col4, #T_0268e_row8_col5 {\n",
       "  background-color: white;\n",
       "}\n",
       "#T_0268e_row2_col0, #T_0268e_row2_col1, #T_0268e_row2_col2, #T_0268e_row2_col3, #T_0268e_row2_col4, #T_0268e_row2_col5 {\n",
       "  background-color: yellow;\n",
       "}\n",
       "</style>\n",
       "<table id=\"T_0268e\">\n",
       "  <thead>\n",
       "    <tr>\n",
       "      <th class=\"blank level0\" >&nbsp;</th>\n",
       "      <th id=\"T_0268e_level0_col0\" class=\"col_heading level0 col0\" >Version</th>\n",
       "      <th id=\"T_0268e_level0_col1\" class=\"col_heading level0 col1\" >Description</th>\n",
       "      <th id=\"T_0268e_level0_col2\" class=\"col_heading level0 col2\" >Best_score</th>\n",
       "      <th id=\"T_0268e_level0_col3\" class=\"col_heading level0 col3\" >Time_to_tune</th>\n",
       "      <th id=\"T_0268e_level0_col4\" class=\"col_heading level0 col4\" >Score_kaggle</th>\n",
       "      <th id=\"T_0268e_level0_col5\" class=\"col_heading level0 col5\" >Best_params</th>\n",
       "    </tr>\n",
       "  </thead>\n",
       "  <tbody>\n",
       "    <tr>\n",
       "      <th id=\"T_0268e_level0_row0\" class=\"row_heading level0 row0\" >0</th>\n",
       "      <td id=\"T_0268e_row0_col0\" class=\"data row0 col0\" >01</td>\n",
       "      <td id=\"T_0268e_row0_col1\" class=\"data row0 col1\" >Basic feature</td>\n",
       "      <td id=\"T_0268e_row0_col2\" class=\"data row0 col2\" >0.788799</td>\n",
       "      <td id=\"T_0268e_row0_col3\" class=\"data row0 col3\" >5311</td>\n",
       "      <td id=\"T_0268e_row0_col4\" class=\"data row0 col4\" >0.787930</td>\n",
       "      <td id=\"T_0268e_row0_col5\" class=\"data row0 col5\" >{'knn__n_neighbors': 47, 'knn__p': 2, 'knn__weights': 'uniform'}</td>\n",
       "    </tr>\n",
       "    <tr>\n",
       "      <th id=\"T_0268e_level0_row1\" class=\"row_heading level0 row1\" >1</th>\n",
       "      <td id=\"T_0268e_row1_col0\" class=\"data row1 col0\" >02</td>\n",
       "      <td id=\"T_0268e_row1_col1\" class=\"data row1 col1\" >Basic feature with feature selection f_classif</td>\n",
       "      <td id=\"T_0268e_row1_col2\" class=\"data row1 col2\" >0.790294</td>\n",
       "      <td id=\"T_0268e_row1_col3\" class=\"data row1 col3\" >64065</td>\n",
       "      <td id=\"T_0268e_row1_col4\" class=\"data row1 col4\" >0.784420</td>\n",
       "      <td id=\"T_0268e_row1_col5\" class=\"data row1 col5\" >{'feature_selection__k': 18, 'knn__n_neighbors': 31, 'knn__p': 1, 'knn__weights': 'uniform'}</td>\n",
       "    </tr>\n",
       "    <tr>\n",
       "      <th id=\"T_0268e_level0_row2\" class=\"row_heading level0 row2\" >2</th>\n",
       "      <td id=\"T_0268e_row2_col0\" class=\"data row2 col0\" >03</td>\n",
       "      <td id=\"T_0268e_row2_col1\" class=\"data row2 col1\" >Basic feature with feature selection MI n=1</td>\n",
       "      <td id=\"T_0268e_row2_col2\" class=\"data row2 col2\" >0.795932</td>\n",
       "      <td id=\"T_0268e_row2_col3\" class=\"data row2 col3\" >75335</td>\n",
       "      <td id=\"T_0268e_row2_col4\" class=\"data row2 col4\" >0.788870</td>\n",
       "      <td id=\"T_0268e_row2_col5\" class=\"data row2 col5\" >{'feature_selection__k': 13, 'knn__n_neighbors': 48, 'knn__p': 1, 'knn__weights': 'uniform'}</td>\n",
       "    </tr>\n",
       "    <tr>\n",
       "      <th id=\"T_0268e_level0_row3\" class=\"row_heading level0 row3\" >3</th>\n",
       "      <td id=\"T_0268e_row3_col0\" class=\"data row3 col0\" >04</td>\n",
       "      <td id=\"T_0268e_row3_col1\" class=\"data row3 col1\" >Basic feature with feature selection MI n=2</td>\n",
       "      <td id=\"T_0268e_row3_col2\" class=\"data row3 col2\" >0.795009</td>\n",
       "      <td id=\"T_0268e_row3_col3\" class=\"data row3 col3\" >105862</td>\n",
       "      <td id=\"T_0268e_row3_col4\" class=\"data row3 col4\" >0.787230</td>\n",
       "      <td id=\"T_0268e_row3_col5\" class=\"data row3 col5\" >{'feature_selection__k': 18, 'knn__n_neighbors': 33, 'knn__p': 1, 'knn__weights': 'uniform'}</td>\n",
       "    </tr>\n",
       "    <tr>\n",
       "      <th id=\"T_0268e_level0_row4\" class=\"row_heading level0 row4\" >4</th>\n",
       "      <td id=\"T_0268e_row4_col0\" class=\"data row4 col0\" >05</td>\n",
       "      <td id=\"T_0268e_row4_col1\" class=\"data row4 col1\" >Basic feature with feature selection MI n=3</td>\n",
       "      <td id=\"T_0268e_row4_col2\" class=\"data row4 col2\" >0.792481</td>\n",
       "      <td id=\"T_0268e_row4_col3\" class=\"data row4 col3\" >91760</td>\n",
       "      <td id=\"T_0268e_row4_col4\" class=\"data row4 col4\" >0.780210</td>\n",
       "      <td id=\"T_0268e_row4_col5\" class=\"data row4 col5\" >{'feature_selection__k': 11, 'knn__n_neighbors': 37, 'knn__p': 1, 'knn__weights': 'uniform'}</td>\n",
       "    </tr>\n",
       "    <tr>\n",
       "      <th id=\"T_0268e_level0_row5\" class=\"row_heading level0 row5\" >5</th>\n",
       "      <td id=\"T_0268e_row5_col0\" class=\"data row5 col0\" >06</td>\n",
       "      <td id=\"T_0268e_row5_col1\" class=\"data row5 col1\" >Basic feature with feature selection MI n=4</td>\n",
       "      <td id=\"T_0268e_row5_col2\" class=\"data row5 col2\" >0.793400</td>\n",
       "      <td id=\"T_0268e_row5_col3\" class=\"data row5 col3\" >110870</td>\n",
       "      <td id=\"T_0268e_row5_col4\" class=\"data row5 col4\" >0.785590</td>\n",
       "      <td id=\"T_0268e_row5_col5\" class=\"data row5 col5\" >{'feature_selection__k': 13, 'knn__n_neighbors': 49, 'knn__p': 1, 'knn__weights': 'uniform'}</td>\n",
       "    </tr>\n",
       "    <tr>\n",
       "      <th id=\"T_0268e_level0_row6\" class=\"row_heading level0 row6\" >6</th>\n",
       "      <td id=\"T_0268e_row6_col0\" class=\"data row6 col0\" >07</td>\n",
       "      <td id=\"T_0268e_row6_col1\" class=\"data row6 col1\" >Basic feature with feature selection MI n=5</td>\n",
       "      <td id=\"T_0268e_row6_col2\" class=\"data row6 col2\" >0.793631</td>\n",
       "      <td id=\"T_0268e_row6_col3\" class=\"data row6 col3\" >113486</td>\n",
       "      <td id=\"T_0268e_row6_col4\" class=\"data row6 col4\" >0.788630</td>\n",
       "      <td id=\"T_0268e_row6_col5\" class=\"data row6 col5\" >{'feature_selection__k': 16, 'knn__n_neighbors': 51, 'knn__p': 1, 'knn__weights': 'uniform'}</td>\n",
       "    </tr>\n",
       "    <tr>\n",
       "      <th id=\"T_0268e_level0_row7\" class=\"row_heading level0 row7\" >7</th>\n",
       "      <td id=\"T_0268e_row7_col0\" class=\"data row7 col0\" >08</td>\n",
       "      <td id=\"T_0268e_row7_col1\" class=\"data row7 col1\" >Basic feature with feature selection from rf</td>\n",
       "      <td id=\"T_0268e_row7_col2\" class=\"data row7 col2\" >0.791214</td>\n",
       "      <td id=\"T_0268e_row7_col3\" class=\"data row7 col3\" >83657</td>\n",
       "      <td id=\"T_0268e_row7_col4\" class=\"data row7 col4\" >0.783490</td>\n",
       "      <td id=\"T_0268e_row7_col5\" class=\"data row7 col5\" >{'feature_selection__max_features': 11, 'knn__n_neighbors': 63, 'knn__p': 1, 'knn__weights': 'uniform'}</td>\n",
       "    </tr>\n",
       "    <tr>\n",
       "      <th id=\"T_0268e_level0_row8\" class=\"row_heading level0 row8\" >8</th>\n",
       "      <td id=\"T_0268e_row8_col0\" class=\"data row8 col0\" >09</td>\n",
       "      <td id=\"T_0268e_row8_col1\" class=\"data row8 col1\" >Basic feature with feature selection from ridge</td>\n",
       "      <td id=\"T_0268e_row8_col2\" class=\"data row8 col2\" >0.790179</td>\n",
       "      <td id=\"T_0268e_row8_col3\" class=\"data row8 col3\" >20887</td>\n",
       "      <td id=\"T_0268e_row8_col4\" class=\"data row8 col4\" >0.787700</td>\n",
       "      <td id=\"T_0268e_row8_col5\" class=\"data row8 col5\" >{'feature_selection__max_features': 27, 'knn__n_neighbors': 47, 'knn__p': 2, 'knn__weights': 'uniform'}</td>\n",
       "    </tr>\n",
       "  </tbody>\n",
       "</table>\n"
      ],
      "text/plain": [
       "<pandas.io.formats.style.Styler at 0x146dfcdf550>"
      ]
     },
     "execution_count": 27,
     "metadata": {},
     "output_type": "execute_result"
    }
   ],
   "source": [
    "df_results = pd.DataFrame(columns=COLUMNS)\n",
    "NAME_MODEL = \"knn\"\n",
    "\n",
    "for version in VERSIONS:\n",
    "    \n",
    "    if os.path.exists(os.path.join(REPO_MODEL, NAME_MODEL + \"__v\" + version + \".json\")):\n",
    "        with open(os.path.join(REPO_MODEL, NAME_MODEL + \"__v\" + version + \".json\"), \"r\") as file:\n",
    "            data = json.load(file)\n",
    "        df_results = pd.concat([\n",
    "            df_results, \n",
    "            pd.DataFrame({\n",
    "                \"Version\": [version], \n",
    "                \"Description\": DESCRIPTION_VERSIONS.get(version), \n",
    "                \"Best_score\": [data[\"best_score\"]],\n",
    "                \"Time_to_tune\": [int(data[\"time_to_tune\"])],\n",
    "                \"Score_kaggle\": [data[\"score_kaggle\"]],\n",
    "                \"Best_params\": [data[\"best_params\"]],\n",
    "            })])\n",
    "        \n",
    "df_results.reset_index(inplace=True, drop=True)\n",
    "df_results.style.apply(lambda row: ['background-color: yellow'] * df_results.shape[1] if row.Best_score == max(df_results.Best_score) else ['background-color: white'] * df_results.shape[1], axis=1)"
   ]
  },
  {
   "cell_type": "markdown",
   "id": "e88ad052",
   "metadata": {
    "jp-MarkdownHeadingCollapsed": true,
    "tags": []
   },
   "source": [
    "#### SVM "
   ]
  },
  {
   "cell_type": "code",
   "execution_count": 30,
   "id": "bbc4d9ea",
   "metadata": {},
   "outputs": [
    {
     "data": {
      "text/html": [
       "<style type=\"text/css\">\n",
       "#T_76779_row0_col0, #T_76779_row0_col1, #T_76779_row0_col2, #T_76779_row0_col3, #T_76779_row0_col4, #T_76779_row0_col5, #T_76779_row1_col0, #T_76779_row1_col1, #T_76779_row1_col2, #T_76779_row1_col3, #T_76779_row1_col4, #T_76779_row1_col5, #T_76779_row2_col0, #T_76779_row2_col1, #T_76779_row2_col2, #T_76779_row2_col3, #T_76779_row2_col4, #T_76779_row2_col5, #T_76779_row4_col0, #T_76779_row4_col1, #T_76779_row4_col2, #T_76779_row4_col3, #T_76779_row4_col4, #T_76779_row4_col5, #T_76779_row5_col0, #T_76779_row5_col1, #T_76779_row5_col2, #T_76779_row5_col3, #T_76779_row5_col4, #T_76779_row5_col5, #T_76779_row6_col0, #T_76779_row6_col1, #T_76779_row6_col2, #T_76779_row6_col3, #T_76779_row6_col4, #T_76779_row6_col5, #T_76779_row7_col0, #T_76779_row7_col1, #T_76779_row7_col2, #T_76779_row7_col3, #T_76779_row7_col4, #T_76779_row7_col5 {\n",
       "  background-color: white;\n",
       "}\n",
       "#T_76779_row3_col0, #T_76779_row3_col1, #T_76779_row3_col2, #T_76779_row3_col3, #T_76779_row3_col4, #T_76779_row3_col5 {\n",
       "  background-color: yellow;\n",
       "}\n",
       "</style>\n",
       "<table id=\"T_76779\">\n",
       "  <thead>\n",
       "    <tr>\n",
       "      <th class=\"blank level0\" >&nbsp;</th>\n",
       "      <th id=\"T_76779_level0_col0\" class=\"col_heading level0 col0\" >Version</th>\n",
       "      <th id=\"T_76779_level0_col1\" class=\"col_heading level0 col1\" >Description</th>\n",
       "      <th id=\"T_76779_level0_col2\" class=\"col_heading level0 col2\" >Best_score</th>\n",
       "      <th id=\"T_76779_level0_col3\" class=\"col_heading level0 col3\" >Time_to_tune</th>\n",
       "      <th id=\"T_76779_level0_col4\" class=\"col_heading level0 col4\" >Score_kaggle</th>\n",
       "      <th id=\"T_76779_level0_col5\" class=\"col_heading level0 col5\" >Best_params</th>\n",
       "    </tr>\n",
       "  </thead>\n",
       "  <tbody>\n",
       "    <tr>\n",
       "      <th id=\"T_76779_level0_row0\" class=\"row_heading level0 row0\" >0</th>\n",
       "      <td id=\"T_76779_row0_col0\" class=\"data row0 col0\" >01</td>\n",
       "      <td id=\"T_76779_row0_col1\" class=\"data row0 col1\" >Basic feature</td>\n",
       "      <td id=\"T_76779_row0_col2\" class=\"data row0 col2\" >0.800532</td>\n",
       "      <td id=\"T_76779_row0_col3\" class=\"data row0 col3\" >2623</td>\n",
       "      <td id=\"T_76779_row0_col4\" class=\"data row0 col4\" >0.800320</td>\n",
       "      <td id=\"T_76779_row0_col5\" class=\"data row0 col5\" >{'svm__C': 0.46415888336127775, 'svm__degree': 3, 'svm__kernel': 'poly'}</td>\n",
       "    </tr>\n",
       "    <tr>\n",
       "      <th id=\"T_76779_level0_row1\" class=\"row_heading level0 row1\" >1</th>\n",
       "      <td id=\"T_76779_row1_col0\" class=\"data row1 col0\" >02</td>\n",
       "      <td id=\"T_76779_row1_col1\" class=\"data row1 col1\" >Basic feature with feature selection f_classif</td>\n",
       "      <td id=\"T_76779_row1_col2\" class=\"data row1 col2\" >0.801222</td>\n",
       "      <td id=\"T_76779_row1_col3\" class=\"data row1 col3\" >307954</td>\n",
       "      <td id=\"T_76779_row1_col4\" class=\"data row1 col4\" >0.798920</td>\n",
       "      <td id=\"T_76779_row1_col5\" class=\"data row1 col5\" >{'feature_selection__k': 20, 'svm__C': 0.46415888336127775, 'svm__degree': 3, 'svm__kernel': 'poly'}</td>\n",
       "    </tr>\n",
       "    <tr>\n",
       "      <th id=\"T_76779_level0_row2\" class=\"row_heading level0 row2\" >2</th>\n",
       "      <td id=\"T_76779_row2_col0\" class=\"data row2 col0\" >04</td>\n",
       "      <td id=\"T_76779_row2_col1\" class=\"data row2 col1\" >Basic feature with feature selection MI n=2</td>\n",
       "      <td id=\"T_76779_row2_col2\" class=\"data row2 col2\" >0.800187</td>\n",
       "      <td id=\"T_76779_row2_col3\" class=\"data row2 col3\" >226415</td>\n",
       "      <td id=\"T_76779_row2_col4\" class=\"data row2 col4\" >0.794480</td>\n",
       "      <td id=\"T_76779_row2_col5\" class=\"data row2 col5\" >{'feature_selection__k': 21, 'svm__C': 4.6415888336127775, 'svm__degree': 2, 'svm__kernel': 'poly'}</td>\n",
       "    </tr>\n",
       "    <tr>\n",
       "      <th id=\"T_76779_level0_row3\" class=\"row_heading level0 row3\" >3</th>\n",
       "      <td id=\"T_76779_row3_col0\" class=\"data row3 col0\" >05</td>\n",
       "      <td id=\"T_76779_row3_col1\" class=\"data row3 col1\" >Basic feature with feature selection MI n=3</td>\n",
       "      <td id=\"T_76779_row3_col2\" class=\"data row3 col2\" >0.801912</td>\n",
       "      <td id=\"T_76779_row3_col3\" class=\"data row3 col3\" >180134</td>\n",
       "      <td id=\"T_76779_row3_col4\" class=\"data row3 col4\" >0.799390</td>\n",
       "      <td id=\"T_76779_row3_col5\" class=\"data row3 col5\" >{'feature_selection__k': 23, 'svm__C': 0.46415888336127775, 'svm__degree': 3, 'svm__kernel': 'poly'}</td>\n",
       "    </tr>\n",
       "    <tr>\n",
       "      <th id=\"T_76779_level0_row4\" class=\"row_heading level0 row4\" >4</th>\n",
       "      <td id=\"T_76779_row4_col0\" class=\"data row4 col0\" >06</td>\n",
       "      <td id=\"T_76779_row4_col1\" class=\"data row4 col1\" >Basic feature with feature selection MI n=4</td>\n",
       "      <td id=\"T_76779_row4_col2\" class=\"data row4 col2\" >0.800647</td>\n",
       "      <td id=\"T_76779_row4_col3\" class=\"data row4 col3\" >209248</td>\n",
       "      <td id=\"T_76779_row4_col4\" class=\"data row4 col4\" >0.799390</td>\n",
       "      <td id=\"T_76779_row4_col5\" class=\"data row4 col5\" >{'feature_selection__k': 24, 'svm__C': 0.46415888336127775, 'svm__degree': 3, 'svm__kernel': 'poly'}</td>\n",
       "    </tr>\n",
       "    <tr>\n",
       "      <th id=\"T_76779_level0_row5\" class=\"row_heading level0 row5\" >5</th>\n",
       "      <td id=\"T_76779_row5_col0\" class=\"data row5 col0\" >07</td>\n",
       "      <td id=\"T_76779_row5_col1\" class=\"data row5 col1\" >Basic feature with feature selection MI n=5</td>\n",
       "      <td id=\"T_76779_row5_col2\" class=\"data row5 col2\" >0.801223</td>\n",
       "      <td id=\"T_76779_row5_col3\" class=\"data row5 col3\" >220124</td>\n",
       "      <td id=\"T_76779_row5_col4\" class=\"data row5 col4\" >0.800090</td>\n",
       "      <td id=\"T_76779_row5_col5\" class=\"data row5 col5\" >{'feature_selection__k': 24, 'svm__C': 1.0, 'svm__degree': 3, 'svm__kernel': 'poly'}</td>\n",
       "    </tr>\n",
       "    <tr>\n",
       "      <th id=\"T_76779_level0_row6\" class=\"row_heading level0 row6\" >6</th>\n",
       "      <td id=\"T_76779_row6_col0\" class=\"data row6 col0\" >08</td>\n",
       "      <td id=\"T_76779_row6_col1\" class=\"data row6 col1\" >Basic feature with feature selection from rf</td>\n",
       "      <td id=\"T_76779_row6_col2\" class=\"data row6 col2\" >0.801682</td>\n",
       "      <td id=\"T_76779_row6_col3\" class=\"data row6 col3\" >97146</td>\n",
       "      <td id=\"T_76779_row6_col4\" class=\"data row6 col4\" >0.799620</td>\n",
       "      <td id=\"T_76779_row6_col5\" class=\"data row6 col5\" >{'feature_selection__max_features': 25, 'svm__C': 0.46415888336127775, 'svm__degree': 3, 'svm__kernel': 'poly'}</td>\n",
       "    </tr>\n",
       "    <tr>\n",
       "      <th id=\"T_76779_level0_row7\" class=\"row_heading level0 row7\" >7</th>\n",
       "      <td id=\"T_76779_row7_col0\" class=\"data row7 col0\" >09</td>\n",
       "      <td id=\"T_76779_row7_col1\" class=\"data row7 col1\" >Basic feature with feature selection from ridge</td>\n",
       "      <td id=\"T_76779_row7_col2\" class=\"data row7 col2\" >0.800532</td>\n",
       "      <td id=\"T_76779_row7_col3\" class=\"data row7 col3\" >185765</td>\n",
       "      <td id=\"T_76779_row7_col4\" class=\"data row7 col4\" >0</td>\n",
       "      <td id=\"T_76779_row7_col5\" class=\"data row7 col5\" >{'feature_selection__max_features': 26, 'svm__C': 0.46415888336127775, 'svm__degree': 3, 'svm__kernel': 'poly'}</td>\n",
       "    </tr>\n",
       "  </tbody>\n",
       "</table>\n"
      ],
      "text/plain": [
       "<pandas.io.formats.style.Styler at 0x146ef094ee0>"
      ]
     },
     "execution_count": 30,
     "metadata": {},
     "output_type": "execute_result"
    }
   ],
   "source": [
    "df_results = pd.DataFrame(columns=COLUMNS)\n",
    "NAME_MODEL = \"svm\"\n",
    "\n",
    "for version in VERSIONS:\n",
    "    \n",
    "    if os.path.exists(os.path.join(REPO_MODEL, NAME_MODEL + \"__v\" + version + \".json\")):\n",
    "        with open(os.path.join(REPO_MODEL, NAME_MODEL + \"__v\" + version + \".json\"), \"r\") as file:\n",
    "            data = json.load(file)\n",
    "        df_results = pd.concat([\n",
    "            df_results, \n",
    "            pd.DataFrame({\n",
    "                \"Version\": [version], \n",
    "                \"Description\": DESCRIPTION_VERSIONS.get(version), \n",
    "                \"Best_score\": [data[\"best_score\"]],\n",
    "                \"Time_to_tune\": [int(data[\"time_to_tune\"])],\n",
    "                \"Score_kaggle\": [data[\"score_kaggle\"]],\n",
    "                \"Best_params\": [data[\"best_params\"]],\n",
    "            })])\n",
    "        \n",
    "df_results.reset_index(inplace=True, drop=True)\n",
    "df_results.style.apply(lambda row: ['background-color: yellow'] * df_results.shape[1] if row.Best_score == max(df_results.Best_score) else ['background-color: white'] * df_results.shape[1], axis=1)"
   ]
  },
  {
   "cell_type": "markdown",
   "id": "c96a926d-acd6-40b0-a01d-e9fc438bbfbb",
   "metadata": {
    "jp-MarkdownHeadingCollapsed": true,
    "tags": []
   },
   "source": [
    "#### GNB"
   ]
  },
  {
   "cell_type": "code",
   "execution_count": 31,
   "id": "92d78938-c5c3-4e8e-83cd-98ec2433ebc6",
   "metadata": {},
   "outputs": [
    {
     "data": {
      "text/html": [
       "<style type=\"text/css\">\n",
       "#T_4fb28_row0_col0, #T_4fb28_row0_col1, #T_4fb28_row0_col2, #T_4fb28_row0_col3, #T_4fb28_row0_col4, #T_4fb28_row0_col5 {\n",
       "  background-color: yellow;\n",
       "}\n",
       "</style>\n",
       "<table id=\"T_4fb28\">\n",
       "  <thead>\n",
       "    <tr>\n",
       "      <th class=\"blank level0\" >&nbsp;</th>\n",
       "      <th id=\"T_4fb28_level0_col0\" class=\"col_heading level0 col0\" >Version</th>\n",
       "      <th id=\"T_4fb28_level0_col1\" class=\"col_heading level0 col1\" >Description</th>\n",
       "      <th id=\"T_4fb28_level0_col2\" class=\"col_heading level0 col2\" >Best_score</th>\n",
       "      <th id=\"T_4fb28_level0_col3\" class=\"col_heading level0 col3\" >Time_to_tune</th>\n",
       "      <th id=\"T_4fb28_level0_col4\" class=\"col_heading level0 col4\" >Score_kaggle</th>\n",
       "      <th id=\"T_4fb28_level0_col5\" class=\"col_heading level0 col5\" >Best_params</th>\n",
       "    </tr>\n",
       "  </thead>\n",
       "  <tbody>\n",
       "    <tr>\n",
       "      <th id=\"T_4fb28_level0_row0\" class=\"row_heading level0 row0\" >0</th>\n",
       "      <td id=\"T_4fb28_row0_col0\" class=\"data row0 col0\" >01</td>\n",
       "      <td id=\"T_4fb28_row0_col1\" class=\"data row0 col1\" >Basic feature</td>\n",
       "      <td id=\"T_4fb28_row0_col2\" class=\"data row0 col2\" >0.757738</td>\n",
       "      <td id=\"T_4fb28_row0_col3\" class=\"data row0 col3\" >42</td>\n",
       "      <td id=\"T_4fb28_row0_col4\" class=\"data row0 col4\" >0.770160</td>\n",
       "      <td id=\"T_4fb28_row0_col5\" class=\"data row0 col5\" >{'gnb__var_smoothing': 0.811130830789689}</td>\n",
       "    </tr>\n",
       "  </tbody>\n",
       "</table>\n"
      ],
      "text/plain": [
       "<pandas.io.formats.style.Styler at 0x1469f3ecfa0>"
      ]
     },
     "execution_count": 31,
     "metadata": {},
     "output_type": "execute_result"
    }
   ],
   "source": [
    "df_results = pd.DataFrame(columns=COLUMNS)\n",
    "NAME_MODEL = \"gnb\"\n",
    "\n",
    "for version in VERSIONS:\n",
    "    \n",
    "    if os.path.exists(os.path.join(REPO_MODEL, NAME_MODEL + \"__v\" + version + \".json\")):\n",
    "        with open(os.path.join(REPO_MODEL, NAME_MODEL + \"__v\" + version + \".json\"), \"r\") as file:\n",
    "            data = json.load(file)\n",
    "        df_results = pd.concat([\n",
    "            df_results, \n",
    "            pd.DataFrame({\n",
    "                \"Version\": [version], \n",
    "                \"Description\": DESCRIPTION_VERSIONS.get(version), \n",
    "                \"Best_score\": [data[\"best_score\"]],\n",
    "                \"Time_to_tune\": [int(data[\"time_to_tune\"])],\n",
    "                \"Score_kaggle\": [data[\"score_kaggle\"]],\n",
    "                \"Best_params\": [data[\"best_params\"]],\n",
    "            })])\n",
    "        \n",
    "df_results.reset_index(inplace=True, drop=True)\n",
    "df_results.style.apply(lambda row: ['background-color: yellow'] * df_results.shape[1] if row.Best_score == max(df_results.Best_score) else ['background-color: white'] * df_results.shape[1], axis=1)"
   ]
  },
  {
   "cell_type": "markdown",
   "id": "3447892b-9f57-4829-8888-6ef3f0759ea6",
   "metadata": {
    "jp-MarkdownHeadingCollapsed": true,
    "tags": []
   },
   "source": [
    "### By version"
   ]
  },
  {
   "cell_type": "code",
   "execution_count": 7,
   "id": "8ae60687-455b-4c83-8045-213c11c854b2",
   "metadata": {},
   "outputs": [],
   "source": [
    "COLUMNS = [\"Name_model\", \"Best_score\", \"Time_to_tune\", \"Score_kaggle\", \"Best_params\"]\n",
    "MODELS = [\"logistic_regression\", \"knn\", \"svm\", \"gnb\"]"
   ]
  },
  {
   "cell_type": "markdown",
   "id": "98c9d8eb-e0c4-4d22-a992-fc0c91157a8b",
   "metadata": {
    "jp-MarkdownHeadingCollapsed": true,
    "tags": []
   },
   "source": [
    "#### Version 1"
   ]
  },
  {
   "cell_type": "code",
   "execution_count": 8,
   "id": "06e909c9-8f4f-49ba-8e8c-c383cdedbfa8",
   "metadata": {},
   "outputs": [
    {
     "data": {
      "text/html": [
       "<style type=\"text/css\">\n",
       "#T_10370_row0_col0, #T_10370_row0_col1, #T_10370_row0_col2, #T_10370_row0_col3, #T_10370_row0_col4, #T_10370_row1_col0, #T_10370_row1_col1, #T_10370_row1_col2, #T_10370_row1_col3, #T_10370_row1_col4 {\n",
       "  background-color: white;\n",
       "}\n",
       "#T_10370_row2_col0, #T_10370_row2_col1, #T_10370_row2_col2, #T_10370_row2_col3, #T_10370_row2_col4 {\n",
       "  background-color: yellow;\n",
       "}\n",
       "</style>\n",
       "<table id=\"T_10370\">\n",
       "  <thead>\n",
       "    <tr>\n",
       "      <th class=\"blank level0\" >&nbsp;</th>\n",
       "      <th id=\"T_10370_level0_col0\" class=\"col_heading level0 col0\" >Name_model</th>\n",
       "      <th id=\"T_10370_level0_col1\" class=\"col_heading level0 col1\" >Best_score</th>\n",
       "      <th id=\"T_10370_level0_col2\" class=\"col_heading level0 col2\" >Time_to_tune</th>\n",
       "      <th id=\"T_10370_level0_col3\" class=\"col_heading level0 col3\" >Score_kaggle</th>\n",
       "      <th id=\"T_10370_level0_col4\" class=\"col_heading level0 col4\" >Best_params</th>\n",
       "    </tr>\n",
       "  </thead>\n",
       "  <tbody>\n",
       "    <tr>\n",
       "      <th id=\"T_10370_level0_row0\" class=\"row_heading level0 row0\" >0</th>\n",
       "      <td id=\"T_10370_row0_col0\" class=\"data row0 col0\" >logistic_regression</td>\n",
       "      <td id=\"T_10370_row0_col1\" class=\"data row0 col1\" >0.779479</td>\n",
       "      <td id=\"T_10370_row0_col2\" class=\"data row0 col2\" >1476</td>\n",
       "      <td id=\"T_10370_row0_col3\" class=\"data row0 col3\" >0.784420</td>\n",
       "      <td id=\"T_10370_row0_col4\" class=\"data row0 col4\" >{'logistic__C': 0.01, 'logistic__penalty': 'l2', 'logistic__solver': 'liblinear'}</td>\n",
       "    </tr>\n",
       "    <tr>\n",
       "      <th id=\"T_10370_level0_row1\" class=\"row_heading level0 row1\" >1</th>\n",
       "      <td id=\"T_10370_row1_col0\" class=\"data row1 col0\" >knn</td>\n",
       "      <td id=\"T_10370_row1_col1\" class=\"data row1 col1\" >0.788799</td>\n",
       "      <td id=\"T_10370_row1_col2\" class=\"data row1 col2\" >5311</td>\n",
       "      <td id=\"T_10370_row1_col3\" class=\"data row1 col3\" >0.787930</td>\n",
       "      <td id=\"T_10370_row1_col4\" class=\"data row1 col4\" >{'knn__n_neighbors': 47, 'knn__p': 2, 'knn__weights': 'uniform'}</td>\n",
       "    </tr>\n",
       "    <tr>\n",
       "      <th id=\"T_10370_level0_row2\" class=\"row_heading level0 row2\" >2</th>\n",
       "      <td id=\"T_10370_row2_col0\" class=\"data row2 col0\" >svm</td>\n",
       "      <td id=\"T_10370_row2_col1\" class=\"data row2 col1\" >0.800532</td>\n",
       "      <td id=\"T_10370_row2_col2\" class=\"data row2 col2\" >2623</td>\n",
       "      <td id=\"T_10370_row2_col3\" class=\"data row2 col3\" >0.800320</td>\n",
       "      <td id=\"T_10370_row2_col4\" class=\"data row2 col4\" >{'svm__C': 0.46415888336127775, 'svm__degree': 3, 'svm__kernel': 'poly'}</td>\n",
       "    </tr>\n",
       "  </tbody>\n",
       "</table>\n"
      ],
      "text/plain": [
       "<pandas.io.formats.style.Styler at 0x282268911e0>"
      ]
     },
     "execution_count": 8,
     "metadata": {},
     "output_type": "execute_result"
    }
   ],
   "source": [
    "df_results = pd.DataFrame(columns=COLUMNS)\n",
    "NAME_VERSION = \"01\"\n",
    "\n",
    "for model in MODELS:\n",
    "    \n",
    "    if os.path.exists(os.path.join(REPO_MODEL, model + \"__v\" + NAME_VERSION + \".json\")):\n",
    "        with open(os.path.join(REPO_MODEL, model + \"__v\" + NAME_VERSION + \".json\"), \"r\") as file:\n",
    "            data = json.load(file)\n",
    "        df_results = pd.concat([\n",
    "            df_results, \n",
    "            pd.DataFrame({\n",
    "                \"Name_model\": [model], \n",
    "                \"Best_score\": [data[\"best_score\"]],\n",
    "                \"Time_to_tune\": [int(data[\"time_to_tune\"])],\n",
    "                \"Score_kaggle\": [data[\"score_kaggle\"]],\n",
    "                \"Best_params\": [data[\"best_params\"]],\n",
    "            })])\n",
    "        \n",
    "df_results.reset_index(inplace=True, drop=True)\n",
    "df_results.style.apply(lambda row: ['background-color: yellow'] * df_results.shape[1] if row.Best_score == max(df_results.Best_score) else ['background-color: white'] * df_results.shape[1], axis=1)"
   ]
  },
  {
   "cell_type": "markdown",
   "id": "2176c9bb-39b4-4f90-ae31-12290405cf8e",
   "metadata": {
    "jp-MarkdownHeadingCollapsed": true,
    "tags": []
   },
   "source": [
    "#### Version 2"
   ]
  },
  {
   "cell_type": "code",
   "execution_count": 9,
   "id": "8a7d77bb-3386-4af7-9bef-a79c97f70396",
   "metadata": {},
   "outputs": [
    {
     "data": {
      "text/html": [
       "<style type=\"text/css\">\n",
       "#T_e5a64_row0_col0, #T_e5a64_row0_col1, #T_e5a64_row0_col2, #T_e5a64_row0_col3, #T_e5a64_row0_col4, #T_e5a64_row1_col0, #T_e5a64_row1_col1, #T_e5a64_row1_col2, #T_e5a64_row1_col3, #T_e5a64_row1_col4 {\n",
       "  background-color: white;\n",
       "}\n",
       "#T_e5a64_row2_col0, #T_e5a64_row2_col1, #T_e5a64_row2_col2, #T_e5a64_row2_col3, #T_e5a64_row2_col4 {\n",
       "  background-color: yellow;\n",
       "}\n",
       "</style>\n",
       "<table id=\"T_e5a64\">\n",
       "  <thead>\n",
       "    <tr>\n",
       "      <th class=\"blank level0\" >&nbsp;</th>\n",
       "      <th id=\"T_e5a64_level0_col0\" class=\"col_heading level0 col0\" >Name_model</th>\n",
       "      <th id=\"T_e5a64_level0_col1\" class=\"col_heading level0 col1\" >Best_score</th>\n",
       "      <th id=\"T_e5a64_level0_col2\" class=\"col_heading level0 col2\" >Time_to_tune</th>\n",
       "      <th id=\"T_e5a64_level0_col3\" class=\"col_heading level0 col3\" >Score_kaggle</th>\n",
       "      <th id=\"T_e5a64_level0_col4\" class=\"col_heading level0 col4\" >Best_params</th>\n",
       "    </tr>\n",
       "  </thead>\n",
       "  <tbody>\n",
       "    <tr>\n",
       "      <th id=\"T_e5a64_level0_row0\" class=\"row_heading level0 row0\" >0</th>\n",
       "      <td id=\"T_e5a64_row0_col0\" class=\"data row0 col0\" >logistic_regression</td>\n",
       "      <td id=\"T_e5a64_row0_col1\" class=\"data row0 col1\" >0.781549</td>\n",
       "      <td id=\"T_e5a64_row0_col2\" class=\"data row0 col2\" >12903</td>\n",
       "      <td id=\"T_e5a64_row0_col3\" class=\"data row0 col3\" >0.783490</td>\n",
       "      <td id=\"T_e5a64_row0_col4\" class=\"data row0 col4\" >{'feature_selection__k': 15, 'logistic__C': 0.021544346900318822, 'logistic__l1_ratio': 0.1, 'logistic__penalty': 'elasticnet', 'logistic__solver': 'saga'}</td>\n",
       "    </tr>\n",
       "    <tr>\n",
       "      <th id=\"T_e5a64_level0_row1\" class=\"row_heading level0 row1\" >1</th>\n",
       "      <td id=\"T_e5a64_row1_col0\" class=\"data row1 col0\" >knn</td>\n",
       "      <td id=\"T_e5a64_row1_col1\" class=\"data row1 col1\" >0.790294</td>\n",
       "      <td id=\"T_e5a64_row1_col2\" class=\"data row1 col2\" >64065</td>\n",
       "      <td id=\"T_e5a64_row1_col3\" class=\"data row1 col3\" >0.784420</td>\n",
       "      <td id=\"T_e5a64_row1_col4\" class=\"data row1 col4\" >{'feature_selection__k': 18, 'knn__n_neighbors': 31, 'knn__p': 1, 'knn__weights': 'uniform'}</td>\n",
       "    </tr>\n",
       "    <tr>\n",
       "      <th id=\"T_e5a64_level0_row2\" class=\"row_heading level0 row2\" >2</th>\n",
       "      <td id=\"T_e5a64_row2_col0\" class=\"data row2 col0\" >svm</td>\n",
       "      <td id=\"T_e5a64_row2_col1\" class=\"data row2 col1\" >0.801222</td>\n",
       "      <td id=\"T_e5a64_row2_col2\" class=\"data row2 col2\" >307954</td>\n",
       "      <td id=\"T_e5a64_row2_col3\" class=\"data row2 col3\" >0.798920</td>\n",
       "      <td id=\"T_e5a64_row2_col4\" class=\"data row2 col4\" >{'feature_selection__k': 20, 'svm__C': 0.46415888336127775, 'svm__degree': 3, 'svm__kernel': 'poly'}</td>\n",
       "    </tr>\n",
       "  </tbody>\n",
       "</table>\n"
      ],
      "text/plain": [
       "<pandas.io.formats.style.Styler at 0x2821451a0e0>"
      ]
     },
     "execution_count": 9,
     "metadata": {},
     "output_type": "execute_result"
    }
   ],
   "source": [
    "df_results = pd.DataFrame(columns=COLUMNS)\n",
    "NAME_VERSION = \"02\"\n",
    "\n",
    "for model in MODELS:\n",
    "    \n",
    "    if os.path.exists(os.path.join(REPO_MODEL, model + \"__v\" + NAME_VERSION + \".json\")):\n",
    "        with open(os.path.join(REPO_MODEL, model + \"__v\" + NAME_VERSION + \".json\"), \"r\") as file:\n",
    "            data = json.load(file)\n",
    "        df_results = pd.concat([\n",
    "            df_results, \n",
    "            pd.DataFrame({\n",
    "                \"Name_model\": [model], \n",
    "                \"Best_score\": [data[\"best_score\"]],\n",
    "                \"Time_to_tune\": [int(data[\"time_to_tune\"])],\n",
    "                \"Score_kaggle\": [data[\"score_kaggle\"]],\n",
    "                \"Best_params\": [data[\"best_params\"]],\n",
    "            })])\n",
    "        \n",
    "df_results.reset_index(inplace=True, drop=True)\n",
    "df_results.style.apply(lambda row: ['background-color: yellow'] * df_results.shape[1] if row.Best_score == max(df_results.Best_score) else ['background-color: white'] * df_results.shape[1], axis=1)"
   ]
  },
  {
   "cell_type": "markdown",
   "id": "ec63202b-62f9-43b6-99ba-db607d016079",
   "metadata": {
    "jp-MarkdownHeadingCollapsed": true,
    "tags": []
   },
   "source": [
    "#### Version 3"
   ]
  },
  {
   "cell_type": "code",
   "execution_count": 10,
   "id": "02a8cd1f-ac84-4632-b694-b26b861bf02f",
   "metadata": {},
   "outputs": [
    {
     "data": {
      "text/html": [
       "<style type=\"text/css\">\n",
       "#T_71bbc_row0_col0, #T_71bbc_row0_col1, #T_71bbc_row0_col2, #T_71bbc_row0_col3, #T_71bbc_row0_col4 {\n",
       "  background-color: white;\n",
       "}\n",
       "#T_71bbc_row1_col0, #T_71bbc_row1_col1, #T_71bbc_row1_col2, #T_71bbc_row1_col3, #T_71bbc_row1_col4 {\n",
       "  background-color: yellow;\n",
       "}\n",
       "</style>\n",
       "<table id=\"T_71bbc\">\n",
       "  <thead>\n",
       "    <tr>\n",
       "      <th class=\"blank level0\" >&nbsp;</th>\n",
       "      <th id=\"T_71bbc_level0_col0\" class=\"col_heading level0 col0\" >Name_model</th>\n",
       "      <th id=\"T_71bbc_level0_col1\" class=\"col_heading level0 col1\" >Best_score</th>\n",
       "      <th id=\"T_71bbc_level0_col2\" class=\"col_heading level0 col2\" >Time_to_tune</th>\n",
       "      <th id=\"T_71bbc_level0_col3\" class=\"col_heading level0 col3\" >Score_kaggle</th>\n",
       "      <th id=\"T_71bbc_level0_col4\" class=\"col_heading level0 col4\" >Best_params</th>\n",
       "    </tr>\n",
       "  </thead>\n",
       "  <tbody>\n",
       "    <tr>\n",
       "      <th id=\"T_71bbc_level0_row0\" class=\"row_heading level0 row0\" >0</th>\n",
       "      <td id=\"T_71bbc_row0_col0\" class=\"data row0 col0\" >logistic_regression</td>\n",
       "      <td id=\"T_71bbc_row0_col1\" class=\"data row0 col1\" >0.781665</td>\n",
       "      <td id=\"T_71bbc_row0_col2\" class=\"data row0 col2\" >57133</td>\n",
       "      <td id=\"T_71bbc_row0_col3\" class=\"data row0 col3\" >0.779280</td>\n",
       "      <td id=\"T_71bbc_row0_col4\" class=\"data row0 col4\" >{'feature_selection__k': 16, 'logistic__C': 0.21544346900318823, 'logistic__l1_ratio': 0.2, 'logistic__penalty': 'elasticnet', 'logistic__solver': 'saga'}</td>\n",
       "    </tr>\n",
       "    <tr>\n",
       "      <th id=\"T_71bbc_level0_row1\" class=\"row_heading level0 row1\" >1</th>\n",
       "      <td id=\"T_71bbc_row1_col0\" class=\"data row1 col0\" >knn</td>\n",
       "      <td id=\"T_71bbc_row1_col1\" class=\"data row1 col1\" >0.795932</td>\n",
       "      <td id=\"T_71bbc_row1_col2\" class=\"data row1 col2\" >75335</td>\n",
       "      <td id=\"T_71bbc_row1_col3\" class=\"data row1 col3\" >0.788870</td>\n",
       "      <td id=\"T_71bbc_row1_col4\" class=\"data row1 col4\" >{'feature_selection__k': 13, 'knn__n_neighbors': 48, 'knn__p': 1, 'knn__weights': 'uniform'}</td>\n",
       "    </tr>\n",
       "  </tbody>\n",
       "</table>\n"
      ],
      "text/plain": [
       "<pandas.io.formats.style.Styler at 0x28226891510>"
      ]
     },
     "execution_count": 10,
     "metadata": {},
     "output_type": "execute_result"
    }
   ],
   "source": [
    "df_results = pd.DataFrame(columns=COLUMNS)\n",
    "NAME_VERSION = \"03\"\n",
    "\n",
    "for model in MODELS:\n",
    "    \n",
    "    if os.path.exists(os.path.join(REPO_MODEL, model + \"__v\" + NAME_VERSION + \".json\")):\n",
    "        with open(os.path.join(REPO_MODEL, model + \"__v\" + NAME_VERSION + \".json\"), \"r\") as file:\n",
    "            data = json.load(file)\n",
    "        df_results = pd.concat([\n",
    "            df_results, \n",
    "            pd.DataFrame({\n",
    "                \"Name_model\": [model], \n",
    "                \"Best_score\": [data[\"best_score\"]],\n",
    "                \"Time_to_tune\": [int(data[\"time_to_tune\"])],\n",
    "                \"Score_kaggle\": [data[\"score_kaggle\"]],\n",
    "                \"Best_params\": [data[\"best_params\"]],\n",
    "            })])\n",
    "        \n",
    "df_results.reset_index(inplace=True, drop=True)\n",
    "df_results.style.apply(lambda row: ['background-color: yellow'] * df_results.shape[1] if row.Best_score == max(df_results.Best_score) else ['background-color: white'] * df_results.shape[1], axis=1)"
   ]
  },
  {
   "cell_type": "markdown",
   "id": "50adf2ee-a684-4017-9034-e99561d20df4",
   "metadata": {
    "jp-MarkdownHeadingCollapsed": true,
    "tags": []
   },
   "source": [
    "#### Version 4"
   ]
  },
  {
   "cell_type": "code",
   "execution_count": 11,
   "id": "82a352ec-5acc-4aab-bee0-8c4030381a81",
   "metadata": {},
   "outputs": [
    {
     "data": {
      "text/html": [
       "<style type=\"text/css\">\n",
       "#T_03e82_row0_col0, #T_03e82_row0_col1, #T_03e82_row0_col2, #T_03e82_row0_col3, #T_03e82_row0_col4 {\n",
       "  background-color: white;\n",
       "}\n",
       "#T_03e82_row1_col0, #T_03e82_row1_col1, #T_03e82_row1_col2, #T_03e82_row1_col3, #T_03e82_row1_col4 {\n",
       "  background-color: yellow;\n",
       "}\n",
       "</style>\n",
       "<table id=\"T_03e82\">\n",
       "  <thead>\n",
       "    <tr>\n",
       "      <th class=\"blank level0\" >&nbsp;</th>\n",
       "      <th id=\"T_03e82_level0_col0\" class=\"col_heading level0 col0\" >Name_model</th>\n",
       "      <th id=\"T_03e82_level0_col1\" class=\"col_heading level0 col1\" >Best_score</th>\n",
       "      <th id=\"T_03e82_level0_col2\" class=\"col_heading level0 col2\" >Time_to_tune</th>\n",
       "      <th id=\"T_03e82_level0_col3\" class=\"col_heading level0 col3\" >Score_kaggle</th>\n",
       "      <th id=\"T_03e82_level0_col4\" class=\"col_heading level0 col4\" >Best_params</th>\n",
       "    </tr>\n",
       "  </thead>\n",
       "  <tbody>\n",
       "    <tr>\n",
       "      <th id=\"T_03e82_level0_row0\" class=\"row_heading level0 row0\" >0</th>\n",
       "      <td id=\"T_03e82_row0_col0\" class=\"data row0 col0\" >logistic_regression</td>\n",
       "      <td id=\"T_03e82_row0_col1\" class=\"data row0 col1\" >0.780629</td>\n",
       "      <td id=\"T_03e82_row0_col2\" class=\"data row0 col2\" >58302</td>\n",
       "      <td id=\"T_03e82_row0_col3\" class=\"data row0 col3\" >0.785120</td>\n",
       "      <td id=\"T_03e82_row0_col4\" class=\"data row0 col4\" >{'feature_selection__k': 24, 'logistic__C': 0.01, 'logistic__penalty': 'l2', 'logistic__solver': 'liblinear'}</td>\n",
       "    </tr>\n",
       "    <tr>\n",
       "      <th id=\"T_03e82_level0_row1\" class=\"row_heading level0 row1\" >1</th>\n",
       "      <td id=\"T_03e82_row1_col0\" class=\"data row1 col0\" >knn</td>\n",
       "      <td id=\"T_03e82_row1_col1\" class=\"data row1 col1\" >0.795009</td>\n",
       "      <td id=\"T_03e82_row1_col2\" class=\"data row1 col2\" >105862</td>\n",
       "      <td id=\"T_03e82_row1_col3\" class=\"data row1 col3\" >0.787230</td>\n",
       "      <td id=\"T_03e82_row1_col4\" class=\"data row1 col4\" >{'feature_selection__k': 18, 'knn__n_neighbors': 33, 'knn__p': 1, 'knn__weights': 'uniform'}</td>\n",
       "    </tr>\n",
       "  </tbody>\n",
       "</table>\n"
      ],
      "text/plain": [
       "<pandas.io.formats.style.Styler at 0x28226893910>"
      ]
     },
     "execution_count": 11,
     "metadata": {},
     "output_type": "execute_result"
    }
   ],
   "source": [
    "df_results = pd.DataFrame(columns=COLUMNS)\n",
    "NAME_VERSION = \"04\"\n",
    "\n",
    "for model in MODELS:\n",
    "    \n",
    "    if os.path.exists(os.path.join(REPO_MODEL, model + \"__v\" + NAME_VERSION + \".json\")):\n",
    "        with open(os.path.join(REPO_MODEL, model + \"__v\" + NAME_VERSION + \".json\"), \"r\") as file:\n",
    "            data = json.load(file)\n",
    "        df_results = pd.concat([\n",
    "            df_results, \n",
    "            pd.DataFrame({\n",
    "                \"Name_model\": [model], \n",
    "                \"Best_score\": [data[\"best_score\"]],\n",
    "                \"Time_to_tune\": [int(data[\"time_to_tune\"])],\n",
    "                \"Score_kaggle\": [data[\"score_kaggle\"]],\n",
    "                \"Best_params\": [data[\"best_params\"]],\n",
    "            })])\n",
    "        \n",
    "df_results.reset_index(inplace=True, drop=True)\n",
    "df_results.style.apply(lambda row: ['background-color: yellow'] * df_results.shape[1] if row.Best_score == max(df_results.Best_score) else ['background-color: white'] * df_results.shape[1], axis=1)"
   ]
  },
  {
   "cell_type": "markdown",
   "id": "fe202ba0-6762-4b4b-8eab-030e34af1075",
   "metadata": {
    "jp-MarkdownHeadingCollapsed": true,
    "tags": []
   },
   "source": [
    "#### Version 5"
   ]
  },
  {
   "cell_type": "code",
   "execution_count": 12,
   "id": "18fc936c-38f4-41cd-9470-e246a0592226",
   "metadata": {},
   "outputs": [
    {
     "ename": "KeyError",
     "evalue": "'score_kaggle'",
     "output_type": "error",
     "traceback": [
      "\u001b[1;31m---------------------------------------------------------------------------\u001b[0m",
      "\u001b[1;31mKeyError\u001b[0m                                  Traceback (most recent call last)",
      "Input \u001b[1;32mIn [12]\u001b[0m, in \u001b[0;36m<cell line: 4>\u001b[1;34m()\u001b[0m\n\u001b[0;32m      7\u001b[0m         \u001b[38;5;28;01mwith\u001b[39;00m \u001b[38;5;28mopen\u001b[39m(os\u001b[38;5;241m.\u001b[39mpath\u001b[38;5;241m.\u001b[39mjoin(REPO_MODEL, model \u001b[38;5;241m+\u001b[39m \u001b[38;5;124m\"\u001b[39m\u001b[38;5;124m__v\u001b[39m\u001b[38;5;124m\"\u001b[39m \u001b[38;5;241m+\u001b[39m NAME_VERSION \u001b[38;5;241m+\u001b[39m \u001b[38;5;124m\"\u001b[39m\u001b[38;5;124m.json\u001b[39m\u001b[38;5;124m\"\u001b[39m), \u001b[38;5;124m\"\u001b[39m\u001b[38;5;124mr\u001b[39m\u001b[38;5;124m\"\u001b[39m) \u001b[38;5;28;01mas\u001b[39;00m file:\n\u001b[0;32m      8\u001b[0m             data \u001b[38;5;241m=\u001b[39m json\u001b[38;5;241m.\u001b[39mload(file)\n\u001b[0;32m      9\u001b[0m         df_results \u001b[38;5;241m=\u001b[39m pd\u001b[38;5;241m.\u001b[39mconcat([\n\u001b[0;32m     10\u001b[0m             df_results, \n\u001b[0;32m     11\u001b[0m             pd\u001b[38;5;241m.\u001b[39mDataFrame({\n\u001b[0;32m     12\u001b[0m                 \u001b[38;5;124m\"\u001b[39m\u001b[38;5;124mName_model\u001b[39m\u001b[38;5;124m\"\u001b[39m: [model], \n\u001b[0;32m     13\u001b[0m                 \u001b[38;5;124m\"\u001b[39m\u001b[38;5;124mBest_score\u001b[39m\u001b[38;5;124m\"\u001b[39m: [data[\u001b[38;5;124m\"\u001b[39m\u001b[38;5;124mbest_score\u001b[39m\u001b[38;5;124m\"\u001b[39m]],\n\u001b[0;32m     14\u001b[0m                 \u001b[38;5;124m\"\u001b[39m\u001b[38;5;124mTime_to_tune\u001b[39m\u001b[38;5;124m\"\u001b[39m: [\u001b[38;5;28mint\u001b[39m(data[\u001b[38;5;124m\"\u001b[39m\u001b[38;5;124mtime_to_tune\u001b[39m\u001b[38;5;124m\"\u001b[39m])],\n\u001b[1;32m---> 15\u001b[0m                 \u001b[38;5;124m\"\u001b[39m\u001b[38;5;124mScore_kaggle\u001b[39m\u001b[38;5;124m\"\u001b[39m: [\u001b[43mdata\u001b[49m\u001b[43m[\u001b[49m\u001b[38;5;124;43m\"\u001b[39;49m\u001b[38;5;124;43mscore_kaggle\u001b[39;49m\u001b[38;5;124;43m\"\u001b[39;49m\u001b[43m]\u001b[49m],\n\u001b[0;32m     16\u001b[0m                 \u001b[38;5;124m\"\u001b[39m\u001b[38;5;124mBest_params\u001b[39m\u001b[38;5;124m\"\u001b[39m: [data[\u001b[38;5;124m\"\u001b[39m\u001b[38;5;124mbest_params\u001b[39m\u001b[38;5;124m\"\u001b[39m]],\n\u001b[0;32m     17\u001b[0m             })])\n\u001b[0;32m     19\u001b[0m df_results\u001b[38;5;241m.\u001b[39mreset_index(inplace\u001b[38;5;241m=\u001b[39m\u001b[38;5;28;01mTrue\u001b[39;00m, drop\u001b[38;5;241m=\u001b[39m\u001b[38;5;28;01mTrue\u001b[39;00m)\n\u001b[0;32m     20\u001b[0m df_results\u001b[38;5;241m.\u001b[39mstyle\u001b[38;5;241m.\u001b[39mapply(\u001b[38;5;28;01mlambda\u001b[39;00m row: [\u001b[38;5;124m'\u001b[39m\u001b[38;5;124mbackground-color: yellow\u001b[39m\u001b[38;5;124m'\u001b[39m] \u001b[38;5;241m*\u001b[39m df_results\u001b[38;5;241m.\u001b[39mshape[\u001b[38;5;241m1\u001b[39m] \u001b[38;5;28;01mif\u001b[39;00m row\u001b[38;5;241m.\u001b[39mBest_score \u001b[38;5;241m==\u001b[39m \u001b[38;5;28mmax\u001b[39m(df_results\u001b[38;5;241m.\u001b[39mBest_score) \u001b[38;5;28;01melse\u001b[39;00m [\u001b[38;5;124m'\u001b[39m\u001b[38;5;124mbackground-color: white\u001b[39m\u001b[38;5;124m'\u001b[39m] \u001b[38;5;241m*\u001b[39m df_results\u001b[38;5;241m.\u001b[39mshape[\u001b[38;5;241m1\u001b[39m], axis\u001b[38;5;241m=\u001b[39m\u001b[38;5;241m1\u001b[39m)\n",
      "\u001b[1;31mKeyError\u001b[0m: 'score_kaggle'"
     ]
    }
   ],
   "source": [
    "df_results = pd.DataFrame(columns=COLUMNS)\n",
    "NAME_VERSION = \"05\"\n",
    "\n",
    "for model in MODELS:\n",
    "    \n",
    "    if os.path.exists(os.path.join(REPO_MODEL, model + \"__v\" + NAME_VERSION + \".json\")):\n",
    "        with open(os.path.join(REPO_MODEL, model + \"__v\" + NAME_VERSION + \".json\"), \"r\") as file:\n",
    "            data = json.load(file)\n",
    "        df_results = pd.concat([\n",
    "            df_results, \n",
    "            pd.DataFrame({\n",
    "                \"Name_model\": [model], \n",
    "                \"Best_score\": [data[\"best_score\"]],\n",
    "                \"Time_to_tune\": [int(data[\"time_to_tune\"])],\n",
    "                \"Score_kaggle\": [data[\"score_kaggle\"]],\n",
    "                \"Best_params\": [data[\"best_params\"]],\n",
    "            })])\n",
    "        \n",
    "df_results.reset_index(inplace=True, drop=True)\n",
    "df_results.style.apply(lambda row: ['background-color: yellow'] * df_results.shape[1] if row.Best_score == max(df_results.Best_score) else ['background-color: white'] * df_results.shape[1], axis=1)"
   ]
  },
  {
   "cell_type": "markdown",
   "id": "6acfa59a-ccdb-47a5-a7e9-47dc996d4934",
   "metadata": {
    "jp-MarkdownHeadingCollapsed": true,
    "tags": []
   },
   "source": [
    "#### Version 6"
   ]
  },
  {
   "cell_type": "code",
   "execution_count": null,
   "id": "f799e2e6-1d8c-48c2-b3c8-854530a39f96",
   "metadata": {},
   "outputs": [],
   "source": [
    "df_results = pd.DataFrame(columns=COLUMNS)\n",
    "NAME_VERSION = \"06\"\n",
    "\n",
    "for model in MODELS:\n",
    "    \n",
    "    if os.path.exists(os.path.join(REPO_MODEL, model + \"__v\" + NAME_VERSION + \".json\")):\n",
    "        with open(os.path.join(REPO_MODEL, model + \"__v\" + NAME_VERSION + \".json\"), \"r\") as file:\n",
    "            data = json.load(file)\n",
    "        df_results = pd.concat([\n",
    "            df_results, \n",
    "            pd.DataFrame({\n",
    "                \"Name_model\": [model], \n",
    "                \"Best_score\": [data[\"best_score\"]],\n",
    "                \"Time_to_tune\": [int(data[\"time_to_tune\"])],\n",
    "                \"Score_kaggle\": [data[\"score_kaggle\"]],\n",
    "                \"Best_params\": [data[\"best_params\"]],\n",
    "            })])\n",
    "        \n",
    "df_results.reset_index(inplace=True, drop=True)\n",
    "df_results.style.apply(lambda row: ['background-color: yellow'] * df_results.shape[1] if row.Best_score == max(df_results.Best_score) else ['background-color: white'] * df_results.shape[1], axis=1)"
   ]
  },
  {
   "cell_type": "markdown",
   "id": "55f128ca-7935-4e06-86ff-19485b32b8d0",
   "metadata": {
    "jp-MarkdownHeadingCollapsed": true,
    "tags": []
   },
   "source": [
    "#### Version 7"
   ]
  },
  {
   "cell_type": "code",
   "execution_count": null,
   "id": "57d8bae1-f9e3-4141-9c2c-be72bed2e114",
   "metadata": {},
   "outputs": [],
   "source": [
    "df_results = pd.DataFrame(columns=COLUMNS)\n",
    "NAME_VERSION = \"07\"\n",
    "\n",
    "for model in MODELS:\n",
    "    \n",
    "    if os.path.exists(os.path.join(REPO_MODEL, model + \"__v\" + NAME_VERSION + \".json\")):\n",
    "        with open(os.path.join(REPO_MODEL, model + \"__v\" + NAME_VERSION + \".json\"), \"r\") as file:\n",
    "            data = json.load(file)\n",
    "        df_results = pd.concat([\n",
    "            df_results, \n",
    "            pd.DataFrame({\n",
    "                \"Name_model\": [model], \n",
    "                \"Best_score\": [data[\"best_score\"]],\n",
    "                \"Time_to_tune\": [int(data[\"time_to_tune\"])],\n",
    "                \"Score_kaggle\": [data[\"score_kaggle\"]],\n",
    "                \"Best_params\": [data[\"best_params\"]],\n",
    "            })])\n",
    "        \n",
    "df_results.reset_index(inplace=True, drop=True)\n",
    "df_results.style.apply(lambda row: ['background-color: yellow'] * df_results.shape[1] if row.Best_score == max(df_results.Best_score) else ['background-color: white'] * df_results.shape[1], axis=1)"
   ]
  },
  {
   "cell_type": "markdown",
   "id": "cd0b6c25-3f03-43ea-ae31-1397e5fba2f5",
   "metadata": {
    "jp-MarkdownHeadingCollapsed": true,
    "tags": []
   },
   "source": [
    "#### Version 8"
   ]
  },
  {
   "cell_type": "code",
   "execution_count": null,
   "id": "02395a1e-d9f3-4126-97c0-5a60292c7df4",
   "metadata": {},
   "outputs": [],
   "source": [
    "df_results = pd.DataFrame(columns=COLUMNS)\n",
    "NAME_VERSION = \"08\"\n",
    "\n",
    "for model in MODELS:\n",
    "    \n",
    "    if os.path.exists(os.path.join(REPO_MODEL, model + \"__v\" + NAME_VERSION + \".json\")):\n",
    "        with open(os.path.join(REPO_MODEL, model + \"__v\" + NAME_VERSION + \".json\"), \"r\") as file:\n",
    "            data = json.load(file)\n",
    "        df_results = pd.concat([\n",
    "            df_results, \n",
    "            pd.DataFrame({\n",
    "                \"Name_model\": [model], \n",
    "                \"Best_score\": [data[\"best_score\"]],\n",
    "                \"Time_to_tune\": [int(data[\"time_to_tune\"])],\n",
    "                \"Score_kaggle\": [data[\"score_kaggle\"]],\n",
    "                \"Best_params\": [data[\"best_params\"]],\n",
    "            })])\n",
    "        \n",
    "df_results.reset_index(inplace=True, drop=True)\n",
    "df_results.style.apply(lambda row: ['background-color: yellow'] * df_results.shape[1] if row.Best_score == max(df_results.Best_score) else ['background-color: white'] * df_results.shape[1], axis=1)"
   ]
  },
  {
   "cell_type": "markdown",
   "id": "c298e705-dc61-42aa-a05e-a7e19d749e90",
   "metadata": {
    "jp-MarkdownHeadingCollapsed": true,
    "tags": []
   },
   "source": [
    "#### Version 9"
   ]
  },
  {
   "cell_type": "code",
   "execution_count": null,
   "id": "b2b2533e-c387-4af2-b13d-76a641263b2b",
   "metadata": {},
   "outputs": [],
   "source": [
    "df_results = pd.DataFrame(columns=COLUMNS)\n",
    "NAME_VERSION = \"09\"\n",
    "\n",
    "for model in MODELS:\n",
    "    \n",
    "    if os.path.exists(os.path.join(REPO_MODEL, model + \"__v\" + NAME_VERSION + \".json\")):\n",
    "        with open(os.path.join(REPO_MODEL, model + \"__v\" + NAME_VERSION + \".json\"), \"r\") as file:\n",
    "            data = json.load(file)\n",
    "        df_results = pd.concat([\n",
    "            df_results, \n",
    "            pd.DataFrame({\n",
    "                \"Name_model\": [model], \n",
    "                \"Best_score\": [data[\"best_score\"]],\n",
    "                \"Time_to_tune\": [int(data[\"time_to_tune\"])],\n",
    "                \"Score_kaggle\": [data[\"score_kaggle\"]],\n",
    "                \"Best_params\": [data[\"best_params\"]],\n",
    "            })])\n",
    "        \n",
    "df_results.reset_index(inplace=True, drop=True)\n",
    "df_results.style.apply(lambda row: ['background-color: yellow'] * df_results.shape[1] if row.Best_score == max(df_results.Best_score) else ['background-color: white'] * df_results.shape[1], axis=1)"
   ]
  },
  {
   "cell_type": "markdown",
   "id": "e27c2e58-d5f7-4a5a-9c26-651fcfa384d9",
   "metadata": {
    "tags": []
   },
   "source": [
    "## ------------------------------------------------------------------------------------------------------------"
   ]
  },
  {
   "cell_type": "code",
   "execution_count": 9,
   "id": "fa20f3c7-3247-48ca-acaa-92e3c57993c6",
   "metadata": {},
   "outputs": [],
   "source": [
    "from titanic_spaceship_package.preprocessor import preprocessor\n",
    "from datetime import datetime\n",
    "\n",
    "X = preprocessor.fit_transform(X_train)"
   ]
  },
  {
   "cell_type": "code",
   "execution_count": null,
   "id": "8321f7de-acf1-4a9b-a0f3-fa494326a41e",
   "metadata": {},
   "outputs": [],
   "source": [
    "from lightautoml.automl.presets.tabular_presets import TabularAutoML, TabularUtilizedAutoML\n",
    "from lightautoml.tasks import Task\n",
    "from sklearn.metrics import accuracy_score"
   ]
  },
  {
   "cell_type": "code",
   "execution_count": null,
   "id": "f486c8c9-507c-45fd-b743-aac6d56f7ee5",
   "metadata": {},
   "outputs": [],
   "source": [
    "def accuracy_metric(y_true, y_pred):\n",
    "    return accuracy_score(y_true, (y_pred > 0.5).astype(int))\n",
    "\n",
    "task = Task('binary', metric = accuracy_metric)"
   ]
  },
  {
   "cell_type": "code",
   "execution_count": null,
   "id": "f98caee9-2826-4de7-934e-5db923a1ea92",
   "metadata": {},
   "outputs": [],
   "source": [
    "roles = {'target': 'Transported'}"
   ]
  }
 ],
 "metadata": {
  "kernelspec": {
   "display_name": "Python 3 (ipykernel)",
   "language": "python",
   "name": "python3"
  },
  "language_info": {
   "codemirror_mode": {
    "name": "ipython",
    "version": 3
   },
   "file_extension": ".py",
   "mimetype": "text/x-python",
   "name": "python",
   "nbconvert_exporter": "python",
   "pygments_lexer": "ipython3",
   "version": "3.10.4"
  }
 },
 "nbformat": 4,
 "nbformat_minor": 5
}
