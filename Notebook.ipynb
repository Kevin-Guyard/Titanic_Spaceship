{
 "cells": [
  {
   "cell_type": "markdown",
   "id": "b7e40172",
   "metadata": {
    "tags": []
   },
   "source": [
    "# Titanic spaceship kaggle competition"
   ]
  },
  {
   "cell_type": "markdown",
   "id": "d20c8dc5",
   "metadata": {
    "jp-MarkdownHeadingCollapsed": true,
    "tags": []
   },
   "source": [
    "## Initialisation"
   ]
  },
  {
   "cell_type": "code",
   "execution_count": 1,
   "id": "b2520630",
   "metadata": {},
   "outputs": [],
   "source": [
    "import numpy as np\n",
    "import pandas as pd\n",
    "import kaggle\n",
    "import os\n",
    "import json\n",
    "import time\n",
    "from titanic_spaceship_package import dataframe_preprocessing, get_pipeline"
   ]
  },
  {
   "cell_type": "code",
   "execution_count": 2,
   "id": "d233cf76",
   "metadata": {},
   "outputs": [],
   "source": [
    "REPO_DATA = 'data'\n",
    "REPO_DATA_PREPROCESSED = 'data_preprocessed'\n",
    "REPO_MODEL = 'model'\n",
    "REPO_SUBMISSION = 'submission'"
   ]
  },
  {
   "cell_type": "code",
   "execution_count": 3,
   "id": "4622c3f4",
   "metadata": {},
   "outputs": [],
   "source": [
    "if not os.path.exists(REPO_DATA):\n",
    "    os.mkdir(REPO_DATA)\n",
    "if not os.path.exists(REPO_DATA_PREPROCESSED):\n",
    "    os.mkdir(REPO_DATA_PREPROCESSED)\n",
    "if not os.path.exists(REPO_MODEL):\n",
    "    os.mkdir(REPO_MODEL)\n",
    "if not os.path.exists(REPO_SUBMISSION):\n",
    "    os.mkdir(REPO_SUBMISSION)"
   ]
  },
  {
   "cell_type": "markdown",
   "id": "a92971bf",
   "metadata": {
    "jp-MarkdownHeadingCollapsed": true,
    "tags": []
   },
   "source": [
    "## Load data"
   ]
  },
  {
   "cell_type": "code",
   "execution_count": 4,
   "id": "0e1fee3d",
   "metadata": {},
   "outputs": [],
   "source": [
    "import zipfile\n",
    "\n",
    "if not os.path.exists(os.path.join(REPO_DATA, 'train.csv')) \\\n",
    "or not os.path.exists(os.path.join(REPO_DATA, 'test.csv')) \\\n",
    "or not os.path.exists(os.path.join(REPO_DATA, 'sample_submission.csv')):\n",
    "    \n",
    "    !kaggle competitions download -c spaceship-titanic -p $REPO_DATA\n",
    "    \n",
    "    with zipfile.ZipFile(os.path.join(REPO_DATA, 'spaceship-titanic.zip'), 'r') as zip_ref:\n",
    "        zip_ref.extractall(REPO_DATA)\n",
    "        \n",
    "df_train = pd.read_csv(os.path.join(REPO_DATA, 'train.csv'))\n",
    "df_test = pd.read_csv(os.path.join(REPO_DATA, 'test.csv'))"
   ]
  },
  {
   "cell_type": "code",
   "execution_count": 5,
   "id": "7e2394af",
   "metadata": {},
   "outputs": [],
   "source": [
    "if not os.path.exists(os.path.join(REPO_DATA_PREPROCESSED, \"X_train.csv\")) \\\n",
    "or not os.path.exists(os.path.join(REPO_DATA_PREPROCESSED, \"X_test.csv\")) \\\n",
    "or not os.path.exists(os.path.join(REPO_DATA_PREPROCESSED, \"y_train.csv\")) \\\n",
    "or not os.path.exists(os.path.join(REPO_DATA_PREPROCESSED, \"list_passenger_id.csv\")):\n",
    "    \n",
    "    X_train, X_test, y_train, list_passenger_id = dataframe_preprocessing(df_train, df_test)\n",
    "    X_train.to_csv(os.path.join(REPO_DATA_PREPROCESSED, \"X_train.csv\"), index=False)\n",
    "    X_test.to_csv(os.path.join(REPO_DATA_PREPROCESSED, \"X_test.csv\"), index=False)\n",
    "    y_train.to_csv(os.path.join(REPO_DATA_PREPROCESSED, \"y_train.csv\"), index=False)\n",
    "    list_passenger_id.to_csv(os.path.join(REPO_DATA_PREPROCESSED, \"list_passenger_id.csv\"), index=False)\n",
    "    \n",
    "else:\n",
    "    \n",
    "    X_train = pd.read_csv(os.path.join(REPO_DATA_PREPROCESSED, \"X_train.csv\"))\n",
    "    X_test = pd.read_csv(os.path.join(REPO_DATA_PREPROCESSED, \"X_test.csv\"))\n",
    "    y_train = pd.read_csv(os.path.join(REPO_DATA_PREPROCESSED, \"y_train.csv\")).Transported\n",
    "    list_passenger_id = pd.read_csv(os.path.join(REPO_DATA_PREPROCESSED, \"list_passenger_id.csv\")).PassengerId"
   ]
  },
  {
   "cell_type": "markdown",
   "id": "ac0bb420",
   "metadata": {
    "jp-MarkdownHeadingCollapsed": true,
    "tags": []
   },
   "source": [
    "## Kaggle submission function"
   ]
  },
  {
   "cell_type": "code",
   "execution_count": 6,
   "id": "4e77d8b9",
   "metadata": {},
   "outputs": [],
   "source": [
    "def analyze_model(model_name, repo_model, repo_submission, X_train, y_train, X_test, list_passenger_id):\n",
    "    \n",
    "    with open(os.path.join(repo_model, model_name + \".json\"), 'r') as file:\n",
    "        data = json.load(file)\n",
    "        \n",
    "    print(\"Model name: {}\".format(data.get(\"model_name\")))\n",
    "    print(\"Cross validation score: {:.5f}\".format(data.get(\"best_score\")))\n",
    "    print(\"Best params: {}\".format(data.get(\"best_params\")))\n",
    "    print(\"Time to tune: {} seconds\".format(int(data.get(\"time_to_tune\"))))\n",
    "    \n",
    "    score_kaggle = data.get(\"score_kaggle\")\n",
    "    \n",
    "    if score_kaggle == None:\n",
    "    \n",
    "        pipeline = get_pipeline(model_name=model_name)\n",
    "        pipeline = pipeline.set_params(**data[\"best_params\"])\n",
    "        pipeline = pipeline.fit(X_train, y_train)\n",
    "        y_pred = pipeline.predict(X_test)\n",
    "\n",
    "        submission = pd.DataFrame({'PassengerId': list_passenger_id, 'Transported': y_pred})\n",
    "        submission.to_csv(os.path.join(repo_submission, model_name + \".csv\"), index=False)\n",
    "            \n",
    "        path = os.path.join(repo_submission, model_name + \".csv\")\n",
    "        request = !kaggle competitions submit -c spaceship-titanic -f $path -m $model_name\"\n",
    "                \n",
    "        time.sleep(5)\n",
    "        \n",
    "        response = !kaggle competitions submissions -c spaceship-titanic --csv\n",
    "        score_kaggle = float(response[2].split(',')[4])\n",
    "        \n",
    "        data[\"score_kaggle\"] = score_kaggle\n",
    "        \n",
    "        with open(os.path.join(repo_model, model_name + \".json\"), 'w+') as file:\n",
    "            json.dump(data, file)\n",
    "        \n",
    "    print(\"Kaggle submission score: {}\".format(score_kaggle))"
   ]
  },
  {
   "cell_type": "markdown",
   "id": "503bba4a",
   "metadata": {
    "jp-MarkdownHeadingCollapsed": true,
    "tags": []
   },
   "source": [
    "## Basic features"
   ]
  },
  {
   "cell_type": "markdown",
   "id": "8990a192",
   "metadata": {
    "jp-MarkdownHeadingCollapsed": true,
    "tags": []
   },
   "source": [
    "### Pipeline v1"
   ]
  },
  {
   "cell_type": "markdown",
   "id": "10a5f886",
   "metadata": {
    "jp-MarkdownHeadingCollapsed": true,
    "tags": []
   },
   "source": [
    "#### Logistic regression"
   ]
  },
  {
   "cell_type": "code",
   "execution_count": 18,
   "id": "d561f031",
   "metadata": {},
   "outputs": [
    {
     "name": "stdout",
     "output_type": "stream",
     "text": [
      "Model name: logistic_regression__v01\n",
      "Cross validation score: 0.77948\n",
      "Best params: {'logistic__C': 0.01, 'logistic__penalty': 'l2', 'logistic__solver': 'liblinear'}\n",
      "Time to tune: 1476 seconds\n",
      "Kaggle submission score: 0.78442\n"
     ]
    }
   ],
   "source": [
    "MODEL_NAME = \"logistic_regression__v01\"\n",
    "\n",
    "if not os.path.exists(os.path.join(REPO_MODEL, MODEL_NAME + \".json\")):\n",
    "    !python script_tuning.py $MODEL_NAME\n",
    "    \n",
    "analyze_model(\n",
    "    model_name=MODEL_NAME, \n",
    "    repo_model=REPO_MODEL, \n",
    "    repo_submission=REPO_SUBMISSION, \n",
    "    X_train=X_train, \n",
    "    y_train=y_train, \n",
    "    X_test=X_test, \n",
    "    list_passenger_id=list_passenger_id\n",
    ")"
   ]
  },
  {
   "cell_type": "markdown",
   "id": "b12319da",
   "metadata": {
    "jp-MarkdownHeadingCollapsed": true,
    "tags": []
   },
   "source": [
    "#### KNN"
   ]
  },
  {
   "cell_type": "code",
   "execution_count": 7,
   "id": "8015df9f",
   "metadata": {},
   "outputs": [
    {
     "name": "stdout",
     "output_type": "stream",
     "text": [
      "Model name: knn__v01\n",
      "Cross validation score: 0.78880\n",
      "Best params: {'knn__n_neighbors': 47, 'knn__p': 2, 'knn__weights': 'uniform'}\n",
      "Time to tune: 5311 seconds\n",
      "Kaggle submission score: 0.78793\n"
     ]
    }
   ],
   "source": [
    "MODEL_NAME = \"knn__v01\"\n",
    "\n",
    "if not os.path.exists(os.path.join(REPO_MODEL, MODEL_NAME + \".json\")):\n",
    "    !python script_tuning.py $MODEL_NAME\n",
    "\n",
    "analyze_model(\n",
    "    model_name=MODEL_NAME, \n",
    "    repo_model=REPO_MODEL, \n",
    "    repo_submission=REPO_SUBMISSION, \n",
    "    X_train=X_train, \n",
    "    y_train=y_train, \n",
    "    X_test=X_test, \n",
    "    list_passenger_id=list_passenger_id\n",
    ")"
   ]
  },
  {
   "cell_type": "markdown",
   "id": "5c91df41",
   "metadata": {
    "jp-MarkdownHeadingCollapsed": true,
    "tags": []
   },
   "source": [
    "#### SVM"
   ]
  },
  {
   "cell_type": "code",
   "execution_count": 8,
   "id": "5fea51f0",
   "metadata": {},
   "outputs": [
    {
     "name": "stdout",
     "output_type": "stream",
     "text": [
      "Model name: svm__v01\n",
      "Cross validation score: 0.80053\n",
      "Best params: {'svm__C': 0.46415888336127775, 'svm__degree': 3, 'svm__kernel': 'poly'}\n",
      "Time to tune: 2623 seconds\n",
      "Kaggle submission score: 0.80032\n"
     ]
    }
   ],
   "source": [
    "MODEL_NAME = \"svm__v01\"\n",
    "\n",
    "if not os.path.exists(os.path.join(REPO_MODEL, MODEL_NAME + \".json\")):\n",
    "    !python script_tuning.py $MODEL_NAME\n",
    "\n",
    "analyze_model(\n",
    "    model_name=MODEL_NAME, \n",
    "    repo_model=REPO_MODEL, \n",
    "    repo_submission=REPO_SUBMISSION, \n",
    "    X_train=X_train, \n",
    "    y_train=y_train, \n",
    "    X_test=X_test, \n",
    "    list_passenger_id=list_passenger_id\n",
    ")"
   ]
  },
  {
   "cell_type": "markdown",
   "id": "34ce36d9",
   "metadata": {
    "jp-MarkdownHeadingCollapsed": true,
    "tags": []
   },
   "source": [
    "#### GNB"
   ]
  },
  {
   "cell_type": "code",
   "execution_count": 9,
   "id": "9d9f6760",
   "metadata": {},
   "outputs": [
    {
     "name": "stdout",
     "output_type": "stream",
     "text": [
      "Model name: gnb__v01\n",
      "Cross validation score: 0.75774\n",
      "Best params: {'gnb__var_smoothing': 0.811130830789689}\n",
      "Time to tune: 42 seconds\n",
      "Kaggle submission score: 0.77016\n"
     ]
    }
   ],
   "source": [
    "MODEL_NAME = \"gnb__v01\"\n",
    "\n",
    "if not os.path.exists(os.path.join(REPO_MODEL, MODEL_NAME + \".json\")):\n",
    "    !python script_tuning.py $MODEL_NAME\n",
    "\n",
    "analyze_model(\n",
    "    model_name=MODEL_NAME, \n",
    "    repo_model=REPO_MODEL, \n",
    "    repo_submission=REPO_SUBMISSION, \n",
    "    X_train=X_train, \n",
    "    y_train=y_train, \n",
    "    X_test=X_test, \n",
    "    list_passenger_id=list_passenger_id\n",
    ")"
   ]
  },
  {
   "cell_type": "markdown",
   "id": "221efe7f",
   "metadata": {
    "jp-MarkdownHeadingCollapsed": true,
    "tags": []
   },
   "source": [
    "### Pipeline v2"
   ]
  },
  {
   "cell_type": "markdown",
   "id": "f4c8c16d",
   "metadata": {
    "jp-MarkdownHeadingCollapsed": true,
    "tags": []
   },
   "source": [
    "#### Logistic regression"
   ]
  },
  {
   "cell_type": "code",
   "execution_count": 10,
   "id": "d047ba98",
   "metadata": {},
   "outputs": [
    {
     "name": "stdout",
     "output_type": "stream",
     "text": [
      "Model name: logistic_regression__v02\n",
      "Cross validation score: 0.78155\n",
      "Best params: {'feature_selection__k': 15, 'logistic__C': 0.021544346900318822, 'logistic__l1_ratio': 0.1, 'logistic__penalty': 'elasticnet', 'logistic__solver': 'saga'}\n",
      "Time to tune: 12903 seconds\n",
      "Kaggle submission score: 0.78349\n"
     ]
    }
   ],
   "source": [
    "MODEL_NAME = \"logistic_regression__v02\"\n",
    "\n",
    "if not os.path.exists(os.path.join(REPO_MODEL, MODEL_NAME + \".json\")):\n",
    "    !python script_tuning.py $MODEL_NAME\n",
    "\n",
    "analyze_model(\n",
    "    model_name=MODEL_NAME, \n",
    "    repo_model=REPO_MODEL, \n",
    "    repo_submission=REPO_SUBMISSION, \n",
    "    X_train=X_train, \n",
    "    y_train=y_train, \n",
    "    X_test=X_test, \n",
    "    list_passenger_id=list_passenger_id\n",
    ")"
   ]
  },
  {
   "cell_type": "markdown",
   "id": "4d639490",
   "metadata": {
    "jp-MarkdownHeadingCollapsed": true,
    "tags": []
   },
   "source": [
    "#### KNN"
   ]
  },
  {
   "cell_type": "code",
   "execution_count": 11,
   "id": "d196e139",
   "metadata": {},
   "outputs": [
    {
     "name": "stdout",
     "output_type": "stream",
     "text": [
      "Model name: knn__v02\n",
      "Cross validation score: 0.79029\n",
      "Best params: {'feature_selection__k': 18, 'knn__n_neighbors': 31, 'knn__p': 1, 'knn__weights': 'uniform'}\n",
      "Time to tune: 64065 seconds\n",
      "Kaggle submission score: 0.78442\n"
     ]
    }
   ],
   "source": [
    "MODEL_NAME = \"knn__v02\"\n",
    "\n",
    "if not os.path.exists(os.path.join(REPO_MODEL, MODEL_NAME + \".json\")):\n",
    "    !python script_tuning.py $MODEL_NAME\n",
    "\n",
    "analyze_model(\n",
    "    model_name=MODEL_NAME, \n",
    "    repo_model=REPO_MODEL, \n",
    "    repo_submission=REPO_SUBMISSION, \n",
    "    X_train=X_train, \n",
    "    y_train=y_train, \n",
    "    X_test=X_test, \n",
    "    list_passenger_id=list_passenger_id\n",
    ")"
   ]
  },
  {
   "cell_type": "markdown",
   "id": "8ad4e019",
   "metadata": {
    "jp-MarkdownHeadingCollapsed": true,
    "tags": []
   },
   "source": [
    "#### SVM"
   ]
  },
  {
   "cell_type": "code",
   "execution_count": 12,
   "id": "cf4f6be7",
   "metadata": {},
   "outputs": [
    {
     "name": "stdout",
     "output_type": "stream",
     "text": [
      "Model name: svm__v02\n",
      "Cross validation score: 0.80122\n",
      "Best params: {'feature_selection__k': 20, 'svm__C': 0.46415888336127775, 'svm__degree': 3, 'svm__kernel': 'poly'}\n",
      "Time to tune: 307954 seconds\n",
      "Kaggle submission score: 0.79892\n"
     ]
    }
   ],
   "source": [
    "MODEL_NAME = \"svm__v02\"\n",
    "\n",
    "if not os.path.exists(os.path.join(REPO_MODEL, MODEL_NAME + \".json\")):\n",
    "    !python script_tuning.py $MODEL_NAME\n",
    "\n",
    "analyze_model(\n",
    "    model_name=MODEL_NAME, \n",
    "    repo_model=REPO_MODEL, \n",
    "    repo_submission=REPO_SUBMISSION, \n",
    "    X_train=X_train, \n",
    "    y_train=y_train, \n",
    "    X_test=X_test, \n",
    "    list_passenger_id=list_passenger_id\n",
    ")"
   ]
  },
  {
   "cell_type": "markdown",
   "id": "7162b95a",
   "metadata": {
    "jp-MarkdownHeadingCollapsed": true,
    "tags": []
   },
   "source": [
    "#### GNB"
   ]
  },
  {
   "cell_type": "code",
   "execution_count": 13,
   "id": "45570674",
   "metadata": {},
   "outputs": [
    {
     "name": "stdout",
     "output_type": "stream",
     "text": [
      "Model name: gnb__v02\n",
      "Cross validation score: 0.76993\n",
      "Best params: {'feature_selection__k': 6, 'gnb__var_smoothing': 1.0}\n",
      "Time to tune: 1177 seconds\n",
      "Kaggle submission score: 0.76712\n"
     ]
    }
   ],
   "source": [
    "MODEL_NAME = \"gnb__v02\"\n",
    "\n",
    "if not os.path.exists(os.path.join(REPO_MODEL, MODEL_NAME + \".json\")):\n",
    "    !python script_tuning.py $MODEL_NAME\n",
    "\n",
    "analyze_model(\n",
    "    model_name=MODEL_NAME, \n",
    "    repo_model=REPO_MODEL, \n",
    "    repo_submission=REPO_SUBMISSION, \n",
    "    X_train=X_train, \n",
    "    y_train=y_train, \n",
    "    X_test=X_test, \n",
    "    list_passenger_id=list_passenger_id\n",
    ")"
   ]
  },
  {
   "cell_type": "markdown",
   "id": "c9ea2c0b",
   "metadata": {
    "jp-MarkdownHeadingCollapsed": true,
    "tags": []
   },
   "source": [
    "### Pipeline v3"
   ]
  },
  {
   "cell_type": "markdown",
   "id": "16c21f6c",
   "metadata": {
    "jp-MarkdownHeadingCollapsed": true,
    "tags": []
   },
   "source": [
    "#### Logistic regression"
   ]
  },
  {
   "cell_type": "code",
   "execution_count": 14,
   "id": "0d666c65",
   "metadata": {},
   "outputs": [
    {
     "name": "stdout",
     "output_type": "stream",
     "text": [
      "Model name: logistic_regression__v03\n",
      "Cross validation score: 0.78167\n",
      "Best params: {'feature_selection__k': 16, 'logistic__C': 0.21544346900318823, 'logistic__l1_ratio': 0.2, 'logistic__penalty': 'elasticnet', 'logistic__solver': 'saga'}\n",
      "Time to tune: 57133 seconds\n",
      "Kaggle submission score: 0.77928\n"
     ]
    }
   ],
   "source": [
    "MODEL_NAME = \"logistic_regression__v03\"\n",
    "\n",
    "if not os.path.exists(os.path.join(REPO_MODEL, MODEL_NAME + \".json\")):\n",
    "    !python script_tuning.py $MODEL_NAME\n",
    "\n",
    "analyze_model(\n",
    "    model_name=MODEL_NAME, \n",
    "    repo_model=REPO_MODEL, \n",
    "    repo_submission=REPO_SUBMISSION, \n",
    "    X_train=X_train, \n",
    "    y_train=y_train, \n",
    "    X_test=X_test, \n",
    "    list_passenger_id=list_passenger_id\n",
    ")"
   ]
  },
  {
   "cell_type": "markdown",
   "id": "d199707e",
   "metadata": {
    "jp-MarkdownHeadingCollapsed": true,
    "tags": []
   },
   "source": [
    "#### KNN"
   ]
  },
  {
   "cell_type": "code",
   "execution_count": 15,
   "id": "4556a5e9",
   "metadata": {},
   "outputs": [
    {
     "name": "stdout",
     "output_type": "stream",
     "text": [
      "Model name: knn__v03\n",
      "Cross validation score: 0.79593\n",
      "Best params: {'feature_selection__k': 13, 'knn__n_neighbors': 48, 'knn__p': 1, 'knn__weights': 'uniform'}\n",
      "Time to tune: 75335 seconds\n",
      "Kaggle submission score: 0.78887\n"
     ]
    }
   ],
   "source": [
    "MODEL_NAME = \"knn__v03\"\n",
    "\n",
    "if not os.path.exists(os.path.join(REPO_MODEL, MODEL_NAME + \".json\")):\n",
    "    !python script_tuning.py $MODEL_NAME\n",
    "\n",
    "analyze_model(\n",
    "    model_name=MODEL_NAME, \n",
    "    repo_model=REPO_MODEL, \n",
    "    repo_submission=REPO_SUBMISSION, \n",
    "    X_train=X_train, \n",
    "    y_train=y_train, \n",
    "    X_test=X_test, \n",
    "    list_passenger_id=list_passenger_id\n",
    ")"
   ]
  },
  {
   "cell_type": "markdown",
   "id": "bf429e9d",
   "metadata": {
    "jp-MarkdownHeadingCollapsed": true,
    "tags": []
   },
   "source": [
    "#### SVM"
   ]
  },
  {
   "cell_type": "code",
   "execution_count": null,
   "id": "ea35b4e0",
   "metadata": {},
   "outputs": [],
   "source": [
    "MODEL_NAME = \"svm__v03\"\n",
    "\n",
    "if not os.path.exists(os.path.join(REPO_MODEL, MODEL_NAME + \".json\")):\n",
    "    !python script_tuning.py $MODEL_NAME\n",
    "\n",
    "analyze_model(\n",
    "    model_name=MODEL_NAME, \n",
    "    repo_model=REPO_MODEL, \n",
    "    repo_submission=REPO_SUBMISSION, \n",
    "    X_train=X_train, \n",
    "    y_train=y_train, \n",
    "    X_test=X_test, \n",
    "    list_passenger_id=list_passenger_id\n",
    ")"
   ]
  },
  {
   "cell_type": "markdown",
   "id": "295c9e71",
   "metadata": {
    "jp-MarkdownHeadingCollapsed": true,
    "tags": []
   },
   "source": [
    "#### GNB"
   ]
  },
  {
   "cell_type": "code",
   "execution_count": 16,
   "id": "17bbe94a",
   "metadata": {},
   "outputs": [
    {
     "name": "stdout",
     "output_type": "stream",
     "text": [
      "Model name: gnb__v03\n",
      "Cross validation score: 0.76579\n",
      "Best params: {'feature_selection__k': 4, 'gnb__var_smoothing': 1.0}\n",
      "Time to tune: 13949 seconds\n",
      "Kaggle submission score: 0.7739\n"
     ]
    }
   ],
   "source": [
    "MODEL_NAME = \"gnb__v03\"\n",
    "\n",
    "if not os.path.exists(os.path.join(REPO_MODEL, MODEL_NAME + \".json\")):\n",
    "    !python script_tuning.py $MODEL_NAME\n",
    "\n",
    "analyze_model(\n",
    "    model_name=MODEL_NAME, \n",
    "    repo_model=REPO_MODEL, \n",
    "    repo_submission=REPO_SUBMISSION, \n",
    "    X_train=X_train, \n",
    "    y_train=y_train, \n",
    "    X_test=X_test, \n",
    "    list_passenger_id=list_passenger_id\n",
    ")"
   ]
  },
  {
   "cell_type": "markdown",
   "id": "09716dbc",
   "metadata": {
    "jp-MarkdownHeadingCollapsed": true,
    "tags": []
   },
   "source": [
    "### Pipeline v4"
   ]
  },
  {
   "cell_type": "markdown",
   "id": "f3460537",
   "metadata": {
    "jp-MarkdownHeadingCollapsed": true,
    "tags": []
   },
   "source": [
    "#### Logistic regression"
   ]
  },
  {
   "cell_type": "code",
   "execution_count": 17,
   "id": "43c605cb",
   "metadata": {},
   "outputs": [
    {
     "name": "stdout",
     "output_type": "stream",
     "text": [
      "Model name: logistic_regression__v04\n",
      "Cross validation score: 0.78063\n",
      "Best params: {'feature_selection__k': 24, 'logistic__C': 0.01, 'logistic__penalty': 'l2', 'logistic__solver': 'liblinear'}\n",
      "Time to tune: 58302 seconds\n",
      "Kaggle submission score: 0.78512\n"
     ]
    }
   ],
   "source": [
    "MODEL_NAME = \"logistic_regression__v04\"\n",
    "\n",
    "if not os.path.exists(os.path.join(REPO_MODEL, MODEL_NAME + \".json\")):\n",
    "    !python script_tuning.py $MODEL_NAME\n",
    "\n",
    "analyze_model(\n",
    "    model_name=MODEL_NAME, \n",
    "    repo_model=REPO_MODEL, \n",
    "    repo_submission=REPO_SUBMISSION, \n",
    "    X_train=X_train, \n",
    "    y_train=y_train, \n",
    "    X_test=X_test, \n",
    "    list_passenger_id=list_passenger_id\n",
    ")"
   ]
  },
  {
   "cell_type": "markdown",
   "id": "98c8f271",
   "metadata": {
    "jp-MarkdownHeadingCollapsed": true,
    "tags": []
   },
   "source": [
    "#### KNN"
   ]
  },
  {
   "cell_type": "code",
   "execution_count": 18,
   "id": "e1339354",
   "metadata": {},
   "outputs": [
    {
     "name": "stdout",
     "output_type": "stream",
     "text": [
      "Model name: knn__v04\n",
      "Cross validation score: 0.79501\n",
      "Best params: {'feature_selection__k': 18, 'knn__n_neighbors': 33, 'knn__p': 1, 'knn__weights': 'uniform'}\n",
      "Time to tune: 105862 seconds\n",
      "Kaggle submission score: 0.78723\n"
     ]
    }
   ],
   "source": [
    "MODEL_NAME = \"knn__v04\"\n",
    "\n",
    "if not os.path.exists(os.path.join(REPO_MODEL, MODEL_NAME + \".json\")):\n",
    "    !python script_tuning.py $MODEL_NAME\n",
    "\n",
    "analyze_model(\n",
    "    model_name=MODEL_NAME, \n",
    "    repo_model=REPO_MODEL, \n",
    "    repo_submission=REPO_SUBMISSION, \n",
    "    X_train=X_train, \n",
    "    y_train=y_train, \n",
    "    X_test=X_test, \n",
    "    list_passenger_id=list_passenger_id\n",
    ")"
   ]
  },
  {
   "cell_type": "markdown",
   "id": "857c7fa9",
   "metadata": {
    "jp-MarkdownHeadingCollapsed": true,
    "tags": []
   },
   "source": [
    "#### SVM"
   ]
  },
  {
   "cell_type": "code",
   "execution_count": 19,
   "id": "04a3c736",
   "metadata": {},
   "outputs": [
    {
     "name": "stdout",
     "output_type": "stream",
     "text": [
      "Model name: svm__v04\n",
      "Cross validation score: 0.80019\n",
      "Best params: {'feature_selection__k': 21, 'svm__C': 4.6415888336127775, 'svm__degree': 2, 'svm__kernel': 'poly'}\n",
      "Time to tune: 226415 seconds\n",
      "Kaggle submission score: 0.79448\n"
     ]
    }
   ],
   "source": [
    "MODEL_NAME = \"svm__v04\"\n",
    "\n",
    "if not os.path.exists(os.path.join(REPO_MODEL, MODEL_NAME + \".json\")):\n",
    "    !python script_tuning.py $MODEL_NAME\n",
    "\n",
    "analyze_model(\n",
    "    model_name=MODEL_NAME, \n",
    "    repo_model=REPO_MODEL, \n",
    "    repo_submission=REPO_SUBMISSION, \n",
    "    X_train=X_train, \n",
    "    y_train=y_train, \n",
    "    X_test=X_test, \n",
    "    list_passenger_id=list_passenger_id\n",
    ")"
   ]
  },
  {
   "cell_type": "markdown",
   "id": "ca8118d8",
   "metadata": {
    "jp-MarkdownHeadingCollapsed": true,
    "tags": []
   },
   "source": [
    "#### GNB"
   ]
  },
  {
   "cell_type": "code",
   "execution_count": 20,
   "id": "695cf9eb",
   "metadata": {},
   "outputs": [
    {
     "name": "stdout",
     "output_type": "stream",
     "text": [
      "Model name: gnb__v04\n",
      "Cross validation score: 0.76648\n",
      "Best params: {'feature_selection__k': 4, 'gnb__var_smoothing': 0.5336699231206302}\n",
      "Time to tune: 14452 seconds\n",
      "Kaggle submission score: 0.77367\n"
     ]
    }
   ],
   "source": [
    "MODEL_NAME = \"gnb__v04\"\n",
    "\n",
    "if not os.path.exists(os.path.join(REPO_MODEL, MODEL_NAME + \".json\")):\n",
    "    !python script_tuning.py $MODEL_NAME\n",
    "\n",
    "analyze_model(\n",
    "    model_name=MODEL_NAME, \n",
    "    repo_model=REPO_MODEL, \n",
    "    repo_submission=REPO_SUBMISSION, \n",
    "    X_train=X_train, \n",
    "    y_train=y_train, \n",
    "    X_test=X_test, \n",
    "    list_passenger_id=list_passenger_id\n",
    ")"
   ]
  },
  {
   "cell_type": "markdown",
   "id": "b2a38156",
   "metadata": {
    "jp-MarkdownHeadingCollapsed": true,
    "tags": []
   },
   "source": [
    "### Pipeline v5"
   ]
  },
  {
   "cell_type": "markdown",
   "id": "f614d730",
   "metadata": {
    "jp-MarkdownHeadingCollapsed": true,
    "tags": []
   },
   "source": [
    "#### Logistic regression"
   ]
  },
  {
   "cell_type": "code",
   "execution_count": 21,
   "id": "0ce73f7b",
   "metadata": {},
   "outputs": [
    {
     "name": "stdout",
     "output_type": "stream",
     "text": [
      "Model name: logistic_regression__v05\n",
      "Cross validation score: 0.78075\n",
      "Best params: {'feature_selection__k': 12, 'logistic__C': 2154.434690031878, 'logistic__l1_ratio': 0.5, 'logistic__penalty': 'elasticnet', 'logistic__solver': 'saga'}\n",
      "Time to tune: 59880 seconds\n",
      "Kaggle submission score: 0.77671\n"
     ]
    }
   ],
   "source": [
    "MODEL_NAME = \"logistic_regression__v05\"\n",
    "\n",
    "if not os.path.exists(os.path.join(REPO_MODEL, MODEL_NAME + \".json\")):\n",
    "    !python script_tuning.py $MODEL_NAME\n",
    "\n",
    "analyze_model(\n",
    "    model_name=MODEL_NAME, \n",
    "    repo_model=REPO_MODEL, \n",
    "    repo_submission=REPO_SUBMISSION, \n",
    "    X_train=X_train, \n",
    "    y_train=y_train, \n",
    "    X_test=X_test, \n",
    "    list_passenger_id=list_passenger_id\n",
    ")"
   ]
  },
  {
   "cell_type": "markdown",
   "id": "9464dd0e",
   "metadata": {
    "jp-MarkdownHeadingCollapsed": true,
    "tags": []
   },
   "source": [
    "#### KNN"
   ]
  },
  {
   "cell_type": "code",
   "execution_count": 22,
   "id": "7c299ab3",
   "metadata": {},
   "outputs": [
    {
     "name": "stdout",
     "output_type": "stream",
     "text": [
      "Model name: knn__v05\n",
      "Cross validation score: 0.79248\n",
      "Best params: {'feature_selection__k': 11, 'knn__n_neighbors': 37, 'knn__p': 1, 'knn__weights': 'uniform'}\n",
      "Time to tune: 91760 seconds\n",
      "Kaggle submission score: 0.78021\n"
     ]
    }
   ],
   "source": [
    "MODEL_NAME = \"knn__v05\"\n",
    "\n",
    "if not os.path.exists(os.path.join(REPO_MODEL, MODEL_NAME + \".json\")):\n",
    "    !python script_tuning.py $MODEL_NAME\n",
    "\n",
    "analyze_model(\n",
    "    model_name=MODEL_NAME, \n",
    "    repo_model=REPO_MODEL, \n",
    "    repo_submission=REPO_SUBMISSION, \n",
    "    X_train=X_train, \n",
    "    y_train=y_train, \n",
    "    X_test=X_test, \n",
    "    list_passenger_id=list_passenger_id\n",
    ")"
   ]
  },
  {
   "cell_type": "markdown",
   "id": "f1f1be83",
   "metadata": {
    "jp-MarkdownHeadingCollapsed": true,
    "tags": []
   },
   "source": [
    "#### SVM"
   ]
  },
  {
   "cell_type": "code",
   "execution_count": 23,
   "id": "49bfbefa",
   "metadata": {},
   "outputs": [
    {
     "name": "stdout",
     "output_type": "stream",
     "text": [
      "Model name: svm__v05\n",
      "Cross validation score: 0.80191\n",
      "Best params: {'feature_selection__k': 23, 'svm__C': 0.46415888336127775, 'svm__degree': 3, 'svm__kernel': 'poly'}\n",
      "Time to tune: 180134 seconds\n",
      "Kaggle submission score: 0.79939\n"
     ]
    }
   ],
   "source": [
    "MODEL_NAME = \"svm__v05\"\n",
    "\n",
    "if not os.path.exists(os.path.join(REPO_MODEL, MODEL_NAME + \".json\")):\n",
    "    !python script_tuning.py $MODEL_NAME\n",
    "\n",
    "analyze_model(\n",
    "    model_name=MODEL_NAME, \n",
    "    repo_model=REPO_MODEL, \n",
    "    repo_submission=REPO_SUBMISSION, \n",
    "    X_train=X_train, \n",
    "    y_train=y_train, \n",
    "    X_test=X_test, \n",
    "    list_passenger_id=list_passenger_id\n",
    ")"
   ]
  },
  {
   "cell_type": "markdown",
   "id": "210025e2",
   "metadata": {
    "jp-MarkdownHeadingCollapsed": true,
    "tags": []
   },
   "source": [
    "#### GNB"
   ]
  },
  {
   "cell_type": "code",
   "execution_count": 24,
   "id": "0f2a2319",
   "metadata": {},
   "outputs": [
    {
     "name": "stdout",
     "output_type": "stream",
     "text": [
      "Model name: gnb__v05\n",
      "Cross validation score: 0.76648\n",
      "Best params: {'feature_selection__k': 4, 'gnb__var_smoothing': 0.5336699231206302}\n",
      "Time to tune: 14887 seconds\n",
      "Kaggle submission score: 0.77367\n"
     ]
    }
   ],
   "source": [
    "MODEL_NAME = \"gnb__v05\"\n",
    "\n",
    "if not os.path.exists(os.path.join(REPO_MODEL, MODEL_NAME + \".json\")):\n",
    "    !python script_tuning.py $MODEL_NAME\n",
    "\n",
    "analyze_model(\n",
    "    model_name=MODEL_NAME, \n",
    "    repo_model=REPO_MODEL, \n",
    "    repo_submission=REPO_SUBMISSION, \n",
    "    X_train=X_train, \n",
    "    y_train=y_train, \n",
    "    X_test=X_test, \n",
    "    list_passenger_id=list_passenger_id\n",
    ")"
   ]
  },
  {
   "cell_type": "markdown",
   "id": "af6507ea",
   "metadata": {
    "jp-MarkdownHeadingCollapsed": true,
    "tags": []
   },
   "source": [
    "### Pipeline v6"
   ]
  },
  {
   "cell_type": "markdown",
   "id": "800654e3",
   "metadata": {
    "jp-MarkdownHeadingCollapsed": true,
    "tags": []
   },
   "source": [
    "#### Logistic regression"
   ]
  },
  {
   "cell_type": "code",
   "execution_count": 25,
   "id": "fb95387a",
   "metadata": {},
   "outputs": [
    {
     "name": "stdout",
     "output_type": "stream",
     "text": [
      "Model name: logistic_regression__v06\n",
      "Cross validation score: 0.78040\n",
      "Best params: {'feature_selection__k': 15, 'logistic__C': 4641.588833612773, 'logistic__l1_ratio': 0.8, 'logistic__penalty': 'elasticnet', 'logistic__solver': 'saga'}\n",
      "Time to tune: 61262 seconds\n",
      "Kaggle submission score: 0.78255\n"
     ]
    }
   ],
   "source": [
    "MODEL_NAME = \"logistic_regression__v06\"\n",
    "\n",
    "if not os.path.exists(os.path.join(REPO_MODEL, MODEL_NAME + \".json\")):\n",
    "    !python script_tuning.py $MODEL_NAME\n",
    "\n",
    "analyze_model(\n",
    "    model_name=MODEL_NAME, \n",
    "    repo_model=REPO_MODEL, \n",
    "    repo_submission=REPO_SUBMISSION, \n",
    "    X_train=X_train, \n",
    "    y_train=y_train, \n",
    "    X_test=X_test, \n",
    "    list_passenger_id=list_passenger_id\n",
    ")"
   ]
  },
  {
   "cell_type": "markdown",
   "id": "fd086a2b",
   "metadata": {
    "jp-MarkdownHeadingCollapsed": true,
    "tags": []
   },
   "source": [
    "#### KNN"
   ]
  },
  {
   "cell_type": "code",
   "execution_count": 26,
   "id": "e3247cb1",
   "metadata": {},
   "outputs": [
    {
     "name": "stdout",
     "output_type": "stream",
     "text": [
      "Model name: knn__v06\n",
      "Cross validation score: 0.79340\n",
      "Best params: {'feature_selection__k': 13, 'knn__n_neighbors': 49, 'knn__p': 1, 'knn__weights': 'uniform'}\n",
      "Time to tune: 110870 seconds\n",
      "Kaggle submission score: 0.78559\n"
     ]
    }
   ],
   "source": [
    "MODEL_NAME = \"knn__v06\"\n",
    "\n",
    "if not os.path.exists(os.path.join(REPO_MODEL, MODEL_NAME + \".json\")):\n",
    "    !python script_tuning.py $MODEL_NAME\n",
    "\n",
    "analyze_model(\n",
    "    model_name=MODEL_NAME, \n",
    "    repo_model=REPO_MODEL, \n",
    "    repo_submission=REPO_SUBMISSION, \n",
    "    X_train=X_train, \n",
    "    y_train=y_train, \n",
    "    X_test=X_test, \n",
    "    list_passenger_id=list_passenger_id\n",
    ")"
   ]
  },
  {
   "cell_type": "markdown",
   "id": "60532931",
   "metadata": {
    "jp-MarkdownHeadingCollapsed": true,
    "tags": []
   },
   "source": [
    "#### SVM"
   ]
  },
  {
   "cell_type": "code",
   "execution_count": 27,
   "id": "d92321b6",
   "metadata": {},
   "outputs": [
    {
     "name": "stdout",
     "output_type": "stream",
     "text": [
      "Model name: svm__v06\n",
      "Cross validation score: 0.80065\n",
      "Best params: {'feature_selection__k': 24, 'svm__C': 0.46415888336127775, 'svm__degree': 3, 'svm__kernel': 'poly'}\n",
      "Time to tune: 209248 seconds\n",
      "Kaggle submission score: 0.79939\n"
     ]
    }
   ],
   "source": [
    "MODEL_NAME = \"svm__v06\"\n",
    "\n",
    "if not os.path.exists(os.path.join(REPO_MODEL, MODEL_NAME + \".json\")):\n",
    "    !python script_tuning.py $MODEL_NAME\n",
    "\n",
    "analyze_model(\n",
    "    model_name=MODEL_NAME, \n",
    "    repo_model=REPO_MODEL, \n",
    "    repo_submission=REPO_SUBMISSION, \n",
    "    X_train=X_train, \n",
    "    y_train=y_train, \n",
    "    X_test=X_test, \n",
    "    list_passenger_id=list_passenger_id\n",
    ")"
   ]
  },
  {
   "cell_type": "markdown",
   "id": "5aaf7fd8",
   "metadata": {
    "jp-MarkdownHeadingCollapsed": true,
    "tags": []
   },
   "source": [
    "#### GNB"
   ]
  },
  {
   "cell_type": "code",
   "execution_count": 28,
   "id": "10f8eab4",
   "metadata": {},
   "outputs": [
    {
     "name": "stdout",
     "output_type": "stream",
     "text": [
      "Model name: gnb__v06\n",
      "Cross validation score: 0.76637\n",
      "Best params: {'feature_selection__k': 4, 'gnb__var_smoothing': 0.6579332246575682}\n",
      "Time to tune: 14559 seconds\n",
      "Kaggle submission score: 0.77437\n"
     ]
    }
   ],
   "source": [
    "MODEL_NAME = \"gnb__v06\"\n",
    "\n",
    "if not os.path.exists(os.path.join(REPO_MODEL, MODEL_NAME + \".json\")):\n",
    "    !python script_tuning.py $MODEL_NAME\n",
    "\n",
    "analyze_model(\n",
    "    model_name=MODEL_NAME, \n",
    "    repo_model=REPO_MODEL, \n",
    "    repo_submission=REPO_SUBMISSION, \n",
    "    X_train=X_train, \n",
    "    y_train=y_train, \n",
    "    X_test=X_test, \n",
    "    list_passenger_id=list_passenger_id\n",
    ")"
   ]
  },
  {
   "cell_type": "markdown",
   "id": "3db293aa",
   "metadata": {
    "jp-MarkdownHeadingCollapsed": true,
    "tags": []
   },
   "source": [
    "### Pipeline v7"
   ]
  },
  {
   "cell_type": "markdown",
   "id": "9afdc60a",
   "metadata": {
    "jp-MarkdownHeadingCollapsed": true,
    "tags": []
   },
   "source": [
    "#### Logistic regression"
   ]
  },
  {
   "cell_type": "code",
   "execution_count": 29,
   "id": "69d25ccb",
   "metadata": {},
   "outputs": [
    {
     "name": "stdout",
     "output_type": "stream",
     "text": [
      "Model name: logistic_regression__v07\n",
      "Cross validation score: 0.78074\n",
      "Best params: {'feature_selection__k': 15, 'logistic__C': 10000.0, 'logistic__penalty': 'l2', 'logistic__solver': 'liblinear'}\n",
      "Time to tune: 62178 seconds\n",
      "Kaggle submission score: 0.78209\n"
     ]
    }
   ],
   "source": [
    "MODEL_NAME = \"logistic_regression__v07\"\n",
    "\n",
    "if not os.path.exists(os.path.join(REPO_MODEL, MODEL_NAME + \".json\")):\n",
    "    !python script_tuning.py $MODEL_NAME\n",
    "\n",
    "analyze_model(\n",
    "    model_name=MODEL_NAME, \n",
    "    repo_model=REPO_MODEL, \n",
    "    repo_submission=REPO_SUBMISSION, \n",
    "    X_train=X_train, \n",
    "    y_train=y_train, \n",
    "    X_test=X_test, \n",
    "    list_passenger_id=list_passenger_id\n",
    ")"
   ]
  },
  {
   "cell_type": "markdown",
   "id": "a55a1b1a",
   "metadata": {
    "jp-MarkdownHeadingCollapsed": true,
    "tags": []
   },
   "source": [
    "#### KNN"
   ]
  },
  {
   "cell_type": "code",
   "execution_count": 30,
   "id": "a8b4d208",
   "metadata": {},
   "outputs": [
    {
     "name": "stdout",
     "output_type": "stream",
     "text": [
      "Model name: knn__v07\n",
      "Cross validation score: 0.79363\n",
      "Best params: {'feature_selection__k': 16, 'knn__n_neighbors': 51, 'knn__p': 1, 'knn__weights': 'uniform'}\n",
      "Time to tune: 113486 seconds\n",
      "Kaggle submission score: 0.78863\n"
     ]
    }
   ],
   "source": [
    "MODEL_NAME = \"knn__v07\"\n",
    "\n",
    "if not os.path.exists(os.path.join(REPO_MODEL, MODEL_NAME + \".json\")):\n",
    "    !python script_tuning.py $MODEL_NAME\n",
    "\n",
    "analyze_model(\n",
    "    model_name=MODEL_NAME, \n",
    "    repo_model=REPO_MODEL, \n",
    "    repo_submission=REPO_SUBMISSION, \n",
    "    X_train=X_train, \n",
    "    y_train=y_train, \n",
    "    X_test=X_test, \n",
    "    list_passenger_id=list_passenger_id\n",
    ")"
   ]
  },
  {
   "cell_type": "markdown",
   "id": "7eabe031",
   "metadata": {
    "jp-MarkdownHeadingCollapsed": true,
    "tags": []
   },
   "source": [
    "#### SVM"
   ]
  },
  {
   "cell_type": "code",
   "execution_count": 31,
   "id": "09e78a2c",
   "metadata": {},
   "outputs": [
    {
     "name": "stdout",
     "output_type": "stream",
     "text": [
      "Model name: svm__v07\n",
      "Cross validation score: 0.80122\n",
      "Best params: {'feature_selection__k': 24, 'svm__C': 1.0, 'svm__degree': 3, 'svm__kernel': 'poly'}\n",
      "Time to tune: 220124 seconds\n",
      "Kaggle submission score: 0.80009\n"
     ]
    }
   ],
   "source": [
    "MODEL_NAME = \"svm__v07\"\n",
    "\n",
    "if not os.path.exists(os.path.join(REPO_MODEL, MODEL_NAME + \".json\")):\n",
    "    !python script_tuning.py $MODEL_NAME\n",
    "\n",
    "analyze_model(\n",
    "    model_name=MODEL_NAME, \n",
    "    repo_model=REPO_MODEL, \n",
    "    repo_submission=REPO_SUBMISSION, \n",
    "    X_train=X_train, \n",
    "    y_train=y_train, \n",
    "    X_test=X_test, \n",
    "    list_passenger_id=list_passenger_id\n",
    ")"
   ]
  },
  {
   "cell_type": "markdown",
   "id": "68eacdfb",
   "metadata": {
    "jp-MarkdownHeadingCollapsed": true,
    "tags": []
   },
   "source": [
    "#### GNB"
   ]
  },
  {
   "cell_type": "code",
   "execution_count": 32,
   "id": "dd1634e7",
   "metadata": {},
   "outputs": [
    {
     "name": "stdout",
     "output_type": "stream",
     "text": [
      "Model name: gnb__v07\n",
      "Cross validation score: 0.76648\n",
      "Best params: {'feature_selection__k': 4, 'gnb__var_smoothing': 0.5336699231206302}\n",
      "Time to tune: 15604 seconds\n",
      "Kaggle submission score: 0.77367\n"
     ]
    }
   ],
   "source": [
    "MODEL_NAME = \"gnb__v07\"\n",
    "\n",
    "if not os.path.exists(os.path.join(REPO_MODEL, MODEL_NAME + \".json\")):\n",
    "    !python script_tuning.py $MODEL_NAME\n",
    "\n",
    "analyze_model(\n",
    "    model_name=MODEL_NAME, \n",
    "    repo_model=REPO_MODEL, \n",
    "    repo_submission=REPO_SUBMISSION, \n",
    "    X_train=X_train, \n",
    "    y_train=y_train, \n",
    "    X_test=X_test, \n",
    "    list_passenger_id=list_passenger_id\n",
    ")"
   ]
  },
  {
   "cell_type": "markdown",
   "id": "0a059ee0",
   "metadata": {
    "jp-MarkdownHeadingCollapsed": true,
    "tags": []
   },
   "source": [
    "### Pipeline v8"
   ]
  },
  {
   "cell_type": "markdown",
   "id": "d21b5723",
   "metadata": {
    "jp-MarkdownHeadingCollapsed": true,
    "tags": []
   },
   "source": [
    "#### Logistic regression"
   ]
  },
  {
   "cell_type": "code",
   "execution_count": 33,
   "id": "e936b97e",
   "metadata": {},
   "outputs": [
    {
     "name": "stdout",
     "output_type": "stream",
     "text": [
      "Model name: logistic_regression__v08\n",
      "Cross validation score: 0.77948\n",
      "Best params: {'feature_selection__max_features': 23, 'logistic__C': 0.01, 'logistic__penalty': 'l2', 'logistic__solver': 'liblinear'}\n",
      "Time to tune: 42744 seconds\n",
      "Kaggle submission score: 0.78419\n"
     ]
    }
   ],
   "source": [
    "MODEL_NAME = \"logistic_regression__v08\"\n",
    "\n",
    "if not os.path.exists(os.path.join(REPO_MODEL, MODEL_NAME + \".json\")):\n",
    "    !python script_tuning.py $MODEL_NAME\n",
    "\n",
    "analyze_model(\n",
    "    model_name=MODEL_NAME, \n",
    "    repo_model=REPO_MODEL, \n",
    "    repo_submission=REPO_SUBMISSION, \n",
    "    X_train=X_train, \n",
    "    y_train=y_train, \n",
    "    X_test=X_test, \n",
    "    list_passenger_id=list_passenger_id\n",
    ")"
   ]
  },
  {
   "cell_type": "markdown",
   "id": "f909aac1",
   "metadata": {
    "jp-MarkdownHeadingCollapsed": true,
    "tags": []
   },
   "source": [
    "#### KNN"
   ]
  },
  {
   "cell_type": "code",
   "execution_count": 34,
   "id": "ea39d132",
   "metadata": {},
   "outputs": [
    {
     "name": "stdout",
     "output_type": "stream",
     "text": [
      "Model name: knn__v08\n",
      "Cross validation score: 0.79121\n",
      "Best params: {'feature_selection__max_features': 11, 'knn__n_neighbors': 63, 'knn__p': 1, 'knn__weights': 'uniform'}\n",
      "Time to tune: 83657 seconds\n",
      "Kaggle submission score: 0.78349\n"
     ]
    }
   ],
   "source": [
    "MODEL_NAME = \"knn__v08\"\n",
    "\n",
    "if not os.path.exists(os.path.join(REPO_MODEL, MODEL_NAME + \".json\")):\n",
    "    !python script_tuning.py $MODEL_NAME\n",
    "\n",
    "analyze_model(\n",
    "    model_name=MODEL_NAME, \n",
    "    repo_model=REPO_MODEL, \n",
    "    repo_submission=REPO_SUBMISSION, \n",
    "    X_train=X_train, \n",
    "    y_train=y_train, \n",
    "    X_test=X_test, \n",
    "    list_passenger_id=list_passenger_id\n",
    ")"
   ]
  },
  {
   "cell_type": "markdown",
   "id": "c9bb55cb",
   "metadata": {
    "jp-MarkdownHeadingCollapsed": true,
    "tags": []
   },
   "source": [
    "#### SVM"
   ]
  },
  {
   "cell_type": "code",
   "execution_count": 35,
   "id": "6ad381c0",
   "metadata": {},
   "outputs": [
    {
     "name": "stdout",
     "output_type": "stream",
     "text": [
      "Model name: svm__v08\n",
      "Cross validation score: 0.80168\n",
      "Best params: {'feature_selection__max_features': 25, 'svm__C': 0.46415888336127775, 'svm__degree': 3, 'svm__kernel': 'poly'}\n",
      "Time to tune: 97146 seconds\n",
      "Kaggle submission score: 0.79962\n"
     ]
    }
   ],
   "source": [
    "MODEL_NAME = \"svm__v08\"\n",
    "\n",
    "if not os.path.exists(os.path.join(REPO_MODEL, MODEL_NAME + \".json\")):\n",
    "    !python script_tuning.py $MODEL_NAME\n",
    "\n",
    "analyze_model(\n",
    "    model_name=MODEL_NAME, \n",
    "    repo_model=REPO_MODEL, \n",
    "    repo_submission=REPO_SUBMISSION, \n",
    "    X_train=X_train, \n",
    "    y_train=y_train, \n",
    "    X_test=X_test, \n",
    "    list_passenger_id=list_passenger_id\n",
    ")"
   ]
  },
  {
   "cell_type": "markdown",
   "id": "fef42f73",
   "metadata": {
    "jp-MarkdownHeadingCollapsed": true,
    "tags": []
   },
   "source": [
    "#### GNB"
   ]
  },
  {
   "cell_type": "code",
   "execution_count": 36,
   "id": "47bec9bd",
   "metadata": {},
   "outputs": [
    {
     "name": "stdout",
     "output_type": "stream",
     "text": [
      "Model name: gnb__v08\n",
      "Cross validation score: 0.76717\n",
      "Best params: {'feature_selection__max_features': 4, 'gnb__var_smoothing': 0.3511191734215127}\n",
      "Time to tune: 12574 seconds\n",
      "Kaggle submission score: 0.77484\n"
     ]
    }
   ],
   "source": [
    "MODEL_NAME = \"gnb__v08\"\n",
    "\n",
    "if not os.path.exists(os.path.join(REPO_MODEL, MODEL_NAME + \".json\")):\n",
    "    !python script_tuning.py $MODEL_NAME\n",
    "\n",
    "analyze_model(\n",
    "    model_name=MODEL_NAME, \n",
    "    repo_model=REPO_MODEL, \n",
    "    repo_submission=REPO_SUBMISSION, \n",
    "    X_train=X_train, \n",
    "    y_train=y_train, \n",
    "    X_test=X_test, \n",
    "    list_passenger_id=list_passenger_id\n",
    ")"
   ]
  },
  {
   "cell_type": "markdown",
   "id": "ef19563f",
   "metadata": {
    "jp-MarkdownHeadingCollapsed": true,
    "tags": []
   },
   "source": [
    "### Pipeline v9"
   ]
  },
  {
   "cell_type": "markdown",
   "id": "ded93ad3",
   "metadata": {
    "jp-MarkdownHeadingCollapsed": true,
    "tags": []
   },
   "source": [
    "#### Logistic regression"
   ]
  },
  {
   "cell_type": "code",
   "execution_count": 37,
   "id": "8637ea19",
   "metadata": {},
   "outputs": [
    {
     "name": "stdout",
     "output_type": "stream",
     "text": [
      "Model name: logistic_regression__v09\n",
      "Cross validation score: 0.77994\n",
      "Best params: {'feature_selection__max_features': 19, 'logistic__C': 0.021544346900318822, 'logistic__l1_ratio': 0.4, 'logistic__penalty': 'elasticnet', 'logistic__solver': 'saga'}\n",
      "Time to tune: 13259 seconds\n",
      "Kaggle submission score: 0.78115\n"
     ]
    }
   ],
   "source": [
    "MODEL_NAME = \"logistic_regression__v09\"\n",
    "\n",
    "if not os.path.exists(os.path.join(REPO_MODEL, MODEL_NAME + \".json\")):\n",
    "    !python script_tuning.py $MODEL_NAME\n",
    "\n",
    "analyze_model(\n",
    "    model_name=MODEL_NAME, \n",
    "    repo_model=REPO_MODEL, \n",
    "    repo_submission=REPO_SUBMISSION, \n",
    "    X_train=X_train, \n",
    "    y_train=y_train, \n",
    "    X_test=X_test, \n",
    "    list_passenger_id=list_passenger_id\n",
    ")"
   ]
  },
  {
   "cell_type": "markdown",
   "id": "4a5c0b32",
   "metadata": {
    "jp-MarkdownHeadingCollapsed": true,
    "tags": []
   },
   "source": [
    "#### KNN"
   ]
  },
  {
   "cell_type": "code",
   "execution_count": 38,
   "id": "9eed3766",
   "metadata": {},
   "outputs": [
    {
     "name": "stdout",
     "output_type": "stream",
     "text": [
      "Model name: knn__v09\n",
      "Cross validation score: 0.79018\n",
      "Best params: {'feature_selection__max_features': 27, 'knn__n_neighbors': 47, 'knn__p': 2, 'knn__weights': 'uniform'}\n",
      "Time to tune: 20887 seconds\n",
      "Kaggle submission score: 0.7877\n"
     ]
    }
   ],
   "source": [
    "MODEL_NAME = \"knn__v09\"\n",
    "\n",
    "if not os.path.exists(os.path.join(REPO_MODEL, MODEL_NAME + \".json\")):\n",
    "    !python script_tuning.py $MODEL_NAME\n",
    "\n",
    "analyze_model(\n",
    "    model_name=MODEL_NAME, \n",
    "    repo_model=REPO_MODEL, \n",
    "    repo_submission=REPO_SUBMISSION, \n",
    "    X_train=X_train, \n",
    "    y_train=y_train, \n",
    "    X_test=X_test, \n",
    "    list_passenger_id=list_passenger_id\n",
    ")"
   ]
  },
  {
   "cell_type": "markdown",
   "id": "b8aa0053",
   "metadata": {
    "jp-MarkdownHeadingCollapsed": true,
    "tags": []
   },
   "source": [
    "#### SVM"
   ]
  },
  {
   "cell_type": "code",
   "execution_count": 39,
   "id": "dcb4f99c",
   "metadata": {},
   "outputs": [
    {
     "name": "stdout",
     "output_type": "stream",
     "text": [
      "Model name: svm__v09\n",
      "Cross validation score: 0.80053\n",
      "Best params: {'feature_selection__max_features': 26, 'svm__C': 0.46415888336127775, 'svm__degree': 3, 'svm__kernel': 'poly'}\n",
      "Time to tune: 185765 seconds\n",
      "Kaggle submission score: 0.79939\n"
     ]
    }
   ],
   "source": [
    "MODEL_NAME = \"svm__v09\"\n",
    "\n",
    "if not os.path.exists(os.path.join(REPO_MODEL, MODEL_NAME + \".json\")):\n",
    "    !python script_tuning.py $MODEL_NAME\n",
    "\n",
    "analyze_model(\n",
    "    model_name=MODEL_NAME, \n",
    "    repo_model=REPO_MODEL, \n",
    "    repo_submission=REPO_SUBMISSION, \n",
    "    X_train=X_train, \n",
    "    y_train=y_train, \n",
    "    X_test=X_test, \n",
    "    list_passenger_id=list_passenger_id\n",
    ")"
   ]
  },
  {
   "cell_type": "markdown",
   "id": "57e57a13",
   "metadata": {
    "jp-MarkdownHeadingCollapsed": true,
    "tags": []
   },
   "source": [
    "#### GNB"
   ]
  },
  {
   "cell_type": "code",
   "execution_count": 40,
   "id": "2b4caa89",
   "metadata": {},
   "outputs": [
    {
     "name": "stdout",
     "output_type": "stream",
     "text": [
      "Model name: gnb__v09\n",
      "Cross validation score: 0.77062\n",
      "Best params: {'feature_selection__max_features': 7, 'gnb__var_smoothing': 0.811130830789689}\n",
      "Time to tune: 1013 seconds\n",
      "Kaggle submission score: 0.77718\n"
     ]
    }
   ],
   "source": [
    "MODEL_NAME = \"gnb__v09\"\n",
    "\n",
    "if not os.path.exists(os.path.join(REPO_MODEL, MODEL_NAME + \".json\")):\n",
    "    !python script_tuning.py $MODEL_NAME\n",
    "\n",
    "analyze_model(\n",
    "    model_name=MODEL_NAME, \n",
    "    repo_model=REPO_MODEL, \n",
    "    repo_submission=REPO_SUBMISSION, \n",
    "    X_train=X_train, \n",
    "    y_train=y_train, \n",
    "    X_test=X_test, \n",
    "    list_passenger_id=list_passenger_id\n",
    ")"
   ]
  },
  {
   "cell_type": "markdown",
   "id": "24cc0ca1-14c2-452c-b0a6-6e7291ae0c6e",
   "metadata": {
    "jp-MarkdownHeadingCollapsed": true,
    "tags": []
   },
   "source": [
    "### Pipeline v10"
   ]
  },
  {
   "cell_type": "markdown",
   "id": "34bc1ec5-b553-4662-bac9-f3142d4088c3",
   "metadata": {
    "jp-MarkdownHeadingCollapsed": true,
    "tags": []
   },
   "source": [
    "#### Logistic regression"
   ]
  },
  {
   "cell_type": "code",
   "execution_count": 41,
   "id": "b66d7f34-dd69-490c-aa45-3dca2bd24491",
   "metadata": {},
   "outputs": [
    {
     "name": "stdout",
     "output_type": "stream",
     "text": [
      "Model name: logistic_regression__v10\n",
      "Cross validation score: 0.78143\n",
      "Best params: {'feature_selection__k': 15, 'logistic__C': 0.1, 'logistic__penalty': 'l2', 'logistic__solver': 'liblinear'}\n",
      "Time to tune: 7343 seconds\n",
      "Kaggle submission score: 0.78255\n"
     ]
    }
   ],
   "source": [
    "MODEL_NAME = \"logistic_regression__v10\"\n",
    "\n",
    "if not os.path.exists(os.path.join(REPO_MODEL, MODEL_NAME + \".json\")):\n",
    "    !python script_tuning.py $MODEL_NAME\n",
    "\n",
    "analyze_model(\n",
    "    model_name=MODEL_NAME, \n",
    "    repo_model=REPO_MODEL, \n",
    "    repo_submission=REPO_SUBMISSION, \n",
    "    X_train=X_train, \n",
    "    y_train=y_train, \n",
    "    X_test=X_test, \n",
    "    list_passenger_id=list_passenger_id\n",
    ")"
   ]
  },
  {
   "cell_type": "markdown",
   "id": "66b18191-14b7-40ca-baa6-1b6a830ae4a2",
   "metadata": {
    "jp-MarkdownHeadingCollapsed": true,
    "tags": []
   },
   "source": [
    "#### KNN"
   ]
  },
  {
   "cell_type": "code",
   "execution_count": null,
   "id": "39e47d41-e575-4b67-b5e9-1ac4af522291",
   "metadata": {},
   "outputs": [],
   "source": [
    "MODEL_NAME = \"knn__v10\"\n",
    "\n",
    "if not os.path.exists(os.path.join(REPO_MODEL, MODEL_NAME + \".json\")):\n",
    "    !python script_tuning.py $MODEL_NAME\n",
    "\n",
    "analyze_model(\n",
    "    model_name=MODEL_NAME, \n",
    "    repo_model=REPO_MODEL, \n",
    "    repo_submission=REPO_SUBMISSION, \n",
    "    X_train=X_train, \n",
    "    y_train=y_train, \n",
    "    X_test=X_test, \n",
    "    list_passenger_id=list_passenger_id\n",
    ")"
   ]
  },
  {
   "cell_type": "markdown",
   "id": "7d80224a-dd45-4115-a55b-9d9d9a8c562d",
   "metadata": {
    "jp-MarkdownHeadingCollapsed": true,
    "tags": []
   },
   "source": [
    "#### SVM"
   ]
  },
  {
   "cell_type": "code",
   "execution_count": 43,
   "id": "be89c8c8-907f-4c70-874e-1dd971df6cbc",
   "metadata": {},
   "outputs": [
    {
     "name": "stdout",
     "output_type": "stream",
     "text": [
      "Model name: svm__v10\n",
      "Cross validation score: 0.79869\n",
      "Best params: {'feature_selection__k': 19, 'svm__C': 1.0, 'svm__degree': 3, 'svm__kernel': 'poly'}\n",
      "Time to tune: 96565 seconds\n",
      "Kaggle submission score: 0.79588\n"
     ]
    }
   ],
   "source": [
    "MODEL_NAME = \"svm__v10\"\n",
    "\n",
    "if not os.path.exists(os.path.join(REPO_MODEL, MODEL_NAME + \".json\")):\n",
    "    !python script_tuning.py $MODEL_NAME\n",
    "\n",
    "analyze_model(\n",
    "    model_name=MODEL_NAME, \n",
    "    repo_model=REPO_MODEL, \n",
    "    repo_submission=REPO_SUBMISSION, \n",
    "    X_train=X_train, \n",
    "    y_train=y_train, \n",
    "    X_test=X_test, \n",
    "    list_passenger_id=list_passenger_id\n",
    ")"
   ]
  },
  {
   "cell_type": "markdown",
   "id": "1490350d-0a59-4ac8-898d-32010d91cc52",
   "metadata": {
    "jp-MarkdownHeadingCollapsed": true,
    "tags": []
   },
   "source": [
    "#### GNB"
   ]
  },
  {
   "cell_type": "code",
   "execution_count": 44,
   "id": "e5f80f31-9ee5-4470-84a0-62bfd94bae90",
   "metadata": {},
   "outputs": [
    {
     "name": "stdout",
     "output_type": "stream",
     "text": [
      "Model name: gnb__v10\n",
      "Cross validation score: 0.76832\n",
      "Best params: {'feature_selection__k': 4, 'gnb__var_smoothing': 0.3511191734215127}\n",
      "Time to tune: 1075 seconds\n",
      "Kaggle submission score: 0.7753\n"
     ]
    }
   ],
   "source": [
    "MODEL_NAME = \"gnb__v10\"\n",
    "\n",
    "if not os.path.exists(os.path.join(REPO_MODEL, MODEL_NAME + \".json\")):\n",
    "    !python script_tuning.py $MODEL_NAME\n",
    "\n",
    "analyze_model(\n",
    "    model_name=MODEL_NAME, \n",
    "    repo_model=REPO_MODEL, \n",
    "    repo_submission=REPO_SUBMISSION, \n",
    "    X_train=X_train, \n",
    "    y_train=y_train, \n",
    "    X_test=X_test, \n",
    "    list_passenger_id=list_passenger_id\n",
    ")"
   ]
  },
  {
   "cell_type": "markdown",
   "id": "cddacef3-229f-4988-82bb-90d7f4613bf9",
   "metadata": {
    "jp-MarkdownHeadingCollapsed": true,
    "tags": []
   },
   "source": [
    "### Pipeline v11"
   ]
  },
  {
   "cell_type": "markdown",
   "id": "fe726171-0ff9-49af-a496-54cbe8df3d98",
   "metadata": {
    "jp-MarkdownHeadingCollapsed": true,
    "tags": []
   },
   "source": [
    "#### Logistic regression"
   ]
  },
  {
   "cell_type": "code",
   "execution_count": 45,
   "id": "b8ec7a7d-7917-490c-8ab7-a8f4ccc75c5b",
   "metadata": {},
   "outputs": [
    {
     "name": "stdout",
     "output_type": "stream",
     "text": [
      "Model name: logistic_regression__v11\n",
      "Cross validation score: 0.78028\n",
      "Best params: {'feature_selection__k': 17, 'logistic__C': 100.0, 'logistic__l1_ratio': 0.5, 'logistic__penalty': 'elasticnet', 'logistic__solver': 'saga'}\n",
      "Time to tune: 56502 seconds\n",
      "Kaggle submission score: 0.78162\n"
     ]
    }
   ],
   "source": [
    "MODEL_NAME = \"logistic_regression__v11\"\n",
    "\n",
    "if not os.path.exists(os.path.join(REPO_MODEL, MODEL_NAME + \".json\")):\n",
    "    !python script_tuning.py $MODEL_NAME\n",
    "\n",
    "analyze_model(\n",
    "    model_name=MODEL_NAME, \n",
    "    repo_model=REPO_MODEL, \n",
    "    repo_submission=REPO_SUBMISSION, \n",
    "    X_train=X_train, \n",
    "    y_train=y_train, \n",
    "    X_test=X_test, \n",
    "    list_passenger_id=list_passenger_id\n",
    ")"
   ]
  },
  {
   "cell_type": "markdown",
   "id": "e2f7497b-627d-4bd4-8c75-6b27677f1dd2",
   "metadata": {
    "jp-MarkdownHeadingCollapsed": true,
    "tags": []
   },
   "source": [
    "#### KNN"
   ]
  },
  {
   "cell_type": "code",
   "execution_count": 46,
   "id": "5a1023f6-dd1e-452d-b723-932ae026e418",
   "metadata": {},
   "outputs": [
    {
     "name": "stdout",
     "output_type": "stream",
     "text": [
      "Model name: knn__v11\n",
      "Cross validation score: 0.79363\n",
      "Best params: {'feature_selection__k': 17, 'knn__n_neighbors': 27, 'knn__p': 2, 'knn__weights': 'uniform'}\n",
      "Time to tune: 72978 seconds\n",
      "Kaggle submission score: 0.78302\n"
     ]
    }
   ],
   "source": [
    "MODEL_NAME = \"knn__v11\"\n",
    "\n",
    "if not os.path.exists(os.path.join(REPO_MODEL, MODEL_NAME + \".json\")):\n",
    "    !python script_tuning.py $MODEL_NAME\n",
    "\n",
    "analyze_model(\n",
    "    model_name=MODEL_NAME, \n",
    "    repo_model=REPO_MODEL, \n",
    "    repo_submission=REPO_SUBMISSION, \n",
    "    X_train=X_train, \n",
    "    y_train=y_train, \n",
    "    X_test=X_test, \n",
    "    list_passenger_id=list_passenger_id\n",
    ")"
   ]
  },
  {
   "cell_type": "markdown",
   "id": "1866a70c-d04a-4fa0-905f-518a866ee4cf",
   "metadata": {
    "jp-MarkdownHeadingCollapsed": true,
    "tags": []
   },
   "source": [
    "#### SVM"
   ]
  },
  {
   "cell_type": "code",
   "execution_count": 47,
   "id": "97b01cc8-0bb8-41d3-b3dd-dcb275e9d550",
   "metadata": {},
   "outputs": [
    {
     "name": "stdout",
     "output_type": "stream",
     "text": [
      "Model name: svm__v11\n",
      "Cross validation score: 0.79984\n",
      "Best params: {'feature_selection__k': 20, 'svm__C': 2.154434690031882, 'svm__degree': 3, 'svm__kernel': 'poly'}\n",
      "Time to tune: 112989 seconds\n",
      "Kaggle submission score: 0.79728\n"
     ]
    }
   ],
   "source": [
    "MODEL_NAME = \"svm__v11\"\n",
    "\n",
    "if not os.path.exists(os.path.join(REPO_MODEL, MODEL_NAME + \".json\")):\n",
    "    !python script_tuning.py $MODEL_NAME\n",
    "\n",
    "analyze_model(\n",
    "    model_name=MODEL_NAME, \n",
    "    repo_model=REPO_MODEL, \n",
    "    repo_submission=REPO_SUBMISSION, \n",
    "    X_train=X_train, \n",
    "    y_train=y_train, \n",
    "    X_test=X_test, \n",
    "    list_passenger_id=list_passenger_id\n",
    ")"
   ]
  },
  {
   "cell_type": "markdown",
   "id": "3cb88cc4-217c-4539-b559-5eb144ced886",
   "metadata": {
    "jp-MarkdownHeadingCollapsed": true,
    "tags": []
   },
   "source": [
    "#### GNB"
   ]
  },
  {
   "cell_type": "code",
   "execution_count": 48,
   "id": "42bc9b1e-de6d-4e54-bfe5-441bb115fb6f",
   "metadata": {},
   "outputs": [
    {
     "name": "stdout",
     "output_type": "stream",
     "text": [
      "Model name: gnb__v11\n",
      "Cross validation score: 0.76740\n",
      "Best params: {'feature_selection__k': 4, 'gnb__var_smoothing': 0.2310129700083158}\n",
      "Time to tune: 15697 seconds\n",
      "Kaggle submission score: 0.77577\n"
     ]
    }
   ],
   "source": [
    "MODEL_NAME = \"gnb__v11\"\n",
    "\n",
    "if not os.path.exists(os.path.join(REPO_MODEL, MODEL_NAME + \".json\")):\n",
    "    !python script_tuning.py $MODEL_NAME\n",
    "\n",
    "analyze_model(\n",
    "    model_name=MODEL_NAME, \n",
    "    repo_model=REPO_MODEL, \n",
    "    repo_submission=REPO_SUBMISSION, \n",
    "    X_train=X_train, \n",
    "    y_train=y_train, \n",
    "    X_test=X_test, \n",
    "    list_passenger_id=list_passenger_id\n",
    ")"
   ]
  },
  {
   "cell_type": "markdown",
   "id": "994c681e-6f1e-4fd1-bd25-53078c58024b",
   "metadata": {
    "jp-MarkdownHeadingCollapsed": true,
    "tags": []
   },
   "source": [
    "### Pipeline v12"
   ]
  },
  {
   "cell_type": "markdown",
   "id": "711159a0-9d4f-4844-bf61-148900c6e66f",
   "metadata": {
    "jp-MarkdownHeadingCollapsed": true,
    "tags": []
   },
   "source": [
    "#### Logistic regression"
   ]
  },
  {
   "cell_type": "code",
   "execution_count": 49,
   "id": "5065397e-ae30-4d84-a9bf-eea87e09ee1f",
   "metadata": {},
   "outputs": [
    {
     "name": "stdout",
     "output_type": "stream",
     "text": [
      "Model name: logistic_regression__v12\n",
      "Cross validation score: 0.78109\n",
      "Best params: {'feature_selection__k': 14, 'logistic__C': 0.1, 'logistic__penalty': 'l2', 'logistic__solver': 'liblinear'}\n",
      "Time to tune: 57317 seconds\n",
      "Kaggle submission score: 0.78185\n"
     ]
    }
   ],
   "source": [
    "MODEL_NAME = \"logistic_regression__v12\"\n",
    "\n",
    "if not os.path.exists(os.path.join(REPO_MODEL, MODEL_NAME + \".json\")):\n",
    "    !python script_tuning.py $MODEL_NAME\n",
    "\n",
    "analyze_model(\n",
    "    model_name=MODEL_NAME, \n",
    "    repo_model=REPO_MODEL, \n",
    "    repo_submission=REPO_SUBMISSION, \n",
    "    X_train=X_train, \n",
    "    y_train=y_train, \n",
    "    X_test=X_test, \n",
    "    list_passenger_id=list_passenger_id\n",
    ")"
   ]
  },
  {
   "cell_type": "markdown",
   "id": "9efb7a95-5f3b-4d0f-8e15-8d4189f8de87",
   "metadata": {
    "jp-MarkdownHeadingCollapsed": true,
    "tags": []
   },
   "source": [
    "#### KNN"
   ]
  },
  {
   "cell_type": "code",
   "execution_count": 50,
   "id": "98ad8817-247a-4c39-8cc5-85b080fa65eb",
   "metadata": {},
   "outputs": [
    {
     "name": "stdout",
     "output_type": "stream",
     "text": [
      "Model name: knn__v12\n",
      "Cross validation score: 0.79259\n",
      "Best params: {'feature_selection__k': 15, 'knn__n_neighbors': 43, 'knn__p': 2, 'knn__weights': 'distance'}\n",
      "Time to tune: 90623 seconds\n",
      "Kaggle submission score: 0.78302\n"
     ]
    }
   ],
   "source": [
    "MODEL_NAME = \"knn__v12\"\n",
    "\n",
    "if not os.path.exists(os.path.join(REPO_MODEL, MODEL_NAME + \".json\")):\n",
    "    !python script_tuning.py $MODEL_NAME\n",
    "\n",
    "analyze_model(\n",
    "    model_name=MODEL_NAME, \n",
    "    repo_model=REPO_MODEL, \n",
    "    repo_submission=REPO_SUBMISSION, \n",
    "    X_train=X_train, \n",
    "    y_train=y_train, \n",
    "    X_test=X_test, \n",
    "    list_passenger_id=list_passenger_id\n",
    ")"
   ]
  },
  {
   "cell_type": "markdown",
   "id": "e7ff9334-7a58-477b-a7ac-3e87590ee8d1",
   "metadata": {
    "jp-MarkdownHeadingCollapsed": true,
    "tags": []
   },
   "source": [
    "#### SVM"
   ]
  },
  {
   "cell_type": "code",
   "execution_count": 51,
   "id": "d0f27ab0-45e8-42a1-86b7-6367788152ca",
   "metadata": {},
   "outputs": [
    {
     "name": "stdout",
     "output_type": "stream",
     "text": [
      "Model name: svm__v12\n",
      "Cross validation score: 0.79835\n",
      "Best params: {'feature_selection__k': 19, 'svm__C': 100.0, 'svm__degree': 2, 'svm__kernel': 'poly'}\n",
      "Time to tune: 106382 seconds\n",
      "Kaggle submission score: 0.79565\n"
     ]
    }
   ],
   "source": [
    "MODEL_NAME = \"svm__v12\"\n",
    "\n",
    "if not os.path.exists(os.path.join(REPO_MODEL, MODEL_NAME + \".json\")):\n",
    "    !python script_tuning.py $MODEL_NAME\n",
    "\n",
    "analyze_model(\n",
    "    model_name=MODEL_NAME, \n",
    "    repo_model=REPO_MODEL, \n",
    "    repo_submission=REPO_SUBMISSION, \n",
    "    X_train=X_train, \n",
    "    y_train=y_train, \n",
    "    X_test=X_test, \n",
    "    list_passenger_id=list_passenger_id\n",
    ")"
   ]
  },
  {
   "cell_type": "markdown",
   "id": "07c42f9b-61f0-419a-bf82-14fd33fe34aa",
   "metadata": {
    "jp-MarkdownHeadingCollapsed": true,
    "tags": []
   },
   "source": [
    "#### GNB"
   ]
  },
  {
   "cell_type": "code",
   "execution_count": null,
   "id": "bb302e1d-8bb7-46ac-a398-eda443816e22",
   "metadata": {},
   "outputs": [],
   "source": [
    "MODEL_NAME = \"gnb__v12\"\n",
    "\n",
    "if not os.path.exists(os.path.join(REPO_MODEL, MODEL_NAME + \".json\")):\n",
    "    !python script_tuning.py $MODEL_NAME\n",
    "\n",
    "analyze_model(\n",
    "    model_name=MODEL_NAME, \n",
    "    repo_model=REPO_MODEL, \n",
    "    repo_submission=REPO_SUBMISSION, \n",
    "    X_train=X_train, \n",
    "    y_train=y_train, \n",
    "    X_test=X_test, \n",
    "    list_passenger_id=list_passenger_id\n",
    ")"
   ]
  },
  {
   "cell_type": "markdown",
   "id": "e57dc549-513a-45d3-8337-9f180255216a",
   "metadata": {
    "jp-MarkdownHeadingCollapsed": true,
    "tags": []
   },
   "source": [
    "### Pipeline v13"
   ]
  },
  {
   "cell_type": "markdown",
   "id": "5c233316-4b0a-45b7-8169-2d792d16d9b0",
   "metadata": {
    "jp-MarkdownHeadingCollapsed": true,
    "tags": []
   },
   "source": [
    "#### Logistic regression"
   ]
  },
  {
   "cell_type": "code",
   "execution_count": null,
   "id": "985de1c7-c645-45ee-a31f-9cf85b8ac3fc",
   "metadata": {},
   "outputs": [],
   "source": [
    "MODEL_NAME = \"logistic_regression__v13\"\n",
    "\n",
    "if not os.path.exists(os.path.join(REPO_MODEL, MODEL_NAME + \".json\")):\n",
    "    !python script_tuning.py $MODEL_NAME\n",
    "\n",
    "analyze_model(\n",
    "    model_name=MODEL_NAME, \n",
    "    repo_model=REPO_MODEL, \n",
    "    repo_submission=REPO_SUBMISSION, \n",
    "    X_train=X_train, \n",
    "    y_train=y_train, \n",
    "    X_test=X_test, \n",
    "    list_passenger_id=list_passenger_id\n",
    ")"
   ]
  },
  {
   "cell_type": "markdown",
   "id": "67009efb-4a11-4ff3-b695-7fa7db6b76b4",
   "metadata": {
    "jp-MarkdownHeadingCollapsed": true,
    "tags": []
   },
   "source": [
    "#### KNN"
   ]
  },
  {
   "cell_type": "code",
   "execution_count": null,
   "id": "de89f627-700a-4c4a-9514-a9ae4e8edf37",
   "metadata": {},
   "outputs": [],
   "source": [
    "MODEL_NAME = \"knn__v13\"\n",
    "\n",
    "if not os.path.exists(os.path.join(REPO_MODEL, MODEL_NAME + \".json\")):\n",
    "    !python script_tuning.py $MODEL_NAME\n",
    "\n",
    "analyze_model(\n",
    "    model_name=MODEL_NAME, \n",
    "    repo_model=REPO_MODEL, \n",
    "    repo_submission=REPO_SUBMISSION, \n",
    "    X_train=X_train, \n",
    "    y_train=y_train, \n",
    "    X_test=X_test, \n",
    "    list_passenger_id=list_passenger_id\n",
    ")"
   ]
  },
  {
   "cell_type": "markdown",
   "id": "ddec2db4-d63c-4188-bc7d-5ffdd5429fd5",
   "metadata": {
    "jp-MarkdownHeadingCollapsed": true,
    "tags": []
   },
   "source": [
    "#### SVM"
   ]
  },
  {
   "cell_type": "code",
   "execution_count": null,
   "id": "dcb77449-fe50-426d-9181-9e4c32f2ce63",
   "metadata": {},
   "outputs": [],
   "source": [
    "MODEL_NAME = \"svm__v13\"\n",
    "\n",
    "if not os.path.exists(os.path.join(REPO_MODEL, MODEL_NAME + \".json\")):\n",
    "    !python script_tuning.py $MODEL_NAME\n",
    "\n",
    "analyze_model(\n",
    "    model_name=MODEL_NAME, \n",
    "    repo_model=REPO_MODEL, \n",
    "    repo_submission=REPO_SUBMISSION, \n",
    "    X_train=X_train, \n",
    "    y_train=y_train, \n",
    "    X_test=X_test, \n",
    "    list_passenger_id=list_passenger_id\n",
    ")"
   ]
  },
  {
   "cell_type": "markdown",
   "id": "a15308ea-edfb-4877-9e41-0a885c1d97ee",
   "metadata": {
    "jp-MarkdownHeadingCollapsed": true,
    "tags": []
   },
   "source": [
    "#### GNB"
   ]
  },
  {
   "cell_type": "code",
   "execution_count": null,
   "id": "a75a1485-8878-413f-9744-0d67ec399831",
   "metadata": {},
   "outputs": [],
   "source": [
    "MODEL_NAME = \"gnb__v13\"\n",
    "\n",
    "if not os.path.exists(os.path.join(REPO_MODEL, MODEL_NAME + \".json\")):\n",
    "    !python script_tuning.py $MODEL_NAME\n",
    "\n",
    "analyze_model(\n",
    "    model_name=MODEL_NAME, \n",
    "    repo_model=REPO_MODEL, \n",
    "    repo_submission=REPO_SUBMISSION, \n",
    "    X_train=X_train, \n",
    "    y_train=y_train, \n",
    "    X_test=X_test, \n",
    "    list_passenger_id=list_passenger_id\n",
    ")"
   ]
  },
  {
   "cell_type": "markdown",
   "id": "0b219e44-d23b-45bb-9a03-5c8ec92cc79a",
   "metadata": {
    "jp-MarkdownHeadingCollapsed": true,
    "tags": []
   },
   "source": [
    "### Pipeline v14"
   ]
  },
  {
   "cell_type": "markdown",
   "id": "99f4c6fd-83ae-462a-b924-7f90e60c843d",
   "metadata": {
    "jp-MarkdownHeadingCollapsed": true,
    "tags": []
   },
   "source": [
    "#### Logistic regression"
   ]
  },
  {
   "cell_type": "code",
   "execution_count": null,
   "id": "d8094226-b910-4e05-b48c-8a9151784c73",
   "metadata": {},
   "outputs": [],
   "source": [
    "MODEL_NAME = \"logistic_regression__v14\"\n",
    "\n",
    "if not os.path.exists(os.path.join(REPO_MODEL, MODEL_NAME + \".json\")):\n",
    "    !python script_tuning.py $MODEL_NAME\n",
    "\n",
    "analyze_model(\n",
    "    model_name=MODEL_NAME, \n",
    "    repo_model=REPO_MODEL, \n",
    "    repo_submission=REPO_SUBMISSION, \n",
    "    X_train=X_train, \n",
    "    y_train=y_train, \n",
    "    X_test=X_test, \n",
    "    list_passenger_id=list_passenger_id\n",
    ")"
   ]
  },
  {
   "cell_type": "markdown",
   "id": "54f88a88-44b5-4cd8-ab59-159766489f92",
   "metadata": {
    "jp-MarkdownHeadingCollapsed": true,
    "tags": []
   },
   "source": [
    "#### KNN"
   ]
  },
  {
   "cell_type": "code",
   "execution_count": null,
   "id": "0dccc0c8-1dff-41e3-a9ae-f1d1b4fd5d71",
   "metadata": {},
   "outputs": [],
   "source": [
    "MODEL_NAME = \"knn__v14\"\n",
    "\n",
    "if not os.path.exists(os.path.join(REPO_MODEL, MODEL_NAME + \".json\")):\n",
    "    !python script_tuning.py $MODEL_NAME\n",
    "\n",
    "analyze_model(\n",
    "    model_name=MODEL_NAME, \n",
    "    repo_model=REPO_MODEL, \n",
    "    repo_submission=REPO_SUBMISSION, \n",
    "    X_train=X_train, \n",
    "    y_train=y_train, \n",
    "    X_test=X_test, \n",
    "    list_passenger_id=list_passenger_id\n",
    ")"
   ]
  },
  {
   "cell_type": "markdown",
   "id": "8b744f7e-f4c8-428b-8e2f-5c2642e3b6ed",
   "metadata": {
    "jp-MarkdownHeadingCollapsed": true,
    "tags": []
   },
   "source": [
    "#### SVM"
   ]
  },
  {
   "cell_type": "code",
   "execution_count": null,
   "id": "48d0cf46-b094-425d-a73c-91535a9c5314",
   "metadata": {},
   "outputs": [],
   "source": [
    "MODEL_NAME = \"svm__v14\"\n",
    "\n",
    "if not os.path.exists(os.path.join(REPO_MODEL, MODEL_NAME + \".json\")):\n",
    "    !python script_tuning.py $MODEL_NAME\n",
    "\n",
    "analyze_model(\n",
    "    model_name=MODEL_NAME, \n",
    "    repo_model=REPO_MODEL, \n",
    "    repo_submission=REPO_SUBMISSION, \n",
    "    X_train=X_train, \n",
    "    y_train=y_train, \n",
    "    X_test=X_test, \n",
    "    list_passenger_id=list_passenger_id\n",
    ")"
   ]
  },
  {
   "cell_type": "markdown",
   "id": "78e6a981-8577-4ef1-a500-c5fb8f7cd6f2",
   "metadata": {
    "jp-MarkdownHeadingCollapsed": true,
    "tags": []
   },
   "source": [
    "#### GNB"
   ]
  },
  {
   "cell_type": "code",
   "execution_count": null,
   "id": "68847233-a2e7-4a97-8256-f5d2763aec88",
   "metadata": {},
   "outputs": [],
   "source": [
    "MODEL_NAME = \"gnb__v14\"\n",
    "\n",
    "if not os.path.exists(os.path.join(REPO_MODEL, MODEL_NAME + \".json\")):\n",
    "    !python script_tuning.py $MODEL_NAME\n",
    "\n",
    "analyze_model(\n",
    "    model_name=MODEL_NAME, \n",
    "    repo_model=REPO_MODEL, \n",
    "    repo_submission=REPO_SUBMISSION, \n",
    "    X_train=X_train, \n",
    "    y_train=y_train, \n",
    "    X_test=X_test, \n",
    "    list_passenger_id=list_passenger_id\n",
    ")"
   ]
  },
  {
   "cell_type": "markdown",
   "id": "979c6b12-9ad5-4cb5-807d-7d0faa6202ff",
   "metadata": {
    "jp-MarkdownHeadingCollapsed": true,
    "tags": []
   },
   "source": [
    "### Pipeline v15"
   ]
  },
  {
   "cell_type": "markdown",
   "id": "cc568698-9d24-4703-9a07-94c4197cb336",
   "metadata": {
    "jp-MarkdownHeadingCollapsed": true,
    "tags": []
   },
   "source": [
    "#### Logistic regression"
   ]
  },
  {
   "cell_type": "code",
   "execution_count": null,
   "id": "6a193365-b43b-486e-80f3-d85a48d0710d",
   "metadata": {},
   "outputs": [],
   "source": [
    "MODEL_NAME = \"logistic_regression__v15\"\n",
    "\n",
    "if not os.path.exists(os.path.join(REPO_MODEL, MODEL_NAME + \".json\")):\n",
    "    !python script_tuning.py $MODEL_NAME\n",
    "\n",
    "analyze_model(\n",
    "    model_name=MODEL_NAME, \n",
    "    repo_model=REPO_MODEL, \n",
    "    repo_submission=REPO_SUBMISSION, \n",
    "    X_train=X_train, \n",
    "    y_train=y_train, \n",
    "    X_test=X_test, \n",
    "    list_passenger_id=list_passenger_id\n",
    ")"
   ]
  },
  {
   "cell_type": "markdown",
   "id": "c9cdb8ac-04d3-4c89-8a11-6bda9773b266",
   "metadata": {
    "jp-MarkdownHeadingCollapsed": true,
    "tags": []
   },
   "source": [
    "#### KNN"
   ]
  },
  {
   "cell_type": "code",
   "execution_count": null,
   "id": "fb9077d0-9d19-4aaa-90aa-f0a32ee318fb",
   "metadata": {},
   "outputs": [],
   "source": [
    "MODEL_NAME = \"knn__v15\"\n",
    "\n",
    "if not os.path.exists(os.path.join(REPO_MODEL, MODEL_NAME + \".json\")):\n",
    "    !python script_tuning.py $MODEL_NAME\n",
    "\n",
    "analyze_model(\n",
    "    model_name=MODEL_NAME, \n",
    "    repo_model=REPO_MODEL, \n",
    "    repo_submission=REPO_SUBMISSION, \n",
    "    X_train=X_train, \n",
    "    y_train=y_train, \n",
    "    X_test=X_test, \n",
    "    list_passenger_id=list_passenger_id\n",
    ")"
   ]
  },
  {
   "cell_type": "markdown",
   "id": "65d0d13d-547e-4ee6-86a9-43588bc16f06",
   "metadata": {
    "jp-MarkdownHeadingCollapsed": true,
    "tags": []
   },
   "source": [
    "#### SVM"
   ]
  },
  {
   "cell_type": "code",
   "execution_count": null,
   "id": "1a15b43a-4725-4cfe-b6b3-2e1e42c3afe0",
   "metadata": {},
   "outputs": [],
   "source": [
    "MODEL_NAME = \"svm__v15\"\n",
    "\n",
    "if not os.path.exists(os.path.join(REPO_MODEL, MODEL_NAME + \".json\")):\n",
    "    !python script_tuning.py $MODEL_NAME\n",
    "\n",
    "analyze_model(\n",
    "    model_name=MODEL_NAME, \n",
    "    repo_model=REPO_MODEL, \n",
    "    repo_submission=REPO_SUBMISSION, \n",
    "    X_train=X_train, \n",
    "    y_train=y_train, \n",
    "    X_test=X_test, \n",
    "    list_passenger_id=list_passenger_id\n",
    ")"
   ]
  },
  {
   "cell_type": "markdown",
   "id": "1e9f365e-04c0-4af1-a3c3-6dd81a0b9e21",
   "metadata": {
    "jp-MarkdownHeadingCollapsed": true,
    "tags": []
   },
   "source": [
    "#### GNB"
   ]
  },
  {
   "cell_type": "code",
   "execution_count": null,
   "id": "40f0c511-ea9f-4b25-8938-8b2a81414556",
   "metadata": {},
   "outputs": [],
   "source": [
    "MODEL_NAME = \"gnb__v15\"\n",
    "\n",
    "if not os.path.exists(os.path.join(REPO_MODEL, MODEL_NAME + \".json\")):\n",
    "    !python script_tuning.py $MODEL_NAME\n",
    "\n",
    "analyze_model(\n",
    "    model_name=MODEL_NAME, \n",
    "    repo_model=REPO_MODEL, \n",
    "    repo_submission=REPO_SUBMISSION, \n",
    "    X_train=X_train, \n",
    "    y_train=y_train, \n",
    "    X_test=X_test, \n",
    "    list_passenger_id=list_passenger_id\n",
    ")"
   ]
  },
  {
   "cell_type": "markdown",
   "id": "2c3e5038-9ad2-4682-89aa-a27051b7cf3a",
   "metadata": {
    "jp-MarkdownHeadingCollapsed": true,
    "tags": []
   },
   "source": [
    "### Pipeline v16"
   ]
  },
  {
   "cell_type": "markdown",
   "id": "0b0f5a70-a5da-480b-bc64-ee2ab20dd7eb",
   "metadata": {
    "jp-MarkdownHeadingCollapsed": true,
    "tags": []
   },
   "source": [
    "#### Logistic regression"
   ]
  },
  {
   "cell_type": "code",
   "execution_count": null,
   "id": "698c9648-34bb-4634-829a-5ca92d0d129a",
   "metadata": {},
   "outputs": [],
   "source": [
    "MODEL_NAME = \"logistic_regression__v16\"\n",
    "\n",
    "if not os.path.exists(os.path.join(REPO_MODEL, MODEL_NAME + \".json\")):\n",
    "    !python script_tuning.py $MODEL_NAME\n",
    "\n",
    "analyze_model(\n",
    "    model_name=MODEL_NAME, \n",
    "    repo_model=REPO_MODEL, \n",
    "    repo_submission=REPO_SUBMISSION, \n",
    "    X_train=X_train, \n",
    "    y_train=y_train, \n",
    "    X_test=X_test, \n",
    "    list_passenger_id=list_passenger_id\n",
    ")"
   ]
  },
  {
   "cell_type": "markdown",
   "id": "fbb5cdd7-c0cf-4d75-9f81-b14ba0504b98",
   "metadata": {
    "jp-MarkdownHeadingCollapsed": true,
    "tags": []
   },
   "source": [
    "#### KNN"
   ]
  },
  {
   "cell_type": "code",
   "execution_count": null,
   "id": "2fd33064-5bf2-4e6c-af63-053b19f7ab9d",
   "metadata": {},
   "outputs": [],
   "source": [
    "MODEL_NAME = \"knn__v16\"\n",
    "\n",
    "if not os.path.exists(os.path.join(REPO_MODEL, MODEL_NAME + \".json\")):\n",
    "    !python script_tuning.py $MODEL_NAME\n",
    "\n",
    "analyze_model(\n",
    "    model_name=MODEL_NAME, \n",
    "    repo_model=REPO_MODEL, \n",
    "    repo_submission=REPO_SUBMISSION, \n",
    "    X_train=X_train, \n",
    "    y_train=y_train, \n",
    "    X_test=X_test, \n",
    "    list_passenger_id=list_passenger_id\n",
    ")"
   ]
  },
  {
   "cell_type": "markdown",
   "id": "6b0512ec-ae0e-48d2-b02c-cdc64bfd1534",
   "metadata": {
    "jp-MarkdownHeadingCollapsed": true,
    "tags": []
   },
   "source": [
    "#### SVM"
   ]
  },
  {
   "cell_type": "code",
   "execution_count": null,
   "id": "23d4fb11-de6b-4e07-a08f-189e31a65b9f",
   "metadata": {},
   "outputs": [],
   "source": [
    "MODEL_NAME = \"svm__v16\"\n",
    "\n",
    "if not os.path.exists(os.path.join(REPO_MODEL, MODEL_NAME + \".json\")):\n",
    "    !python script_tuning.py $MODEL_NAME\n",
    "\n",
    "analyze_model(\n",
    "    model_name=MODEL_NAME, \n",
    "    repo_model=REPO_MODEL, \n",
    "    repo_submission=REPO_SUBMISSION, \n",
    "    X_train=X_train, \n",
    "    y_train=y_train, \n",
    "    X_test=X_test, \n",
    "    list_passenger_id=list_passenger_id\n",
    ")"
   ]
  },
  {
   "cell_type": "markdown",
   "id": "92af1ec3-35ef-4e75-8b27-6a7a5b11c87d",
   "metadata": {
    "jp-MarkdownHeadingCollapsed": true,
    "tags": []
   },
   "source": [
    "#### GNB"
   ]
  },
  {
   "cell_type": "code",
   "execution_count": null,
   "id": "c04bb7ba-23ab-43a7-9c69-71988726c465",
   "metadata": {},
   "outputs": [],
   "source": [
    "MODEL_NAME = \"gnb__v16\"\n",
    "\n",
    "if not os.path.exists(os.path.join(REPO_MODEL, MODEL_NAME + \".json\")):\n",
    "    !python script_tuning.py $MODEL_NAME\n",
    "\n",
    "analyze_model(\n",
    "    model_name=MODEL_NAME, \n",
    "    repo_model=REPO_MODEL, \n",
    "    repo_submission=REPO_SUBMISSION, \n",
    "    X_train=X_train, \n",
    "    y_train=y_train, \n",
    "    X_test=X_test, \n",
    "    list_passenger_id=list_passenger_id\n",
    ")"
   ]
  },
  {
   "cell_type": "markdown",
   "id": "1094fe51-6445-4658-a3f2-330fddc73b7d",
   "metadata": {
    "jp-MarkdownHeadingCollapsed": true,
    "tags": []
   },
   "source": [
    "### Pipeline v17"
   ]
  },
  {
   "cell_type": "markdown",
   "id": "0fc08fa6-39d7-4e71-b99d-14b10d61d5d5",
   "metadata": {
    "jp-MarkdownHeadingCollapsed": true,
    "tags": []
   },
   "source": [
    "#### Logistic regression"
   ]
  },
  {
   "cell_type": "code",
   "execution_count": null,
   "id": "c63380d4-1983-47be-891a-09382b35aa8f",
   "metadata": {},
   "outputs": [],
   "source": [
    "MODEL_NAME = \"logistic_regression__v17\"\n",
    "\n",
    "if not os.path.exists(os.path.join(REPO_MODEL, MODEL_NAME + \".json\")):\n",
    "    !python script_tuning.py $MODEL_NAME\n",
    "\n",
    "analyze_model(\n",
    "    model_name=MODEL_NAME, \n",
    "    repo_model=REPO_MODEL, \n",
    "    repo_submission=REPO_SUBMISSION, \n",
    "    X_train=X_train, \n",
    "    y_train=y_train, \n",
    "    X_test=X_test, \n",
    "    list_passenger_id=list_passenger_id\n",
    ")"
   ]
  },
  {
   "cell_type": "markdown",
   "id": "5c991f11-5dbd-4860-9105-f48bd08b131c",
   "metadata": {
    "jp-MarkdownHeadingCollapsed": true,
    "tags": []
   },
   "source": [
    "#### KNN"
   ]
  },
  {
   "cell_type": "code",
   "execution_count": null,
   "id": "e7056383-6439-4644-9bde-e492a3ccbf11",
   "metadata": {},
   "outputs": [],
   "source": [
    "MODEL_NAME = \"knn__v17\"\n",
    "\n",
    "if not os.path.exists(os.path.join(REPO_MODEL, MODEL_NAME + \".json\")):\n",
    "    !python script_tuning.py $MODEL_NAME\n",
    "\n",
    "analyze_model(\n",
    "    model_name=MODEL_NAME, \n",
    "    repo_model=REPO_MODEL, \n",
    "    repo_submission=REPO_SUBMISSION, \n",
    "    X_train=X_train, \n",
    "    y_train=y_train, \n",
    "    X_test=X_test, \n",
    "    list_passenger_id=list_passenger_id\n",
    ")"
   ]
  },
  {
   "cell_type": "markdown",
   "id": "eda92593-6594-40ac-ae20-581226bcb32d",
   "metadata": {
    "jp-MarkdownHeadingCollapsed": true,
    "tags": []
   },
   "source": [
    "#### SVM"
   ]
  },
  {
   "cell_type": "code",
   "execution_count": null,
   "id": "a35dab8e-cb2b-4f39-8d20-4f0a6c7f6d88",
   "metadata": {},
   "outputs": [],
   "source": [
    "MODEL_NAME = \"svm__v17\"\n",
    "\n",
    "if not os.path.exists(os.path.join(REPO_MODEL, MODEL_NAME + \".json\")):\n",
    "    !python script_tuning.py $MODEL_NAME\n",
    "\n",
    "analyze_model(\n",
    "    model_name=MODEL_NAME, \n",
    "    repo_model=REPO_MODEL, \n",
    "    repo_submission=REPO_SUBMISSION, \n",
    "    X_train=X_train, \n",
    "    y_train=y_train, \n",
    "    X_test=X_test, \n",
    "    list_passenger_id=list_passenger_id\n",
    ")"
   ]
  },
  {
   "cell_type": "markdown",
   "id": "24ace10e-43d7-4cc4-9c79-36ffef5bc5d9",
   "metadata": {
    "jp-MarkdownHeadingCollapsed": true,
    "tags": []
   },
   "source": [
    "#### GNB"
   ]
  },
  {
   "cell_type": "code",
   "execution_count": null,
   "id": "0d65924f-9fff-4bf7-b22c-00351a6aa1b8",
   "metadata": {},
   "outputs": [],
   "source": [
    "MODEL_NAME = \"gnb__v17\"\n",
    "\n",
    "if not os.path.exists(os.path.join(REPO_MODEL, MODEL_NAME + \".json\")):\n",
    "    !python script_tuning.py $MODEL_NAME\n",
    "\n",
    "analyze_model(\n",
    "    model_name=MODEL_NAME, \n",
    "    repo_model=REPO_MODEL, \n",
    "    repo_submission=REPO_SUBMISSION, \n",
    "    X_train=X_train, \n",
    "    y_train=y_train, \n",
    "    X_test=X_test, \n",
    "    list_passenger_id=list_passenger_id\n",
    ")"
   ]
  },
  {
   "cell_type": "markdown",
   "id": "0d72b1c4-702a-4f0c-9201-c1fa495c8278",
   "metadata": {
    "jp-MarkdownHeadingCollapsed": true,
    "tags": []
   },
   "source": [
    "### Pipeline v18"
   ]
  },
  {
   "cell_type": "markdown",
   "id": "3e75dfb2-d954-469a-96c9-9a1d18cc5c51",
   "metadata": {
    "jp-MarkdownHeadingCollapsed": true,
    "tags": []
   },
   "source": [
    "#### Logistic regression"
   ]
  },
  {
   "cell_type": "code",
   "execution_count": 7,
   "id": "dc88e9d5-b58e-459a-9218-23c86b350ad5",
   "metadata": {},
   "outputs": [
    {
     "name": "stdout",
     "output_type": "stream",
     "text": [
      "Model name: logistic_regression__v18\n",
      "Cross validation score: 0.77948\n",
      "Best params: {'logistic__C': 0.01, 'logistic__penalty': 'l2', 'logistic__solver': 'liblinear', 'pca__n_components': 18}\n",
      "Time to tune: 8749 seconds\n",
      "Kaggle submission score: 0.78396\n"
     ]
    }
   ],
   "source": [
    "MODEL_NAME = \"logistic_regression__v18\"\n",
    "\n",
    "if not os.path.exists(os.path.join(REPO_MODEL, MODEL_NAME + \".json\")):\n",
    "    !python script_tuning.py $MODEL_NAME\n",
    "\n",
    "analyze_model(\n",
    "    model_name=MODEL_NAME, \n",
    "    repo_model=REPO_MODEL, \n",
    "    repo_submission=REPO_SUBMISSION, \n",
    "    X_train=X_train, \n",
    "    y_train=y_train, \n",
    "    X_test=X_test, \n",
    "    list_passenger_id=list_passenger_id\n",
    ")"
   ]
  },
  {
   "cell_type": "markdown",
   "id": "ea153b91-7dd1-4230-baac-38ffdf172cd1",
   "metadata": {
    "jp-MarkdownHeadingCollapsed": true,
    "tags": []
   },
   "source": [
    "#### KNN"
   ]
  },
  {
   "cell_type": "code",
   "execution_count": null,
   "id": "81f735ca-de0f-4548-a543-9951609cbb93",
   "metadata": {},
   "outputs": [],
   "source": [
    "MODEL_NAME = \"knn__v18\"\n",
    "\n",
    "if not os.path.exists(os.path.join(REPO_MODEL, MODEL_NAME + \".json\")):\n",
    "    !python script_tuning.py $MODEL_NAME\n",
    "\n",
    "analyze_model(\n",
    "    model_name=MODEL_NAME, \n",
    "    repo_model=REPO_MODEL, \n",
    "    repo_submission=REPO_SUBMISSION, \n",
    "    X_train=X_train, \n",
    "    y_train=y_train, \n",
    "    X_test=X_test, \n",
    "    list_passenger_id=list_passenger_id\n",
    ")"
   ]
  },
  {
   "cell_type": "markdown",
   "id": "1efa20c3-e6e2-4376-92ec-7c8449d46ed3",
   "metadata": {
    "jp-MarkdownHeadingCollapsed": true,
    "tags": []
   },
   "source": [
    "#### SVM"
   ]
  },
  {
   "cell_type": "code",
   "execution_count": null,
   "id": "993fbb53-181b-46df-bd65-d668d25d7746",
   "metadata": {},
   "outputs": [],
   "source": [
    "MODEL_NAME = \"svm__v18\"\n",
    "\n",
    "if not os.path.exists(os.path.join(REPO_MODEL, MODEL_NAME + \".json\")):\n",
    "    !python script_tuning.py $MODEL_NAME\n",
    "\n",
    "analyze_model(\n",
    "    model_name=MODEL_NAME, \n",
    "    repo_model=REPO_MODEL, \n",
    "    repo_submission=REPO_SUBMISSION, \n",
    "    X_train=X_train, \n",
    "    y_train=y_train, \n",
    "    X_test=X_test, \n",
    "    list_passenger_id=list_passenger_id\n",
    ")"
   ]
  },
  {
   "cell_type": "markdown",
   "id": "8705b31a-d8eb-4896-ad1b-af5c64bfb6c4",
   "metadata": {
    "jp-MarkdownHeadingCollapsed": true,
    "tags": []
   },
   "source": [
    "#### GNB"
   ]
  },
  {
   "cell_type": "code",
   "execution_count": null,
   "id": "a1dea574-f62e-4443-a14f-f9ef296f3818",
   "metadata": {},
   "outputs": [],
   "source": [
    "MODEL_NAME = \"gnb__v18\"\n",
    "\n",
    "if not os.path.exists(os.path.join(REPO_MODEL, MODEL_NAME + \".json\")):\n",
    "    !python script_tuning.py $MODEL_NAME\n",
    "\n",
    "analyze_model(\n",
    "    model_name=MODEL_NAME, \n",
    "    repo_model=REPO_MODEL, \n",
    "    repo_submission=REPO_SUBMISSION, \n",
    "    X_train=X_train, \n",
    "    y_train=y_train, \n",
    "    X_test=X_test, \n",
    "    list_passenger_id=list_passenger_id\n",
    ")"
   ]
  },
  {
   "cell_type": "markdown",
   "id": "1dee9045",
   "metadata": {
    "jp-MarkdownHeadingCollapsed": true,
    "tags": []
   },
   "source": [
    "## Analysis"
   ]
  },
  {
   "cell_type": "code",
   "execution_count": 61,
   "id": "0b05e8c1-31b4-499b-a0d6-ec0fcded0a78",
   "metadata": {},
   "outputs": [],
   "source": [
    "VERSIONS = [str(x) if x > 9 else \"0\" + str(x) for x in range(1, 19)]\n",
    "MODELS = [\"logistic_regression\", \"knn\", \"svm\", \"gnb\"]\n",
    "COLUMNS_ANALYSIS_BY_MODEL = [\"Version\", \"Description\", \"Best_score\", \"Time_to_tune\", \"Score_kaggle\", \"Best_params\"]\n",
    "COLUMNS_ANALYSIS_BY_VERSION = [\"Name_model\", \"Best_score\", \"Time_to_tune\", \"Score_kaggle\", \"Best_params\"]\n",
    "DESCRIPTION_VERSIONS = {\n",
    "    \"01\": \"Basic feature\",\n",
    "    \"02\": \"Basic feature with feature selection f_classif\",\n",
    "    \"03\": \"Basic feature with feature selection MI n=1\",\n",
    "    \"04\": \"Basic feature with feature selection MI n=2\",\n",
    "    \"05\": \"Basic feature with feature selection MI n=3\",\n",
    "    \"06\": \"Basic feature with feature selection MI n=4\",\n",
    "    \"07\": \"Basic feature with feature selection MI n=5\",\n",
    "    \"08\": \"Basic feature with feature selection from rf\",\n",
    "    \"09\": \"Basic feature with feature selection from ridge\",\n",
    "    \"10\": \"Basic feature with feature selection f_classif + pca full\",\n",
    "    \"11\": \"Basic feature with feature selection MI n=1 + pca full\",\n",
    "    \"12\": \"Basic feature with feature selection MI n=2 + pca full\",\n",
    "    \"13\": \"Basic feature with feature selection MI n=3 + pca full\",\n",
    "    \"14\": \"Basic feature with feature selection MI n=4 + pca full\",\n",
    "    \"15\": \"Basic feature with feature selection MI n=5 + pca full\",\n",
    "    \"16\": \"Basic feature with feature selection from rf + pca full\",\n",
    "    \"17\": \"Basic feature with feature selection from ridge + pca full\",\n",
    "    \"18\": \"Basic feature with pca\",\n",
    "}"
   ]
  },
  {
   "cell_type": "markdown",
   "id": "291c5a17",
   "metadata": {
    "jp-MarkdownHeadingCollapsed": true,
    "tags": []
   },
   "source": [
    "### By model"
   ]
  },
  {
   "cell_type": "markdown",
   "id": "800e3780",
   "metadata": {
    "jp-MarkdownHeadingCollapsed": true,
    "tags": []
   },
   "source": [
    "#### Logistic regression"
   ]
  },
  {
   "cell_type": "code",
   "execution_count": 62,
   "id": "c3915d06",
   "metadata": {},
   "outputs": [
    {
     "data": {
      "text/html": [
       "<style type=\"text/css\">\n",
       "#T_413d5_row0_col0, #T_413d5_row0_col1, #T_413d5_row0_col2, #T_413d5_row0_col3, #T_413d5_row0_col4, #T_413d5_row0_col5, #T_413d5_row1_col0, #T_413d5_row1_col1, #T_413d5_row1_col2, #T_413d5_row1_col3, #T_413d5_row1_col4, #T_413d5_row1_col5, #T_413d5_row3_col0, #T_413d5_row3_col1, #T_413d5_row3_col2, #T_413d5_row3_col3, #T_413d5_row3_col4, #T_413d5_row3_col5, #T_413d5_row4_col0, #T_413d5_row4_col1, #T_413d5_row4_col2, #T_413d5_row4_col3, #T_413d5_row4_col4, #T_413d5_row4_col5, #T_413d5_row5_col0, #T_413d5_row5_col1, #T_413d5_row5_col2, #T_413d5_row5_col3, #T_413d5_row5_col4, #T_413d5_row5_col5, #T_413d5_row6_col0, #T_413d5_row6_col1, #T_413d5_row6_col2, #T_413d5_row6_col3, #T_413d5_row6_col4, #T_413d5_row6_col5, #T_413d5_row7_col0, #T_413d5_row7_col1, #T_413d5_row7_col2, #T_413d5_row7_col3, #T_413d5_row7_col4, #T_413d5_row7_col5, #T_413d5_row8_col0, #T_413d5_row8_col1, #T_413d5_row8_col2, #T_413d5_row8_col3, #T_413d5_row8_col4, #T_413d5_row8_col5, #T_413d5_row9_col0, #T_413d5_row9_col1, #T_413d5_row9_col2, #T_413d5_row9_col3, #T_413d5_row9_col4, #T_413d5_row9_col5, #T_413d5_row10_col0, #T_413d5_row10_col1, #T_413d5_row10_col2, #T_413d5_row10_col3, #T_413d5_row10_col4, #T_413d5_row10_col5, #T_413d5_row11_col0, #T_413d5_row11_col1, #T_413d5_row11_col2, #T_413d5_row11_col3, #T_413d5_row11_col4, #T_413d5_row11_col5, #T_413d5_row12_col0, #T_413d5_row12_col1, #T_413d5_row12_col2, #T_413d5_row12_col3, #T_413d5_row12_col4, #T_413d5_row12_col5, #T_413d5_row13_col0, #T_413d5_row13_col1, #T_413d5_row13_col2, #T_413d5_row13_col3, #T_413d5_row13_col4, #T_413d5_row13_col5, #T_413d5_row14_col0, #T_413d5_row14_col1, #T_413d5_row14_col2, #T_413d5_row14_col3, #T_413d5_row14_col4, #T_413d5_row14_col5, #T_413d5_row15_col0, #T_413d5_row15_col1, #T_413d5_row15_col2, #T_413d5_row15_col3, #T_413d5_row15_col4, #T_413d5_row15_col5, #T_413d5_row16_col0, #T_413d5_row16_col1, #T_413d5_row16_col2, #T_413d5_row16_col3, #T_413d5_row16_col4, #T_413d5_row16_col5, #T_413d5_row17_col0, #T_413d5_row17_col1, #T_413d5_row17_col2, #T_413d5_row17_col3, #T_413d5_row17_col4, #T_413d5_row17_col5 {\n",
       "  background-color: white;\n",
       "}\n",
       "#T_413d5_row2_col0, #T_413d5_row2_col1, #T_413d5_row2_col2, #T_413d5_row2_col3, #T_413d5_row2_col4, #T_413d5_row2_col5 {\n",
       "  background-color: yellow;\n",
       "}\n",
       "</style>\n",
       "<table id=\"T_413d5\">\n",
       "  <thead>\n",
       "    <tr>\n",
       "      <th class=\"blank level0\" >&nbsp;</th>\n",
       "      <th id=\"T_413d5_level0_col0\" class=\"col_heading level0 col0\" >Version</th>\n",
       "      <th id=\"T_413d5_level0_col1\" class=\"col_heading level0 col1\" >Description</th>\n",
       "      <th id=\"T_413d5_level0_col2\" class=\"col_heading level0 col2\" >Best_score</th>\n",
       "      <th id=\"T_413d5_level0_col3\" class=\"col_heading level0 col3\" >Time_to_tune</th>\n",
       "      <th id=\"T_413d5_level0_col4\" class=\"col_heading level0 col4\" >Score_kaggle</th>\n",
       "      <th id=\"T_413d5_level0_col5\" class=\"col_heading level0 col5\" >Best_params</th>\n",
       "    </tr>\n",
       "  </thead>\n",
       "  <tbody>\n",
       "    <tr>\n",
       "      <th id=\"T_413d5_level0_row0\" class=\"row_heading level0 row0\" >0</th>\n",
       "      <td id=\"T_413d5_row0_col0\" class=\"data row0 col0\" >01</td>\n",
       "      <td id=\"T_413d5_row0_col1\" class=\"data row0 col1\" >Basic feature</td>\n",
       "      <td id=\"T_413d5_row0_col2\" class=\"data row0 col2\" >0.779479</td>\n",
       "      <td id=\"T_413d5_row0_col3\" class=\"data row0 col3\" >1476</td>\n",
       "      <td id=\"T_413d5_row0_col4\" class=\"data row0 col4\" >0.784420</td>\n",
       "      <td id=\"T_413d5_row0_col5\" class=\"data row0 col5\" >{'logistic__C': 0.01, 'logistic__penalty': 'l2', 'logistic__solver': 'liblinear'}</td>\n",
       "    </tr>\n",
       "    <tr>\n",
       "      <th id=\"T_413d5_level0_row1\" class=\"row_heading level0 row1\" >1</th>\n",
       "      <td id=\"T_413d5_row1_col0\" class=\"data row1 col0\" >02</td>\n",
       "      <td id=\"T_413d5_row1_col1\" class=\"data row1 col1\" >Basic feature with feature selection f_classif</td>\n",
       "      <td id=\"T_413d5_row1_col2\" class=\"data row1 col2\" >0.781549</td>\n",
       "      <td id=\"T_413d5_row1_col3\" class=\"data row1 col3\" >12903</td>\n",
       "      <td id=\"T_413d5_row1_col4\" class=\"data row1 col4\" >0.783490</td>\n",
       "      <td id=\"T_413d5_row1_col5\" class=\"data row1 col5\" >{'feature_selection__k': 15, 'logistic__C': 0.021544346900318822, 'logistic__l1_ratio': 0.1, 'logistic__penalty': 'elasticnet', 'logistic__solver': 'saga'}</td>\n",
       "    </tr>\n",
       "    <tr>\n",
       "      <th id=\"T_413d5_level0_row2\" class=\"row_heading level0 row2\" >2</th>\n",
       "      <td id=\"T_413d5_row2_col0\" class=\"data row2 col0\" >03</td>\n",
       "      <td id=\"T_413d5_row2_col1\" class=\"data row2 col1\" >Basic feature with feature selection MI n=1</td>\n",
       "      <td id=\"T_413d5_row2_col2\" class=\"data row2 col2\" >0.781665</td>\n",
       "      <td id=\"T_413d5_row2_col3\" class=\"data row2 col3\" >57133</td>\n",
       "      <td id=\"T_413d5_row2_col4\" class=\"data row2 col4\" >0.779280</td>\n",
       "      <td id=\"T_413d5_row2_col5\" class=\"data row2 col5\" >{'feature_selection__k': 16, 'logistic__C': 0.21544346900318823, 'logistic__l1_ratio': 0.2, 'logistic__penalty': 'elasticnet', 'logistic__solver': 'saga'}</td>\n",
       "    </tr>\n",
       "    <tr>\n",
       "      <th id=\"T_413d5_level0_row3\" class=\"row_heading level0 row3\" >3</th>\n",
       "      <td id=\"T_413d5_row3_col0\" class=\"data row3 col0\" >04</td>\n",
       "      <td id=\"T_413d5_row3_col1\" class=\"data row3 col1\" >Basic feature with feature selection MI n=2</td>\n",
       "      <td id=\"T_413d5_row3_col2\" class=\"data row3 col2\" >0.780629</td>\n",
       "      <td id=\"T_413d5_row3_col3\" class=\"data row3 col3\" >58302</td>\n",
       "      <td id=\"T_413d5_row3_col4\" class=\"data row3 col4\" >0.785120</td>\n",
       "      <td id=\"T_413d5_row3_col5\" class=\"data row3 col5\" >{'feature_selection__k': 24, 'logistic__C': 0.01, 'logistic__penalty': 'l2', 'logistic__solver': 'liblinear'}</td>\n",
       "    </tr>\n",
       "    <tr>\n",
       "      <th id=\"T_413d5_level0_row4\" class=\"row_heading level0 row4\" >4</th>\n",
       "      <td id=\"T_413d5_row4_col0\" class=\"data row4 col0\" >05</td>\n",
       "      <td id=\"T_413d5_row4_col1\" class=\"data row4 col1\" >Basic feature with feature selection MI n=3</td>\n",
       "      <td id=\"T_413d5_row4_col2\" class=\"data row4 col2\" >0.780745</td>\n",
       "      <td id=\"T_413d5_row4_col3\" class=\"data row4 col3\" >59880</td>\n",
       "      <td id=\"T_413d5_row4_col4\" class=\"data row4 col4\" >0.776710</td>\n",
       "      <td id=\"T_413d5_row4_col5\" class=\"data row4 col5\" >{'feature_selection__k': 12, 'logistic__C': 2154.434690031878, 'logistic__l1_ratio': 0.5, 'logistic__penalty': 'elasticnet', 'logistic__solver': 'saga'}</td>\n",
       "    </tr>\n",
       "    <tr>\n",
       "      <th id=\"T_413d5_level0_row5\" class=\"row_heading level0 row5\" >5</th>\n",
       "      <td id=\"T_413d5_row5_col0\" class=\"data row5 col0\" >06</td>\n",
       "      <td id=\"T_413d5_row5_col1\" class=\"data row5 col1\" >Basic feature with feature selection MI n=4</td>\n",
       "      <td id=\"T_413d5_row5_col2\" class=\"data row5 col2\" >0.780400</td>\n",
       "      <td id=\"T_413d5_row5_col3\" class=\"data row5 col3\" >61262</td>\n",
       "      <td id=\"T_413d5_row5_col4\" class=\"data row5 col4\" >0.782550</td>\n",
       "      <td id=\"T_413d5_row5_col5\" class=\"data row5 col5\" >{'feature_selection__k': 15, 'logistic__C': 4641.588833612773, 'logistic__l1_ratio': 0.8, 'logistic__penalty': 'elasticnet', 'logistic__solver': 'saga'}</td>\n",
       "    </tr>\n",
       "    <tr>\n",
       "      <th id=\"T_413d5_level0_row6\" class=\"row_heading level0 row6\" >6</th>\n",
       "      <td id=\"T_413d5_row6_col0\" class=\"data row6 col0\" >07</td>\n",
       "      <td id=\"T_413d5_row6_col1\" class=\"data row6 col1\" >Basic feature with feature selection MI n=5</td>\n",
       "      <td id=\"T_413d5_row6_col2\" class=\"data row6 col2\" >0.780745</td>\n",
       "      <td id=\"T_413d5_row6_col3\" class=\"data row6 col3\" >62178</td>\n",
       "      <td id=\"T_413d5_row6_col4\" class=\"data row6 col4\" >0.782090</td>\n",
       "      <td id=\"T_413d5_row6_col5\" class=\"data row6 col5\" >{'feature_selection__k': 15, 'logistic__C': 10000.0, 'logistic__penalty': 'l2', 'logistic__solver': 'liblinear'}</td>\n",
       "    </tr>\n",
       "    <tr>\n",
       "      <th id=\"T_413d5_level0_row7\" class=\"row_heading level0 row7\" >7</th>\n",
       "      <td id=\"T_413d5_row7_col0\" class=\"data row7 col0\" >08</td>\n",
       "      <td id=\"T_413d5_row7_col1\" class=\"data row7 col1\" >Basic feature with feature selection from rf</td>\n",
       "      <td id=\"T_413d5_row7_col2\" class=\"data row7 col2\" >0.779479</td>\n",
       "      <td id=\"T_413d5_row7_col3\" class=\"data row7 col3\" >42744</td>\n",
       "      <td id=\"T_413d5_row7_col4\" class=\"data row7 col4\" >0.784190</td>\n",
       "      <td id=\"T_413d5_row7_col5\" class=\"data row7 col5\" >{'feature_selection__max_features': 23, 'logistic__C': 0.01, 'logistic__penalty': 'l2', 'logistic__solver': 'liblinear'}</td>\n",
       "    </tr>\n",
       "    <tr>\n",
       "      <th id=\"T_413d5_level0_row8\" class=\"row_heading level0 row8\" >8</th>\n",
       "      <td id=\"T_413d5_row8_col0\" class=\"data row8 col0\" >09</td>\n",
       "      <td id=\"T_413d5_row8_col1\" class=\"data row8 col1\" >Basic feature with feature selection from ridge</td>\n",
       "      <td id=\"T_413d5_row8_col2\" class=\"data row8 col2\" >0.779939</td>\n",
       "      <td id=\"T_413d5_row8_col3\" class=\"data row8 col3\" >13259</td>\n",
       "      <td id=\"T_413d5_row8_col4\" class=\"data row8 col4\" >0.781150</td>\n",
       "      <td id=\"T_413d5_row8_col5\" class=\"data row8 col5\" >{'feature_selection__max_features': 19, 'logistic__C': 0.021544346900318822, 'logistic__l1_ratio': 0.4, 'logistic__penalty': 'elasticnet', 'logistic__solver': 'saga'}</td>\n",
       "    </tr>\n",
       "    <tr>\n",
       "      <th id=\"T_413d5_level0_row9\" class=\"row_heading level0 row9\" >9</th>\n",
       "      <td id=\"T_413d5_row9_col0\" class=\"data row9 col0\" >10</td>\n",
       "      <td id=\"T_413d5_row9_col1\" class=\"data row9 col1\" >Basic feature with feature selection f_classif + pca full</td>\n",
       "      <td id=\"T_413d5_row9_col2\" class=\"data row9 col2\" >0.781435</td>\n",
       "      <td id=\"T_413d5_row9_col3\" class=\"data row9 col3\" >7343</td>\n",
       "      <td id=\"T_413d5_row9_col4\" class=\"data row9 col4\" >0.782550</td>\n",
       "      <td id=\"T_413d5_row9_col5\" class=\"data row9 col5\" >{'feature_selection__k': 15, 'logistic__C': 0.1, 'logistic__penalty': 'l2', 'logistic__solver': 'liblinear'}</td>\n",
       "    </tr>\n",
       "    <tr>\n",
       "      <th id=\"T_413d5_level0_row10\" class=\"row_heading level0 row10\" >10</th>\n",
       "      <td id=\"T_413d5_row10_col0\" class=\"data row10 col0\" >11</td>\n",
       "      <td id=\"T_413d5_row10_col1\" class=\"data row10 col1\" >Basic feature with feature selection MI n=1 + pca full</td>\n",
       "      <td id=\"T_413d5_row10_col2\" class=\"data row10 col2\" >0.780283</td>\n",
       "      <td id=\"T_413d5_row10_col3\" class=\"data row10 col3\" >56502</td>\n",
       "      <td id=\"T_413d5_row10_col4\" class=\"data row10 col4\" >0.781620</td>\n",
       "      <td id=\"T_413d5_row10_col5\" class=\"data row10 col5\" >{'feature_selection__k': 17, 'logistic__C': 100.0, 'logistic__l1_ratio': 0.5, 'logistic__penalty': 'elasticnet', 'logistic__solver': 'saga'}</td>\n",
       "    </tr>\n",
       "    <tr>\n",
       "      <th id=\"T_413d5_level0_row11\" class=\"row_heading level0 row11\" >11</th>\n",
       "      <td id=\"T_413d5_row11_col0\" class=\"data row11 col0\" >12</td>\n",
       "      <td id=\"T_413d5_row11_col1\" class=\"data row11 col1\" >Basic feature with feature selection MI n=2 + pca full</td>\n",
       "      <td id=\"T_413d5_row11_col2\" class=\"data row11 col2\" >0.781089</td>\n",
       "      <td id=\"T_413d5_row11_col3\" class=\"data row11 col3\" >57317</td>\n",
       "      <td id=\"T_413d5_row11_col4\" class=\"data row11 col4\" >0.781850</td>\n",
       "      <td id=\"T_413d5_row11_col5\" class=\"data row11 col5\" >{'feature_selection__k': 14, 'logistic__C': 0.1, 'logistic__penalty': 'l2', 'logistic__solver': 'liblinear'}</td>\n",
       "    </tr>\n",
       "    <tr>\n",
       "      <th id=\"T_413d5_level0_row12\" class=\"row_heading level0 row12\" >12</th>\n",
       "      <td id=\"T_413d5_row12_col0\" class=\"data row12 col0\" >13</td>\n",
       "      <td id=\"T_413d5_row12_col1\" class=\"data row12 col1\" >Basic feature with feature selection MI n=3 + pca full</td>\n",
       "      <td id=\"T_413d5_row12_col2\" class=\"data row12 col2\" >0.780859</td>\n",
       "      <td id=\"T_413d5_row12_col3\" class=\"data row12 col3\" >60010</td>\n",
       "      <td id=\"T_413d5_row12_col4\" class=\"data row12 col4\" >None</td>\n",
       "      <td id=\"T_413d5_row12_col5\" class=\"data row12 col5\" >{'feature_selection__k': 11, 'logistic__C': 4.641588833612772, 'logistic__l1_ratio': 0.2, 'logistic__penalty': 'elasticnet', 'logistic__solver': 'saga'}</td>\n",
       "    </tr>\n",
       "    <tr>\n",
       "      <th id=\"T_413d5_level0_row13\" class=\"row_heading level0 row13\" >13</th>\n",
       "      <td id=\"T_413d5_row13_col0\" class=\"data row13 col0\" >14</td>\n",
       "      <td id=\"T_413d5_row13_col1\" class=\"data row13 col1\" >Basic feature with feature selection MI n=4 + pca full</td>\n",
       "      <td id=\"T_413d5_row13_col2\" class=\"data row13 col2\" >0.780515</td>\n",
       "      <td id=\"T_413d5_row13_col3\" class=\"data row13 col3\" >61252</td>\n",
       "      <td id=\"T_413d5_row13_col4\" class=\"data row13 col4\" >None</td>\n",
       "      <td id=\"T_413d5_row13_col5\" class=\"data row13 col5\" >{'feature_selection__k': 16, 'logistic__C': 10000.0, 'logistic__l1_ratio': 0.9, 'logistic__penalty': 'elasticnet', 'logistic__solver': 'saga'}</td>\n",
       "    </tr>\n",
       "    <tr>\n",
       "      <th id=\"T_413d5_level0_row14\" class=\"row_heading level0 row14\" >14</th>\n",
       "      <td id=\"T_413d5_row14_col0\" class=\"data row14 col0\" >15</td>\n",
       "      <td id=\"T_413d5_row14_col1\" class=\"data row14 col1\" >Basic feature with feature selection MI n=5 + pca full</td>\n",
       "      <td id=\"T_413d5_row14_col2\" class=\"data row14 col2\" >0.780399</td>\n",
       "      <td id=\"T_413d5_row14_col3\" class=\"data row14 col3\" >50130</td>\n",
       "      <td id=\"T_413d5_row14_col4\" class=\"data row14 col4\" >None</td>\n",
       "      <td id=\"T_413d5_row14_col5\" class=\"data row14 col5\" >{'feature_selection__k': 19, 'logistic__C': 46415.888336127726, 'logistic__l1_ratio': 0.5, 'logistic__penalty': 'elasticnet', 'logistic__solver': 'saga'}</td>\n",
       "    </tr>\n",
       "    <tr>\n",
       "      <th id=\"T_413d5_level0_row15\" class=\"row_heading level0 row15\" >15</th>\n",
       "      <td id=\"T_413d5_row15_col0\" class=\"data row15 col0\" >16</td>\n",
       "      <td id=\"T_413d5_row15_col1\" class=\"data row15 col1\" >Basic feature with feature selection from rf + pca full</td>\n",
       "      <td id=\"T_413d5_row15_col2\" class=\"data row15 col2\" >0.779479</td>\n",
       "      <td id=\"T_413d5_row15_col3\" class=\"data row15 col3\" >51214</td>\n",
       "      <td id=\"T_413d5_row15_col4\" class=\"data row15 col4\" >None</td>\n",
       "      <td id=\"T_413d5_row15_col5\" class=\"data row15 col5\" >{'feature_selection__max_features': 20, 'logistic__C': 0.01, 'logistic__penalty': 'l2', 'logistic__solver': 'liblinear'}</td>\n",
       "    </tr>\n",
       "    <tr>\n",
       "      <th id=\"T_413d5_level0_row16\" class=\"row_heading level0 row16\" >16</th>\n",
       "      <td id=\"T_413d5_row16_col0\" class=\"data row16 col0\" >17</td>\n",
       "      <td id=\"T_413d5_row16_col1\" class=\"data row16 col1\" >Basic feature with feature selection from ridge + pca full</td>\n",
       "      <td id=\"T_413d5_row16_col2\" class=\"data row16 col2\" >0.779134</td>\n",
       "      <td id=\"T_413d5_row16_col3\" class=\"data row16 col3\" >13210</td>\n",
       "      <td id=\"T_413d5_row16_col4\" class=\"data row16 col4\" >None</td>\n",
       "      <td id=\"T_413d5_row16_col5\" class=\"data row16 col5\" >{'feature_selection__max_features': 20, 'logistic__C': 0.021544346900318822, 'logistic__l1_ratio': 0.1, 'logistic__penalty': 'elasticnet', 'logistic__solver': 'saga'}</td>\n",
       "    </tr>\n",
       "    <tr>\n",
       "      <th id=\"T_413d5_level0_row17\" class=\"row_heading level0 row17\" >17</th>\n",
       "      <td id=\"T_413d5_row17_col0\" class=\"data row17 col0\" >18</td>\n",
       "      <td id=\"T_413d5_row17_col1\" class=\"data row17 col1\" >Basic feature with pca</td>\n",
       "      <td id=\"T_413d5_row17_col2\" class=\"data row17 col2\" >0.779479</td>\n",
       "      <td id=\"T_413d5_row17_col3\" class=\"data row17 col3\" >8749</td>\n",
       "      <td id=\"T_413d5_row17_col4\" class=\"data row17 col4\" >0.783960</td>\n",
       "      <td id=\"T_413d5_row17_col5\" class=\"data row17 col5\" >{'logistic__C': 0.01, 'logistic__penalty': 'l2', 'logistic__solver': 'liblinear', 'pca__n_components': 18}</td>\n",
       "    </tr>\n",
       "  </tbody>\n",
       "</table>\n"
      ],
      "text/plain": [
       "<pandas.io.formats.style.Styler at 0x22c83660970>"
      ]
     },
     "execution_count": 62,
     "metadata": {},
     "output_type": "execute_result"
    }
   ],
   "source": [
    "df_results = pd.DataFrame(columns=COLUMNS_ANALYSIS_BY_MODEL)\n",
    "NAME_MODEL = \"logistic_regression\"\n",
    "\n",
    "for version in VERSIONS:\n",
    "    \n",
    "    if os.path.exists(os.path.join(REPO_MODEL, NAME_MODEL + \"__v\" + version + \".json\")):\n",
    "        with open(os.path.join(REPO_MODEL, NAME_MODEL + \"__v\" + version + \".json\"), \"r\") as file:\n",
    "            data = json.load(file)\n",
    "        df_results = pd.concat([\n",
    "            df_results, \n",
    "            pd.DataFrame({\n",
    "                \"Version\": [version], \n",
    "                \"Description\": DESCRIPTION_VERSIONS.get(version),\n",
    "                \"Best_score\": [data[\"best_score\"]],\n",
    "                \"Time_to_tune\": [int(data[\"time_to_tune\"])],\n",
    "                \"Score_kaggle\": [data[\"score_kaggle\"]] if \"score_kaggle\" in data else None,\n",
    "                \"Best_params\": [data[\"best_params\"]],\n",
    "            })])\n",
    "        \n",
    "df_results.reset_index(inplace=True, drop=True)\n",
    "df_results.style.apply(lambda row: ['background-color: yellow'] * df_results.shape[1] if row.Best_score == max(df_results.Best_score) else ['background-color: white'] * df_results.shape[1], axis=1)"
   ]
  },
  {
   "cell_type": "markdown",
   "id": "eec83fa4",
   "metadata": {
    "jp-MarkdownHeadingCollapsed": true,
    "tags": []
   },
   "source": [
    "#### KNN"
   ]
  },
  {
   "cell_type": "code",
   "execution_count": 63,
   "id": "33427c7b",
   "metadata": {},
   "outputs": [
    {
     "data": {
      "text/html": [
       "<style type=\"text/css\">\n",
       "#T_5c71b_row0_col0, #T_5c71b_row0_col1, #T_5c71b_row0_col2, #T_5c71b_row0_col3, #T_5c71b_row0_col4, #T_5c71b_row0_col5, #T_5c71b_row1_col0, #T_5c71b_row1_col1, #T_5c71b_row1_col2, #T_5c71b_row1_col3, #T_5c71b_row1_col4, #T_5c71b_row1_col5, #T_5c71b_row3_col0, #T_5c71b_row3_col1, #T_5c71b_row3_col2, #T_5c71b_row3_col3, #T_5c71b_row3_col4, #T_5c71b_row3_col5, #T_5c71b_row4_col0, #T_5c71b_row4_col1, #T_5c71b_row4_col2, #T_5c71b_row4_col3, #T_5c71b_row4_col4, #T_5c71b_row4_col5, #T_5c71b_row5_col0, #T_5c71b_row5_col1, #T_5c71b_row5_col2, #T_5c71b_row5_col3, #T_5c71b_row5_col4, #T_5c71b_row5_col5, #T_5c71b_row6_col0, #T_5c71b_row6_col1, #T_5c71b_row6_col2, #T_5c71b_row6_col3, #T_5c71b_row6_col4, #T_5c71b_row6_col5, #T_5c71b_row7_col0, #T_5c71b_row7_col1, #T_5c71b_row7_col2, #T_5c71b_row7_col3, #T_5c71b_row7_col4, #T_5c71b_row7_col5, #T_5c71b_row8_col0, #T_5c71b_row8_col1, #T_5c71b_row8_col2, #T_5c71b_row8_col3, #T_5c71b_row8_col4, #T_5c71b_row8_col5, #T_5c71b_row9_col0, #T_5c71b_row9_col1, #T_5c71b_row9_col2, #T_5c71b_row9_col3, #T_5c71b_row9_col4, #T_5c71b_row9_col5, #T_5c71b_row10_col0, #T_5c71b_row10_col1, #T_5c71b_row10_col2, #T_5c71b_row10_col3, #T_5c71b_row10_col4, #T_5c71b_row10_col5, #T_5c71b_row11_col0, #T_5c71b_row11_col1, #T_5c71b_row11_col2, #T_5c71b_row11_col3, #T_5c71b_row11_col4, #T_5c71b_row11_col5, #T_5c71b_row12_col0, #T_5c71b_row12_col1, #T_5c71b_row12_col2, #T_5c71b_row12_col3, #T_5c71b_row12_col4, #T_5c71b_row12_col5, #T_5c71b_row13_col0, #T_5c71b_row13_col1, #T_5c71b_row13_col2, #T_5c71b_row13_col3, #T_5c71b_row13_col4, #T_5c71b_row13_col5, #T_5c71b_row14_col0, #T_5c71b_row14_col1, #T_5c71b_row14_col2, #T_5c71b_row14_col3, #T_5c71b_row14_col4, #T_5c71b_row14_col5, #T_5c71b_row15_col0, #T_5c71b_row15_col1, #T_5c71b_row15_col2, #T_5c71b_row15_col3, #T_5c71b_row15_col4, #T_5c71b_row15_col5, #T_5c71b_row16_col0, #T_5c71b_row16_col1, #T_5c71b_row16_col2, #T_5c71b_row16_col3, #T_5c71b_row16_col4, #T_5c71b_row16_col5 {\n",
       "  background-color: white;\n",
       "}\n",
       "#T_5c71b_row2_col0, #T_5c71b_row2_col1, #T_5c71b_row2_col2, #T_5c71b_row2_col3, #T_5c71b_row2_col4, #T_5c71b_row2_col5 {\n",
       "  background-color: yellow;\n",
       "}\n",
       "</style>\n",
       "<table id=\"T_5c71b\">\n",
       "  <thead>\n",
       "    <tr>\n",
       "      <th class=\"blank level0\" >&nbsp;</th>\n",
       "      <th id=\"T_5c71b_level0_col0\" class=\"col_heading level0 col0\" >Version</th>\n",
       "      <th id=\"T_5c71b_level0_col1\" class=\"col_heading level0 col1\" >Description</th>\n",
       "      <th id=\"T_5c71b_level0_col2\" class=\"col_heading level0 col2\" >Best_score</th>\n",
       "      <th id=\"T_5c71b_level0_col3\" class=\"col_heading level0 col3\" >Time_to_tune</th>\n",
       "      <th id=\"T_5c71b_level0_col4\" class=\"col_heading level0 col4\" >Score_kaggle</th>\n",
       "      <th id=\"T_5c71b_level0_col5\" class=\"col_heading level0 col5\" >Best_params</th>\n",
       "    </tr>\n",
       "  </thead>\n",
       "  <tbody>\n",
       "    <tr>\n",
       "      <th id=\"T_5c71b_level0_row0\" class=\"row_heading level0 row0\" >0</th>\n",
       "      <td id=\"T_5c71b_row0_col0\" class=\"data row0 col0\" >01</td>\n",
       "      <td id=\"T_5c71b_row0_col1\" class=\"data row0 col1\" >Basic feature</td>\n",
       "      <td id=\"T_5c71b_row0_col2\" class=\"data row0 col2\" >0.788799</td>\n",
       "      <td id=\"T_5c71b_row0_col3\" class=\"data row0 col3\" >5311</td>\n",
       "      <td id=\"T_5c71b_row0_col4\" class=\"data row0 col4\" >0.787930</td>\n",
       "      <td id=\"T_5c71b_row0_col5\" class=\"data row0 col5\" >{'knn__n_neighbors': 47, 'knn__p': 2, 'knn__weights': 'uniform'}</td>\n",
       "    </tr>\n",
       "    <tr>\n",
       "      <th id=\"T_5c71b_level0_row1\" class=\"row_heading level0 row1\" >1</th>\n",
       "      <td id=\"T_5c71b_row1_col0\" class=\"data row1 col0\" >02</td>\n",
       "      <td id=\"T_5c71b_row1_col1\" class=\"data row1 col1\" >Basic feature with feature selection f_classif</td>\n",
       "      <td id=\"T_5c71b_row1_col2\" class=\"data row1 col2\" >0.790294</td>\n",
       "      <td id=\"T_5c71b_row1_col3\" class=\"data row1 col3\" >64065</td>\n",
       "      <td id=\"T_5c71b_row1_col4\" class=\"data row1 col4\" >0.784420</td>\n",
       "      <td id=\"T_5c71b_row1_col5\" class=\"data row1 col5\" >{'feature_selection__k': 18, 'knn__n_neighbors': 31, 'knn__p': 1, 'knn__weights': 'uniform'}</td>\n",
       "    </tr>\n",
       "    <tr>\n",
       "      <th id=\"T_5c71b_level0_row2\" class=\"row_heading level0 row2\" >2</th>\n",
       "      <td id=\"T_5c71b_row2_col0\" class=\"data row2 col0\" >03</td>\n",
       "      <td id=\"T_5c71b_row2_col1\" class=\"data row2 col1\" >Basic feature with feature selection MI n=1</td>\n",
       "      <td id=\"T_5c71b_row2_col2\" class=\"data row2 col2\" >0.795932</td>\n",
       "      <td id=\"T_5c71b_row2_col3\" class=\"data row2 col3\" >75335</td>\n",
       "      <td id=\"T_5c71b_row2_col4\" class=\"data row2 col4\" >0.788870</td>\n",
       "      <td id=\"T_5c71b_row2_col5\" class=\"data row2 col5\" >{'feature_selection__k': 13, 'knn__n_neighbors': 48, 'knn__p': 1, 'knn__weights': 'uniform'}</td>\n",
       "    </tr>\n",
       "    <tr>\n",
       "      <th id=\"T_5c71b_level0_row3\" class=\"row_heading level0 row3\" >3</th>\n",
       "      <td id=\"T_5c71b_row3_col0\" class=\"data row3 col0\" >04</td>\n",
       "      <td id=\"T_5c71b_row3_col1\" class=\"data row3 col1\" >Basic feature with feature selection MI n=2</td>\n",
       "      <td id=\"T_5c71b_row3_col2\" class=\"data row3 col2\" >0.795009</td>\n",
       "      <td id=\"T_5c71b_row3_col3\" class=\"data row3 col3\" >105862</td>\n",
       "      <td id=\"T_5c71b_row3_col4\" class=\"data row3 col4\" >0.787230</td>\n",
       "      <td id=\"T_5c71b_row3_col5\" class=\"data row3 col5\" >{'feature_selection__k': 18, 'knn__n_neighbors': 33, 'knn__p': 1, 'knn__weights': 'uniform'}</td>\n",
       "    </tr>\n",
       "    <tr>\n",
       "      <th id=\"T_5c71b_level0_row4\" class=\"row_heading level0 row4\" >4</th>\n",
       "      <td id=\"T_5c71b_row4_col0\" class=\"data row4 col0\" >05</td>\n",
       "      <td id=\"T_5c71b_row4_col1\" class=\"data row4 col1\" >Basic feature with feature selection MI n=3</td>\n",
       "      <td id=\"T_5c71b_row4_col2\" class=\"data row4 col2\" >0.792481</td>\n",
       "      <td id=\"T_5c71b_row4_col3\" class=\"data row4 col3\" >91760</td>\n",
       "      <td id=\"T_5c71b_row4_col4\" class=\"data row4 col4\" >0.780210</td>\n",
       "      <td id=\"T_5c71b_row4_col5\" class=\"data row4 col5\" >{'feature_selection__k': 11, 'knn__n_neighbors': 37, 'knn__p': 1, 'knn__weights': 'uniform'}</td>\n",
       "    </tr>\n",
       "    <tr>\n",
       "      <th id=\"T_5c71b_level0_row5\" class=\"row_heading level0 row5\" >5</th>\n",
       "      <td id=\"T_5c71b_row5_col0\" class=\"data row5 col0\" >06</td>\n",
       "      <td id=\"T_5c71b_row5_col1\" class=\"data row5 col1\" >Basic feature with feature selection MI n=4</td>\n",
       "      <td id=\"T_5c71b_row5_col2\" class=\"data row5 col2\" >0.793400</td>\n",
       "      <td id=\"T_5c71b_row5_col3\" class=\"data row5 col3\" >110870</td>\n",
       "      <td id=\"T_5c71b_row5_col4\" class=\"data row5 col4\" >0.785590</td>\n",
       "      <td id=\"T_5c71b_row5_col5\" class=\"data row5 col5\" >{'feature_selection__k': 13, 'knn__n_neighbors': 49, 'knn__p': 1, 'knn__weights': 'uniform'}</td>\n",
       "    </tr>\n",
       "    <tr>\n",
       "      <th id=\"T_5c71b_level0_row6\" class=\"row_heading level0 row6\" >6</th>\n",
       "      <td id=\"T_5c71b_row6_col0\" class=\"data row6 col0\" >07</td>\n",
       "      <td id=\"T_5c71b_row6_col1\" class=\"data row6 col1\" >Basic feature with feature selection MI n=5</td>\n",
       "      <td id=\"T_5c71b_row6_col2\" class=\"data row6 col2\" >0.793631</td>\n",
       "      <td id=\"T_5c71b_row6_col3\" class=\"data row6 col3\" >113486</td>\n",
       "      <td id=\"T_5c71b_row6_col4\" class=\"data row6 col4\" >0.788630</td>\n",
       "      <td id=\"T_5c71b_row6_col5\" class=\"data row6 col5\" >{'feature_selection__k': 16, 'knn__n_neighbors': 51, 'knn__p': 1, 'knn__weights': 'uniform'}</td>\n",
       "    </tr>\n",
       "    <tr>\n",
       "      <th id=\"T_5c71b_level0_row7\" class=\"row_heading level0 row7\" >7</th>\n",
       "      <td id=\"T_5c71b_row7_col0\" class=\"data row7 col0\" >08</td>\n",
       "      <td id=\"T_5c71b_row7_col1\" class=\"data row7 col1\" >Basic feature with feature selection from rf</td>\n",
       "      <td id=\"T_5c71b_row7_col2\" class=\"data row7 col2\" >0.791214</td>\n",
       "      <td id=\"T_5c71b_row7_col3\" class=\"data row7 col3\" >83657</td>\n",
       "      <td id=\"T_5c71b_row7_col4\" class=\"data row7 col4\" >0.783490</td>\n",
       "      <td id=\"T_5c71b_row7_col5\" class=\"data row7 col5\" >{'feature_selection__max_features': 11, 'knn__n_neighbors': 63, 'knn__p': 1, 'knn__weights': 'uniform'}</td>\n",
       "    </tr>\n",
       "    <tr>\n",
       "      <th id=\"T_5c71b_level0_row8\" class=\"row_heading level0 row8\" >8</th>\n",
       "      <td id=\"T_5c71b_row8_col0\" class=\"data row8 col0\" >09</td>\n",
       "      <td id=\"T_5c71b_row8_col1\" class=\"data row8 col1\" >Basic feature with feature selection from ridge</td>\n",
       "      <td id=\"T_5c71b_row8_col2\" class=\"data row8 col2\" >0.790179</td>\n",
       "      <td id=\"T_5c71b_row8_col3\" class=\"data row8 col3\" >20887</td>\n",
       "      <td id=\"T_5c71b_row8_col4\" class=\"data row8 col4\" >0.787700</td>\n",
       "      <td id=\"T_5c71b_row8_col5\" class=\"data row8 col5\" >{'feature_selection__max_features': 27, 'knn__n_neighbors': 47, 'knn__p': 2, 'knn__weights': 'uniform'}</td>\n",
       "    </tr>\n",
       "    <tr>\n",
       "      <th id=\"T_5c71b_level0_row9\" class=\"row_heading level0 row9\" >9</th>\n",
       "      <td id=\"T_5c71b_row9_col0\" class=\"data row9 col0\" >11</td>\n",
       "      <td id=\"T_5c71b_row9_col1\" class=\"data row9 col1\" >Basic feature with feature selection MI n=1 + pca full</td>\n",
       "      <td id=\"T_5c71b_row9_col2\" class=\"data row9 col2\" >0.793630</td>\n",
       "      <td id=\"T_5c71b_row9_col3\" class=\"data row9 col3\" >72978</td>\n",
       "      <td id=\"T_5c71b_row9_col4\" class=\"data row9 col4\" >0.783020</td>\n",
       "      <td id=\"T_5c71b_row9_col5\" class=\"data row9 col5\" >{'feature_selection__k': 17, 'knn__n_neighbors': 27, 'knn__p': 2, 'knn__weights': 'uniform'}</td>\n",
       "    </tr>\n",
       "    <tr>\n",
       "      <th id=\"T_5c71b_level0_row10\" class=\"row_heading level0 row10\" >10</th>\n",
       "      <td id=\"T_5c71b_row10_col0\" class=\"data row10 col0\" >12</td>\n",
       "      <td id=\"T_5c71b_row10_col1\" class=\"data row10 col1\" >Basic feature with feature selection MI n=2 + pca full</td>\n",
       "      <td id=\"T_5c71b_row10_col2\" class=\"data row10 col2\" >0.792595</td>\n",
       "      <td id=\"T_5c71b_row10_col3\" class=\"data row10 col3\" >90623</td>\n",
       "      <td id=\"T_5c71b_row10_col4\" class=\"data row10 col4\" >0.783020</td>\n",
       "      <td id=\"T_5c71b_row10_col5\" class=\"data row10 col5\" >{'feature_selection__k': 15, 'knn__n_neighbors': 43, 'knn__p': 2, 'knn__weights': 'distance'}</td>\n",
       "    </tr>\n",
       "    <tr>\n",
       "      <th id=\"T_5c71b_level0_row11\" class=\"row_heading level0 row11\" >11</th>\n",
       "      <td id=\"T_5c71b_row11_col0\" class=\"data row11 col0\" >13</td>\n",
       "      <td id=\"T_5c71b_row11_col1\" class=\"data row11 col1\" >Basic feature with feature selection MI n=3 + pca full</td>\n",
       "      <td id=\"T_5c71b_row11_col2\" class=\"data row11 col2\" >0.791214</td>\n",
       "      <td id=\"T_5c71b_row11_col3\" class=\"data row11 col3\" >92333</td>\n",
       "      <td id=\"T_5c71b_row11_col4\" class=\"data row11 col4\" >None</td>\n",
       "      <td id=\"T_5c71b_row11_col5\" class=\"data row11 col5\" >{'feature_selection__k': 11, 'knn__n_neighbors': 32, 'knn__p': 2, 'knn__weights': 'distance'}</td>\n",
       "    </tr>\n",
       "    <tr>\n",
       "      <th id=\"T_5c71b_level0_row12\" class=\"row_heading level0 row12\" >12</th>\n",
       "      <td id=\"T_5c71b_row12_col0\" class=\"data row12 col0\" >14</td>\n",
       "      <td id=\"T_5c71b_row12_col1\" class=\"data row12 col1\" >Basic feature with feature selection MI n=4 + pca full</td>\n",
       "      <td id=\"T_5c71b_row12_col2\" class=\"data row12 col2\" >0.791215</td>\n",
       "      <td id=\"T_5c71b_row12_col3\" class=\"data row12 col3\" >93305</td>\n",
       "      <td id=\"T_5c71b_row12_col4\" class=\"data row12 col4\" >None</td>\n",
       "      <td id=\"T_5c71b_row12_col5\" class=\"data row12 col5\" >{'feature_selection__k': 15, 'knn__n_neighbors': 39, 'knn__p': 2, 'knn__weights': 'uniform'}</td>\n",
       "    </tr>\n",
       "    <tr>\n",
       "      <th id=\"T_5c71b_level0_row13\" class=\"row_heading level0 row13\" >13</th>\n",
       "      <td id=\"T_5c71b_row13_col0\" class=\"data row13 col0\" >15</td>\n",
       "      <td id=\"T_5c71b_row13_col1\" class=\"data row13 col1\" >Basic feature with feature selection MI n=5 + pca full</td>\n",
       "      <td id=\"T_5c71b_row13_col2\" class=\"data row13 col2\" >0.791672</td>\n",
       "      <td id=\"T_5c71b_row13_col3\" class=\"data row13 col3\" >94365</td>\n",
       "      <td id=\"T_5c71b_row13_col4\" class=\"data row13 col4\" >None</td>\n",
       "      <td id=\"T_5c71b_row13_col5\" class=\"data row13 col5\" >{'feature_selection__k': 13, 'knn__n_neighbors': 36, 'knn__p': 2, 'knn__weights': 'distance'}</td>\n",
       "    </tr>\n",
       "    <tr>\n",
       "      <th id=\"T_5c71b_level0_row14\" class=\"row_heading level0 row14\" >14</th>\n",
       "      <td id=\"T_5c71b_row14_col0\" class=\"data row14 col0\" >16</td>\n",
       "      <td id=\"T_5c71b_row14_col1\" class=\"data row14 col1\" >Basic feature with feature selection from rf + pca full</td>\n",
       "      <td id=\"T_5c71b_row14_col2\" class=\"data row14 col2\" >0.789948</td>\n",
       "      <td id=\"T_5c71b_row14_col3\" class=\"data row14 col3\" >87451</td>\n",
       "      <td id=\"T_5c71b_row14_col4\" class=\"data row14 col4\" >None</td>\n",
       "      <td id=\"T_5c71b_row14_col5\" class=\"data row14 col5\" >{'feature_selection__max_features': 22, 'knn__n_neighbors': 41, 'knn__p': 1, 'knn__weights': 'uniform'}</td>\n",
       "    </tr>\n",
       "    <tr>\n",
       "      <th id=\"T_5c71b_level0_row15\" class=\"row_heading level0 row15\" >15</th>\n",
       "      <td id=\"T_5c71b_row15_col0\" class=\"data row15 col0\" >17</td>\n",
       "      <td id=\"T_5c71b_row15_col1\" class=\"data row15 col1\" >Basic feature with feature selection from ridge + pca full</td>\n",
       "      <td id=\"T_5c71b_row15_col2\" class=\"data row15 col2\" >0.790064</td>\n",
       "      <td id=\"T_5c71b_row15_col3\" class=\"data row15 col3\" >23129</td>\n",
       "      <td id=\"T_5c71b_row15_col4\" class=\"data row15 col4\" >None</td>\n",
       "      <td id=\"T_5c71b_row15_col5\" class=\"data row15 col5\" >{'feature_selection__max_features': 27, 'knn__n_neighbors': 47, 'knn__p': 2, 'knn__weights': 'uniform'}</td>\n",
       "    </tr>\n",
       "    <tr>\n",
       "      <th id=\"T_5c71b_level0_row16\" class=\"row_heading level0 row16\" >16</th>\n",
       "      <td id=\"T_5c71b_row16_col0\" class=\"data row16 col0\" >18</td>\n",
       "      <td id=\"T_5c71b_row16_col1\" class=\"data row16 col1\" >Basic feature with pca</td>\n",
       "      <td id=\"T_5c71b_row16_col2\" class=\"data row16 col2\" >0.791214</td>\n",
       "      <td id=\"T_5c71b_row16_col3\" class=\"data row16 col3\" >25174</td>\n",
       "      <td id=\"T_5c71b_row16_col4\" class=\"data row16 col4\" >None</td>\n",
       "      <td id=\"T_5c71b_row16_col5\" class=\"data row16 col5\" >{'knn__n_neighbors': 45, 'knn__p': 1, 'knn__weights': 'uniform', 'pca__n_components': 6}</td>\n",
       "    </tr>\n",
       "  </tbody>\n",
       "</table>\n"
      ],
      "text/plain": [
       "<pandas.io.formats.style.Styler at 0x22c83660e50>"
      ]
     },
     "execution_count": 63,
     "metadata": {},
     "output_type": "execute_result"
    }
   ],
   "source": [
    "df_results = pd.DataFrame(columns=COLUMNS_ANALYSIS_BY_MODEL)\n",
    "NAME_MODEL = \"knn\"\n",
    "\n",
    "for version in VERSIONS:\n",
    "    \n",
    "    if os.path.exists(os.path.join(REPO_MODEL, NAME_MODEL + \"__v\" + version + \".json\")):\n",
    "        with open(os.path.join(REPO_MODEL, NAME_MODEL + \"__v\" + version + \".json\"), \"r\") as file:\n",
    "            data = json.load(file)\n",
    "        df_results = pd.concat([\n",
    "            df_results, \n",
    "            pd.DataFrame({\n",
    "                \"Version\": [version], \n",
    "                \"Description\": DESCRIPTION_VERSIONS.get(version), \n",
    "                \"Best_score\": [data[\"best_score\"]],\n",
    "                \"Time_to_tune\": [int(data[\"time_to_tune\"])],\n",
    "                \"Score_kaggle\": [data[\"score_kaggle\"]] if \"score_kaggle\" in data else None,\n",
    "                \"Best_params\": [data[\"best_params\"]],\n",
    "            })])\n",
    "        \n",
    "df_results.reset_index(inplace=True, drop=True)\n",
    "df_results.style.apply(lambda row: ['background-color: yellow'] * df_results.shape[1] if row.Best_score == max(df_results.Best_score) else ['background-color: white'] * df_results.shape[1], axis=1)"
   ]
  },
  {
   "cell_type": "markdown",
   "id": "c1fd78c3",
   "metadata": {
    "jp-MarkdownHeadingCollapsed": true,
    "tags": []
   },
   "source": [
    "#### SVM "
   ]
  },
  {
   "cell_type": "code",
   "execution_count": 64,
   "id": "0bfef4cd",
   "metadata": {},
   "outputs": [
    {
     "data": {
      "text/html": [
       "<style type=\"text/css\">\n",
       "#T_58b49_row0_col0, #T_58b49_row0_col1, #T_58b49_row0_col2, #T_58b49_row0_col3, #T_58b49_row0_col4, #T_58b49_row0_col5, #T_58b49_row1_col0, #T_58b49_row1_col1, #T_58b49_row1_col2, #T_58b49_row1_col3, #T_58b49_row1_col4, #T_58b49_row1_col5, #T_58b49_row2_col0, #T_58b49_row2_col1, #T_58b49_row2_col2, #T_58b49_row2_col3, #T_58b49_row2_col4, #T_58b49_row2_col5, #T_58b49_row4_col0, #T_58b49_row4_col1, #T_58b49_row4_col2, #T_58b49_row4_col3, #T_58b49_row4_col4, #T_58b49_row4_col5, #T_58b49_row5_col0, #T_58b49_row5_col1, #T_58b49_row5_col2, #T_58b49_row5_col3, #T_58b49_row5_col4, #T_58b49_row5_col5, #T_58b49_row6_col0, #T_58b49_row6_col1, #T_58b49_row6_col2, #T_58b49_row6_col3, #T_58b49_row6_col4, #T_58b49_row6_col5, #T_58b49_row7_col0, #T_58b49_row7_col1, #T_58b49_row7_col2, #T_58b49_row7_col3, #T_58b49_row7_col4, #T_58b49_row7_col5, #T_58b49_row8_col0, #T_58b49_row8_col1, #T_58b49_row8_col2, #T_58b49_row8_col3, #T_58b49_row8_col4, #T_58b49_row8_col5, #T_58b49_row9_col0, #T_58b49_row9_col1, #T_58b49_row9_col2, #T_58b49_row9_col3, #T_58b49_row9_col4, #T_58b49_row9_col5, #T_58b49_row10_col0, #T_58b49_row10_col1, #T_58b49_row10_col2, #T_58b49_row10_col3, #T_58b49_row10_col4, #T_58b49_row10_col5, #T_58b49_row11_col0, #T_58b49_row11_col1, #T_58b49_row11_col2, #T_58b49_row11_col3, #T_58b49_row11_col4, #T_58b49_row11_col5, #T_58b49_row12_col0, #T_58b49_row12_col1, #T_58b49_row12_col2, #T_58b49_row12_col3, #T_58b49_row12_col4, #T_58b49_row12_col5, #T_58b49_row13_col0, #T_58b49_row13_col1, #T_58b49_row13_col2, #T_58b49_row13_col3, #T_58b49_row13_col4, #T_58b49_row13_col5, #T_58b49_row14_col0, #T_58b49_row14_col1, #T_58b49_row14_col2, #T_58b49_row14_col3, #T_58b49_row14_col4, #T_58b49_row14_col5, #T_58b49_row15_col0, #T_58b49_row15_col1, #T_58b49_row15_col2, #T_58b49_row15_col3, #T_58b49_row15_col4, #T_58b49_row15_col5, #T_58b49_row16_col0, #T_58b49_row16_col1, #T_58b49_row16_col2, #T_58b49_row16_col3, #T_58b49_row16_col4, #T_58b49_row16_col5 {\n",
       "  background-color: white;\n",
       "}\n",
       "#T_58b49_row3_col0, #T_58b49_row3_col1, #T_58b49_row3_col2, #T_58b49_row3_col3, #T_58b49_row3_col4, #T_58b49_row3_col5 {\n",
       "  background-color: yellow;\n",
       "}\n",
       "</style>\n",
       "<table id=\"T_58b49\">\n",
       "  <thead>\n",
       "    <tr>\n",
       "      <th class=\"blank level0\" >&nbsp;</th>\n",
       "      <th id=\"T_58b49_level0_col0\" class=\"col_heading level0 col0\" >Version</th>\n",
       "      <th id=\"T_58b49_level0_col1\" class=\"col_heading level0 col1\" >Description</th>\n",
       "      <th id=\"T_58b49_level0_col2\" class=\"col_heading level0 col2\" >Best_score</th>\n",
       "      <th id=\"T_58b49_level0_col3\" class=\"col_heading level0 col3\" >Time_to_tune</th>\n",
       "      <th id=\"T_58b49_level0_col4\" class=\"col_heading level0 col4\" >Score_kaggle</th>\n",
       "      <th id=\"T_58b49_level0_col5\" class=\"col_heading level0 col5\" >Best_params</th>\n",
       "    </tr>\n",
       "  </thead>\n",
       "  <tbody>\n",
       "    <tr>\n",
       "      <th id=\"T_58b49_level0_row0\" class=\"row_heading level0 row0\" >0</th>\n",
       "      <td id=\"T_58b49_row0_col0\" class=\"data row0 col0\" >01</td>\n",
       "      <td id=\"T_58b49_row0_col1\" class=\"data row0 col1\" >Basic feature</td>\n",
       "      <td id=\"T_58b49_row0_col2\" class=\"data row0 col2\" >0.800532</td>\n",
       "      <td id=\"T_58b49_row0_col3\" class=\"data row0 col3\" >2623</td>\n",
       "      <td id=\"T_58b49_row0_col4\" class=\"data row0 col4\" >0.800320</td>\n",
       "      <td id=\"T_58b49_row0_col5\" class=\"data row0 col5\" >{'svm__C': 0.46415888336127775, 'svm__degree': 3, 'svm__kernel': 'poly'}</td>\n",
       "    </tr>\n",
       "    <tr>\n",
       "      <th id=\"T_58b49_level0_row1\" class=\"row_heading level0 row1\" >1</th>\n",
       "      <td id=\"T_58b49_row1_col0\" class=\"data row1 col0\" >02</td>\n",
       "      <td id=\"T_58b49_row1_col1\" class=\"data row1 col1\" >Basic feature with feature selection f_classif</td>\n",
       "      <td id=\"T_58b49_row1_col2\" class=\"data row1 col2\" >0.801222</td>\n",
       "      <td id=\"T_58b49_row1_col3\" class=\"data row1 col3\" >307954</td>\n",
       "      <td id=\"T_58b49_row1_col4\" class=\"data row1 col4\" >0.798920</td>\n",
       "      <td id=\"T_58b49_row1_col5\" class=\"data row1 col5\" >{'feature_selection__k': 20, 'svm__C': 0.46415888336127775, 'svm__degree': 3, 'svm__kernel': 'poly'}</td>\n",
       "    </tr>\n",
       "    <tr>\n",
       "      <th id=\"T_58b49_level0_row2\" class=\"row_heading level0 row2\" >2</th>\n",
       "      <td id=\"T_58b49_row2_col0\" class=\"data row2 col0\" >04</td>\n",
       "      <td id=\"T_58b49_row2_col1\" class=\"data row2 col1\" >Basic feature with feature selection MI n=2</td>\n",
       "      <td id=\"T_58b49_row2_col2\" class=\"data row2 col2\" >0.800187</td>\n",
       "      <td id=\"T_58b49_row2_col3\" class=\"data row2 col3\" >226415</td>\n",
       "      <td id=\"T_58b49_row2_col4\" class=\"data row2 col4\" >0.794480</td>\n",
       "      <td id=\"T_58b49_row2_col5\" class=\"data row2 col5\" >{'feature_selection__k': 21, 'svm__C': 4.6415888336127775, 'svm__degree': 2, 'svm__kernel': 'poly'}</td>\n",
       "    </tr>\n",
       "    <tr>\n",
       "      <th id=\"T_58b49_level0_row3\" class=\"row_heading level0 row3\" >3</th>\n",
       "      <td id=\"T_58b49_row3_col0\" class=\"data row3 col0\" >05</td>\n",
       "      <td id=\"T_58b49_row3_col1\" class=\"data row3 col1\" >Basic feature with feature selection MI n=3</td>\n",
       "      <td id=\"T_58b49_row3_col2\" class=\"data row3 col2\" >0.801912</td>\n",
       "      <td id=\"T_58b49_row3_col3\" class=\"data row3 col3\" >180134</td>\n",
       "      <td id=\"T_58b49_row3_col4\" class=\"data row3 col4\" >0.799390</td>\n",
       "      <td id=\"T_58b49_row3_col5\" class=\"data row3 col5\" >{'feature_selection__k': 23, 'svm__C': 0.46415888336127775, 'svm__degree': 3, 'svm__kernel': 'poly'}</td>\n",
       "    </tr>\n",
       "    <tr>\n",
       "      <th id=\"T_58b49_level0_row4\" class=\"row_heading level0 row4\" >4</th>\n",
       "      <td id=\"T_58b49_row4_col0\" class=\"data row4 col0\" >06</td>\n",
       "      <td id=\"T_58b49_row4_col1\" class=\"data row4 col1\" >Basic feature with feature selection MI n=4</td>\n",
       "      <td id=\"T_58b49_row4_col2\" class=\"data row4 col2\" >0.800647</td>\n",
       "      <td id=\"T_58b49_row4_col3\" class=\"data row4 col3\" >209248</td>\n",
       "      <td id=\"T_58b49_row4_col4\" class=\"data row4 col4\" >0.799390</td>\n",
       "      <td id=\"T_58b49_row4_col5\" class=\"data row4 col5\" >{'feature_selection__k': 24, 'svm__C': 0.46415888336127775, 'svm__degree': 3, 'svm__kernel': 'poly'}</td>\n",
       "    </tr>\n",
       "    <tr>\n",
       "      <th id=\"T_58b49_level0_row5\" class=\"row_heading level0 row5\" >5</th>\n",
       "      <td id=\"T_58b49_row5_col0\" class=\"data row5 col0\" >07</td>\n",
       "      <td id=\"T_58b49_row5_col1\" class=\"data row5 col1\" >Basic feature with feature selection MI n=5</td>\n",
       "      <td id=\"T_58b49_row5_col2\" class=\"data row5 col2\" >0.801223</td>\n",
       "      <td id=\"T_58b49_row5_col3\" class=\"data row5 col3\" >220124</td>\n",
       "      <td id=\"T_58b49_row5_col4\" class=\"data row5 col4\" >0.800090</td>\n",
       "      <td id=\"T_58b49_row5_col5\" class=\"data row5 col5\" >{'feature_selection__k': 24, 'svm__C': 1.0, 'svm__degree': 3, 'svm__kernel': 'poly'}</td>\n",
       "    </tr>\n",
       "    <tr>\n",
       "      <th id=\"T_58b49_level0_row6\" class=\"row_heading level0 row6\" >6</th>\n",
       "      <td id=\"T_58b49_row6_col0\" class=\"data row6 col0\" >08</td>\n",
       "      <td id=\"T_58b49_row6_col1\" class=\"data row6 col1\" >Basic feature with feature selection from rf</td>\n",
       "      <td id=\"T_58b49_row6_col2\" class=\"data row6 col2\" >0.801682</td>\n",
       "      <td id=\"T_58b49_row6_col3\" class=\"data row6 col3\" >97146</td>\n",
       "      <td id=\"T_58b49_row6_col4\" class=\"data row6 col4\" >0.799620</td>\n",
       "      <td id=\"T_58b49_row6_col5\" class=\"data row6 col5\" >{'feature_selection__max_features': 25, 'svm__C': 0.46415888336127775, 'svm__degree': 3, 'svm__kernel': 'poly'}</td>\n",
       "    </tr>\n",
       "    <tr>\n",
       "      <th id=\"T_58b49_level0_row7\" class=\"row_heading level0 row7\" >7</th>\n",
       "      <td id=\"T_58b49_row7_col0\" class=\"data row7 col0\" >09</td>\n",
       "      <td id=\"T_58b49_row7_col1\" class=\"data row7 col1\" >Basic feature with feature selection from ridge</td>\n",
       "      <td id=\"T_58b49_row7_col2\" class=\"data row7 col2\" >0.800532</td>\n",
       "      <td id=\"T_58b49_row7_col3\" class=\"data row7 col3\" >185765</td>\n",
       "      <td id=\"T_58b49_row7_col4\" class=\"data row7 col4\" >0.799390</td>\n",
       "      <td id=\"T_58b49_row7_col5\" class=\"data row7 col5\" >{'feature_selection__max_features': 26, 'svm__C': 0.46415888336127775, 'svm__degree': 3, 'svm__kernel': 'poly'}</td>\n",
       "    </tr>\n",
       "    <tr>\n",
       "      <th id=\"T_58b49_level0_row8\" class=\"row_heading level0 row8\" >8</th>\n",
       "      <td id=\"T_58b49_row8_col0\" class=\"data row8 col0\" >10</td>\n",
       "      <td id=\"T_58b49_row8_col1\" class=\"data row8 col1\" >Basic feature with feature selection f_classif + pca full</td>\n",
       "      <td id=\"T_58b49_row8_col2\" class=\"data row8 col2\" >0.798692</td>\n",
       "      <td id=\"T_58b49_row8_col3\" class=\"data row8 col3\" >96565</td>\n",
       "      <td id=\"T_58b49_row8_col4\" class=\"data row8 col4\" >0.795880</td>\n",
       "      <td id=\"T_58b49_row8_col5\" class=\"data row8 col5\" >{'feature_selection__k': 19, 'svm__C': 1.0, 'svm__degree': 3, 'svm__kernel': 'poly'}</td>\n",
       "    </tr>\n",
       "    <tr>\n",
       "      <th id=\"T_58b49_level0_row9\" class=\"row_heading level0 row9\" >9</th>\n",
       "      <td id=\"T_58b49_row9_col0\" class=\"data row9 col0\" >11</td>\n",
       "      <td id=\"T_58b49_row9_col1\" class=\"data row9 col1\" >Basic feature with feature selection MI n=1 + pca full</td>\n",
       "      <td id=\"T_58b49_row9_col2\" class=\"data row9 col2\" >0.799842</td>\n",
       "      <td id=\"T_58b49_row9_col3\" class=\"data row9 col3\" >112989</td>\n",
       "      <td id=\"T_58b49_row9_col4\" class=\"data row9 col4\" >0.797280</td>\n",
       "      <td id=\"T_58b49_row9_col5\" class=\"data row9 col5\" >{'feature_selection__k': 20, 'svm__C': 2.154434690031882, 'svm__degree': 3, 'svm__kernel': 'poly'}</td>\n",
       "    </tr>\n",
       "    <tr>\n",
       "      <th id=\"T_58b49_level0_row10\" class=\"row_heading level0 row10\" >10</th>\n",
       "      <td id=\"T_58b49_row10_col0\" class=\"data row10 col0\" >12</td>\n",
       "      <td id=\"T_58b49_row10_col1\" class=\"data row10 col1\" >Basic feature with feature selection MI n=2 + pca full</td>\n",
       "      <td id=\"T_58b49_row10_col2\" class=\"data row10 col2\" >0.798347</td>\n",
       "      <td id=\"T_58b49_row10_col3\" class=\"data row10 col3\" >106382</td>\n",
       "      <td id=\"T_58b49_row10_col4\" class=\"data row10 col4\" >0.795650</td>\n",
       "      <td id=\"T_58b49_row10_col5\" class=\"data row10 col5\" >{'feature_selection__k': 19, 'svm__C': 100.0, 'svm__degree': 2, 'svm__kernel': 'poly'}</td>\n",
       "    </tr>\n",
       "    <tr>\n",
       "      <th id=\"T_58b49_level0_row11\" class=\"row_heading level0 row11\" >11</th>\n",
       "      <td id=\"T_58b49_row11_col0\" class=\"data row11 col0\" >13</td>\n",
       "      <td id=\"T_58b49_row11_col1\" class=\"data row11 col1\" >Basic feature with feature selection MI n=3 + pca full</td>\n",
       "      <td id=\"T_58b49_row11_col2\" class=\"data row11 col2\" >0.799036</td>\n",
       "      <td id=\"T_58b49_row11_col3\" class=\"data row11 col3\" >196236</td>\n",
       "      <td id=\"T_58b49_row11_col4\" class=\"data row11 col4\" >None</td>\n",
       "      <td id=\"T_58b49_row11_col5\" class=\"data row11 col5\" >{'feature_selection__k': 16, 'svm__C': 2.154434690031882, 'svm__kernel': 'rbf'}</td>\n",
       "    </tr>\n",
       "    <tr>\n",
       "      <th id=\"T_58b49_level0_row12\" class=\"row_heading level0 row12\" >12</th>\n",
       "      <td id=\"T_58b49_row12_col0\" class=\"data row12 col0\" >14</td>\n",
       "      <td id=\"T_58b49_row12_col1\" class=\"data row12 col1\" >Basic feature with feature selection MI n=4 + pca full</td>\n",
       "      <td id=\"T_58b49_row12_col2\" class=\"data row12 col2\" >0.798692</td>\n",
       "      <td id=\"T_58b49_row12_col3\" class=\"data row12 col3\" >110920</td>\n",
       "      <td id=\"T_58b49_row12_col4\" class=\"data row12 col4\" >None</td>\n",
       "      <td id=\"T_58b49_row12_col5\" class=\"data row12 col5\" >{'feature_selection__k': 18, 'svm__C': 2.154434690031882, 'svm__kernel': 'rbf'}</td>\n",
       "    </tr>\n",
       "    <tr>\n",
       "      <th id=\"T_58b49_level0_row13\" class=\"row_heading level0 row13\" >13</th>\n",
       "      <td id=\"T_58b49_row13_col0\" class=\"data row13 col0\" >15</td>\n",
       "      <td id=\"T_58b49_row13_col1\" class=\"data row13 col1\" >Basic feature with feature selection MI n=5 + pca full</td>\n",
       "      <td id=\"T_58b49_row13_col2\" class=\"data row13 col2\" >0.798806</td>\n",
       "      <td id=\"T_58b49_row13_col3\" class=\"data row13 col3\" >192989</td>\n",
       "      <td id=\"T_58b49_row13_col4\" class=\"data row13 col4\" >None</td>\n",
       "      <td id=\"T_58b49_row13_col5\" class=\"data row13 col5\" >{'feature_selection__k': 16, 'svm__C': 2.154434690031882, 'svm__kernel': 'rbf'}</td>\n",
       "    </tr>\n",
       "    <tr>\n",
       "      <th id=\"T_58b49_level0_row14\" class=\"row_heading level0 row14\" >14</th>\n",
       "      <td id=\"T_58b49_row14_col0\" class=\"data row14 col0\" >16</td>\n",
       "      <td id=\"T_58b49_row14_col1\" class=\"data row14 col1\" >Basic feature with feature selection from rf + pca full</td>\n",
       "      <td id=\"T_58b49_row14_col2\" class=\"data row14 col2\" >0.798692</td>\n",
       "      <td id=\"T_58b49_row14_col3\" class=\"data row14 col3\" >99089</td>\n",
       "      <td id=\"T_58b49_row14_col4\" class=\"data row14 col4\" >None</td>\n",
       "      <td id=\"T_58b49_row14_col5\" class=\"data row14 col5\" >{'feature_selection__max_features': 20, 'svm__C': 1.0, 'svm__kernel': 'rbf'}</td>\n",
       "    </tr>\n",
       "    <tr>\n",
       "      <th id=\"T_58b49_level0_row15\" class=\"row_heading level0 row15\" >15</th>\n",
       "      <td id=\"T_58b49_row15_col0\" class=\"data row15 col0\" >17</td>\n",
       "      <td id=\"T_58b49_row15_col1\" class=\"data row15 col1\" >Basic feature with feature selection from ridge + pca full</td>\n",
       "      <td id=\"T_58b49_row15_col2\" class=\"data row15 col2\" >0.799267</td>\n",
       "      <td id=\"T_58b49_row15_col3\" class=\"data row15 col3\" >90259</td>\n",
       "      <td id=\"T_58b49_row15_col4\" class=\"data row15 col4\" >None</td>\n",
       "      <td id=\"T_58b49_row15_col5\" class=\"data row15 col5\" >{'feature_selection__max_features': 21, 'svm__C': 2.154434690031882, 'svm__kernel': 'rbf'}</td>\n",
       "    </tr>\n",
       "    <tr>\n",
       "      <th id=\"T_58b49_level0_row16\" class=\"row_heading level0 row16\" >16</th>\n",
       "      <td id=\"T_58b49_row16_col0\" class=\"data row16 col0\" >18</td>\n",
       "      <td id=\"T_58b49_row16_col1\" class=\"data row16 col1\" >Basic feature with pca</td>\n",
       "      <td id=\"T_58b49_row16_col2\" class=\"data row16 col2\" >0.798461</td>\n",
       "      <td id=\"T_58b49_row16_col3\" class=\"data row16 col3\" >46471</td>\n",
       "      <td id=\"T_58b49_row16_col4\" class=\"data row16 col4\" >None</td>\n",
       "      <td id=\"T_58b49_row16_col5\" class=\"data row16 col5\" >{'pca__n_components': 20, 'svm__C': 1.0, 'svm__degree': 3, 'svm__kernel': 'poly'}</td>\n",
       "    </tr>\n",
       "  </tbody>\n",
       "</table>\n"
      ],
      "text/plain": [
       "<pandas.io.formats.style.Styler at 0x22c83bd2e30>"
      ]
     },
     "execution_count": 64,
     "metadata": {},
     "output_type": "execute_result"
    }
   ],
   "source": [
    "df_results = pd.DataFrame(columns=COLUMNS_ANALYSIS_BY_MODEL)\n",
    "NAME_MODEL = \"svm\"\n",
    "\n",
    "for version in VERSIONS:\n",
    "    \n",
    "    if os.path.exists(os.path.join(REPO_MODEL, NAME_MODEL + \"__v\" + version + \".json\")):\n",
    "        with open(os.path.join(REPO_MODEL, NAME_MODEL + \"__v\" + version + \".json\"), \"r\") as file:\n",
    "            data = json.load(file)\n",
    "        df_results = pd.concat([\n",
    "            df_results, \n",
    "            pd.DataFrame({\n",
    "                \"Version\": [version], \n",
    "                \"Description\": DESCRIPTION_VERSIONS.get(version), \n",
    "                \"Best_score\": [data[\"best_score\"]],\n",
    "                \"Time_to_tune\": [int(data[\"time_to_tune\"])],\n",
    "                \"Score_kaggle\": [data[\"score_kaggle\"]] if \"score_kaggle\" in data else None,\n",
    "                \"Best_params\": [data[\"best_params\"]],\n",
    "            })])\n",
    "        \n",
    "df_results.reset_index(inplace=True, drop=True)\n",
    "df_results.style.apply(lambda row: ['background-color: yellow'] * df_results.shape[1] if row.Best_score == max(df_results.Best_score) else ['background-color: white'] * df_results.shape[1], axis=1)"
   ]
  },
  {
   "cell_type": "markdown",
   "id": "821d34a8",
   "metadata": {
    "jp-MarkdownHeadingCollapsed": true,
    "tags": []
   },
   "source": [
    "#### GNB"
   ]
  },
  {
   "cell_type": "code",
   "execution_count": 65,
   "id": "6c3f3a44",
   "metadata": {},
   "outputs": [
    {
     "data": {
      "text/html": [
       "<style type=\"text/css\">\n",
       "#T_09df7_row0_col0, #T_09df7_row0_col1, #T_09df7_row0_col2, #T_09df7_row0_col3, #T_09df7_row0_col4, #T_09df7_row0_col5, #T_09df7_row1_col0, #T_09df7_row1_col1, #T_09df7_row1_col2, #T_09df7_row1_col3, #T_09df7_row1_col4, #T_09df7_row1_col5, #T_09df7_row2_col0, #T_09df7_row2_col1, #T_09df7_row2_col2, #T_09df7_row2_col3, #T_09df7_row2_col4, #T_09df7_row2_col5, #T_09df7_row3_col0, #T_09df7_row3_col1, #T_09df7_row3_col2, #T_09df7_row3_col3, #T_09df7_row3_col4, #T_09df7_row3_col5, #T_09df7_row4_col0, #T_09df7_row4_col1, #T_09df7_row4_col2, #T_09df7_row4_col3, #T_09df7_row4_col4, #T_09df7_row4_col5, #T_09df7_row5_col0, #T_09df7_row5_col1, #T_09df7_row5_col2, #T_09df7_row5_col3, #T_09df7_row5_col4, #T_09df7_row5_col5, #T_09df7_row6_col0, #T_09df7_row6_col1, #T_09df7_row6_col2, #T_09df7_row6_col3, #T_09df7_row6_col4, #T_09df7_row6_col5, #T_09df7_row7_col0, #T_09df7_row7_col1, #T_09df7_row7_col2, #T_09df7_row7_col3, #T_09df7_row7_col4, #T_09df7_row7_col5, #T_09df7_row8_col0, #T_09df7_row8_col1, #T_09df7_row8_col2, #T_09df7_row8_col3, #T_09df7_row8_col4, #T_09df7_row8_col5, #T_09df7_row9_col0, #T_09df7_row9_col1, #T_09df7_row9_col2, #T_09df7_row9_col3, #T_09df7_row9_col4, #T_09df7_row9_col5, #T_09df7_row10_col0, #T_09df7_row10_col1, #T_09df7_row10_col2, #T_09df7_row10_col3, #T_09df7_row10_col4, #T_09df7_row10_col5, #T_09df7_row11_col0, #T_09df7_row11_col1, #T_09df7_row11_col2, #T_09df7_row11_col3, #T_09df7_row11_col4, #T_09df7_row11_col5, #T_09df7_row12_col0, #T_09df7_row12_col1, #T_09df7_row12_col2, #T_09df7_row12_col3, #T_09df7_row12_col4, #T_09df7_row12_col5, #T_09df7_row13_col0, #T_09df7_row13_col1, #T_09df7_row13_col2, #T_09df7_row13_col3, #T_09df7_row13_col4, #T_09df7_row13_col5, #T_09df7_row14_col0, #T_09df7_row14_col1, #T_09df7_row14_col2, #T_09df7_row14_col3, #T_09df7_row14_col4, #T_09df7_row14_col5, #T_09df7_row15_col0, #T_09df7_row15_col1, #T_09df7_row15_col2, #T_09df7_row15_col3, #T_09df7_row15_col4, #T_09df7_row15_col5, #T_09df7_row17_col0, #T_09df7_row17_col1, #T_09df7_row17_col2, #T_09df7_row17_col3, #T_09df7_row17_col4, #T_09df7_row17_col5 {\n",
       "  background-color: white;\n",
       "}\n",
       "#T_09df7_row16_col0, #T_09df7_row16_col1, #T_09df7_row16_col2, #T_09df7_row16_col3, #T_09df7_row16_col4, #T_09df7_row16_col5 {\n",
       "  background-color: yellow;\n",
       "}\n",
       "</style>\n",
       "<table id=\"T_09df7\">\n",
       "  <thead>\n",
       "    <tr>\n",
       "      <th class=\"blank level0\" >&nbsp;</th>\n",
       "      <th id=\"T_09df7_level0_col0\" class=\"col_heading level0 col0\" >Version</th>\n",
       "      <th id=\"T_09df7_level0_col1\" class=\"col_heading level0 col1\" >Description</th>\n",
       "      <th id=\"T_09df7_level0_col2\" class=\"col_heading level0 col2\" >Best_score</th>\n",
       "      <th id=\"T_09df7_level0_col3\" class=\"col_heading level0 col3\" >Time_to_tune</th>\n",
       "      <th id=\"T_09df7_level0_col4\" class=\"col_heading level0 col4\" >Score_kaggle</th>\n",
       "      <th id=\"T_09df7_level0_col5\" class=\"col_heading level0 col5\" >Best_params</th>\n",
       "    </tr>\n",
       "  </thead>\n",
       "  <tbody>\n",
       "    <tr>\n",
       "      <th id=\"T_09df7_level0_row0\" class=\"row_heading level0 row0\" >0</th>\n",
       "      <td id=\"T_09df7_row0_col0\" class=\"data row0 col0\" >01</td>\n",
       "      <td id=\"T_09df7_row0_col1\" class=\"data row0 col1\" >Basic feature</td>\n",
       "      <td id=\"T_09df7_row0_col2\" class=\"data row0 col2\" >0.757738</td>\n",
       "      <td id=\"T_09df7_row0_col3\" class=\"data row0 col3\" >42</td>\n",
       "      <td id=\"T_09df7_row0_col4\" class=\"data row0 col4\" >0.770160</td>\n",
       "      <td id=\"T_09df7_row0_col5\" class=\"data row0 col5\" >{'gnb__var_smoothing': 0.811130830789689}</td>\n",
       "    </tr>\n",
       "    <tr>\n",
       "      <th id=\"T_09df7_level0_row1\" class=\"row_heading level0 row1\" >1</th>\n",
       "      <td id=\"T_09df7_row1_col0\" class=\"data row1 col0\" >02</td>\n",
       "      <td id=\"T_09df7_row1_col1\" class=\"data row1 col1\" >Basic feature with feature selection f_classif</td>\n",
       "      <td id=\"T_09df7_row1_col2\" class=\"data row1 col2\" >0.769933</td>\n",
       "      <td id=\"T_09df7_row1_col3\" class=\"data row1 col3\" >1177</td>\n",
       "      <td id=\"T_09df7_row1_col4\" class=\"data row1 col4\" >0.767120</td>\n",
       "      <td id=\"T_09df7_row1_col5\" class=\"data row1 col5\" >{'feature_selection__k': 6, 'gnb__var_smoothing': 1.0}</td>\n",
       "    </tr>\n",
       "    <tr>\n",
       "      <th id=\"T_09df7_level0_row2\" class=\"row_heading level0 row2\" >2</th>\n",
       "      <td id=\"T_09df7_row2_col0\" class=\"data row2 col0\" >03</td>\n",
       "      <td id=\"T_09df7_row2_col1\" class=\"data row2 col1\" >Basic feature with feature selection MI n=1</td>\n",
       "      <td id=\"T_09df7_row2_col2\" class=\"data row2 col2\" >0.765792</td>\n",
       "      <td id=\"T_09df7_row2_col3\" class=\"data row2 col3\" >13949</td>\n",
       "      <td id=\"T_09df7_row2_col4\" class=\"data row2 col4\" >0.773900</td>\n",
       "      <td id=\"T_09df7_row2_col5\" class=\"data row2 col5\" >{'feature_selection__k': 4, 'gnb__var_smoothing': 1.0}</td>\n",
       "    </tr>\n",
       "    <tr>\n",
       "      <th id=\"T_09df7_level0_row3\" class=\"row_heading level0 row3\" >3</th>\n",
       "      <td id=\"T_09df7_row3_col0\" class=\"data row3 col0\" >04</td>\n",
       "      <td id=\"T_09df7_row3_col1\" class=\"data row3 col1\" >Basic feature with feature selection MI n=2</td>\n",
       "      <td id=\"T_09df7_row3_col2\" class=\"data row3 col2\" >0.766482</td>\n",
       "      <td id=\"T_09df7_row3_col3\" class=\"data row3 col3\" >14452</td>\n",
       "      <td id=\"T_09df7_row3_col4\" class=\"data row3 col4\" >0.773670</td>\n",
       "      <td id=\"T_09df7_row3_col5\" class=\"data row3 col5\" >{'feature_selection__k': 4, 'gnb__var_smoothing': 0.5336699231206302}</td>\n",
       "    </tr>\n",
       "    <tr>\n",
       "      <th id=\"T_09df7_level0_row4\" class=\"row_heading level0 row4\" >4</th>\n",
       "      <td id=\"T_09df7_row4_col0\" class=\"data row4 col0\" >05</td>\n",
       "      <td id=\"T_09df7_row4_col1\" class=\"data row4 col1\" >Basic feature with feature selection MI n=3</td>\n",
       "      <td id=\"T_09df7_row4_col2\" class=\"data row4 col2\" >0.766482</td>\n",
       "      <td id=\"T_09df7_row4_col3\" class=\"data row4 col3\" >14887</td>\n",
       "      <td id=\"T_09df7_row4_col4\" class=\"data row4 col4\" >0.773670</td>\n",
       "      <td id=\"T_09df7_row4_col5\" class=\"data row4 col5\" >{'feature_selection__k': 4, 'gnb__var_smoothing': 0.5336699231206302}</td>\n",
       "    </tr>\n",
       "    <tr>\n",
       "      <th id=\"T_09df7_level0_row5\" class=\"row_heading level0 row5\" >5</th>\n",
       "      <td id=\"T_09df7_row5_col0\" class=\"data row5 col0\" >06</td>\n",
       "      <td id=\"T_09df7_row5_col1\" class=\"data row5 col1\" >Basic feature with feature selection MI n=4</td>\n",
       "      <td id=\"T_09df7_row5_col2\" class=\"data row5 col2\" >0.766367</td>\n",
       "      <td id=\"T_09df7_row5_col3\" class=\"data row5 col3\" >14559</td>\n",
       "      <td id=\"T_09df7_row5_col4\" class=\"data row5 col4\" >0.774370</td>\n",
       "      <td id=\"T_09df7_row5_col5\" class=\"data row5 col5\" >{'feature_selection__k': 4, 'gnb__var_smoothing': 0.6579332246575682}</td>\n",
       "    </tr>\n",
       "    <tr>\n",
       "      <th id=\"T_09df7_level0_row6\" class=\"row_heading level0 row6\" >6</th>\n",
       "      <td id=\"T_09df7_row6_col0\" class=\"data row6 col0\" >07</td>\n",
       "      <td id=\"T_09df7_row6_col1\" class=\"data row6 col1\" >Basic feature with feature selection MI n=5</td>\n",
       "      <td id=\"T_09df7_row6_col2\" class=\"data row6 col2\" >0.766482</td>\n",
       "      <td id=\"T_09df7_row6_col3\" class=\"data row6 col3\" >15604</td>\n",
       "      <td id=\"T_09df7_row6_col4\" class=\"data row6 col4\" >0.773670</td>\n",
       "      <td id=\"T_09df7_row6_col5\" class=\"data row6 col5\" >{'feature_selection__k': 4, 'gnb__var_smoothing': 0.5336699231206302}</td>\n",
       "    </tr>\n",
       "    <tr>\n",
       "      <th id=\"T_09df7_level0_row7\" class=\"row_heading level0 row7\" >7</th>\n",
       "      <td id=\"T_09df7_row7_col0\" class=\"data row7 col0\" >08</td>\n",
       "      <td id=\"T_09df7_row7_col1\" class=\"data row7 col1\" >Basic feature with feature selection from rf</td>\n",
       "      <td id=\"T_09df7_row7_col2\" class=\"data row7 col2\" >0.767173</td>\n",
       "      <td id=\"T_09df7_row7_col3\" class=\"data row7 col3\" >12574</td>\n",
       "      <td id=\"T_09df7_row7_col4\" class=\"data row7 col4\" >0.774840</td>\n",
       "      <td id=\"T_09df7_row7_col5\" class=\"data row7 col5\" >{'feature_selection__max_features': 4, 'gnb__var_smoothing': 0.3511191734215127}</td>\n",
       "    </tr>\n",
       "    <tr>\n",
       "      <th id=\"T_09df7_level0_row8\" class=\"row_heading level0 row8\" >8</th>\n",
       "      <td id=\"T_09df7_row8_col0\" class=\"data row8 col0\" >09</td>\n",
       "      <td id=\"T_09df7_row8_col1\" class=\"data row8 col1\" >Basic feature with feature selection from ridge</td>\n",
       "      <td id=\"T_09df7_row8_col2\" class=\"data row8 col2\" >0.770624</td>\n",
       "      <td id=\"T_09df7_row8_col3\" class=\"data row8 col3\" >1013</td>\n",
       "      <td id=\"T_09df7_row8_col4\" class=\"data row8 col4\" >0.777180</td>\n",
       "      <td id=\"T_09df7_row8_col5\" class=\"data row8 col5\" >{'feature_selection__max_features': 7, 'gnb__var_smoothing': 0.811130830789689}</td>\n",
       "    </tr>\n",
       "    <tr>\n",
       "      <th id=\"T_09df7_level0_row9\" class=\"row_heading level0 row9\" >9</th>\n",
       "      <td id=\"T_09df7_row9_col0\" class=\"data row9 col0\" >10</td>\n",
       "      <td id=\"T_09df7_row9_col1\" class=\"data row9 col1\" >Basic feature with feature selection f_classif + pca full</td>\n",
       "      <td id=\"T_09df7_row9_col2\" class=\"data row9 col2\" >0.768323</td>\n",
       "      <td id=\"T_09df7_row9_col3\" class=\"data row9 col3\" >1075</td>\n",
       "      <td id=\"T_09df7_row9_col4\" class=\"data row9 col4\" >0.775300</td>\n",
       "      <td id=\"T_09df7_row9_col5\" class=\"data row9 col5\" >{'feature_selection__k': 4, 'gnb__var_smoothing': 0.3511191734215127}</td>\n",
       "    </tr>\n",
       "    <tr>\n",
       "      <th id=\"T_09df7_level0_row10\" class=\"row_heading level0 row10\" >10</th>\n",
       "      <td id=\"T_09df7_row10_col0\" class=\"data row10 col0\" >11</td>\n",
       "      <td id=\"T_09df7_row10_col1\" class=\"data row10 col1\" >Basic feature with feature selection MI n=1 + pca full</td>\n",
       "      <td id=\"T_09df7_row10_col2\" class=\"data row10 col2\" >0.767402</td>\n",
       "      <td id=\"T_09df7_row10_col3\" class=\"data row10 col3\" >15697</td>\n",
       "      <td id=\"T_09df7_row10_col4\" class=\"data row10 col4\" >0.775770</td>\n",
       "      <td id=\"T_09df7_row10_col5\" class=\"data row10 col5\" >{'feature_selection__k': 4, 'gnb__var_smoothing': 0.2310129700083158}</td>\n",
       "    </tr>\n",
       "    <tr>\n",
       "      <th id=\"T_09df7_level0_row11\" class=\"row_heading level0 row11\" >11</th>\n",
       "      <td id=\"T_09df7_row11_col0\" class=\"data row11 col0\" >12</td>\n",
       "      <td id=\"T_09df7_row11_col1\" class=\"data row11 col1\" >Basic feature with feature selection MI n=2 + pca full</td>\n",
       "      <td id=\"T_09df7_row11_col2\" class=\"data row11 col2\" >0.768323</td>\n",
       "      <td id=\"T_09df7_row11_col3\" class=\"data row11 col3\" >14520</td>\n",
       "      <td id=\"T_09df7_row11_col4\" class=\"data row11 col4\" >None</td>\n",
       "      <td id=\"T_09df7_row11_col5\" class=\"data row11 col5\" >{'feature_selection__k': 4, 'gnb__var_smoothing': 0.3511191734215127}</td>\n",
       "    </tr>\n",
       "    <tr>\n",
       "      <th id=\"T_09df7_level0_row12\" class=\"row_heading level0 row12\" >12</th>\n",
       "      <td id=\"T_09df7_row12_col0\" class=\"data row12 col0\" >13</td>\n",
       "      <td id=\"T_09df7_row12_col1\" class=\"data row12 col1\" >Basic feature with feature selection MI n=3 + pca full</td>\n",
       "      <td id=\"T_09df7_row12_col2\" class=\"data row12 col2\" >0.768208</td>\n",
       "      <td id=\"T_09df7_row12_col3\" class=\"data row12 col3\" >15066</td>\n",
       "      <td id=\"T_09df7_row12_col4\" class=\"data row12 col4\" >None</td>\n",
       "      <td id=\"T_09df7_row12_col5\" class=\"data row12 col5\" >{'feature_selection__k': 4, 'gnb__var_smoothing': 0.43287612810830617}</td>\n",
       "    </tr>\n",
       "    <tr>\n",
       "      <th id=\"T_09df7_level0_row13\" class=\"row_heading level0 row13\" >13</th>\n",
       "      <td id=\"T_09df7_row13_col0\" class=\"data row13 col0\" >14</td>\n",
       "      <td id=\"T_09df7_row13_col1\" class=\"data row13 col1\" >Basic feature with feature selection MI n=4 + pca full</td>\n",
       "      <td id=\"T_09df7_row13_col2\" class=\"data row13 col2\" >0.768323</td>\n",
       "      <td id=\"T_09df7_row13_col3\" class=\"data row13 col3\" >14755</td>\n",
       "      <td id=\"T_09df7_row13_col4\" class=\"data row13 col4\" >None</td>\n",
       "      <td id=\"T_09df7_row13_col5\" class=\"data row13 col5\" >{'feature_selection__k': 4, 'gnb__var_smoothing': 0.3511191734215127}</td>\n",
       "    </tr>\n",
       "    <tr>\n",
       "      <th id=\"T_09df7_level0_row14\" class=\"row_heading level0 row14\" >14</th>\n",
       "      <td id=\"T_09df7_row14_col0\" class=\"data row14 col0\" >15</td>\n",
       "      <td id=\"T_09df7_row14_col1\" class=\"data row14 col1\" >Basic feature with feature selection MI n=5 + pca full</td>\n",
       "      <td id=\"T_09df7_row14_col2\" class=\"data row14 col2\" >0.768208</td>\n",
       "      <td id=\"T_09df7_row14_col3\" class=\"data row14 col3\" >16033</td>\n",
       "      <td id=\"T_09df7_row14_col4\" class=\"data row14 col4\" >None</td>\n",
       "      <td id=\"T_09df7_row14_col5\" class=\"data row14 col5\" >{'feature_selection__k': 4, 'gnb__var_smoothing': 0.43287612810830617}</td>\n",
       "    </tr>\n",
       "    <tr>\n",
       "      <th id=\"T_09df7_level0_row15\" class=\"row_heading level0 row15\" >15</th>\n",
       "      <td id=\"T_09df7_row15_col0\" class=\"data row15 col0\" >16</td>\n",
       "      <td id=\"T_09df7_row15_col1\" class=\"data row15 col1\" >Basic feature with feature selection from rf + pca full</td>\n",
       "      <td id=\"T_09df7_row15_col2\" class=\"data row15 col2\" >0.768322</td>\n",
       "      <td id=\"T_09df7_row15_col3\" class=\"data row15 col3\" >11650</td>\n",
       "      <td id=\"T_09df7_row15_col4\" class=\"data row15 col4\" >None</td>\n",
       "      <td id=\"T_09df7_row15_col5\" class=\"data row15 col5\" >{'feature_selection__max_features': 4, 'gnb__var_smoothing': 0.18738174228603868}</td>\n",
       "    </tr>\n",
       "    <tr>\n",
       "      <th id=\"T_09df7_level0_row16\" class=\"row_heading level0 row16\" >16</th>\n",
       "      <td id=\"T_09df7_row16_col0\" class=\"data row16 col0\" >17</td>\n",
       "      <td id=\"T_09df7_row16_col1\" class=\"data row16 col1\" >Basic feature with feature selection from ridge + pca full</td>\n",
       "      <td id=\"T_09df7_row16_col2\" class=\"data row16 col2\" >0.771429</td>\n",
       "      <td id=\"T_09df7_row16_col3\" class=\"data row16 col3\" >779</td>\n",
       "      <td id=\"T_09df7_row16_col4\" class=\"data row16 col4\" >None</td>\n",
       "      <td id=\"T_09df7_row16_col5\" class=\"data row16 col5\" >{'feature_selection__max_features': 7, 'gnb__var_smoothing': 0.43287612810830617}</td>\n",
       "    </tr>\n",
       "    <tr>\n",
       "      <th id=\"T_09df7_level0_row17\" class=\"row_heading level0 row17\" >17</th>\n",
       "      <td id=\"T_09df7_row17_col0\" class=\"data row17 col0\" >18</td>\n",
       "      <td id=\"T_09df7_row17_col1\" class=\"data row17 col1\" >Basic feature with pca</td>\n",
       "      <td id=\"T_09df7_row17_col2\" class=\"data row17 col2\" >0.757394</td>\n",
       "      <td id=\"T_09df7_row17_col3\" class=\"data row17 col3\" >1028</td>\n",
       "      <td id=\"T_09df7_row17_col4\" class=\"data row17 col4\" >None</td>\n",
       "      <td id=\"T_09df7_row17_col5\" class=\"data row17 col5\" >{'gnb__var_smoothing': 0.3511191734215127, 'pca__n_components': 8}</td>\n",
       "    </tr>\n",
       "  </tbody>\n",
       "</table>\n"
      ],
      "text/plain": [
       "<pandas.io.formats.style.Styler at 0x22c83bd02e0>"
      ]
     },
     "execution_count": 65,
     "metadata": {},
     "output_type": "execute_result"
    }
   ],
   "source": [
    "df_results = pd.DataFrame(columns=COLUMNS_ANALYSIS_BY_MODEL)\n",
    "NAME_MODEL = \"gnb\"\n",
    "\n",
    "for version in VERSIONS:\n",
    "    \n",
    "    if os.path.exists(os.path.join(REPO_MODEL, NAME_MODEL + \"__v\" + version + \".json\")):\n",
    "        with open(os.path.join(REPO_MODEL, NAME_MODEL + \"__v\" + version + \".json\"), \"r\") as file:\n",
    "            data = json.load(file)\n",
    "        df_results = pd.concat([\n",
    "            df_results, \n",
    "            pd.DataFrame({\n",
    "                \"Version\": [version], \n",
    "                \"Description\": DESCRIPTION_VERSIONS.get(version), \n",
    "                \"Best_score\": [data[\"best_score\"]],\n",
    "                \"Time_to_tune\": [int(data[\"time_to_tune\"])],\n",
    "                \"Score_kaggle\": [data[\"score_kaggle\"]] if \"score_kaggle\" in data else None,\n",
    "                \"Best_params\": [data[\"best_params\"]],\n",
    "            })])\n",
    "        \n",
    "df_results.reset_index(inplace=True, drop=True)\n",
    "df_results.style.apply(lambda row: ['background-color: yellow'] * df_results.shape[1] if row.Best_score == max(df_results.Best_score) else ['background-color: white'] * df_results.shape[1], axis=1)"
   ]
  },
  {
   "cell_type": "markdown",
   "id": "d62e1246",
   "metadata": {
    "jp-MarkdownHeadingCollapsed": true,
    "tags": []
   },
   "source": [
    "### By version"
   ]
  },
  {
   "cell_type": "markdown",
   "id": "1e05ee0b",
   "metadata": {
    "jp-MarkdownHeadingCollapsed": true,
    "tags": []
   },
   "source": [
    "#### Version 1"
   ]
  },
  {
   "cell_type": "code",
   "execution_count": 9,
   "id": "f5a51432",
   "metadata": {},
   "outputs": [
    {
     "name": "stdout",
     "output_type": "stream",
     "text": [
      "Basic feature\n"
     ]
    },
    {
     "data": {
      "text/html": [
       "<style type=\"text/css\">\n",
       "#T_a6c5f_row0_col0, #T_a6c5f_row0_col1, #T_a6c5f_row0_col2, #T_a6c5f_row0_col3, #T_a6c5f_row0_col4, #T_a6c5f_row1_col0, #T_a6c5f_row1_col1, #T_a6c5f_row1_col2, #T_a6c5f_row1_col3, #T_a6c5f_row1_col4, #T_a6c5f_row3_col0, #T_a6c5f_row3_col1, #T_a6c5f_row3_col2, #T_a6c5f_row3_col3, #T_a6c5f_row3_col4 {\n",
       "  background-color: white;\n",
       "}\n",
       "#T_a6c5f_row2_col0, #T_a6c5f_row2_col1, #T_a6c5f_row2_col2, #T_a6c5f_row2_col3, #T_a6c5f_row2_col4 {\n",
       "  background-color: yellow;\n",
       "}\n",
       "</style>\n",
       "<table id=\"T_a6c5f\">\n",
       "  <thead>\n",
       "    <tr>\n",
       "      <th class=\"blank level0\" >&nbsp;</th>\n",
       "      <th id=\"T_a6c5f_level0_col0\" class=\"col_heading level0 col0\" >Name_model</th>\n",
       "      <th id=\"T_a6c5f_level0_col1\" class=\"col_heading level0 col1\" >Best_score</th>\n",
       "      <th id=\"T_a6c5f_level0_col2\" class=\"col_heading level0 col2\" >Time_to_tune</th>\n",
       "      <th id=\"T_a6c5f_level0_col3\" class=\"col_heading level0 col3\" >Score_kaggle</th>\n",
       "      <th id=\"T_a6c5f_level0_col4\" class=\"col_heading level0 col4\" >Best_params</th>\n",
       "    </tr>\n",
       "  </thead>\n",
       "  <tbody>\n",
       "    <tr>\n",
       "      <th id=\"T_a6c5f_level0_row0\" class=\"row_heading level0 row0\" >0</th>\n",
       "      <td id=\"T_a6c5f_row0_col0\" class=\"data row0 col0\" >logistic_regression</td>\n",
       "      <td id=\"T_a6c5f_row0_col1\" class=\"data row0 col1\" >0.779479</td>\n",
       "      <td id=\"T_a6c5f_row0_col2\" class=\"data row0 col2\" >1476</td>\n",
       "      <td id=\"T_a6c5f_row0_col3\" class=\"data row0 col3\" >0.784420</td>\n",
       "      <td id=\"T_a6c5f_row0_col4\" class=\"data row0 col4\" >{'logistic__C': 0.01, 'logistic__penalty': 'l2', 'logistic__solver': 'liblinear'}</td>\n",
       "    </tr>\n",
       "    <tr>\n",
       "      <th id=\"T_a6c5f_level0_row1\" class=\"row_heading level0 row1\" >1</th>\n",
       "      <td id=\"T_a6c5f_row1_col0\" class=\"data row1 col0\" >knn</td>\n",
       "      <td id=\"T_a6c5f_row1_col1\" class=\"data row1 col1\" >0.788799</td>\n",
       "      <td id=\"T_a6c5f_row1_col2\" class=\"data row1 col2\" >5311</td>\n",
       "      <td id=\"T_a6c5f_row1_col3\" class=\"data row1 col3\" >0.787930</td>\n",
       "      <td id=\"T_a6c5f_row1_col4\" class=\"data row1 col4\" >{'knn__n_neighbors': 47, 'knn__p': 2, 'knn__weights': 'uniform'}</td>\n",
       "    </tr>\n",
       "    <tr>\n",
       "      <th id=\"T_a6c5f_level0_row2\" class=\"row_heading level0 row2\" >2</th>\n",
       "      <td id=\"T_a6c5f_row2_col0\" class=\"data row2 col0\" >svm</td>\n",
       "      <td id=\"T_a6c5f_row2_col1\" class=\"data row2 col1\" >0.800532</td>\n",
       "      <td id=\"T_a6c5f_row2_col2\" class=\"data row2 col2\" >2623</td>\n",
       "      <td id=\"T_a6c5f_row2_col3\" class=\"data row2 col3\" >0.800320</td>\n",
       "      <td id=\"T_a6c5f_row2_col4\" class=\"data row2 col4\" >{'svm__C': 0.46415888336127775, 'svm__degree': 3, 'svm__kernel': 'poly'}</td>\n",
       "    </tr>\n",
       "    <tr>\n",
       "      <th id=\"T_a6c5f_level0_row3\" class=\"row_heading level0 row3\" >3</th>\n",
       "      <td id=\"T_a6c5f_row3_col0\" class=\"data row3 col0\" >gnb</td>\n",
       "      <td id=\"T_a6c5f_row3_col1\" class=\"data row3 col1\" >0.757738</td>\n",
       "      <td id=\"T_a6c5f_row3_col2\" class=\"data row3 col2\" >42</td>\n",
       "      <td id=\"T_a6c5f_row3_col3\" class=\"data row3 col3\" >0.770160</td>\n",
       "      <td id=\"T_a6c5f_row3_col4\" class=\"data row3 col4\" >{'gnb__var_smoothing': 0.811130830789689}</td>\n",
       "    </tr>\n",
       "  </tbody>\n",
       "</table>\n"
      ],
      "text/plain": [
       "<pandas.io.formats.style.Styler at 0x1e9f4873cd0>"
      ]
     },
     "execution_count": 9,
     "metadata": {},
     "output_type": "execute_result"
    }
   ],
   "source": [
    "df_results = pd.DataFrame(columns=COLUMNS_ANALYSIS_BY_VERSION)\n",
    "NAME_VERSION = \"01\"\n",
    "\n",
    "for model in MODELS:\n",
    "    \n",
    "    if os.path.exists(os.path.join(REPO_MODEL, model + \"__v\" + NAME_VERSION + \".json\")):\n",
    "        with open(os.path.join(REPO_MODEL, model + \"__v\" + NAME_VERSION + \".json\"), \"r\") as file:\n",
    "            data = json.load(file)\n",
    "        df_results = pd.concat([\n",
    "            df_results, \n",
    "            pd.DataFrame({\n",
    "                \"Name_model\": [model], \n",
    "                \"Best_score\": [data[\"best_score\"]],\n",
    "                \"Time_to_tune\": [int(data[\"time_to_tune\"])],\n",
    "                \"Score_kaggle\": [data[\"score_kaggle\"]],\n",
    "                \"Best_params\": [data[\"best_params\"]],\n",
    "            })])\n",
    "        \n",
    "print(DESCRIPTION_VERSIONS.get(NAME_VERSION))\n",
    "df_results.reset_index(inplace=True, drop=True)\n",
    "df_results.style.apply(lambda row: ['background-color: yellow'] * df_results.shape[1] if row.Best_score == max(df_results.Best_score) else ['background-color: white'] * df_results.shape[1], axis=1)"
   ]
  },
  {
   "cell_type": "markdown",
   "id": "9c75924c",
   "metadata": {
    "jp-MarkdownHeadingCollapsed": true,
    "tags": []
   },
   "source": [
    "#### Version 2"
   ]
  },
  {
   "cell_type": "code",
   "execution_count": 49,
   "id": "2eb81ffd",
   "metadata": {},
   "outputs": [
    {
     "data": {
      "text/html": [
       "<style type=\"text/css\">\n",
       "#T_56189_row0_col0, #T_56189_row0_col1, #T_56189_row0_col2, #T_56189_row0_col3, #T_56189_row0_col4, #T_56189_row1_col0, #T_56189_row1_col1, #T_56189_row1_col2, #T_56189_row1_col3, #T_56189_row1_col4, #T_56189_row3_col0, #T_56189_row3_col1, #T_56189_row3_col2, #T_56189_row3_col3, #T_56189_row3_col4 {\n",
       "  background-color: white;\n",
       "}\n",
       "#T_56189_row2_col0, #T_56189_row2_col1, #T_56189_row2_col2, #T_56189_row2_col3, #T_56189_row2_col4 {\n",
       "  background-color: yellow;\n",
       "}\n",
       "</style>\n",
       "<table id=\"T_56189\">\n",
       "  <thead>\n",
       "    <tr>\n",
       "      <th class=\"blank level0\" >&nbsp;</th>\n",
       "      <th id=\"T_56189_level0_col0\" class=\"col_heading level0 col0\" >Name_model</th>\n",
       "      <th id=\"T_56189_level0_col1\" class=\"col_heading level0 col1\" >Best_score</th>\n",
       "      <th id=\"T_56189_level0_col2\" class=\"col_heading level0 col2\" >Time_to_tune</th>\n",
       "      <th id=\"T_56189_level0_col3\" class=\"col_heading level0 col3\" >Score_kaggle</th>\n",
       "      <th id=\"T_56189_level0_col4\" class=\"col_heading level0 col4\" >Best_params</th>\n",
       "    </tr>\n",
       "  </thead>\n",
       "  <tbody>\n",
       "    <tr>\n",
       "      <th id=\"T_56189_level0_row0\" class=\"row_heading level0 row0\" >0</th>\n",
       "      <td id=\"T_56189_row0_col0\" class=\"data row0 col0\" >logistic_regression</td>\n",
       "      <td id=\"T_56189_row0_col1\" class=\"data row0 col1\" >0.781549</td>\n",
       "      <td id=\"T_56189_row0_col2\" class=\"data row0 col2\" >12903</td>\n",
       "      <td id=\"T_56189_row0_col3\" class=\"data row0 col3\" >0.783490</td>\n",
       "      <td id=\"T_56189_row0_col4\" class=\"data row0 col4\" >{'feature_selection__k': 15, 'logistic__C': 0.021544346900318822, 'logistic__l1_ratio': 0.1, 'logistic__penalty': 'elasticnet', 'logistic__solver': 'saga'}</td>\n",
       "    </tr>\n",
       "    <tr>\n",
       "      <th id=\"T_56189_level0_row1\" class=\"row_heading level0 row1\" >1</th>\n",
       "      <td id=\"T_56189_row1_col0\" class=\"data row1 col0\" >knn</td>\n",
       "      <td id=\"T_56189_row1_col1\" class=\"data row1 col1\" >0.790294</td>\n",
       "      <td id=\"T_56189_row1_col2\" class=\"data row1 col2\" >64065</td>\n",
       "      <td id=\"T_56189_row1_col3\" class=\"data row1 col3\" >0.784420</td>\n",
       "      <td id=\"T_56189_row1_col4\" class=\"data row1 col4\" >{'feature_selection__k': 18, 'knn__n_neighbors': 31, 'knn__p': 1, 'knn__weights': 'uniform'}</td>\n",
       "    </tr>\n",
       "    <tr>\n",
       "      <th id=\"T_56189_level0_row2\" class=\"row_heading level0 row2\" >2</th>\n",
       "      <td id=\"T_56189_row2_col0\" class=\"data row2 col0\" >svm</td>\n",
       "      <td id=\"T_56189_row2_col1\" class=\"data row2 col1\" >0.801222</td>\n",
       "      <td id=\"T_56189_row2_col2\" class=\"data row2 col2\" >307954</td>\n",
       "      <td id=\"T_56189_row2_col3\" class=\"data row2 col3\" >0.798920</td>\n",
       "      <td id=\"T_56189_row2_col4\" class=\"data row2 col4\" >{'feature_selection__k': 20, 'svm__C': 0.46415888336127775, 'svm__degree': 3, 'svm__kernel': 'poly'}</td>\n",
       "    </tr>\n",
       "    <tr>\n",
       "      <th id=\"T_56189_level0_row3\" class=\"row_heading level0 row3\" >3</th>\n",
       "      <td id=\"T_56189_row3_col0\" class=\"data row3 col0\" >gnb</td>\n",
       "      <td id=\"T_56189_row3_col1\" class=\"data row3 col1\" >0.769933</td>\n",
       "      <td id=\"T_56189_row3_col2\" class=\"data row3 col2\" >1177</td>\n",
       "      <td id=\"T_56189_row3_col3\" class=\"data row3 col3\" >0.767120</td>\n",
       "      <td id=\"T_56189_row3_col4\" class=\"data row3 col4\" >{'feature_selection__k': 6, 'gnb__var_smoothing': 1.0}</td>\n",
       "    </tr>\n",
       "  </tbody>\n",
       "</table>\n"
      ],
      "text/plain": [
       "<pandas.io.formats.style.Styler at 0x186eb3575b0>"
      ]
     },
     "execution_count": 49,
     "metadata": {},
     "output_type": "execute_result"
    }
   ],
   "source": [
    "df_results = pd.DataFrame(columns=COLUMNS_ANALYSIS_BY_VERSION)\n",
    "NAME_VERSION = \"02\"\n",
    "\n",
    "for model in MODELS:\n",
    "    \n",
    "    if os.path.exists(os.path.join(REPO_MODEL, model + \"__v\" + NAME_VERSION + \".json\")):\n",
    "        with open(os.path.join(REPO_MODEL, model + \"__v\" + NAME_VERSION + \".json\"), \"r\") as file:\n",
    "            data = json.load(file)\n",
    "        df_results = pd.concat([\n",
    "            df_results, \n",
    "            pd.DataFrame({\n",
    "                \"Name_model\": [model], \n",
    "                \"Best_score\": [data[\"best_score\"]],\n",
    "                \"Time_to_tune\": [int(data[\"time_to_tune\"])],\n",
    "                \"Score_kaggle\": [data[\"score_kaggle\"]],\n",
    "                \"Best_params\": [data[\"best_params\"]],\n",
    "            })])\n",
    "\n",
    "print(DESCRIPTION_VERSIONS.get(NAME_VERSION))\n",
    "df_results.reset_index(inplace=True, drop=True)\n",
    "df_results.style.apply(lambda row: ['background-color: yellow'] * df_results.shape[1] if row.Best_score == max(df_results.Best_score) else ['background-color: white'] * df_results.shape[1], axis=1)"
   ]
  },
  {
   "cell_type": "markdown",
   "id": "66601855",
   "metadata": {
    "jp-MarkdownHeadingCollapsed": true,
    "tags": []
   },
   "source": [
    "#### Version 3"
   ]
  },
  {
   "cell_type": "code",
   "execution_count": 50,
   "id": "a90836c9",
   "metadata": {},
   "outputs": [
    {
     "data": {
      "text/html": [
       "<style type=\"text/css\">\n",
       "#T_cf918_row0_col0, #T_cf918_row0_col1, #T_cf918_row0_col2, #T_cf918_row0_col3, #T_cf918_row0_col4, #T_cf918_row2_col0, #T_cf918_row2_col1, #T_cf918_row2_col2, #T_cf918_row2_col3, #T_cf918_row2_col4 {\n",
       "  background-color: white;\n",
       "}\n",
       "#T_cf918_row1_col0, #T_cf918_row1_col1, #T_cf918_row1_col2, #T_cf918_row1_col3, #T_cf918_row1_col4 {\n",
       "  background-color: yellow;\n",
       "}\n",
       "</style>\n",
       "<table id=\"T_cf918\">\n",
       "  <thead>\n",
       "    <tr>\n",
       "      <th class=\"blank level0\" >&nbsp;</th>\n",
       "      <th id=\"T_cf918_level0_col0\" class=\"col_heading level0 col0\" >Name_model</th>\n",
       "      <th id=\"T_cf918_level0_col1\" class=\"col_heading level0 col1\" >Best_score</th>\n",
       "      <th id=\"T_cf918_level0_col2\" class=\"col_heading level0 col2\" >Time_to_tune</th>\n",
       "      <th id=\"T_cf918_level0_col3\" class=\"col_heading level0 col3\" >Score_kaggle</th>\n",
       "      <th id=\"T_cf918_level0_col4\" class=\"col_heading level0 col4\" >Best_params</th>\n",
       "    </tr>\n",
       "  </thead>\n",
       "  <tbody>\n",
       "    <tr>\n",
       "      <th id=\"T_cf918_level0_row0\" class=\"row_heading level0 row0\" >0</th>\n",
       "      <td id=\"T_cf918_row0_col0\" class=\"data row0 col0\" >logistic_regression</td>\n",
       "      <td id=\"T_cf918_row0_col1\" class=\"data row0 col1\" >0.781665</td>\n",
       "      <td id=\"T_cf918_row0_col2\" class=\"data row0 col2\" >57133</td>\n",
       "      <td id=\"T_cf918_row0_col3\" class=\"data row0 col3\" >0.779280</td>\n",
       "      <td id=\"T_cf918_row0_col4\" class=\"data row0 col4\" >{'feature_selection__k': 16, 'logistic__C': 0.21544346900318823, 'logistic__l1_ratio': 0.2, 'logistic__penalty': 'elasticnet', 'logistic__solver': 'saga'}</td>\n",
       "    </tr>\n",
       "    <tr>\n",
       "      <th id=\"T_cf918_level0_row1\" class=\"row_heading level0 row1\" >1</th>\n",
       "      <td id=\"T_cf918_row1_col0\" class=\"data row1 col0\" >knn</td>\n",
       "      <td id=\"T_cf918_row1_col1\" class=\"data row1 col1\" >0.795932</td>\n",
       "      <td id=\"T_cf918_row1_col2\" class=\"data row1 col2\" >75335</td>\n",
       "      <td id=\"T_cf918_row1_col3\" class=\"data row1 col3\" >0.788870</td>\n",
       "      <td id=\"T_cf918_row1_col4\" class=\"data row1 col4\" >{'feature_selection__k': 13, 'knn__n_neighbors': 48, 'knn__p': 1, 'knn__weights': 'uniform'}</td>\n",
       "    </tr>\n",
       "    <tr>\n",
       "      <th id=\"T_cf918_level0_row2\" class=\"row_heading level0 row2\" >2</th>\n",
       "      <td id=\"T_cf918_row2_col0\" class=\"data row2 col0\" >gnb</td>\n",
       "      <td id=\"T_cf918_row2_col1\" class=\"data row2 col1\" >0.765792</td>\n",
       "      <td id=\"T_cf918_row2_col2\" class=\"data row2 col2\" >13949</td>\n",
       "      <td id=\"T_cf918_row2_col3\" class=\"data row2 col3\" >0.773900</td>\n",
       "      <td id=\"T_cf918_row2_col4\" class=\"data row2 col4\" >{'feature_selection__k': 4, 'gnb__var_smoothing': 1.0}</td>\n",
       "    </tr>\n",
       "  </tbody>\n",
       "</table>\n"
      ],
      "text/plain": [
       "<pandas.io.formats.style.Styler at 0x186eb357970>"
      ]
     },
     "execution_count": 50,
     "metadata": {},
     "output_type": "execute_result"
    }
   ],
   "source": [
    "df_results = pd.DataFrame(columns=COLUMNS_ANALYSIS_BY_VERSION)\n",
    "NAME_VERSION = \"03\"\n",
    "\n",
    "for model in MODELS:\n",
    "    \n",
    "    if os.path.exists(os.path.join(REPO_MODEL, model + \"__v\" + NAME_VERSION + \".json\")):\n",
    "        with open(os.path.join(REPO_MODEL, model + \"__v\" + NAME_VERSION + \".json\"), \"r\") as file:\n",
    "            data = json.load(file)\n",
    "        df_results = pd.concat([\n",
    "            df_results, \n",
    "            pd.DataFrame({\n",
    "                \"Name_model\": [model], \n",
    "                \"Best_score\": [data[\"best_score\"]],\n",
    "                \"Time_to_tune\": [int(data[\"time_to_tune\"])],\n",
    "                \"Score_kaggle\": [data[\"score_kaggle\"]],\n",
    "                \"Best_params\": [data[\"best_params\"]],\n",
    "            })])\n",
    "\n",
    "print(DESCRIPTION_VERSIONS.get(NAME_VERSION))\n",
    "df_results.reset_index(inplace=True, drop=True)\n",
    "df_results.style.apply(lambda row: ['background-color: yellow'] * df_results.shape[1] if row.Best_score == max(df_results.Best_score) else ['background-color: white'] * df_results.shape[1], axis=1)"
   ]
  },
  {
   "cell_type": "markdown",
   "id": "c10ea9cb",
   "metadata": {
    "jp-MarkdownHeadingCollapsed": true,
    "tags": []
   },
   "source": [
    "#### Version 4"
   ]
  },
  {
   "cell_type": "code",
   "execution_count": 51,
   "id": "2f46c390",
   "metadata": {},
   "outputs": [
    {
     "data": {
      "text/html": [
       "<style type=\"text/css\">\n",
       "#T_efee4_row0_col0, #T_efee4_row0_col1, #T_efee4_row0_col2, #T_efee4_row0_col3, #T_efee4_row0_col4, #T_efee4_row1_col0, #T_efee4_row1_col1, #T_efee4_row1_col2, #T_efee4_row1_col3, #T_efee4_row1_col4, #T_efee4_row3_col0, #T_efee4_row3_col1, #T_efee4_row3_col2, #T_efee4_row3_col3, #T_efee4_row3_col4 {\n",
       "  background-color: white;\n",
       "}\n",
       "#T_efee4_row2_col0, #T_efee4_row2_col1, #T_efee4_row2_col2, #T_efee4_row2_col3, #T_efee4_row2_col4 {\n",
       "  background-color: yellow;\n",
       "}\n",
       "</style>\n",
       "<table id=\"T_efee4\">\n",
       "  <thead>\n",
       "    <tr>\n",
       "      <th class=\"blank level0\" >&nbsp;</th>\n",
       "      <th id=\"T_efee4_level0_col0\" class=\"col_heading level0 col0\" >Name_model</th>\n",
       "      <th id=\"T_efee4_level0_col1\" class=\"col_heading level0 col1\" >Best_score</th>\n",
       "      <th id=\"T_efee4_level0_col2\" class=\"col_heading level0 col2\" >Time_to_tune</th>\n",
       "      <th id=\"T_efee4_level0_col3\" class=\"col_heading level0 col3\" >Score_kaggle</th>\n",
       "      <th id=\"T_efee4_level0_col4\" class=\"col_heading level0 col4\" >Best_params</th>\n",
       "    </tr>\n",
       "  </thead>\n",
       "  <tbody>\n",
       "    <tr>\n",
       "      <th id=\"T_efee4_level0_row0\" class=\"row_heading level0 row0\" >0</th>\n",
       "      <td id=\"T_efee4_row0_col0\" class=\"data row0 col0\" >logistic_regression</td>\n",
       "      <td id=\"T_efee4_row0_col1\" class=\"data row0 col1\" >0.780629</td>\n",
       "      <td id=\"T_efee4_row0_col2\" class=\"data row0 col2\" >58302</td>\n",
       "      <td id=\"T_efee4_row0_col3\" class=\"data row0 col3\" >0.785120</td>\n",
       "      <td id=\"T_efee4_row0_col4\" class=\"data row0 col4\" >{'feature_selection__k': 24, 'logistic__C': 0.01, 'logistic__penalty': 'l2', 'logistic__solver': 'liblinear'}</td>\n",
       "    </tr>\n",
       "    <tr>\n",
       "      <th id=\"T_efee4_level0_row1\" class=\"row_heading level0 row1\" >1</th>\n",
       "      <td id=\"T_efee4_row1_col0\" class=\"data row1 col0\" >knn</td>\n",
       "      <td id=\"T_efee4_row1_col1\" class=\"data row1 col1\" >0.795009</td>\n",
       "      <td id=\"T_efee4_row1_col2\" class=\"data row1 col2\" >105862</td>\n",
       "      <td id=\"T_efee4_row1_col3\" class=\"data row1 col3\" >0.787230</td>\n",
       "      <td id=\"T_efee4_row1_col4\" class=\"data row1 col4\" >{'feature_selection__k': 18, 'knn__n_neighbors': 33, 'knn__p': 1, 'knn__weights': 'uniform'}</td>\n",
       "    </tr>\n",
       "    <tr>\n",
       "      <th id=\"T_efee4_level0_row2\" class=\"row_heading level0 row2\" >2</th>\n",
       "      <td id=\"T_efee4_row2_col0\" class=\"data row2 col0\" >svm</td>\n",
       "      <td id=\"T_efee4_row2_col1\" class=\"data row2 col1\" >0.800187</td>\n",
       "      <td id=\"T_efee4_row2_col2\" class=\"data row2 col2\" >226415</td>\n",
       "      <td id=\"T_efee4_row2_col3\" class=\"data row2 col3\" >0.794480</td>\n",
       "      <td id=\"T_efee4_row2_col4\" class=\"data row2 col4\" >{'feature_selection__k': 21, 'svm__C': 4.6415888336127775, 'svm__degree': 2, 'svm__kernel': 'poly'}</td>\n",
       "    </tr>\n",
       "    <tr>\n",
       "      <th id=\"T_efee4_level0_row3\" class=\"row_heading level0 row3\" >3</th>\n",
       "      <td id=\"T_efee4_row3_col0\" class=\"data row3 col0\" >gnb</td>\n",
       "      <td id=\"T_efee4_row3_col1\" class=\"data row3 col1\" >0.766482</td>\n",
       "      <td id=\"T_efee4_row3_col2\" class=\"data row3 col2\" >14452</td>\n",
       "      <td id=\"T_efee4_row3_col3\" class=\"data row3 col3\" >0.773670</td>\n",
       "      <td id=\"T_efee4_row3_col4\" class=\"data row3 col4\" >{'feature_selection__k': 4, 'gnb__var_smoothing': 0.5336699231206302}</td>\n",
       "    </tr>\n",
       "  </tbody>\n",
       "</table>\n"
      ],
      "text/plain": [
       "<pandas.io.formats.style.Styler at 0x1868c5b6f50>"
      ]
     },
     "execution_count": 51,
     "metadata": {},
     "output_type": "execute_result"
    }
   ],
   "source": [
    "df_results = pd.DataFrame(columns=COLUMNS_ANALYSIS_BY_VERSION)\n",
    "NAME_VERSION = \"04\"\n",
    "\n",
    "for model in MODELS:\n",
    "    \n",
    "    if os.path.exists(os.path.join(REPO_MODEL, model + \"__v\" + NAME_VERSION + \".json\")):\n",
    "        with open(os.path.join(REPO_MODEL, model + \"__v\" + NAME_VERSION + \".json\"), \"r\") as file:\n",
    "            data = json.load(file)\n",
    "        df_results = pd.concat([\n",
    "            df_results, \n",
    "            pd.DataFrame({\n",
    "                \"Name_model\": [model], \n",
    "                \"Best_score\": [data[\"best_score\"]],\n",
    "                \"Time_to_tune\": [int(data[\"time_to_tune\"])],\n",
    "                \"Score_kaggle\": [data[\"score_kaggle\"]],\n",
    "                \"Best_params\": [data[\"best_params\"]],\n",
    "            })])\n",
    "       \n",
    "print(DESCRIPTION_VERSIONS.get(NAME_VERSION))\n",
    "df_results.reset_index(inplace=True, drop=True)\n",
    "df_results.style.apply(lambda row: ['background-color: yellow'] * df_results.shape[1] if row.Best_score == max(df_results.Best_score) else ['background-color: white'] * df_results.shape[1], axis=1)"
   ]
  },
  {
   "cell_type": "markdown",
   "id": "51d1b75a",
   "metadata": {
    "jp-MarkdownHeadingCollapsed": true,
    "tags": []
   },
   "source": [
    "#### Version 5"
   ]
  },
  {
   "cell_type": "code",
   "execution_count": 52,
   "id": "2be701d6",
   "metadata": {},
   "outputs": [
    {
     "data": {
      "text/html": [
       "<style type=\"text/css\">\n",
       "#T_29057_row0_col0, #T_29057_row0_col1, #T_29057_row0_col2, #T_29057_row0_col3, #T_29057_row0_col4, #T_29057_row1_col0, #T_29057_row1_col1, #T_29057_row1_col2, #T_29057_row1_col3, #T_29057_row1_col4, #T_29057_row3_col0, #T_29057_row3_col1, #T_29057_row3_col2, #T_29057_row3_col3, #T_29057_row3_col4 {\n",
       "  background-color: white;\n",
       "}\n",
       "#T_29057_row2_col0, #T_29057_row2_col1, #T_29057_row2_col2, #T_29057_row2_col3, #T_29057_row2_col4 {\n",
       "  background-color: yellow;\n",
       "}\n",
       "</style>\n",
       "<table id=\"T_29057\">\n",
       "  <thead>\n",
       "    <tr>\n",
       "      <th class=\"blank level0\" >&nbsp;</th>\n",
       "      <th id=\"T_29057_level0_col0\" class=\"col_heading level0 col0\" >Name_model</th>\n",
       "      <th id=\"T_29057_level0_col1\" class=\"col_heading level0 col1\" >Best_score</th>\n",
       "      <th id=\"T_29057_level0_col2\" class=\"col_heading level0 col2\" >Time_to_tune</th>\n",
       "      <th id=\"T_29057_level0_col3\" class=\"col_heading level0 col3\" >Score_kaggle</th>\n",
       "      <th id=\"T_29057_level0_col4\" class=\"col_heading level0 col4\" >Best_params</th>\n",
       "    </tr>\n",
       "  </thead>\n",
       "  <tbody>\n",
       "    <tr>\n",
       "      <th id=\"T_29057_level0_row0\" class=\"row_heading level0 row0\" >0</th>\n",
       "      <td id=\"T_29057_row0_col0\" class=\"data row0 col0\" >logistic_regression</td>\n",
       "      <td id=\"T_29057_row0_col1\" class=\"data row0 col1\" >0.780745</td>\n",
       "      <td id=\"T_29057_row0_col2\" class=\"data row0 col2\" >59880</td>\n",
       "      <td id=\"T_29057_row0_col3\" class=\"data row0 col3\" >0.776710</td>\n",
       "      <td id=\"T_29057_row0_col4\" class=\"data row0 col4\" >{'feature_selection__k': 12, 'logistic__C': 2154.434690031878, 'logistic__l1_ratio': 0.5, 'logistic__penalty': 'elasticnet', 'logistic__solver': 'saga'}</td>\n",
       "    </tr>\n",
       "    <tr>\n",
       "      <th id=\"T_29057_level0_row1\" class=\"row_heading level0 row1\" >1</th>\n",
       "      <td id=\"T_29057_row1_col0\" class=\"data row1 col0\" >knn</td>\n",
       "      <td id=\"T_29057_row1_col1\" class=\"data row1 col1\" >0.792481</td>\n",
       "      <td id=\"T_29057_row1_col2\" class=\"data row1 col2\" >91760</td>\n",
       "      <td id=\"T_29057_row1_col3\" class=\"data row1 col3\" >0.780210</td>\n",
       "      <td id=\"T_29057_row1_col4\" class=\"data row1 col4\" >{'feature_selection__k': 11, 'knn__n_neighbors': 37, 'knn__p': 1, 'knn__weights': 'uniform'}</td>\n",
       "    </tr>\n",
       "    <tr>\n",
       "      <th id=\"T_29057_level0_row2\" class=\"row_heading level0 row2\" >2</th>\n",
       "      <td id=\"T_29057_row2_col0\" class=\"data row2 col0\" >svm</td>\n",
       "      <td id=\"T_29057_row2_col1\" class=\"data row2 col1\" >0.801912</td>\n",
       "      <td id=\"T_29057_row2_col2\" class=\"data row2 col2\" >180134</td>\n",
       "      <td id=\"T_29057_row2_col3\" class=\"data row2 col3\" >0.799390</td>\n",
       "      <td id=\"T_29057_row2_col4\" class=\"data row2 col4\" >{'feature_selection__k': 23, 'svm__C': 0.46415888336127775, 'svm__degree': 3, 'svm__kernel': 'poly'}</td>\n",
       "    </tr>\n",
       "    <tr>\n",
       "      <th id=\"T_29057_level0_row3\" class=\"row_heading level0 row3\" >3</th>\n",
       "      <td id=\"T_29057_row3_col0\" class=\"data row3 col0\" >gnb</td>\n",
       "      <td id=\"T_29057_row3_col1\" class=\"data row3 col1\" >0.766482</td>\n",
       "      <td id=\"T_29057_row3_col2\" class=\"data row3 col2\" >14887</td>\n",
       "      <td id=\"T_29057_row3_col3\" class=\"data row3 col3\" >0.773670</td>\n",
       "      <td id=\"T_29057_row3_col4\" class=\"data row3 col4\" >{'feature_selection__k': 4, 'gnb__var_smoothing': 0.5336699231206302}</td>\n",
       "    </tr>\n",
       "  </tbody>\n",
       "</table>\n"
      ],
      "text/plain": [
       "<pandas.io.formats.style.Styler at 0x1868efebbb0>"
      ]
     },
     "execution_count": 52,
     "metadata": {},
     "output_type": "execute_result"
    }
   ],
   "source": [
    "df_results = pd.DataFrame(columns=COLUMNS_ANALYSIS_BY_VERSION)\n",
    "NAME_VERSION = \"05\"\n",
    "\n",
    "for model in MODELS:\n",
    "    \n",
    "    if os.path.exists(os.path.join(REPO_MODEL, model + \"__v\" + NAME_VERSION + \".json\")):\n",
    "        with open(os.path.join(REPO_MODEL, model + \"__v\" + NAME_VERSION + \".json\"), \"r\") as file:\n",
    "            data = json.load(file)\n",
    "        df_results = pd.concat([\n",
    "            df_results, \n",
    "            pd.DataFrame({\n",
    "                \"Name_model\": [model], \n",
    "                \"Best_score\": [data[\"best_score\"]],\n",
    "                \"Time_to_tune\": [int(data[\"time_to_tune\"])],\n",
    "                \"Score_kaggle\": [data[\"score_kaggle\"]],\n",
    "                \"Best_params\": [data[\"best_params\"]],\n",
    "            })])\n",
    " \n",
    "print(DESCRIPTION_VERSIONS.get(NAME_VERSION))\n",
    "df_results.reset_index(inplace=True, drop=True)\n",
    "df_results.style.apply(lambda row: ['background-color: yellow'] * df_results.shape[1] if row.Best_score == max(df_results.Best_score) else ['background-color: white'] * df_results.shape[1], axis=1)"
   ]
  },
  {
   "cell_type": "markdown",
   "id": "87a8f795",
   "metadata": {
    "jp-MarkdownHeadingCollapsed": true,
    "tags": []
   },
   "source": [
    "#### Version 6"
   ]
  },
  {
   "cell_type": "code",
   "execution_count": 53,
   "id": "3adb5c68",
   "metadata": {},
   "outputs": [
    {
     "data": {
      "text/html": [
       "<style type=\"text/css\">\n",
       "#T_ba97a_row0_col0, #T_ba97a_row0_col1, #T_ba97a_row0_col2, #T_ba97a_row0_col3, #T_ba97a_row0_col4, #T_ba97a_row1_col0, #T_ba97a_row1_col1, #T_ba97a_row1_col2, #T_ba97a_row1_col3, #T_ba97a_row1_col4, #T_ba97a_row3_col0, #T_ba97a_row3_col1, #T_ba97a_row3_col2, #T_ba97a_row3_col3, #T_ba97a_row3_col4 {\n",
       "  background-color: white;\n",
       "}\n",
       "#T_ba97a_row2_col0, #T_ba97a_row2_col1, #T_ba97a_row2_col2, #T_ba97a_row2_col3, #T_ba97a_row2_col4 {\n",
       "  background-color: yellow;\n",
       "}\n",
       "</style>\n",
       "<table id=\"T_ba97a\">\n",
       "  <thead>\n",
       "    <tr>\n",
       "      <th class=\"blank level0\" >&nbsp;</th>\n",
       "      <th id=\"T_ba97a_level0_col0\" class=\"col_heading level0 col0\" >Name_model</th>\n",
       "      <th id=\"T_ba97a_level0_col1\" class=\"col_heading level0 col1\" >Best_score</th>\n",
       "      <th id=\"T_ba97a_level0_col2\" class=\"col_heading level0 col2\" >Time_to_tune</th>\n",
       "      <th id=\"T_ba97a_level0_col3\" class=\"col_heading level0 col3\" >Score_kaggle</th>\n",
       "      <th id=\"T_ba97a_level0_col4\" class=\"col_heading level0 col4\" >Best_params</th>\n",
       "    </tr>\n",
       "  </thead>\n",
       "  <tbody>\n",
       "    <tr>\n",
       "      <th id=\"T_ba97a_level0_row0\" class=\"row_heading level0 row0\" >0</th>\n",
       "      <td id=\"T_ba97a_row0_col0\" class=\"data row0 col0\" >logistic_regression</td>\n",
       "      <td id=\"T_ba97a_row0_col1\" class=\"data row0 col1\" >0.780400</td>\n",
       "      <td id=\"T_ba97a_row0_col2\" class=\"data row0 col2\" >61262</td>\n",
       "      <td id=\"T_ba97a_row0_col3\" class=\"data row0 col3\" >0.782550</td>\n",
       "      <td id=\"T_ba97a_row0_col4\" class=\"data row0 col4\" >{'feature_selection__k': 15, 'logistic__C': 4641.588833612773, 'logistic__l1_ratio': 0.8, 'logistic__penalty': 'elasticnet', 'logistic__solver': 'saga'}</td>\n",
       "    </tr>\n",
       "    <tr>\n",
       "      <th id=\"T_ba97a_level0_row1\" class=\"row_heading level0 row1\" >1</th>\n",
       "      <td id=\"T_ba97a_row1_col0\" class=\"data row1 col0\" >knn</td>\n",
       "      <td id=\"T_ba97a_row1_col1\" class=\"data row1 col1\" >0.793400</td>\n",
       "      <td id=\"T_ba97a_row1_col2\" class=\"data row1 col2\" >110870</td>\n",
       "      <td id=\"T_ba97a_row1_col3\" class=\"data row1 col3\" >0.785590</td>\n",
       "      <td id=\"T_ba97a_row1_col4\" class=\"data row1 col4\" >{'feature_selection__k': 13, 'knn__n_neighbors': 49, 'knn__p': 1, 'knn__weights': 'uniform'}</td>\n",
       "    </tr>\n",
       "    <tr>\n",
       "      <th id=\"T_ba97a_level0_row2\" class=\"row_heading level0 row2\" >2</th>\n",
       "      <td id=\"T_ba97a_row2_col0\" class=\"data row2 col0\" >svm</td>\n",
       "      <td id=\"T_ba97a_row2_col1\" class=\"data row2 col1\" >0.800647</td>\n",
       "      <td id=\"T_ba97a_row2_col2\" class=\"data row2 col2\" >209248</td>\n",
       "      <td id=\"T_ba97a_row2_col3\" class=\"data row2 col3\" >0.799390</td>\n",
       "      <td id=\"T_ba97a_row2_col4\" class=\"data row2 col4\" >{'feature_selection__k': 24, 'svm__C': 0.46415888336127775, 'svm__degree': 3, 'svm__kernel': 'poly'}</td>\n",
       "    </tr>\n",
       "    <tr>\n",
       "      <th id=\"T_ba97a_level0_row3\" class=\"row_heading level0 row3\" >3</th>\n",
       "      <td id=\"T_ba97a_row3_col0\" class=\"data row3 col0\" >gnb</td>\n",
       "      <td id=\"T_ba97a_row3_col1\" class=\"data row3 col1\" >0.766367</td>\n",
       "      <td id=\"T_ba97a_row3_col2\" class=\"data row3 col2\" >14559</td>\n",
       "      <td id=\"T_ba97a_row3_col3\" class=\"data row3 col3\" >0.774370</td>\n",
       "      <td id=\"T_ba97a_row3_col4\" class=\"data row3 col4\" >{'feature_selection__k': 4, 'gnb__var_smoothing': 0.6579332246575682}</td>\n",
       "    </tr>\n",
       "  </tbody>\n",
       "</table>\n"
      ],
      "text/plain": [
       "<pandas.io.formats.style.Styler at 0x1868c5b5d50>"
      ]
     },
     "execution_count": 53,
     "metadata": {},
     "output_type": "execute_result"
    }
   ],
   "source": [
    "df_results = pd.DataFrame(columns=COLUMNS_ANALYSIS_BY_VERSION)\n",
    "NAME_VERSION = \"06\"\n",
    "\n",
    "for model in MODELS:\n",
    "    \n",
    "    if os.path.exists(os.path.join(REPO_MODEL, model + \"__v\" + NAME_VERSION + \".json\")):\n",
    "        with open(os.path.join(REPO_MODEL, model + \"__v\" + NAME_VERSION + \".json\"), \"r\") as file:\n",
    "            data = json.load(file)\n",
    "        df_results = pd.concat([\n",
    "            df_results, \n",
    "            pd.DataFrame({\n",
    "                \"Name_model\": [model], \n",
    "                \"Best_score\": [data[\"best_score\"]],\n",
    "                \"Time_to_tune\": [int(data[\"time_to_tune\"])],\n",
    "                \"Score_kaggle\": [data[\"score_kaggle\"]],\n",
    "                \"Best_params\": [data[\"best_params\"]],\n",
    "            })])\n",
    "\n",
    "print(DESCRIPTION_VERSIONS.get(NAME_VERSION))\n",
    "df_results.reset_index(inplace=True, drop=True)\n",
    "df_results.style.apply(lambda row: ['background-color: yellow'] * df_results.shape[1] if row.Best_score == max(df_results.Best_score) else ['background-color: white'] * df_results.shape[1], axis=1)"
   ]
  },
  {
   "cell_type": "markdown",
   "id": "cec27f32",
   "metadata": {
    "jp-MarkdownHeadingCollapsed": true,
    "tags": []
   },
   "source": [
    "#### Version 7"
   ]
  },
  {
   "cell_type": "code",
   "execution_count": 54,
   "id": "d8eec29b",
   "metadata": {},
   "outputs": [
    {
     "data": {
      "text/html": [
       "<style type=\"text/css\">\n",
       "#T_01194_row0_col0, #T_01194_row0_col1, #T_01194_row0_col2, #T_01194_row0_col3, #T_01194_row0_col4, #T_01194_row1_col0, #T_01194_row1_col1, #T_01194_row1_col2, #T_01194_row1_col3, #T_01194_row1_col4, #T_01194_row3_col0, #T_01194_row3_col1, #T_01194_row3_col2, #T_01194_row3_col3, #T_01194_row3_col4 {\n",
       "  background-color: white;\n",
       "}\n",
       "#T_01194_row2_col0, #T_01194_row2_col1, #T_01194_row2_col2, #T_01194_row2_col3, #T_01194_row2_col4 {\n",
       "  background-color: yellow;\n",
       "}\n",
       "</style>\n",
       "<table id=\"T_01194\">\n",
       "  <thead>\n",
       "    <tr>\n",
       "      <th class=\"blank level0\" >&nbsp;</th>\n",
       "      <th id=\"T_01194_level0_col0\" class=\"col_heading level0 col0\" >Name_model</th>\n",
       "      <th id=\"T_01194_level0_col1\" class=\"col_heading level0 col1\" >Best_score</th>\n",
       "      <th id=\"T_01194_level0_col2\" class=\"col_heading level0 col2\" >Time_to_tune</th>\n",
       "      <th id=\"T_01194_level0_col3\" class=\"col_heading level0 col3\" >Score_kaggle</th>\n",
       "      <th id=\"T_01194_level0_col4\" class=\"col_heading level0 col4\" >Best_params</th>\n",
       "    </tr>\n",
       "  </thead>\n",
       "  <tbody>\n",
       "    <tr>\n",
       "      <th id=\"T_01194_level0_row0\" class=\"row_heading level0 row0\" >0</th>\n",
       "      <td id=\"T_01194_row0_col0\" class=\"data row0 col0\" >logistic_regression</td>\n",
       "      <td id=\"T_01194_row0_col1\" class=\"data row0 col1\" >0.780745</td>\n",
       "      <td id=\"T_01194_row0_col2\" class=\"data row0 col2\" >62178</td>\n",
       "      <td id=\"T_01194_row0_col3\" class=\"data row0 col3\" >0.782090</td>\n",
       "      <td id=\"T_01194_row0_col4\" class=\"data row0 col4\" >{'feature_selection__k': 15, 'logistic__C': 10000.0, 'logistic__penalty': 'l2', 'logistic__solver': 'liblinear'}</td>\n",
       "    </tr>\n",
       "    <tr>\n",
       "      <th id=\"T_01194_level0_row1\" class=\"row_heading level0 row1\" >1</th>\n",
       "      <td id=\"T_01194_row1_col0\" class=\"data row1 col0\" >knn</td>\n",
       "      <td id=\"T_01194_row1_col1\" class=\"data row1 col1\" >0.793631</td>\n",
       "      <td id=\"T_01194_row1_col2\" class=\"data row1 col2\" >113486</td>\n",
       "      <td id=\"T_01194_row1_col3\" class=\"data row1 col3\" >0.788630</td>\n",
       "      <td id=\"T_01194_row1_col4\" class=\"data row1 col4\" >{'feature_selection__k': 16, 'knn__n_neighbors': 51, 'knn__p': 1, 'knn__weights': 'uniform'}</td>\n",
       "    </tr>\n",
       "    <tr>\n",
       "      <th id=\"T_01194_level0_row2\" class=\"row_heading level0 row2\" >2</th>\n",
       "      <td id=\"T_01194_row2_col0\" class=\"data row2 col0\" >svm</td>\n",
       "      <td id=\"T_01194_row2_col1\" class=\"data row2 col1\" >0.801223</td>\n",
       "      <td id=\"T_01194_row2_col2\" class=\"data row2 col2\" >220124</td>\n",
       "      <td id=\"T_01194_row2_col3\" class=\"data row2 col3\" >0.800090</td>\n",
       "      <td id=\"T_01194_row2_col4\" class=\"data row2 col4\" >{'feature_selection__k': 24, 'svm__C': 1.0, 'svm__degree': 3, 'svm__kernel': 'poly'}</td>\n",
       "    </tr>\n",
       "    <tr>\n",
       "      <th id=\"T_01194_level0_row3\" class=\"row_heading level0 row3\" >3</th>\n",
       "      <td id=\"T_01194_row3_col0\" class=\"data row3 col0\" >gnb</td>\n",
       "      <td id=\"T_01194_row3_col1\" class=\"data row3 col1\" >0.766482</td>\n",
       "      <td id=\"T_01194_row3_col2\" class=\"data row3 col2\" >15604</td>\n",
       "      <td id=\"T_01194_row3_col3\" class=\"data row3 col3\" >0.773670</td>\n",
       "      <td id=\"T_01194_row3_col4\" class=\"data row3 col4\" >{'feature_selection__k': 4, 'gnb__var_smoothing': 0.5336699231206302}</td>\n",
       "    </tr>\n",
       "  </tbody>\n",
       "</table>\n"
      ],
      "text/plain": [
       "<pandas.io.formats.style.Styler at 0x1869b6c76d0>"
      ]
     },
     "execution_count": 54,
     "metadata": {},
     "output_type": "execute_result"
    }
   ],
   "source": [
    "df_results = pd.DataFrame(columns=COLUMNS_ANALYSIS_BY_VERSION)\n",
    "NAME_VERSION = \"07\"\n",
    "\n",
    "for model in MODELS:\n",
    "    \n",
    "    if os.path.exists(os.path.join(REPO_MODEL, model + \"__v\" + NAME_VERSION + \".json\")):\n",
    "        with open(os.path.join(REPO_MODEL, model + \"__v\" + NAME_VERSION + \".json\"), \"r\") as file:\n",
    "            data = json.load(file)\n",
    "        df_results = pd.concat([\n",
    "            df_results, \n",
    "            pd.DataFrame({\n",
    "                \"Name_model\": [model], \n",
    "                \"Best_score\": [data[\"best_score\"]],\n",
    "                \"Time_to_tune\": [int(data[\"time_to_tune\"])],\n",
    "                \"Score_kaggle\": [data[\"score_kaggle\"]],\n",
    "                \"Best_params\": [data[\"best_params\"]],\n",
    "            })])\n",
    "    \n",
    "print(DESCRIPTION_VERSIONS.get(NAME_VERSION))\n",
    "df_results.reset_index(inplace=True, drop=True)\n",
    "df_results.style.apply(lambda row: ['background-color: yellow'] * df_results.shape[1] if row.Best_score == max(df_results.Best_score) else ['background-color: white'] * df_results.shape[1], axis=1)"
   ]
  },
  {
   "cell_type": "markdown",
   "id": "adb456ce",
   "metadata": {
    "jp-MarkdownHeadingCollapsed": true,
    "tags": []
   },
   "source": [
    "#### Version 8"
   ]
  },
  {
   "cell_type": "code",
   "execution_count": 55,
   "id": "d1986837",
   "metadata": {},
   "outputs": [
    {
     "data": {
      "text/html": [
       "<style type=\"text/css\">\n",
       "#T_9b4d2_row0_col0, #T_9b4d2_row0_col1, #T_9b4d2_row0_col2, #T_9b4d2_row0_col3, #T_9b4d2_row0_col4, #T_9b4d2_row1_col0, #T_9b4d2_row1_col1, #T_9b4d2_row1_col2, #T_9b4d2_row1_col3, #T_9b4d2_row1_col4, #T_9b4d2_row3_col0, #T_9b4d2_row3_col1, #T_9b4d2_row3_col2, #T_9b4d2_row3_col3, #T_9b4d2_row3_col4 {\n",
       "  background-color: white;\n",
       "}\n",
       "#T_9b4d2_row2_col0, #T_9b4d2_row2_col1, #T_9b4d2_row2_col2, #T_9b4d2_row2_col3, #T_9b4d2_row2_col4 {\n",
       "  background-color: yellow;\n",
       "}\n",
       "</style>\n",
       "<table id=\"T_9b4d2\">\n",
       "  <thead>\n",
       "    <tr>\n",
       "      <th class=\"blank level0\" >&nbsp;</th>\n",
       "      <th id=\"T_9b4d2_level0_col0\" class=\"col_heading level0 col0\" >Name_model</th>\n",
       "      <th id=\"T_9b4d2_level0_col1\" class=\"col_heading level0 col1\" >Best_score</th>\n",
       "      <th id=\"T_9b4d2_level0_col2\" class=\"col_heading level0 col2\" >Time_to_tune</th>\n",
       "      <th id=\"T_9b4d2_level0_col3\" class=\"col_heading level0 col3\" >Score_kaggle</th>\n",
       "      <th id=\"T_9b4d2_level0_col4\" class=\"col_heading level0 col4\" >Best_params</th>\n",
       "    </tr>\n",
       "  </thead>\n",
       "  <tbody>\n",
       "    <tr>\n",
       "      <th id=\"T_9b4d2_level0_row0\" class=\"row_heading level0 row0\" >0</th>\n",
       "      <td id=\"T_9b4d2_row0_col0\" class=\"data row0 col0\" >logistic_regression</td>\n",
       "      <td id=\"T_9b4d2_row0_col1\" class=\"data row0 col1\" >0.779479</td>\n",
       "      <td id=\"T_9b4d2_row0_col2\" class=\"data row0 col2\" >42744</td>\n",
       "      <td id=\"T_9b4d2_row0_col3\" class=\"data row0 col3\" >0.784190</td>\n",
       "      <td id=\"T_9b4d2_row0_col4\" class=\"data row0 col4\" >{'feature_selection__max_features': 23, 'logistic__C': 0.01, 'logistic__penalty': 'l2', 'logistic__solver': 'liblinear'}</td>\n",
       "    </tr>\n",
       "    <tr>\n",
       "      <th id=\"T_9b4d2_level0_row1\" class=\"row_heading level0 row1\" >1</th>\n",
       "      <td id=\"T_9b4d2_row1_col0\" class=\"data row1 col0\" >knn</td>\n",
       "      <td id=\"T_9b4d2_row1_col1\" class=\"data row1 col1\" >0.791214</td>\n",
       "      <td id=\"T_9b4d2_row1_col2\" class=\"data row1 col2\" >83657</td>\n",
       "      <td id=\"T_9b4d2_row1_col3\" class=\"data row1 col3\" >0.783490</td>\n",
       "      <td id=\"T_9b4d2_row1_col4\" class=\"data row1 col4\" >{'feature_selection__max_features': 11, 'knn__n_neighbors': 63, 'knn__p': 1, 'knn__weights': 'uniform'}</td>\n",
       "    </tr>\n",
       "    <tr>\n",
       "      <th id=\"T_9b4d2_level0_row2\" class=\"row_heading level0 row2\" >2</th>\n",
       "      <td id=\"T_9b4d2_row2_col0\" class=\"data row2 col0\" >svm</td>\n",
       "      <td id=\"T_9b4d2_row2_col1\" class=\"data row2 col1\" >0.801682</td>\n",
       "      <td id=\"T_9b4d2_row2_col2\" class=\"data row2 col2\" >97146</td>\n",
       "      <td id=\"T_9b4d2_row2_col3\" class=\"data row2 col3\" >0.799620</td>\n",
       "      <td id=\"T_9b4d2_row2_col4\" class=\"data row2 col4\" >{'feature_selection__max_features': 25, 'svm__C': 0.46415888336127775, 'svm__degree': 3, 'svm__kernel': 'poly'}</td>\n",
       "    </tr>\n",
       "    <tr>\n",
       "      <th id=\"T_9b4d2_level0_row3\" class=\"row_heading level0 row3\" >3</th>\n",
       "      <td id=\"T_9b4d2_row3_col0\" class=\"data row3 col0\" >gnb</td>\n",
       "      <td id=\"T_9b4d2_row3_col1\" class=\"data row3 col1\" >0.767173</td>\n",
       "      <td id=\"T_9b4d2_row3_col2\" class=\"data row3 col2\" >12574</td>\n",
       "      <td id=\"T_9b4d2_row3_col3\" class=\"data row3 col3\" >0.774840</td>\n",
       "      <td id=\"T_9b4d2_row3_col4\" class=\"data row3 col4\" >{'feature_selection__max_features': 4, 'gnb__var_smoothing': 0.3511191734215127}</td>\n",
       "    </tr>\n",
       "  </tbody>\n",
       "</table>\n"
      ],
      "text/plain": [
       "<pandas.io.formats.style.Styler at 0x1868ca30430>"
      ]
     },
     "execution_count": 55,
     "metadata": {},
     "output_type": "execute_result"
    }
   ],
   "source": [
    "df_results = pd.DataFrame(columns=COLUMNS_ANALYSIS_BY_VERSION)\n",
    "NAME_VERSION = \"08\"\n",
    "\n",
    "for model in MODELS:\n",
    "    \n",
    "    if os.path.exists(os.path.join(REPO_MODEL, model + \"__v\" + NAME_VERSION + \".json\")):\n",
    "        with open(os.path.join(REPO_MODEL, model + \"__v\" + NAME_VERSION + \".json\"), \"r\") as file:\n",
    "            data = json.load(file)\n",
    "        df_results = pd.concat([\n",
    "            df_results, \n",
    "            pd.DataFrame({\n",
    "                \"Name_model\": [model], \n",
    "                \"Best_score\": [data[\"best_score\"]],\n",
    "                \"Time_to_tune\": [int(data[\"time_to_tune\"])],\n",
    "                \"Score_kaggle\": [data[\"score_kaggle\"]],\n",
    "                \"Best_params\": [data[\"best_params\"]],\n",
    "            })])\n",
    "        \n",
    "print(DESCRIPTION_VERSIONS.get(NAME_VERSION))\n",
    "df_results.reset_index(inplace=True, drop=True)\n",
    "df_results.style.apply(lambda row: ['background-color: yellow'] * df_results.shape[1] if row.Best_score == max(df_results.Best_score) else ['background-color: white'] * df_results.shape[1], axis=1)"
   ]
  },
  {
   "cell_type": "markdown",
   "id": "70f215dd",
   "metadata": {
    "jp-MarkdownHeadingCollapsed": true,
    "tags": []
   },
   "source": [
    "#### Version 9"
   ]
  },
  {
   "cell_type": "code",
   "execution_count": 56,
   "id": "4a7eb192",
   "metadata": {},
   "outputs": [
    {
     "data": {
      "text/html": [
       "<style type=\"text/css\">\n",
       "#T_c0c79_row0_col0, #T_c0c79_row0_col1, #T_c0c79_row0_col2, #T_c0c79_row0_col3, #T_c0c79_row0_col4, #T_c0c79_row1_col0, #T_c0c79_row1_col1, #T_c0c79_row1_col2, #T_c0c79_row1_col3, #T_c0c79_row1_col4, #T_c0c79_row3_col0, #T_c0c79_row3_col1, #T_c0c79_row3_col2, #T_c0c79_row3_col3, #T_c0c79_row3_col4 {\n",
       "  background-color: white;\n",
       "}\n",
       "#T_c0c79_row2_col0, #T_c0c79_row2_col1, #T_c0c79_row2_col2, #T_c0c79_row2_col3, #T_c0c79_row2_col4 {\n",
       "  background-color: yellow;\n",
       "}\n",
       "</style>\n",
       "<table id=\"T_c0c79\">\n",
       "  <thead>\n",
       "    <tr>\n",
       "      <th class=\"blank level0\" >&nbsp;</th>\n",
       "      <th id=\"T_c0c79_level0_col0\" class=\"col_heading level0 col0\" >Name_model</th>\n",
       "      <th id=\"T_c0c79_level0_col1\" class=\"col_heading level0 col1\" >Best_score</th>\n",
       "      <th id=\"T_c0c79_level0_col2\" class=\"col_heading level0 col2\" >Time_to_tune</th>\n",
       "      <th id=\"T_c0c79_level0_col3\" class=\"col_heading level0 col3\" >Score_kaggle</th>\n",
       "      <th id=\"T_c0c79_level0_col4\" class=\"col_heading level0 col4\" >Best_params</th>\n",
       "    </tr>\n",
       "  </thead>\n",
       "  <tbody>\n",
       "    <tr>\n",
       "      <th id=\"T_c0c79_level0_row0\" class=\"row_heading level0 row0\" >0</th>\n",
       "      <td id=\"T_c0c79_row0_col0\" class=\"data row0 col0\" >logistic_regression</td>\n",
       "      <td id=\"T_c0c79_row0_col1\" class=\"data row0 col1\" >0.779939</td>\n",
       "      <td id=\"T_c0c79_row0_col2\" class=\"data row0 col2\" >13259</td>\n",
       "      <td id=\"T_c0c79_row0_col3\" class=\"data row0 col3\" >0.781150</td>\n",
       "      <td id=\"T_c0c79_row0_col4\" class=\"data row0 col4\" >{'feature_selection__max_features': 19, 'logistic__C': 0.021544346900318822, 'logistic__l1_ratio': 0.4, 'logistic__penalty': 'elasticnet', 'logistic__solver': 'saga'}</td>\n",
       "    </tr>\n",
       "    <tr>\n",
       "      <th id=\"T_c0c79_level0_row1\" class=\"row_heading level0 row1\" >1</th>\n",
       "      <td id=\"T_c0c79_row1_col0\" class=\"data row1 col0\" >knn</td>\n",
       "      <td id=\"T_c0c79_row1_col1\" class=\"data row1 col1\" >0.790179</td>\n",
       "      <td id=\"T_c0c79_row1_col2\" class=\"data row1 col2\" >20887</td>\n",
       "      <td id=\"T_c0c79_row1_col3\" class=\"data row1 col3\" >0.787700</td>\n",
       "      <td id=\"T_c0c79_row1_col4\" class=\"data row1 col4\" >{'feature_selection__max_features': 27, 'knn__n_neighbors': 47, 'knn__p': 2, 'knn__weights': 'uniform'}</td>\n",
       "    </tr>\n",
       "    <tr>\n",
       "      <th id=\"T_c0c79_level0_row2\" class=\"row_heading level0 row2\" >2</th>\n",
       "      <td id=\"T_c0c79_row2_col0\" class=\"data row2 col0\" >svm</td>\n",
       "      <td id=\"T_c0c79_row2_col1\" class=\"data row2 col1\" >0.800532</td>\n",
       "      <td id=\"T_c0c79_row2_col2\" class=\"data row2 col2\" >185765</td>\n",
       "      <td id=\"T_c0c79_row2_col3\" class=\"data row2 col3\" >0.799390</td>\n",
       "      <td id=\"T_c0c79_row2_col4\" class=\"data row2 col4\" >{'feature_selection__max_features': 26, 'svm__C': 0.46415888336127775, 'svm__degree': 3, 'svm__kernel': 'poly'}</td>\n",
       "    </tr>\n",
       "    <tr>\n",
       "      <th id=\"T_c0c79_level0_row3\" class=\"row_heading level0 row3\" >3</th>\n",
       "      <td id=\"T_c0c79_row3_col0\" class=\"data row3 col0\" >gnb</td>\n",
       "      <td id=\"T_c0c79_row3_col1\" class=\"data row3 col1\" >0.770624</td>\n",
       "      <td id=\"T_c0c79_row3_col2\" class=\"data row3 col2\" >1013</td>\n",
       "      <td id=\"T_c0c79_row3_col3\" class=\"data row3 col3\" >0.777180</td>\n",
       "      <td id=\"T_c0c79_row3_col4\" class=\"data row3 col4\" >{'feature_selection__max_features': 7, 'gnb__var_smoothing': 0.811130830789689}</td>\n",
       "    </tr>\n",
       "  </tbody>\n",
       "</table>\n"
      ],
      "text/plain": [
       "<pandas.io.formats.style.Styler at 0x1869b725270>"
      ]
     },
     "execution_count": 56,
     "metadata": {},
     "output_type": "execute_result"
    }
   ],
   "source": [
    "df_results = pd.DataFrame(columns=COLUMNS_ANALYSIS_BY_VERSION)\n",
    "NAME_VERSION = \"09\"\n",
    "\n",
    "for model in MODELS:\n",
    "    \n",
    "    if os.path.exists(os.path.join(REPO_MODEL, model + \"__v\" + NAME_VERSION + \".json\")):\n",
    "        with open(os.path.join(REPO_MODEL, model + \"__v\" + NAME_VERSION + \".json\"), \"r\") as file:\n",
    "            data = json.load(file)\n",
    "        df_results = pd.concat([\n",
    "            df_results, \n",
    "            pd.DataFrame({\n",
    "                \"Name_model\": [model], \n",
    "                \"Best_score\": [data[\"best_score\"]],\n",
    "                \"Time_to_tune\": [int(data[\"time_to_tune\"])],\n",
    "                \"Score_kaggle\": [data[\"score_kaggle\"]],\n",
    "                \"Best_params\": [data[\"best_params\"]],\n",
    "            })])\n",
    "      \n",
    "print(DESCRIPTION_VERSIONS.get(NAME_VERSION))\n",
    "df_results.reset_index(inplace=True, drop=True)\n",
    "df_results.style.apply(lambda row: ['background-color: yellow'] * df_results.shape[1] if row.Best_score == max(df_results.Best_score) else ['background-color: white'] * df_results.shape[1], axis=1)"
   ]
  },
  {
   "cell_type": "markdown",
   "id": "d94c9c5b-a939-4c51-a659-70139143c41a",
   "metadata": {
    "jp-MarkdownHeadingCollapsed": true,
    "tags": []
   },
   "source": [
    "#### Version 10"
   ]
  },
  {
   "cell_type": "code",
   "execution_count": 10,
   "id": "9ec8387c-4c14-48eb-8dba-a73b2516b80d",
   "metadata": {},
   "outputs": [
    {
     "name": "stdout",
     "output_type": "stream",
     "text": [
      "Basic feature with feature selection f_classif + pca full\n"
     ]
    },
    {
     "data": {
      "text/html": [
       "<style type=\"text/css\">\n",
       "</style>\n",
       "<table id=\"T_a5c4c\">\n",
       "  <thead>\n",
       "    <tr>\n",
       "      <th class=\"blank level0\" >&nbsp;</th>\n",
       "      <th id=\"T_a5c4c_level0_col0\" class=\"col_heading level0 col0\" >Name_model</th>\n",
       "      <th id=\"T_a5c4c_level0_col1\" class=\"col_heading level0 col1\" >Best_score</th>\n",
       "      <th id=\"T_a5c4c_level0_col2\" class=\"col_heading level0 col2\" >Time_to_tune</th>\n",
       "      <th id=\"T_a5c4c_level0_col3\" class=\"col_heading level0 col3\" >Score_kaggle</th>\n",
       "      <th id=\"T_a5c4c_level0_col4\" class=\"col_heading level0 col4\" >Best_params</th>\n",
       "    </tr>\n",
       "  </thead>\n",
       "  <tbody>\n",
       "  </tbody>\n",
       "</table>\n"
      ],
      "text/plain": [
       "<pandas.io.formats.style.Styler at 0x1e995edca60>"
      ]
     },
     "execution_count": 10,
     "metadata": {},
     "output_type": "execute_result"
    }
   ],
   "source": [
    "df_results = pd.DataFrame(columns=COLUMNS_ANALYSIS_BY_VERSION)\n",
    "NAME_VERSION = \"10\"\n",
    "\n",
    "for model in MODELS:\n",
    "    \n",
    "    if os.path.exists(os.path.join(REPO_MODEL, model + \"__v\" + NAME_VERSION + \".json\")):\n",
    "        with open(os.path.join(REPO_MODEL, model + \"__v\" + NAME_VERSION + \".json\"), \"r\") as file:\n",
    "            data = json.load(file)\n",
    "        df_results = pd.concat([\n",
    "            df_results, \n",
    "            pd.DataFrame({\n",
    "                \"Name_model\": [model], \n",
    "                \"Best_score\": [data[\"best_score\"]],\n",
    "                \"Time_to_tune\": [int(data[\"time_to_tune\"])],\n",
    "                \"Score_kaggle\": [data[\"score_kaggle\"]],\n",
    "                \"Best_params\": [data[\"best_params\"]],\n",
    "            })])\n",
    "        \n",
    "print(DESCRIPTION_VERSIONS.get(NAME_VERSION))\n",
    "df_results.reset_index(inplace=True, drop=True)\n",
    "df_results.style.apply(lambda row: ['background-color: yellow'] * df_results.shape[1] if row.Best_score == max(df_results.Best_score) else ['background-color: white'] * df_results.shape[1], axis=1)"
   ]
  },
  {
   "cell_type": "markdown",
   "id": "2352c7e1-b3df-49b4-bffc-e707a26279e2",
   "metadata": {
    "jp-MarkdownHeadingCollapsed": true,
    "tags": []
   },
   "source": [
    "#### Version 11"
   ]
  },
  {
   "cell_type": "code",
   "execution_count": 10,
   "id": "993ba183-8180-4912-b899-456419b6b4b5",
   "metadata": {},
   "outputs": [
    {
     "name": "stdout",
     "output_type": "stream",
     "text": [
      "Basic feature with feature selection f_classif + pca full\n"
     ]
    },
    {
     "data": {
      "text/html": [
       "<style type=\"text/css\">\n",
       "</style>\n",
       "<table id=\"T_a5c4c\">\n",
       "  <thead>\n",
       "    <tr>\n",
       "      <th class=\"blank level0\" >&nbsp;</th>\n",
       "      <th id=\"T_a5c4c_level0_col0\" class=\"col_heading level0 col0\" >Name_model</th>\n",
       "      <th id=\"T_a5c4c_level0_col1\" class=\"col_heading level0 col1\" >Best_score</th>\n",
       "      <th id=\"T_a5c4c_level0_col2\" class=\"col_heading level0 col2\" >Time_to_tune</th>\n",
       "      <th id=\"T_a5c4c_level0_col3\" class=\"col_heading level0 col3\" >Score_kaggle</th>\n",
       "      <th id=\"T_a5c4c_level0_col4\" class=\"col_heading level0 col4\" >Best_params</th>\n",
       "    </tr>\n",
       "  </thead>\n",
       "  <tbody>\n",
       "  </tbody>\n",
       "</table>\n"
      ],
      "text/plain": [
       "<pandas.io.formats.style.Styler at 0x1e995edca60>"
      ]
     },
     "execution_count": 10,
     "metadata": {},
     "output_type": "execute_result"
    }
   ],
   "source": [
    "df_results = pd.DataFrame(columns=COLUMNS_ANALYSIS_BY_VERSION)\n",
    "NAME_VERSION = \"11\"\n",
    "\n",
    "for model in MODELS:\n",
    "    \n",
    "    if os.path.exists(os.path.join(REPO_MODEL, model + \"__v\" + NAME_VERSION + \".json\")):\n",
    "        with open(os.path.join(REPO_MODEL, model + \"__v\" + NAME_VERSION + \".json\"), \"r\") as file:\n",
    "            data = json.load(file)\n",
    "        df_results = pd.concat([\n",
    "            df_results, \n",
    "            pd.DataFrame({\n",
    "                \"Name_model\": [model], \n",
    "                \"Best_score\": [data[\"best_score\"]],\n",
    "                \"Time_to_tune\": [int(data[\"time_to_tune\"])],\n",
    "                \"Score_kaggle\": [data[\"score_kaggle\"]],\n",
    "                \"Best_params\": [data[\"best_params\"]],\n",
    "            })])\n",
    "        \n",
    "print(DESCRIPTION_VERSIONS.get(NAME_VERSION))\n",
    "df_results.reset_index(inplace=True, drop=True)\n",
    "df_results.style.apply(lambda row: ['background-color: yellow'] * df_results.shape[1] if row.Best_score == max(df_results.Best_score) else ['background-color: white'] * df_results.shape[1], axis=1)"
   ]
  },
  {
   "cell_type": "markdown",
   "id": "18472bc7-ff38-4468-92f9-d842f6a9f615",
   "metadata": {
    "jp-MarkdownHeadingCollapsed": true,
    "tags": []
   },
   "source": [
    "#### Version 12"
   ]
  },
  {
   "cell_type": "code",
   "execution_count": 10,
   "id": "4e8158b8-7d7e-4165-8f97-b8fcac72ba00",
   "metadata": {},
   "outputs": [
    {
     "name": "stdout",
     "output_type": "stream",
     "text": [
      "Basic feature with feature selection f_classif + pca full\n"
     ]
    },
    {
     "data": {
      "text/html": [
       "<style type=\"text/css\">\n",
       "</style>\n",
       "<table id=\"T_a5c4c\">\n",
       "  <thead>\n",
       "    <tr>\n",
       "      <th class=\"blank level0\" >&nbsp;</th>\n",
       "      <th id=\"T_a5c4c_level0_col0\" class=\"col_heading level0 col0\" >Name_model</th>\n",
       "      <th id=\"T_a5c4c_level0_col1\" class=\"col_heading level0 col1\" >Best_score</th>\n",
       "      <th id=\"T_a5c4c_level0_col2\" class=\"col_heading level0 col2\" >Time_to_tune</th>\n",
       "      <th id=\"T_a5c4c_level0_col3\" class=\"col_heading level0 col3\" >Score_kaggle</th>\n",
       "      <th id=\"T_a5c4c_level0_col4\" class=\"col_heading level0 col4\" >Best_params</th>\n",
       "    </tr>\n",
       "  </thead>\n",
       "  <tbody>\n",
       "  </tbody>\n",
       "</table>\n"
      ],
      "text/plain": [
       "<pandas.io.formats.style.Styler at 0x1e995edca60>"
      ]
     },
     "execution_count": 10,
     "metadata": {},
     "output_type": "execute_result"
    }
   ],
   "source": [
    "df_results = pd.DataFrame(columns=COLUMNS_ANALYSIS_BY_VERSION)\n",
    "NAME_VERSION = \"12\"\n",
    "\n",
    "for model in MODELS:\n",
    "    \n",
    "    if os.path.exists(os.path.join(REPO_MODEL, model + \"__v\" + NAME_VERSION + \".json\")):\n",
    "        with open(os.path.join(REPO_MODEL, model + \"__v\" + NAME_VERSION + \".json\"), \"r\") as file:\n",
    "            data = json.load(file)\n",
    "        df_results = pd.concat([\n",
    "            df_results, \n",
    "            pd.DataFrame({\n",
    "                \"Name_model\": [model], \n",
    "                \"Best_score\": [data[\"best_score\"]],\n",
    "                \"Time_to_tune\": [int(data[\"time_to_tune\"])],\n",
    "                \"Score_kaggle\": [data[\"score_kaggle\"]],\n",
    "                \"Best_params\": [data[\"best_params\"]],\n",
    "            })])\n",
    "        \n",
    "print(DESCRIPTION_VERSIONS.get(NAME_VERSION))\n",
    "df_results.reset_index(inplace=True, drop=True)\n",
    "df_results.style.apply(lambda row: ['background-color: yellow'] * df_results.shape[1] if row.Best_score == max(df_results.Best_score) else ['background-color: white'] * df_results.shape[1], axis=1)"
   ]
  },
  {
   "cell_type": "markdown",
   "id": "0b7520b9-01cb-4d32-b61a-19ec9620501c",
   "metadata": {
    "jp-MarkdownHeadingCollapsed": true,
    "tags": []
   },
   "source": [
    "#### Version 13"
   ]
  },
  {
   "cell_type": "code",
   "execution_count": 10,
   "id": "1a47436a-38c3-4f3a-8acd-8581560723e6",
   "metadata": {},
   "outputs": [
    {
     "name": "stdout",
     "output_type": "stream",
     "text": [
      "Basic feature with feature selection f_classif + pca full\n"
     ]
    },
    {
     "data": {
      "text/html": [
       "<style type=\"text/css\">\n",
       "</style>\n",
       "<table id=\"T_a5c4c\">\n",
       "  <thead>\n",
       "    <tr>\n",
       "      <th class=\"blank level0\" >&nbsp;</th>\n",
       "      <th id=\"T_a5c4c_level0_col0\" class=\"col_heading level0 col0\" >Name_model</th>\n",
       "      <th id=\"T_a5c4c_level0_col1\" class=\"col_heading level0 col1\" >Best_score</th>\n",
       "      <th id=\"T_a5c4c_level0_col2\" class=\"col_heading level0 col2\" >Time_to_tune</th>\n",
       "      <th id=\"T_a5c4c_level0_col3\" class=\"col_heading level0 col3\" >Score_kaggle</th>\n",
       "      <th id=\"T_a5c4c_level0_col4\" class=\"col_heading level0 col4\" >Best_params</th>\n",
       "    </tr>\n",
       "  </thead>\n",
       "  <tbody>\n",
       "  </tbody>\n",
       "</table>\n"
      ],
      "text/plain": [
       "<pandas.io.formats.style.Styler at 0x1e995edca60>"
      ]
     },
     "execution_count": 10,
     "metadata": {},
     "output_type": "execute_result"
    }
   ],
   "source": [
    "df_results = pd.DataFrame(columns=COLUMNS_ANALYSIS_BY_VERSION)\n",
    "NAME_VERSION = \"13\"\n",
    "\n",
    "for model in MODELS:\n",
    "    \n",
    "    if os.path.exists(os.path.join(REPO_MODEL, model + \"__v\" + NAME_VERSION + \".json\")):\n",
    "        with open(os.path.join(REPO_MODEL, model + \"__v\" + NAME_VERSION + \".json\"), \"r\") as file:\n",
    "            data = json.load(file)\n",
    "        df_results = pd.concat([\n",
    "            df_results, \n",
    "            pd.DataFrame({\n",
    "                \"Name_model\": [model], \n",
    "                \"Best_score\": [data[\"best_score\"]],\n",
    "                \"Time_to_tune\": [int(data[\"time_to_tune\"])],\n",
    "                \"Score_kaggle\": [data[\"score_kaggle\"]],\n",
    "                \"Best_params\": [data[\"best_params\"]],\n",
    "            })])\n",
    "        \n",
    "print(DESCRIPTION_VERSIONS.get(NAME_VERSION))\n",
    "df_results.reset_index(inplace=True, drop=True)\n",
    "df_results.style.apply(lambda row: ['background-color: yellow'] * df_results.shape[1] if row.Best_score == max(df_results.Best_score) else ['background-color: white'] * df_results.shape[1], axis=1)"
   ]
  },
  {
   "cell_type": "markdown",
   "id": "26a9268d-d7b6-4feb-9c7b-0b1142a42ced",
   "metadata": {
    "jp-MarkdownHeadingCollapsed": true,
    "tags": []
   },
   "source": [
    "#### Version 14"
   ]
  },
  {
   "cell_type": "code",
   "execution_count": 10,
   "id": "bab63de2-dd17-4c2a-b134-23a7359600d5",
   "metadata": {},
   "outputs": [
    {
     "name": "stdout",
     "output_type": "stream",
     "text": [
      "Basic feature with feature selection f_classif + pca full\n"
     ]
    },
    {
     "data": {
      "text/html": [
       "<style type=\"text/css\">\n",
       "</style>\n",
       "<table id=\"T_a5c4c\">\n",
       "  <thead>\n",
       "    <tr>\n",
       "      <th class=\"blank level0\" >&nbsp;</th>\n",
       "      <th id=\"T_a5c4c_level0_col0\" class=\"col_heading level0 col0\" >Name_model</th>\n",
       "      <th id=\"T_a5c4c_level0_col1\" class=\"col_heading level0 col1\" >Best_score</th>\n",
       "      <th id=\"T_a5c4c_level0_col2\" class=\"col_heading level0 col2\" >Time_to_tune</th>\n",
       "      <th id=\"T_a5c4c_level0_col3\" class=\"col_heading level0 col3\" >Score_kaggle</th>\n",
       "      <th id=\"T_a5c4c_level0_col4\" class=\"col_heading level0 col4\" >Best_params</th>\n",
       "    </tr>\n",
       "  </thead>\n",
       "  <tbody>\n",
       "  </tbody>\n",
       "</table>\n"
      ],
      "text/plain": [
       "<pandas.io.formats.style.Styler at 0x1e995edca60>"
      ]
     },
     "execution_count": 10,
     "metadata": {},
     "output_type": "execute_result"
    }
   ],
   "source": [
    "df_results = pd.DataFrame(columns=COLUMNS_ANALYSIS_BY_VERSION)\n",
    "NAME_VERSION = \"14\"\n",
    "\n",
    "for model in MODELS:\n",
    "    \n",
    "    if os.path.exists(os.path.join(REPO_MODEL, model + \"__v\" + NAME_VERSION + \".json\")):\n",
    "        with open(os.path.join(REPO_MODEL, model + \"__v\" + NAME_VERSION + \".json\"), \"r\") as file:\n",
    "            data = json.load(file)\n",
    "        df_results = pd.concat([\n",
    "            df_results, \n",
    "            pd.DataFrame({\n",
    "                \"Name_model\": [model], \n",
    "                \"Best_score\": [data[\"best_score\"]],\n",
    "                \"Time_to_tune\": [int(data[\"time_to_tune\"])],\n",
    "                \"Score_kaggle\": [data[\"score_kaggle\"]],\n",
    "                \"Best_params\": [data[\"best_params\"]],\n",
    "            })])\n",
    "        \n",
    "print(DESCRIPTION_VERSIONS.get(NAME_VERSION))\n",
    "df_results.reset_index(inplace=True, drop=True)\n",
    "df_results.style.apply(lambda row: ['background-color: yellow'] * df_results.shape[1] if row.Best_score == max(df_results.Best_score) else ['background-color: white'] * df_results.shape[1], axis=1)"
   ]
  },
  {
   "cell_type": "markdown",
   "id": "5352e1ec-b459-4415-941f-01c9522a3fda",
   "metadata": {
    "jp-MarkdownHeadingCollapsed": true,
    "tags": []
   },
   "source": [
    "#### Version 15"
   ]
  },
  {
   "cell_type": "code",
   "execution_count": 10,
   "id": "d1566069-3add-46b4-a3ef-64b1bccdb72b",
   "metadata": {},
   "outputs": [
    {
     "name": "stdout",
     "output_type": "stream",
     "text": [
      "Basic feature with feature selection f_classif + pca full\n"
     ]
    },
    {
     "data": {
      "text/html": [
       "<style type=\"text/css\">\n",
       "</style>\n",
       "<table id=\"T_a5c4c\">\n",
       "  <thead>\n",
       "    <tr>\n",
       "      <th class=\"blank level0\" >&nbsp;</th>\n",
       "      <th id=\"T_a5c4c_level0_col0\" class=\"col_heading level0 col0\" >Name_model</th>\n",
       "      <th id=\"T_a5c4c_level0_col1\" class=\"col_heading level0 col1\" >Best_score</th>\n",
       "      <th id=\"T_a5c4c_level0_col2\" class=\"col_heading level0 col2\" >Time_to_tune</th>\n",
       "      <th id=\"T_a5c4c_level0_col3\" class=\"col_heading level0 col3\" >Score_kaggle</th>\n",
       "      <th id=\"T_a5c4c_level0_col4\" class=\"col_heading level0 col4\" >Best_params</th>\n",
       "    </tr>\n",
       "  </thead>\n",
       "  <tbody>\n",
       "  </tbody>\n",
       "</table>\n"
      ],
      "text/plain": [
       "<pandas.io.formats.style.Styler at 0x1e995edca60>"
      ]
     },
     "execution_count": 10,
     "metadata": {},
     "output_type": "execute_result"
    }
   ],
   "source": [
    "df_results = pd.DataFrame(columns=COLUMNS_ANALYSIS_BY_VERSION)\n",
    "NAME_VERSION = \"15\"\n",
    "\n",
    "for model in MODELS:\n",
    "    \n",
    "    if os.path.exists(os.path.join(REPO_MODEL, model + \"__v\" + NAME_VERSION + \".json\")):\n",
    "        with open(os.path.join(REPO_MODEL, model + \"__v\" + NAME_VERSION + \".json\"), \"r\") as file:\n",
    "            data = json.load(file)\n",
    "        df_results = pd.concat([\n",
    "            df_results, \n",
    "            pd.DataFrame({\n",
    "                \"Name_model\": [model], \n",
    "                \"Best_score\": [data[\"best_score\"]],\n",
    "                \"Time_to_tune\": [int(data[\"time_to_tune\"])],\n",
    "                \"Score_kaggle\": [data[\"score_kaggle\"]],\n",
    "                \"Best_params\": [data[\"best_params\"]],\n",
    "            })])\n",
    "        \n",
    "print(DESCRIPTION_VERSIONS.get(NAME_VERSION))\n",
    "df_results.reset_index(inplace=True, drop=True)\n",
    "df_results.style.apply(lambda row: ['background-color: yellow'] * df_results.shape[1] if row.Best_score == max(df_results.Best_score) else ['background-color: white'] * df_results.shape[1], axis=1)"
   ]
  },
  {
   "cell_type": "markdown",
   "id": "991939d7-2647-4fde-a936-ececb56cf950",
   "metadata": {
    "jp-MarkdownHeadingCollapsed": true,
    "tags": []
   },
   "source": [
    "#### Version 16"
   ]
  },
  {
   "cell_type": "code",
   "execution_count": 10,
   "id": "e881e9b9-d542-44bc-bb01-2f8a823469a4",
   "metadata": {},
   "outputs": [
    {
     "name": "stdout",
     "output_type": "stream",
     "text": [
      "Basic feature with feature selection f_classif + pca full\n"
     ]
    },
    {
     "data": {
      "text/html": [
       "<style type=\"text/css\">\n",
       "</style>\n",
       "<table id=\"T_a5c4c\">\n",
       "  <thead>\n",
       "    <tr>\n",
       "      <th class=\"blank level0\" >&nbsp;</th>\n",
       "      <th id=\"T_a5c4c_level0_col0\" class=\"col_heading level0 col0\" >Name_model</th>\n",
       "      <th id=\"T_a5c4c_level0_col1\" class=\"col_heading level0 col1\" >Best_score</th>\n",
       "      <th id=\"T_a5c4c_level0_col2\" class=\"col_heading level0 col2\" >Time_to_tune</th>\n",
       "      <th id=\"T_a5c4c_level0_col3\" class=\"col_heading level0 col3\" >Score_kaggle</th>\n",
       "      <th id=\"T_a5c4c_level0_col4\" class=\"col_heading level0 col4\" >Best_params</th>\n",
       "    </tr>\n",
       "  </thead>\n",
       "  <tbody>\n",
       "  </tbody>\n",
       "</table>\n"
      ],
      "text/plain": [
       "<pandas.io.formats.style.Styler at 0x1e995edca60>"
      ]
     },
     "execution_count": 10,
     "metadata": {},
     "output_type": "execute_result"
    }
   ],
   "source": [
    "df_results = pd.DataFrame(columns=COLUMNS_ANALYSIS_BY_VERSION)\n",
    "NAME_VERSION = \"16\"\n",
    "\n",
    "for model in MODELS:\n",
    "    \n",
    "    if os.path.exists(os.path.join(REPO_MODEL, model + \"__v\" + NAME_VERSION + \".json\")):\n",
    "        with open(os.path.join(REPO_MODEL, model + \"__v\" + NAME_VERSION + \".json\"), \"r\") as file:\n",
    "            data = json.load(file)\n",
    "        df_results = pd.concat([\n",
    "            df_results, \n",
    "            pd.DataFrame({\n",
    "                \"Name_model\": [model], \n",
    "                \"Best_score\": [data[\"best_score\"]],\n",
    "                \"Time_to_tune\": [int(data[\"time_to_tune\"])],\n",
    "                \"Score_kaggle\": [data[\"score_kaggle\"]],\n",
    "                \"Best_params\": [data[\"best_params\"]],\n",
    "            })])\n",
    "        \n",
    "print(DESCRIPTION_VERSIONS.get(NAME_VERSION))\n",
    "df_results.reset_index(inplace=True, drop=True)\n",
    "df_results.style.apply(lambda row: ['background-color: yellow'] * df_results.shape[1] if row.Best_score == max(df_results.Best_score) else ['background-color: white'] * df_results.shape[1], axis=1)"
   ]
  },
  {
   "cell_type": "markdown",
   "id": "e2da2388-aaa8-433f-ae59-d88c5e20c0af",
   "metadata": {
    "jp-MarkdownHeadingCollapsed": true,
    "tags": []
   },
   "source": [
    "#### Version 17"
   ]
  },
  {
   "cell_type": "code",
   "execution_count": 10,
   "id": "5f8b01c2-4ad5-4ec7-b2c6-3324c218dda4",
   "metadata": {},
   "outputs": [
    {
     "name": "stdout",
     "output_type": "stream",
     "text": [
      "Basic feature with feature selection f_classif + pca full\n"
     ]
    },
    {
     "data": {
      "text/html": [
       "<style type=\"text/css\">\n",
       "</style>\n",
       "<table id=\"T_a5c4c\">\n",
       "  <thead>\n",
       "    <tr>\n",
       "      <th class=\"blank level0\" >&nbsp;</th>\n",
       "      <th id=\"T_a5c4c_level0_col0\" class=\"col_heading level0 col0\" >Name_model</th>\n",
       "      <th id=\"T_a5c4c_level0_col1\" class=\"col_heading level0 col1\" >Best_score</th>\n",
       "      <th id=\"T_a5c4c_level0_col2\" class=\"col_heading level0 col2\" >Time_to_tune</th>\n",
       "      <th id=\"T_a5c4c_level0_col3\" class=\"col_heading level0 col3\" >Score_kaggle</th>\n",
       "      <th id=\"T_a5c4c_level0_col4\" class=\"col_heading level0 col4\" >Best_params</th>\n",
       "    </tr>\n",
       "  </thead>\n",
       "  <tbody>\n",
       "  </tbody>\n",
       "</table>\n"
      ],
      "text/plain": [
       "<pandas.io.formats.style.Styler at 0x1e995edca60>"
      ]
     },
     "execution_count": 10,
     "metadata": {},
     "output_type": "execute_result"
    }
   ],
   "source": [
    "df_results = pd.DataFrame(columns=COLUMNS_ANALYSIS_BY_VERSION)\n",
    "NAME_VERSION = \"17\"\n",
    "\n",
    "for model in MODELS:\n",
    "    \n",
    "    if os.path.exists(os.path.join(REPO_MODEL, model + \"__v\" + NAME_VERSION + \".json\")):\n",
    "        with open(os.path.join(REPO_MODEL, model + \"__v\" + NAME_VERSION + \".json\"), \"r\") as file:\n",
    "            data = json.load(file)\n",
    "        df_results = pd.concat([\n",
    "            df_results, \n",
    "            pd.DataFrame({\n",
    "                \"Name_model\": [model], \n",
    "                \"Best_score\": [data[\"best_score\"]],\n",
    "                \"Time_to_tune\": [int(data[\"time_to_tune\"])],\n",
    "                \"Score_kaggle\": [data[\"score_kaggle\"]],\n",
    "                \"Best_params\": [data[\"best_params\"]],\n",
    "            })])\n",
    "        \n",
    "print(DESCRIPTION_VERSIONS.get(NAME_VERSION))\n",
    "df_results.reset_index(inplace=True, drop=True)\n",
    "df_results.style.apply(lambda row: ['background-color: yellow'] * df_results.shape[1] if row.Best_score == max(df_results.Best_score) else ['background-color: white'] * df_results.shape[1], axis=1)"
   ]
  },
  {
   "cell_type": "markdown",
   "id": "ea119bf2-295f-4891-b2ac-752cc67b6856",
   "metadata": {
    "jp-MarkdownHeadingCollapsed": true,
    "tags": []
   },
   "source": [
    "#### Version 18"
   ]
  },
  {
   "cell_type": "code",
   "execution_count": 10,
   "id": "df89a203-c299-45be-b09b-a1f97535bce8",
   "metadata": {},
   "outputs": [
    {
     "name": "stdout",
     "output_type": "stream",
     "text": [
      "Basic feature with feature selection f_classif + pca full\n"
     ]
    },
    {
     "data": {
      "text/html": [
       "<style type=\"text/css\">\n",
       "</style>\n",
       "<table id=\"T_a5c4c\">\n",
       "  <thead>\n",
       "    <tr>\n",
       "      <th class=\"blank level0\" >&nbsp;</th>\n",
       "      <th id=\"T_a5c4c_level0_col0\" class=\"col_heading level0 col0\" >Name_model</th>\n",
       "      <th id=\"T_a5c4c_level0_col1\" class=\"col_heading level0 col1\" >Best_score</th>\n",
       "      <th id=\"T_a5c4c_level0_col2\" class=\"col_heading level0 col2\" >Time_to_tune</th>\n",
       "      <th id=\"T_a5c4c_level0_col3\" class=\"col_heading level0 col3\" >Score_kaggle</th>\n",
       "      <th id=\"T_a5c4c_level0_col4\" class=\"col_heading level0 col4\" >Best_params</th>\n",
       "    </tr>\n",
       "  </thead>\n",
       "  <tbody>\n",
       "  </tbody>\n",
       "</table>\n"
      ],
      "text/plain": [
       "<pandas.io.formats.style.Styler at 0x1e995edca60>"
      ]
     },
     "execution_count": 10,
     "metadata": {},
     "output_type": "execute_result"
    }
   ],
   "source": [
    "df_results = pd.DataFrame(columns=COLUMNS_ANALYSIS_BY_VERSION)\n",
    "NAME_VERSION = \"18\"\n",
    "\n",
    "for model in MODELS:\n",
    "    \n",
    "    if os.path.exists(os.path.join(REPO_MODEL, model + \"__v\" + NAME_VERSION + \".json\")):\n",
    "        with open(os.path.join(REPO_MODEL, model + \"__v\" + NAME_VERSION + \".json\"), \"r\") as file:\n",
    "            data = json.load(file)\n",
    "        df_results = pd.concat([\n",
    "            df_results, \n",
    "            pd.DataFrame({\n",
    "                \"Name_model\": [model], \n",
    "                \"Best_score\": [data[\"best_score\"]],\n",
    "                \"Time_to_tune\": [int(data[\"time_to_tune\"])],\n",
    "                \"Score_kaggle\": [data[\"score_kaggle\"]],\n",
    "                \"Best_params\": [data[\"best_params\"]],\n",
    "            })])\n",
    "        \n",
    "print(DESCRIPTION_VERSIONS.get(NAME_VERSION))\n",
    "df_results.reset_index(inplace=True, drop=True)\n",
    "df_results.style.apply(lambda row: ['background-color: yellow'] * df_results.shape[1] if row.Best_score == max(df_results.Best_score) else ['background-color: white'] * df_results.shape[1], axis=1)"
   ]
  },
  {
   "cell_type": "markdown",
   "id": "0394260d",
   "metadata": {
    "jp-MarkdownHeadingCollapsed": true,
    "tags": []
   },
   "source": [
    "## ------------------------------------------------------------------------------------------------------------"
   ]
  },
  {
   "cell_type": "code",
   "execution_count": 57,
   "id": "4329a52f",
   "metadata": {},
   "outputs": [],
   "source": [
    "from titanic_spaceship_package.preprocessor import preprocessor\n",
    "from datetime import datetime\n",
    "\n",
    "X = preprocessor.fit_transform(X_train)"
   ]
  },
  {
   "cell_type": "code",
   "execution_count": null,
   "id": "4482aed6",
   "metadata": {},
   "outputs": [],
   "source": [
    "from lightautoml.automl.presets.tabular_presets import TabularAutoML, TabularUtilizedAutoML\n",
    "from lightautoml.tasks import Task\n",
    "from sklearn.metrics import accuracy_score"
   ]
  },
  {
   "cell_type": "code",
   "execution_count": null,
   "id": "caa23f62",
   "metadata": {},
   "outputs": [],
   "source": [
    "def accuracy_metric(y_true, y_pred):\n",
    "    return accuracy_score(y_true, (y_pred > 0.5).astype(int))\n",
    "\n",
    "task = Task('binary', metric = accuracy_metric)"
   ]
  },
  {
   "cell_type": "code",
   "execution_count": null,
   "id": "59bc8ef0",
   "metadata": {},
   "outputs": [],
   "source": [
    "roles = {'target': 'Transported'}"
   ]
  },
  {
   "cell_type": "markdown",
   "id": "cbd5cef5-1f7a-4876-8f3b-feaa879b73fb",
   "metadata": {
    "jp-MarkdownHeadingCollapsed": true,
    "tags": []
   },
   "source": [
    "## ------------------------------------------------------------------------------------------------------------"
   ]
  }
 ],
 "metadata": {
  "kernelspec": {
   "display_name": "Python 3 (ipykernel)",
   "language": "python",
   "name": "python3"
  },
  "language_info": {
   "codemirror_mode": {
    "name": "ipython",
    "version": 3
   },
   "file_extension": ".py",
   "mimetype": "text/x-python",
   "name": "python",
   "nbconvert_exporter": "python",
   "pygments_lexer": "ipython3",
   "version": "3.10.4"
  }
 },
 "nbformat": 4,
 "nbformat_minor": 5
}
