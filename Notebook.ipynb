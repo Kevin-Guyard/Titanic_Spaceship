{
 "cells": [
  {
   "cell_type": "markdown",
   "id": "4ee1ff69",
   "metadata": {
    "tags": []
   },
   "source": [
    "# Titanic spaceship kaggle competition"
   ]
  },
  {
   "cell_type": "code",
   "execution_count": 1,
   "id": "2872a581",
   "metadata": {},
   "outputs": [],
   "source": [
    "import numpy as np\n",
    "import pandas as pd\n",
    "import kaggle\n",
    "import seaborn as sns\n",
    "import matplotlib.pyplot as plt\n",
    "import os"
   ]
  },
  {
   "cell_type": "code",
   "execution_count": 2,
   "id": "e9b61f1c",
   "metadata": {},
   "outputs": [],
   "source": [
    "REPO_DATA = 'data'\n",
    "REPO_DATA_PREPROCESSED = 'data_preprocessed'\n",
    "REPO_MODEL_TUNING = 'model_tuning'\n",
    "REPO_SUBMISSION = 'submission'"
   ]
  },
  {
   "cell_type": "code",
   "execution_count": null,
   "id": "1a388117-5911-435e-89ee-412999ef17be",
   "metadata": {},
   "outputs": [],
   "source": [
    "if not path.os.exists(REPO_DATA):\n",
    "    os.mkdirs(REPO_DATA)\n",
    "if not path.os.exists(REPO_DATA_PREPROCESSED):\n",
    "    os.mkdirs(REPO_DATA_PREPROCESSED)\n",
    "if not path.os.exists(REPO_MODEL_TUNING):\n",
    "    os.mkdirs(REPO_MODEL_TUNING)\n",
    "if not path.os.exists(REPO_SUBMISSION):\n",
    "    os.mkdirs(REPO_SUBMISSION)"
   ]
  },
  {
   "cell_type": "markdown",
   "id": "1d495cbc",
   "metadata": {
    "jp-MarkdownHeadingCollapsed": true,
    "tags": []
   },
   "source": [
    "## 1. Load data"
   ]
  },
  {
   "cell_type": "code",
   "execution_count": 3,
   "id": "b1933638",
   "metadata": {},
   "outputs": [],
   "source": [
    "import zipfile\n",
    "\n",
    "if not os.path.exists(os.path.join(REPO_DATA, 'spaceship-titanic.zip')) \\\n",
    "or not os.path.exists(os.path.join(REPO_DATA, 'train.csv')) \\\n",
    "or not os.path.exists(os.path.join(REPO_DATA, 'test.csv')) \\\n",
    "or not os.path.exists(os.path.join(REPO_DATA, 'sample_submission.csv')):\n",
    "    \n",
    "    !kaggle competitions download -c spaceship-titanic -p $REPO_DATA\n",
    "    \n",
    "    with zipfile.ZipFile(os.path.join(REPO_DATA, 'spaceship-titanic.zip'), 'r') as zip_ref:\n",
    "        zip_ref.extractall(REPO_DATA)\n",
    "        \n",
    "df_train = pd.read_csv(os.path.join(REPO_DATA, 'train.csv'))\n",
    "df_test = pd.read_csv(os.path.join(REPO_DATA, 'test.csv'))"
   ]
  },
  {
   "cell_type": "code",
   "execution_count": 4,
   "id": "3a088c3a",
   "metadata": {
    "tags": []
   },
   "outputs": [
    {
     "data": {
      "text/html": [
       "<div>\n",
       "<style scoped>\n",
       "    .dataframe tbody tr th:only-of-type {\n",
       "        vertical-align: middle;\n",
       "    }\n",
       "\n",
       "    .dataframe tbody tr th {\n",
       "        vertical-align: top;\n",
       "    }\n",
       "\n",
       "    .dataframe thead th {\n",
       "        text-align: right;\n",
       "    }\n",
       "</style>\n",
       "<table border=\"1\" class=\"dataframe\">\n",
       "  <thead>\n",
       "    <tr style=\"text-align: right;\">\n",
       "      <th></th>\n",
       "      <th>PassengerId</th>\n",
       "      <th>HomePlanet</th>\n",
       "      <th>CryoSleep</th>\n",
       "      <th>Cabin</th>\n",
       "      <th>Destination</th>\n",
       "      <th>Age</th>\n",
       "      <th>VIP</th>\n",
       "      <th>RoomService</th>\n",
       "      <th>FoodCourt</th>\n",
       "      <th>ShoppingMall</th>\n",
       "      <th>Spa</th>\n",
       "      <th>VRDeck</th>\n",
       "      <th>Name</th>\n",
       "      <th>Transported</th>\n",
       "    </tr>\n",
       "  </thead>\n",
       "  <tbody>\n",
       "    <tr>\n",
       "      <th>0</th>\n",
       "      <td>0001_01</td>\n",
       "      <td>Europa</td>\n",
       "      <td>False</td>\n",
       "      <td>B/0/P</td>\n",
       "      <td>TRAPPIST-1e</td>\n",
       "      <td>39.0</td>\n",
       "      <td>False</td>\n",
       "      <td>0.0</td>\n",
       "      <td>0.0</td>\n",
       "      <td>0.0</td>\n",
       "      <td>0.0</td>\n",
       "      <td>0.0</td>\n",
       "      <td>Maham Ofracculy</td>\n",
       "      <td>False</td>\n",
       "    </tr>\n",
       "    <tr>\n",
       "      <th>1</th>\n",
       "      <td>0002_01</td>\n",
       "      <td>Earth</td>\n",
       "      <td>False</td>\n",
       "      <td>F/0/S</td>\n",
       "      <td>TRAPPIST-1e</td>\n",
       "      <td>24.0</td>\n",
       "      <td>False</td>\n",
       "      <td>109.0</td>\n",
       "      <td>9.0</td>\n",
       "      <td>25.0</td>\n",
       "      <td>549.0</td>\n",
       "      <td>44.0</td>\n",
       "      <td>Juanna Vines</td>\n",
       "      <td>True</td>\n",
       "    </tr>\n",
       "    <tr>\n",
       "      <th>2</th>\n",
       "      <td>0003_01</td>\n",
       "      <td>Europa</td>\n",
       "      <td>False</td>\n",
       "      <td>A/0/S</td>\n",
       "      <td>TRAPPIST-1e</td>\n",
       "      <td>58.0</td>\n",
       "      <td>True</td>\n",
       "      <td>43.0</td>\n",
       "      <td>3576.0</td>\n",
       "      <td>0.0</td>\n",
       "      <td>6715.0</td>\n",
       "      <td>49.0</td>\n",
       "      <td>Altark Susent</td>\n",
       "      <td>False</td>\n",
       "    </tr>\n",
       "    <tr>\n",
       "      <th>3</th>\n",
       "      <td>0003_02</td>\n",
       "      <td>Europa</td>\n",
       "      <td>False</td>\n",
       "      <td>A/0/S</td>\n",
       "      <td>TRAPPIST-1e</td>\n",
       "      <td>33.0</td>\n",
       "      <td>False</td>\n",
       "      <td>0.0</td>\n",
       "      <td>1283.0</td>\n",
       "      <td>371.0</td>\n",
       "      <td>3329.0</td>\n",
       "      <td>193.0</td>\n",
       "      <td>Solam Susent</td>\n",
       "      <td>False</td>\n",
       "    </tr>\n",
       "  </tbody>\n",
       "</table>\n",
       "</div>"
      ],
      "text/plain": [
       "  PassengerId HomePlanet CryoSleep  Cabin  Destination   Age    VIP  \\\n",
       "0     0001_01     Europa     False  B/0/P  TRAPPIST-1e  39.0  False   \n",
       "1     0002_01      Earth     False  F/0/S  TRAPPIST-1e  24.0  False   \n",
       "2     0003_01     Europa     False  A/0/S  TRAPPIST-1e  58.0   True   \n",
       "3     0003_02     Europa     False  A/0/S  TRAPPIST-1e  33.0  False   \n",
       "\n",
       "   RoomService  FoodCourt  ShoppingMall     Spa  VRDeck             Name  \\\n",
       "0          0.0        0.0           0.0     0.0     0.0  Maham Ofracculy   \n",
       "1        109.0        9.0          25.0   549.0    44.0     Juanna Vines   \n",
       "2         43.0     3576.0           0.0  6715.0    49.0    Altark Susent   \n",
       "3          0.0     1283.0         371.0  3329.0   193.0     Solam Susent   \n",
       "\n",
       "   Transported  \n",
       "0        False  \n",
       "1         True  \n",
       "2        False  \n",
       "3        False  "
      ]
     },
     "execution_count": 4,
     "metadata": {},
     "output_type": "execute_result"
    }
   ],
   "source": [
    "df_train.head(4)"
   ]
  },
  {
   "cell_type": "code",
   "execution_count": 5,
   "id": "d0571901",
   "metadata": {},
   "outputs": [
    {
     "data": {
      "text/html": [
       "<div>\n",
       "<style scoped>\n",
       "    .dataframe tbody tr th:only-of-type {\n",
       "        vertical-align: middle;\n",
       "    }\n",
       "\n",
       "    .dataframe tbody tr th {\n",
       "        vertical-align: top;\n",
       "    }\n",
       "\n",
       "    .dataframe thead th {\n",
       "        text-align: right;\n",
       "    }\n",
       "</style>\n",
       "<table border=\"1\" class=\"dataframe\">\n",
       "  <thead>\n",
       "    <tr style=\"text-align: right;\">\n",
       "      <th></th>\n",
       "      <th>PassengerId</th>\n",
       "      <th>HomePlanet</th>\n",
       "      <th>CryoSleep</th>\n",
       "      <th>Cabin</th>\n",
       "      <th>Destination</th>\n",
       "      <th>Age</th>\n",
       "      <th>VIP</th>\n",
       "      <th>RoomService</th>\n",
       "      <th>FoodCourt</th>\n",
       "      <th>ShoppingMall</th>\n",
       "      <th>Spa</th>\n",
       "      <th>VRDeck</th>\n",
       "      <th>Name</th>\n",
       "    </tr>\n",
       "  </thead>\n",
       "  <tbody>\n",
       "    <tr>\n",
       "      <th>0</th>\n",
       "      <td>0013_01</td>\n",
       "      <td>Earth</td>\n",
       "      <td>True</td>\n",
       "      <td>G/3/S</td>\n",
       "      <td>TRAPPIST-1e</td>\n",
       "      <td>27.0</td>\n",
       "      <td>False</td>\n",
       "      <td>0.0</td>\n",
       "      <td>0.0</td>\n",
       "      <td>0.0</td>\n",
       "      <td>0.0</td>\n",
       "      <td>0.0</td>\n",
       "      <td>Nelly Carsoning</td>\n",
       "    </tr>\n",
       "    <tr>\n",
       "      <th>1</th>\n",
       "      <td>0018_01</td>\n",
       "      <td>Earth</td>\n",
       "      <td>False</td>\n",
       "      <td>F/4/S</td>\n",
       "      <td>TRAPPIST-1e</td>\n",
       "      <td>19.0</td>\n",
       "      <td>False</td>\n",
       "      <td>0.0</td>\n",
       "      <td>9.0</td>\n",
       "      <td>0.0</td>\n",
       "      <td>2823.0</td>\n",
       "      <td>0.0</td>\n",
       "      <td>Lerome Peckers</td>\n",
       "    </tr>\n",
       "    <tr>\n",
       "      <th>2</th>\n",
       "      <td>0019_01</td>\n",
       "      <td>Europa</td>\n",
       "      <td>True</td>\n",
       "      <td>C/0/S</td>\n",
       "      <td>55 Cancri e</td>\n",
       "      <td>31.0</td>\n",
       "      <td>False</td>\n",
       "      <td>0.0</td>\n",
       "      <td>0.0</td>\n",
       "      <td>0.0</td>\n",
       "      <td>0.0</td>\n",
       "      <td>0.0</td>\n",
       "      <td>Sabih Unhearfus</td>\n",
       "    </tr>\n",
       "    <tr>\n",
       "      <th>3</th>\n",
       "      <td>0021_01</td>\n",
       "      <td>Europa</td>\n",
       "      <td>False</td>\n",
       "      <td>C/1/S</td>\n",
       "      <td>TRAPPIST-1e</td>\n",
       "      <td>38.0</td>\n",
       "      <td>False</td>\n",
       "      <td>0.0</td>\n",
       "      <td>6652.0</td>\n",
       "      <td>0.0</td>\n",
       "      <td>181.0</td>\n",
       "      <td>585.0</td>\n",
       "      <td>Meratz Caltilter</td>\n",
       "    </tr>\n",
       "  </tbody>\n",
       "</table>\n",
       "</div>"
      ],
      "text/plain": [
       "  PassengerId HomePlanet CryoSleep  Cabin  Destination   Age    VIP  \\\n",
       "0     0013_01      Earth      True  G/3/S  TRAPPIST-1e  27.0  False   \n",
       "1     0018_01      Earth     False  F/4/S  TRAPPIST-1e  19.0  False   \n",
       "2     0019_01     Europa      True  C/0/S  55 Cancri e  31.0  False   \n",
       "3     0021_01     Europa     False  C/1/S  TRAPPIST-1e  38.0  False   \n",
       "\n",
       "   RoomService  FoodCourt  ShoppingMall     Spa  VRDeck              Name  \n",
       "0          0.0        0.0           0.0     0.0     0.0   Nelly Carsoning  \n",
       "1          0.0        9.0           0.0  2823.0     0.0    Lerome Peckers  \n",
       "2          0.0        0.0           0.0     0.0     0.0   Sabih Unhearfus  \n",
       "3          0.0     6652.0           0.0   181.0   585.0  Meratz Caltilter  "
      ]
     },
     "execution_count": 5,
     "metadata": {},
     "output_type": "execute_result"
    }
   ],
   "source": [
    "df_test.head(4)"
   ]
  },
  {
   "cell_type": "code",
   "execution_count": 6,
   "id": "12669cc5",
   "metadata": {},
   "outputs": [
    {
     "name": "stdout",
     "output_type": "stream",
     "text": [
      "There is 8693 rows and 14 columns in the train dataframe.\n",
      "There is 4277 rows and 13 columns in the test dataframe.\n"
     ]
    }
   ],
   "source": [
    "print(\"There is {n_rows_train} rows and {n_cols_train} columns in the train dataframe.\"\n",
    "      .format(n_rows_train=df_train.shape[0], n_cols_train=df_train.shape[1]))\n",
    "print(\"There is {n_rows_test} rows and {n_cols_test} columns in the test dataframe.\"\n",
    "      .format(n_rows_test=df_test.shape[0], n_cols_test=df_test.shape[1]))"
   ]
  },
  {
   "cell_type": "markdown",
   "id": "0226b5db",
   "metadata": {
    "jp-MarkdownHeadingCollapsed": true,
    "tags": []
   },
   "source": [
    "## 2. Features engineering"
   ]
  },
  {
   "cell_type": "code",
   "execution_count": 7,
   "id": "2dd536bb",
   "metadata": {},
   "outputs": [
    {
     "data": {
      "text/plain": [
       "Index(['PassengerId', 'HomePlanet', 'CryoSleep', 'Cabin', 'Destination', 'Age',\n",
       "       'VIP', 'RoomService', 'FoodCourt', 'ShoppingMall', 'Spa', 'VRDeck',\n",
       "       'Name', 'Transported'],\n",
       "      dtype='object')"
      ]
     },
     "execution_count": 7,
     "metadata": {},
     "output_type": "execute_result"
    }
   ],
   "source": [
    "df_train.columns"
   ]
  },
  {
   "cell_type": "markdown",
   "id": "391e6a14",
   "metadata": {},
   "source": [
    "**TODO MISSING VALUE**\n",
    "\n",
    "- Deal with missing value in HomePlanet (actually handled by hot encoding with nan)\n",
    "- Deal with missing value in Cabin (actually handled by hot encoding with nan)\n",
    "- Deal with missing value in CryoSleep (actually handled by hot encoding with nan)\n",
    "- Deal with missing value in Destination (actually handled by hot encoding with nan)\n",
    "- Deal with missing value in Age (actually fill with mean)\n",
    "- Deal with missing value in VIP (actually handled by hot encoding with nan)\n",
    "- Deal with missing value in RoomService (actually fill with 0)\n",
    "- Deal with missing value in FoodCourt (actually fill with 0)\n",
    "- Deal with missing value in ShoppingMall (actually fill with 0)\n",
    "- Deal with missing value in Spa (actually fill with 0)\n",
    "- Deal with missing value in VRDeck (actually fill with 0)"
   ]
  },
  {
   "cell_type": "markdown",
   "id": "1ce582bf",
   "metadata": {
    "jp-MarkdownHeadingCollapsed": true,
    "tags": []
   },
   "source": [
    "### 2.1. PassengerId"
   ]
  },
  {
   "cell_type": "markdown",
   "id": "8f422854",
   "metadata": {},
   "source": [
    "A unique Id for each passenger. Each Id takes the form gggg_pp where gggg indicates a group the passenger is travelling with and pp is their number within the group. People in a group are often family members, but not always.\n",
    "\n",
    "We will create two features GroupId and PassengerGroupNumber which are respectively gggg and pp from the PassengerId gggg_pp"
   ]
  },
  {
   "cell_type": "code",
   "execution_count": 8,
   "id": "61926dbe",
   "metadata": {},
   "outputs": [],
   "source": [
    "df_train[\"GroupId\"] = df_train.PassengerId.apply(lambda passenger_id: passenger_id.split('_')[0])\n",
    "df_train[\"PassengerGroupNumber\"] = df_train.PassengerId.apply(lambda passenger_id: passenger_id.split('_')[1])\n",
    "\n",
    "df_test[\"GroupId\"] = df_test.PassengerId.apply(lambda passenger_id: passenger_id.split('_')[0])\n",
    "df_test[\"PassengerGroupNumber\"] = df_test.PassengerId.apply(lambda passenger_id: passenger_id.split('_')[1])"
   ]
  },
  {
   "cell_type": "markdown",
   "id": "49743f1e",
   "metadata": {
    "jp-MarkdownHeadingCollapsed": true,
    "tags": []
   },
   "source": [
    "### 2.2. HomePlanet"
   ]
  },
  {
   "cell_type": "markdown",
   "id": "7fe2d227",
   "metadata": {},
   "source": [
    "The planet the passenger departed from, typically their planet of permanent residence."
   ]
  },
  {
   "cell_type": "code",
   "execution_count": 9,
   "id": "c8130455",
   "metadata": {},
   "outputs": [
    {
     "name": "stdout",
     "output_type": "stream",
     "text": [
      "Value for home planet in the train dataframe: \n",
      "  - Europa\n",
      "  - Earth\n",
      "  - Mars\n",
      "  - nan\n",
      "Value for home planet in the test dataframe: \n",
      "  - Earth\n",
      "  - Europa\n",
      "  - Mars\n",
      "  - nan\n"
     ]
    }
   ],
   "source": [
    "print(\"Value for home planet in the train dataframe: \\n  - \" + \"\\n  - \"\n",
    "      .join([str(planet) for planet in df_train.HomePlanet.unique()]))\n",
    "print(\"Value for home planet in the test dataframe: \\n  - \" + \"\\n  - \"\n",
    "      .join([str(planet) for planet in df_test.HomePlanet.unique()]))"
   ]
  },
  {
   "cell_type": "code",
   "execution_count": 10,
   "id": "c6953b99",
   "metadata": {},
   "outputs": [
    {
     "name": "stdout",
     "output_type": "stream",
     "text": [
      "There is 2.31 % of missing value in the train dataframe and 2.03 % in the test dataframe.\n"
     ]
    }
   ],
   "source": [
    "print(\"There is {train_na:.2f} % of missing value in the train dataframe and {test_na:.2f} % in the test dataframe.\"\n",
    "      .format(train_na=df_train.HomePlanet.isna().mean() * 100.0, test_na=df_test.HomePlanet.isna().mean() * 100.0))"
   ]
  },
  {
   "cell_type": "markdown",
   "id": "01b22fd8",
   "metadata": {},
   "source": [
    "We will need to fill missing value. First intuition is that if passenger are from the same group (i.e. same GroupId), they come from the same HomePlanet. Let's check this."
   ]
  },
  {
   "cell_type": "code",
   "execution_count": 11,
   "id": "75743ba5",
   "metadata": {},
   "outputs": [
    {
     "name": "stdout",
     "output_type": "stream",
     "text": [
      "In existing value, passenger of the same group come from the same home planet: True.\n"
     ]
    }
   ],
   "source": [
    "print(\"In existing value, passenger of the same group come from the same home planet: {assertion}.\"\n",
    "     .format(assertion=pd.get_dummies(pd.concat([df_train, df_test])[pd.concat([df_train, df_test]).HomePlanet.notna()][[\"GroupId\", \"HomePlanet\"]], columns=[\"HomePlanet\"]) \\\n",
    "                         .groupby(by=[\"GroupId\"], axis=0, as_index=False) \\\n",
    "                         .mean() \\\n",
    "                         .apply(lambda row: True if row.HomePlanet_Earth == 1.0 or row.HomePlanet_Europa == 1.0 or row.HomePlanet_Mars == 1.0 else False, axis=1) \\\n",
    "                         .mean() == 1.0))"
   ]
  },
  {
   "cell_type": "markdown",
   "id": "0b2eb54f",
   "metadata": {},
   "source": [
    "As we can see in existing value, passenger of same group come from the same home planet. Thus, we will fill missing value with value of passenger within the same group."
   ]
  },
  {
   "cell_type": "code",
   "execution_count": 12,
   "id": "5b683c60",
   "metadata": {},
   "outputs": [],
   "source": [
    "group_home_planet_mapping = {row.GroupId: row.HomePlanet for _, row in pd.concat([df_train, df_test]) \\\n",
    "                                                                         .groupby(by=[\"GroupId\"], axis=0, as_index=False)[\"HomePlanet\"] \\\n",
    "                                                                         .first()\n",
    "                                                                         .iterrows()}\n",
    "\n",
    "df_train[\"HomePlanet\"] = df_train.apply(lambda row: row.HomePlanet if pd.notna(row.HomePlanet) else group_home_planet_mapping.get(row.GroupId, row.HomePlanet), axis=1)\n",
    "df_test[\"HomePlanet\"] = df_test.apply(lambda row: row.HomePlanet if pd.notna(row.HomePlanet) else group_home_planet_mapping.get(row.GroupId, row.HomePlanet), axis=1)"
   ]
  },
  {
   "cell_type": "code",
   "execution_count": 13,
   "id": "85916eb8",
   "metadata": {},
   "outputs": [
    {
     "name": "stdout",
     "output_type": "stream",
     "text": [
      "There is 1.28 % of missing value in the train dataframe and 1.08 % in the test dataframe.\n"
     ]
    }
   ],
   "source": [
    "print(\"There is {train_na:.2f} % of missing value in the train dataframe and {test_na:.2f} % in the test dataframe.\"\n",
    "      .format(train_na=df_train.HomePlanet.isna().mean() * 100.0, test_na=df_test.HomePlanet.isna().mean() * 100.0))"
   ]
  },
  {
   "cell_type": "markdown",
   "id": "72007019",
   "metadata": {},
   "source": [
    "However, we do not have information for any passenger with missing value (i.e. all the passengers of a group have missing value or a passanger alone in a group)."
   ]
  },
  {
   "cell_type": "code",
   "execution_count": 14,
   "id": "960638f6",
   "metadata": {},
   "outputs": [
    {
     "data": {
      "text/html": [
       "<div>\n",
       "<style scoped>\n",
       "    .dataframe tbody tr th:only-of-type {\n",
       "        vertical-align: middle;\n",
       "    }\n",
       "\n",
       "    .dataframe tbody tr th {\n",
       "        vertical-align: top;\n",
       "    }\n",
       "\n",
       "    .dataframe thead th {\n",
       "        text-align: right;\n",
       "    }\n",
       "</style>\n",
       "<table border=\"1\" class=\"dataframe\">\n",
       "  <thead>\n",
       "    <tr style=\"text-align: right;\">\n",
       "      <th></th>\n",
       "      <th></th>\n",
       "    </tr>\n",
       "    <tr>\n",
       "      <th>CabinDeck</th>\n",
       "      <th>HomePlanet</th>\n",
       "    </tr>\n",
       "  </thead>\n",
       "  <tbody>\n",
       "    <tr>\n",
       "      <th>A</th>\n",
       "      <th>Europa</th>\n",
       "    </tr>\n",
       "    <tr>\n",
       "      <th>B</th>\n",
       "      <th>Europa</th>\n",
       "    </tr>\n",
       "    <tr>\n",
       "      <th>C</th>\n",
       "      <th>Europa</th>\n",
       "    </tr>\n",
       "    <tr>\n",
       "      <th rowspan=\"2\" valign=\"top\">D</th>\n",
       "      <th>Europa</th>\n",
       "    </tr>\n",
       "    <tr>\n",
       "      <th>Mars</th>\n",
       "    </tr>\n",
       "    <tr>\n",
       "      <th rowspan=\"3\" valign=\"top\">E</th>\n",
       "      <th>Earth</th>\n",
       "    </tr>\n",
       "    <tr>\n",
       "      <th>Europa</th>\n",
       "    </tr>\n",
       "    <tr>\n",
       "      <th>Mars</th>\n",
       "    </tr>\n",
       "    <tr>\n",
       "      <th rowspan=\"2\" valign=\"top\">F</th>\n",
       "      <th>Earth</th>\n",
       "    </tr>\n",
       "    <tr>\n",
       "      <th>Mars</th>\n",
       "    </tr>\n",
       "    <tr>\n",
       "      <th>G</th>\n",
       "      <th>Earth</th>\n",
       "    </tr>\n",
       "    <tr>\n",
       "      <th>T</th>\n",
       "      <th>Europa</th>\n",
       "    </tr>\n",
       "  </tbody>\n",
       "</table>\n",
       "</div>"
      ],
      "text/plain": [
       "Empty DataFrame\n",
       "Columns: []\n",
       "Index: [(A, Europa), (B, Europa), (C, Europa), (D, Europa), (D, Mars), (E, Earth), (E, Europa), (E, Mars), (F, Earth), (F, Mars), (G, Earth), (T, Europa)]"
      ]
     },
     "execution_count": 14,
     "metadata": {},
     "output_type": "execute_result"
    }
   ],
   "source": [
    "df = pd.concat([df_train, df_test])\n",
    "df.reset_index(drop=True, inplace=True)\n",
    "df[\"CabinDeck\"] = df[df.Cabin.notna()].Cabin.apply(lambda cabin: cabin.split('/')[0])\n",
    "df[df.HomePlanet.notna()][['HomePlanet', 'CabinDeck']].groupby(by=['CabinDeck', 'HomePlanet']).count()"
   ]
  },
  {
   "cell_type": "markdown",
   "id": "98356849",
   "metadata": {},
   "source": [
    "As we can see, cabin deck A, B, C, T are exclusive to Europa and G to Earth"
   ]
  },
  {
   "cell_type": "code",
   "execution_count": 15,
   "id": "ac0cfe93",
   "metadata": {},
   "outputs": [],
   "source": [
    "def complete_missing_home_planet_using_deck(row):\n",
    "    if pd.notna(row.HomePlanet):\n",
    "        home_planet = row.HomePlanet\n",
    "    elif pd.isna(row.Cabin):\n",
    "        home_planet = row.HomePlanet\n",
    "    elif row.Cabin.split('/')[0] in ['A', 'B', 'C', 'T']:\n",
    "        home_planet = 'Europa'\n",
    "    elif row.Cabin.split('/')[0] in ['G']:\n",
    "        home_planet = 'Earth'\n",
    "    else:\n",
    "        home_planet = row.HomePlanet\n",
    "    return home_planet\n",
    "\n",
    "df_train.HomePlanet = df_train.apply(complete_missing_home_planet_using_deck, axis=1)\n",
    "df_test.HomePlanet = df_test.apply(complete_missing_home_planet_using_deck, axis=1)"
   ]
  },
  {
   "cell_type": "code",
   "execution_count": 16,
   "id": "1479f077",
   "metadata": {},
   "outputs": [
    {
     "name": "stdout",
     "output_type": "stream",
     "text": [
      "There is 0.72 % of missing value in the train dataframe and 0.72 % in the test dataframe.\n"
     ]
    }
   ],
   "source": [
    "print(\"There is {train_na:.2f} % of missing value in the train dataframe and {test_na:.2f} % in the test dataframe.\"\n",
    "      .format(train_na=df_train.HomePlanet.isna().mean() * 100.0, test_na=df_test.HomePlanet.isna().mean() * 100.0))"
   ]
  },
  {
   "cell_type": "markdown",
   "id": "7c0c9d56",
   "metadata": {
    "jp-MarkdownHeadingCollapsed": true,
    "tags": []
   },
   "source": [
    "### 2.3. Cabin"
   ]
  },
  {
   "cell_type": "markdown",
   "id": "ddd6db12",
   "metadata": {},
   "source": [
    "The cabin number where the passenger is staying. Takes the form deck/num/side, where side can be either P for Port or S for Starboard."
   ]
  },
  {
   "cell_type": "code",
   "execution_count": 17,
   "id": "d04b82ec",
   "metadata": {},
   "outputs": [
    {
     "name": "stdout",
     "output_type": "stream",
     "text": [
      "There is 2.29 % of missing value in the train dataframe and 2.34 % in the test dataframe.\n"
     ]
    }
   ],
   "source": [
    "print(\"There is {train_na:.2f} % of missing value in the train dataframe and {test_na:.2f} % in the test dataframe.\"\n",
    "      .format(train_na=df_train.Cabin.isna().mean() * 100.0, test_na=df_test.Cabin.isna().mean() * 100.0))"
   ]
  },
  {
   "cell_type": "markdown",
   "id": "1774744a",
   "metadata": {},
   "source": [
    "We will assume that missing cabin is that passenger do not have cabin"
   ]
  },
  {
   "cell_type": "code",
   "execution_count": 18,
   "id": "ad5f6a72",
   "metadata": {},
   "outputs": [],
   "source": [
    "df_train[\"CabinDeck\"] = df_train.Cabin.apply(lambda cabin: cabin.split('/')[0] if pd.notna(cabin) else cabin)\n",
    "df_train[\"CabinNum\"] = df_train.Cabin.apply(lambda cabin: cabin.split('/')[1] if pd.notna(cabin) else cabin)\n",
    "df_train[\"CabinSide\"] = df_train.Cabin.apply(lambda cabin: cabin.split('/')[2] if pd.notna(cabin) else cabin)\n",
    "df_train[\"HasACabin\"] = df_train.Cabin.apply(lambda cabin: True if pd.notna(cabin) else False)\n",
    "\n",
    "df_test[\"CabinDeck\"] = df_test.Cabin.apply(lambda cabin: cabin.split('/')[0] if pd.notna(cabin) else cabin)\n",
    "df_test[\"CabinNum\"] = df_test.Cabin.apply(lambda cabin: cabin.split('/')[1] if pd.notna(cabin) else cabin)\n",
    "df_test[\"CabinSide\"] = df_test.Cabin.apply(lambda cabin: cabin.split('/')[2] if pd.notna(cabin) else cabin)\n",
    "df_test[\"HasACabin\"] = df_test.Cabin.apply(lambda cabin: True if pd.notna(cabin) else False)"
   ]
  },
  {
   "cell_type": "markdown",
   "id": "98f7d989",
   "metadata": {
    "jp-MarkdownHeadingCollapsed": true,
    "tags": []
   },
   "source": [
    "### 2.4. CryoSleep"
   ]
  },
  {
   "cell_type": "markdown",
   "id": "97a5bea6",
   "metadata": {},
   "source": [
    "Indicates whether the passenger elected to be put into suspended animation for the duration of the voyage. Passengers in cryosleep are confined to their cabins"
   ]
  },
  {
   "cell_type": "code",
   "execution_count": 19,
   "id": "cb868610",
   "metadata": {},
   "outputs": [
    {
     "name": "stdout",
     "output_type": "stream",
     "text": [
      "There is 2.50 % of missing value in the train dataframe and 2.17 % in the test dataframe.\n"
     ]
    }
   ],
   "source": [
    "print(\"There is {train_na:.2f} % of missing value in the train dataframe and {test_na:.2f} % in the test dataframe.\"\n",
    "      .format(train_na=df_train.CryoSleep.isna().mean() * 100.0, test_na=df_test.CryoSleep.isna().mean() * 100.0))"
   ]
  },
  {
   "cell_type": "markdown",
   "id": "9f0f67b5",
   "metadata": {
    "jp-MarkdownHeadingCollapsed": true,
    "tags": []
   },
   "source": [
    "### 2.5. Destination"
   ]
  },
  {
   "cell_type": "markdown",
   "id": "28ec8994",
   "metadata": {},
   "source": [
    "The planet the passenger will be debarking to."
   ]
  },
  {
   "cell_type": "code",
   "execution_count": 20,
   "id": "dc744327",
   "metadata": {},
   "outputs": [
    {
     "name": "stdout",
     "output_type": "stream",
     "text": [
      "Value for destination in the train dataframe: \n",
      "  - TRAPPIST-1e\n",
      "  - PSO J318.5-22\n",
      "  - 55 Cancri e\n",
      "  - nan\n",
      "Value for destination in the test dataframe: \n",
      "  - TRAPPIST-1e\n",
      "  - 55 Cancri e\n",
      "  - PSO J318.5-22\n",
      "  - nan\n"
     ]
    }
   ],
   "source": [
    "print(\"Value for destination in the train dataframe: \\n  - \" + \"\\n  - \"\n",
    "      .join([str(destination) for destination in df_train.Destination.unique()]))\n",
    "print(\"Value for destination in the test dataframe: \\n  - \" + \"\\n  - \"\n",
    "      .join([str(destination) for destination in df_test.Destination.unique()]))"
   ]
  },
  {
   "cell_type": "code",
   "execution_count": 21,
   "id": "ed71055e",
   "metadata": {},
   "outputs": [
    {
     "name": "stdout",
     "output_type": "stream",
     "text": [
      "There is 2.09 % of missing value in the train dataframe and 2.15 % in the test dataframe.\n"
     ]
    }
   ],
   "source": [
    "print(\"There is {train_na:.2f} % of missing value in the train dataframe and {test_na:.2f} % in the test dataframe.\"\n",
    "      .format(train_na=df_train.Destination.isna().mean() * 100.0, test_na=df_test.Destination.isna().mean() * 100.0))"
   ]
  },
  {
   "cell_type": "code",
   "execution_count": 22,
   "id": "0d31e96c",
   "metadata": {},
   "outputs": [
    {
     "name": "stdout",
     "output_type": "stream",
     "text": [
      "In existing value, passenger of the same group come from the same destination: False.\n"
     ]
    }
   ],
   "source": [
    "print(\"In existing value, passenger of the same group come from the same destination: {assertion}.\"\n",
    "     .format(assertion=pd.get_dummies(pd.concat([df_train, df_test])[pd.concat([df_train, df_test]).Destination.notna()][[\"GroupId\", \"Destination\"]], columns=[\"Destination\"]) \\\n",
    "                         .groupby(by=[\"GroupId\"], axis=0, as_index=False) \\\n",
    "                         .mean() \\\n",
    "                         .apply(lambda row: True if row[\"Destination_TRAPPIST-1e\"] == 1.0 or row[\"Destination_55 Cancri e\"] == 1.0 or row[\"Destination_PSO J318.5-22\"] == 1.0 else False, axis=1) \\\n",
    "                         .mean() == 1.0))"
   ]
  },
  {
   "cell_type": "markdown",
   "id": "c93fd0e5",
   "metadata": {
    "jp-MarkdownHeadingCollapsed": true,
    "tags": []
   },
   "source": [
    "### 2.6. Age"
   ]
  },
  {
   "cell_type": "markdown",
   "id": "b8524e45",
   "metadata": {},
   "source": [
    "The age of the passenger."
   ]
  },
  {
   "cell_type": "code",
   "execution_count": 23,
   "id": "e71a2b25",
   "metadata": {},
   "outputs": [
    {
     "name": "stdout",
     "output_type": "stream",
     "text": [
      "There is 2.06 % of missing value in the train dataframe and 2.13 % in the test dataframe.\n"
     ]
    }
   ],
   "source": [
    "print(\"There is {train_na:.2f} % of missing value in the train dataframe and {test_na:.2f} % in the test dataframe.\"\n",
    "      .format(train_na=df_train.Age.isna().mean() * 100.0, test_na=df_test.Age.isna().mean() * 100.0))"
   ]
  },
  {
   "cell_type": "markdown",
   "id": "53f9ec27",
   "metadata": {},
   "source": [
    "For the moment we will fill missing age with the mean of the age"
   ]
  },
  {
   "cell_type": "code",
   "execution_count": 24,
   "id": "8f0399f7",
   "metadata": {},
   "outputs": [],
   "source": [
    "mean_age = pd.concat([df_train, df_test]).Age.mean()\n",
    "df_train.Age = df_train.Age.fillna(mean_age)\n",
    "df_test.Age = df_test.Age.fillna(mean_age)"
   ]
  },
  {
   "cell_type": "markdown",
   "id": "02ad235d",
   "metadata": {
    "jp-MarkdownHeadingCollapsed": true,
    "tags": []
   },
   "source": [
    "### 2.7. VIP"
   ]
  },
  {
   "cell_type": "markdown",
   "id": "90db3707",
   "metadata": {},
   "source": [
    "Whether the passenger has paid for special VIP service during the voyage."
   ]
  },
  {
   "cell_type": "code",
   "execution_count": 25,
   "id": "1f99751b",
   "metadata": {},
   "outputs": [
    {
     "name": "stdout",
     "output_type": "stream",
     "text": [
      "There is 2.34 % of missing value in the train dataframe and 2.17 % in the test dataframe.\n"
     ]
    }
   ],
   "source": [
    "print(\"There is {train_na:.2f} % of missing value in the train dataframe and {test_na:.2f} % in the test dataframe.\"\n",
    "      .format(train_na=df_train.VIP.isna().mean() * 100.0, test_na=df_test.VIP.isna().mean() * 100.0))"
   ]
  },
  {
   "cell_type": "markdown",
   "id": "e3595197",
   "metadata": {
    "jp-MarkdownHeadingCollapsed": true,
    "tags": []
   },
   "source": [
    "### 2.8. RoomService"
   ]
  },
  {
   "cell_type": "markdown",
   "id": "99a0ca8c",
   "metadata": {},
   "source": [
    "Amount the passenger has billed at room service."
   ]
  },
  {
   "cell_type": "code",
   "execution_count": 26,
   "id": "93f857e1",
   "metadata": {},
   "outputs": [
    {
     "name": "stdout",
     "output_type": "stream",
     "text": [
      "There is 2.08 % of missing value in the train dataframe and 1.92 % in the test dataframe.\n"
     ]
    }
   ],
   "source": [
    "print(\"There is {train_na:.2f} % of missing value in the train dataframe and {test_na:.2f} % in the test dataframe.\"\n",
    "      .format(train_na=df_train.RoomService.isna().mean() * 100.0, test_na=df_test.RoomService.isna().mean() * 100.0))"
   ]
  },
  {
   "cell_type": "markdown",
   "id": "23546070",
   "metadata": {},
   "source": [
    "We will create feature based on room service bill fork"
   ]
  },
  {
   "cell_type": "code",
   "execution_count": 27,
   "id": "16093d8a",
   "metadata": {},
   "outputs": [
    {
     "data": {
      "image/png": "[encoded data removed]",
      "text/plain": [
       "<Figure size 427.125x360 with 1 Axes>"
      ]
     },
     "metadata": {
      "needs_background": "light"
     },
     "output_type": "display_data"
    }
   ],
   "source": [
    "df = df_train.copy(deep=False)\n",
    "df.RoomService = df.RoomService.apply(lambda x: np.log(x+1))\n",
    "\n",
    "sns.displot(df, x=\"RoomService\", hue=\"Transported\", kind=\"kde\", fill=True)\n",
    "plt.plot([0.75, 0.75], [0, 0.45])\n",
    "plt.plot([1.75, 1.75], [0, 0.45])\n",
    "plt.plot([5, 5], [0, 0.45])\n",
    "plt.plot([5.5, 5.5], [0, 0.45])\n",
    "plt.plot([6, 6], [0, 0.45])\n",
    "plt.plot([6.5, 6.5], [0, 0.45])\n",
    "plt.plot([7.5, 7.5], [0, 0.45])\n",
    "plt.plot([8, 8], [0, 0.45])\n",
    "plt.show()"
   ]
  },
  {
   "cell_type": "code",
   "execution_count": 28,
   "id": "e1a02369",
   "metadata": {},
   "outputs": [],
   "source": [
    "df_train[\"RoomService_0_2\"] = df_train.RoomService.apply(lambda bill: True if (pd.notna(bill) and bill < 2) else False)\n",
    "df_train[\"RoomService_2_5\"] = df_train.RoomService.apply(lambda bill: True if (pd.notna(bill) and bill < 5 and bill >= 2) else False)\n",
    "df_train[\"RoomService_5_148\"] = df_train.RoomService.apply(lambda bill: True if (pd.notna(bill) and bill < 148 and bill >= 5) else False)\n",
    "df_train[\"RoomService_148_244\"] = df_train.RoomService.apply(lambda bill: True if (pd.notna(bill) and bill < 244 and bill >= 148) else False)\n",
    "df_train[\"RoomService_244_403\"] = df_train.RoomService.apply(lambda bill: True if (pd.notna(bill) and bill < 403 and bill >= 244) else False)\n",
    "df_train[\"RoomService_403_665\"] = df_train.RoomService.apply(lambda bill: True if (pd.notna(bill) and bill < 665 and bill >= 403) else False)\n",
    "df_train[\"RoomService_665_1808\"] = df_train.RoomService.apply(lambda bill: True if (pd.notna(bill) and bill < 1808 and bill >= 665) else False)\n",
    "df_train[\"RoomService_1808_2980\"] = df_train.RoomService.apply(lambda bill: True if (pd.notna(bill) and bill < 2980 and bill >= 1808) else False)\n",
    "df_train[\"RoomService_2980_inf\"] = df_train.RoomService.apply(lambda bill: True if (pd.notna(bill) and bill >=  2980) else False)\n",
    "\n",
    "df_test[\"RoomService_0_2\"] = df_test.RoomService.apply(lambda bill: True if (pd.notna(bill) and bill < 2) else False)\n",
    "df_test[\"RoomService_2_5\"] = df_test.RoomService.apply(lambda bill: True if (pd.notna(bill) and bill < 5 and bill >= 2) else False)\n",
    "df_test[\"RoomService_5_148\"] = df_test.RoomService.apply(lambda bill: True if (pd.notna(bill) and bill < 148 and bill >= 5) else False)\n",
    "df_test[\"RoomService_148_244\"] = df_test.RoomService.apply(lambda bill: True if (pd.notna(bill) and bill < 244 and bill >= 148) else False)\n",
    "df_test[\"RoomService_244_403\"] = df_test.RoomService.apply(lambda bill: True if (pd.notna(bill) and bill < 403 and bill >= 244) else False)\n",
    "df_test[\"RoomService_403_665\"] = df_test.RoomService.apply(lambda bill: True if (pd.notna(bill) and bill < 665 and bill >= 403) else False)\n",
    "df_test[\"RoomService_665_1808\"] = df_test.RoomService.apply(lambda bill: True if (pd.notna(bill) and bill < 1808 and bill >= 665) else False)\n",
    "df_test[\"RoomService_1808_2980\"] = df_test.RoomService.apply(lambda bill: True if (pd.notna(bill) and bill < 2980 and bill >= 1808) else False)\n",
    "df_test[\"RoomService_2980_inf\"] = df_test.RoomService.apply(lambda bill: True if (pd.notna(bill) and bill >=  2980) else False)\n",
    "\n",
    "\n",
    "df_train.RoomService = df_train.RoomService.fillna(0)\n",
    "df_test.RoomService = df_test.RoomService.fillna(0)"
   ]
  },
  {
   "cell_type": "markdown",
   "id": "b3f0124a",
   "metadata": {
    "jp-MarkdownHeadingCollapsed": true,
    "tags": []
   },
   "source": [
    "### 2.9. FoodCourt"
   ]
  },
  {
   "cell_type": "markdown",
   "id": "71240a04",
   "metadata": {},
   "source": [
    "Amount the passenger has billed at food court"
   ]
  },
  {
   "cell_type": "code",
   "execution_count": 29,
   "id": "636534e4",
   "metadata": {},
   "outputs": [
    {
     "name": "stdout",
     "output_type": "stream",
     "text": [
      "There is 2.11 % of missing value in the train dataframe and 2.48 % in the test dataframe.\n"
     ]
    }
   ],
   "source": [
    "print(\"There is {train_na:.2f} % of missing value in the train dataframe and {test_na:.2f} % in the test dataframe.\"\n",
    "      .format(train_na=df_train.FoodCourt.isna().mean() * 100.0, test_na=df_test.FoodCourt.isna().mean() * 100.0))"
   ]
  },
  {
   "cell_type": "code",
   "execution_count": 30,
   "id": "047438af",
   "metadata": {},
   "outputs": [
    {
     "data": {
      "image/png": "[encoded data removed]",
      "text/plain": [
       "<Figure size 593.861x500 with 1 Axes>"
      ]
     },
     "metadata": {},
     "output_type": "display_data"
    }
   ],
   "source": [
    "df = df_train.copy(deep=False)\n",
    "df.FoodCourt = df.FoodCourt.apply(lambda x: np.log(x+1))\n",
    "\n",
    "sns.displot(df, x=\"FoodCourt\", hue=\"Transported\", kind=\"kde\", fill=True)\n",
    "plt.plot([1, 1], [0, 0.3])\n",
    "plt.plot([1.75, 1.75], [0, 0.3])\n",
    "plt.plot([7, 7], [0, 0.3])\n",
    "plt.plot([7.75, 7.75], [0, 0.3])\n",
    "plt.show()"
   ]
  },
  {
   "cell_type": "code",
   "execution_count": 31,
   "id": "6bddd802",
   "metadata": {},
   "outputs": [],
   "source": [
    "df_train[\"FoodCourt_0_2\"] = df_train.FoodCourt.apply(lambda bill: True if (pd.notna(bill) and bill < 2) else False)\n",
    "df_train[\"FoodCourt_2_5\"] = df_train.FoodCourt.apply(lambda bill: True if (pd.notna(bill) and bill < 5 and bill >= 2) else False)\n",
    "df_train[\"FoodCourt_5_1096\"] = df_train.FoodCourt.apply(lambda bill: True if (pd.notna(bill) and bill < 1096 and bill >= 5) else False)\n",
    "df_train[\"FoodCourt_1096_2321\"] = df_train.FoodCourt.apply(lambda bill: True if (pd.notna(bill) and bill < 2321 and bill >= 1096) else False)\n",
    "df_train[\"FoodCourt_2321_inf\"] = df_train.FoodCourt.apply(lambda bill: True if (pd.notna(bill) and bill >= 2321) else False)\n",
    "\n",
    "df_test[\"FoodCourt_0_2\"] = df_test.FoodCourt.apply(lambda bill: True if (pd.notna(bill) and bill < 2) else False)\n",
    "df_test[\"FoodCourt_2_5\"] = df_test.FoodCourt.apply(lambda bill: True if (pd.notna(bill) and bill < 5 and bill >= 2) else False)\n",
    "df_test[\"FoodCourt_5_1096\"] = df_test.FoodCourt.apply(lambda bill: True if (pd.notna(bill) and bill < 1096 and bill >= 5) else False)\n",
    "df_test[\"FoodCourt_1096_2321\"] = df_test.FoodCourt.apply(lambda bill: True if (pd.notna(bill) and bill < 2321 and bill >= 1096) else False)\n",
    "df_test[\"FoodCourt_2321_inf\"] = df_test.FoodCourt.apply(lambda bill: True if (pd.notna(bill) and bill >= 2321) else False)\n",
    "\n",
    "df_train.FoodCourt = df_train.FoodCourt.fillna(0)\n",
    "df_test.FoodCourt = df_test.FoodCourt.fillna(0)"
   ]
  },
  {
   "cell_type": "markdown",
   "id": "ae132385",
   "metadata": {
    "jp-MarkdownHeadingCollapsed": true,
    "tags": []
   },
   "source": [
    "### 2.10. Spa"
   ]
  },
  {
   "cell_type": "markdown",
   "id": "dfe03749",
   "metadata": {},
   "source": [
    "Amount the passenger has billed at shopping mall"
   ]
  },
  {
   "cell_type": "code",
   "execution_count": 32,
   "id": "35381814",
   "metadata": {},
   "outputs": [
    {
     "name": "stdout",
     "output_type": "stream",
     "text": [
      "There is 2.11 % of missing value in the train dataframe and 2.36 % in the test dataframe.\n"
     ]
    }
   ],
   "source": [
    "print(\"There is {train_na:.2f} % of missing value in the train dataframe and {test_na:.2f} % in the test dataframe.\"\n",
    "      .format(train_na=df_train.Spa.isna().mean() * 100.0, test_na=df_test.Spa.isna().mean() * 100.0))"
   ]
  },
  {
   "cell_type": "code",
   "execution_count": 33,
   "id": "70a16fb4",
   "metadata": {},
   "outputs": [
    {
     "data": {
      "image/png": "[encoded data removed]",
      "text/plain": [
       "<Figure size 593.861x500 with 1 Axes>"
      ]
     },
     "metadata": {},
     "output_type": "display_data"
    }
   ],
   "source": [
    "df = df_train.copy(deep=False)\n",
    "df.Spa = df.Spa.apply(lambda x: np.log(x+1))\n",
    "\n",
    "sns.displot(df, x=\"Spa\", hue=\"Transported\", kind=\"kde\", fill=True)\n",
    "plt.plot([1, 1], [0, 0.45])\n",
    "plt.plot([1.75, 1.75], [0, 0.45])\n",
    "plt.plot([4, 4], [0, 0.45])\n",
    "plt.plot([5.5, 5.5], [0, 0.45])\n",
    "plt.plot([6, 6], [0, 0.45])\n",
    "plt.plot([7, 7], [0, 0.45])\n",
    "plt.plot([8, 8], [0, 0.45])\n",
    "plt.show()"
   ]
  },
  {
   "cell_type": "code",
   "execution_count": 34,
   "id": "131b8014",
   "metadata": {},
   "outputs": [],
   "source": [
    "df_train[\"Spa_0_2\"] = df_train.Spa.apply(lambda bill: True if (pd.notna(bill) and bill < 2) else False)\n",
    "df_train[\"Spa_2_5\"] = df_train.Spa.apply(lambda bill: True if (pd.notna(bill) and bill < 5 and bill >= 2) else False)\n",
    "df_train[\"Spa_5_54\"] = df_train.Spa.apply(lambda bill: True if (pd.notna(bill) and bill < 54 and bill >= 5) else False)\n",
    "df_train[\"Spa_54_244\"] = df_train.Spa.apply(lambda bill: True if (pd.notna(bill) and bill < 244 and bill >= 54) else False)\n",
    "df_train[\"Spa_244_403\"] = df_train.Spa.apply(lambda bill: True if (pd.notna(bill) and bill < 403 and bill >= 244) else False)\n",
    "df_train[\"Spa_403_1096\"] = df_train.Spa.apply(lambda bill: True if (pd.notna(bill) and bill < 1096 and bill >= 403) else False)\n",
    "df_train[\"Spa_1096_2980\"] = df_train.Spa.apply(lambda bill: True if (pd.notna(bill) and bill < 2989 and bill >= 1096) else False)\n",
    "df_train[\"Spa_2980_inf\"] = df_train.Spa.apply(lambda bill: True if (pd.notna(bill) and bill >= 2980) else False)\n",
    "\n",
    "df_test[\"Spa_0_2\"] = df_test.Spa.apply(lambda bill: True if (pd.notna(bill) and bill < 2) else False)\n",
    "df_test[\"Spa_2_5\"] = df_test.Spa.apply(lambda bill: True if (pd.notna(bill) and bill < 5 and bill >= 2) else False)\n",
    "df_test[\"Spa_5_54\"] = df_test.Spa.apply(lambda bill: True if (pd.notna(bill) and bill < 54 and bill >= 5) else False)\n",
    "df_test[\"Spa_54_244\"] = df_test.Spa.apply(lambda bill: True if (pd.notna(bill) and bill < 244 and bill >= 54) else False)\n",
    "df_test[\"Spa_244_403\"] = df_test.Spa.apply(lambda bill: True if (pd.notna(bill) and bill < 403 and bill >= 244) else False)\n",
    "df_test[\"Spa_403_1096\"] = df_test.Spa.apply(lambda bill: True if (pd.notna(bill) and bill < 1096 and bill >= 403) else False)\n",
    "df_test[\"Spa_1096_2980\"] = df_test.Spa.apply(lambda bill: True if (pd.notna(bill) and bill < 2989 and bill >= 1096) else False)\n",
    "df_test[\"Spa_2980_inf\"] = df_test.Spa.apply(lambda bill: True if (pd.notna(bill) and bill >= 2980) else False)\n",
    "\n",
    "df_train.Spa = df_train.Spa.fillna(0)\n",
    "df_test.Spa = df_test.Spa.fillna(0)"
   ]
  },
  {
   "cell_type": "markdown",
   "id": "72d46e52",
   "metadata": {
    "jp-MarkdownHeadingCollapsed": true,
    "tags": []
   },
   "source": [
    "### 2.11. ShoppingMall"
   ]
  },
  {
   "cell_type": "markdown",
   "id": "dc800c0a",
   "metadata": {},
   "source": [
    "Amount the passenger has billed at spa"
   ]
  },
  {
   "cell_type": "code",
   "execution_count": 35,
   "id": "449fb74c",
   "metadata": {},
   "outputs": [
    {
     "name": "stdout",
     "output_type": "stream",
     "text": [
      "There is 2.39 % of missing value in the train dataframe and 2.29 % in the test dataframe.\n"
     ]
    }
   ],
   "source": [
    "print(\"There is {train_na:.2f} % of missing value in the train dataframe and {test_na:.2f} % in the test dataframe.\"\n",
    "      .format(train_na=df_train.ShoppingMall.isna().mean() * 100.0, test_na=df_test.ShoppingMall.isna().mean() * 100.0))"
   ]
  },
  {
   "cell_type": "code",
   "execution_count": 36,
   "id": "a526bb77",
   "metadata": {},
   "outputs": [
    {
     "data": {
      "image/png": "[encoded data removed]",
      "text/plain": [
       "<Figure size 593.861x500 with 1 Axes>"
      ]
     },
     "metadata": {},
     "output_type": "display_data"
    }
   ],
   "source": [
    "df = df_train.copy(deep=False)\n",
    "df.ShoppingMall = df.ShoppingMall.apply(lambda x: np.log(x+1))\n",
    "\n",
    "sns.displot(df, x=\"ShoppingMall\", hue=\"Transported\", kind=\"kde\", fill=True)\n",
    "plt.plot([1, 1], [0, 0.35])\n",
    "plt.plot([1.75, 1.75], [0, 0.35])\n",
    "plt.plot([3, 3], [0, 0.35])\n",
    "plt.plot([4, 4], [0, 0.35])\n",
    "plt.plot([5, 5], [0, 0.35])\n",
    "plt.plot([5.5, 5.5], [0, 0.35])\n",
    "plt.plot([6, 6], [0, 0.35])\n",
    "plt.plot([6.5, 6.5], [0, 0.35])\n",
    "plt.plot([7, 7], [0, 0.35])\n",
    "plt.plot([7.5, 7.5], [0, 0.35])\n",
    "plt.show()"
   ]
  },
  {
   "cell_type": "code",
   "execution_count": 37,
   "id": "28afb9d9",
   "metadata": {},
   "outputs": [],
   "source": [
    "df_train[\"ShoppingMall_0_2\"] = df_train.ShoppingMall.apply(lambda bill: True if (pd.notna(bill) and bill < 2) else False)\n",
    "df_train[\"ShoppingMall_2_5\"] = df_train.ShoppingMall.apply(lambda bill: True if (pd.notna(bill) and bill < 5 and bill >= 2) else False)\n",
    "df_train[\"ShoppingMall_5_20\"] = df_train.ShoppingMall.apply(lambda bill: True if (pd.notna(bill) and bill < 20 and bill >= 5) else False)\n",
    "df_train[\"ShoppingMall_20_54\"] = df_train.ShoppingMall.apply(lambda bill: True if (pd.notna(bill) and bill < 54 and bill >= 20) else False)\n",
    "df_train[\"ShoppingMall_54_148\"] = df_train.ShoppingMall.apply(lambda bill: True if (pd.notna(bill) and bill < 148 and bill >= 54) else False)\n",
    "df_train[\"ShoppingMall_148_244\"] = df_train.ShoppingMall.apply(lambda bill: True if (pd.notna(bill) and bill < 244 and bill >= 148) else False)\n",
    "df_train[\"ShoppingMall_244_403\"] = df_train.ShoppingMall.apply(lambda bill: True if (pd.notna(bill) and bill < 244 and bill >= 403) else False)\n",
    "df_train[\"ShoppingMall_403_665\"] = df_train.ShoppingMall.apply(lambda bill: True if (pd.notna(bill) and bill < 665 and bill >= 403) else False)\n",
    "df_train[\"ShoppingMall_665_1096\"] = df_train.ShoppingMall.apply(lambda bill: True if (pd.notna(bill) and bill < 1096 and bill >= 665) else False)\n",
    "df_train[\"ShoppingMall_1096_1808\"] = df_train.ShoppingMall.apply(lambda bill: True if (pd.notna(bill) and bill < 1808 and bill >= 1096) else False)\n",
    "df_train[\"ShoppingMall_1808_inf\"] = df_train.ShoppingMall.apply(lambda bill: True if (pd.notna(bill) and bill >= 1808) else False)\n",
    "\n",
    "df_test[\"ShoppingMall_0_2\"] = df_test.ShoppingMall.apply(lambda bill: True if (pd.notna(bill) and bill < 2) else False)\n",
    "df_test[\"ShoppingMall_2_5\"] = df_test.ShoppingMall.apply(lambda bill: True if (pd.notna(bill) and bill < 5 and bill >= 2) else False)\n",
    "df_test[\"ShoppingMall_5_20\"] = df_test.ShoppingMall.apply(lambda bill: True if (pd.notna(bill) and bill < 20 and bill >= 5) else False)\n",
    "df_test[\"ShoppingMall_20_54\"] = df_test.ShoppingMall.apply(lambda bill: True if (pd.notna(bill) and bill < 54 and bill >= 20) else False)\n",
    "df_test[\"ShoppingMall_54_148\"] = df_test.ShoppingMall.apply(lambda bill: True if (pd.notna(bill) and bill < 148 and bill >= 54) else False)\n",
    "df_test[\"ShoppingMall_148_244\"] = df_test.ShoppingMall.apply(lambda bill: True if (pd.notna(bill) and bill < 244 and bill >= 148) else False)\n",
    "df_test[\"ShoppingMall_244_403\"] = df_test.ShoppingMall.apply(lambda bill: True if (pd.notna(bill) and bill < 244 and bill >= 403) else False)\n",
    "df_test[\"ShoppingMall_403_665\"] = df_test.ShoppingMall.apply(lambda bill: True if (pd.notna(bill) and bill < 665 and bill >= 403) else False)\n",
    "df_test[\"ShoppingMall_665_1096\"] = df_test.ShoppingMall.apply(lambda bill: True if (pd.notna(bill) and bill < 1096 and bill >= 665) else False)\n",
    "df_test[\"ShoppingMall_1096_1808\"] = df_test.ShoppingMall.apply(lambda bill: True if (pd.notna(bill) and bill < 1808 and bill >= 1096) else False)\n",
    "df_test[\"ShoppingMall_1808_inf\"] = df_test.ShoppingMall.apply(lambda bill: True if (pd.notna(bill) and bill >= 1808) else False)\n",
    "\n",
    "df_train.ShoppingMall = df_train.ShoppingMall.fillna(0)\n",
    "df_test.ShoppingMall = df_test.ShoppingMall.fillna(0)"
   ]
  },
  {
   "cell_type": "markdown",
   "id": "eaca767b",
   "metadata": {
    "jp-MarkdownHeadingCollapsed": true,
    "tags": []
   },
   "source": [
    "### 2.12. VRDeck"
   ]
  },
  {
   "cell_type": "markdown",
   "id": "36a650d0",
   "metadata": {},
   "source": [
    "Amount the passenger has billed at vrdeck"
   ]
  },
  {
   "cell_type": "code",
   "execution_count": 38,
   "id": "4b83ae69",
   "metadata": {},
   "outputs": [
    {
     "name": "stdout",
     "output_type": "stream",
     "text": [
      "There is 2.16 % of missing value in the train dataframe and 1.87 % in the test dataframe.\n"
     ]
    }
   ],
   "source": [
    "print(\"There is {train_na:.2f} % of missing value in the train dataframe and {test_na:.2f} % in the test dataframe.\"\n",
    "      .format(train_na=df_train.VRDeck.isna().mean() * 100.0, test_na=df_test.VRDeck.isna().mean() * 100.0))"
   ]
  },
  {
   "cell_type": "code",
   "execution_count": 39,
   "id": "e3358e05",
   "metadata": {},
   "outputs": [
    {
     "data": {
      "image/png": "[encoded data removed]",
      "text/plain": [
       "<Figure size 593.861x500 with 1 Axes>"
      ]
     },
     "metadata": {},
     "output_type": "display_data"
    }
   ],
   "source": [
    "df = df_train.copy(deep=False)\n",
    "df.VRDeck = df.VRDeck.apply(lambda x: np.log(x+1))\n",
    "\n",
    "sns.displot(df, x=\"VRDeck\", hue=\"Transported\", kind=\"kde\", fill=True)\n",
    "plt.plot([1, 1], [0, 0.45])\n",
    "plt.plot([1.75, 1.75], [0, 0.45])\n",
    "plt.plot([4, 4], [0, 0.45])\n",
    "plt.plot([5.5, 5.5], [0, 0.45])\n",
    "plt.plot([6.5, 6.5], [0, 0.45])\n",
    "plt.plot([8, 8], [0, 0.45])\n",
    "plt.show()"
   ]
  },
  {
   "cell_type": "code",
   "execution_count": 40,
   "id": "dacf2f46",
   "metadata": {},
   "outputs": [],
   "source": [
    "df_train[\"VRDeck_0_2\"] = df_train.VRDeck.apply(lambda bill: True if (pd.notna(bill) and bill < 2) else False)\n",
    "df_train[\"VRDeck_2_5\"] = df_train.VRDeck.apply(lambda bill: True if (pd.notna(bill) and bill < 5 and bill >= 2) else False)\n",
    "df_train[\"VRDeck_5_54\"] = df_train.VRDeck.apply(lambda bill: True if (pd.notna(bill) and bill < 54 and bill >= 5) else False)\n",
    "df_train[\"VRDeck_54_244\"] = df_train.VRDeck.apply(lambda bill: True if (pd.notna(bill) and bill < 244 and bill >= 54) else False)\n",
    "df_train[\"VRDeck_244_665\"] = df_train.VRDeck.apply(lambda bill: True if (pd.notna(bill) and bill < 665 and bill >= 244) else False)\n",
    "df_train[\"VRDeck_665_2980\"] = df_train.VRDeck.apply(lambda bill: True if (pd.notna(bill) and bill < 2980 and bill >= 665) else False)\n",
    "df_train[\"VRDeck_2980_inff\"] = df_train.VRDeck.apply(lambda bill: True if (pd.notna(bill) and bill >= 2980) else False)\n",
    "\n",
    "df_test[\"VRDeck_0_2\"] = df_test.VRDeck.apply(lambda bill: True if (pd.notna(bill) and bill < 2) else False)\n",
    "df_test[\"VRDeck_2_5\"] = df_test.VRDeck.apply(lambda bill: True if (pd.notna(bill) and bill < 5 and bill >= 2) else False)\n",
    "df_test[\"VRDeck_5_54\"] = df_test.VRDeck.apply(lambda bill: True if (pd.notna(bill) and bill < 54 and bill >= 5) else False)\n",
    "df_test[\"VRDeck_54_244\"] = df_test.VRDeck.apply(lambda bill: True if (pd.notna(bill) and bill < 244 and bill >= 54) else False)\n",
    "df_test[\"VRDeck_244_665\"] = df_test.VRDeck.apply(lambda bill: True if (pd.notna(bill) and bill < 665 and bill >= 244) else False)\n",
    "df_test[\"VRDeck_665_2980\"] = df_test.VRDeck.apply(lambda bill: True if (pd.notna(bill) and bill < 2980 and bill >= 665) else False)\n",
    "df_test[\"VRDeck_2980_inff\"] = df_test.VRDeck.apply(lambda bill: True if (pd.notna(bill) and bill >= 2980) else False)\n",
    "\n",
    "df_train.VRDeck = df_train.VRDeck.fillna(0)\n",
    "df_test.VRDeck = df_test.VRDeck.fillna(0)"
   ]
  },
  {
   "cell_type": "markdown",
   "id": "b2395f3f",
   "metadata": {
    "jp-MarkdownHeadingCollapsed": true,
    "tags": []
   },
   "source": [
    "### 2.13. LuxuryService"
   ]
  },
  {
   "cell_type": "markdown",
   "id": "abcd4f5a",
   "metadata": {},
   "source": [
    "We will create a feature based on the sum of amount bill over the 5 luxury service available"
   ]
  },
  {
   "cell_type": "code",
   "execution_count": 41,
   "id": "14404cdd",
   "metadata": {},
   "outputs": [],
   "source": [
    "df_train[\"LuxuryService\"] = df_train.RoomService + df_train.FoodCourt + df_train.VRDeck + df_train.Spa + df_train.ShoppingMall\n",
    "df_test[\"LuxuryService\"] = df_test.RoomService + df_test.FoodCourt + df_test.VRDeck + df_test.Spa + df_test.ShoppingMall"
   ]
  },
  {
   "cell_type": "code",
   "execution_count": 42,
   "id": "7bf6ed86",
   "metadata": {},
   "outputs": [
    {
     "data": {
      "image/png": "[encoded data removed]",
      "text/plain": [
       "<Figure size 593.861x500 with 1 Axes>"
      ]
     },
     "metadata": {},
     "output_type": "display_data"
    }
   ],
   "source": [
    "df = df_train.copy(deep=False)\n",
    "df.LuxuryService = df.LuxuryService.apply(lambda x: np.log(x+1))\n",
    "\n",
    "sns.displot(df, x=\"LuxuryService\", hue=\"Transported\", kind=\"kde\", fill=True)\n",
    "plt.plot([1, 1], [0, 0.2])\n",
    "plt.plot([2, 2], [0, 0.2])\n",
    "plt.plot([5, 5], [0, 0.2])\n",
    "plt.plot([5.5, 5.5], [0, 0.2])\n",
    "plt.plot([6, 6], [0, 0.2])\n",
    "plt.plot([6.5, 6.5], [0, 0.2])\n",
    "plt.plot([7, 7], [0, 0.2])\n",
    "plt.plot([7.5, 7.5], [0, 0.2])\n",
    "plt.plot([8, 8], [0, 0.2])\n",
    "plt.plot([8.5, 8.5], [0, 0.2])\n",
    "plt.plot([9, 9], [0, 0.2])\n",
    "plt.plot([9.5, 9.5], [0, 0.2])\n",
    "plt.plot([10, 10], [0, 0.2])\n",
    "plt.plot([10.5, 10.5], [0, 0.2])\n",
    "plt.show()"
   ]
  },
  {
   "cell_type": "code",
   "execution_count": 43,
   "id": "1ca85408",
   "metadata": {},
   "outputs": [],
   "source": [
    "df_train[\"LuxuryService_0_2\"] = df_train.LuxuryService.apply(lambda bill: True if (pd.notna(bill) and bill < 2) else False)\n",
    "df_train[\"LuxuryService_2_7\"] = df_train.LuxuryService.apply(lambda bill: True if (pd.notna(bill) and bill < 7 and bill >= 2) else False)\n",
    "df_train[\"LuxuryService_7_148\"] = df_train.LuxuryService.apply(lambda bill: True if (pd.notna(bill) and bill < 148 and bill >= 7) else False)\n",
    "df_train[\"LuxuryService_148_244\"] = df_train.LuxuryService.apply(lambda bill: True if (pd.notna(bill) and bill < 244 and bill >= 148) else False)\n",
    "df_train[\"LuxuryService_244_403\"] = df_train.LuxuryService.apply(lambda bill: True if (pd.notna(bill) and bill < 403 and bill >= 244) else False)\n",
    "df_train[\"LuxuryService_403_665\"] = df_train.LuxuryService.apply(lambda bill: True if (pd.notna(bill) and bill < 665 and bill >= 403) else False)\n",
    "df_train[\"LuxuryService_665_1096\"] = df_train.LuxuryService.apply(lambda bill: True if (pd.notna(bill) and bill < 1096 and bill >= 665) else False)\n",
    "df_train[\"LuxuryService_1096_1808\"] = df_train.LuxuryService.apply(lambda bill: True if (pd.notna(bill) and bill < 1808 and bill >= 1096) else False)\n",
    "df_train[\"LuxuryService_1808_2980\"] = df_train.LuxuryService.apply(lambda bill: True if (pd.notna(bill) and bill < 2980 and bill >= 1808) else False)\n",
    "df_train[\"LuxuryService_2980_4914\"] = df_train.LuxuryService.apply(lambda bill: True if (pd.notna(bill) and bill < 4914 and bill >= 2980) else False)\n",
    "df_train[\"LuxuryService_4914_8103\"] = df_train.LuxuryService.apply(lambda bill: True if (pd.notna(bill) and bill < 8103 and bill >= 4914) else False)\n",
    "df_train[\"LuxuryService_8103_13359\"] = df_train.LuxuryService.apply(lambda bill: True if (pd.notna(bill) and bill < 13359 and bill >= 8103) else False)\n",
    "df_train[\"LuxuryService_13359_22026\"] = df_train.LuxuryService.apply(lambda bill: True if (pd.notna(bill) and bill < 22026 and bill >= 13359) else False)\n",
    "df_train[\"LuxuryService_22026_36315\"] = df_train.LuxuryService.apply(lambda bill: True if (pd.notna(bill) and bill < 36315 and bill >= 22026) else False)\n",
    "df_train[\"LuxuryService_36315_inf\"] = df_train.LuxuryService.apply(lambda bill: True if (pd.notna(bill) and bill >= 36315) else False)\n",
    "\n",
    "df_test[\"LuxuryService_0_2\"] = df_test.LuxuryService.apply(lambda bill: True if (pd.notna(bill) and bill < 2) else False)\n",
    "df_test[\"LuxuryService_2_7\"] = df_test.LuxuryService.apply(lambda bill: True if (pd.notna(bill) and bill < 7 and bill >= 2) else False)\n",
    "df_test[\"LuxuryService_7_148\"] = df_test.LuxuryService.apply(lambda bill: True if (pd.notna(bill) and bill < 148 and bill >= 7) else False)\n",
    "df_test[\"LuxuryService_148_244\"] = df_test.LuxuryService.apply(lambda bill: True if (pd.notna(bill) and bill < 244 and bill >= 148) else False)\n",
    "df_test[\"LuxuryService_244_403\"] = df_test.LuxuryService.apply(lambda bill: True if (pd.notna(bill) and bill < 403 and bill >= 244) else False)\n",
    "df_test[\"LuxuryService_403_665\"] = df_test.LuxuryService.apply(lambda bill: True if (pd.notna(bill) and bill < 665 and bill >= 403) else False)\n",
    "df_test[\"LuxuryService_665_1096\"] = df_test.LuxuryService.apply(lambda bill: True if (pd.notna(bill) and bill < 1096 and bill >= 665) else False)\n",
    "df_test[\"LuxuryService_1096_1808\"] = df_test.LuxuryService.apply(lambda bill: True if (pd.notna(bill) and bill < 1808 and bill >= 1096) else False)\n",
    "df_test[\"LuxuryService_1808_2980\"] = df_test.LuxuryService.apply(lambda bill: True if (pd.notna(bill) and bill < 2980 and bill >= 1808) else False)\n",
    "df_test[\"LuxuryService_2980_4914\"] = df_test.LuxuryService.apply(lambda bill: True if (pd.notna(bill) and bill < 4914 and bill >= 2980) else False)\n",
    "df_test[\"LuxuryService_4914_8103\"] = df_test.LuxuryService.apply(lambda bill: True if (pd.notna(bill) and bill < 8103 and bill >= 4914) else False)\n",
    "df_test[\"LuxuryService_8103_13359\"] = df_test.LuxuryService.apply(lambda bill: True if (pd.notna(bill) and bill < 13359 and bill >= 8103) else False)\n",
    "df_test[\"LuxuryService_13359_22026\"] = df_test.LuxuryService.apply(lambda bill: True if (pd.notna(bill) and bill < 22026 and bill >= 13359) else False)\n",
    "df_test[\"LuxuryService_22026_36315\"] = df_test.LuxuryService.apply(lambda bill: True if (pd.notna(bill) and bill < 36315 and bill >= 22026) else False)\n",
    "df_test[\"LuxuryService_36315_inf\"] = df_test.LuxuryService.apply(lambda bill: True if (pd.notna(bill) and bill >= 36315) else False)"
   ]
  },
  {
   "cell_type": "markdown",
   "id": "a0544408",
   "metadata": {
    "jp-MarkdownHeadingCollapsed": true,
    "tags": []
   },
   "source": [
    "### 2.14. Name"
   ]
  },
  {
   "cell_type": "markdown",
   "id": "860d029c",
   "metadata": {},
   "source": [
    "The first and last names of the passenger."
   ]
  },
  {
   "cell_type": "code",
   "execution_count": 44,
   "id": "0f31d019",
   "metadata": {},
   "outputs": [
    {
     "name": "stdout",
     "output_type": "stream",
     "text": [
      "There is 2.30 % of missing value in the train dataframe and 2.20 % in the test dataframe.\n"
     ]
    }
   ],
   "source": [
    "print(\"There is {train_na:.2f} % of missing value in the train dataframe and {test_na:.2f} % in the test dataframe.\"\n",
    "      .format(train_na=df_train.Name.isna().mean() * 100.0, test_na=df_test.Name.isna().mean() * 100.0))"
   ]
  },
  {
   "cell_type": "markdown",
   "id": "bd7bbeae",
   "metadata": {},
   "source": [
    "We will not deal with name since there is a lot of chance that GroupId handle family information and there is few chance that name carry information on the target"
   ]
  },
  {
   "cell_type": "markdown",
   "id": "f737a66d",
   "metadata": {
    "jp-MarkdownHeadingCollapsed": true,
    "tags": []
   },
   "source": [
    "## 3. Data preprocessing"
   ]
  },
  {
   "cell_type": "markdown",
   "id": "c7290a52",
   "metadata": {},
   "source": [
    "**TODO PREPROCESSING**\n",
    "\n",
    "- Gaussian for Age, RoomService, FoodCourt, ShoppingMall, Spa, VRDeck, LuxuryService\n",
    "- See if droped features help"
   ]
  },
  {
   "cell_type": "markdown",
   "id": "8fa4f672",
   "metadata": {
    "jp-MarkdownHeadingCollapsed": true,
    "tags": []
   },
   "source": [
    "### 3.1. Hot encoding"
   ]
  },
  {
   "cell_type": "code",
   "execution_count": 45,
   "id": "08c46d79",
   "metadata": {},
   "outputs": [],
   "source": [
    "df_train = pd.get_dummies(df_train, columns=[\"HomePlanet\", \"Destination\", \"CryoSleep\", \"VIP\", \"CabinDeck\", \"CabinSide\"])\n",
    "df_test = pd.get_dummies(df_test, columns=[\"HomePlanet\", \"Destination\", \"CryoSleep\", \"VIP\", \"CabinDeck\", \"CabinSide\"])"
   ]
  },
  {
   "cell_type": "markdown",
   "id": "73406e8a",
   "metadata": {
    "jp-MarkdownHeadingCollapsed": true,
    "tags": []
   },
   "source": [
    "### 3.2. Apply log transformation"
   ]
  },
  {
   "cell_type": "code",
   "execution_count": 46,
   "id": "e2546cd5",
   "metadata": {},
   "outputs": [],
   "source": [
    "df_train.RoomService = df_train.RoomService.apply(lambda bill: np.log(bill+1))\n",
    "df_train.FoodCourt = df_train.FoodCourt.apply(lambda bill: np.log(bill+1))\n",
    "df_train.ShoppingMall = df_train.ShoppingMall.apply(lambda bill: np.log(bill+1))\n",
    "df_train.Spa = df_train.Spa.apply(lambda bill: np.log(bill+1))\n",
    "df_train.VRDeck = df_train.VRDeck.apply(lambda bill: np.log(bill+1))\n",
    "df_train.LuxuryService = df_train.LuxuryService.apply(lambda bill: np.log(bill+1))\n",
    "\n",
    "df_test.RoomService = df_test.RoomService.apply(lambda bill: np.log(bill+1))\n",
    "df_test.FoodCourt = df_test.FoodCourt.apply(lambda bill: np.log(bill+1))\n",
    "df_test.ShoppingMall = df_test.ShoppingMall.apply(lambda bill: np.log(bill+1))\n",
    "df_test.Spa = df_test.Spa.apply(lambda bill: np.log(bill+1))\n",
    "df_test.VRDeck = df_test.VRDeck.apply(lambda bill: np.log(bill+1))\n",
    "df_test.LuxuryService = df_test.LuxuryService.apply(lambda bill: np.log(bill+1))"
   ]
  },
  {
   "cell_type": "markdown",
   "id": "d39a11cb",
   "metadata": {
    "jp-MarkdownHeadingCollapsed": true,
    "tags": []
   },
   "source": [
    "### 3.3. Standardization"
   ]
  },
  {
   "cell_type": "code",
   "execution_count": 47,
   "id": "e976479a",
   "metadata": {},
   "outputs": [],
   "source": [
    "mean_dict = {\n",
    "    \"RoomService\": df_train.RoomService.mean(),\n",
    "    \"FoodCourt\": df_train.FoodCourt.mean(),\n",
    "    \"ShoppingMall\": df_train.ShoppingMall.mean(),\n",
    "    \"Spa\": df_train.Spa.mean(),\n",
    "    \"VRDeck\": df_train.VRDeck.mean(),\n",
    "    \"LuxuryService\": df_train.LuxuryService.mean(),\n",
    "    \"Age\": df_train.Age.mean(),\n",
    "}\n",
    "\n",
    "std_dict = {\n",
    "    \"RoomService\": df_train.RoomService.std(),\n",
    "    \"FoodCourt\": df_train.FoodCourt.std(),\n",
    "    \"ShoppingMall\": df_train.ShoppingMall.std(),\n",
    "    \"Spa\": df_train.Spa.std(),\n",
    "    \"VRDeck\": df_train.VRDeck.std(),\n",
    "    \"LuxuryService\": df_train.LuxuryService.std(),\n",
    "    \"Age\": df_train.Age.std(),\n",
    "}\n",
    "\n",
    "for feature in [\"RoomService\", \"FoodCourt\", \"ShoppingMall\", \"Spa\", \"VRDeck\", \"LuxuryService\", \"Age\"]:\n",
    "    df_train[feature] = (df_train[feature] - mean_dict[feature]) / std_dict[feature]\n",
    "    df_test[feature] = (df_test[feature] - mean_dict[feature]) / std_dict[feature]"
   ]
  },
  {
   "cell_type": "markdown",
   "id": "f79bc96d",
   "metadata": {
    "jp-MarkdownHeadingCollapsed": true,
    "tags": []
   },
   "source": [
    "### 3.4. Drop useless features"
   ]
  },
  {
   "cell_type": "code",
   "execution_count": 48,
   "id": "d129386b",
   "metadata": {},
   "outputs": [],
   "source": [
    "df_train.drop(labels=[\"Cabin\", \"Name\", \"GroupId\", \"PassengerGroupNumber\", \"CabinNum\"], axis=1, inplace=True)\n",
    "df_test.drop(labels=[\"Cabin\", \"Name\", \"GroupId\", \"PassengerGroupNumber\", \"CabinNum\"], axis=1, inplace=True)"
   ]
  },
  {
   "cell_type": "markdown",
   "id": "684ff72f",
   "metadata": {
    "jp-MarkdownHeadingCollapsed": true,
    "tags": []
   },
   "source": [
    "### 3.5. Convert bool dtype to int64"
   ]
  },
  {
   "cell_type": "code",
   "execution_count": 49,
   "id": "870d9ec8",
   "metadata": {},
   "outputs": [],
   "source": [
    "for feature in df_train.columns:\n",
    "    if df_train[feature].dtype == 'bool':\n",
    "        df_train[feature] = df_train[feature].astype('int64')\n",
    "        if feature != 'Transported':\n",
    "            df_test[feature] = df_test[feature].astype('int64')"
   ]
  },
  {
   "cell_type": "markdown",
   "id": "97a02f35",
   "metadata": {
    "jp-MarkdownHeadingCollapsed": true,
    "tags": []
   },
   "source": [
    "### 3.6. Features decorrelation"
   ]
  },
  {
   "cell_type": "code",
   "execution_count": 50,
   "id": "76c1864e",
   "metadata": {},
   "outputs": [],
   "source": [
    "from sklearn.decomposition import PCA\n",
    "\n",
    "pca = PCA(random_state=42)\n",
    "pca = pca.fit(df_train.drop(columns=[\"PassengerId\", \"Transported\"]))\n",
    "\n",
    "pca_train = pca.transform(df_train.drop(columns=[\"PassengerId\", \"Transported\"]))\n",
    "df_train = pd.DataFrame(pca_train, columns=pca.get_feature_names_out()).merge(df_train[[\"PassengerId\", \"Transported\"]], left_index=True, right_index=True)\n",
    "\n",
    "pca_test = pca.transform(df_test.drop(columns=[\"PassengerId\"]))\n",
    "df_test = pd.DataFrame(pca_test, columns=pca.get_feature_names_out()).merge(df_test[[\"PassengerId\"]], left_index=True, right_index=True)"
   ]
  },
  {
   "cell_type": "markdown",
   "id": "81f6149c",
   "metadata": {
    "jp-MarkdownHeadingCollapsed": true,
    "tags": []
   },
   "source": [
    "### 3.7. Prepare array"
   ]
  },
  {
   "cell_type": "code",
   "execution_count": 51,
   "id": "46c51c50",
   "metadata": {},
   "outputs": [],
   "source": [
    "X_train = df_train.drop(columns=[\"PassengerId\", \"Transported\"])\n",
    "y_train = df_train[\"Transported\"]\n",
    "X_test = df_test.drop(columns=[\"PassengerId\"])\n",
    "list_passenger_id = df_test[\"PassengerId\"]"
   ]
  },
  {
   "cell_type": "code",
   "execution_count": 53,
   "id": "ae992a49",
   "metadata": {},
   "outputs": [],
   "source": [
    "X_train.to_csv(os.path.join(REPO_DATA_PREPROCESSED, \"X_train.csv\"), index=False)\n",
    "y_train.to_csv(os.path.join(REPO_DATA_PREPROCESSED, \"y_train.csv\"), index=False)\n",
    "X_test.to_csv(os.path.join(REPO_DATA_PREPROCESSED, \"X_test.csv\"), index=False)\n",
    "list_passenger_id.to_csv(os.path.join(REPO_DATA_PREPROCESSED, \"list_passenger_id.csv\"), index=False)"
   ]
  },
  {
   "cell_type": "markdown",
   "id": "4b330cca",
   "metadata": {
    "tags": []
   },
   "source": [
    "## 4. Model tuning"
   ]
  },
  {
   "cell_type": "code",
   "execution_count": 3,
   "id": "f8fadccd",
   "metadata": {},
   "outputs": [],
   "source": [
    "X_train = pd.read_csv(os.path.join(REPO_DATA_PREPROCESSED, \"X_train.csv\"))\n",
    "y_train = pd.read_csv(os.path.join(REPO_DATA_PREPROCESSED, \"y_train.csv\"))[\"Transported\"]\n",
    "X_test = pd.read_csv(os.path.join(REPO_DATA_PREPROCESSED, \"X_test.csv\"))\n",
    "list_passenger_id = pd.read_csv(os.path.join(REPO_DATA_PREPROCESSED, \"list_passenger_id.csv\"))[\"PassengerId\"]"
   ]
  },
  {
   "cell_type": "code",
   "execution_count": 4,
   "id": "6c52a764",
   "metadata": {},
   "outputs": [],
   "source": [
    "from sklearn.model_selection import GridSearchCV\n",
    "import json\n",
    "\n",
    "def feature_selection(estimator, param_grid, X_train, y_train, repo_model_tuning, name_model):\n",
    "    \n",
    "    clf = GridSearchCV(estimator=estimator, \n",
    "                       param_grid=param_grid, \n",
    "                       scoring='accuracy', \n",
    "                       n_jobs=-1, \n",
    "                       refit=False, \n",
    "                       cv=10)\n",
    "    \n",
    "    selected_features = []\n",
    "    actual_score = 0\n",
    "    features = list(X_train.columns)\n",
    "\n",
    "    while len(features) > 0:\n",
    "\n",
    "        results_round = []\n",
    "\n",
    "        for feature in features:\n",
    "            clf = clf.fit(X_train[selected_features + [feature]], y_train)\n",
    "            results_round.append((feature, clf.best_score_, clf.best_params_))\n",
    "\n",
    "        best_item = sorted(results_round, key=lambda result: result[1], reverse=True)[0]\n",
    "        best_feature = best_item[0]\n",
    "        best_score = best_item[1]\n",
    "        best_params = best_item[2]\n",
    "\n",
    "        if best_score > actual_score:\n",
    "            selected_features.append(best_feature)\n",
    "            features.remove(best_feature)\n",
    "            actual_score = best_score\n",
    "            param_estimator = best_params \n",
    "        else:\n",
    "            break\n",
    "\n",
    "    results_tuning = {\n",
    "        \"score\": actual_score,\n",
    "        \"features\": selected_features,\n",
    "        \"param_estimator\": param_estimator,\n",
    "    }\n",
    "\n",
    "    with open(os.path.join(repo_model_tuning, name_model + \".json\"), \"w+\") as file_tuning:\n",
    "        json.dump(results_tuning, file_tuning)"
   ]
  },
  {
   "cell_type": "code",
   "execution_count": 5,
   "id": "aee40827",
   "metadata": {},
   "outputs": [],
   "source": [
    "def make_submission(estimator, X_train, y_train, X_test, list_passenger_id, repo_model_tuning, repo_submission, name_model):\n",
    "\n",
    "    with open(os.path.join(repo_model_tuning, name_model + \".json\"), \"r\") as file_tuning:\n",
    "        results_tuning = json.load(file_tuning)\n",
    "\n",
    "    estimator = estimator.set_params(**results_tuning[\"param_estimator\"])\n",
    "    estimator = estimator.fit(X_train, y_train)\n",
    "    y_pred = estimator.predict(X_test).astype(bool)\n",
    "    submission = pd.DataFrame({'PassengerId': list_passenger_id, 'Transported': y_pred})\n",
    "    submission.to_csv(os.path.join(repo_submission, name_model + \".csv\"), index=False)\n",
    "    \n",
    "    FILE = os.path.join(REPO_SUBMISSION, NAME_MODEL + \".csv\")\n",
    "\n",
    "    !kaggle competitions submit -c spaceship-titanic -f $FILE -m $NAME_MODEL"
   ]
  },
  {
   "cell_type": "markdown",
   "id": "963eabe8",
   "metadata": {
    "tags": []
   },
   "source": [
    "### 4.1. Logistic regression"
   ]
  },
  {
   "cell_type": "code",
   "execution_count": 10,
   "id": "9e7a6f6a",
   "metadata": {},
   "outputs": [],
   "source": [
    "from sklearn.linear_model import LogisticRegression\n",
    "\n",
    "NAME_MODEL = \"logistic_regression\"\n",
    "ESTIMATOR = LogisticRegression(random_state=42, max_iter=1000)\n",
    "\n",
    "param_grid = [\n",
    "    {\n",
    "        \"solver\": [\"liblinear\"],\n",
    "        \"penalty\": [\"l1\", \"l2\"],\n",
    "        \"C\": list(np.logspace(-5, 5, 31)),\n",
    "    },\n",
    "    {\n",
    "        \"solver\": [\"saga\"],\n",
    "        \"penalty\": [\"elasticnet\"],\n",
    "        \"C\": list(np.logspace(-5, 5, 31)),\n",
    "        \"l1_ratio\": list(np.linspace(0.1, 0.9, 9)),\n",
    "    }\n",
    "]"
   ]
  },
  {
   "cell_type": "code",
   "execution_count": 7,
   "id": "3e9c2d5b",
   "metadata": {},
   "outputs": [],
   "source": [
    "feature_selection(estimator=ESTIMATOR, \n",
    "                  param_grid=param_grid, \n",
    "                  X_train=X_train, \n",
    "                  y_train=y_train, \n",
    "                  repo_model_tuning=REPO_MODEL_TUNING, \n",
    "                  name_model=NAME_MODEL)"
   ]
  },
  {
   "cell_type": "code",
   "execution_count": 18,
   "id": "fb7e893d",
   "metadata": {},
   "outputs": [
    {
     "name": "stdout",
     "output_type": "stream",
     "text": [
      "Successfully submitted to Spaceship Titanic\n"
     ]
    },
    {
     "name": "stderr",
     "output_type": "stream",
     "text": [
      "\n",
      "  0%|          | 0.00/60.9k [00:00<?, ?B/s]\n",
      "100%|##########| 60.9k/60.9k [00:02<00:00, 29.8kB/s]\n"
     ]
    }
   ],
   "source": [
    "make_submission(estimator=ESTIMATOR, \n",
    "                X_train=X_train, \n",
    "                y_train=y_train, \n",
    "                X_test=X_test, \n",
    "                list_passenger_id=list_passenger_id,\n",
    "                repo_model_tuning=REPO_MODEL_TUNING,\n",
    "                repo_submission=REPO_SUBMISSION, \n",
    "                name_model=NAME_MODEL)"
   ]
  },
  {
   "cell_type": "code",
   "execution_count": null,
   "id": "8b9320f8-49b3-4f6c-abbb-6d30a14c8a31",
   "metadata": {},
   "outputs": [],
   "source": []
  }
 ],
 "metadata": {
  "kernelspec": {
   "display_name": "Python 3 (ipykernel)",
   "language": "python",
   "name": "python3"
  },
  "language_info": {
   "codemirror_mode": {
    "name": "ipython",
    "version": 3
   },
   "file_extension": ".py",
   "mimetype": "text/x-python",
   "name": "python",
   "nbconvert_exporter": "python",
   "pygments_lexer": "ipython3",
   "version": "3.10.4"
  }
 },
 "nbformat": 4,
 "nbformat_minor": 5
}
