{
 "cells": [
  {
   "cell_type": "markdown",
   "id": "9ecec2bc-0b7c-4a3d-a3d9-d0037668b759",
   "metadata": {
    "tags": []
   },
   "source": [
    "# Titanic spaceship kaggle competition"
   ]
  },
  {
   "cell_type": "markdown",
   "id": "967dc815-c0e6-4dce-b5fb-e48009d706f9",
   "metadata": {
    "jp-MarkdownHeadingCollapsed": true,
    "tags": []
   },
   "source": [
    "## Initialisation"
   ]
  },
  {
   "cell_type": "code",
   "execution_count": 1,
   "id": "b80e7522-a078-47d2-bd50-ace598de0e03",
   "metadata": {},
   "outputs": [],
   "source": [
    "import numpy as np\n",
    "import pandas as pd\n",
    "import kaggle\n",
    "import os\n",
    "import json\n",
    "import time\n",
    "from titanic_spaceship_package import dataframe_preprocessing, get_pipeline"
   ]
  },
  {
   "cell_type": "code",
   "execution_count": 2,
   "id": "1cdc5892-14f2-4909-afb0-a3c54bdea0f6",
   "metadata": {},
   "outputs": [],
   "source": [
    "REPO_DATA = 'data'\n",
    "REPO_DATA_PREPROCESSED = 'data_preprocessed'\n",
    "REPO_MODEL = 'model'\n",
    "REPO_SUBMISSION = 'submission'"
   ]
  },
  {
   "cell_type": "code",
   "execution_count": 3,
   "id": "597f3935-fea8-4297-aafe-270b823a966d",
   "metadata": {},
   "outputs": [],
   "source": [
    "if not os.path.exists(REPO_DATA):\n",
    "    os.mkdir(REPO_DATA)\n",
    "if not os.path.exists(REPO_DATA_PREPROCESSED):\n",
    "    os.mkdir(REPO_DATA_PREPROCESSED)\n",
    "if not os.path.exists(REPO_MODEL):\n",
    "    os.mkdir(REPO_MODEL)\n",
    "if not os.path.exists(REPO_SUBMISSION):\n",
    "    os.mkdir(REPO_SUBMISSION)"
   ]
  },
  {
   "cell_type": "markdown",
   "id": "0a5f2a2d-0cac-4a02-a832-f79600b6182f",
   "metadata": {
    "jp-MarkdownHeadingCollapsed": true,
    "tags": []
   },
   "source": [
    "## Load data"
   ]
  },
  {
   "cell_type": "code",
   "execution_count": 4,
   "id": "a75d6b19-1b1c-4609-b0cd-a4b1ae21abe1",
   "metadata": {},
   "outputs": [],
   "source": [
    "import zipfile\n",
    "\n",
    "if not os.path.exists(os.path.join(REPO_DATA, 'train.csv')) \\\n",
    "or not os.path.exists(os.path.join(REPO_DATA, 'test.csv')) \\\n",
    "or not os.path.exists(os.path.join(REPO_DATA, 'sample_submission.csv')):\n",
    "    \n",
    "    !kaggle competitions download -c spaceship-titanic -p $REPO_DATA\n",
    "    \n",
    "    with zipfile.ZipFile(os.path.join(REPO_DATA, 'spaceship-titanic.zip'), 'r') as zip_ref:\n",
    "        zip_ref.extractall(REPO_DATA)\n",
    "        \n",
    "df_train = pd.read_csv(os.path.join(REPO_DATA, 'train.csv'))\n",
    "df_test = pd.read_csv(os.path.join(REPO_DATA, 'test.csv'))"
   ]
  },
  {
   "cell_type": "code",
   "execution_count": 5,
   "id": "9fce0a80-d076-4803-811b-4bfb938535db",
   "metadata": {},
   "outputs": [],
   "source": [
    "if not os.path.exists(os.path.join(REPO_DATA_PREPROCESSED, \"X_train.csv\")) \\\n",
    "or not os.path.exists(os.path.join(REPO_DATA_PREPROCESSED, \"X_test.csv\")) \\\n",
    "or not os.path.exists(os.path.join(REPO_DATA_PREPROCESSED, \"y_train.csv\")) \\\n",
    "or not os.path.exists(os.path.join(REPO_DATA_PREPROCESSED, \"list_passenger_id.csv\")):\n",
    "    \n",
    "    X_train, X_test, y_train, list_passenger_id = dataframe_preprocessing(df_train, df_test)\n",
    "    X_train.to_csv(os.path.join(REPO_DATA_PREPROCESSED, \"X_train.csv\"), index=False)\n",
    "    X_test.to_csv(os.path.join(REPO_DATA_PREPROCESSED, \"X_test.csv\"), index=False)\n",
    "    y_train.to_csv(os.path.join(REPO_DATA_PREPROCESSED, \"y_train.csv\"), index=False)\n",
    "    list_passenger_id.to_csv(os.path.join(REPO_DATA_PREPROCESSED, \"list_passenger_id.csv\"), index=False)\n",
    "    \n",
    "else:\n",
    "    \n",
    "    X_train = pd.read_csv(os.path.join(REPO_DATA_PREPROCESSED, \"X_train.csv\"))\n",
    "    X_test = pd.read_csv(os.path.join(REPO_DATA_PREPROCESSED, \"X_test.csv\"))\n",
    "    y_train = pd.read_csv(os.path.join(REPO_DATA_PREPROCESSED, \"y_train.csv\")).Transported\n",
    "    list_passenger_id = pd.read_csv(os.path.join(REPO_DATA_PREPROCESSED, \"list_passenger_id.csv\")).PassengerId"
   ]
  },
  {
   "cell_type": "markdown",
   "id": "46c2d22e-307b-46b8-ab1a-72d127cd0f29",
   "metadata": {
    "jp-MarkdownHeadingCollapsed": true,
    "tags": []
   },
   "source": [
    "## Kaggle submission function"
   ]
  },
  {
   "cell_type": "code",
   "execution_count": 52,
   "id": "04f30f14-23c5-4b23-8718-b53998d8e9ff",
   "metadata": {},
   "outputs": [],
   "source": [
    "def analyze_model(model_name, repo_model, repo_submission, X_train, y_train, X_test, list_passenger_id):\n",
    "    \n",
    "    with open(os.path.join(repo_model, model_name + \".json\"), 'r') as file:\n",
    "        data = json.load(file)\n",
    "        \n",
    "    print(\"Model name: {}\".format(data.get(\"model_name\")))\n",
    "    print(\"Cross validation score: {:.5f}\".format(data.get(\"best_score\")))\n",
    "    print(\"Best params: {}\".format(data.get(\"best_params\")))\n",
    "    print(\"Time to tune: {} seconds\".format(int(data.get(\"time_to_tune\"))))\n",
    "    \n",
    "    score_kaggle = data.get(\"score_kaggle\")\n",
    "    \n",
    "    if score_kaggle == None:\n",
    "    \n",
    "        pipeline = get_pipeline(model_name=model_name)\n",
    "        pipeline = pipeline.set_params(**data[\"best_params\"])\n",
    "        pipeline = pipeline.fit(X_train, y_train)\n",
    "        y_pred = pipeline.predict(X_test)\n",
    "\n",
    "        submission = pd.DataFrame({'PassengerId': list_passenger_id, 'Transported': y_pred})\n",
    "        submission.to_csv(os.path.join(repo_submission, model_name + \".csv\"), index=False)\n",
    "            \n",
    "        path = os.path.join(repo_submission, model_name + \".csv\")\n",
    "        request = !kaggle competitions submit -c spaceship-titanic -f $path -m $model_name\"\n",
    "                \n",
    "        time.sleep(5)\n",
    "        \n",
    "        response = !kaggle competitions submissions -c spaceship-titanic --csv\n",
    "        score_kaggle = float(response[2].split(',')[4])\n",
    "        \n",
    "        data[\"score_kaggle\"] = score_kaggle\n",
    "        \n",
    "        with open(os.path.join(repo_model, model_name + \".json\"), 'w+') as file:\n",
    "            json.dump(data, file)\n",
    "        \n",
    "    print(\"Kaggle submission score: {}\".format(score_kaggle))"
   ]
  },
  {
   "cell_type": "markdown",
   "id": "51e99e6f-a498-4c91-a7b1-0f266296f2f0",
   "metadata": {
    "jp-MarkdownHeadingCollapsed": true,
    "tags": []
   },
   "source": [
    "## Basic features"
   ]
  },
  {
   "cell_type": "markdown",
   "id": "79244c6d-0b7d-4553-9a95-37c2a98c9d18",
   "metadata": {
    "jp-MarkdownHeadingCollapsed": true,
    "tags": []
   },
   "source": [
    "### Pipeline v1"
   ]
  },
  {
   "cell_type": "markdown",
   "id": "81d968bc-a9dd-4846-a301-c68c6039a12a",
   "metadata": {
    "jp-MarkdownHeadingCollapsed": true,
    "tags": []
   },
   "source": [
    "#### Logistic regression"
   ]
  },
  {
   "cell_type": "code",
   "execution_count": 53,
   "id": "3a12eb76-f653-4020-a4e8-7ba4dd0345c4",
   "metadata": {},
   "outputs": [
    {
     "name": "stdout",
     "output_type": "stream",
     "text": [
      "Model name: logistic_regression__v01\n",
      "Cross validation score: 0.77948\n",
      "Best params: {'logistic__C': 0.01, 'logistic__penalty': 'l2', 'logistic__solver': 'liblinear'}\n",
      "Time to tune: 1476 seconds\n",
      "Kaggle submission score: 0.78442\n"
     ]
    }
   ],
   "source": [
    "MODEL_NAME = \"logistic_regression__v01\"\n",
    "\n",
    "if not os.path.exists(os.path.join(REPO_MODEL, MODEL_NAME + \".json\")):\n",
    "    !python script_tuning.py $MODEL_NAME\n",
    "    \n",
    "analyze_model(\n",
    "    model_name=MODEL_NAME, \n",
    "    repo_model=REPO_MODEL, \n",
    "    repo_submission=REPO_SUBMISSION, \n",
    "    X_train=X_train, \n",
    "    y_train=y_train, \n",
    "    X_test=X_test, \n",
    "    list_passenger_id=list_passenger_id\n",
    ")"
   ]
  },
  {
   "cell_type": "markdown",
   "id": "fb31cae0-5052-4614-9e25-45f163ea9dfa",
   "metadata": {
    "jp-MarkdownHeadingCollapsed": true,
    "tags": []
   },
   "source": [
    "#### KNN"
   ]
  },
  {
   "cell_type": "code",
   "execution_count": 54,
   "id": "bcad238d-2a1e-427e-b181-7daf8b3616a5",
   "metadata": {},
   "outputs": [
    {
     "name": "stdout",
     "output_type": "stream",
     "text": [
      "Model name: knn__v01\n",
      "Cross validation score: 0.78880\n",
      "Best params: {'knn__n_neighbors': 47, 'knn__p': 2, 'knn__weights': 'uniform'}\n",
      "Time to tune: 5311 seconds\n",
      "Kaggle submission score: 0.78793\n"
     ]
    }
   ],
   "source": [
    "MODEL_NAME = \"knn__v01\"\n",
    "\n",
    "if not os.path.exists(os.path.join(REPO_MODEL, MODEL_NAME + \".json\")):\n",
    "    !python script_tuning.py $MODEL_NAME\n",
    "\n",
    "analyze_model(\n",
    "    model_name=MODEL_NAME, \n",
    "    repo_model=REPO_MODEL, \n",
    "    repo_submission=REPO_SUBMISSION, \n",
    "    X_train=X_train, \n",
    "    y_train=y_train, \n",
    "    X_test=X_test, \n",
    "    list_passenger_id=list_passenger_id\n",
    ")"
   ]
  },
  {
   "cell_type": "markdown",
   "id": "ded13047-f18c-4cca-b61d-23c378df898c",
   "metadata": {
    "jp-MarkdownHeadingCollapsed": true,
    "tags": []
   },
   "source": [
    "#### SVM"
   ]
  },
  {
   "cell_type": "code",
   "execution_count": 55,
   "id": "fbb697e0-f4de-4e53-8a02-4fb5aebb86b1",
   "metadata": {},
   "outputs": [
    {
     "name": "stdout",
     "output_type": "stream",
     "text": [
      "Model name: svm__v01\n",
      "Cross validation score: 0.80053\n",
      "Best params: {'svm__C': 0.46415888336127775, 'svm__degree': 3, 'svm__kernel': 'poly'}\n",
      "Time to tune: 2623 seconds\n",
      "Kaggle submission score: 0.80032\n"
     ]
    }
   ],
   "source": [
    "MODEL_NAME = \"svm__v01\"\n",
    "\n",
    "if not os.path.exists(os.path.join(REPO_MODEL, MODEL_NAME + \".json\")):\n",
    "    !python script_tuning.py $MODEL_NAME\n",
    "\n",
    "analyze_model(\n",
    "    model_name=MODEL_NAME, \n",
    "    repo_model=REPO_MODEL, \n",
    "    repo_submission=REPO_SUBMISSION, \n",
    "    X_train=X_train, \n",
    "    y_train=y_train, \n",
    "    X_test=X_test, \n",
    "    list_passenger_id=list_passenger_id\n",
    ")"
   ]
  },
  {
   "cell_type": "markdown",
   "id": "42f380c8-e419-40eb-917d-8dd8f2b43877",
   "metadata": {
    "jp-MarkdownHeadingCollapsed": true,
    "tags": []
   },
   "source": [
    "### Pipeline v2"
   ]
  },
  {
   "cell_type": "markdown",
   "id": "ec0bf589-cf2a-4fdb-916f-9aa599891370",
   "metadata": {
    "jp-MarkdownHeadingCollapsed": true,
    "tags": []
   },
   "source": [
    "#### Logistic regression"
   ]
  },
  {
   "cell_type": "code",
   "execution_count": 56,
   "id": "0cd4735e-f95c-46a3-bc90-67feabb62887",
   "metadata": {},
   "outputs": [
    {
     "name": "stdout",
     "output_type": "stream",
     "text": [
      "Model name: logistic_regression__v02\n",
      "Cross validation score: 0.78155\n",
      "Best params: {'feature_selection__k': 15, 'logistic__C': 0.021544346900318822, 'logistic__l1_ratio': 0.1, 'logistic__penalty': 'elasticnet', 'logistic__solver': 'saga'}\n",
      "Time to tune: 12903 seconds\n",
      "Kaggle submission score: 0.78349\n"
     ]
    }
   ],
   "source": [
    "MODEL_NAME = \"logistic_regression__v02\"\n",
    "\n",
    "if not os.path.exists(os.path.join(REPO_MODEL, MODEL_NAME + \".json\")):\n",
    "    !python script_tuning.py $MODEL_NAME\n",
    "\n",
    "analyze_model(\n",
    "    model_name=MODEL_NAME, \n",
    "    repo_model=REPO_MODEL, \n",
    "    repo_submission=REPO_SUBMISSION, \n",
    "    X_train=X_train, \n",
    "    y_train=y_train, \n",
    "    X_test=X_test, \n",
    "    list_passenger_id=list_passenger_id\n",
    ")"
   ]
  },
  {
   "cell_type": "markdown",
   "id": "22e06fca-d141-4ca9-a2ba-2fbc364c6ce2",
   "metadata": {
    "jp-MarkdownHeadingCollapsed": true,
    "tags": []
   },
   "source": [
    "#### KNN"
   ]
  },
  {
   "cell_type": "code",
   "execution_count": 58,
   "id": "d727c360-9bc3-43f9-a781-4fac68664d40",
   "metadata": {},
   "outputs": [
    {
     "name": "stdout",
     "output_type": "stream",
     "text": [
      "Model name: knn__v02\n",
      "Cross validation score: 0.79029\n",
      "Best params: {'feature_selection__k': 18, 'knn__n_neighbors': 31, 'knn__p': 1, 'knn__weights': 'uniform'}\n",
      "Time to tune: 64065 seconds\n",
      "Kaggle submission score: 0.78442\n"
     ]
    }
   ],
   "source": [
    "MODEL_NAME = \"knn__v02\"\n",
    "\n",
    "if not os.path.exists(os.path.join(REPO_MODEL, MODEL_NAME + \".json\")):\n",
    "    !python script_tuning.py $MODEL_NAME\n",
    "\n",
    "analyze_model(\n",
    "    model_name=MODEL_NAME, \n",
    "    repo_model=REPO_MODEL, \n",
    "    repo_submission=REPO_SUBMISSION, \n",
    "    X_train=X_train, \n",
    "    y_train=y_train, \n",
    "    X_test=X_test, \n",
    "    list_passenger_id=list_passenger_id\n",
    ")"
   ]
  },
  {
   "cell_type": "markdown",
   "id": "533b4f97-7fd1-41e3-81c1-5cd87d0d8f9d",
   "metadata": {
    "jp-MarkdownHeadingCollapsed": true,
    "tags": []
   },
   "source": [
    "#### SVM"
   ]
  },
  {
   "cell_type": "code",
   "execution_count": 57,
   "id": "d97e4b82-35c2-449a-a29c-a820ce4ee761",
   "metadata": {},
   "outputs": [
    {
     "name": "stdout",
     "output_type": "stream",
     "text": [
      "Model name: svm__v02\n",
      "Cross validation score: 0.80122\n",
      "Best params: {'feature_selection__k': 20, 'svm__C': 0.46415888336127775, 'svm__degree': 3, 'svm__kernel': 'poly'}\n",
      "Time to tune: 307954 seconds\n",
      "Kaggle submission score: 0.79892\n"
     ]
    }
   ],
   "source": [
    "MODEL_NAME = \"svm__v02\"\n",
    "\n",
    "if not os.path.exists(os.path.join(REPO_MODEL, MODEL_NAME + \".json\")):\n",
    "    !python script_tuning.py $MODEL_NAME\n",
    "\n",
    "analyze_model(\n",
    "    model_name=MODEL_NAME, \n",
    "    repo_model=REPO_MODEL, \n",
    "    repo_submission=REPO_SUBMISSION, \n",
    "    X_train=X_train, \n",
    "    y_train=y_train, \n",
    "    X_test=X_test, \n",
    "    list_passenger_id=list_passenger_id\n",
    ")"
   ]
  },
  {
   "cell_type": "markdown",
   "id": "0118287e-ead9-49f8-8596-fd9211b29826",
   "metadata": {
    "jp-MarkdownHeadingCollapsed": true,
    "tags": []
   },
   "source": [
    "### Pipeline v3"
   ]
  },
  {
   "cell_type": "markdown",
   "id": "dcaa4947-f443-4351-aca7-3861b985a9b2",
   "metadata": {
    "jp-MarkdownHeadingCollapsed": true,
    "tags": []
   },
   "source": [
    "#### Logistic regression"
   ]
  },
  {
   "cell_type": "code",
   "execution_count": null,
   "id": "de7f695f-e17b-40e0-a368-23739cc3ca82",
   "metadata": {},
   "outputs": [],
   "source": [
    "MODEL_NAME = \"logistic_regression__v03\"\n",
    "\n",
    "if not os.path.exists(os.path.join(REPO_MODEL, MODEL_NAME + \".json\")):\n",
    "    !python script_tuning.py $MODEL_NAME\n",
    "\n",
    "analyze_model(\n",
    "    model_name=MODEL_NAME, \n",
    "    repo_model=REPO_MODEL, \n",
    "    repo_submission=REPO_SUBMISSION, \n",
    "    X_train=X_train, \n",
    "    y_train=y_train, \n",
    "    X_test=X_test, \n",
    "    list_passenger_id=list_passenger_id\n",
    ")"
   ]
  },
  {
   "cell_type": "markdown",
   "id": "e4a733c2-ee49-4ab7-a4b2-2c6a4f735785",
   "metadata": {
    "jp-MarkdownHeadingCollapsed": true,
    "tags": []
   },
   "source": [
    "#### KNN"
   ]
  },
  {
   "cell_type": "code",
   "execution_count": null,
   "id": "b6b1a512-91ea-483b-ae31-3c7c93d5a591",
   "metadata": {},
   "outputs": [],
   "source": [
    "MODEL_NAME = \"knn__v03\"\n",
    "\n",
    "if not os.path.exists(os.path.join(REPO_MODEL, MODEL_NAME + \".json\")):\n",
    "    !python script_tuning.py $MODEL_NAME\n",
    "\n",
    "analyze_model(\n",
    "    model_name=MODEL_NAME, \n",
    "    repo_model=REPO_MODEL, \n",
    "    repo_submission=REPO_SUBMISSION, \n",
    "    X_train=X_train, \n",
    "    y_train=y_train, \n",
    "    X_test=X_test, \n",
    "    list_passenger_id=list_passenger_id\n",
    ")"
   ]
  },
  {
   "cell_type": "markdown",
   "id": "6e7ddd94-635c-4b94-815e-e27b884a3a0c",
   "metadata": {
    "jp-MarkdownHeadingCollapsed": true,
    "tags": []
   },
   "source": [
    "#### SVM"
   ]
  },
  {
   "cell_type": "code",
   "execution_count": null,
   "id": "1c8af6b4-df0b-4f2a-be09-eea888018566",
   "metadata": {},
   "outputs": [],
   "source": [
    "MODEL_NAME = \"svm__v03\"\n",
    "\n",
    "if not os.path.exists(os.path.join(REPO_MODEL, MODEL_NAME + \".json\")):\n",
    "    !python script_tuning.py $MODEL_NAME\n",
    "\n",
    "analyze_model(\n",
    "    model_name=MODEL_NAME, \n",
    "    repo_model=REPO_MODEL, \n",
    "    repo_submission=REPO_SUBMISSION, \n",
    "    X_train=X_train, \n",
    "    y_train=y_train, \n",
    "    X_test=X_test, \n",
    "    list_passenger_id=list_passenger_id\n",
    ")"
   ]
  },
  {
   "cell_type": "markdown",
   "id": "db79d044-e6fd-4273-88ed-cd58a13f92cd",
   "metadata": {
    "jp-MarkdownHeadingCollapsed": true,
    "tags": []
   },
   "source": [
    "### Pipeline v4"
   ]
  },
  {
   "cell_type": "markdown",
   "id": "3a102c01-3510-4333-bdc3-53828f58399c",
   "metadata": {
    "jp-MarkdownHeadingCollapsed": true,
    "tags": []
   },
   "source": [
    "#### Logistic regression"
   ]
  },
  {
   "cell_type": "code",
   "execution_count": null,
   "id": "055a6b3d-3609-499d-93d0-0bb1f17e50d3",
   "metadata": {},
   "outputs": [],
   "source": [
    "MODEL_NAME = \"logistic_regression__v04\"\n",
    "\n",
    "if not os.path.exists(os.path.join(REPO_MODEL, MODEL_NAME + \".json\")):\n",
    "    !python script_tuning.py $MODEL_NAME\n",
    "\n",
    "analyze_model(\n",
    "    model_name=MODEL_NAME, \n",
    "    repo_model=REPO_MODEL, \n",
    "    repo_submission=REPO_SUBMISSION, \n",
    "    X_train=X_train, \n",
    "    y_train=y_train, \n",
    "    X_test=X_test, \n",
    "    list_passenger_id=list_passenger_id\n",
    ")"
   ]
  },
  {
   "cell_type": "markdown",
   "id": "621e9375-c7c8-4f3f-80d6-5875ba9644c3",
   "metadata": {
    "jp-MarkdownHeadingCollapsed": true,
    "tags": []
   },
   "source": [
    "#### KNN"
   ]
  },
  {
   "cell_type": "code",
   "execution_count": null,
   "id": "113bfcc5-161d-4c26-b89d-33025b732892",
   "metadata": {},
   "outputs": [],
   "source": [
    "MODEL_NAME = \"knn__v04\"\n",
    "\n",
    "if not os.path.exists(os.path.join(REPO_MODEL, MODEL_NAME + \".json\")):\n",
    "    !python script_tuning.py $MODEL_NAME\n",
    "\n",
    "analyze_model(\n",
    "    model_name=MODEL_NAME, \n",
    "    repo_model=REPO_MODEL, \n",
    "    repo_submission=REPO_SUBMISSION, \n",
    "    X_train=X_train, \n",
    "    y_train=y_train, \n",
    "    X_test=X_test, \n",
    "    list_passenger_id=list_passenger_id\n",
    ")"
   ]
  },
  {
   "cell_type": "markdown",
   "id": "1816ee62-5a34-462a-a352-eae03d00e72b",
   "metadata": {
    "jp-MarkdownHeadingCollapsed": true,
    "tags": []
   },
   "source": [
    "#### SVM"
   ]
  },
  {
   "cell_type": "code",
   "execution_count": null,
   "id": "b06a0809-130d-4158-aa96-252f08aab047",
   "metadata": {},
   "outputs": [],
   "source": [
    "MODEL_NAME = \"svm__v04\"\n",
    "\n",
    "if not os.path.exists(os.path.join(REPO_MODEL, MODEL_NAME + \".json\")):\n",
    "    !python script_tuning.py $MODEL_NAME\n",
    "\n",
    "analyze_model(\n",
    "    model_name=MODEL_NAME, \n",
    "    repo_model=REPO_MODEL, \n",
    "    repo_submission=REPO_SUBMISSION, \n",
    "    X_train=X_train, \n",
    "    y_train=y_train, \n",
    "    X_test=X_test, \n",
    "    list_passenger_id=list_passenger_id\n",
    ")"
   ]
  },
  {
   "cell_type": "markdown",
   "id": "ee68c057-4981-410f-88d8-242a471e8810",
   "metadata": {
    "jp-MarkdownHeadingCollapsed": true,
    "tags": []
   },
   "source": [
    "### Pipeline v5"
   ]
  },
  {
   "cell_type": "markdown",
   "id": "06ab2c9c-f710-4a16-9050-dcf020fb74bc",
   "metadata": {
    "jp-MarkdownHeadingCollapsed": true,
    "tags": []
   },
   "source": [
    "#### Logistic regression"
   ]
  },
  {
   "cell_type": "code",
   "execution_count": null,
   "id": "a2ff0096-11c9-433c-9420-dcb629763652",
   "metadata": {},
   "outputs": [],
   "source": [
    "MODEL_NAME = \"logistic_regression__v05\"\n",
    "\n",
    "if not os.path.exists(os.path.join(REPO_MODEL, MODEL_NAME + \".json\")):\n",
    "    !python script_tuning.py $MODEL_NAME\n",
    "\n",
    "analyze_model(\n",
    "    model_name=MODEL_NAME, \n",
    "    repo_model=REPO_MODEL, \n",
    "    repo_submission=REPO_SUBMISSION, \n",
    "    X_train=X_train, \n",
    "    y_train=y_train, \n",
    "    X_test=X_test, \n",
    "    list_passenger_id=list_passenger_id\n",
    ")"
   ]
  },
  {
   "cell_type": "markdown",
   "id": "cc455e22-c042-4c19-b670-2a3acfec1925",
   "metadata": {
    "jp-MarkdownHeadingCollapsed": true,
    "tags": []
   },
   "source": [
    "#### KNN"
   ]
  },
  {
   "cell_type": "code",
   "execution_count": null,
   "id": "7e03c7c2-d071-4226-9c17-9cc18cbcf98e",
   "metadata": {},
   "outputs": [],
   "source": [
    "MODEL_NAME = \"knn__v05\"\n",
    "\n",
    "if not os.path.exists(os.path.join(REPO_MODEL, MODEL_NAME + \".json\")):\n",
    "    !python script_tuning.py $MODEL_NAME\n",
    "\n",
    "analyze_model(\n",
    "    model_name=MODEL_NAME, \n",
    "    repo_model=REPO_MODEL, \n",
    "    repo_submission=REPO_SUBMISSION, \n",
    "    X_train=X_train, \n",
    "    y_train=y_train, \n",
    "    X_test=X_test, \n",
    "    list_passenger_id=list_passenger_id\n",
    ")"
   ]
  },
  {
   "cell_type": "markdown",
   "id": "49a6ce46-1fe9-4937-839d-2d2927df7dcc",
   "metadata": {
    "jp-MarkdownHeadingCollapsed": true,
    "tags": []
   },
   "source": [
    "#### SVM"
   ]
  },
  {
   "cell_type": "code",
   "execution_count": null,
   "id": "4af631ad-eaa2-456f-ae19-6e60939e0da9",
   "metadata": {},
   "outputs": [],
   "source": [
    "MODEL_NAME = \"svm__v05\"\n",
    "\n",
    "if not os.path.exists(os.path.join(REPO_MODEL, MODEL_NAME + \".json\")):\n",
    "    !python script_tuning.py $MODEL_NAME\n",
    "\n",
    "analyze_model(\n",
    "    model_name=MODEL_NAME, \n",
    "    repo_model=REPO_MODEL, \n",
    "    repo_submission=REPO_SUBMISSION, \n",
    "    X_train=X_train, \n",
    "    y_train=y_train, \n",
    "    X_test=X_test, \n",
    "    list_passenger_id=list_passenger_id\n",
    ")"
   ]
  },
  {
   "cell_type": "markdown",
   "id": "c629dcf4-bd71-4bc7-a923-89162ff10847",
   "metadata": {
    "jp-MarkdownHeadingCollapsed": true,
    "tags": []
   },
   "source": [
    "### Pipeline v6"
   ]
  },
  {
   "cell_type": "markdown",
   "id": "e347cfc9-ba26-41be-974b-b49c47440016",
   "metadata": {
    "jp-MarkdownHeadingCollapsed": true,
    "tags": []
   },
   "source": [
    "#### Logistic regression"
   ]
  },
  {
   "cell_type": "code",
   "execution_count": null,
   "id": "16f0982e-1a56-4cf8-9536-19587f02a18a",
   "metadata": {},
   "outputs": [],
   "source": [
    "MODEL_NAME = \"logistic_regression__v06\"\n",
    "\n",
    "if not os.path.exists(os.path.join(REPO_MODEL, MODEL_NAME + \".json\")):\n",
    "    !python script_tuning.py $MODEL_NAME\n",
    "\n",
    "analyze_model(\n",
    "    model_name=MODEL_NAME, \n",
    "    repo_model=REPO_MODEL, \n",
    "    repo_submission=REPO_SUBMISSION, \n",
    "    X_train=X_train, \n",
    "    y_train=y_train, \n",
    "    X_test=X_test, \n",
    "    list_passenger_id=list_passenger_id\n",
    ")"
   ]
  },
  {
   "cell_type": "markdown",
   "id": "610e73f1-1014-43fb-b541-3c363b374700",
   "metadata": {
    "jp-MarkdownHeadingCollapsed": true,
    "tags": []
   },
   "source": [
    "#### KNN"
   ]
  },
  {
   "cell_type": "code",
   "execution_count": null,
   "id": "4dba6109-bf7c-4378-a3e5-9f621bb13c03",
   "metadata": {},
   "outputs": [],
   "source": [
    "MODEL_NAME = \"knn__v06\"\n",
    "\n",
    "if not os.path.exists(os.path.join(REPO_MODEL, MODEL_NAME + \".json\")):\n",
    "    !python script_tuning.py $MODEL_NAME\n",
    "\n",
    "analyze_model(\n",
    "    model_name=MODEL_NAME, \n",
    "    repo_model=REPO_MODEL, \n",
    "    repo_submission=REPO_SUBMISSION, \n",
    "    X_train=X_train, \n",
    "    y_train=y_train, \n",
    "    X_test=X_test, \n",
    "    list_passenger_id=list_passenger_id\n",
    ")"
   ]
  },
  {
   "cell_type": "markdown",
   "id": "7af6a364-6c24-4f7c-80ce-27fe675a8ff0",
   "metadata": {
    "jp-MarkdownHeadingCollapsed": true,
    "tags": []
   },
   "source": [
    "#### SVM"
   ]
  },
  {
   "cell_type": "code",
   "execution_count": null,
   "id": "feff1a48-9b87-4008-8b82-9fd2420c56ef",
   "metadata": {},
   "outputs": [],
   "source": [
    "MODEL_NAME = \"svm__v06\"\n",
    "\n",
    "if not os.path.exists(os.path.join(REPO_MODEL, MODEL_NAME + \".json\")):\n",
    "    !python script_tuning.py $MODEL_NAME\n",
    "\n",
    "analyze_model(\n",
    "    model_name=MODEL_NAME, \n",
    "    repo_model=REPO_MODEL, \n",
    "    repo_submission=REPO_SUBMISSION, \n",
    "    X_train=X_train, \n",
    "    y_train=y_train, \n",
    "    X_test=X_test, \n",
    "    list_passenger_id=list_passenger_id\n",
    ")"
   ]
  },
  {
   "cell_type": "markdown",
   "id": "f700d39f-0280-4302-a510-6e377e26f2e3",
   "metadata": {
    "jp-MarkdownHeadingCollapsed": true,
    "tags": []
   },
   "source": [
    "### Pipeline v7"
   ]
  },
  {
   "cell_type": "markdown",
   "id": "1a4c21da-1384-4b1e-98ce-1d0ef317fa41",
   "metadata": {
    "jp-MarkdownHeadingCollapsed": true,
    "tags": []
   },
   "source": [
    "#### Logistic regression"
   ]
  },
  {
   "cell_type": "code",
   "execution_count": null,
   "id": "558465c2-ccb0-431c-a785-4e28fe3323cd",
   "metadata": {},
   "outputs": [],
   "source": [
    "MODEL_NAME = \"logistic_regression__v07\"\n",
    "\n",
    "if not os.path.exists(os.path.join(REPO_MODEL, MODEL_NAME + \".json\")):\n",
    "    !python script_tuning.py $MODEL_NAME\n",
    "\n",
    "analyze_model(\n",
    "    model_name=MODEL_NAME, \n",
    "    repo_model=REPO_MODEL, \n",
    "    repo_submission=REPO_SUBMISSION, \n",
    "    X_train=X_train, \n",
    "    y_train=y_train, \n",
    "    X_test=X_test, \n",
    "    list_passenger_id=list_passenger_id\n",
    ")"
   ]
  },
  {
   "cell_type": "markdown",
   "id": "a6c35b8d-d8c5-4f7f-9d7f-4a8f877756ee",
   "metadata": {
    "jp-MarkdownHeadingCollapsed": true,
    "tags": []
   },
   "source": [
    "#### KNN"
   ]
  },
  {
   "cell_type": "code",
   "execution_count": null,
   "id": "29b566ef-baf2-45f9-a4fe-96332090a098",
   "metadata": {},
   "outputs": [],
   "source": [
    "MODEL_NAME = \"knn__v07\"\n",
    "\n",
    "if not os.path.exists(os.path.join(REPO_MODEL, MODEL_NAME + \".json\")):\n",
    "    !python script_tuning.py $MODEL_NAME\n",
    "\n",
    "analyze_model(\n",
    "    model_name=MODEL_NAME, \n",
    "    repo_model=REPO_MODEL, \n",
    "    repo_submission=REPO_SUBMISSION, \n",
    "    X_train=X_train, \n",
    "    y_train=y_train, \n",
    "    X_test=X_test, \n",
    "    list_passenger_id=list_passenger_id\n",
    ")"
   ]
  },
  {
   "cell_type": "markdown",
   "id": "7cdf9d7e-c815-45ad-a673-8b3d779e88d9",
   "metadata": {
    "jp-MarkdownHeadingCollapsed": true,
    "tags": []
   },
   "source": [
    "#### SVM"
   ]
  },
  {
   "cell_type": "code",
   "execution_count": null,
   "id": "91ecfb96-61d1-46c5-8e45-9a7738320905",
   "metadata": {},
   "outputs": [],
   "source": [
    "MODEL_NAME = \"svm__v07\"\n",
    "\n",
    "if not os.path.exists(os.path.join(REPO_MODEL, MODEL_NAME + \".json\")):\n",
    "    !python script_tuning.py $MODEL_NAME\n",
    "\n",
    "analyze_model(\n",
    "    model_name=MODEL_NAME, \n",
    "    repo_model=REPO_MODEL, \n",
    "    repo_submission=REPO_SUBMISSION, \n",
    "    X_train=X_train, \n",
    "    y_train=y_train, \n",
    "    X_test=X_test, \n",
    "    list_passenger_id=list_passenger_id\n",
    ")"
   ]
  },
  {
   "cell_type": "markdown",
   "id": "8d9b1105-91a9-4da5-b2d3-77e0747ca16a",
   "metadata": {
    "jp-MarkdownHeadingCollapsed": true,
    "tags": []
   },
   "source": [
    "## Analysis"
   ]
  },
  {
   "cell_type": "code",
   "execution_count": 30,
   "id": "18c20719-c721-47bf-903f-0c320019136c",
   "metadata": {},
   "outputs": [],
   "source": [
    "VERSIONS = [str(x) if x > 9 else \"0\" + str(x) for x in range(1, 8)]\n",
    "COLUMNS = [\"Version\", \"Description\", \"Best_score\", \"Time_to_tune\", \"Score_kaggle\", \"Best_params\"]\n",
    "DESCRIPTION_VERSIONS = {\n",
    "    \"01\": \"Basic feature\",\n",
    "    \"02\": \"Basic feature with feature selection f_classif\",\n",
    "    \"03\": \"Basic feature with feature selection MI n=1\",\n",
    "    \"04\": \"Basic feature with feature selection MI n=2\",\n",
    "    \"05\": \"Basic feature with feature selection MI n=3\",\n",
    "    \"06\": \"Basic feature with feature selection MI n=4\",\n",
    "    \"07\": \"Basic feature with feature selection MI n=5\",\n",
    "}"
   ]
  },
  {
   "cell_type": "markdown",
   "id": "602bb1f7-3edb-4b2e-95ec-451fed1e12ef",
   "metadata": {
    "jp-MarkdownHeadingCollapsed": true,
    "tags": []
   },
   "source": [
    "### Logistic regression"
   ]
  },
  {
   "cell_type": "code",
   "execution_count": 31,
   "id": "76c84b91-0f4a-48dc-9de4-cd5eb43ebcf7",
   "metadata": {},
   "outputs": [
    {
     "data": {
      "text/html": [
       "<style type=\"text/css\">\n",
       "#T_d50d9_row0_col0, #T_d50d9_row0_col1, #T_d50d9_row0_col2, #T_d50d9_row0_col3, #T_d50d9_row0_col4, #T_d50d9_row0_col5 {\n",
       "  background-color: white;\n",
       "}\n",
       "#T_d50d9_row1_col0, #T_d50d9_row1_col1, #T_d50d9_row1_col2, #T_d50d9_row1_col3, #T_d50d9_row1_col4, #T_d50d9_row1_col5 {\n",
       "  background-color: yellow;\n",
       "}\n",
       "</style>\n",
       "<table id=\"T_d50d9\">\n",
       "  <thead>\n",
       "    <tr>\n",
       "      <th class=\"blank level0\" >&nbsp;</th>\n",
       "      <th id=\"T_d50d9_level0_col0\" class=\"col_heading level0 col0\" >Version</th>\n",
       "      <th id=\"T_d50d9_level0_col1\" class=\"col_heading level0 col1\" >Description</th>\n",
       "      <th id=\"T_d50d9_level0_col2\" class=\"col_heading level0 col2\" >Best_score</th>\n",
       "      <th id=\"T_d50d9_level0_col3\" class=\"col_heading level0 col3\" >Time_to_tune</th>\n",
       "      <th id=\"T_d50d9_level0_col4\" class=\"col_heading level0 col4\" >Score_kaggle</th>\n",
       "      <th id=\"T_d50d9_level0_col5\" class=\"col_heading level0 col5\" >Best_params</th>\n",
       "    </tr>\n",
       "  </thead>\n",
       "  <tbody>\n",
       "    <tr>\n",
       "      <th id=\"T_d50d9_level0_row0\" class=\"row_heading level0 row0\" >0</th>\n",
       "      <td id=\"T_d50d9_row0_col0\" class=\"data row0 col0\" >01</td>\n",
       "      <td id=\"T_d50d9_row0_col1\" class=\"data row0 col1\" >Basic feature</td>\n",
       "      <td id=\"T_d50d9_row0_col2\" class=\"data row0 col2\" >0.779479</td>\n",
       "      <td id=\"T_d50d9_row0_col3\" class=\"data row0 col3\" >1476</td>\n",
       "      <td id=\"T_d50d9_row0_col4\" class=\"data row0 col4\" >0.784420</td>\n",
       "      <td id=\"T_d50d9_row0_col5\" class=\"data row0 col5\" >{'logistic__C': 0.01, 'logistic__penalty': 'l2', 'logistic__solver': 'liblinear'}</td>\n",
       "    </tr>\n",
       "    <tr>\n",
       "      <th id=\"T_d50d9_level0_row1\" class=\"row_heading level0 row1\" >1</th>\n",
       "      <td id=\"T_d50d9_row1_col0\" class=\"data row1 col0\" >02</td>\n",
       "      <td id=\"T_d50d9_row1_col1\" class=\"data row1 col1\" >Basic feature with feature selection f_classif</td>\n",
       "      <td id=\"T_d50d9_row1_col2\" class=\"data row1 col2\" >0.781549</td>\n",
       "      <td id=\"T_d50d9_row1_col3\" class=\"data row1 col3\" >12903</td>\n",
       "      <td id=\"T_d50d9_row1_col4\" class=\"data row1 col4\" >0.783490</td>\n",
       "      <td id=\"T_d50d9_row1_col5\" class=\"data row1 col5\" >{'feature_selection__k': 15, 'logistic__C': 0.021544346900318822, 'logistic__l1_ratio': 0.1, 'logistic__penalty': 'elasticnet', 'logistic__solver': 'saga'}</td>\n",
       "    </tr>\n",
       "  </tbody>\n",
       "</table>\n"
      ],
      "text/plain": [
       "<pandas.io.formats.style.Styler at 0x274ba48a950>"
      ]
     },
     "execution_count": 31,
     "metadata": {},
     "output_type": "execute_result"
    }
   ],
   "source": [
    "df_results = pd.DataFrame(columns=COLUMNS)\n",
    "NAME_MODEL = \"logistic_regression\"\n",
    "\n",
    "for version in VERSIONS:\n",
    "    \n",
    "    if os.path.exists(os.path.join(REPO_MODEL, NAME_MODEL + \"__v\" + version + \".json\")):\n",
    "        with open(os.path.join(REPO_MODEL, NAME_MODEL + \"__v\" + version + \".json\"), \"r\") as file:\n",
    "            data = json.load(file)\n",
    "        df_results = pd.concat([\n",
    "            df_results, \n",
    "            pd.DataFrame({\n",
    "                \"Version\": [version], \n",
    "                \"Description\": DESCRIPTION_VERSIONS.get(version),\n",
    "                \"Best_score\": [data[\"best_score\"]],\n",
    "                \"Time_to_tune\": [int(data[\"time_to_tune\"])],\n",
    "                \"Score_kaggle\": [data[\"score_kaggle\"]],\n",
    "                \"Best_params\": [data[\"best_params\"]],\n",
    "                \n",
    "            })])\n",
    "        \n",
    "df_results.reset_index(inplace=True, drop=True)\n",
    "df_results.style.apply(lambda row: ['background-color: yellow'] * df_results.shape[1] if row.Best_score == max(df_results.Best_score) else ['background-color: white'] * df_results.shape[1], axis=1)"
   ]
  },
  {
   "cell_type": "markdown",
   "id": "e7bb5031-509e-4493-9492-4b4b92db589a",
   "metadata": {
    "jp-MarkdownHeadingCollapsed": true,
    "tags": []
   },
   "source": [
    "### KNN"
   ]
  },
  {
   "cell_type": "code",
   "execution_count": 32,
   "id": "8766a3ab-7a8b-4725-ae36-993d35d6ee84",
   "metadata": {},
   "outputs": [
    {
     "data": {
      "text/html": [
       "<style type=\"text/css\">\n",
       "#T_6fba6_row0_col0, #T_6fba6_row0_col1, #T_6fba6_row0_col2, #T_6fba6_row0_col3, #T_6fba6_row0_col4, #T_6fba6_row0_col5 {\n",
       "  background-color: white;\n",
       "}\n",
       "#T_6fba6_row1_col0, #T_6fba6_row1_col1, #T_6fba6_row1_col2, #T_6fba6_row1_col3, #T_6fba6_row1_col4, #T_6fba6_row1_col5 {\n",
       "  background-color: yellow;\n",
       "}\n",
       "</style>\n",
       "<table id=\"T_6fba6\">\n",
       "  <thead>\n",
       "    <tr>\n",
       "      <th class=\"blank level0\" >&nbsp;</th>\n",
       "      <th id=\"T_6fba6_level0_col0\" class=\"col_heading level0 col0\" >Version</th>\n",
       "      <th id=\"T_6fba6_level0_col1\" class=\"col_heading level0 col1\" >Description</th>\n",
       "      <th id=\"T_6fba6_level0_col2\" class=\"col_heading level0 col2\" >Best_score</th>\n",
       "      <th id=\"T_6fba6_level0_col3\" class=\"col_heading level0 col3\" >Time_to_tune</th>\n",
       "      <th id=\"T_6fba6_level0_col4\" class=\"col_heading level0 col4\" >Score_kaggle</th>\n",
       "      <th id=\"T_6fba6_level0_col5\" class=\"col_heading level0 col5\" >Best_params</th>\n",
       "    </tr>\n",
       "  </thead>\n",
       "  <tbody>\n",
       "    <tr>\n",
       "      <th id=\"T_6fba6_level0_row0\" class=\"row_heading level0 row0\" >0</th>\n",
       "      <td id=\"T_6fba6_row0_col0\" class=\"data row0 col0\" >01</td>\n",
       "      <td id=\"T_6fba6_row0_col1\" class=\"data row0 col1\" >Basic feature</td>\n",
       "      <td id=\"T_6fba6_row0_col2\" class=\"data row0 col2\" >0.788799</td>\n",
       "      <td id=\"T_6fba6_row0_col3\" class=\"data row0 col3\" >5311</td>\n",
       "      <td id=\"T_6fba6_row0_col4\" class=\"data row0 col4\" >0.787930</td>\n",
       "      <td id=\"T_6fba6_row0_col5\" class=\"data row0 col5\" >{'knn__n_neighbors': 47, 'knn__p': 2, 'knn__weights': 'uniform'}</td>\n",
       "    </tr>\n",
       "    <tr>\n",
       "      <th id=\"T_6fba6_level0_row1\" class=\"row_heading level0 row1\" >1</th>\n",
       "      <td id=\"T_6fba6_row1_col0\" class=\"data row1 col0\" >02</td>\n",
       "      <td id=\"T_6fba6_row1_col1\" class=\"data row1 col1\" >Basic feature with feature selection f_classif</td>\n",
       "      <td id=\"T_6fba6_row1_col2\" class=\"data row1 col2\" >0.790294</td>\n",
       "      <td id=\"T_6fba6_row1_col3\" class=\"data row1 col3\" >64065</td>\n",
       "      <td id=\"T_6fba6_row1_col4\" class=\"data row1 col4\" >0.784420</td>\n",
       "      <td id=\"T_6fba6_row1_col5\" class=\"data row1 col5\" >{'feature_selection__k': 18, 'knn__n_neighbors': 31, 'knn__p': 1, 'knn__weights': 'uniform'}</td>\n",
       "    </tr>\n",
       "  </tbody>\n",
       "</table>\n"
      ],
      "text/plain": [
       "<pandas.io.formats.style.Styler at 0x274ba519c90>"
      ]
     },
     "execution_count": 32,
     "metadata": {},
     "output_type": "execute_result"
    }
   ],
   "source": [
    "df_results = pd.DataFrame(columns=COLUMNS)\n",
    "NAME_MODEL = \"knn\"\n",
    "\n",
    "for version in VERSIONS:\n",
    "    \n",
    "    if os.path.exists(os.path.join(REPO_MODEL, NAME_MODEL + \"__v\" + version + \".json\")):\n",
    "        with open(os.path.join(REPO_MODEL, NAME_MODEL + \"__v\" + version + \".json\"), \"r\") as file:\n",
    "            data = json.load(file)\n",
    "        df_results = pd.concat([\n",
    "            df_results, \n",
    "            pd.DataFrame({\n",
    "                \"Version\": [version], \n",
    "                \"Description\": DESCRIPTION_VERSIONS.get(version), \n",
    "                \"Best_score\": [data[\"best_score\"]],\n",
    "                \"Time_to_tune\": [int(data[\"time_to_tune\"])],\n",
    "                \"Score_kaggle\": [data[\"score_kaggle\"]],\n",
    "                \"Best_params\": [data[\"best_params\"]],\n",
    "            })])\n",
    "        \n",
    "df_results.reset_index(inplace=True, drop=True)\n",
    "df_results.style.apply(lambda row: ['background-color: yellow'] * df_results.shape[1] if row.Best_score == max(df_results.Best_score) else ['background-color: white'] * df_results.shape[1], axis=1)"
   ]
  },
  {
   "cell_type": "markdown",
   "id": "6ffc54b2-3910-42b7-b77d-880aa7316073",
   "metadata": {
    "jp-MarkdownHeadingCollapsed": true,
    "tags": []
   },
   "source": [
    "### SVM "
   ]
  },
  {
   "cell_type": "code",
   "execution_count": 33,
   "id": "844469a6-95a5-4dab-926b-7b4e0ef198ae",
   "metadata": {},
   "outputs": [
    {
     "data": {
      "text/html": [
       "<style type=\"text/css\">\n",
       "#T_c8bef_row0_col0, #T_c8bef_row0_col1, #T_c8bef_row0_col2, #T_c8bef_row0_col3, #T_c8bef_row0_col4, #T_c8bef_row0_col5 {\n",
       "  background-color: white;\n",
       "}\n",
       "#T_c8bef_row1_col0, #T_c8bef_row1_col1, #T_c8bef_row1_col2, #T_c8bef_row1_col3, #T_c8bef_row1_col4, #T_c8bef_row1_col5 {\n",
       "  background-color: yellow;\n",
       "}\n",
       "</style>\n",
       "<table id=\"T_c8bef\">\n",
       "  <thead>\n",
       "    <tr>\n",
       "      <th class=\"blank level0\" >&nbsp;</th>\n",
       "      <th id=\"T_c8bef_level0_col0\" class=\"col_heading level0 col0\" >Version</th>\n",
       "      <th id=\"T_c8bef_level0_col1\" class=\"col_heading level0 col1\" >Description</th>\n",
       "      <th id=\"T_c8bef_level0_col2\" class=\"col_heading level0 col2\" >Best_score</th>\n",
       "      <th id=\"T_c8bef_level0_col3\" class=\"col_heading level0 col3\" >Time_to_tune</th>\n",
       "      <th id=\"T_c8bef_level0_col4\" class=\"col_heading level0 col4\" >Score_kaggle</th>\n",
       "      <th id=\"T_c8bef_level0_col5\" class=\"col_heading level0 col5\" >Best_params</th>\n",
       "    </tr>\n",
       "  </thead>\n",
       "  <tbody>\n",
       "    <tr>\n",
       "      <th id=\"T_c8bef_level0_row0\" class=\"row_heading level0 row0\" >0</th>\n",
       "      <td id=\"T_c8bef_row0_col0\" class=\"data row0 col0\" >01</td>\n",
       "      <td id=\"T_c8bef_row0_col1\" class=\"data row0 col1\" >Basic feature</td>\n",
       "      <td id=\"T_c8bef_row0_col2\" class=\"data row0 col2\" >0.800532</td>\n",
       "      <td id=\"T_c8bef_row0_col3\" class=\"data row0 col3\" >2623</td>\n",
       "      <td id=\"T_c8bef_row0_col4\" class=\"data row0 col4\" >0.800320</td>\n",
       "      <td id=\"T_c8bef_row0_col5\" class=\"data row0 col5\" >{'svm__C': 0.46415888336127775, 'svm__degree': 3, 'svm__kernel': 'poly'}</td>\n",
       "    </tr>\n",
       "    <tr>\n",
       "      <th id=\"T_c8bef_level0_row1\" class=\"row_heading level0 row1\" >1</th>\n",
       "      <td id=\"T_c8bef_row1_col0\" class=\"data row1 col0\" >02</td>\n",
       "      <td id=\"T_c8bef_row1_col1\" class=\"data row1 col1\" >Basic feature with feature selection f_classif</td>\n",
       "      <td id=\"T_c8bef_row1_col2\" class=\"data row1 col2\" >0.801222</td>\n",
       "      <td id=\"T_c8bef_row1_col3\" class=\"data row1 col3\" >307954</td>\n",
       "      <td id=\"T_c8bef_row1_col4\" class=\"data row1 col4\" >0.798920</td>\n",
       "      <td id=\"T_c8bef_row1_col5\" class=\"data row1 col5\" >{'feature_selection__k': 20, 'svm__C': 0.46415888336127775, 'svm__degree': 3, 'svm__kernel': 'poly'}</td>\n",
       "    </tr>\n",
       "  </tbody>\n",
       "</table>\n"
      ],
      "text/plain": [
       "<pandas.io.formats.style.Styler at 0x274b93c78e0>"
      ]
     },
     "execution_count": 33,
     "metadata": {},
     "output_type": "execute_result"
    }
   ],
   "source": [
    "df_results = pd.DataFrame(columns=COLUMNS)\n",
    "NAME_MODEL = \"svm\"\n",
    "\n",
    "for version in VERSIONS:\n",
    "    \n",
    "    if os.path.exists(os.path.join(REPO_MODEL, NAME_MODEL + \"__v\" + version + \".json\")):\n",
    "        with open(os.path.join(REPO_MODEL, NAME_MODEL + \"__v\" + version + \".json\"), \"r\") as file:\n",
    "            data = json.load(file)\n",
    "        df_results = pd.concat([\n",
    "            df_results, \n",
    "            pd.DataFrame({\n",
    "                \"Version\": [version], \n",
    "                \"Description\": DESCRIPTION_VERSIONS.get(version), \n",
    "                \"Best_score\": [data[\"best_score\"]],\n",
    "                \"Time_to_tune\": [int(data[\"time_to_tune\"])],\n",
    "                \"Score_kaggle\": [data[\"score_kaggle\"]],\n",
    "                \"Best_params\": [data[\"best_params\"]],\n",
    "            })])\n",
    "        \n",
    "df_results.reset_index(inplace=True, drop=True)\n",
    "df_results.style.apply(lambda row: ['background-color: yellow'] * df_results.shape[1] if row.Best_score == max(df_results.Best_score) else ['background-color: white'] * df_results.shape[1], axis=1)"
   ]
  }
 ],
 "metadata": {
  "kernelspec": {
   "display_name": "Python 3 (ipykernel)",
   "language": "python",
   "name": "python3"
  },
  "language_info": {
   "codemirror_mode": {
    "name": "ipython",
    "version": 3
   },
   "file_extension": ".py",
   "mimetype": "text/x-python",
   "name": "python",
   "nbconvert_exporter": "python",
   "pygments_lexer": "ipython3",
   "version": "3.10.4"
  }
 },
 "nbformat": 4,
 "nbformat_minor": 5
}
