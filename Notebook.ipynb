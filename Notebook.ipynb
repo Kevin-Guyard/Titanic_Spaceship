{
 "cells": [
  {
   "cell_type": "markdown",
   "id": "9ecec2bc-0b7c-4a3d-a3d9-d0037668b759",
   "metadata": {
    "tags": []
   },
   "source": [
    "# Titanic spaceship kaggle competition"
   ]
  },
  {
   "cell_type": "markdown",
   "id": "967dc815-c0e6-4dce-b5fb-e48009d706f9",
   "metadata": {
    "jp-MarkdownHeadingCollapsed": true,
    "tags": []
   },
   "source": [
    "## Initialisation"
   ]
  },
  {
   "cell_type": "code",
   "execution_count": 1,
   "id": "b80e7522-a078-47d2-bd50-ace598de0e03",
   "metadata": {},
   "outputs": [],
   "source": [
    "import numpy as np\n",
    "import pandas as pd\n",
    "import kaggle\n",
    "import os\n",
    "from titanic_spaceship_package import dataframe_preprocessing, get_pipeline"
   ]
  },
  {
   "cell_type": "code",
   "execution_count": 2,
   "id": "1cdc5892-14f2-4909-afb0-a3c54bdea0f6",
   "metadata": {},
   "outputs": [],
   "source": [
    "REPO_DATA = 'data'\n",
    "REPO_DATA_PREPROCESSED = 'data_preprocessed'\n",
    "REPO_MODEL = 'model'\n",
    "REPO_SUBMISSION = 'submission'\n",
    "\n",
    "SUBMIT_ON_KAGGLE = True"
   ]
  },
  {
   "cell_type": "code",
   "execution_count": 3,
   "id": "597f3935-fea8-4297-aafe-270b823a966d",
   "metadata": {},
   "outputs": [],
   "source": [
    "if not os.path.exists(REPO_DATA):\n",
    "    os.mkdir(REPO_DATA)\n",
    "if not os.path.exists(REPO_DATA_PREPROCESSED):\n",
    "    os.mkdir(REPO_DATA_PREPROCESSED)\n",
    "if not os.path.exists(REPO_MODEL):\n",
    "    os.mkdir(REPO_MODEL)\n",
    "if not os.path.exists(REPO_SUBMISSION):\n",
    "    os.mkdir(REPO_SUBMISSION)"
   ]
  },
  {
   "cell_type": "markdown",
   "id": "0a5f2a2d-0cac-4a02-a832-f79600b6182f",
   "metadata": {
    "jp-MarkdownHeadingCollapsed": true,
    "tags": []
   },
   "source": [
    "## Load data"
   ]
  },
  {
   "cell_type": "code",
   "execution_count": 4,
   "id": "a75d6b19-1b1c-4609-b0cd-a4b1ae21abe1",
   "metadata": {},
   "outputs": [
    {
     "name": "stdout",
     "output_type": "stream",
     "text": [
      "401 - Unauthorized\n"
     ]
    },
    {
     "ename": "FileNotFoundError",
     "evalue": "[Errno 2] No such file or directory: 'data\\\\spaceship-titanic.zip'",
     "output_type": "error",
     "traceback": [
      "\u001b[1;31m---------------------------------------------------------------------------\u001b[0m",
      "\u001b[1;31mFileNotFoundError\u001b[0m                         Traceback (most recent call last)",
      "Input \u001b[1;32mIn [4]\u001b[0m, in \u001b[0;36m<cell line: 3>\u001b[1;34m()\u001b[0m\n\u001b[0;32m      3\u001b[0m \u001b[38;5;28;01mif\u001b[39;00m \u001b[38;5;129;01mnot\u001b[39;00m os\u001b[38;5;241m.\u001b[39mpath\u001b[38;5;241m.\u001b[39mexists(os\u001b[38;5;241m.\u001b[39mpath\u001b[38;5;241m.\u001b[39mjoin(REPO_DATA, \u001b[38;5;124m'\u001b[39m\u001b[38;5;124mtrain.csv\u001b[39m\u001b[38;5;124m'\u001b[39m)) \\\n\u001b[0;32m      4\u001b[0m \u001b[38;5;129;01mor\u001b[39;00m \u001b[38;5;129;01mnot\u001b[39;00m os\u001b[38;5;241m.\u001b[39mpath\u001b[38;5;241m.\u001b[39mexists(os\u001b[38;5;241m.\u001b[39mpath\u001b[38;5;241m.\u001b[39mjoin(REPO_DATA, \u001b[38;5;124m'\u001b[39m\u001b[38;5;124mtest.csv\u001b[39m\u001b[38;5;124m'\u001b[39m)) \\\n\u001b[0;32m      5\u001b[0m \u001b[38;5;129;01mor\u001b[39;00m \u001b[38;5;129;01mnot\u001b[39;00m os\u001b[38;5;241m.\u001b[39mpath\u001b[38;5;241m.\u001b[39mexists(os\u001b[38;5;241m.\u001b[39mpath\u001b[38;5;241m.\u001b[39mjoin(REPO_DATA, \u001b[38;5;124m'\u001b[39m\u001b[38;5;124msample_submission.csv\u001b[39m\u001b[38;5;124m'\u001b[39m)):\n\u001b[0;32m      7\u001b[0m     get_ipython()\u001b[38;5;241m.\u001b[39msystem(\u001b[38;5;124m'\u001b[39m\u001b[38;5;124mkaggle competitions download -c spaceship-titanic -p $REPO_DATA\u001b[39m\u001b[38;5;124m'\u001b[39m)\n\u001b[1;32m----> 9\u001b[0m     \u001b[38;5;28;01mwith\u001b[39;00m \u001b[43mzipfile\u001b[49m\u001b[38;5;241;43m.\u001b[39;49m\u001b[43mZipFile\u001b[49m\u001b[43m(\u001b[49m\u001b[43mos\u001b[49m\u001b[38;5;241;43m.\u001b[39;49m\u001b[43mpath\u001b[49m\u001b[38;5;241;43m.\u001b[39;49m\u001b[43mjoin\u001b[49m\u001b[43m(\u001b[49m\u001b[43mREPO_DATA\u001b[49m\u001b[43m,\u001b[49m\u001b[43m \u001b[49m\u001b[38;5;124;43m'\u001b[39;49m\u001b[38;5;124;43mspaceship-titanic.zip\u001b[39;49m\u001b[38;5;124;43m'\u001b[39;49m\u001b[43m)\u001b[49m\u001b[43m,\u001b[49m\u001b[43m \u001b[49m\u001b[38;5;124;43m'\u001b[39;49m\u001b[38;5;124;43mr\u001b[39;49m\u001b[38;5;124;43m'\u001b[39;49m\u001b[43m)\u001b[49m \u001b[38;5;28;01mas\u001b[39;00m zip_ref:\n\u001b[0;32m     10\u001b[0m         zip_ref\u001b[38;5;241m.\u001b[39mextractall(REPO_DATA)\n\u001b[0;32m     12\u001b[0m df_train \u001b[38;5;241m=\u001b[39m pd\u001b[38;5;241m.\u001b[39mread_csv(os\u001b[38;5;241m.\u001b[39mpath\u001b[38;5;241m.\u001b[39mjoin(REPO_DATA, \u001b[38;5;124m'\u001b[39m\u001b[38;5;124mtrain.csv\u001b[39m\u001b[38;5;124m'\u001b[39m))\n",
      "File \u001b[1;32m~\\anaconda3\\envs\\titanic_spaceship_kaggle\\lib\\zipfile.py:1249\u001b[0m, in \u001b[0;36mZipFile.__init__\u001b[1;34m(self, file, mode, compression, allowZip64, compresslevel, strict_timestamps)\u001b[0m\n\u001b[0;32m   1247\u001b[0m \u001b[38;5;28;01mwhile\u001b[39;00m \u001b[38;5;28;01mTrue\u001b[39;00m:\n\u001b[0;32m   1248\u001b[0m     \u001b[38;5;28;01mtry\u001b[39;00m:\n\u001b[1;32m-> 1249\u001b[0m         \u001b[38;5;28mself\u001b[39m\u001b[38;5;241m.\u001b[39mfp \u001b[38;5;241m=\u001b[39m \u001b[43mio\u001b[49m\u001b[38;5;241;43m.\u001b[39;49m\u001b[43mopen\u001b[49m\u001b[43m(\u001b[49m\u001b[43mfile\u001b[49m\u001b[43m,\u001b[49m\u001b[43m \u001b[49m\u001b[43mfilemode\u001b[49m\u001b[43m)\u001b[49m\n\u001b[0;32m   1250\u001b[0m     \u001b[38;5;28;01mexcept\u001b[39;00m \u001b[38;5;167;01mOSError\u001b[39;00m:\n\u001b[0;32m   1251\u001b[0m         \u001b[38;5;28;01mif\u001b[39;00m filemode \u001b[38;5;129;01min\u001b[39;00m modeDict:\n",
      "\u001b[1;31mFileNotFoundError\u001b[0m: [Errno 2] No such file or directory: 'data\\\\spaceship-titanic.zip'"
     ]
    }
   ],
   "source": [
    "import zipfile\n",
    "\n",
    "if not os.path.exists(os.path.join(REPO_DATA, 'train.csv')) \\\n",
    "or not os.path.exists(os.path.join(REPO_DATA, 'test.csv')) \\\n",
    "or not os.path.exists(os.path.join(REPO_DATA, 'sample_submission.csv')):\n",
    "    \n",
    "    !kaggle competitions download -c spaceship-titanic -p $REPO_DATA\n",
    "    \n",
    "    with zipfile.ZipFile(os.path.join(REPO_DATA, 'spaceship-titanic.zip'), 'r') as zip_ref:\n",
    "        zip_ref.extractall(REPO_DATA)\n",
    "        \n",
    "df_train = pd.read_csv(os.path.join(REPO_DATA, 'train.csv'))\n",
    "df_test = pd.read_csv(os.path.join(REPO_DATA, 'test.csv'))"
   ]
  },
  {
   "cell_type": "code",
   "execution_count": null,
   "id": "9fce0a80-d076-4803-811b-4bfb938535db",
   "metadata": {},
   "outputs": [],
   "source": [
    "if not os.path.exists(os.path.join(REPO_DATA_PREPROCESSED, \"X_train.csv\")) \\\n",
    "or not os.path.exists(os.path.join(REPO_DATA_PREPROCESSED, \"X_test.csv\")) \\\n",
    "or not os.path.exists(os.path.join(REPO_DATA_PREPROCESSED, \"y_train.csv\")) \\\n",
    "or not os.path.exists(os.path.join(REPO_DATA_PREPROCESSED, \"list_passenger_id.csv\")):\n",
    "    \n",
    "    X_train, X_test, y_train, list_passenger_id = dataframe_preprocessing(df_train, df_test)\n",
    "    X_train.to_csv(os.path.join(REPO_DATA_PREPROCESSED, \"X_train.csv\"), index=False)\n",
    "    X_test.to_csv(os.path.join(REPO_DATA_PREPROCESSED, \"X_test.csv\"), index=False)\n",
    "    y_train.to_csv(os.path.join(REPO_DATA_PREPROCESSED, \"y_train.csv\"), index=False)\n",
    "    list_passenger_id.to_csv(os.path.join(REPO_DATA_PREPROCESSED, \"list_passenger_id.csv\"), index=False)\n",
    "    y_train = y_train.Transported\n",
    "    list_passenger_id = list_passenger_id.PassengerId\n",
    "    \n",
    "else:\n",
    "    \n",
    "    X_train = pd.read_csv(os.path.join(REPO_DATA_PREPROCESSED, \"X_train.csv\"))\n",
    "    X_test = pd.read_csv(os.path.join(REPO_DATA_PREPROCESSED, \"X_test.csv\"))\n",
    "    y_train = pd.read_csv(os.path.join(REPO_DATA_PREPROCESSED, \"y_train.csv\")).Transported\n",
    "    list_passenger_id = pd.read_csv(os.path.join(REPO_DATA_PREPROCESSED, \"list_passenger_id.csv\")).PassengerId"
   ]
  },
  {
   "cell_type": "markdown",
   "id": "46c2d22e-307b-46b8-ab1a-72d127cd0f29",
   "metadata": {
    "jp-MarkdownHeadingCollapsed": true,
    "tags": []
   },
   "source": [
    "## Kaggle submission function"
   ]
  },
  {
   "cell_type": "code",
   "execution_count": null,
   "id": "04f30f14-23c5-4b23-8718-b53998d8e9ff",
   "metadata": {},
   "outputs": [],
   "source": [
    "import json\n",
    "import time\n",
    "\n",
    "def make_submission(model_name, repo_model, repo_submission, submit_on_kaggle, X_train, y_train, X_test, list_passenger_id):\n",
    "    \n",
    "    with open(os.path.join(repo_model, model_name + \".json\"), 'r') as file:\n",
    "        data = json.load(file)\n",
    "        \n",
    "    print(\"Model name: {}\".format(data[\"model_name\"]))\n",
    "    print(\"Cross validation score: {}\".format(data[\"best_score\"]))\n",
    "    print(\"Best params: {}\".format(data[\"best_params\"]))\n",
    "    \n",
    "    pipeline = get_pipeline(model_name=model_name)\n",
    "    pipeline = pipeline.set_params(**data[\"best_params\"])\n",
    "    pipeline = pipeline.fit(X_train, y_train)\n",
    "    y_pred = pipeline.predict(X_test)\n",
    "        \n",
    "    submission = pd.DataFrame({'PassengerId': list_passenger_id, 'Transported': y_pred})\n",
    "    submission.to_csv(os.path.join(repo_submission, model_name + \".csv\"), index=False)\n",
    "    \n",
    "    if submit_on_kaggle == True:\n",
    "        \n",
    "        path = os.path.join(repo_submission, model_name + \".csv\")\n",
    "        !kaggle competitions submit -c spaceship-titanic -f $path -m $model_name\n",
    "        \n",
    "        time.sleep(5)\n",
    "        \n",
    "        response = !kaggle competitions submissions -c spaceship-titanic --csv\n",
    "        score_kaggle = float(response[2].split(',')[4])\n",
    "        \n",
    "        data[\"score_kaggle\"] = score_kaggle\n",
    "        \n",
    "        with open(os.path.join(repo_model, model_name + \".json\"), 'w+') as file:\n",
    "            json.dump(data, file)\n",
    "        \n",
    "        print(\"Kaggle submission score: {}\".format(score_kaggle))"
   ]
  },
  {
   "cell_type": "markdown",
   "id": "51e99e6f-a498-4c91-a7b1-0f266296f2f0",
   "metadata": {
    "tags": []
   },
   "source": [
    "## Pipeline v1"
   ]
  },
  {
   "cell_type": "markdown",
   "id": "81d968bc-a9dd-4846-a301-c68c6039a12a",
   "metadata": {
    "tags": []
   },
   "source": [
    "### Logistic regression"
   ]
  },
  {
   "cell_type": "code",
   "execution_count": 7,
   "id": "3a12eb76-f653-4020-a4e8-7ba4dd0345c4",
   "metadata": {},
   "outputs": [
    {
     "name": "stdout",
     "output_type": "stream",
     "text": [
      "Model name: svm__v01\n",
      "Cross validation score: 0.7985760238116824\n",
      "Best params: {'svm__C': 1}\n"
     ]
    },
    {
     "name": "stderr",
     "output_type": "stream",
     "text": [
      "\n",
      "  0%|          | 0.00/60.5k [00:00<?, ?B/s]\n",
      "100%|##########| 60.5k/60.5k [00:02<00:00, 25.9kB/s]\n"
     ]
    },
    {
     "name": "stdout",
     "output_type": "stream",
     "text": [
      "Successfully submitted to Spaceship Titanic\n",
      "Kaggle submission score: 0.79518\n"
     ]
    }
   ],
   "source": [
    "MODEL_NAME = \"logistic_regression__v01\"\n",
    "\n",
    "if not os.path.exists(os.path.join(REPO_MODEL, MODEL_NAME + \".json\")):\n",
    "    !python script_tuning.py $MODEL_NAME\n",
    "\n",
    "make_submission(\n",
    "    model_name=MODEL_NAME, \n",
    "    repo_model=REPO_MODEL, \n",
    "    repo_submission=REPO_SUBMISSION, \n",
    "    submit_on_kaggle=SUBMIT_ON_KAGGLE, \n",
    "    X_train=X_train, \n",
    "    y_train=y_train, \n",
    "    X_test=X_test, \n",
    "    list_passenger_id=list_passenger_id\n",
    ")"
   ]
  }
 ],
 "metadata": {
  "kernelspec": {
   "display_name": "Python 3 (ipykernel)",
   "language": "python",
   "name": "python3"
  },
  "language_info": {
   "codemirror_mode": {
    "name": "ipython",
    "version": 3
   },
   "file_extension": ".py",
   "mimetype": "text/x-python",
   "name": "python",
   "nbconvert_exporter": "python",
   "pygments_lexer": "ipython3",
   "version": "3.10.4"
  }
 },
 "nbformat": 4,
 "nbformat_minor": 5
}
