{
 "cells": [
  {
   "cell_type": "markdown",
   "id": "9ecec2bc-0b7c-4a3d-a3d9-d0037668b759",
   "metadata": {
    "tags": []
   },
   "source": [
    "# Titanic spaceship kaggle competition"
   ]
  },
  {
   "cell_type": "markdown",
   "id": "967dc815-c0e6-4dce-b5fb-e48009d706f9",
   "metadata": {
    "tags": []
   },
   "source": [
    "## Initialisation"
   ]
  },
  {
   "cell_type": "code",
   "execution_count": 3,
   "id": "b80e7522-a078-47d2-bd50-ace598de0e03",
   "metadata": {},
   "outputs": [],
   "source": [
    "import numpy as np\n",
    "import pandas as pd\n",
    "import kaggle\n",
    "import seaborn as sns\n",
    "import matplotlib.pyplot as plt\n",
    "import os"
   ]
  },
  {
   "cell_type": "code",
   "execution_count": 4,
   "id": "1cdc5892-14f2-4909-afb0-a3c54bdea0f6",
   "metadata": {},
   "outputs": [],
   "source": [
    "REPO_DATA = 'data'\n",
    "REPO_MODEL = 'model'\n",
    "REPO_SUBMISSION = 'submission'\n",
    "\n",
    "SUBMIT_ON_KAGGLE = True"
   ]
  },
  {
   "cell_type": "code",
   "execution_count": 5,
   "id": "597f3935-fea8-4297-aafe-270b823a966d",
   "metadata": {},
   "outputs": [],
   "source": [
    "if not os.path.exists(REPO_DATA):\n",
    "    os.mkdir(REPO_DATA)\n",
    "if not os.path.exists(REPO_MODEL):\n",
    "    os.mkdir(REPO_MODEL)\n",
    "if not os.path.exists(REPO_SUBMISSION):\n",
    "    os.mkdir(REPO_SUBMISSION)"
   ]
  },
  {
   "cell_type": "markdown",
   "id": "0a5f2a2d-0cac-4a02-a832-f79600b6182f",
   "metadata": {
    "jp-MarkdownHeadingCollapsed": true,
    "tags": []
   },
   "source": [
    "## Load data"
   ]
  },
  {
   "cell_type": "code",
   "execution_count": 6,
   "id": "a75d6b19-1b1c-4609-b0cd-a4b1ae21abe1",
   "metadata": {},
   "outputs": [],
   "source": [
    "import zipfile\n",
    "\n",
    "if not os.path.exists(os.path.join(REPO_DATA, 'spaceship-titanic.zip')) \\\n",
    "or not os.path.exists(os.path.join(REPO_DATA, 'train.csv')) \\\n",
    "or not os.path.exists(os.path.join(REPO_DATA, 'test.csv')) \\\n",
    "or not os.path.exists(os.path.join(REPO_DATA, 'sample_submission.csv')):\n",
    "    \n",
    "    !kaggle competitions download -c spaceship-titanic -p $REPO_DATA\n",
    "    \n",
    "    with zipfile.ZipFile(os.path.join(REPO_DATA, 'spaceship-titanic.zip'), 'r') as zip_ref:\n",
    "        zip_ref.extractall(REPO_DATA)\n",
    "        \n",
    "df_train = pd.read_csv(os.path.join(REPO_DATA, 'train.csv'))\n",
    "df_test = pd.read_csv(os.path.join(REPO_DATA, 'test.csv'))"
   ]
  },
  {
   "cell_type": "code",
   "execution_count": 7,
   "id": "f693c123-9e1c-41cb-8962-e956c532c7d0",
   "metadata": {},
   "outputs": [
    {
     "data": {
      "text/html": [
       "<div>\n",
       "<style scoped>\n",
       "    .dataframe tbody tr th:only-of-type {\n",
       "        vertical-align: middle;\n",
       "    }\n",
       "\n",
       "    .dataframe tbody tr th {\n",
       "        vertical-align: top;\n",
       "    }\n",
       "\n",
       "    .dataframe thead th {\n",
       "        text-align: right;\n",
       "    }\n",
       "</style>\n",
       "<table border=\"1\" class=\"dataframe\">\n",
       "  <thead>\n",
       "    <tr style=\"text-align: right;\">\n",
       "      <th></th>\n",
       "      <th>PassengerId</th>\n",
       "      <th>HomePlanet</th>\n",
       "      <th>CryoSleep</th>\n",
       "      <th>Cabin</th>\n",
       "      <th>Destination</th>\n",
       "      <th>Age</th>\n",
       "      <th>VIP</th>\n",
       "      <th>RoomService</th>\n",
       "      <th>FoodCourt</th>\n",
       "      <th>ShoppingMall</th>\n",
       "      <th>Spa</th>\n",
       "      <th>VRDeck</th>\n",
       "      <th>Name</th>\n",
       "      <th>Transported</th>\n",
       "    </tr>\n",
       "  </thead>\n",
       "  <tbody>\n",
       "    <tr>\n",
       "      <th>0</th>\n",
       "      <td>0001_01</td>\n",
       "      <td>Europa</td>\n",
       "      <td>False</td>\n",
       "      <td>B/0/P</td>\n",
       "      <td>TRAPPIST-1e</td>\n",
       "      <td>39.0</td>\n",
       "      <td>False</td>\n",
       "      <td>0.0</td>\n",
       "      <td>0.0</td>\n",
       "      <td>0.0</td>\n",
       "      <td>0.0</td>\n",
       "      <td>0.0</td>\n",
       "      <td>Maham Ofracculy</td>\n",
       "      <td>False</td>\n",
       "    </tr>\n",
       "    <tr>\n",
       "      <th>1</th>\n",
       "      <td>0002_01</td>\n",
       "      <td>Earth</td>\n",
       "      <td>False</td>\n",
       "      <td>F/0/S</td>\n",
       "      <td>TRAPPIST-1e</td>\n",
       "      <td>24.0</td>\n",
       "      <td>False</td>\n",
       "      <td>109.0</td>\n",
       "      <td>9.0</td>\n",
       "      <td>25.0</td>\n",
       "      <td>549.0</td>\n",
       "      <td>44.0</td>\n",
       "      <td>Juanna Vines</td>\n",
       "      <td>True</td>\n",
       "    </tr>\n",
       "    <tr>\n",
       "      <th>2</th>\n",
       "      <td>0003_01</td>\n",
       "      <td>Europa</td>\n",
       "      <td>False</td>\n",
       "      <td>A/0/S</td>\n",
       "      <td>TRAPPIST-1e</td>\n",
       "      <td>58.0</td>\n",
       "      <td>True</td>\n",
       "      <td>43.0</td>\n",
       "      <td>3576.0</td>\n",
       "      <td>0.0</td>\n",
       "      <td>6715.0</td>\n",
       "      <td>49.0</td>\n",
       "      <td>Altark Susent</td>\n",
       "      <td>False</td>\n",
       "    </tr>\n",
       "    <tr>\n",
       "      <th>3</th>\n",
       "      <td>0003_02</td>\n",
       "      <td>Europa</td>\n",
       "      <td>False</td>\n",
       "      <td>A/0/S</td>\n",
       "      <td>TRAPPIST-1e</td>\n",
       "      <td>33.0</td>\n",
       "      <td>False</td>\n",
       "      <td>0.0</td>\n",
       "      <td>1283.0</td>\n",
       "      <td>371.0</td>\n",
       "      <td>3329.0</td>\n",
       "      <td>193.0</td>\n",
       "      <td>Solam Susent</td>\n",
       "      <td>False</td>\n",
       "    </tr>\n",
       "  </tbody>\n",
       "</table>\n",
       "</div>"
      ],
      "text/plain": [
       "  PassengerId HomePlanet CryoSleep  Cabin  Destination   Age    VIP  \\\n",
       "0     0001_01     Europa     False  B/0/P  TRAPPIST-1e  39.0  False   \n",
       "1     0002_01      Earth     False  F/0/S  TRAPPIST-1e  24.0  False   \n",
       "2     0003_01     Europa     False  A/0/S  TRAPPIST-1e  58.0   True   \n",
       "3     0003_02     Europa     False  A/0/S  TRAPPIST-1e  33.0  False   \n",
       "\n",
       "   RoomService  FoodCourt  ShoppingMall     Spa  VRDeck             Name  \\\n",
       "0          0.0        0.0           0.0     0.0     0.0  Maham Ofracculy   \n",
       "1        109.0        9.0          25.0   549.0    44.0     Juanna Vines   \n",
       "2         43.0     3576.0           0.0  6715.0    49.0    Altark Susent   \n",
       "3          0.0     1283.0         371.0  3329.0   193.0     Solam Susent   \n",
       "\n",
       "   Transported  \n",
       "0        False  \n",
       "1         True  \n",
       "2        False  \n",
       "3        False  "
      ]
     },
     "execution_count": 7,
     "metadata": {},
     "output_type": "execute_result"
    }
   ],
   "source": [
    "df_train.head(4)"
   ]
  },
  {
   "cell_type": "code",
   "execution_count": 8,
   "id": "f5a8f0cd-ee56-4299-a84b-a1307952de55",
   "metadata": {},
   "outputs": [
    {
     "data": {
      "text/html": [
       "<div>\n",
       "<style scoped>\n",
       "    .dataframe tbody tr th:only-of-type {\n",
       "        vertical-align: middle;\n",
       "    }\n",
       "\n",
       "    .dataframe tbody tr th {\n",
       "        vertical-align: top;\n",
       "    }\n",
       "\n",
       "    .dataframe thead th {\n",
       "        text-align: right;\n",
       "    }\n",
       "</style>\n",
       "<table border=\"1\" class=\"dataframe\">\n",
       "  <thead>\n",
       "    <tr style=\"text-align: right;\">\n",
       "      <th></th>\n",
       "      <th>PassengerId</th>\n",
       "      <th>HomePlanet</th>\n",
       "      <th>CryoSleep</th>\n",
       "      <th>Cabin</th>\n",
       "      <th>Destination</th>\n",
       "      <th>Age</th>\n",
       "      <th>VIP</th>\n",
       "      <th>RoomService</th>\n",
       "      <th>FoodCourt</th>\n",
       "      <th>ShoppingMall</th>\n",
       "      <th>Spa</th>\n",
       "      <th>VRDeck</th>\n",
       "      <th>Name</th>\n",
       "    </tr>\n",
       "  </thead>\n",
       "  <tbody>\n",
       "    <tr>\n",
       "      <th>0</th>\n",
       "      <td>0013_01</td>\n",
       "      <td>Earth</td>\n",
       "      <td>True</td>\n",
       "      <td>G/3/S</td>\n",
       "      <td>TRAPPIST-1e</td>\n",
       "      <td>27.0</td>\n",
       "      <td>False</td>\n",
       "      <td>0.0</td>\n",
       "      <td>0.0</td>\n",
       "      <td>0.0</td>\n",
       "      <td>0.0</td>\n",
       "      <td>0.0</td>\n",
       "      <td>Nelly Carsoning</td>\n",
       "    </tr>\n",
       "    <tr>\n",
       "      <th>1</th>\n",
       "      <td>0018_01</td>\n",
       "      <td>Earth</td>\n",
       "      <td>False</td>\n",
       "      <td>F/4/S</td>\n",
       "      <td>TRAPPIST-1e</td>\n",
       "      <td>19.0</td>\n",
       "      <td>False</td>\n",
       "      <td>0.0</td>\n",
       "      <td>9.0</td>\n",
       "      <td>0.0</td>\n",
       "      <td>2823.0</td>\n",
       "      <td>0.0</td>\n",
       "      <td>Lerome Peckers</td>\n",
       "    </tr>\n",
       "    <tr>\n",
       "      <th>2</th>\n",
       "      <td>0019_01</td>\n",
       "      <td>Europa</td>\n",
       "      <td>True</td>\n",
       "      <td>C/0/S</td>\n",
       "      <td>55 Cancri e</td>\n",
       "      <td>31.0</td>\n",
       "      <td>False</td>\n",
       "      <td>0.0</td>\n",
       "      <td>0.0</td>\n",
       "      <td>0.0</td>\n",
       "      <td>0.0</td>\n",
       "      <td>0.0</td>\n",
       "      <td>Sabih Unhearfus</td>\n",
       "    </tr>\n",
       "    <tr>\n",
       "      <th>3</th>\n",
       "      <td>0021_01</td>\n",
       "      <td>Europa</td>\n",
       "      <td>False</td>\n",
       "      <td>C/1/S</td>\n",
       "      <td>TRAPPIST-1e</td>\n",
       "      <td>38.0</td>\n",
       "      <td>False</td>\n",
       "      <td>0.0</td>\n",
       "      <td>6652.0</td>\n",
       "      <td>0.0</td>\n",
       "      <td>181.0</td>\n",
       "      <td>585.0</td>\n",
       "      <td>Meratz Caltilter</td>\n",
       "    </tr>\n",
       "  </tbody>\n",
       "</table>\n",
       "</div>"
      ],
      "text/plain": [
       "  PassengerId HomePlanet CryoSleep  Cabin  Destination   Age    VIP  \\\n",
       "0     0013_01      Earth      True  G/3/S  TRAPPIST-1e  27.0  False   \n",
       "1     0018_01      Earth     False  F/4/S  TRAPPIST-1e  19.0  False   \n",
       "2     0019_01     Europa      True  C/0/S  55 Cancri e  31.0  False   \n",
       "3     0021_01     Europa     False  C/1/S  TRAPPIST-1e  38.0  False   \n",
       "\n",
       "   RoomService  FoodCourt  ShoppingMall     Spa  VRDeck              Name  \n",
       "0          0.0        0.0           0.0     0.0     0.0   Nelly Carsoning  \n",
       "1          0.0        9.0           0.0  2823.0     0.0    Lerome Peckers  \n",
       "2          0.0        0.0           0.0     0.0     0.0   Sabih Unhearfus  \n",
       "3          0.0     6652.0           0.0   181.0   585.0  Meratz Caltilter  "
      ]
     },
     "execution_count": 8,
     "metadata": {},
     "output_type": "execute_result"
    }
   ],
   "source": [
    "df_test.head(4)"
   ]
  },
  {
   "cell_type": "code",
   "execution_count": 9,
   "id": "6915e4d4-243c-41a0-a8bb-d9ea83c9eb68",
   "metadata": {},
   "outputs": [
    {
     "name": "stdout",
     "output_type": "stream",
     "text": [
      "There is 8693 rows and 14 columns in the train dataframe.\n",
      "There is 4277 rows and 13 columns in the test dataframe.\n"
     ]
    }
   ],
   "source": [
    "print(\"There is {n_rows_train} rows and {n_cols_train} columns in the train dataframe.\"\n",
    "      .format(n_rows_train=df_train.shape[0], n_cols_train=df_train.shape[1]))\n",
    "print(\"There is {n_rows_test} rows and {n_cols_test} columns in the test dataframe.\"\n",
    "      .format(n_rows_test=df_test.shape[0], n_cols_test=df_test.shape[1]))"
   ]
  },
  {
   "cell_type": "markdown",
   "id": "d10367c3-2463-496f-a552-539a3e3d1e54",
   "metadata": {
    "jp-MarkdownHeadingCollapsed": true,
    "tags": []
   },
   "source": [
    "## Preprocessing"
   ]
  },
  {
   "cell_type": "markdown",
   "id": "bc05832d-7bb1-47b6-9bb4-2177f08b5d07",
   "metadata": {
    "jp-MarkdownHeadingCollapsed": true,
    "tags": []
   },
   "source": [
    "### PassengerId"
   ]
  },
  {
   "cell_type": "code",
   "execution_count": 10,
   "id": "205f98e6-9920-47f8-8cd3-8761a6fef326",
   "metadata": {},
   "outputs": [],
   "source": [
    "df_train[\"GroupId\"] = df_train.PassengerId.apply(lambda passenger_id: passenger_id.split('_')[0])\n",
    "df_train[\"PassengerGroupNumber\"] = df_train.PassengerId.apply(lambda passenger_id: passenger_id.split('_')[1])\n",
    "\n",
    "df_test[\"GroupId\"] = df_test.PassengerId.apply(lambda passenger_id: passenger_id.split('_')[0])\n",
    "df_test[\"PassengerGroupNumber\"] = df_test.PassengerId.apply(lambda passenger_id: passenger_id.split('_')[1])"
   ]
  },
  {
   "cell_type": "markdown",
   "id": "7f2717aa-c3b9-449a-bc66-47b4c68014b4",
   "metadata": {
    "jp-MarkdownHeadingCollapsed": true,
    "tags": []
   },
   "source": [
    "### Cabin"
   ]
  },
  {
   "cell_type": "code",
   "execution_count": 11,
   "id": "a4313a36-a9f7-4840-8167-bc422fbdce95",
   "metadata": {},
   "outputs": [],
   "source": [
    "df_train[\"CabinDeck\"] = df_train.Cabin.apply(lambda cabin: cabin.split('/')[0] if pd.notna(cabin) else cabin)\n",
    "df_train[\"CabinSide\"] = df_train.Cabin.apply(lambda cabin: cabin.split('/')[2] if pd.notna(cabin) else cabin)\n",
    "\n",
    "df_test[\"CabinDeck\"] = df_test.Cabin.apply(lambda cabin: cabin.split('/')[0] if pd.notna(cabin) else cabin)\n",
    "df_test[\"CabinSide\"] = df_test.Cabin.apply(lambda cabin: cabin.split('/')[2] if pd.notna(cabin) else cabin)"
   ]
  },
  {
   "cell_type": "markdown",
   "id": "91259886-9772-4ae9-9490-344c0e476379",
   "metadata": {
    "jp-MarkdownHeadingCollapsed": true,
    "tags": []
   },
   "source": [
    "### HomePlanet"
   ]
  },
  {
   "cell_type": "code",
   "execution_count": 12,
   "id": "08d612ab-2db4-440a-8b07-655ed3467060",
   "metadata": {},
   "outputs": [],
   "source": [
    "group_home_planet_mapping = {row.GroupId: row.HomePlanet for _, row in pd.concat([df_train, df_test]) \\\n",
    "                                                                         .groupby(by=[\"GroupId\"], axis=0, as_index=False)[\"HomePlanet\"] \\\n",
    "                                                                         .first()\n",
    "                                                                         .iterrows()}\n",
    "\n",
    "group_home_planet_mapping = {key: value if value != None else np.nan for key, value in group_home_planet_mapping.items()}\n",
    "\n",
    "df_train[\"HomePlanet\"] = df_train.apply(lambda row: row.HomePlanet if pd.notna(row.HomePlanet) else group_home_planet_mapping.get(row.GroupId, row.HomePlanet), axis=1)\n",
    "df_test[\"HomePlanet\"] = df_test.apply(lambda row: row.HomePlanet if pd.notna(row.HomePlanet) else group_home_planet_mapping.get(row.GroupId, row.HomePlanet), axis=1)"
   ]
  },
  {
   "cell_type": "code",
   "execution_count": 13,
   "id": "d4d670f6-d9fc-4bf8-b9ee-805ea1db4c41",
   "metadata": {},
   "outputs": [],
   "source": [
    "def complete_missing_home_planet_using_deck(row):\n",
    "    if pd.notna(row.HomePlanet):\n",
    "        home_planet = row.HomePlanet\n",
    "    elif pd.isna(row.CabinDeck):\n",
    "        home_planet = row.HomePlanet\n",
    "    elif row.CabinDeck in ['A', 'B', 'C', 'T']:\n",
    "        home_planet = 'Europa'\n",
    "    elif row.CabinDeck in ['G']:\n",
    "        home_planet = 'Earth'\n",
    "    else:\n",
    "        home_planet = row.HomePlanet\n",
    "    return home_planet\n",
    "\n",
    "df_train.HomePlanet = df_train.apply(complete_missing_home_planet_using_deck, axis=1)\n",
    "df_test.HomePlanet = df_test.apply(complete_missing_home_planet_using_deck, axis=1)"
   ]
  },
  {
   "cell_type": "markdown",
   "id": "89eed4b3-f932-4143-893c-0bd7834ff451",
   "metadata": {
    "jp-MarkdownHeadingCollapsed": true,
    "tags": []
   },
   "source": [
    "### Split features and target"
   ]
  },
  {
   "cell_type": "code",
   "execution_count": 14,
   "id": "c0b8e5dd-f3ba-4355-a35b-3c862dd2b7c9",
   "metadata": {},
   "outputs": [],
   "source": [
    "X_train = df_train.drop(columns=[\"PassengerId\", \"Cabin\", \"GroupId\", \"PassengerGroupNumber\", \"Name\", \"Transported\"])\n",
    "X_test = df_test.drop(columns=[\"PassengerId\", \"Cabin\", \"GroupId\", \"PassengerGroupNumber\", \"Name\"])\n",
    "y_train = df_train[\"Transported\"]\n",
    "list_passenger_id = df_test[\"PassengerId\"]"
   ]
  },
  {
   "cell_type": "markdown",
   "id": "6c30d89e-f61e-4f36-bc03-53c80f6627eb",
   "metadata": {
    "jp-MarkdownHeadingCollapsed": true,
    "tags": []
   },
   "source": [
    "## Function model tuning"
   ]
  },
  {
   "cell_type": "code",
   "execution_count": 15,
   "id": "573f134c-90eb-4430-9f76-9db2d88045ff",
   "metadata": {},
   "outputs": [],
   "source": [
    "from sklearn.model_selection import GridSearchCV\n",
    "import json\n",
    "\n",
    "def hyperparameter_tuning(pipeline, param_grid, model_name, repo_model, X_train, y_train):\n",
    "    \n",
    "    clf = GridSearchCV(\n",
    "        estimator=pipeline,\n",
    "        param_grid=param_grid,\n",
    "        scoring=\"accuracy\",\n",
    "        n_jobs=-1,\n",
    "        refit=True,\n",
    "        cv=5\n",
    "    )\n",
    "    \n",
    "    clf = clf.fit(X_train, y_train)\n",
    "    \n",
    "    data = {\n",
    "        \"model_name\": model_name,\n",
    "        \"best_score\": clf.best_score_,\n",
    "        \"best_params\": clf.best_params_,\n",
    "    }\n",
    "    \n",
    "    with open(os.path.join(repo_model, model_name + \".json\"), \"w+\") as file:\n",
    "        json.dump(data, file)"
   ]
  },
  {
   "cell_type": "code",
   "execution_count": 46,
   "id": "f33b9039-a697-4037-8998-cd896ac903f2",
   "metadata": {},
   "outputs": [],
   "source": [
    "def make_submission(pipeline, model_name, repo_model, repo_submission, submit_on_kaggle, X_train, y_train, X_test, list_passenger_id):\n",
    "    \n",
    "    with open(os.path.join(repo_model, model_name + \".json\"), 'r') as file:\n",
    "        data = json.load(file)\n",
    "        \n",
    "    print(\"Model name: {}\".format(data[\"model_name\"]))\n",
    "    print(\"Cross validation score: {}\".format(data[\"best_score\"]))\n",
    "    print(\"Best params: {}\".format(data[\"best_params\"]))\n",
    "    \n",
    "    pipeline = pipeline.set_params(**data[\"best_params\"])\n",
    "    pipeline = pipeline.fit(X_train, y_train)\n",
    "    y_pred = pipeline.predict(X_test)\n",
    "    \n",
    "    submission = pd.DataFrame({'PassengerId': list_passenger_id, 'Transported': y_pred})\n",
    "    submission.to_csv(os.path.join(repo_submission, model_name + \".csv\"), index=False)\n",
    "    \n",
    "    if submit_on_kaggle == True:\n",
    "        \n",
    "        path = os.path.join(repo_submission, model_name + \".csv\")\n",
    "        request = !kaggle competitions submit -c spaceship-titanic -f $path -m $model_name\n",
    "        \n",
    "        response = !kaggle competitions submissions -c spaceship-titanic --csv\n",
    "        score_kaggle = float(response[2].split(',')[4])\n",
    "        \n",
    "        data[\"score_kaggle\"] = score_kaggle\n",
    "        \n",
    "        with open(os.path.join(repo_model, model_name + \".json\"), 'w+') as file:\n",
    "            json.dump(data, file)\n",
    "        \n",
    "        print(\"Kaggle submission score: {}\".format(score_kaggle))"
   ]
  },
  {
   "cell_type": "markdown",
   "id": "108f131d-5027-43a0-9942-000b1587433a",
   "metadata": {
    "jp-MarkdownHeadingCollapsed": true,
    "tags": []
   },
   "source": [
    "## Preprocessor pipeline"
   ]
  },
  {
   "cell_type": "code",
   "execution_count": 17,
   "id": "0ea1cc83-c3da-47d7-9fc9-31444c1167b2",
   "metadata": {},
   "outputs": [],
   "source": [
    "from sklearn.pipeline import Pipeline\n",
    "from sklearn.preprocessing import StandardScaler\n",
    "from sklearn.preprocessing import FunctionTransformer\n",
    "from sklearn.preprocessing import PowerTransformer\n",
    "from sklearn.impute import SimpleImputer\n",
    "from sklearn.compose import ColumnTransformer\n",
    "from sklearn.preprocessing import OneHotEncoder\n",
    "\n",
    "features_1 = [\"RoomService\", \"FoodCourt\", \"ShoppingMall\", \"Spa\", \"VRDeck\"]\n",
    "features_2 = [\"Age\"]\n",
    "features_3 = [\"CryoSleep\", \"VIP\"]\n",
    "features_4 = [\"HomePlanet\", \"Destination\", \"CabinDeck\", \"CabinSide\"]\n",
    "\n",
    "transformer_1 = Pipeline(steps=[\n",
    "    ('imputer', SimpleImputer(strategy='constant', fill_value=0)),\n",
    "    ('log', FunctionTransformer(func=lambda x: np.log(x+1))),\n",
    "    ('scaler', StandardScaler()),\n",
    "])\n",
    "\n",
    "transformer_2 = Pipeline(steps=[\n",
    "    ('imputer', SimpleImputer(strategy='mean')),\n",
    "    ('yeo_jonhson', PowerTransformer(method='yeo-johnson', standardize=True)),\n",
    "])\n",
    "\n",
    "transformer_3 = Pipeline(steps=[\n",
    "    ('imputer', SimpleImputer(strategy='constant', fill_value=False)),\n",
    "    ('caster', FunctionTransformer(func=lambda x: np.int64(x))),\n",
    "])\n",
    "\n",
    "transformer_4 = Pipeline(steps=[\n",
    "    ('imputer', SimpleImputer(strategy='constant', fill_value='Unknown')),\n",
    "    ('encoder', OneHotEncoder(handle_unknown='ignore', sparse=False)),\n",
    "])\n",
    "\n",
    "preprocessor = ColumnTransformer(transformers=[\n",
    "    ('features_1', transformer_1, features_1),\n",
    "    ('features_2', transformer_2, features_2),\n",
    "    ('features_3', transformer_3, features_3),\n",
    "    ('features_4', transformer_4, features_4),\n",
    "])"
   ]
  },
  {
   "cell_type": "markdown",
   "id": "53d6c6c8-b009-42fc-a878-50451f640bd5",
   "metadata": {
    "jp-MarkdownHeadingCollapsed": true,
    "tags": []
   },
   "source": [
    "## Pipeline"
   ]
  },
  {
   "cell_type": "code",
   "execution_count": 18,
   "id": "c731f8f1-1fa1-43c5-84ae-628eb88552d9",
   "metadata": {},
   "outputs": [],
   "source": [
    "from sklearn.linear_model import LogisticRegression\n",
    "from sklearn.neighbors import KNeighborsClassifier\n",
    "from sklearn.svm import SVC\n",
    "\n",
    "def get_pipeline(model_name):\n",
    "\n",
    "    if model_name == \"logistic_regression_v1\":\n",
    "        \n",
    "        pipeline = Pipeline(steps=[\n",
    "            ('preprocessor', preprocessor),\n",
    "            ('logistic', LogisticRegression(max_iter=1000, random_state=42)),\n",
    "        ])\n",
    "        \n",
    "    elif model_name == \"knn_v1\":\n",
    "        \n",
    "        pipeline = Pipeline(steps=[\n",
    "            ('preprocessor', preprocessor),\n",
    "            ('knn', KNeighborsClassifier()),\n",
    "        ])\n",
    "        \n",
    "    elif model_name == \"svm_v1\":\n",
    "        \n",
    "        pipeline = Pipeline(steps=[\n",
    "            ('preprocessor', preprocessor),\n",
    "            ('svm', SVC(random_state=42)),\n",
    "        ])\n",
    "    \n",
    "    else:\n",
    "        raise NotImplementedError\n",
    "        \n",
    "    return pipeline"
   ]
  },
  {
   "cell_type": "markdown",
   "id": "be9719bf-aa42-4b01-9fbc-81c0791b8df3",
   "metadata": {
    "jp-MarkdownHeadingCollapsed": true,
    "tags": []
   },
   "source": [
    "## Param grid"
   ]
  },
  {
   "cell_type": "code",
   "execution_count": 19,
   "id": "ec0419b1-d036-4382-8318-6957c18149de",
   "metadata": {},
   "outputs": [],
   "source": [
    "def get_param_grid(model_name):\n",
    "    \n",
    "    if model_name == \"logistic_regression_v1\":\n",
    "        \n",
    "        param_grid = [\n",
    "            {\n",
    "                \"logistic__solver\": [\"liblinear\"],\n",
    "                \"logistic__penalty\": [\"l1\", \"l2\"],\n",
    "                \"logistic__C\": list(np.logspace(-5, 5, 31)),\n",
    "            },\n",
    "            {\n",
    "                \"logistic__solver\": [\"saga\"],\n",
    "                \"logistic__penalty\": [\"elasticnet\"],\n",
    "                \"logistic__C\": list(np.logspace(-5, 5, 31)),\n",
    "                \"logistic__l1_ratio\": list(np.linspace(0.1, 0.9, 9)),\n",
    "            }\n",
    "        ]\n",
    "        \n",
    "    elif model_name == \"knn_v1\":\n",
    "        \n",
    "        param_grid = {\n",
    "            \"knn__n_neighbors\": list(map(int, np.linspace(1, 10, 10))),\n",
    "            \"knn__weights\": [\"uniform\", \"distance\"],\n",
    "            \"knn__p\": [1, 2]\n",
    "        }\n",
    "        \n",
    "    elif model_name == \"svm_v1\":\n",
    "        \n",
    "        param_grid = [\n",
    "            {\n",
    "                \"svm__C\": list(np.logspace(-5, 5, 1)), \n",
    "                \"svm__kernel\": [\"linear\", \"rbf\", \"sigmoid\"]\n",
    "            },\n",
    "            {\n",
    "                \"svm__C\":  list(np.logspace(-5, 5, 1)),\n",
    "                \"svm__kernel\": [\"poly\"],\n",
    "                \"svm__degree\": list(map(int, np.linspace(1, 5, 1)))\n",
    "            }\n",
    "        ]\n",
    "        \n",
    "    else:\n",
    "        raise NotImplementedError\n",
    "        \n",
    "    return param_grid"
   ]
  },
  {
   "cell_type": "markdown",
   "id": "51e99e6f-a498-4c91-a7b1-0f266296f2f0",
   "metadata": {},
   "source": [
    "## Pipeline v1"
   ]
  },
  {
   "cell_type": "markdown",
   "id": "81d968bc-a9dd-4846-a301-c68c6039a12a",
   "metadata": {
    "jp-MarkdownHeadingCollapsed": true,
    "tags": []
   },
   "source": [
    "### Logistic regression"
   ]
  },
  {
   "cell_type": "code",
   "execution_count": 18,
   "id": "38c9749e-ebb7-4623-b8b1-cd3162f5c809",
   "metadata": {},
   "outputs": [],
   "source": [
    "MODEL_NAME = \"logistic_regression_v1\"\n",
    "\n",
    "pipeline = get_pipeline(\n",
    "    model_name=MODEL_NAME\n",
    ")\n",
    "\n",
    "param_grid = get_param_grid(\n",
    "    model_name=MODEL_NAME\n",
    ")"
   ]
  },
  {
   "cell_type": "code",
   "execution_count": 19,
   "id": "10f550ba-ca29-4364-ad57-7f55c30e8b20",
   "metadata": {},
   "outputs": [],
   "source": [
    "hyperparameter_tuning(\n",
    "    pipeline=pipeline,\n",
    "    param_grid=param_grid,\n",
    "    model_name=MODEL_NAME,\n",
    "    repo_model=REPO_MODEL,\n",
    "    X_train=X_train,\n",
    "    y_train=y_train\n",
    ")"
   ]
  },
  {
   "cell_type": "code",
   "execution_count": 54,
   "id": "3a12eb76-f653-4020-a4e8-7ba4dd0345c4",
   "metadata": {},
   "outputs": [
    {
     "name": "stdout",
     "output_type": "stream",
     "text": [
      "Model name: logistic_regression_v1\n",
      "Cross validation score: 0.7747624886596068\n",
      "Best params: {'logistic__C': 0.0031622776601683794, 'logistic__penalty': 'l2', 'logistic__solver': 'liblinear'}\n",
      "Kaggle submission score: 0.78021\n"
     ]
    }
   ],
   "source": [
    "make_submission(\n",
    "    pipeline=pipeline, \n",
    "    model_name=MODEL_NAME, \n",
    "    repo_model=REPO_MODEL, \n",
    "    repo_submission=REPO_SUBMISSION, \n",
    "    submit_on_kaggle=SUBMIT_ON_KAGGLE, \n",
    "    X_train=X_train, \n",
    "    y_train=y_train, \n",
    "    X_test=X_test, \n",
    "    list_passenger_id=list_passenger_id\n",
    ")"
   ]
  },
  {
   "cell_type": "markdown",
   "id": "bb418f40-5f02-467b-8b15-92bebc430443",
   "metadata": {
    "tags": []
   },
   "source": [
    "### SVM"
   ]
  },
  {
   "cell_type": "code",
   "execution_count": 20,
   "id": "14d614d9-e1b4-43fe-9316-e13aefa88669",
   "metadata": {},
   "outputs": [],
   "source": [
    "MODEL_NAME = \"svm_v1\"\n",
    "\n",
    "pipeline = get_pipeline(\n",
    "    model_name=MODEL_NAME\n",
    ")\n",
    "\n",
    "param_grid = get_param_grid(\n",
    "    model_name=MODEL_NAME\n",
    ")"
   ]
  },
  {
   "cell_type": "code",
   "execution_count": 21,
   "id": "ab8ed7e9-03e2-4f46-88bb-172b5245b364",
   "metadata": {},
   "outputs": [],
   "source": [
    "hyperparameter_tuning(\n",
    "    pipeline=pipeline,\n",
    "    param_grid=param_grid,\n",
    "    model_name=MODEL_NAME,\n",
    "    repo_model=REPO_MODEL,\n",
    "    X_train=X_train,\n",
    "    y_train=y_train\n",
    ")"
   ]
  },
  {
   "cell_type": "code",
   "execution_count": 47,
   "id": "01adae18-29b8-4b7e-99e8-e165e9fcbae8",
   "metadata": {},
   "outputs": [
    {
     "name": "stdout",
     "output_type": "stream",
     "text": [
      "Model name: svm_v1\n",
      "Cross validation score: 0.5036235657835443\n",
      "Best params: {'svm__C': 1e-05, 'svm__kernel': 'linear'}\n",
      "Kaggle submission score: 0.50689\n"
     ]
    }
   ],
   "source": [
    "make_submission(\n",
    "    pipeline=pipeline, \n",
    "    model_name=MODEL_NAME, \n",
    "    repo_model=REPO_MODEL, \n",
    "    repo_submission=REPO_SUBMISSION, \n",
    "    submit_on_kaggle=SUBMIT_ON_KAGGLE, \n",
    "    X_train=X_train, \n",
    "    y_train=y_train, \n",
    "    X_test=X_test, \n",
    "    list_passenger_id=list_passenger_id\n",
    ")"
   ]
  }
 ],
 "metadata": {
  "kernelspec": {
   "display_name": "Python 3 (ipykernel)",
   "language": "python",
   "name": "python3"
  },
  "language_info": {
   "codemirror_mode": {
    "name": "ipython",
    "version": 3
   },
   "file_extension": ".py",
   "mimetype": "text/x-python",
   "name": "python",
   "nbconvert_exporter": "python",
   "pygments_lexer": "ipython3",
   "version": "3.10.4"
  }
 },
 "nbformat": 4,
 "nbformat_minor": 5
}
