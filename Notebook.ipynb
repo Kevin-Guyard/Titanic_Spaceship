{
 "cells": [
  {
   "cell_type": "markdown",
   "id": "b7e40172",
   "metadata": {
    "tags": []
   },
   "source": [
    "# Titanic spaceship kaggle competition"
   ]
  },
  {
   "cell_type": "markdown",
   "id": "d20c8dc5",
   "metadata": {
    "jp-MarkdownHeadingCollapsed": true,
    "tags": []
   },
   "source": [
    "## Initialisation"
   ]
  },
  {
   "cell_type": "code",
   "execution_count": 1,
   "id": "b2520630",
   "metadata": {},
   "outputs": [],
   "source": [
    "import numpy as np\n",
    "import pandas as pd\n",
    "import kaggle\n",
    "import os\n",
    "import json\n",
    "import time\n",
    "from titanic_spaceship_package import dataframe_preprocessing, get_pipeline"
   ]
  },
  {
   "cell_type": "code",
   "execution_count": 2,
   "id": "d233cf76",
   "metadata": {},
   "outputs": [],
   "source": [
    "REPO_DATA = 'data'\n",
    "REPO_DATA_PREPROCESSED = 'data_preprocessed'\n",
    "REPO_MODEL = 'model'\n",
    "REPO_SUBMISSION = 'submission'"
   ]
  },
  {
   "cell_type": "code",
   "execution_count": 3,
   "id": "4622c3f4",
   "metadata": {},
   "outputs": [],
   "source": [
    "if not os.path.exists(REPO_DATA):\n",
    "    os.mkdir(REPO_DATA)\n",
    "if not os.path.exists(REPO_DATA_PREPROCESSED):\n",
    "    os.mkdir(REPO_DATA_PREPROCESSED)\n",
    "if not os.path.exists(REPO_MODEL):\n",
    "    os.mkdir(REPO_MODEL)\n",
    "if not os.path.exists(REPO_SUBMISSION):\n",
    "    os.mkdir(REPO_SUBMISSION)"
   ]
  },
  {
   "cell_type": "markdown",
   "id": "a92971bf",
   "metadata": {
    "jp-MarkdownHeadingCollapsed": true,
    "tags": []
   },
   "source": [
    "## Load data"
   ]
  },
  {
   "cell_type": "code",
   "execution_count": 4,
   "id": "0e1fee3d",
   "metadata": {},
   "outputs": [],
   "source": [
    "import zipfile\n",
    "\n",
    "if not os.path.exists(os.path.join(REPO_DATA, 'train.csv')) \\\n",
    "or not os.path.exists(os.path.join(REPO_DATA, 'test.csv')) \\\n",
    "or not os.path.exists(os.path.join(REPO_DATA, 'sample_submission.csv')):\n",
    "    \n",
    "    !kaggle competitions download -c spaceship-titanic -p $REPO_DATA\n",
    "    \n",
    "    with zipfile.ZipFile(os.path.join(REPO_DATA, 'spaceship-titanic.zip'), 'r') as zip_ref:\n",
    "        zip_ref.extractall(REPO_DATA)\n",
    "        \n",
    "df_train = pd.read_csv(os.path.join(REPO_DATA, 'train.csv'))\n",
    "df_test = pd.read_csv(os.path.join(REPO_DATA, 'test.csv'))"
   ]
  },
  {
   "cell_type": "code",
   "execution_count": 5,
   "id": "7e2394af",
   "metadata": {},
   "outputs": [],
   "source": [
    "if not os.path.exists(os.path.join(REPO_DATA_PREPROCESSED, \"X_train.csv\")) \\\n",
    "or not os.path.exists(os.path.join(REPO_DATA_PREPROCESSED, \"X_test.csv\")) \\\n",
    "or not os.path.exists(os.path.join(REPO_DATA_PREPROCESSED, \"y_train.csv\")) \\\n",
    "or not os.path.exists(os.path.join(REPO_DATA_PREPROCESSED, \"list_passenger_id.csv\")):\n",
    "    \n",
    "    X_train, X_test, y_train, list_passenger_id = dataframe_preprocessing(df_train, df_test)\n",
    "    X_train.to_csv(os.path.join(REPO_DATA_PREPROCESSED, \"X_train.csv\"), index=False)\n",
    "    X_test.to_csv(os.path.join(REPO_DATA_PREPROCESSED, \"X_test.csv\"), index=False)\n",
    "    y_train.to_csv(os.path.join(REPO_DATA_PREPROCESSED, \"y_train.csv\"), index=False)\n",
    "    list_passenger_id.to_csv(os.path.join(REPO_DATA_PREPROCESSED, \"list_passenger_id.csv\"), index=False)\n",
    "    \n",
    "else:\n",
    "    \n",
    "    X_train = pd.read_csv(os.path.join(REPO_DATA_PREPROCESSED, \"X_train.csv\"))\n",
    "    X_test = pd.read_csv(os.path.join(REPO_DATA_PREPROCESSED, \"X_test.csv\"))\n",
    "    y_train = pd.read_csv(os.path.join(REPO_DATA_PREPROCESSED, \"y_train.csv\")).Transported\n",
    "    list_passenger_id = pd.read_csv(os.path.join(REPO_DATA_PREPROCESSED, \"list_passenger_id.csv\")).PassengerId"
   ]
  },
  {
   "cell_type": "markdown",
   "id": "ac0bb420",
   "metadata": {
    "jp-MarkdownHeadingCollapsed": true,
    "tags": []
   },
   "source": [
    "## Kaggle submission function"
   ]
  },
  {
   "cell_type": "code",
   "execution_count": 6,
   "id": "4e77d8b9",
   "metadata": {},
   "outputs": [],
   "source": [
    "def analyze_model(model_name, repo_model, repo_submission, X_train, y_train, X_test, list_passenger_id):\n",
    "    \n",
    "    with open(os.path.join(repo_model, model_name + \".json\"), 'r') as file:\n",
    "        data = json.load(file)\n",
    "        \n",
    "    print(\"Model name: {}\".format(data.get(\"model_name\")))\n",
    "    print(\"Cross validation score: {:.5f}\".format(data.get(\"best_score\")))\n",
    "    print(\"Best params: {}\".format(data.get(\"best_params\")))\n",
    "    print(\"Time to tune: {} seconds\".format(int(data.get(\"time_to_tune\"))))\n",
    "    \n",
    "    score_kaggle = data.get(\"score_kaggle\")\n",
    "    \n",
    "    if score_kaggle == None:\n",
    "    \n",
    "        pipeline = get_pipeline(model_name=model_name)\n",
    "        pipeline = pipeline.set_params(**data[\"best_params\"])\n",
    "        pipeline = pipeline.fit(X_train, y_train)\n",
    "        y_pred = pipeline.predict(X_test)\n",
    "\n",
    "        submission = pd.DataFrame({'PassengerId': list_passenger_id, 'Transported': y_pred})\n",
    "        submission.to_csv(os.path.join(repo_submission, model_name + \".csv\"), index=False)\n",
    "            \n",
    "        path = os.path.join(repo_submission, model_name + \".csv\")\n",
    "        request = !kaggle competitions submit -c spaceship-titanic -f $path -m $model_name\"\n",
    "                \n",
    "        time.sleep(5)\n",
    "        \n",
    "        response = !kaggle competitions submissions -c spaceship-titanic --csv\n",
    "        score_kaggle = float(response[2].split(',')[4])\n",
    "        \n",
    "        data[\"score_kaggle\"] = score_kaggle\n",
    "        \n",
    "        with open(os.path.join(repo_model, model_name + \".json\"), 'w+') as file:\n",
    "            json.dump(data, file)\n",
    "        \n",
    "    print(\"Kaggle submission score: {}\".format(score_kaggle))"
   ]
  },
  {
   "cell_type": "markdown",
   "id": "503bba4a",
   "metadata": {
    "jp-MarkdownHeadingCollapsed": true,
    "tags": []
   },
   "source": [
    "## Basic features"
   ]
  },
  {
   "cell_type": "markdown",
   "id": "8990a192",
   "metadata": {
    "jp-MarkdownHeadingCollapsed": true,
    "tags": []
   },
   "source": [
    "### Pipeline v1"
   ]
  },
  {
   "cell_type": "markdown",
   "id": "10a5f886",
   "metadata": {
    "tags": []
   },
   "source": [
    "#### Logistic regression"
   ]
  },
  {
   "cell_type": "code",
   "execution_count": 18,
   "id": "d561f031",
   "metadata": {},
   "outputs": [
    {
     "name": "stdout",
     "output_type": "stream",
     "text": [
      "Model name: logistic_regression__v01\n",
      "Cross validation score: 0.77948\n",
      "Best params: {'logistic__C': 0.01, 'logistic__penalty': 'l2', 'logistic__solver': 'liblinear'}\n",
      "Time to tune: 1476 seconds\n",
      "Kaggle submission score: 0.78442\n"
     ]
    }
   ],
   "source": [
    "MODEL_NAME = \"logistic_regression__v01\"\n",
    "\n",
    "if not os.path.exists(os.path.join(REPO_MODEL, MODEL_NAME + \".json\")):\n",
    "    !python script_tuning.py $MODEL_NAME\n",
    "    \n",
    "analyze_model(\n",
    "    model_name=MODEL_NAME, \n",
    "    repo_model=REPO_MODEL, \n",
    "    repo_submission=REPO_SUBMISSION, \n",
    "    X_train=X_train, \n",
    "    y_train=y_train, \n",
    "    X_test=X_test, \n",
    "    list_passenger_id=list_passenger_id\n",
    ")"
   ]
  },
  {
   "cell_type": "markdown",
   "id": "b12319da",
   "metadata": {
    "tags": []
   },
   "source": [
    "#### KNN"
   ]
  },
  {
   "cell_type": "code",
   "execution_count": 19,
   "id": "8015df9f",
   "metadata": {},
   "outputs": [
    {
     "name": "stdout",
     "output_type": "stream",
     "text": [
      "Model name: knn__v01\n",
      "Cross validation score: 0.78880\n",
      "Best params: {'knn__n_neighbors': 47, 'knn__p': 2, 'knn__weights': 'uniform'}\n",
      "Time to tune: 5311 seconds\n",
      "Kaggle submission score: 0.78793\n"
     ]
    }
   ],
   "source": [
    "MODEL_NAME = \"knn__v01\"\n",
    "\n",
    "if not os.path.exists(os.path.join(REPO_MODEL, MODEL_NAME + \".json\")):\n",
    "    !python script_tuning.py $MODEL_NAME\n",
    "\n",
    "analyze_model(\n",
    "    model_name=MODEL_NAME, \n",
    "    repo_model=REPO_MODEL, \n",
    "    repo_submission=REPO_SUBMISSION, \n",
    "    X_train=X_train, \n",
    "    y_train=y_train, \n",
    "    X_test=X_test, \n",
    "    list_passenger_id=list_passenger_id\n",
    ")"
   ]
  },
  {
   "cell_type": "markdown",
   "id": "5c91df41",
   "metadata": {
    "tags": []
   },
   "source": [
    "#### SVM"
   ]
  },
  {
   "cell_type": "code",
   "execution_count": 20,
   "id": "5fea51f0",
   "metadata": {},
   "outputs": [
    {
     "name": "stdout",
     "output_type": "stream",
     "text": [
      "Model name: svm__v01\n",
      "Cross validation score: 0.80053\n",
      "Best params: {'svm__C': 0.46415888336127775, 'svm__degree': 3, 'svm__kernel': 'poly'}\n",
      "Time to tune: 2623 seconds\n",
      "Kaggle submission score: 0.80032\n"
     ]
    }
   ],
   "source": [
    "MODEL_NAME = \"svm__v01\"\n",
    "\n",
    "if not os.path.exists(os.path.join(REPO_MODEL, MODEL_NAME + \".json\")):\n",
    "    !python script_tuning.py $MODEL_NAME\n",
    "\n",
    "analyze_model(\n",
    "    model_name=MODEL_NAME, \n",
    "    repo_model=REPO_MODEL, \n",
    "    repo_submission=REPO_SUBMISSION, \n",
    "    X_train=X_train, \n",
    "    y_train=y_train, \n",
    "    X_test=X_test, \n",
    "    list_passenger_id=list_passenger_id\n",
    ")"
   ]
  },
  {
   "cell_type": "markdown",
   "id": "34ce36d9",
   "metadata": {
    "tags": []
   },
   "source": [
    "#### GNB"
   ]
  },
  {
   "cell_type": "code",
   "execution_count": 21,
   "id": "9d9f6760",
   "metadata": {},
   "outputs": [
    {
     "name": "stdout",
     "output_type": "stream",
     "text": [
      "Model name: gnb__v01\n",
      "Cross validation score: 0.75774\n",
      "Best params: {'gnb__var_smoothing': 0.811130830789689}\n",
      "Time to tune: 42 seconds\n",
      "Kaggle submission score: 0.77016\n"
     ]
    }
   ],
   "source": [
    "MODEL_NAME = \"gnb__v01\"\n",
    "\n",
    "if not os.path.exists(os.path.join(REPO_MODEL, MODEL_NAME + \".json\")):\n",
    "    !python script_tuning.py $MODEL_NAME\n",
    "\n",
    "analyze_model(\n",
    "    model_name=MODEL_NAME, \n",
    "    repo_model=REPO_MODEL, \n",
    "    repo_submission=REPO_SUBMISSION, \n",
    "    X_train=X_train, \n",
    "    y_train=y_train, \n",
    "    X_test=X_test, \n",
    "    list_passenger_id=list_passenger_id\n",
    ")"
   ]
  },
  {
   "cell_type": "markdown",
   "id": "221efe7f",
   "metadata": {
    "jp-MarkdownHeadingCollapsed": true,
    "tags": []
   },
   "source": [
    "### Pipeline v2"
   ]
  },
  {
   "cell_type": "markdown",
   "id": "f4c8c16d",
   "metadata": {
    "tags": []
   },
   "source": [
    "#### Logistic regression"
   ]
  },
  {
   "cell_type": "code",
   "execution_count": 14,
   "id": "d047ba98",
   "metadata": {},
   "outputs": [
    {
     "name": "stdout",
     "output_type": "stream",
     "text": [
      "Model name: logistic_regression__v02\n",
      "Cross validation score: 0.78155\n",
      "Best params: {'feature_selection__k': 15, 'logistic__C': 0.021544346900318822, 'logistic__l1_ratio': 0.1, 'logistic__penalty': 'elasticnet', 'logistic__solver': 'saga'}\n",
      "Time to tune: 12903 seconds\n",
      "Kaggle submission score: 0.78349\n"
     ]
    }
   ],
   "source": [
    "MODEL_NAME = \"logistic_regression__v02\"\n",
    "\n",
    "if not os.path.exists(os.path.join(REPO_MODEL, MODEL_NAME + \".json\")):\n",
    "    !python script_tuning.py $MODEL_NAME\n",
    "\n",
    "analyze_model(\n",
    "    model_name=MODEL_NAME, \n",
    "    repo_model=REPO_MODEL, \n",
    "    repo_submission=REPO_SUBMISSION, \n",
    "    X_train=X_train, \n",
    "    y_train=y_train, \n",
    "    X_test=X_test, \n",
    "    list_passenger_id=list_passenger_id\n",
    ")"
   ]
  },
  {
   "cell_type": "markdown",
   "id": "4d639490",
   "metadata": {
    "tags": []
   },
   "source": [
    "#### KNN"
   ]
  },
  {
   "cell_type": "code",
   "execution_count": 15,
   "id": "d196e139",
   "metadata": {},
   "outputs": [
    {
     "name": "stdout",
     "output_type": "stream",
     "text": [
      "Model name: knn__v02\n",
      "Cross validation score: 0.79029\n",
      "Best params: {'feature_selection__k': 18, 'knn__n_neighbors': 31, 'knn__p': 1, 'knn__weights': 'uniform'}\n",
      "Time to tune: 64065 seconds\n",
      "Kaggle submission score: 0.78442\n"
     ]
    }
   ],
   "source": [
    "MODEL_NAME = \"knn__v02\"\n",
    "\n",
    "if not os.path.exists(os.path.join(REPO_MODEL, MODEL_NAME + \".json\")):\n",
    "    !python script_tuning.py $MODEL_NAME\n",
    "\n",
    "analyze_model(\n",
    "    model_name=MODEL_NAME, \n",
    "    repo_model=REPO_MODEL, \n",
    "    repo_submission=REPO_SUBMISSION, \n",
    "    X_train=X_train, \n",
    "    y_train=y_train, \n",
    "    X_test=X_test, \n",
    "    list_passenger_id=list_passenger_id\n",
    ")"
   ]
  },
  {
   "cell_type": "markdown",
   "id": "8ad4e019",
   "metadata": {
    "tags": []
   },
   "source": [
    "#### SVM"
   ]
  },
  {
   "cell_type": "code",
   "execution_count": 16,
   "id": "cf4f6be7",
   "metadata": {},
   "outputs": [
    {
     "name": "stdout",
     "output_type": "stream",
     "text": [
      "Model name: svm__v02\n",
      "Cross validation score: 0.80122\n",
      "Best params: {'feature_selection__k': 20, 'svm__C': 0.46415888336127775, 'svm__degree': 3, 'svm__kernel': 'poly'}\n",
      "Time to tune: 307954 seconds\n",
      "Kaggle submission score: 0.79892\n"
     ]
    }
   ],
   "source": [
    "MODEL_NAME = \"svm__v02\"\n",
    "\n",
    "if not os.path.exists(os.path.join(REPO_MODEL, MODEL_NAME + \".json\")):\n",
    "    !python script_tuning.py $MODEL_NAME\n",
    "\n",
    "analyze_model(\n",
    "    model_name=MODEL_NAME, \n",
    "    repo_model=REPO_MODEL, \n",
    "    repo_submission=REPO_SUBMISSION, \n",
    "    X_train=X_train, \n",
    "    y_train=y_train, \n",
    "    X_test=X_test, \n",
    "    list_passenger_id=list_passenger_id\n",
    ")"
   ]
  },
  {
   "cell_type": "markdown",
   "id": "7162b95a",
   "metadata": {
    "tags": []
   },
   "source": [
    "#### GNB"
   ]
  },
  {
   "cell_type": "code",
   "execution_count": 17,
   "id": "45570674",
   "metadata": {},
   "outputs": [
    {
     "name": "stdout",
     "output_type": "stream",
     "text": [
      "Model name: gnb__v02\n",
      "Cross validation score: 0.76993\n",
      "Best params: {'feature_selection__k': 6, 'gnb__var_smoothing': 1.0}\n",
      "Time to tune: 1177 seconds\n",
      "Kaggle submission score: 0.76712\n"
     ]
    }
   ],
   "source": [
    "MODEL_NAME = \"gnb__v02\"\n",
    "\n",
    "if not os.path.exists(os.path.join(REPO_MODEL, MODEL_NAME + \".json\")):\n",
    "    !python script_tuning.py $MODEL_NAME\n",
    "\n",
    "analyze_model(\n",
    "    model_name=MODEL_NAME, \n",
    "    repo_model=REPO_MODEL, \n",
    "    repo_submission=REPO_SUBMISSION, \n",
    "    X_train=X_train, \n",
    "    y_train=y_train, \n",
    "    X_test=X_test, \n",
    "    list_passenger_id=list_passenger_id\n",
    ")"
   ]
  },
  {
   "cell_type": "markdown",
   "id": "c9ea2c0b",
   "metadata": {
    "jp-MarkdownHeadingCollapsed": true,
    "tags": []
   },
   "source": [
    "### Pipeline v3"
   ]
  },
  {
   "cell_type": "markdown",
   "id": "16c21f6c",
   "metadata": {
    "tags": []
   },
   "source": [
    "#### Logistic regression"
   ]
  },
  {
   "cell_type": "code",
   "execution_count": 11,
   "id": "0d666c65",
   "metadata": {},
   "outputs": [
    {
     "name": "stdout",
     "output_type": "stream",
     "text": [
      "Model name: logistic_regression__v03\n",
      "Cross validation score: 0.78167\n",
      "Best params: {'feature_selection__k': 16, 'logistic__C': 0.21544346900318823, 'logistic__l1_ratio': 0.2, 'logistic__penalty': 'elasticnet', 'logistic__solver': 'saga'}\n",
      "Time to tune: 57133 seconds\n",
      "Kaggle submission score: 0.77928\n"
     ]
    }
   ],
   "source": [
    "MODEL_NAME = \"logistic_regression__v03\"\n",
    "\n",
    "if not os.path.exists(os.path.join(REPO_MODEL, MODEL_NAME + \".json\")):\n",
    "    !python script_tuning.py $MODEL_NAME\n",
    "\n",
    "analyze_model(\n",
    "    model_name=MODEL_NAME, \n",
    "    repo_model=REPO_MODEL, \n",
    "    repo_submission=REPO_SUBMISSION, \n",
    "    X_train=X_train, \n",
    "    y_train=y_train, \n",
    "    X_test=X_test, \n",
    "    list_passenger_id=list_passenger_id\n",
    ")"
   ]
  },
  {
   "cell_type": "markdown",
   "id": "d199707e",
   "metadata": {
    "tags": []
   },
   "source": [
    "#### KNN"
   ]
  },
  {
   "cell_type": "code",
   "execution_count": 12,
   "id": "4556a5e9",
   "metadata": {},
   "outputs": [
    {
     "name": "stdout",
     "output_type": "stream",
     "text": [
      "Model name: knn__v03\n",
      "Cross validation score: 0.79593\n",
      "Best params: {'feature_selection__k': 13, 'knn__n_neighbors': 48, 'knn__p': 1, 'knn__weights': 'uniform'}\n",
      "Time to tune: 75335 seconds\n",
      "Kaggle submission score: 0.78887\n"
     ]
    }
   ],
   "source": [
    "MODEL_NAME = \"knn__v03\"\n",
    "\n",
    "if not os.path.exists(os.path.join(REPO_MODEL, MODEL_NAME + \".json\")):\n",
    "    !python script_tuning.py $MODEL_NAME\n",
    "\n",
    "analyze_model(\n",
    "    model_name=MODEL_NAME, \n",
    "    repo_model=REPO_MODEL, \n",
    "    repo_submission=REPO_SUBMISSION, \n",
    "    X_train=X_train, \n",
    "    y_train=y_train, \n",
    "    X_test=X_test, \n",
    "    list_passenger_id=list_passenger_id\n",
    ")"
   ]
  },
  {
   "cell_type": "markdown",
   "id": "bf429e9d",
   "metadata": {
    "jp-MarkdownHeadingCollapsed": true,
    "tags": []
   },
   "source": [
    "#### SVM"
   ]
  },
  {
   "cell_type": "code",
   "execution_count": null,
   "id": "ea35b4e0",
   "metadata": {},
   "outputs": [],
   "source": [
    "MODEL_NAME = \"svm__v03\"\n",
    "\n",
    "if not os.path.exists(os.path.join(REPO_MODEL, MODEL_NAME + \".json\")):\n",
    "    !python script_tuning.py $MODEL_NAME\n",
    "\n",
    "analyze_model(\n",
    "    model_name=MODEL_NAME, \n",
    "    repo_model=REPO_MODEL, \n",
    "    repo_submission=REPO_SUBMISSION, \n",
    "    X_train=X_train, \n",
    "    y_train=y_train, \n",
    "    X_test=X_test, \n",
    "    list_passenger_id=list_passenger_id\n",
    ")"
   ]
  },
  {
   "cell_type": "markdown",
   "id": "295c9e71",
   "metadata": {
    "tags": []
   },
   "source": [
    "#### GNB"
   ]
  },
  {
   "cell_type": "code",
   "execution_count": 13,
   "id": "17bbe94a",
   "metadata": {},
   "outputs": [
    {
     "name": "stdout",
     "output_type": "stream",
     "text": [
      "Model name: gnb__v03\n",
      "Cross validation score: 0.76579\n",
      "Best params: {'feature_selection__k': 4, 'gnb__var_smoothing': 1.0}\n",
      "Time to tune: 13949 seconds\n",
      "Kaggle submission score: 0.7739\n"
     ]
    }
   ],
   "source": [
    "MODEL_NAME = \"gnb__v03\"\n",
    "\n",
    "if not os.path.exists(os.path.join(REPO_MODEL, MODEL_NAME + \".json\")):\n",
    "    !python script_tuning.py $MODEL_NAME\n",
    "\n",
    "analyze_model(\n",
    "    model_name=MODEL_NAME, \n",
    "    repo_model=REPO_MODEL, \n",
    "    repo_submission=REPO_SUBMISSION, \n",
    "    X_train=X_train, \n",
    "    y_train=y_train, \n",
    "    X_test=X_test, \n",
    "    list_passenger_id=list_passenger_id\n",
    ")"
   ]
  },
  {
   "cell_type": "markdown",
   "id": "09716dbc",
   "metadata": {
    "jp-MarkdownHeadingCollapsed": true,
    "tags": []
   },
   "source": [
    "### Pipeline v4"
   ]
  },
  {
   "cell_type": "markdown",
   "id": "f3460537",
   "metadata": {
    "tags": []
   },
   "source": [
    "#### Logistic regression"
   ]
  },
  {
   "cell_type": "code",
   "execution_count": 7,
   "id": "43c605cb",
   "metadata": {},
   "outputs": [
    {
     "name": "stdout",
     "output_type": "stream",
     "text": [
      "Model name: logistic_regression__v04\n",
      "Cross validation score: 0.78063\n",
      "Best params: {'feature_selection__k': 24, 'logistic__C': 0.01, 'logistic__penalty': 'l2', 'logistic__solver': 'liblinear'}\n",
      "Time to tune: 58302 seconds\n",
      "Kaggle submission score: 0.78512\n"
     ]
    }
   ],
   "source": [
    "MODEL_NAME = \"logistic_regression__v04\"\n",
    "\n",
    "if not os.path.exists(os.path.join(REPO_MODEL, MODEL_NAME + \".json\")):\n",
    "    !python script_tuning.py $MODEL_NAME\n",
    "\n",
    "analyze_model(\n",
    "    model_name=MODEL_NAME, \n",
    "    repo_model=REPO_MODEL, \n",
    "    repo_submission=REPO_SUBMISSION, \n",
    "    X_train=X_train, \n",
    "    y_train=y_train, \n",
    "    X_test=X_test, \n",
    "    list_passenger_id=list_passenger_id\n",
    ")"
   ]
  },
  {
   "cell_type": "markdown",
   "id": "98c8f271",
   "metadata": {
    "tags": []
   },
   "source": [
    "#### KNN"
   ]
  },
  {
   "cell_type": "code",
   "execution_count": 8,
   "id": "e1339354",
   "metadata": {},
   "outputs": [
    {
     "name": "stdout",
     "output_type": "stream",
     "text": [
      "Model name: knn__v04\n",
      "Cross validation score: 0.79501\n",
      "Best params: {'feature_selection__k': 18, 'knn__n_neighbors': 33, 'knn__p': 1, 'knn__weights': 'uniform'}\n",
      "Time to tune: 105862 seconds\n",
      "Kaggle submission score: 0.78723\n"
     ]
    }
   ],
   "source": [
    "MODEL_NAME = \"knn__v04\"\n",
    "\n",
    "if not os.path.exists(os.path.join(REPO_MODEL, MODEL_NAME + \".json\")):\n",
    "    !python script_tuning.py $MODEL_NAME\n",
    "\n",
    "analyze_model(\n",
    "    model_name=MODEL_NAME, \n",
    "    repo_model=REPO_MODEL, \n",
    "    repo_submission=REPO_SUBMISSION, \n",
    "    X_train=X_train, \n",
    "    y_train=y_train, \n",
    "    X_test=X_test, \n",
    "    list_passenger_id=list_passenger_id\n",
    ")"
   ]
  },
  {
   "cell_type": "markdown",
   "id": "857c7fa9",
   "metadata": {
    "tags": []
   },
   "source": [
    "#### SVM"
   ]
  },
  {
   "cell_type": "code",
   "execution_count": 9,
   "id": "04a3c736",
   "metadata": {},
   "outputs": [
    {
     "name": "stdout",
     "output_type": "stream",
     "text": [
      "Model name: svm__v04\n",
      "Cross validation score: 0.80019\n",
      "Best params: {'feature_selection__k': 21, 'svm__C': 4.6415888336127775, 'svm__degree': 2, 'svm__kernel': 'poly'}\n",
      "Time to tune: 226415 seconds\n",
      "Kaggle submission score: 0.79448\n"
     ]
    }
   ],
   "source": [
    "MODEL_NAME = \"svm__v04\"\n",
    "\n",
    "if not os.path.exists(os.path.join(REPO_MODEL, MODEL_NAME + \".json\")):\n",
    "    !python script_tuning.py $MODEL_NAME\n",
    "\n",
    "analyze_model(\n",
    "    model_name=MODEL_NAME, \n",
    "    repo_model=REPO_MODEL, \n",
    "    repo_submission=REPO_SUBMISSION, \n",
    "    X_train=X_train, \n",
    "    y_train=y_train, \n",
    "    X_test=X_test, \n",
    "    list_passenger_id=list_passenger_id\n",
    ")"
   ]
  },
  {
   "cell_type": "markdown",
   "id": "ca8118d8",
   "metadata": {
    "tags": []
   },
   "source": [
    "#### GNB"
   ]
  },
  {
   "cell_type": "code",
   "execution_count": 10,
   "id": "695cf9eb",
   "metadata": {},
   "outputs": [
    {
     "name": "stdout",
     "output_type": "stream",
     "text": [
      "Model name: gnb__v04\n",
      "Cross validation score: 0.76648\n",
      "Best params: {'feature_selection__k': 4, 'gnb__var_smoothing': 0.5336699231206302}\n",
      "Time to tune: 14452 seconds\n",
      "Kaggle submission score: 0.77367\n"
     ]
    }
   ],
   "source": [
    "MODEL_NAME = \"gnb__v04\"\n",
    "\n",
    "if not os.path.exists(os.path.join(REPO_MODEL, MODEL_NAME + \".json\")):\n",
    "    !python script_tuning.py $MODEL_NAME\n",
    "\n",
    "analyze_model(\n",
    "    model_name=MODEL_NAME, \n",
    "    repo_model=REPO_MODEL, \n",
    "    repo_submission=REPO_SUBMISSION, \n",
    "    X_train=X_train, \n",
    "    y_train=y_train, \n",
    "    X_test=X_test, \n",
    "    list_passenger_id=list_passenger_id\n",
    ")"
   ]
  },
  {
   "cell_type": "markdown",
   "id": "b2a38156",
   "metadata": {
    "jp-MarkdownHeadingCollapsed": true,
    "tags": []
   },
   "source": [
    "### Pipeline v5"
   ]
  },
  {
   "cell_type": "markdown",
   "id": "f614d730",
   "metadata": {
    "tags": []
   },
   "source": [
    "#### Logistic regression"
   ]
  },
  {
   "cell_type": "code",
   "execution_count": 22,
   "id": "0ce73f7b",
   "metadata": {},
   "outputs": [
    {
     "name": "stdout",
     "output_type": "stream",
     "text": [
      "Model name: logistic_regression__v05\n",
      "Cross validation score: 0.78075\n",
      "Best params: {'feature_selection__k': 12, 'logistic__C': 2154.434690031878, 'logistic__l1_ratio': 0.5, 'logistic__penalty': 'elasticnet', 'logistic__solver': 'saga'}\n",
      "Time to tune: 59880 seconds\n",
      "Kaggle submission score: 0.77671\n"
     ]
    }
   ],
   "source": [
    "MODEL_NAME = \"logistic_regression__v05\"\n",
    "\n",
    "if not os.path.exists(os.path.join(REPO_MODEL, MODEL_NAME + \".json\")):\n",
    "    !python script_tuning.py $MODEL_NAME\n",
    "\n",
    "analyze_model(\n",
    "    model_name=MODEL_NAME, \n",
    "    repo_model=REPO_MODEL, \n",
    "    repo_submission=REPO_SUBMISSION, \n",
    "    X_train=X_train, \n",
    "    y_train=y_train, \n",
    "    X_test=X_test, \n",
    "    list_passenger_id=list_passenger_id\n",
    ")"
   ]
  },
  {
   "cell_type": "markdown",
   "id": "9464dd0e",
   "metadata": {
    "tags": []
   },
   "source": [
    "#### KNN"
   ]
  },
  {
   "cell_type": "code",
   "execution_count": 23,
   "id": "7c299ab3",
   "metadata": {},
   "outputs": [
    {
     "name": "stdout",
     "output_type": "stream",
     "text": [
      "Model name: knn__v05\n",
      "Cross validation score: 0.79248\n",
      "Best params: {'feature_selection__k': 11, 'knn__n_neighbors': 37, 'knn__p': 1, 'knn__weights': 'uniform'}\n",
      "Time to tune: 91760 seconds\n",
      "Kaggle submission score: 0.78021\n"
     ]
    }
   ],
   "source": [
    "MODEL_NAME = \"knn__v05\"\n",
    "\n",
    "if not os.path.exists(os.path.join(REPO_MODEL, MODEL_NAME + \".json\")):\n",
    "    !python script_tuning.py $MODEL_NAME\n",
    "\n",
    "analyze_model(\n",
    "    model_name=MODEL_NAME, \n",
    "    repo_model=REPO_MODEL, \n",
    "    repo_submission=REPO_SUBMISSION, \n",
    "    X_train=X_train, \n",
    "    y_train=y_train, \n",
    "    X_test=X_test, \n",
    "    list_passenger_id=list_passenger_id\n",
    ")"
   ]
  },
  {
   "cell_type": "markdown",
   "id": "f1f1be83",
   "metadata": {
    "tags": []
   },
   "source": [
    "#### SVM"
   ]
  },
  {
   "cell_type": "code",
   "execution_count": 24,
   "id": "49bfbefa",
   "metadata": {},
   "outputs": [
    {
     "name": "stdout",
     "output_type": "stream",
     "text": [
      "Model name: svm__v05\n",
      "Cross validation score: 0.80191\n",
      "Best params: {'feature_selection__k': 23, 'svm__C': 0.46415888336127775, 'svm__degree': 3, 'svm__kernel': 'poly'}\n",
      "Time to tune: 180134 seconds\n",
      "Kaggle submission score: 0.79939\n"
     ]
    }
   ],
   "source": [
    "MODEL_NAME = \"svm__v05\"\n",
    "\n",
    "if not os.path.exists(os.path.join(REPO_MODEL, MODEL_NAME + \".json\")):\n",
    "    !python script_tuning.py $MODEL_NAME\n",
    "\n",
    "analyze_model(\n",
    "    model_name=MODEL_NAME, \n",
    "    repo_model=REPO_MODEL, \n",
    "    repo_submission=REPO_SUBMISSION, \n",
    "    X_train=X_train, \n",
    "    y_train=y_train, \n",
    "    X_test=X_test, \n",
    "    list_passenger_id=list_passenger_id\n",
    ")"
   ]
  },
  {
   "cell_type": "markdown",
   "id": "210025e2",
   "metadata": {
    "tags": []
   },
   "source": [
    "#### GNB"
   ]
  },
  {
   "cell_type": "code",
   "execution_count": 25,
   "id": "0f2a2319",
   "metadata": {},
   "outputs": [
    {
     "name": "stdout",
     "output_type": "stream",
     "text": [
      "Model name: gnb__v05\n",
      "Cross validation score: 0.76648\n",
      "Best params: {'feature_selection__k': 4, 'gnb__var_smoothing': 0.5336699231206302}\n",
      "Time to tune: 14887 seconds\n",
      "Kaggle submission score: 0.77367\n"
     ]
    }
   ],
   "source": [
    "MODEL_NAME = \"gnb__v05\"\n",
    "\n",
    "if not os.path.exists(os.path.join(REPO_MODEL, MODEL_NAME + \".json\")):\n",
    "    !python script_tuning.py $MODEL_NAME\n",
    "\n",
    "analyze_model(\n",
    "    model_name=MODEL_NAME, \n",
    "    repo_model=REPO_MODEL, \n",
    "    repo_submission=REPO_SUBMISSION, \n",
    "    X_train=X_train, \n",
    "    y_train=y_train, \n",
    "    X_test=X_test, \n",
    "    list_passenger_id=list_passenger_id\n",
    ")"
   ]
  },
  {
   "cell_type": "markdown",
   "id": "af6507ea",
   "metadata": {
    "jp-MarkdownHeadingCollapsed": true,
    "tags": []
   },
   "source": [
    "### Pipeline v6"
   ]
  },
  {
   "cell_type": "markdown",
   "id": "800654e3",
   "metadata": {
    "tags": []
   },
   "source": [
    "#### Logistic regression"
   ]
  },
  {
   "cell_type": "code",
   "execution_count": 26,
   "id": "fb95387a",
   "metadata": {},
   "outputs": [
    {
     "name": "stdout",
     "output_type": "stream",
     "text": [
      "Model name: logistic_regression__v06\n",
      "Cross validation score: 0.78040\n",
      "Best params: {'feature_selection__k': 15, 'logistic__C': 4641.588833612773, 'logistic__l1_ratio': 0.8, 'logistic__penalty': 'elasticnet', 'logistic__solver': 'saga'}\n",
      "Time to tune: 61262 seconds\n",
      "Kaggle submission score: 0.78255\n"
     ]
    }
   ],
   "source": [
    "MODEL_NAME = \"logistic_regression__v06\"\n",
    "\n",
    "if not os.path.exists(os.path.join(REPO_MODEL, MODEL_NAME + \".json\")):\n",
    "    !python script_tuning.py $MODEL_NAME\n",
    "\n",
    "analyze_model(\n",
    "    model_name=MODEL_NAME, \n",
    "    repo_model=REPO_MODEL, \n",
    "    repo_submission=REPO_SUBMISSION, \n",
    "    X_train=X_train, \n",
    "    y_train=y_train, \n",
    "    X_test=X_test, \n",
    "    list_passenger_id=list_passenger_id\n",
    ")"
   ]
  },
  {
   "cell_type": "markdown",
   "id": "fd086a2b",
   "metadata": {
    "tags": []
   },
   "source": [
    "#### KNN"
   ]
  },
  {
   "cell_type": "code",
   "execution_count": 27,
   "id": "e3247cb1",
   "metadata": {},
   "outputs": [
    {
     "name": "stdout",
     "output_type": "stream",
     "text": [
      "Model name: knn__v06\n",
      "Cross validation score: 0.79340\n",
      "Best params: {'feature_selection__k': 13, 'knn__n_neighbors': 49, 'knn__p': 1, 'knn__weights': 'uniform'}\n",
      "Time to tune: 110870 seconds\n",
      "Kaggle submission score: 0.78559\n"
     ]
    }
   ],
   "source": [
    "MODEL_NAME = \"knn__v06\"\n",
    "\n",
    "if not os.path.exists(os.path.join(REPO_MODEL, MODEL_NAME + \".json\")):\n",
    "    !python script_tuning.py $MODEL_NAME\n",
    "\n",
    "analyze_model(\n",
    "    model_name=MODEL_NAME, \n",
    "    repo_model=REPO_MODEL, \n",
    "    repo_submission=REPO_SUBMISSION, \n",
    "    X_train=X_train, \n",
    "    y_train=y_train, \n",
    "    X_test=X_test, \n",
    "    list_passenger_id=list_passenger_id\n",
    ")"
   ]
  },
  {
   "cell_type": "markdown",
   "id": "60532931",
   "metadata": {
    "tags": []
   },
   "source": [
    "#### SVM"
   ]
  },
  {
   "cell_type": "code",
   "execution_count": 28,
   "id": "d92321b6",
   "metadata": {},
   "outputs": [
    {
     "name": "stdout",
     "output_type": "stream",
     "text": [
      "Model name: svm__v06\n",
      "Cross validation score: 0.80065\n",
      "Best params: {'feature_selection__k': 24, 'svm__C': 0.46415888336127775, 'svm__degree': 3, 'svm__kernel': 'poly'}\n",
      "Time to tune: 209248 seconds\n",
      "Kaggle submission score: 0.79939\n"
     ]
    }
   ],
   "source": [
    "MODEL_NAME = \"svm__v06\"\n",
    "\n",
    "if not os.path.exists(os.path.join(REPO_MODEL, MODEL_NAME + \".json\")):\n",
    "    !python script_tuning.py $MODEL_NAME\n",
    "\n",
    "analyze_model(\n",
    "    model_name=MODEL_NAME, \n",
    "    repo_model=REPO_MODEL, \n",
    "    repo_submission=REPO_SUBMISSION, \n",
    "    X_train=X_train, \n",
    "    y_train=y_train, \n",
    "    X_test=X_test, \n",
    "    list_passenger_id=list_passenger_id\n",
    ")"
   ]
  },
  {
   "cell_type": "markdown",
   "id": "5aaf7fd8",
   "metadata": {
    "tags": []
   },
   "source": [
    "#### GNB"
   ]
  },
  {
   "cell_type": "code",
   "execution_count": 29,
   "id": "10f8eab4",
   "metadata": {},
   "outputs": [
    {
     "name": "stdout",
     "output_type": "stream",
     "text": [
      "Model name: gnb__v06\n",
      "Cross validation score: 0.76637\n",
      "Best params: {'feature_selection__k': 4, 'gnb__var_smoothing': 0.6579332246575682}\n",
      "Time to tune: 14559 seconds\n",
      "Kaggle submission score: 0.77437\n"
     ]
    }
   ],
   "source": [
    "MODEL_NAME = \"gnb__v06\"\n",
    "\n",
    "if not os.path.exists(os.path.join(REPO_MODEL, MODEL_NAME + \".json\")):\n",
    "    !python script_tuning.py $MODEL_NAME\n",
    "\n",
    "analyze_model(\n",
    "    model_name=MODEL_NAME, \n",
    "    repo_model=REPO_MODEL, \n",
    "    repo_submission=REPO_SUBMISSION, \n",
    "    X_train=X_train, \n",
    "    y_train=y_train, \n",
    "    X_test=X_test, \n",
    "    list_passenger_id=list_passenger_id\n",
    ")"
   ]
  },
  {
   "cell_type": "markdown",
   "id": "3db293aa",
   "metadata": {
    "jp-MarkdownHeadingCollapsed": true,
    "tags": []
   },
   "source": [
    "### Pipeline v7"
   ]
  },
  {
   "cell_type": "markdown",
   "id": "9afdc60a",
   "metadata": {
    "tags": []
   },
   "source": [
    "#### Logistic regression"
   ]
  },
  {
   "cell_type": "code",
   "execution_count": 30,
   "id": "69d25ccb",
   "metadata": {},
   "outputs": [
    {
     "name": "stdout",
     "output_type": "stream",
     "text": [
      "Model name: logistic_regression__v07\n",
      "Cross validation score: 0.78074\n",
      "Best params: {'feature_selection__k': 15, 'logistic__C': 10000.0, 'logistic__penalty': 'l2', 'logistic__solver': 'liblinear'}\n",
      "Time to tune: 62178 seconds\n",
      "Kaggle submission score: 0.78209\n"
     ]
    }
   ],
   "source": [
    "MODEL_NAME = \"logistic_regression__v07\"\n",
    "\n",
    "if not os.path.exists(os.path.join(REPO_MODEL, MODEL_NAME + \".json\")):\n",
    "    !python script_tuning.py $MODEL_NAME\n",
    "\n",
    "analyze_model(\n",
    "    model_name=MODEL_NAME, \n",
    "    repo_model=REPO_MODEL, \n",
    "    repo_submission=REPO_SUBMISSION, \n",
    "    X_train=X_train, \n",
    "    y_train=y_train, \n",
    "    X_test=X_test, \n",
    "    list_passenger_id=list_passenger_id\n",
    ")"
   ]
  },
  {
   "cell_type": "markdown",
   "id": "a55a1b1a",
   "metadata": {
    "tags": []
   },
   "source": [
    "#### KNN"
   ]
  },
  {
   "cell_type": "code",
   "execution_count": 31,
   "id": "a8b4d208",
   "metadata": {},
   "outputs": [
    {
     "name": "stdout",
     "output_type": "stream",
     "text": [
      "Model name: knn__v07\n",
      "Cross validation score: 0.79363\n",
      "Best params: {'feature_selection__k': 16, 'knn__n_neighbors': 51, 'knn__p': 1, 'knn__weights': 'uniform'}\n",
      "Time to tune: 113486 seconds\n",
      "Kaggle submission score: 0.78863\n"
     ]
    }
   ],
   "source": [
    "MODEL_NAME = \"knn__v07\"\n",
    "\n",
    "if not os.path.exists(os.path.join(REPO_MODEL, MODEL_NAME + \".json\")):\n",
    "    !python script_tuning.py $MODEL_NAME\n",
    "\n",
    "analyze_model(\n",
    "    model_name=MODEL_NAME, \n",
    "    repo_model=REPO_MODEL, \n",
    "    repo_submission=REPO_SUBMISSION, \n",
    "    X_train=X_train, \n",
    "    y_train=y_train, \n",
    "    X_test=X_test, \n",
    "    list_passenger_id=list_passenger_id\n",
    ")"
   ]
  },
  {
   "cell_type": "markdown",
   "id": "7eabe031",
   "metadata": {
    "tags": []
   },
   "source": [
    "#### SVM"
   ]
  },
  {
   "cell_type": "code",
   "execution_count": 32,
   "id": "09e78a2c",
   "metadata": {},
   "outputs": [
    {
     "name": "stdout",
     "output_type": "stream",
     "text": [
      "Model name: svm__v07\n",
      "Cross validation score: 0.80122\n",
      "Best params: {'feature_selection__k': 24, 'svm__C': 1.0, 'svm__degree': 3, 'svm__kernel': 'poly'}\n",
      "Time to tune: 220124 seconds\n",
      "Kaggle submission score: 0.80009\n"
     ]
    }
   ],
   "source": [
    "MODEL_NAME = \"svm__v07\"\n",
    "\n",
    "if not os.path.exists(os.path.join(REPO_MODEL, MODEL_NAME + \".json\")):\n",
    "    !python script_tuning.py $MODEL_NAME\n",
    "\n",
    "analyze_model(\n",
    "    model_name=MODEL_NAME, \n",
    "    repo_model=REPO_MODEL, \n",
    "    repo_submission=REPO_SUBMISSION, \n",
    "    X_train=X_train, \n",
    "    y_train=y_train, \n",
    "    X_test=X_test, \n",
    "    list_passenger_id=list_passenger_id\n",
    ")"
   ]
  },
  {
   "cell_type": "markdown",
   "id": "68eacdfb",
   "metadata": {
    "tags": []
   },
   "source": [
    "#### GNB"
   ]
  },
  {
   "cell_type": "code",
   "execution_count": 33,
   "id": "dd1634e7",
   "metadata": {},
   "outputs": [
    {
     "name": "stdout",
     "output_type": "stream",
     "text": [
      "Model name: gnb__v07\n",
      "Cross validation score: 0.76648\n",
      "Best params: {'feature_selection__k': 4, 'gnb__var_smoothing': 0.5336699231206302}\n",
      "Time to tune: 15604 seconds\n",
      "Kaggle submission score: 0.77367\n"
     ]
    }
   ],
   "source": [
    "MODEL_NAME = \"gnb__v07\"\n",
    "\n",
    "if not os.path.exists(os.path.join(REPO_MODEL, MODEL_NAME + \".json\")):\n",
    "    !python script_tuning.py $MODEL_NAME\n",
    "\n",
    "analyze_model(\n",
    "    model_name=MODEL_NAME, \n",
    "    repo_model=REPO_MODEL, \n",
    "    repo_submission=REPO_SUBMISSION, \n",
    "    X_train=X_train, \n",
    "    y_train=y_train, \n",
    "    X_test=X_test, \n",
    "    list_passenger_id=list_passenger_id\n",
    ")"
   ]
  },
  {
   "cell_type": "markdown",
   "id": "0a059ee0",
   "metadata": {
    "jp-MarkdownHeadingCollapsed": true,
    "tags": []
   },
   "source": [
    "### Pipeline v8"
   ]
  },
  {
   "cell_type": "markdown",
   "id": "d21b5723",
   "metadata": {
    "jp-MarkdownHeadingCollapsed": true,
    "tags": []
   },
   "source": [
    "#### Logistic regression"
   ]
  },
  {
   "cell_type": "code",
   "execution_count": 34,
   "id": "e936b97e",
   "metadata": {},
   "outputs": [
    {
     "name": "stdout",
     "output_type": "stream",
     "text": [
      "Model name: logistic_regression__v08\n",
      "Cross validation score: 0.77948\n",
      "Best params: {'feature_selection__max_features': 23, 'logistic__C': 0.01, 'logistic__penalty': 'l2', 'logistic__solver': 'liblinear'}\n",
      "Time to tune: 42744 seconds\n",
      "Kaggle submission score: 0.78419\n"
     ]
    }
   ],
   "source": [
    "MODEL_NAME = \"logistic_regression__v08\"\n",
    "\n",
    "if not os.path.exists(os.path.join(REPO_MODEL, MODEL_NAME + \".json\")):\n",
    "    !python script_tuning.py $MODEL_NAME\n",
    "\n",
    "analyze_model(\n",
    "    model_name=MODEL_NAME, \n",
    "    repo_model=REPO_MODEL, \n",
    "    repo_submission=REPO_SUBMISSION, \n",
    "    X_train=X_train, \n",
    "    y_train=y_train, \n",
    "    X_test=X_test, \n",
    "    list_passenger_id=list_passenger_id\n",
    ")"
   ]
  },
  {
   "cell_type": "markdown",
   "id": "f909aac1",
   "metadata": {
    "tags": []
   },
   "source": [
    "#### KNN"
   ]
  },
  {
   "cell_type": "code",
   "execution_count": 35,
   "id": "ea39d132",
   "metadata": {},
   "outputs": [
    {
     "name": "stdout",
     "output_type": "stream",
     "text": [
      "Model name: knn__v08\n",
      "Cross validation score: 0.79121\n",
      "Best params: {'feature_selection__max_features': 11, 'knn__n_neighbors': 63, 'knn__p': 1, 'knn__weights': 'uniform'}\n",
      "Time to tune: 83657 seconds\n",
      "Kaggle submission score: 0.78349\n"
     ]
    }
   ],
   "source": [
    "MODEL_NAME = \"knn__v08\"\n",
    "\n",
    "if not os.path.exists(os.path.join(REPO_MODEL, MODEL_NAME + \".json\")):\n",
    "    !python script_tuning.py $MODEL_NAME\n",
    "\n",
    "analyze_model(\n",
    "    model_name=MODEL_NAME, \n",
    "    repo_model=REPO_MODEL, \n",
    "    repo_submission=REPO_SUBMISSION, \n",
    "    X_train=X_train, \n",
    "    y_train=y_train, \n",
    "    X_test=X_test, \n",
    "    list_passenger_id=list_passenger_id\n",
    ")"
   ]
  },
  {
   "cell_type": "markdown",
   "id": "c9bb55cb",
   "metadata": {
    "tags": []
   },
   "source": [
    "#### SVM"
   ]
  },
  {
   "cell_type": "code",
   "execution_count": 36,
   "id": "6ad381c0",
   "metadata": {},
   "outputs": [
    {
     "name": "stdout",
     "output_type": "stream",
     "text": [
      "Model name: svm__v08\n",
      "Cross validation score: 0.80168\n",
      "Best params: {'feature_selection__max_features': 25, 'svm__C': 0.46415888336127775, 'svm__degree': 3, 'svm__kernel': 'poly'}\n",
      "Time to tune: 97146 seconds\n",
      "Kaggle submission score: 0.79962\n"
     ]
    }
   ],
   "source": [
    "MODEL_NAME = \"svm__v08\"\n",
    "\n",
    "if not os.path.exists(os.path.join(REPO_MODEL, MODEL_NAME + \".json\")):\n",
    "    !python script_tuning.py $MODEL_NAME\n",
    "\n",
    "analyze_model(\n",
    "    model_name=MODEL_NAME, \n",
    "    repo_model=REPO_MODEL, \n",
    "    repo_submission=REPO_SUBMISSION, \n",
    "    X_train=X_train, \n",
    "    y_train=y_train, \n",
    "    X_test=X_test, \n",
    "    list_passenger_id=list_passenger_id\n",
    ")"
   ]
  },
  {
   "cell_type": "markdown",
   "id": "fef42f73",
   "metadata": {
    "tags": []
   },
   "source": [
    "#### GNB"
   ]
  },
  {
   "cell_type": "code",
   "execution_count": 37,
   "id": "47bec9bd",
   "metadata": {},
   "outputs": [
    {
     "name": "stdout",
     "output_type": "stream",
     "text": [
      "Model name: gnb__v08\n",
      "Cross validation score: 0.76717\n",
      "Best params: {'feature_selection__max_features': 4, 'gnb__var_smoothing': 0.3511191734215127}\n",
      "Time to tune: 12574 seconds\n",
      "Kaggle submission score: 0.77484\n"
     ]
    }
   ],
   "source": [
    "MODEL_NAME = \"gnb__v08\"\n",
    "\n",
    "if not os.path.exists(os.path.join(REPO_MODEL, MODEL_NAME + \".json\")):\n",
    "    !python script_tuning.py $MODEL_NAME\n",
    "\n",
    "analyze_model(\n",
    "    model_name=MODEL_NAME, \n",
    "    repo_model=REPO_MODEL, \n",
    "    repo_submission=REPO_SUBMISSION, \n",
    "    X_train=X_train, \n",
    "    y_train=y_train, \n",
    "    X_test=X_test, \n",
    "    list_passenger_id=list_passenger_id\n",
    ")"
   ]
  },
  {
   "cell_type": "markdown",
   "id": "ef19563f",
   "metadata": {
    "jp-MarkdownHeadingCollapsed": true,
    "tags": []
   },
   "source": [
    "### Pipeline v9"
   ]
  },
  {
   "cell_type": "markdown",
   "id": "ded93ad3",
   "metadata": {
    "tags": []
   },
   "source": [
    "#### Logistic regression"
   ]
  },
  {
   "cell_type": "code",
   "execution_count": 38,
   "id": "8637ea19",
   "metadata": {},
   "outputs": [
    {
     "name": "stdout",
     "output_type": "stream",
     "text": [
      "Model name: logistic_regression__v09\n",
      "Cross validation score: 0.77994\n",
      "Best params: {'feature_selection__max_features': 19, 'logistic__C': 0.021544346900318822, 'logistic__l1_ratio': 0.4, 'logistic__penalty': 'elasticnet', 'logistic__solver': 'saga'}\n",
      "Time to tune: 13259 seconds\n",
      "Kaggle submission score: 0.78115\n"
     ]
    }
   ],
   "source": [
    "MODEL_NAME = \"logistic_regression__v09\"\n",
    "\n",
    "if not os.path.exists(os.path.join(REPO_MODEL, MODEL_NAME + \".json\")):\n",
    "    !python script_tuning.py $MODEL_NAME\n",
    "\n",
    "analyze_model(\n",
    "    model_name=MODEL_NAME, \n",
    "    repo_model=REPO_MODEL, \n",
    "    repo_submission=REPO_SUBMISSION, \n",
    "    X_train=X_train, \n",
    "    y_train=y_train, \n",
    "    X_test=X_test, \n",
    "    list_passenger_id=list_passenger_id\n",
    ")"
   ]
  },
  {
   "cell_type": "markdown",
   "id": "4a5c0b32",
   "metadata": {
    "tags": []
   },
   "source": [
    "#### KNN"
   ]
  },
  {
   "cell_type": "code",
   "execution_count": 39,
   "id": "9eed3766",
   "metadata": {},
   "outputs": [
    {
     "name": "stdout",
     "output_type": "stream",
     "text": [
      "Model name: knn__v09\n",
      "Cross validation score: 0.79018\n",
      "Best params: {'feature_selection__max_features': 27, 'knn__n_neighbors': 47, 'knn__p': 2, 'knn__weights': 'uniform'}\n",
      "Time to tune: 20887 seconds\n",
      "Kaggle submission score: 0.7877\n"
     ]
    }
   ],
   "source": [
    "MODEL_NAME = \"knn__v09\"\n",
    "\n",
    "if not os.path.exists(os.path.join(REPO_MODEL, MODEL_NAME + \".json\")):\n",
    "    !python script_tuning.py $MODEL_NAME\n",
    "\n",
    "analyze_model(\n",
    "    model_name=MODEL_NAME, \n",
    "    repo_model=REPO_MODEL, \n",
    "    repo_submission=REPO_SUBMISSION, \n",
    "    X_train=X_train, \n",
    "    y_train=y_train, \n",
    "    X_test=X_test, \n",
    "    list_passenger_id=list_passenger_id\n",
    ")"
   ]
  },
  {
   "cell_type": "markdown",
   "id": "b8aa0053",
   "metadata": {
    "tags": []
   },
   "source": [
    "#### SVM"
   ]
  },
  {
   "cell_type": "code",
   "execution_count": 40,
   "id": "dcb4f99c",
   "metadata": {},
   "outputs": [
    {
     "name": "stdout",
     "output_type": "stream",
     "text": [
      "Model name: svm__v09\n",
      "Cross validation score: 0.80053\n",
      "Best params: {'feature_selection__max_features': 26, 'svm__C': 0.46415888336127775, 'svm__degree': 3, 'svm__kernel': 'poly'}\n",
      "Time to tune: 185765 seconds\n",
      "Kaggle submission score: 0.79939\n"
     ]
    }
   ],
   "source": [
    "MODEL_NAME = \"svm__v09\"\n",
    "\n",
    "if not os.path.exists(os.path.join(REPO_MODEL, MODEL_NAME + \".json\")):\n",
    "    !python script_tuning.py $MODEL_NAME\n",
    "\n",
    "analyze_model(\n",
    "    model_name=MODEL_NAME, \n",
    "    repo_model=REPO_MODEL, \n",
    "    repo_submission=REPO_SUBMISSION, \n",
    "    X_train=X_train, \n",
    "    y_train=y_train, \n",
    "    X_test=X_test, \n",
    "    list_passenger_id=list_passenger_id\n",
    ")"
   ]
  },
  {
   "cell_type": "markdown",
   "id": "57e57a13",
   "metadata": {
    "tags": []
   },
   "source": [
    "#### GNB"
   ]
  },
  {
   "cell_type": "code",
   "execution_count": 41,
   "id": "2b4caa89",
   "metadata": {},
   "outputs": [
    {
     "name": "stdout",
     "output_type": "stream",
     "text": [
      "Model name: gnb__v09\n",
      "Cross validation score: 0.77062\n",
      "Best params: {'feature_selection__max_features': 7, 'gnb__var_smoothing': 0.811130830789689}\n",
      "Time to tune: 1013 seconds\n",
      "Kaggle submission score: 0.77718\n"
     ]
    }
   ],
   "source": [
    "MODEL_NAME = \"gnb__v09\"\n",
    "\n",
    "if not os.path.exists(os.path.join(REPO_MODEL, MODEL_NAME + \".json\")):\n",
    "    !python script_tuning.py $MODEL_NAME\n",
    "\n",
    "analyze_model(\n",
    "    model_name=MODEL_NAME, \n",
    "    repo_model=REPO_MODEL, \n",
    "    repo_submission=REPO_SUBMISSION, \n",
    "    X_train=X_train, \n",
    "    y_train=y_train, \n",
    "    X_test=X_test, \n",
    "    list_passenger_id=list_passenger_id\n",
    ")"
   ]
  },
  {
   "cell_type": "markdown",
   "id": "1dee9045",
   "metadata": {
    "tags": []
   },
   "source": [
    "## Analysis"
   ]
  },
  {
   "cell_type": "markdown",
   "id": "291c5a17",
   "metadata": {
    "jp-MarkdownHeadingCollapsed": true,
    "tags": []
   },
   "source": [
    "### By model"
   ]
  },
  {
   "cell_type": "code",
   "execution_count": 42,
   "id": "99fdd8a2",
   "metadata": {},
   "outputs": [],
   "source": [
    "VERSIONS = [str(x) if x > 9 else \"0\" + str(x) for x in range(1, 10)]\n",
    "COLUMNS = [\"Version\", \"Description\", \"Best_score\", \"Time_to_tune\", \"Score_kaggle\", \"Best_params\"]\n",
    "DESCRIPTION_VERSIONS = {\n",
    "    \"01\": \"Basic feature\",\n",
    "    \"02\": \"Basic feature with feature selection f_classif\",\n",
    "    \"03\": \"Basic feature with feature selection MI n=1\",\n",
    "    \"04\": \"Basic feature with feature selection MI n=2\",\n",
    "    \"05\": \"Basic feature with feature selection MI n=3\",\n",
    "    \"06\": \"Basic feature with feature selection MI n=4\",\n",
    "    \"07\": \"Basic feature with feature selection MI n=5\",\n",
    "    \"08\": \"Basic feature with feature selection from rf\",\n",
    "    \"09\": \"Basic feature with feature selection from ridge\",\n",
    "}"
   ]
  },
  {
   "cell_type": "markdown",
   "id": "800e3780",
   "metadata": {
    "jp-MarkdownHeadingCollapsed": true,
    "tags": []
   },
   "source": [
    "#### Logistic regression"
   ]
  },
  {
   "cell_type": "code",
   "execution_count": 43,
   "id": "c3915d06",
   "metadata": {},
   "outputs": [
    {
     "data": {
      "text/html": [
       "<style type=\"text/css\">\n",
       "#T_6a1f7_row0_col0, #T_6a1f7_row0_col1, #T_6a1f7_row0_col2, #T_6a1f7_row0_col3, #T_6a1f7_row0_col4, #T_6a1f7_row0_col5, #T_6a1f7_row1_col0, #T_6a1f7_row1_col1, #T_6a1f7_row1_col2, #T_6a1f7_row1_col3, #T_6a1f7_row1_col4, #T_6a1f7_row1_col5, #T_6a1f7_row3_col0, #T_6a1f7_row3_col1, #T_6a1f7_row3_col2, #T_6a1f7_row3_col3, #T_6a1f7_row3_col4, #T_6a1f7_row3_col5, #T_6a1f7_row4_col0, #T_6a1f7_row4_col1, #T_6a1f7_row4_col2, #T_6a1f7_row4_col3, #T_6a1f7_row4_col4, #T_6a1f7_row4_col5, #T_6a1f7_row5_col0, #T_6a1f7_row5_col1, #T_6a1f7_row5_col2, #T_6a1f7_row5_col3, #T_6a1f7_row5_col4, #T_6a1f7_row5_col5, #T_6a1f7_row6_col0, #T_6a1f7_row6_col1, #T_6a1f7_row6_col2, #T_6a1f7_row6_col3, #T_6a1f7_row6_col4, #T_6a1f7_row6_col5, #T_6a1f7_row7_col0, #T_6a1f7_row7_col1, #T_6a1f7_row7_col2, #T_6a1f7_row7_col3, #T_6a1f7_row7_col4, #T_6a1f7_row7_col5, #T_6a1f7_row8_col0, #T_6a1f7_row8_col1, #T_6a1f7_row8_col2, #T_6a1f7_row8_col3, #T_6a1f7_row8_col4, #T_6a1f7_row8_col5 {\n",
       "  background-color: white;\n",
       "}\n",
       "#T_6a1f7_row2_col0, #T_6a1f7_row2_col1, #T_6a1f7_row2_col2, #T_6a1f7_row2_col3, #T_6a1f7_row2_col4, #T_6a1f7_row2_col5 {\n",
       "  background-color: yellow;\n",
       "}\n",
       "</style>\n",
       "<table id=\"T_6a1f7\">\n",
       "  <thead>\n",
       "    <tr>\n",
       "      <th class=\"blank level0\" >&nbsp;</th>\n",
       "      <th id=\"T_6a1f7_level0_col0\" class=\"col_heading level0 col0\" >Version</th>\n",
       "      <th id=\"T_6a1f7_level0_col1\" class=\"col_heading level0 col1\" >Description</th>\n",
       "      <th id=\"T_6a1f7_level0_col2\" class=\"col_heading level0 col2\" >Best_score</th>\n",
       "      <th id=\"T_6a1f7_level0_col3\" class=\"col_heading level0 col3\" >Time_to_tune</th>\n",
       "      <th id=\"T_6a1f7_level0_col4\" class=\"col_heading level0 col4\" >Score_kaggle</th>\n",
       "      <th id=\"T_6a1f7_level0_col5\" class=\"col_heading level0 col5\" >Best_params</th>\n",
       "    </tr>\n",
       "  </thead>\n",
       "  <tbody>\n",
       "    <tr>\n",
       "      <th id=\"T_6a1f7_level0_row0\" class=\"row_heading level0 row0\" >0</th>\n",
       "      <td id=\"T_6a1f7_row0_col0\" class=\"data row0 col0\" >01</td>\n",
       "      <td id=\"T_6a1f7_row0_col1\" class=\"data row0 col1\" >Basic feature</td>\n",
       "      <td id=\"T_6a1f7_row0_col2\" class=\"data row0 col2\" >0.779479</td>\n",
       "      <td id=\"T_6a1f7_row0_col3\" class=\"data row0 col3\" >1476</td>\n",
       "      <td id=\"T_6a1f7_row0_col4\" class=\"data row0 col4\" >0.784420</td>\n",
       "      <td id=\"T_6a1f7_row0_col5\" class=\"data row0 col5\" >{'logistic__C': 0.01, 'logistic__penalty': 'l2', 'logistic__solver': 'liblinear'}</td>\n",
       "    </tr>\n",
       "    <tr>\n",
       "      <th id=\"T_6a1f7_level0_row1\" class=\"row_heading level0 row1\" >1</th>\n",
       "      <td id=\"T_6a1f7_row1_col0\" class=\"data row1 col0\" >02</td>\n",
       "      <td id=\"T_6a1f7_row1_col1\" class=\"data row1 col1\" >Basic feature with feature selection f_classif</td>\n",
       "      <td id=\"T_6a1f7_row1_col2\" class=\"data row1 col2\" >0.781549</td>\n",
       "      <td id=\"T_6a1f7_row1_col3\" class=\"data row1 col3\" >12903</td>\n",
       "      <td id=\"T_6a1f7_row1_col4\" class=\"data row1 col4\" >0.783490</td>\n",
       "      <td id=\"T_6a1f7_row1_col5\" class=\"data row1 col5\" >{'feature_selection__k': 15, 'logistic__C': 0.021544346900318822, 'logistic__l1_ratio': 0.1, 'logistic__penalty': 'elasticnet', 'logistic__solver': 'saga'}</td>\n",
       "    </tr>\n",
       "    <tr>\n",
       "      <th id=\"T_6a1f7_level0_row2\" class=\"row_heading level0 row2\" >2</th>\n",
       "      <td id=\"T_6a1f7_row2_col0\" class=\"data row2 col0\" >03</td>\n",
       "      <td id=\"T_6a1f7_row2_col1\" class=\"data row2 col1\" >Basic feature with feature selection MI n=1</td>\n",
       "      <td id=\"T_6a1f7_row2_col2\" class=\"data row2 col2\" >0.781665</td>\n",
       "      <td id=\"T_6a1f7_row2_col3\" class=\"data row2 col3\" >57133</td>\n",
       "      <td id=\"T_6a1f7_row2_col4\" class=\"data row2 col4\" >0.779280</td>\n",
       "      <td id=\"T_6a1f7_row2_col5\" class=\"data row2 col5\" >{'feature_selection__k': 16, 'logistic__C': 0.21544346900318823, 'logistic__l1_ratio': 0.2, 'logistic__penalty': 'elasticnet', 'logistic__solver': 'saga'}</td>\n",
       "    </tr>\n",
       "    <tr>\n",
       "      <th id=\"T_6a1f7_level0_row3\" class=\"row_heading level0 row3\" >3</th>\n",
       "      <td id=\"T_6a1f7_row3_col0\" class=\"data row3 col0\" >04</td>\n",
       "      <td id=\"T_6a1f7_row3_col1\" class=\"data row3 col1\" >Basic feature with feature selection MI n=2</td>\n",
       "      <td id=\"T_6a1f7_row3_col2\" class=\"data row3 col2\" >0.780629</td>\n",
       "      <td id=\"T_6a1f7_row3_col3\" class=\"data row3 col3\" >58302</td>\n",
       "      <td id=\"T_6a1f7_row3_col4\" class=\"data row3 col4\" >0.785120</td>\n",
       "      <td id=\"T_6a1f7_row3_col5\" class=\"data row3 col5\" >{'feature_selection__k': 24, 'logistic__C': 0.01, 'logistic__penalty': 'l2', 'logistic__solver': 'liblinear'}</td>\n",
       "    </tr>\n",
       "    <tr>\n",
       "      <th id=\"T_6a1f7_level0_row4\" class=\"row_heading level0 row4\" >4</th>\n",
       "      <td id=\"T_6a1f7_row4_col0\" class=\"data row4 col0\" >05</td>\n",
       "      <td id=\"T_6a1f7_row4_col1\" class=\"data row4 col1\" >Basic feature with feature selection MI n=3</td>\n",
       "      <td id=\"T_6a1f7_row4_col2\" class=\"data row4 col2\" >0.780745</td>\n",
       "      <td id=\"T_6a1f7_row4_col3\" class=\"data row4 col3\" >59880</td>\n",
       "      <td id=\"T_6a1f7_row4_col4\" class=\"data row4 col4\" >0.776710</td>\n",
       "      <td id=\"T_6a1f7_row4_col5\" class=\"data row4 col5\" >{'feature_selection__k': 12, 'logistic__C': 2154.434690031878, 'logistic__l1_ratio': 0.5, 'logistic__penalty': 'elasticnet', 'logistic__solver': 'saga'}</td>\n",
       "    </tr>\n",
       "    <tr>\n",
       "      <th id=\"T_6a1f7_level0_row5\" class=\"row_heading level0 row5\" >5</th>\n",
       "      <td id=\"T_6a1f7_row5_col0\" class=\"data row5 col0\" >06</td>\n",
       "      <td id=\"T_6a1f7_row5_col1\" class=\"data row5 col1\" >Basic feature with feature selection MI n=4</td>\n",
       "      <td id=\"T_6a1f7_row5_col2\" class=\"data row5 col2\" >0.780400</td>\n",
       "      <td id=\"T_6a1f7_row5_col3\" class=\"data row5 col3\" >61262</td>\n",
       "      <td id=\"T_6a1f7_row5_col4\" class=\"data row5 col4\" >0.782550</td>\n",
       "      <td id=\"T_6a1f7_row5_col5\" class=\"data row5 col5\" >{'feature_selection__k': 15, 'logistic__C': 4641.588833612773, 'logistic__l1_ratio': 0.8, 'logistic__penalty': 'elasticnet', 'logistic__solver': 'saga'}</td>\n",
       "    </tr>\n",
       "    <tr>\n",
       "      <th id=\"T_6a1f7_level0_row6\" class=\"row_heading level0 row6\" >6</th>\n",
       "      <td id=\"T_6a1f7_row6_col0\" class=\"data row6 col0\" >07</td>\n",
       "      <td id=\"T_6a1f7_row6_col1\" class=\"data row6 col1\" >Basic feature with feature selection MI n=5</td>\n",
       "      <td id=\"T_6a1f7_row6_col2\" class=\"data row6 col2\" >0.780745</td>\n",
       "      <td id=\"T_6a1f7_row6_col3\" class=\"data row6 col3\" >62178</td>\n",
       "      <td id=\"T_6a1f7_row6_col4\" class=\"data row6 col4\" >0.782090</td>\n",
       "      <td id=\"T_6a1f7_row6_col5\" class=\"data row6 col5\" >{'feature_selection__k': 15, 'logistic__C': 10000.0, 'logistic__penalty': 'l2', 'logistic__solver': 'liblinear'}</td>\n",
       "    </tr>\n",
       "    <tr>\n",
       "      <th id=\"T_6a1f7_level0_row7\" class=\"row_heading level0 row7\" >7</th>\n",
       "      <td id=\"T_6a1f7_row7_col0\" class=\"data row7 col0\" >08</td>\n",
       "      <td id=\"T_6a1f7_row7_col1\" class=\"data row7 col1\" >Basic feature with feature selection from rf</td>\n",
       "      <td id=\"T_6a1f7_row7_col2\" class=\"data row7 col2\" >0.779479</td>\n",
       "      <td id=\"T_6a1f7_row7_col3\" class=\"data row7 col3\" >42744</td>\n",
       "      <td id=\"T_6a1f7_row7_col4\" class=\"data row7 col4\" >0.784190</td>\n",
       "      <td id=\"T_6a1f7_row7_col5\" class=\"data row7 col5\" >{'feature_selection__max_features': 23, 'logistic__C': 0.01, 'logistic__penalty': 'l2', 'logistic__solver': 'liblinear'}</td>\n",
       "    </tr>\n",
       "    <tr>\n",
       "      <th id=\"T_6a1f7_level0_row8\" class=\"row_heading level0 row8\" >8</th>\n",
       "      <td id=\"T_6a1f7_row8_col0\" class=\"data row8 col0\" >09</td>\n",
       "      <td id=\"T_6a1f7_row8_col1\" class=\"data row8 col1\" >Basic feature with feature selection from ridge</td>\n",
       "      <td id=\"T_6a1f7_row8_col2\" class=\"data row8 col2\" >0.779939</td>\n",
       "      <td id=\"T_6a1f7_row8_col3\" class=\"data row8 col3\" >13259</td>\n",
       "      <td id=\"T_6a1f7_row8_col4\" class=\"data row8 col4\" >0.781150</td>\n",
       "      <td id=\"T_6a1f7_row8_col5\" class=\"data row8 col5\" >{'feature_selection__max_features': 19, 'logistic__C': 0.021544346900318822, 'logistic__l1_ratio': 0.4, 'logistic__penalty': 'elasticnet', 'logistic__solver': 'saga'}</td>\n",
       "    </tr>\n",
       "  </tbody>\n",
       "</table>\n"
      ],
      "text/plain": [
       "<pandas.io.formats.style.Styler at 0x186eb357550>"
      ]
     },
     "execution_count": 43,
     "metadata": {},
     "output_type": "execute_result"
    }
   ],
   "source": [
    "df_results = pd.DataFrame(columns=COLUMNS)\n",
    "NAME_MODEL = \"logistic_regression\"\n",
    "\n",
    "for version in VERSIONS:\n",
    "    \n",
    "    if os.path.exists(os.path.join(REPO_MODEL, NAME_MODEL + \"__v\" + version + \".json\")):\n",
    "        with open(os.path.join(REPO_MODEL, NAME_MODEL + \"__v\" + version + \".json\"), \"r\") as file:\n",
    "            data = json.load(file)\n",
    "        df_results = pd.concat([\n",
    "            df_results, \n",
    "            pd.DataFrame({\n",
    "                \"Version\": [version], \n",
    "                \"Description\": DESCRIPTION_VERSIONS.get(version),\n",
    "                \"Best_score\": [data[\"best_score\"]],\n",
    "                \"Time_to_tune\": [int(data[\"time_to_tune\"])],\n",
    "                \"Score_kaggle\": [data[\"score_kaggle\"]],\n",
    "                \"Best_params\": [data[\"best_params\"]],\n",
    "                \n",
    "            })])\n",
    "        \n",
    "df_results.reset_index(inplace=True, drop=True)\n",
    "df_results.style.apply(lambda row: ['background-color: yellow'] * df_results.shape[1] if row.Best_score == max(df_results.Best_score) else ['background-color: white'] * df_results.shape[1], axis=1)"
   ]
  },
  {
   "cell_type": "markdown",
   "id": "eec83fa4",
   "metadata": {
    "jp-MarkdownHeadingCollapsed": true,
    "tags": []
   },
   "source": [
    "#### KNN"
   ]
  },
  {
   "cell_type": "code",
   "execution_count": 44,
   "id": "33427c7b",
   "metadata": {},
   "outputs": [
    {
     "data": {
      "text/html": [
       "<style type=\"text/css\">\n",
       "#T_5f14f_row0_col0, #T_5f14f_row0_col1, #T_5f14f_row0_col2, #T_5f14f_row0_col3, #T_5f14f_row0_col4, #T_5f14f_row0_col5, #T_5f14f_row1_col0, #T_5f14f_row1_col1, #T_5f14f_row1_col2, #T_5f14f_row1_col3, #T_5f14f_row1_col4, #T_5f14f_row1_col5, #T_5f14f_row3_col0, #T_5f14f_row3_col1, #T_5f14f_row3_col2, #T_5f14f_row3_col3, #T_5f14f_row3_col4, #T_5f14f_row3_col5, #T_5f14f_row4_col0, #T_5f14f_row4_col1, #T_5f14f_row4_col2, #T_5f14f_row4_col3, #T_5f14f_row4_col4, #T_5f14f_row4_col5, #T_5f14f_row5_col0, #T_5f14f_row5_col1, #T_5f14f_row5_col2, #T_5f14f_row5_col3, #T_5f14f_row5_col4, #T_5f14f_row5_col5, #T_5f14f_row6_col0, #T_5f14f_row6_col1, #T_5f14f_row6_col2, #T_5f14f_row6_col3, #T_5f14f_row6_col4, #T_5f14f_row6_col5, #T_5f14f_row7_col0, #T_5f14f_row7_col1, #T_5f14f_row7_col2, #T_5f14f_row7_col3, #T_5f14f_row7_col4, #T_5f14f_row7_col5, #T_5f14f_row8_col0, #T_5f14f_row8_col1, #T_5f14f_row8_col2, #T_5f14f_row8_col3, #T_5f14f_row8_col4, #T_5f14f_row8_col5 {\n",
       "  background-color: white;\n",
       "}\n",
       "#T_5f14f_row2_col0, #T_5f14f_row2_col1, #T_5f14f_row2_col2, #T_5f14f_row2_col3, #T_5f14f_row2_col4, #T_5f14f_row2_col5 {\n",
       "  background-color: yellow;\n",
       "}\n",
       "</style>\n",
       "<table id=\"T_5f14f\">\n",
       "  <thead>\n",
       "    <tr>\n",
       "      <th class=\"blank level0\" >&nbsp;</th>\n",
       "      <th id=\"T_5f14f_level0_col0\" class=\"col_heading level0 col0\" >Version</th>\n",
       "      <th id=\"T_5f14f_level0_col1\" class=\"col_heading level0 col1\" >Description</th>\n",
       "      <th id=\"T_5f14f_level0_col2\" class=\"col_heading level0 col2\" >Best_score</th>\n",
       "      <th id=\"T_5f14f_level0_col3\" class=\"col_heading level0 col3\" >Time_to_tune</th>\n",
       "      <th id=\"T_5f14f_level0_col4\" class=\"col_heading level0 col4\" >Score_kaggle</th>\n",
       "      <th id=\"T_5f14f_level0_col5\" class=\"col_heading level0 col5\" >Best_params</th>\n",
       "    </tr>\n",
       "  </thead>\n",
       "  <tbody>\n",
       "    <tr>\n",
       "      <th id=\"T_5f14f_level0_row0\" class=\"row_heading level0 row0\" >0</th>\n",
       "      <td id=\"T_5f14f_row0_col0\" class=\"data row0 col0\" >01</td>\n",
       "      <td id=\"T_5f14f_row0_col1\" class=\"data row0 col1\" >Basic feature</td>\n",
       "      <td id=\"T_5f14f_row0_col2\" class=\"data row0 col2\" >0.788799</td>\n",
       "      <td id=\"T_5f14f_row0_col3\" class=\"data row0 col3\" >5311</td>\n",
       "      <td id=\"T_5f14f_row0_col4\" class=\"data row0 col4\" >0.787930</td>\n",
       "      <td id=\"T_5f14f_row0_col5\" class=\"data row0 col5\" >{'knn__n_neighbors': 47, 'knn__p': 2, 'knn__weights': 'uniform'}</td>\n",
       "    </tr>\n",
       "    <tr>\n",
       "      <th id=\"T_5f14f_level0_row1\" class=\"row_heading level0 row1\" >1</th>\n",
       "      <td id=\"T_5f14f_row1_col0\" class=\"data row1 col0\" >02</td>\n",
       "      <td id=\"T_5f14f_row1_col1\" class=\"data row1 col1\" >Basic feature with feature selection f_classif</td>\n",
       "      <td id=\"T_5f14f_row1_col2\" class=\"data row1 col2\" >0.790294</td>\n",
       "      <td id=\"T_5f14f_row1_col3\" class=\"data row1 col3\" >64065</td>\n",
       "      <td id=\"T_5f14f_row1_col4\" class=\"data row1 col4\" >0.784420</td>\n",
       "      <td id=\"T_5f14f_row1_col5\" class=\"data row1 col5\" >{'feature_selection__k': 18, 'knn__n_neighbors': 31, 'knn__p': 1, 'knn__weights': 'uniform'}</td>\n",
       "    </tr>\n",
       "    <tr>\n",
       "      <th id=\"T_5f14f_level0_row2\" class=\"row_heading level0 row2\" >2</th>\n",
       "      <td id=\"T_5f14f_row2_col0\" class=\"data row2 col0\" >03</td>\n",
       "      <td id=\"T_5f14f_row2_col1\" class=\"data row2 col1\" >Basic feature with feature selection MI n=1</td>\n",
       "      <td id=\"T_5f14f_row2_col2\" class=\"data row2 col2\" >0.795932</td>\n",
       "      <td id=\"T_5f14f_row2_col3\" class=\"data row2 col3\" >75335</td>\n",
       "      <td id=\"T_5f14f_row2_col4\" class=\"data row2 col4\" >0.788870</td>\n",
       "      <td id=\"T_5f14f_row2_col5\" class=\"data row2 col5\" >{'feature_selection__k': 13, 'knn__n_neighbors': 48, 'knn__p': 1, 'knn__weights': 'uniform'}</td>\n",
       "    </tr>\n",
       "    <tr>\n",
       "      <th id=\"T_5f14f_level0_row3\" class=\"row_heading level0 row3\" >3</th>\n",
       "      <td id=\"T_5f14f_row3_col0\" class=\"data row3 col0\" >04</td>\n",
       "      <td id=\"T_5f14f_row3_col1\" class=\"data row3 col1\" >Basic feature with feature selection MI n=2</td>\n",
       "      <td id=\"T_5f14f_row3_col2\" class=\"data row3 col2\" >0.795009</td>\n",
       "      <td id=\"T_5f14f_row3_col3\" class=\"data row3 col3\" >105862</td>\n",
       "      <td id=\"T_5f14f_row3_col4\" class=\"data row3 col4\" >0.787230</td>\n",
       "      <td id=\"T_5f14f_row3_col5\" class=\"data row3 col5\" >{'feature_selection__k': 18, 'knn__n_neighbors': 33, 'knn__p': 1, 'knn__weights': 'uniform'}</td>\n",
       "    </tr>\n",
       "    <tr>\n",
       "      <th id=\"T_5f14f_level0_row4\" class=\"row_heading level0 row4\" >4</th>\n",
       "      <td id=\"T_5f14f_row4_col0\" class=\"data row4 col0\" >05</td>\n",
       "      <td id=\"T_5f14f_row4_col1\" class=\"data row4 col1\" >Basic feature with feature selection MI n=3</td>\n",
       "      <td id=\"T_5f14f_row4_col2\" class=\"data row4 col2\" >0.792481</td>\n",
       "      <td id=\"T_5f14f_row4_col3\" class=\"data row4 col3\" >91760</td>\n",
       "      <td id=\"T_5f14f_row4_col4\" class=\"data row4 col4\" >0.780210</td>\n",
       "      <td id=\"T_5f14f_row4_col5\" class=\"data row4 col5\" >{'feature_selection__k': 11, 'knn__n_neighbors': 37, 'knn__p': 1, 'knn__weights': 'uniform'}</td>\n",
       "    </tr>\n",
       "    <tr>\n",
       "      <th id=\"T_5f14f_level0_row5\" class=\"row_heading level0 row5\" >5</th>\n",
       "      <td id=\"T_5f14f_row5_col0\" class=\"data row5 col0\" >06</td>\n",
       "      <td id=\"T_5f14f_row5_col1\" class=\"data row5 col1\" >Basic feature with feature selection MI n=4</td>\n",
       "      <td id=\"T_5f14f_row5_col2\" class=\"data row5 col2\" >0.793400</td>\n",
       "      <td id=\"T_5f14f_row5_col3\" class=\"data row5 col3\" >110870</td>\n",
       "      <td id=\"T_5f14f_row5_col4\" class=\"data row5 col4\" >0.785590</td>\n",
       "      <td id=\"T_5f14f_row5_col5\" class=\"data row5 col5\" >{'feature_selection__k': 13, 'knn__n_neighbors': 49, 'knn__p': 1, 'knn__weights': 'uniform'}</td>\n",
       "    </tr>\n",
       "    <tr>\n",
       "      <th id=\"T_5f14f_level0_row6\" class=\"row_heading level0 row6\" >6</th>\n",
       "      <td id=\"T_5f14f_row6_col0\" class=\"data row6 col0\" >07</td>\n",
       "      <td id=\"T_5f14f_row6_col1\" class=\"data row6 col1\" >Basic feature with feature selection MI n=5</td>\n",
       "      <td id=\"T_5f14f_row6_col2\" class=\"data row6 col2\" >0.793631</td>\n",
       "      <td id=\"T_5f14f_row6_col3\" class=\"data row6 col3\" >113486</td>\n",
       "      <td id=\"T_5f14f_row6_col4\" class=\"data row6 col4\" >0.788630</td>\n",
       "      <td id=\"T_5f14f_row6_col5\" class=\"data row6 col5\" >{'feature_selection__k': 16, 'knn__n_neighbors': 51, 'knn__p': 1, 'knn__weights': 'uniform'}</td>\n",
       "    </tr>\n",
       "    <tr>\n",
       "      <th id=\"T_5f14f_level0_row7\" class=\"row_heading level0 row7\" >7</th>\n",
       "      <td id=\"T_5f14f_row7_col0\" class=\"data row7 col0\" >08</td>\n",
       "      <td id=\"T_5f14f_row7_col1\" class=\"data row7 col1\" >Basic feature with feature selection from rf</td>\n",
       "      <td id=\"T_5f14f_row7_col2\" class=\"data row7 col2\" >0.791214</td>\n",
       "      <td id=\"T_5f14f_row7_col3\" class=\"data row7 col3\" >83657</td>\n",
       "      <td id=\"T_5f14f_row7_col4\" class=\"data row7 col4\" >0.783490</td>\n",
       "      <td id=\"T_5f14f_row7_col5\" class=\"data row7 col5\" >{'feature_selection__max_features': 11, 'knn__n_neighbors': 63, 'knn__p': 1, 'knn__weights': 'uniform'}</td>\n",
       "    </tr>\n",
       "    <tr>\n",
       "      <th id=\"T_5f14f_level0_row8\" class=\"row_heading level0 row8\" >8</th>\n",
       "      <td id=\"T_5f14f_row8_col0\" class=\"data row8 col0\" >09</td>\n",
       "      <td id=\"T_5f14f_row8_col1\" class=\"data row8 col1\" >Basic feature with feature selection from ridge</td>\n",
       "      <td id=\"T_5f14f_row8_col2\" class=\"data row8 col2\" >0.790179</td>\n",
       "      <td id=\"T_5f14f_row8_col3\" class=\"data row8 col3\" >20887</td>\n",
       "      <td id=\"T_5f14f_row8_col4\" class=\"data row8 col4\" >0.787700</td>\n",
       "      <td id=\"T_5f14f_row8_col5\" class=\"data row8 col5\" >{'feature_selection__max_features': 27, 'knn__n_neighbors': 47, 'knn__p': 2, 'knn__weights': 'uniform'}</td>\n",
       "    </tr>\n",
       "  </tbody>\n",
       "</table>\n"
      ],
      "text/plain": [
       "<pandas.io.formats.style.Styler at 0x186eb3833d0>"
      ]
     },
     "execution_count": 44,
     "metadata": {},
     "output_type": "execute_result"
    }
   ],
   "source": [
    "df_results = pd.DataFrame(columns=COLUMNS)\n",
    "NAME_MODEL = \"knn\"\n",
    "\n",
    "for version in VERSIONS:\n",
    "    \n",
    "    if os.path.exists(os.path.join(REPO_MODEL, NAME_MODEL + \"__v\" + version + \".json\")):\n",
    "        with open(os.path.join(REPO_MODEL, NAME_MODEL + \"__v\" + version + \".json\"), \"r\") as file:\n",
    "            data = json.load(file)\n",
    "        df_results = pd.concat([\n",
    "            df_results, \n",
    "            pd.DataFrame({\n",
    "                \"Version\": [version], \n",
    "                \"Description\": DESCRIPTION_VERSIONS.get(version), \n",
    "                \"Best_score\": [data[\"best_score\"]],\n",
    "                \"Time_to_tune\": [int(data[\"time_to_tune\"])],\n",
    "                \"Score_kaggle\": [data[\"score_kaggle\"]],\n",
    "                \"Best_params\": [data[\"best_params\"]],\n",
    "            })])\n",
    "        \n",
    "df_results.reset_index(inplace=True, drop=True)\n",
    "df_results.style.apply(lambda row: ['background-color: yellow'] * df_results.shape[1] if row.Best_score == max(df_results.Best_score) else ['background-color: white'] * df_results.shape[1], axis=1)"
   ]
  },
  {
   "cell_type": "markdown",
   "id": "c1fd78c3",
   "metadata": {
    "jp-MarkdownHeadingCollapsed": true,
    "tags": []
   },
   "source": [
    "#### SVM "
   ]
  },
  {
   "cell_type": "code",
   "execution_count": 45,
   "id": "0bfef4cd",
   "metadata": {},
   "outputs": [
    {
     "data": {
      "text/html": [
       "<style type=\"text/css\">\n",
       "#T_33701_row0_col0, #T_33701_row0_col1, #T_33701_row0_col2, #T_33701_row0_col3, #T_33701_row0_col4, #T_33701_row0_col5, #T_33701_row1_col0, #T_33701_row1_col1, #T_33701_row1_col2, #T_33701_row1_col3, #T_33701_row1_col4, #T_33701_row1_col5, #T_33701_row2_col0, #T_33701_row2_col1, #T_33701_row2_col2, #T_33701_row2_col3, #T_33701_row2_col4, #T_33701_row2_col5, #T_33701_row4_col0, #T_33701_row4_col1, #T_33701_row4_col2, #T_33701_row4_col3, #T_33701_row4_col4, #T_33701_row4_col5, #T_33701_row5_col0, #T_33701_row5_col1, #T_33701_row5_col2, #T_33701_row5_col3, #T_33701_row5_col4, #T_33701_row5_col5, #T_33701_row6_col0, #T_33701_row6_col1, #T_33701_row6_col2, #T_33701_row6_col3, #T_33701_row6_col4, #T_33701_row6_col5, #T_33701_row7_col0, #T_33701_row7_col1, #T_33701_row7_col2, #T_33701_row7_col3, #T_33701_row7_col4, #T_33701_row7_col5 {\n",
       "  background-color: white;\n",
       "}\n",
       "#T_33701_row3_col0, #T_33701_row3_col1, #T_33701_row3_col2, #T_33701_row3_col3, #T_33701_row3_col4, #T_33701_row3_col5 {\n",
       "  background-color: yellow;\n",
       "}\n",
       "</style>\n",
       "<table id=\"T_33701\">\n",
       "  <thead>\n",
       "    <tr>\n",
       "      <th class=\"blank level0\" >&nbsp;</th>\n",
       "      <th id=\"T_33701_level0_col0\" class=\"col_heading level0 col0\" >Version</th>\n",
       "      <th id=\"T_33701_level0_col1\" class=\"col_heading level0 col1\" >Description</th>\n",
       "      <th id=\"T_33701_level0_col2\" class=\"col_heading level0 col2\" >Best_score</th>\n",
       "      <th id=\"T_33701_level0_col3\" class=\"col_heading level0 col3\" >Time_to_tune</th>\n",
       "      <th id=\"T_33701_level0_col4\" class=\"col_heading level0 col4\" >Score_kaggle</th>\n",
       "      <th id=\"T_33701_level0_col5\" class=\"col_heading level0 col5\" >Best_params</th>\n",
       "    </tr>\n",
       "  </thead>\n",
       "  <tbody>\n",
       "    <tr>\n",
       "      <th id=\"T_33701_level0_row0\" class=\"row_heading level0 row0\" >0</th>\n",
       "      <td id=\"T_33701_row0_col0\" class=\"data row0 col0\" >01</td>\n",
       "      <td id=\"T_33701_row0_col1\" class=\"data row0 col1\" >Basic feature</td>\n",
       "      <td id=\"T_33701_row0_col2\" class=\"data row0 col2\" >0.800532</td>\n",
       "      <td id=\"T_33701_row0_col3\" class=\"data row0 col3\" >2623</td>\n",
       "      <td id=\"T_33701_row0_col4\" class=\"data row0 col4\" >0.800320</td>\n",
       "      <td id=\"T_33701_row0_col5\" class=\"data row0 col5\" >{'svm__C': 0.46415888336127775, 'svm__degree': 3, 'svm__kernel': 'poly'}</td>\n",
       "    </tr>\n",
       "    <tr>\n",
       "      <th id=\"T_33701_level0_row1\" class=\"row_heading level0 row1\" >1</th>\n",
       "      <td id=\"T_33701_row1_col0\" class=\"data row1 col0\" >02</td>\n",
       "      <td id=\"T_33701_row1_col1\" class=\"data row1 col1\" >Basic feature with feature selection f_classif</td>\n",
       "      <td id=\"T_33701_row1_col2\" class=\"data row1 col2\" >0.801222</td>\n",
       "      <td id=\"T_33701_row1_col3\" class=\"data row1 col3\" >307954</td>\n",
       "      <td id=\"T_33701_row1_col4\" class=\"data row1 col4\" >0.798920</td>\n",
       "      <td id=\"T_33701_row1_col5\" class=\"data row1 col5\" >{'feature_selection__k': 20, 'svm__C': 0.46415888336127775, 'svm__degree': 3, 'svm__kernel': 'poly'}</td>\n",
       "    </tr>\n",
       "    <tr>\n",
       "      <th id=\"T_33701_level0_row2\" class=\"row_heading level0 row2\" >2</th>\n",
       "      <td id=\"T_33701_row2_col0\" class=\"data row2 col0\" >04</td>\n",
       "      <td id=\"T_33701_row2_col1\" class=\"data row2 col1\" >Basic feature with feature selection MI n=2</td>\n",
       "      <td id=\"T_33701_row2_col2\" class=\"data row2 col2\" >0.800187</td>\n",
       "      <td id=\"T_33701_row2_col3\" class=\"data row2 col3\" >226415</td>\n",
       "      <td id=\"T_33701_row2_col4\" class=\"data row2 col4\" >0.794480</td>\n",
       "      <td id=\"T_33701_row2_col5\" class=\"data row2 col5\" >{'feature_selection__k': 21, 'svm__C': 4.6415888336127775, 'svm__degree': 2, 'svm__kernel': 'poly'}</td>\n",
       "    </tr>\n",
       "    <tr>\n",
       "      <th id=\"T_33701_level0_row3\" class=\"row_heading level0 row3\" >3</th>\n",
       "      <td id=\"T_33701_row3_col0\" class=\"data row3 col0\" >05</td>\n",
       "      <td id=\"T_33701_row3_col1\" class=\"data row3 col1\" >Basic feature with feature selection MI n=3</td>\n",
       "      <td id=\"T_33701_row3_col2\" class=\"data row3 col2\" >0.801912</td>\n",
       "      <td id=\"T_33701_row3_col3\" class=\"data row3 col3\" >180134</td>\n",
       "      <td id=\"T_33701_row3_col4\" class=\"data row3 col4\" >0.799390</td>\n",
       "      <td id=\"T_33701_row3_col5\" class=\"data row3 col5\" >{'feature_selection__k': 23, 'svm__C': 0.46415888336127775, 'svm__degree': 3, 'svm__kernel': 'poly'}</td>\n",
       "    </tr>\n",
       "    <tr>\n",
       "      <th id=\"T_33701_level0_row4\" class=\"row_heading level0 row4\" >4</th>\n",
       "      <td id=\"T_33701_row4_col0\" class=\"data row4 col0\" >06</td>\n",
       "      <td id=\"T_33701_row4_col1\" class=\"data row4 col1\" >Basic feature with feature selection MI n=4</td>\n",
       "      <td id=\"T_33701_row4_col2\" class=\"data row4 col2\" >0.800647</td>\n",
       "      <td id=\"T_33701_row4_col3\" class=\"data row4 col3\" >209248</td>\n",
       "      <td id=\"T_33701_row4_col4\" class=\"data row4 col4\" >0.799390</td>\n",
       "      <td id=\"T_33701_row4_col5\" class=\"data row4 col5\" >{'feature_selection__k': 24, 'svm__C': 0.46415888336127775, 'svm__degree': 3, 'svm__kernel': 'poly'}</td>\n",
       "    </tr>\n",
       "    <tr>\n",
       "      <th id=\"T_33701_level0_row5\" class=\"row_heading level0 row5\" >5</th>\n",
       "      <td id=\"T_33701_row5_col0\" class=\"data row5 col0\" >07</td>\n",
       "      <td id=\"T_33701_row5_col1\" class=\"data row5 col1\" >Basic feature with feature selection MI n=5</td>\n",
       "      <td id=\"T_33701_row5_col2\" class=\"data row5 col2\" >0.801223</td>\n",
       "      <td id=\"T_33701_row5_col3\" class=\"data row5 col3\" >220124</td>\n",
       "      <td id=\"T_33701_row5_col4\" class=\"data row5 col4\" >0.800090</td>\n",
       "      <td id=\"T_33701_row5_col5\" class=\"data row5 col5\" >{'feature_selection__k': 24, 'svm__C': 1.0, 'svm__degree': 3, 'svm__kernel': 'poly'}</td>\n",
       "    </tr>\n",
       "    <tr>\n",
       "      <th id=\"T_33701_level0_row6\" class=\"row_heading level0 row6\" >6</th>\n",
       "      <td id=\"T_33701_row6_col0\" class=\"data row6 col0\" >08</td>\n",
       "      <td id=\"T_33701_row6_col1\" class=\"data row6 col1\" >Basic feature with feature selection from rf</td>\n",
       "      <td id=\"T_33701_row6_col2\" class=\"data row6 col2\" >0.801682</td>\n",
       "      <td id=\"T_33701_row6_col3\" class=\"data row6 col3\" >97146</td>\n",
       "      <td id=\"T_33701_row6_col4\" class=\"data row6 col4\" >0.799620</td>\n",
       "      <td id=\"T_33701_row6_col5\" class=\"data row6 col5\" >{'feature_selection__max_features': 25, 'svm__C': 0.46415888336127775, 'svm__degree': 3, 'svm__kernel': 'poly'}</td>\n",
       "    </tr>\n",
       "    <tr>\n",
       "      <th id=\"T_33701_level0_row7\" class=\"row_heading level0 row7\" >7</th>\n",
       "      <td id=\"T_33701_row7_col0\" class=\"data row7 col0\" >09</td>\n",
       "      <td id=\"T_33701_row7_col1\" class=\"data row7 col1\" >Basic feature with feature selection from ridge</td>\n",
       "      <td id=\"T_33701_row7_col2\" class=\"data row7 col2\" >0.800532</td>\n",
       "      <td id=\"T_33701_row7_col3\" class=\"data row7 col3\" >185765</td>\n",
       "      <td id=\"T_33701_row7_col4\" class=\"data row7 col4\" >0.799390</td>\n",
       "      <td id=\"T_33701_row7_col5\" class=\"data row7 col5\" >{'feature_selection__max_features': 26, 'svm__C': 0.46415888336127775, 'svm__degree': 3, 'svm__kernel': 'poly'}</td>\n",
       "    </tr>\n",
       "  </tbody>\n",
       "</table>\n"
      ],
      "text/plain": [
       "<pandas.io.formats.style.Styler at 0x186eb383400>"
      ]
     },
     "execution_count": 45,
     "metadata": {},
     "output_type": "execute_result"
    }
   ],
   "source": [
    "df_results = pd.DataFrame(columns=COLUMNS)\n",
    "NAME_MODEL = \"svm\"\n",
    "\n",
    "for version in VERSIONS:\n",
    "    \n",
    "    if os.path.exists(os.path.join(REPO_MODEL, NAME_MODEL + \"__v\" + version + \".json\")):\n",
    "        with open(os.path.join(REPO_MODEL, NAME_MODEL + \"__v\" + version + \".json\"), \"r\") as file:\n",
    "            data = json.load(file)\n",
    "        df_results = pd.concat([\n",
    "            df_results, \n",
    "            pd.DataFrame({\n",
    "                \"Version\": [version], \n",
    "                \"Description\": DESCRIPTION_VERSIONS.get(version), \n",
    "                \"Best_score\": [data[\"best_score\"]],\n",
    "                \"Time_to_tune\": [int(data[\"time_to_tune\"])],\n",
    "                \"Score_kaggle\": [data[\"score_kaggle\"]],\n",
    "                \"Best_params\": [data[\"best_params\"]],\n",
    "            })])\n",
    "        \n",
    "df_results.reset_index(inplace=True, drop=True)\n",
    "df_results.style.apply(lambda row: ['background-color: yellow'] * df_results.shape[1] if row.Best_score == max(df_results.Best_score) else ['background-color: white'] * df_results.shape[1], axis=1)"
   ]
  },
  {
   "cell_type": "markdown",
   "id": "821d34a8",
   "metadata": {
    "jp-MarkdownHeadingCollapsed": true,
    "tags": []
   },
   "source": [
    "#### GNB"
   ]
  },
  {
   "cell_type": "code",
   "execution_count": 46,
   "id": "6c3f3a44",
   "metadata": {},
   "outputs": [
    {
     "data": {
      "text/html": [
       "<style type=\"text/css\">\n",
       "#T_bf713_row0_col0, #T_bf713_row0_col1, #T_bf713_row0_col2, #T_bf713_row0_col3, #T_bf713_row0_col4, #T_bf713_row0_col5, #T_bf713_row1_col0, #T_bf713_row1_col1, #T_bf713_row1_col2, #T_bf713_row1_col3, #T_bf713_row1_col4, #T_bf713_row1_col5, #T_bf713_row2_col0, #T_bf713_row2_col1, #T_bf713_row2_col2, #T_bf713_row2_col3, #T_bf713_row2_col4, #T_bf713_row2_col5, #T_bf713_row3_col0, #T_bf713_row3_col1, #T_bf713_row3_col2, #T_bf713_row3_col3, #T_bf713_row3_col4, #T_bf713_row3_col5, #T_bf713_row4_col0, #T_bf713_row4_col1, #T_bf713_row4_col2, #T_bf713_row4_col3, #T_bf713_row4_col4, #T_bf713_row4_col5, #T_bf713_row5_col0, #T_bf713_row5_col1, #T_bf713_row5_col2, #T_bf713_row5_col3, #T_bf713_row5_col4, #T_bf713_row5_col5, #T_bf713_row6_col0, #T_bf713_row6_col1, #T_bf713_row6_col2, #T_bf713_row6_col3, #T_bf713_row6_col4, #T_bf713_row6_col5, #T_bf713_row7_col0, #T_bf713_row7_col1, #T_bf713_row7_col2, #T_bf713_row7_col3, #T_bf713_row7_col4, #T_bf713_row7_col5 {\n",
       "  background-color: white;\n",
       "}\n",
       "#T_bf713_row8_col0, #T_bf713_row8_col1, #T_bf713_row8_col2, #T_bf713_row8_col3, #T_bf713_row8_col4, #T_bf713_row8_col5 {\n",
       "  background-color: yellow;\n",
       "}\n",
       "</style>\n",
       "<table id=\"T_bf713\">\n",
       "  <thead>\n",
       "    <tr>\n",
       "      <th class=\"blank level0\" >&nbsp;</th>\n",
       "      <th id=\"T_bf713_level0_col0\" class=\"col_heading level0 col0\" >Version</th>\n",
       "      <th id=\"T_bf713_level0_col1\" class=\"col_heading level0 col1\" >Description</th>\n",
       "      <th id=\"T_bf713_level0_col2\" class=\"col_heading level0 col2\" >Best_score</th>\n",
       "      <th id=\"T_bf713_level0_col3\" class=\"col_heading level0 col3\" >Time_to_tune</th>\n",
       "      <th id=\"T_bf713_level0_col4\" class=\"col_heading level0 col4\" >Score_kaggle</th>\n",
       "      <th id=\"T_bf713_level0_col5\" class=\"col_heading level0 col5\" >Best_params</th>\n",
       "    </tr>\n",
       "  </thead>\n",
       "  <tbody>\n",
       "    <tr>\n",
       "      <th id=\"T_bf713_level0_row0\" class=\"row_heading level0 row0\" >0</th>\n",
       "      <td id=\"T_bf713_row0_col0\" class=\"data row0 col0\" >01</td>\n",
       "      <td id=\"T_bf713_row0_col1\" class=\"data row0 col1\" >Basic feature</td>\n",
       "      <td id=\"T_bf713_row0_col2\" class=\"data row0 col2\" >0.757738</td>\n",
       "      <td id=\"T_bf713_row0_col3\" class=\"data row0 col3\" >42</td>\n",
       "      <td id=\"T_bf713_row0_col4\" class=\"data row0 col4\" >0.770160</td>\n",
       "      <td id=\"T_bf713_row0_col5\" class=\"data row0 col5\" >{'gnb__var_smoothing': 0.811130830789689}</td>\n",
       "    </tr>\n",
       "    <tr>\n",
       "      <th id=\"T_bf713_level0_row1\" class=\"row_heading level0 row1\" >1</th>\n",
       "      <td id=\"T_bf713_row1_col0\" class=\"data row1 col0\" >02</td>\n",
       "      <td id=\"T_bf713_row1_col1\" class=\"data row1 col1\" >Basic feature with feature selection f_classif</td>\n",
       "      <td id=\"T_bf713_row1_col2\" class=\"data row1 col2\" >0.769933</td>\n",
       "      <td id=\"T_bf713_row1_col3\" class=\"data row1 col3\" >1177</td>\n",
       "      <td id=\"T_bf713_row1_col4\" class=\"data row1 col4\" >0.767120</td>\n",
       "      <td id=\"T_bf713_row1_col5\" class=\"data row1 col5\" >{'feature_selection__k': 6, 'gnb__var_smoothing': 1.0}</td>\n",
       "    </tr>\n",
       "    <tr>\n",
       "      <th id=\"T_bf713_level0_row2\" class=\"row_heading level0 row2\" >2</th>\n",
       "      <td id=\"T_bf713_row2_col0\" class=\"data row2 col0\" >03</td>\n",
       "      <td id=\"T_bf713_row2_col1\" class=\"data row2 col1\" >Basic feature with feature selection MI n=1</td>\n",
       "      <td id=\"T_bf713_row2_col2\" class=\"data row2 col2\" >0.765792</td>\n",
       "      <td id=\"T_bf713_row2_col3\" class=\"data row2 col3\" >13949</td>\n",
       "      <td id=\"T_bf713_row2_col4\" class=\"data row2 col4\" >0.773900</td>\n",
       "      <td id=\"T_bf713_row2_col5\" class=\"data row2 col5\" >{'feature_selection__k': 4, 'gnb__var_smoothing': 1.0}</td>\n",
       "    </tr>\n",
       "    <tr>\n",
       "      <th id=\"T_bf713_level0_row3\" class=\"row_heading level0 row3\" >3</th>\n",
       "      <td id=\"T_bf713_row3_col0\" class=\"data row3 col0\" >04</td>\n",
       "      <td id=\"T_bf713_row3_col1\" class=\"data row3 col1\" >Basic feature with feature selection MI n=2</td>\n",
       "      <td id=\"T_bf713_row3_col2\" class=\"data row3 col2\" >0.766482</td>\n",
       "      <td id=\"T_bf713_row3_col3\" class=\"data row3 col3\" >14452</td>\n",
       "      <td id=\"T_bf713_row3_col4\" class=\"data row3 col4\" >0.773670</td>\n",
       "      <td id=\"T_bf713_row3_col5\" class=\"data row3 col5\" >{'feature_selection__k': 4, 'gnb__var_smoothing': 0.5336699231206302}</td>\n",
       "    </tr>\n",
       "    <tr>\n",
       "      <th id=\"T_bf713_level0_row4\" class=\"row_heading level0 row4\" >4</th>\n",
       "      <td id=\"T_bf713_row4_col0\" class=\"data row4 col0\" >05</td>\n",
       "      <td id=\"T_bf713_row4_col1\" class=\"data row4 col1\" >Basic feature with feature selection MI n=3</td>\n",
       "      <td id=\"T_bf713_row4_col2\" class=\"data row4 col2\" >0.766482</td>\n",
       "      <td id=\"T_bf713_row4_col3\" class=\"data row4 col3\" >14887</td>\n",
       "      <td id=\"T_bf713_row4_col4\" class=\"data row4 col4\" >0.773670</td>\n",
       "      <td id=\"T_bf713_row4_col5\" class=\"data row4 col5\" >{'feature_selection__k': 4, 'gnb__var_smoothing': 0.5336699231206302}</td>\n",
       "    </tr>\n",
       "    <tr>\n",
       "      <th id=\"T_bf713_level0_row5\" class=\"row_heading level0 row5\" >5</th>\n",
       "      <td id=\"T_bf713_row5_col0\" class=\"data row5 col0\" >06</td>\n",
       "      <td id=\"T_bf713_row5_col1\" class=\"data row5 col1\" >Basic feature with feature selection MI n=4</td>\n",
       "      <td id=\"T_bf713_row5_col2\" class=\"data row5 col2\" >0.766367</td>\n",
       "      <td id=\"T_bf713_row5_col3\" class=\"data row5 col3\" >14559</td>\n",
       "      <td id=\"T_bf713_row5_col4\" class=\"data row5 col4\" >0.774370</td>\n",
       "      <td id=\"T_bf713_row5_col5\" class=\"data row5 col5\" >{'feature_selection__k': 4, 'gnb__var_smoothing': 0.6579332246575682}</td>\n",
       "    </tr>\n",
       "    <tr>\n",
       "      <th id=\"T_bf713_level0_row6\" class=\"row_heading level0 row6\" >6</th>\n",
       "      <td id=\"T_bf713_row6_col0\" class=\"data row6 col0\" >07</td>\n",
       "      <td id=\"T_bf713_row6_col1\" class=\"data row6 col1\" >Basic feature with feature selection MI n=5</td>\n",
       "      <td id=\"T_bf713_row6_col2\" class=\"data row6 col2\" >0.766482</td>\n",
       "      <td id=\"T_bf713_row6_col3\" class=\"data row6 col3\" >15604</td>\n",
       "      <td id=\"T_bf713_row6_col4\" class=\"data row6 col4\" >0.773670</td>\n",
       "      <td id=\"T_bf713_row6_col5\" class=\"data row6 col5\" >{'feature_selection__k': 4, 'gnb__var_smoothing': 0.5336699231206302}</td>\n",
       "    </tr>\n",
       "    <tr>\n",
       "      <th id=\"T_bf713_level0_row7\" class=\"row_heading level0 row7\" >7</th>\n",
       "      <td id=\"T_bf713_row7_col0\" class=\"data row7 col0\" >08</td>\n",
       "      <td id=\"T_bf713_row7_col1\" class=\"data row7 col1\" >Basic feature with feature selection from rf</td>\n",
       "      <td id=\"T_bf713_row7_col2\" class=\"data row7 col2\" >0.767173</td>\n",
       "      <td id=\"T_bf713_row7_col3\" class=\"data row7 col3\" >12574</td>\n",
       "      <td id=\"T_bf713_row7_col4\" class=\"data row7 col4\" >0.774840</td>\n",
       "      <td id=\"T_bf713_row7_col5\" class=\"data row7 col5\" >{'feature_selection__max_features': 4, 'gnb__var_smoothing': 0.3511191734215127}</td>\n",
       "    </tr>\n",
       "    <tr>\n",
       "      <th id=\"T_bf713_level0_row8\" class=\"row_heading level0 row8\" >8</th>\n",
       "      <td id=\"T_bf713_row8_col0\" class=\"data row8 col0\" >09</td>\n",
       "      <td id=\"T_bf713_row8_col1\" class=\"data row8 col1\" >Basic feature with feature selection from ridge</td>\n",
       "      <td id=\"T_bf713_row8_col2\" class=\"data row8 col2\" >0.770624</td>\n",
       "      <td id=\"T_bf713_row8_col3\" class=\"data row8 col3\" >1013</td>\n",
       "      <td id=\"T_bf713_row8_col4\" class=\"data row8 col4\" >0.777180</td>\n",
       "      <td id=\"T_bf713_row8_col5\" class=\"data row8 col5\" >{'feature_selection__max_features': 7, 'gnb__var_smoothing': 0.811130830789689}</td>\n",
       "    </tr>\n",
       "  </tbody>\n",
       "</table>\n"
      ],
      "text/plain": [
       "<pandas.io.formats.style.Styler at 0x186eb383280>"
      ]
     },
     "execution_count": 46,
     "metadata": {},
     "output_type": "execute_result"
    }
   ],
   "source": [
    "df_results = pd.DataFrame(columns=COLUMNS)\n",
    "NAME_MODEL = \"gnb\"\n",
    "\n",
    "for version in VERSIONS:\n",
    "    \n",
    "    if os.path.exists(os.path.join(REPO_MODEL, NAME_MODEL + \"__v\" + version + \".json\")):\n",
    "        with open(os.path.join(REPO_MODEL, NAME_MODEL + \"__v\" + version + \".json\"), \"r\") as file:\n",
    "            data = json.load(file)\n",
    "        df_results = pd.concat([\n",
    "            df_results, \n",
    "            pd.DataFrame({\n",
    "                \"Version\": [version], \n",
    "                \"Description\": DESCRIPTION_VERSIONS.get(version), \n",
    "                \"Best_score\": [data[\"best_score\"]],\n",
    "                \"Time_to_tune\": [int(data[\"time_to_tune\"])],\n",
    "                \"Score_kaggle\": [data[\"score_kaggle\"]],\n",
    "                \"Best_params\": [data[\"best_params\"]],\n",
    "            })])\n",
    "        \n",
    "df_results.reset_index(inplace=True, drop=True)\n",
    "df_results.style.apply(lambda row: ['background-color: yellow'] * df_results.shape[1] if row.Best_score == max(df_results.Best_score) else ['background-color: white'] * df_results.shape[1], axis=1)"
   ]
  },
  {
   "cell_type": "markdown",
   "id": "d62e1246",
   "metadata": {
    "jp-MarkdownHeadingCollapsed": true,
    "tags": []
   },
   "source": [
    "### By version"
   ]
  },
  {
   "cell_type": "code",
   "execution_count": 47,
   "id": "9a1c2184",
   "metadata": {},
   "outputs": [],
   "source": [
    "COLUMNS = [\"Name_model\", \"Best_score\", \"Time_to_tune\", \"Score_kaggle\", \"Best_params\"]\n",
    "MODELS = [\"logistic_regression\", \"knn\", \"svm\", \"gnb\"]"
   ]
  },
  {
   "cell_type": "markdown",
   "id": "1e05ee0b",
   "metadata": {
    "jp-MarkdownHeadingCollapsed": true,
    "tags": []
   },
   "source": [
    "#### Version 1"
   ]
  },
  {
   "cell_type": "code",
   "execution_count": 48,
   "id": "f5a51432",
   "metadata": {},
   "outputs": [
    {
     "data": {
      "text/html": [
       "<style type=\"text/css\">\n",
       "#T_12ba5_row0_col0, #T_12ba5_row0_col1, #T_12ba5_row0_col2, #T_12ba5_row0_col3, #T_12ba5_row0_col4, #T_12ba5_row1_col0, #T_12ba5_row1_col1, #T_12ba5_row1_col2, #T_12ba5_row1_col3, #T_12ba5_row1_col4, #T_12ba5_row3_col0, #T_12ba5_row3_col1, #T_12ba5_row3_col2, #T_12ba5_row3_col3, #T_12ba5_row3_col4 {\n",
       "  background-color: white;\n",
       "}\n",
       "#T_12ba5_row2_col0, #T_12ba5_row2_col1, #T_12ba5_row2_col2, #T_12ba5_row2_col3, #T_12ba5_row2_col4 {\n",
       "  background-color: yellow;\n",
       "}\n",
       "</style>\n",
       "<table id=\"T_12ba5\">\n",
       "  <thead>\n",
       "    <tr>\n",
       "      <th class=\"blank level0\" >&nbsp;</th>\n",
       "      <th id=\"T_12ba5_level0_col0\" class=\"col_heading level0 col0\" >Name_model</th>\n",
       "      <th id=\"T_12ba5_level0_col1\" class=\"col_heading level0 col1\" >Best_score</th>\n",
       "      <th id=\"T_12ba5_level0_col2\" class=\"col_heading level0 col2\" >Time_to_tune</th>\n",
       "      <th id=\"T_12ba5_level0_col3\" class=\"col_heading level0 col3\" >Score_kaggle</th>\n",
       "      <th id=\"T_12ba5_level0_col4\" class=\"col_heading level0 col4\" >Best_params</th>\n",
       "    </tr>\n",
       "  </thead>\n",
       "  <tbody>\n",
       "    <tr>\n",
       "      <th id=\"T_12ba5_level0_row0\" class=\"row_heading level0 row0\" >0</th>\n",
       "      <td id=\"T_12ba5_row0_col0\" class=\"data row0 col0\" >logistic_regression</td>\n",
       "      <td id=\"T_12ba5_row0_col1\" class=\"data row0 col1\" >0.779479</td>\n",
       "      <td id=\"T_12ba5_row0_col2\" class=\"data row0 col2\" >1476</td>\n",
       "      <td id=\"T_12ba5_row0_col3\" class=\"data row0 col3\" >0.784420</td>\n",
       "      <td id=\"T_12ba5_row0_col4\" class=\"data row0 col4\" >{'logistic__C': 0.01, 'logistic__penalty': 'l2', 'logistic__solver': 'liblinear'}</td>\n",
       "    </tr>\n",
       "    <tr>\n",
       "      <th id=\"T_12ba5_level0_row1\" class=\"row_heading level0 row1\" >1</th>\n",
       "      <td id=\"T_12ba5_row1_col0\" class=\"data row1 col0\" >knn</td>\n",
       "      <td id=\"T_12ba5_row1_col1\" class=\"data row1 col1\" >0.788799</td>\n",
       "      <td id=\"T_12ba5_row1_col2\" class=\"data row1 col2\" >5311</td>\n",
       "      <td id=\"T_12ba5_row1_col3\" class=\"data row1 col3\" >0.787930</td>\n",
       "      <td id=\"T_12ba5_row1_col4\" class=\"data row1 col4\" >{'knn__n_neighbors': 47, 'knn__p': 2, 'knn__weights': 'uniform'}</td>\n",
       "    </tr>\n",
       "    <tr>\n",
       "      <th id=\"T_12ba5_level0_row2\" class=\"row_heading level0 row2\" >2</th>\n",
       "      <td id=\"T_12ba5_row2_col0\" class=\"data row2 col0\" >svm</td>\n",
       "      <td id=\"T_12ba5_row2_col1\" class=\"data row2 col1\" >0.800532</td>\n",
       "      <td id=\"T_12ba5_row2_col2\" class=\"data row2 col2\" >2623</td>\n",
       "      <td id=\"T_12ba5_row2_col3\" class=\"data row2 col3\" >0.800320</td>\n",
       "      <td id=\"T_12ba5_row2_col4\" class=\"data row2 col4\" >{'svm__C': 0.46415888336127775, 'svm__degree': 3, 'svm__kernel': 'poly'}</td>\n",
       "    </tr>\n",
       "    <tr>\n",
       "      <th id=\"T_12ba5_level0_row3\" class=\"row_heading level0 row3\" >3</th>\n",
       "      <td id=\"T_12ba5_row3_col0\" class=\"data row3 col0\" >gnb</td>\n",
       "      <td id=\"T_12ba5_row3_col1\" class=\"data row3 col1\" >0.757738</td>\n",
       "      <td id=\"T_12ba5_row3_col2\" class=\"data row3 col2\" >42</td>\n",
       "      <td id=\"T_12ba5_row3_col3\" class=\"data row3 col3\" >0.770160</td>\n",
       "      <td id=\"T_12ba5_row3_col4\" class=\"data row3 col4\" >{'gnb__var_smoothing': 0.811130830789689}</td>\n",
       "    </tr>\n",
       "  </tbody>\n",
       "</table>\n"
      ],
      "text/plain": [
       "<pandas.io.formats.style.Styler at 0x1868c5b5cc0>"
      ]
     },
     "execution_count": 48,
     "metadata": {},
     "output_type": "execute_result"
    }
   ],
   "source": [
    "df_results = pd.DataFrame(columns=COLUMNS)\n",
    "NAME_VERSION = \"01\"\n",
    "\n",
    "for model in MODELS:\n",
    "    \n",
    "    if os.path.exists(os.path.join(REPO_MODEL, model + \"__v\" + NAME_VERSION + \".json\")):\n",
    "        with open(os.path.join(REPO_MODEL, model + \"__v\" + NAME_VERSION + \".json\"), \"r\") as file:\n",
    "            data = json.load(file)\n",
    "        df_results = pd.concat([\n",
    "            df_results, \n",
    "            pd.DataFrame({\n",
    "                \"Name_model\": [model], \n",
    "                \"Best_score\": [data[\"best_score\"]],\n",
    "                \"Time_to_tune\": [int(data[\"time_to_tune\"])],\n",
    "                \"Score_kaggle\": [data[\"score_kaggle\"]],\n",
    "                \"Best_params\": [data[\"best_params\"]],\n",
    "            })])\n",
    "        \n",
    "df_results.reset_index(inplace=True, drop=True)\n",
    "df_results.style.apply(lambda row: ['background-color: yellow'] * df_results.shape[1] if row.Best_score == max(df_results.Best_score) else ['background-color: white'] * df_results.shape[1], axis=1)"
   ]
  },
  {
   "cell_type": "markdown",
   "id": "9c75924c",
   "metadata": {
    "jp-MarkdownHeadingCollapsed": true,
    "tags": []
   },
   "source": [
    "#### Version 2"
   ]
  },
  {
   "cell_type": "code",
   "execution_count": 49,
   "id": "2eb81ffd",
   "metadata": {},
   "outputs": [
    {
     "data": {
      "text/html": [
       "<style type=\"text/css\">\n",
       "#T_56189_row0_col0, #T_56189_row0_col1, #T_56189_row0_col2, #T_56189_row0_col3, #T_56189_row0_col4, #T_56189_row1_col0, #T_56189_row1_col1, #T_56189_row1_col2, #T_56189_row1_col3, #T_56189_row1_col4, #T_56189_row3_col0, #T_56189_row3_col1, #T_56189_row3_col2, #T_56189_row3_col3, #T_56189_row3_col4 {\n",
       "  background-color: white;\n",
       "}\n",
       "#T_56189_row2_col0, #T_56189_row2_col1, #T_56189_row2_col2, #T_56189_row2_col3, #T_56189_row2_col4 {\n",
       "  background-color: yellow;\n",
       "}\n",
       "</style>\n",
       "<table id=\"T_56189\">\n",
       "  <thead>\n",
       "    <tr>\n",
       "      <th class=\"blank level0\" >&nbsp;</th>\n",
       "      <th id=\"T_56189_level0_col0\" class=\"col_heading level0 col0\" >Name_model</th>\n",
       "      <th id=\"T_56189_level0_col1\" class=\"col_heading level0 col1\" >Best_score</th>\n",
       "      <th id=\"T_56189_level0_col2\" class=\"col_heading level0 col2\" >Time_to_tune</th>\n",
       "      <th id=\"T_56189_level0_col3\" class=\"col_heading level0 col3\" >Score_kaggle</th>\n",
       "      <th id=\"T_56189_level0_col4\" class=\"col_heading level0 col4\" >Best_params</th>\n",
       "    </tr>\n",
       "  </thead>\n",
       "  <tbody>\n",
       "    <tr>\n",
       "      <th id=\"T_56189_level0_row0\" class=\"row_heading level0 row0\" >0</th>\n",
       "      <td id=\"T_56189_row0_col0\" class=\"data row0 col0\" >logistic_regression</td>\n",
       "      <td id=\"T_56189_row0_col1\" class=\"data row0 col1\" >0.781549</td>\n",
       "      <td id=\"T_56189_row0_col2\" class=\"data row0 col2\" >12903</td>\n",
       "      <td id=\"T_56189_row0_col3\" class=\"data row0 col3\" >0.783490</td>\n",
       "      <td id=\"T_56189_row0_col4\" class=\"data row0 col4\" >{'feature_selection__k': 15, 'logistic__C': 0.021544346900318822, 'logistic__l1_ratio': 0.1, 'logistic__penalty': 'elasticnet', 'logistic__solver': 'saga'}</td>\n",
       "    </tr>\n",
       "    <tr>\n",
       "      <th id=\"T_56189_level0_row1\" class=\"row_heading level0 row1\" >1</th>\n",
       "      <td id=\"T_56189_row1_col0\" class=\"data row1 col0\" >knn</td>\n",
       "      <td id=\"T_56189_row1_col1\" class=\"data row1 col1\" >0.790294</td>\n",
       "      <td id=\"T_56189_row1_col2\" class=\"data row1 col2\" >64065</td>\n",
       "      <td id=\"T_56189_row1_col3\" class=\"data row1 col3\" >0.784420</td>\n",
       "      <td id=\"T_56189_row1_col4\" class=\"data row1 col4\" >{'feature_selection__k': 18, 'knn__n_neighbors': 31, 'knn__p': 1, 'knn__weights': 'uniform'}</td>\n",
       "    </tr>\n",
       "    <tr>\n",
       "      <th id=\"T_56189_level0_row2\" class=\"row_heading level0 row2\" >2</th>\n",
       "      <td id=\"T_56189_row2_col0\" class=\"data row2 col0\" >svm</td>\n",
       "      <td id=\"T_56189_row2_col1\" class=\"data row2 col1\" >0.801222</td>\n",
       "      <td id=\"T_56189_row2_col2\" class=\"data row2 col2\" >307954</td>\n",
       "      <td id=\"T_56189_row2_col3\" class=\"data row2 col3\" >0.798920</td>\n",
       "      <td id=\"T_56189_row2_col4\" class=\"data row2 col4\" >{'feature_selection__k': 20, 'svm__C': 0.46415888336127775, 'svm__degree': 3, 'svm__kernel': 'poly'}</td>\n",
       "    </tr>\n",
       "    <tr>\n",
       "      <th id=\"T_56189_level0_row3\" class=\"row_heading level0 row3\" >3</th>\n",
       "      <td id=\"T_56189_row3_col0\" class=\"data row3 col0\" >gnb</td>\n",
       "      <td id=\"T_56189_row3_col1\" class=\"data row3 col1\" >0.769933</td>\n",
       "      <td id=\"T_56189_row3_col2\" class=\"data row3 col2\" >1177</td>\n",
       "      <td id=\"T_56189_row3_col3\" class=\"data row3 col3\" >0.767120</td>\n",
       "      <td id=\"T_56189_row3_col4\" class=\"data row3 col4\" >{'feature_selection__k': 6, 'gnb__var_smoothing': 1.0}</td>\n",
       "    </tr>\n",
       "  </tbody>\n",
       "</table>\n"
      ],
      "text/plain": [
       "<pandas.io.formats.style.Styler at 0x186eb3575b0>"
      ]
     },
     "execution_count": 49,
     "metadata": {},
     "output_type": "execute_result"
    }
   ],
   "source": [
    "df_results = pd.DataFrame(columns=COLUMNS)\n",
    "NAME_VERSION = \"02\"\n",
    "\n",
    "for model in MODELS:\n",
    "    \n",
    "    if os.path.exists(os.path.join(REPO_MODEL, model + \"__v\" + NAME_VERSION + \".json\")):\n",
    "        with open(os.path.join(REPO_MODEL, model + \"__v\" + NAME_VERSION + \".json\"), \"r\") as file:\n",
    "            data = json.load(file)\n",
    "        df_results = pd.concat([\n",
    "            df_results, \n",
    "            pd.DataFrame({\n",
    "                \"Name_model\": [model], \n",
    "                \"Best_score\": [data[\"best_score\"]],\n",
    "                \"Time_to_tune\": [int(data[\"time_to_tune\"])],\n",
    "                \"Score_kaggle\": [data[\"score_kaggle\"]],\n",
    "                \"Best_params\": [data[\"best_params\"]],\n",
    "            })])\n",
    "        \n",
    "df_results.reset_index(inplace=True, drop=True)\n",
    "df_results.style.apply(lambda row: ['background-color: yellow'] * df_results.shape[1] if row.Best_score == max(df_results.Best_score) else ['background-color: white'] * df_results.shape[1], axis=1)"
   ]
  },
  {
   "cell_type": "markdown",
   "id": "66601855",
   "metadata": {
    "jp-MarkdownHeadingCollapsed": true,
    "tags": []
   },
   "source": [
    "#### Version 3"
   ]
  },
  {
   "cell_type": "code",
   "execution_count": 50,
   "id": "a90836c9",
   "metadata": {},
   "outputs": [
    {
     "data": {
      "text/html": [
       "<style type=\"text/css\">\n",
       "#T_cf918_row0_col0, #T_cf918_row0_col1, #T_cf918_row0_col2, #T_cf918_row0_col3, #T_cf918_row0_col4, #T_cf918_row2_col0, #T_cf918_row2_col1, #T_cf918_row2_col2, #T_cf918_row2_col3, #T_cf918_row2_col4 {\n",
       "  background-color: white;\n",
       "}\n",
       "#T_cf918_row1_col0, #T_cf918_row1_col1, #T_cf918_row1_col2, #T_cf918_row1_col3, #T_cf918_row1_col4 {\n",
       "  background-color: yellow;\n",
       "}\n",
       "</style>\n",
       "<table id=\"T_cf918\">\n",
       "  <thead>\n",
       "    <tr>\n",
       "      <th class=\"blank level0\" >&nbsp;</th>\n",
       "      <th id=\"T_cf918_level0_col0\" class=\"col_heading level0 col0\" >Name_model</th>\n",
       "      <th id=\"T_cf918_level0_col1\" class=\"col_heading level0 col1\" >Best_score</th>\n",
       "      <th id=\"T_cf918_level0_col2\" class=\"col_heading level0 col2\" >Time_to_tune</th>\n",
       "      <th id=\"T_cf918_level0_col3\" class=\"col_heading level0 col3\" >Score_kaggle</th>\n",
       "      <th id=\"T_cf918_level0_col4\" class=\"col_heading level0 col4\" >Best_params</th>\n",
       "    </tr>\n",
       "  </thead>\n",
       "  <tbody>\n",
       "    <tr>\n",
       "      <th id=\"T_cf918_level0_row0\" class=\"row_heading level0 row0\" >0</th>\n",
       "      <td id=\"T_cf918_row0_col0\" class=\"data row0 col0\" >logistic_regression</td>\n",
       "      <td id=\"T_cf918_row0_col1\" class=\"data row0 col1\" >0.781665</td>\n",
       "      <td id=\"T_cf918_row0_col2\" class=\"data row0 col2\" >57133</td>\n",
       "      <td id=\"T_cf918_row0_col3\" class=\"data row0 col3\" >0.779280</td>\n",
       "      <td id=\"T_cf918_row0_col4\" class=\"data row0 col4\" >{'feature_selection__k': 16, 'logistic__C': 0.21544346900318823, 'logistic__l1_ratio': 0.2, 'logistic__penalty': 'elasticnet', 'logistic__solver': 'saga'}</td>\n",
       "    </tr>\n",
       "    <tr>\n",
       "      <th id=\"T_cf918_level0_row1\" class=\"row_heading level0 row1\" >1</th>\n",
       "      <td id=\"T_cf918_row1_col0\" class=\"data row1 col0\" >knn</td>\n",
       "      <td id=\"T_cf918_row1_col1\" class=\"data row1 col1\" >0.795932</td>\n",
       "      <td id=\"T_cf918_row1_col2\" class=\"data row1 col2\" >75335</td>\n",
       "      <td id=\"T_cf918_row1_col3\" class=\"data row1 col3\" >0.788870</td>\n",
       "      <td id=\"T_cf918_row1_col4\" class=\"data row1 col4\" >{'feature_selection__k': 13, 'knn__n_neighbors': 48, 'knn__p': 1, 'knn__weights': 'uniform'}</td>\n",
       "    </tr>\n",
       "    <tr>\n",
       "      <th id=\"T_cf918_level0_row2\" class=\"row_heading level0 row2\" >2</th>\n",
       "      <td id=\"T_cf918_row2_col0\" class=\"data row2 col0\" >gnb</td>\n",
       "      <td id=\"T_cf918_row2_col1\" class=\"data row2 col1\" >0.765792</td>\n",
       "      <td id=\"T_cf918_row2_col2\" class=\"data row2 col2\" >13949</td>\n",
       "      <td id=\"T_cf918_row2_col3\" class=\"data row2 col3\" >0.773900</td>\n",
       "      <td id=\"T_cf918_row2_col4\" class=\"data row2 col4\" >{'feature_selection__k': 4, 'gnb__var_smoothing': 1.0}</td>\n",
       "    </tr>\n",
       "  </tbody>\n",
       "</table>\n"
      ],
      "text/plain": [
       "<pandas.io.formats.style.Styler at 0x186eb357970>"
      ]
     },
     "execution_count": 50,
     "metadata": {},
     "output_type": "execute_result"
    }
   ],
   "source": [
    "df_results = pd.DataFrame(columns=COLUMNS)\n",
    "NAME_VERSION = \"03\"\n",
    "\n",
    "for model in MODELS:\n",
    "    \n",
    "    if os.path.exists(os.path.join(REPO_MODEL, model + \"__v\" + NAME_VERSION + \".json\")):\n",
    "        with open(os.path.join(REPO_MODEL, model + \"__v\" + NAME_VERSION + \".json\"), \"r\") as file:\n",
    "            data = json.load(file)\n",
    "        df_results = pd.concat([\n",
    "            df_results, \n",
    "            pd.DataFrame({\n",
    "                \"Name_model\": [model], \n",
    "                \"Best_score\": [data[\"best_score\"]],\n",
    "                \"Time_to_tune\": [int(data[\"time_to_tune\"])],\n",
    "                \"Score_kaggle\": [data[\"score_kaggle\"]],\n",
    "                \"Best_params\": [data[\"best_params\"]],\n",
    "            })])\n",
    "        \n",
    "df_results.reset_index(inplace=True, drop=True)\n",
    "df_results.style.apply(lambda row: ['background-color: yellow'] * df_results.shape[1] if row.Best_score == max(df_results.Best_score) else ['background-color: white'] * df_results.shape[1], axis=1)"
   ]
  },
  {
   "cell_type": "markdown",
   "id": "c10ea9cb",
   "metadata": {
    "jp-MarkdownHeadingCollapsed": true,
    "tags": []
   },
   "source": [
    "#### Version 4"
   ]
  },
  {
   "cell_type": "code",
   "execution_count": 51,
   "id": "2f46c390",
   "metadata": {},
   "outputs": [
    {
     "data": {
      "text/html": [
       "<style type=\"text/css\">\n",
       "#T_efee4_row0_col0, #T_efee4_row0_col1, #T_efee4_row0_col2, #T_efee4_row0_col3, #T_efee4_row0_col4, #T_efee4_row1_col0, #T_efee4_row1_col1, #T_efee4_row1_col2, #T_efee4_row1_col3, #T_efee4_row1_col4, #T_efee4_row3_col0, #T_efee4_row3_col1, #T_efee4_row3_col2, #T_efee4_row3_col3, #T_efee4_row3_col4 {\n",
       "  background-color: white;\n",
       "}\n",
       "#T_efee4_row2_col0, #T_efee4_row2_col1, #T_efee4_row2_col2, #T_efee4_row2_col3, #T_efee4_row2_col4 {\n",
       "  background-color: yellow;\n",
       "}\n",
       "</style>\n",
       "<table id=\"T_efee4\">\n",
       "  <thead>\n",
       "    <tr>\n",
       "      <th class=\"blank level0\" >&nbsp;</th>\n",
       "      <th id=\"T_efee4_level0_col0\" class=\"col_heading level0 col0\" >Name_model</th>\n",
       "      <th id=\"T_efee4_level0_col1\" class=\"col_heading level0 col1\" >Best_score</th>\n",
       "      <th id=\"T_efee4_level0_col2\" class=\"col_heading level0 col2\" >Time_to_tune</th>\n",
       "      <th id=\"T_efee4_level0_col3\" class=\"col_heading level0 col3\" >Score_kaggle</th>\n",
       "      <th id=\"T_efee4_level0_col4\" class=\"col_heading level0 col4\" >Best_params</th>\n",
       "    </tr>\n",
       "  </thead>\n",
       "  <tbody>\n",
       "    <tr>\n",
       "      <th id=\"T_efee4_level0_row0\" class=\"row_heading level0 row0\" >0</th>\n",
       "      <td id=\"T_efee4_row0_col0\" class=\"data row0 col0\" >logistic_regression</td>\n",
       "      <td id=\"T_efee4_row0_col1\" class=\"data row0 col1\" >0.780629</td>\n",
       "      <td id=\"T_efee4_row0_col2\" class=\"data row0 col2\" >58302</td>\n",
       "      <td id=\"T_efee4_row0_col3\" class=\"data row0 col3\" >0.785120</td>\n",
       "      <td id=\"T_efee4_row0_col4\" class=\"data row0 col4\" >{'feature_selection__k': 24, 'logistic__C': 0.01, 'logistic__penalty': 'l2', 'logistic__solver': 'liblinear'}</td>\n",
       "    </tr>\n",
       "    <tr>\n",
       "      <th id=\"T_efee4_level0_row1\" class=\"row_heading level0 row1\" >1</th>\n",
       "      <td id=\"T_efee4_row1_col0\" class=\"data row1 col0\" >knn</td>\n",
       "      <td id=\"T_efee4_row1_col1\" class=\"data row1 col1\" >0.795009</td>\n",
       "      <td id=\"T_efee4_row1_col2\" class=\"data row1 col2\" >105862</td>\n",
       "      <td id=\"T_efee4_row1_col3\" class=\"data row1 col3\" >0.787230</td>\n",
       "      <td id=\"T_efee4_row1_col4\" class=\"data row1 col4\" >{'feature_selection__k': 18, 'knn__n_neighbors': 33, 'knn__p': 1, 'knn__weights': 'uniform'}</td>\n",
       "    </tr>\n",
       "    <tr>\n",
       "      <th id=\"T_efee4_level0_row2\" class=\"row_heading level0 row2\" >2</th>\n",
       "      <td id=\"T_efee4_row2_col0\" class=\"data row2 col0\" >svm</td>\n",
       "      <td id=\"T_efee4_row2_col1\" class=\"data row2 col1\" >0.800187</td>\n",
       "      <td id=\"T_efee4_row2_col2\" class=\"data row2 col2\" >226415</td>\n",
       "      <td id=\"T_efee4_row2_col3\" class=\"data row2 col3\" >0.794480</td>\n",
       "      <td id=\"T_efee4_row2_col4\" class=\"data row2 col4\" >{'feature_selection__k': 21, 'svm__C': 4.6415888336127775, 'svm__degree': 2, 'svm__kernel': 'poly'}</td>\n",
       "    </tr>\n",
       "    <tr>\n",
       "      <th id=\"T_efee4_level0_row3\" class=\"row_heading level0 row3\" >3</th>\n",
       "      <td id=\"T_efee4_row3_col0\" class=\"data row3 col0\" >gnb</td>\n",
       "      <td id=\"T_efee4_row3_col1\" class=\"data row3 col1\" >0.766482</td>\n",
       "      <td id=\"T_efee4_row3_col2\" class=\"data row3 col2\" >14452</td>\n",
       "      <td id=\"T_efee4_row3_col3\" class=\"data row3 col3\" >0.773670</td>\n",
       "      <td id=\"T_efee4_row3_col4\" class=\"data row3 col4\" >{'feature_selection__k': 4, 'gnb__var_smoothing': 0.5336699231206302}</td>\n",
       "    </tr>\n",
       "  </tbody>\n",
       "</table>\n"
      ],
      "text/plain": [
       "<pandas.io.formats.style.Styler at 0x1868c5b6f50>"
      ]
     },
     "execution_count": 51,
     "metadata": {},
     "output_type": "execute_result"
    }
   ],
   "source": [
    "df_results = pd.DataFrame(columns=COLUMNS)\n",
    "NAME_VERSION = \"04\"\n",
    "\n",
    "for model in MODELS:\n",
    "    \n",
    "    if os.path.exists(os.path.join(REPO_MODEL, model + \"__v\" + NAME_VERSION + \".json\")):\n",
    "        with open(os.path.join(REPO_MODEL, model + \"__v\" + NAME_VERSION + \".json\"), \"r\") as file:\n",
    "            data = json.load(file)\n",
    "        df_results = pd.concat([\n",
    "            df_results, \n",
    "            pd.DataFrame({\n",
    "                \"Name_model\": [model], \n",
    "                \"Best_score\": [data[\"best_score\"]],\n",
    "                \"Time_to_tune\": [int(data[\"time_to_tune\"])],\n",
    "                \"Score_kaggle\": [data[\"score_kaggle\"]],\n",
    "                \"Best_params\": [data[\"best_params\"]],\n",
    "            })])\n",
    "        \n",
    "df_results.reset_index(inplace=True, drop=True)\n",
    "df_results.style.apply(lambda row: ['background-color: yellow'] * df_results.shape[1] if row.Best_score == max(df_results.Best_score) else ['background-color: white'] * df_results.shape[1], axis=1)"
   ]
  },
  {
   "cell_type": "markdown",
   "id": "51d1b75a",
   "metadata": {
    "jp-MarkdownHeadingCollapsed": true,
    "tags": []
   },
   "source": [
    "#### Version 5"
   ]
  },
  {
   "cell_type": "code",
   "execution_count": 52,
   "id": "2be701d6",
   "metadata": {},
   "outputs": [
    {
     "data": {
      "text/html": [
       "<style type=\"text/css\">\n",
       "#T_29057_row0_col0, #T_29057_row0_col1, #T_29057_row0_col2, #T_29057_row0_col3, #T_29057_row0_col4, #T_29057_row1_col0, #T_29057_row1_col1, #T_29057_row1_col2, #T_29057_row1_col3, #T_29057_row1_col4, #T_29057_row3_col0, #T_29057_row3_col1, #T_29057_row3_col2, #T_29057_row3_col3, #T_29057_row3_col4 {\n",
       "  background-color: white;\n",
       "}\n",
       "#T_29057_row2_col0, #T_29057_row2_col1, #T_29057_row2_col2, #T_29057_row2_col3, #T_29057_row2_col4 {\n",
       "  background-color: yellow;\n",
       "}\n",
       "</style>\n",
       "<table id=\"T_29057\">\n",
       "  <thead>\n",
       "    <tr>\n",
       "      <th class=\"blank level0\" >&nbsp;</th>\n",
       "      <th id=\"T_29057_level0_col0\" class=\"col_heading level0 col0\" >Name_model</th>\n",
       "      <th id=\"T_29057_level0_col1\" class=\"col_heading level0 col1\" >Best_score</th>\n",
       "      <th id=\"T_29057_level0_col2\" class=\"col_heading level0 col2\" >Time_to_tune</th>\n",
       "      <th id=\"T_29057_level0_col3\" class=\"col_heading level0 col3\" >Score_kaggle</th>\n",
       "      <th id=\"T_29057_level0_col4\" class=\"col_heading level0 col4\" >Best_params</th>\n",
       "    </tr>\n",
       "  </thead>\n",
       "  <tbody>\n",
       "    <tr>\n",
       "      <th id=\"T_29057_level0_row0\" class=\"row_heading level0 row0\" >0</th>\n",
       "      <td id=\"T_29057_row0_col0\" class=\"data row0 col0\" >logistic_regression</td>\n",
       "      <td id=\"T_29057_row0_col1\" class=\"data row0 col1\" >0.780745</td>\n",
       "      <td id=\"T_29057_row0_col2\" class=\"data row0 col2\" >59880</td>\n",
       "      <td id=\"T_29057_row0_col3\" class=\"data row0 col3\" >0.776710</td>\n",
       "      <td id=\"T_29057_row0_col4\" class=\"data row0 col4\" >{'feature_selection__k': 12, 'logistic__C': 2154.434690031878, 'logistic__l1_ratio': 0.5, 'logistic__penalty': 'elasticnet', 'logistic__solver': 'saga'}</td>\n",
       "    </tr>\n",
       "    <tr>\n",
       "      <th id=\"T_29057_level0_row1\" class=\"row_heading level0 row1\" >1</th>\n",
       "      <td id=\"T_29057_row1_col0\" class=\"data row1 col0\" >knn</td>\n",
       "      <td id=\"T_29057_row1_col1\" class=\"data row1 col1\" >0.792481</td>\n",
       "      <td id=\"T_29057_row1_col2\" class=\"data row1 col2\" >91760</td>\n",
       "      <td id=\"T_29057_row1_col3\" class=\"data row1 col3\" >0.780210</td>\n",
       "      <td id=\"T_29057_row1_col4\" class=\"data row1 col4\" >{'feature_selection__k': 11, 'knn__n_neighbors': 37, 'knn__p': 1, 'knn__weights': 'uniform'}</td>\n",
       "    </tr>\n",
       "    <tr>\n",
       "      <th id=\"T_29057_level0_row2\" class=\"row_heading level0 row2\" >2</th>\n",
       "      <td id=\"T_29057_row2_col0\" class=\"data row2 col0\" >svm</td>\n",
       "      <td id=\"T_29057_row2_col1\" class=\"data row2 col1\" >0.801912</td>\n",
       "      <td id=\"T_29057_row2_col2\" class=\"data row2 col2\" >180134</td>\n",
       "      <td id=\"T_29057_row2_col3\" class=\"data row2 col3\" >0.799390</td>\n",
       "      <td id=\"T_29057_row2_col4\" class=\"data row2 col4\" >{'feature_selection__k': 23, 'svm__C': 0.46415888336127775, 'svm__degree': 3, 'svm__kernel': 'poly'}</td>\n",
       "    </tr>\n",
       "    <tr>\n",
       "      <th id=\"T_29057_level0_row3\" class=\"row_heading level0 row3\" >3</th>\n",
       "      <td id=\"T_29057_row3_col0\" class=\"data row3 col0\" >gnb</td>\n",
       "      <td id=\"T_29057_row3_col1\" class=\"data row3 col1\" >0.766482</td>\n",
       "      <td id=\"T_29057_row3_col2\" class=\"data row3 col2\" >14887</td>\n",
       "      <td id=\"T_29057_row3_col3\" class=\"data row3 col3\" >0.773670</td>\n",
       "      <td id=\"T_29057_row3_col4\" class=\"data row3 col4\" >{'feature_selection__k': 4, 'gnb__var_smoothing': 0.5336699231206302}</td>\n",
       "    </tr>\n",
       "  </tbody>\n",
       "</table>\n"
      ],
      "text/plain": [
       "<pandas.io.formats.style.Styler at 0x1868efebbb0>"
      ]
     },
     "execution_count": 52,
     "metadata": {},
     "output_type": "execute_result"
    }
   ],
   "source": [
    "df_results = pd.DataFrame(columns=COLUMNS)\n",
    "NAME_VERSION = \"05\"\n",
    "\n",
    "for model in MODELS:\n",
    "    \n",
    "    if os.path.exists(os.path.join(REPO_MODEL, model + \"__v\" + NAME_VERSION + \".json\")):\n",
    "        with open(os.path.join(REPO_MODEL, model + \"__v\" + NAME_VERSION + \".json\"), \"r\") as file:\n",
    "            data = json.load(file)\n",
    "        df_results = pd.concat([\n",
    "            df_results, \n",
    "            pd.DataFrame({\n",
    "                \"Name_model\": [model], \n",
    "                \"Best_score\": [data[\"best_score\"]],\n",
    "                \"Time_to_tune\": [int(data[\"time_to_tune\"])],\n",
    "                \"Score_kaggle\": [data[\"score_kaggle\"]],\n",
    "                \"Best_params\": [data[\"best_params\"]],\n",
    "            })])\n",
    "        \n",
    "df_results.reset_index(inplace=True, drop=True)\n",
    "df_results.style.apply(lambda row: ['background-color: yellow'] * df_results.shape[1] if row.Best_score == max(df_results.Best_score) else ['background-color: white'] * df_results.shape[1], axis=1)"
   ]
  },
  {
   "cell_type": "markdown",
   "id": "87a8f795",
   "metadata": {
    "jp-MarkdownHeadingCollapsed": true,
    "tags": []
   },
   "source": [
    "#### Version 6"
   ]
  },
  {
   "cell_type": "code",
   "execution_count": 53,
   "id": "3adb5c68",
   "metadata": {},
   "outputs": [
    {
     "data": {
      "text/html": [
       "<style type=\"text/css\">\n",
       "#T_ba97a_row0_col0, #T_ba97a_row0_col1, #T_ba97a_row0_col2, #T_ba97a_row0_col3, #T_ba97a_row0_col4, #T_ba97a_row1_col0, #T_ba97a_row1_col1, #T_ba97a_row1_col2, #T_ba97a_row1_col3, #T_ba97a_row1_col4, #T_ba97a_row3_col0, #T_ba97a_row3_col1, #T_ba97a_row3_col2, #T_ba97a_row3_col3, #T_ba97a_row3_col4 {\n",
       "  background-color: white;\n",
       "}\n",
       "#T_ba97a_row2_col0, #T_ba97a_row2_col1, #T_ba97a_row2_col2, #T_ba97a_row2_col3, #T_ba97a_row2_col4 {\n",
       "  background-color: yellow;\n",
       "}\n",
       "</style>\n",
       "<table id=\"T_ba97a\">\n",
       "  <thead>\n",
       "    <tr>\n",
       "      <th class=\"blank level0\" >&nbsp;</th>\n",
       "      <th id=\"T_ba97a_level0_col0\" class=\"col_heading level0 col0\" >Name_model</th>\n",
       "      <th id=\"T_ba97a_level0_col1\" class=\"col_heading level0 col1\" >Best_score</th>\n",
       "      <th id=\"T_ba97a_level0_col2\" class=\"col_heading level0 col2\" >Time_to_tune</th>\n",
       "      <th id=\"T_ba97a_level0_col3\" class=\"col_heading level0 col3\" >Score_kaggle</th>\n",
       "      <th id=\"T_ba97a_level0_col4\" class=\"col_heading level0 col4\" >Best_params</th>\n",
       "    </tr>\n",
       "  </thead>\n",
       "  <tbody>\n",
       "    <tr>\n",
       "      <th id=\"T_ba97a_level0_row0\" class=\"row_heading level0 row0\" >0</th>\n",
       "      <td id=\"T_ba97a_row0_col0\" class=\"data row0 col0\" >logistic_regression</td>\n",
       "      <td id=\"T_ba97a_row0_col1\" class=\"data row0 col1\" >0.780400</td>\n",
       "      <td id=\"T_ba97a_row0_col2\" class=\"data row0 col2\" >61262</td>\n",
       "      <td id=\"T_ba97a_row0_col3\" class=\"data row0 col3\" >0.782550</td>\n",
       "      <td id=\"T_ba97a_row0_col4\" class=\"data row0 col4\" >{'feature_selection__k': 15, 'logistic__C': 4641.588833612773, 'logistic__l1_ratio': 0.8, 'logistic__penalty': 'elasticnet', 'logistic__solver': 'saga'}</td>\n",
       "    </tr>\n",
       "    <tr>\n",
       "      <th id=\"T_ba97a_level0_row1\" class=\"row_heading level0 row1\" >1</th>\n",
       "      <td id=\"T_ba97a_row1_col0\" class=\"data row1 col0\" >knn</td>\n",
       "      <td id=\"T_ba97a_row1_col1\" class=\"data row1 col1\" >0.793400</td>\n",
       "      <td id=\"T_ba97a_row1_col2\" class=\"data row1 col2\" >110870</td>\n",
       "      <td id=\"T_ba97a_row1_col3\" class=\"data row1 col3\" >0.785590</td>\n",
       "      <td id=\"T_ba97a_row1_col4\" class=\"data row1 col4\" >{'feature_selection__k': 13, 'knn__n_neighbors': 49, 'knn__p': 1, 'knn__weights': 'uniform'}</td>\n",
       "    </tr>\n",
       "    <tr>\n",
       "      <th id=\"T_ba97a_level0_row2\" class=\"row_heading level0 row2\" >2</th>\n",
       "      <td id=\"T_ba97a_row2_col0\" class=\"data row2 col0\" >svm</td>\n",
       "      <td id=\"T_ba97a_row2_col1\" class=\"data row2 col1\" >0.800647</td>\n",
       "      <td id=\"T_ba97a_row2_col2\" class=\"data row2 col2\" >209248</td>\n",
       "      <td id=\"T_ba97a_row2_col3\" class=\"data row2 col3\" >0.799390</td>\n",
       "      <td id=\"T_ba97a_row2_col4\" class=\"data row2 col4\" >{'feature_selection__k': 24, 'svm__C': 0.46415888336127775, 'svm__degree': 3, 'svm__kernel': 'poly'}</td>\n",
       "    </tr>\n",
       "    <tr>\n",
       "      <th id=\"T_ba97a_level0_row3\" class=\"row_heading level0 row3\" >3</th>\n",
       "      <td id=\"T_ba97a_row3_col0\" class=\"data row3 col0\" >gnb</td>\n",
       "      <td id=\"T_ba97a_row3_col1\" class=\"data row3 col1\" >0.766367</td>\n",
       "      <td id=\"T_ba97a_row3_col2\" class=\"data row3 col2\" >14559</td>\n",
       "      <td id=\"T_ba97a_row3_col3\" class=\"data row3 col3\" >0.774370</td>\n",
       "      <td id=\"T_ba97a_row3_col4\" class=\"data row3 col4\" >{'feature_selection__k': 4, 'gnb__var_smoothing': 0.6579332246575682}</td>\n",
       "    </tr>\n",
       "  </tbody>\n",
       "</table>\n"
      ],
      "text/plain": [
       "<pandas.io.formats.style.Styler at 0x1868c5b5d50>"
      ]
     },
     "execution_count": 53,
     "metadata": {},
     "output_type": "execute_result"
    }
   ],
   "source": [
    "df_results = pd.DataFrame(columns=COLUMNS)\n",
    "NAME_VERSION = \"06\"\n",
    "\n",
    "for model in MODELS:\n",
    "    \n",
    "    if os.path.exists(os.path.join(REPO_MODEL, model + \"__v\" + NAME_VERSION + \".json\")):\n",
    "        with open(os.path.join(REPO_MODEL, model + \"__v\" + NAME_VERSION + \".json\"), \"r\") as file:\n",
    "            data = json.load(file)\n",
    "        df_results = pd.concat([\n",
    "            df_results, \n",
    "            pd.DataFrame({\n",
    "                \"Name_model\": [model], \n",
    "                \"Best_score\": [data[\"best_score\"]],\n",
    "                \"Time_to_tune\": [int(data[\"time_to_tune\"])],\n",
    "                \"Score_kaggle\": [data[\"score_kaggle\"]],\n",
    "                \"Best_params\": [data[\"best_params\"]],\n",
    "            })])\n",
    "        \n",
    "df_results.reset_index(inplace=True, drop=True)\n",
    "df_results.style.apply(lambda row: ['background-color: yellow'] * df_results.shape[1] if row.Best_score == max(df_results.Best_score) else ['background-color: white'] * df_results.shape[1], axis=1)"
   ]
  },
  {
   "cell_type": "markdown",
   "id": "cec27f32",
   "metadata": {
    "jp-MarkdownHeadingCollapsed": true,
    "tags": []
   },
   "source": [
    "#### Version 7"
   ]
  },
  {
   "cell_type": "code",
   "execution_count": 54,
   "id": "d8eec29b",
   "metadata": {},
   "outputs": [
    {
     "data": {
      "text/html": [
       "<style type=\"text/css\">\n",
       "#T_01194_row0_col0, #T_01194_row0_col1, #T_01194_row0_col2, #T_01194_row0_col3, #T_01194_row0_col4, #T_01194_row1_col0, #T_01194_row1_col1, #T_01194_row1_col2, #T_01194_row1_col3, #T_01194_row1_col4, #T_01194_row3_col0, #T_01194_row3_col1, #T_01194_row3_col2, #T_01194_row3_col3, #T_01194_row3_col4 {\n",
       "  background-color: white;\n",
       "}\n",
       "#T_01194_row2_col0, #T_01194_row2_col1, #T_01194_row2_col2, #T_01194_row2_col3, #T_01194_row2_col4 {\n",
       "  background-color: yellow;\n",
       "}\n",
       "</style>\n",
       "<table id=\"T_01194\">\n",
       "  <thead>\n",
       "    <tr>\n",
       "      <th class=\"blank level0\" >&nbsp;</th>\n",
       "      <th id=\"T_01194_level0_col0\" class=\"col_heading level0 col0\" >Name_model</th>\n",
       "      <th id=\"T_01194_level0_col1\" class=\"col_heading level0 col1\" >Best_score</th>\n",
       "      <th id=\"T_01194_level0_col2\" class=\"col_heading level0 col2\" >Time_to_tune</th>\n",
       "      <th id=\"T_01194_level0_col3\" class=\"col_heading level0 col3\" >Score_kaggle</th>\n",
       "      <th id=\"T_01194_level0_col4\" class=\"col_heading level0 col4\" >Best_params</th>\n",
       "    </tr>\n",
       "  </thead>\n",
       "  <tbody>\n",
       "    <tr>\n",
       "      <th id=\"T_01194_level0_row0\" class=\"row_heading level0 row0\" >0</th>\n",
       "      <td id=\"T_01194_row0_col0\" class=\"data row0 col0\" >logistic_regression</td>\n",
       "      <td id=\"T_01194_row0_col1\" class=\"data row0 col1\" >0.780745</td>\n",
       "      <td id=\"T_01194_row0_col2\" class=\"data row0 col2\" >62178</td>\n",
       "      <td id=\"T_01194_row0_col3\" class=\"data row0 col3\" >0.782090</td>\n",
       "      <td id=\"T_01194_row0_col4\" class=\"data row0 col4\" >{'feature_selection__k': 15, 'logistic__C': 10000.0, 'logistic__penalty': 'l2', 'logistic__solver': 'liblinear'}</td>\n",
       "    </tr>\n",
       "    <tr>\n",
       "      <th id=\"T_01194_level0_row1\" class=\"row_heading level0 row1\" >1</th>\n",
       "      <td id=\"T_01194_row1_col0\" class=\"data row1 col0\" >knn</td>\n",
       "      <td id=\"T_01194_row1_col1\" class=\"data row1 col1\" >0.793631</td>\n",
       "      <td id=\"T_01194_row1_col2\" class=\"data row1 col2\" >113486</td>\n",
       "      <td id=\"T_01194_row1_col3\" class=\"data row1 col3\" >0.788630</td>\n",
       "      <td id=\"T_01194_row1_col4\" class=\"data row1 col4\" >{'feature_selection__k': 16, 'knn__n_neighbors': 51, 'knn__p': 1, 'knn__weights': 'uniform'}</td>\n",
       "    </tr>\n",
       "    <tr>\n",
       "      <th id=\"T_01194_level0_row2\" class=\"row_heading level0 row2\" >2</th>\n",
       "      <td id=\"T_01194_row2_col0\" class=\"data row2 col0\" >svm</td>\n",
       "      <td id=\"T_01194_row2_col1\" class=\"data row2 col1\" >0.801223</td>\n",
       "      <td id=\"T_01194_row2_col2\" class=\"data row2 col2\" >220124</td>\n",
       "      <td id=\"T_01194_row2_col3\" class=\"data row2 col3\" >0.800090</td>\n",
       "      <td id=\"T_01194_row2_col4\" class=\"data row2 col4\" >{'feature_selection__k': 24, 'svm__C': 1.0, 'svm__degree': 3, 'svm__kernel': 'poly'}</td>\n",
       "    </tr>\n",
       "    <tr>\n",
       "      <th id=\"T_01194_level0_row3\" class=\"row_heading level0 row3\" >3</th>\n",
       "      <td id=\"T_01194_row3_col0\" class=\"data row3 col0\" >gnb</td>\n",
       "      <td id=\"T_01194_row3_col1\" class=\"data row3 col1\" >0.766482</td>\n",
       "      <td id=\"T_01194_row3_col2\" class=\"data row3 col2\" >15604</td>\n",
       "      <td id=\"T_01194_row3_col3\" class=\"data row3 col3\" >0.773670</td>\n",
       "      <td id=\"T_01194_row3_col4\" class=\"data row3 col4\" >{'feature_selection__k': 4, 'gnb__var_smoothing': 0.5336699231206302}</td>\n",
       "    </tr>\n",
       "  </tbody>\n",
       "</table>\n"
      ],
      "text/plain": [
       "<pandas.io.formats.style.Styler at 0x1869b6c76d0>"
      ]
     },
     "execution_count": 54,
     "metadata": {},
     "output_type": "execute_result"
    }
   ],
   "source": [
    "df_results = pd.DataFrame(columns=COLUMNS)\n",
    "NAME_VERSION = \"07\"\n",
    "\n",
    "for model in MODELS:\n",
    "    \n",
    "    if os.path.exists(os.path.join(REPO_MODEL, model + \"__v\" + NAME_VERSION + \".json\")):\n",
    "        with open(os.path.join(REPO_MODEL, model + \"__v\" + NAME_VERSION + \".json\"), \"r\") as file:\n",
    "            data = json.load(file)\n",
    "        df_results = pd.concat([\n",
    "            df_results, \n",
    "            pd.DataFrame({\n",
    "                \"Name_model\": [model], \n",
    "                \"Best_score\": [data[\"best_score\"]],\n",
    "                \"Time_to_tune\": [int(data[\"time_to_tune\"])],\n",
    "                \"Score_kaggle\": [data[\"score_kaggle\"]],\n",
    "                \"Best_params\": [data[\"best_params\"]],\n",
    "            })])\n",
    "        \n",
    "df_results.reset_index(inplace=True, drop=True)\n",
    "df_results.style.apply(lambda row: ['background-color: yellow'] * df_results.shape[1] if row.Best_score == max(df_results.Best_score) else ['background-color: white'] * df_results.shape[1], axis=1)"
   ]
  },
  {
   "cell_type": "markdown",
   "id": "adb456ce",
   "metadata": {
    "jp-MarkdownHeadingCollapsed": true,
    "tags": []
   },
   "source": [
    "#### Version 8"
   ]
  },
  {
   "cell_type": "code",
   "execution_count": 55,
   "id": "d1986837",
   "metadata": {},
   "outputs": [
    {
     "data": {
      "text/html": [
       "<style type=\"text/css\">\n",
       "#T_9b4d2_row0_col0, #T_9b4d2_row0_col1, #T_9b4d2_row0_col2, #T_9b4d2_row0_col3, #T_9b4d2_row0_col4, #T_9b4d2_row1_col0, #T_9b4d2_row1_col1, #T_9b4d2_row1_col2, #T_9b4d2_row1_col3, #T_9b4d2_row1_col4, #T_9b4d2_row3_col0, #T_9b4d2_row3_col1, #T_9b4d2_row3_col2, #T_9b4d2_row3_col3, #T_9b4d2_row3_col4 {\n",
       "  background-color: white;\n",
       "}\n",
       "#T_9b4d2_row2_col0, #T_9b4d2_row2_col1, #T_9b4d2_row2_col2, #T_9b4d2_row2_col3, #T_9b4d2_row2_col4 {\n",
       "  background-color: yellow;\n",
       "}\n",
       "</style>\n",
       "<table id=\"T_9b4d2\">\n",
       "  <thead>\n",
       "    <tr>\n",
       "      <th class=\"blank level0\" >&nbsp;</th>\n",
       "      <th id=\"T_9b4d2_level0_col0\" class=\"col_heading level0 col0\" >Name_model</th>\n",
       "      <th id=\"T_9b4d2_level0_col1\" class=\"col_heading level0 col1\" >Best_score</th>\n",
       "      <th id=\"T_9b4d2_level0_col2\" class=\"col_heading level0 col2\" >Time_to_tune</th>\n",
       "      <th id=\"T_9b4d2_level0_col3\" class=\"col_heading level0 col3\" >Score_kaggle</th>\n",
       "      <th id=\"T_9b4d2_level0_col4\" class=\"col_heading level0 col4\" >Best_params</th>\n",
       "    </tr>\n",
       "  </thead>\n",
       "  <tbody>\n",
       "    <tr>\n",
       "      <th id=\"T_9b4d2_level0_row0\" class=\"row_heading level0 row0\" >0</th>\n",
       "      <td id=\"T_9b4d2_row0_col0\" class=\"data row0 col0\" >logistic_regression</td>\n",
       "      <td id=\"T_9b4d2_row0_col1\" class=\"data row0 col1\" >0.779479</td>\n",
       "      <td id=\"T_9b4d2_row0_col2\" class=\"data row0 col2\" >42744</td>\n",
       "      <td id=\"T_9b4d2_row0_col3\" class=\"data row0 col3\" >0.784190</td>\n",
       "      <td id=\"T_9b4d2_row0_col4\" class=\"data row0 col4\" >{'feature_selection__max_features': 23, 'logistic__C': 0.01, 'logistic__penalty': 'l2', 'logistic__solver': 'liblinear'}</td>\n",
       "    </tr>\n",
       "    <tr>\n",
       "      <th id=\"T_9b4d2_level0_row1\" class=\"row_heading level0 row1\" >1</th>\n",
       "      <td id=\"T_9b4d2_row1_col0\" class=\"data row1 col0\" >knn</td>\n",
       "      <td id=\"T_9b4d2_row1_col1\" class=\"data row1 col1\" >0.791214</td>\n",
       "      <td id=\"T_9b4d2_row1_col2\" class=\"data row1 col2\" >83657</td>\n",
       "      <td id=\"T_9b4d2_row1_col3\" class=\"data row1 col3\" >0.783490</td>\n",
       "      <td id=\"T_9b4d2_row1_col4\" class=\"data row1 col4\" >{'feature_selection__max_features': 11, 'knn__n_neighbors': 63, 'knn__p': 1, 'knn__weights': 'uniform'}</td>\n",
       "    </tr>\n",
       "    <tr>\n",
       "      <th id=\"T_9b4d2_level0_row2\" class=\"row_heading level0 row2\" >2</th>\n",
       "      <td id=\"T_9b4d2_row2_col0\" class=\"data row2 col0\" >svm</td>\n",
       "      <td id=\"T_9b4d2_row2_col1\" class=\"data row2 col1\" >0.801682</td>\n",
       "      <td id=\"T_9b4d2_row2_col2\" class=\"data row2 col2\" >97146</td>\n",
       "      <td id=\"T_9b4d2_row2_col3\" class=\"data row2 col3\" >0.799620</td>\n",
       "      <td id=\"T_9b4d2_row2_col4\" class=\"data row2 col4\" >{'feature_selection__max_features': 25, 'svm__C': 0.46415888336127775, 'svm__degree': 3, 'svm__kernel': 'poly'}</td>\n",
       "    </tr>\n",
       "    <tr>\n",
       "      <th id=\"T_9b4d2_level0_row3\" class=\"row_heading level0 row3\" >3</th>\n",
       "      <td id=\"T_9b4d2_row3_col0\" class=\"data row3 col0\" >gnb</td>\n",
       "      <td id=\"T_9b4d2_row3_col1\" class=\"data row3 col1\" >0.767173</td>\n",
       "      <td id=\"T_9b4d2_row3_col2\" class=\"data row3 col2\" >12574</td>\n",
       "      <td id=\"T_9b4d2_row3_col3\" class=\"data row3 col3\" >0.774840</td>\n",
       "      <td id=\"T_9b4d2_row3_col4\" class=\"data row3 col4\" >{'feature_selection__max_features': 4, 'gnb__var_smoothing': 0.3511191734215127}</td>\n",
       "    </tr>\n",
       "  </tbody>\n",
       "</table>\n"
      ],
      "text/plain": [
       "<pandas.io.formats.style.Styler at 0x1868ca30430>"
      ]
     },
     "execution_count": 55,
     "metadata": {},
     "output_type": "execute_result"
    }
   ],
   "source": [
    "df_results = pd.DataFrame(columns=COLUMNS)\n",
    "NAME_VERSION = \"08\"\n",
    "\n",
    "for model in MODELS:\n",
    "    \n",
    "    if os.path.exists(os.path.join(REPO_MODEL, model + \"__v\" + NAME_VERSION + \".json\")):\n",
    "        with open(os.path.join(REPO_MODEL, model + \"__v\" + NAME_VERSION + \".json\"), \"r\") as file:\n",
    "            data = json.load(file)\n",
    "        df_results = pd.concat([\n",
    "            df_results, \n",
    "            pd.DataFrame({\n",
    "                \"Name_model\": [model], \n",
    "                \"Best_score\": [data[\"best_score\"]],\n",
    "                \"Time_to_tune\": [int(data[\"time_to_tune\"])],\n",
    "                \"Score_kaggle\": [data[\"score_kaggle\"]],\n",
    "                \"Best_params\": [data[\"best_params\"]],\n",
    "            })])\n",
    "        \n",
    "df_results.reset_index(inplace=True, drop=True)\n",
    "df_results.style.apply(lambda row: ['background-color: yellow'] * df_results.shape[1] if row.Best_score == max(df_results.Best_score) else ['background-color: white'] * df_results.shape[1], axis=1)"
   ]
  },
  {
   "cell_type": "markdown",
   "id": "70f215dd",
   "metadata": {
    "jp-MarkdownHeadingCollapsed": true,
    "tags": []
   },
   "source": [
    "#### Version 9"
   ]
  },
  {
   "cell_type": "code",
   "execution_count": 56,
   "id": "4a7eb192",
   "metadata": {},
   "outputs": [
    {
     "data": {
      "text/html": [
       "<style type=\"text/css\">\n",
       "#T_c0c79_row0_col0, #T_c0c79_row0_col1, #T_c0c79_row0_col2, #T_c0c79_row0_col3, #T_c0c79_row0_col4, #T_c0c79_row1_col0, #T_c0c79_row1_col1, #T_c0c79_row1_col2, #T_c0c79_row1_col3, #T_c0c79_row1_col4, #T_c0c79_row3_col0, #T_c0c79_row3_col1, #T_c0c79_row3_col2, #T_c0c79_row3_col3, #T_c0c79_row3_col4 {\n",
       "  background-color: white;\n",
       "}\n",
       "#T_c0c79_row2_col0, #T_c0c79_row2_col1, #T_c0c79_row2_col2, #T_c0c79_row2_col3, #T_c0c79_row2_col4 {\n",
       "  background-color: yellow;\n",
       "}\n",
       "</style>\n",
       "<table id=\"T_c0c79\">\n",
       "  <thead>\n",
       "    <tr>\n",
       "      <th class=\"blank level0\" >&nbsp;</th>\n",
       "      <th id=\"T_c0c79_level0_col0\" class=\"col_heading level0 col0\" >Name_model</th>\n",
       "      <th id=\"T_c0c79_level0_col1\" class=\"col_heading level0 col1\" >Best_score</th>\n",
       "      <th id=\"T_c0c79_level0_col2\" class=\"col_heading level0 col2\" >Time_to_tune</th>\n",
       "      <th id=\"T_c0c79_level0_col3\" class=\"col_heading level0 col3\" >Score_kaggle</th>\n",
       "      <th id=\"T_c0c79_level0_col4\" class=\"col_heading level0 col4\" >Best_params</th>\n",
       "    </tr>\n",
       "  </thead>\n",
       "  <tbody>\n",
       "    <tr>\n",
       "      <th id=\"T_c0c79_level0_row0\" class=\"row_heading level0 row0\" >0</th>\n",
       "      <td id=\"T_c0c79_row0_col0\" class=\"data row0 col0\" >logistic_regression</td>\n",
       "      <td id=\"T_c0c79_row0_col1\" class=\"data row0 col1\" >0.779939</td>\n",
       "      <td id=\"T_c0c79_row0_col2\" class=\"data row0 col2\" >13259</td>\n",
       "      <td id=\"T_c0c79_row0_col3\" class=\"data row0 col3\" >0.781150</td>\n",
       "      <td id=\"T_c0c79_row0_col4\" class=\"data row0 col4\" >{'feature_selection__max_features': 19, 'logistic__C': 0.021544346900318822, 'logistic__l1_ratio': 0.4, 'logistic__penalty': 'elasticnet', 'logistic__solver': 'saga'}</td>\n",
       "    </tr>\n",
       "    <tr>\n",
       "      <th id=\"T_c0c79_level0_row1\" class=\"row_heading level0 row1\" >1</th>\n",
       "      <td id=\"T_c0c79_row1_col0\" class=\"data row1 col0\" >knn</td>\n",
       "      <td id=\"T_c0c79_row1_col1\" class=\"data row1 col1\" >0.790179</td>\n",
       "      <td id=\"T_c0c79_row1_col2\" class=\"data row1 col2\" >20887</td>\n",
       "      <td id=\"T_c0c79_row1_col3\" class=\"data row1 col3\" >0.787700</td>\n",
       "      <td id=\"T_c0c79_row1_col4\" class=\"data row1 col4\" >{'feature_selection__max_features': 27, 'knn__n_neighbors': 47, 'knn__p': 2, 'knn__weights': 'uniform'}</td>\n",
       "    </tr>\n",
       "    <tr>\n",
       "      <th id=\"T_c0c79_level0_row2\" class=\"row_heading level0 row2\" >2</th>\n",
       "      <td id=\"T_c0c79_row2_col0\" class=\"data row2 col0\" >svm</td>\n",
       "      <td id=\"T_c0c79_row2_col1\" class=\"data row2 col1\" >0.800532</td>\n",
       "      <td id=\"T_c0c79_row2_col2\" class=\"data row2 col2\" >185765</td>\n",
       "      <td id=\"T_c0c79_row2_col3\" class=\"data row2 col3\" >0.799390</td>\n",
       "      <td id=\"T_c0c79_row2_col4\" class=\"data row2 col4\" >{'feature_selection__max_features': 26, 'svm__C': 0.46415888336127775, 'svm__degree': 3, 'svm__kernel': 'poly'}</td>\n",
       "    </tr>\n",
       "    <tr>\n",
       "      <th id=\"T_c0c79_level0_row3\" class=\"row_heading level0 row3\" >3</th>\n",
       "      <td id=\"T_c0c79_row3_col0\" class=\"data row3 col0\" >gnb</td>\n",
       "      <td id=\"T_c0c79_row3_col1\" class=\"data row3 col1\" >0.770624</td>\n",
       "      <td id=\"T_c0c79_row3_col2\" class=\"data row3 col2\" >1013</td>\n",
       "      <td id=\"T_c0c79_row3_col3\" class=\"data row3 col3\" >0.777180</td>\n",
       "      <td id=\"T_c0c79_row3_col4\" class=\"data row3 col4\" >{'feature_selection__max_features': 7, 'gnb__var_smoothing': 0.811130830789689}</td>\n",
       "    </tr>\n",
       "  </tbody>\n",
       "</table>\n"
      ],
      "text/plain": [
       "<pandas.io.formats.style.Styler at 0x1869b725270>"
      ]
     },
     "execution_count": 56,
     "metadata": {},
     "output_type": "execute_result"
    }
   ],
   "source": [
    "df_results = pd.DataFrame(columns=COLUMNS)\n",
    "NAME_VERSION = \"09\"\n",
    "\n",
    "for model in MODELS:\n",
    "    \n",
    "    if os.path.exists(os.path.join(REPO_MODEL, model + \"__v\" + NAME_VERSION + \".json\")):\n",
    "        with open(os.path.join(REPO_MODEL, model + \"__v\" + NAME_VERSION + \".json\"), \"r\") as file:\n",
    "            data = json.load(file)\n",
    "        df_results = pd.concat([\n",
    "            df_results, \n",
    "            pd.DataFrame({\n",
    "                \"Name_model\": [model], \n",
    "                \"Best_score\": [data[\"best_score\"]],\n",
    "                \"Time_to_tune\": [int(data[\"time_to_tune\"])],\n",
    "                \"Score_kaggle\": [data[\"score_kaggle\"]],\n",
    "                \"Best_params\": [data[\"best_params\"]],\n",
    "            })])\n",
    "        \n",
    "df_results.reset_index(inplace=True, drop=True)\n",
    "df_results.style.apply(lambda row: ['background-color: yellow'] * df_results.shape[1] if row.Best_score == max(df_results.Best_score) else ['background-color: white'] * df_results.shape[1], axis=1)"
   ]
  },
  {
   "cell_type": "markdown",
   "id": "0394260d",
   "metadata": {
    "tags": []
   },
   "source": [
    "## ------------------------------------------------------------------------------------------------------------"
   ]
  },
  {
   "cell_type": "code",
   "execution_count": 57,
   "id": "4329a52f",
   "metadata": {},
   "outputs": [],
   "source": [
    "from titanic_spaceship_package.preprocessor import preprocessor\n",
    "from datetime import datetime\n",
    "\n",
    "X = preprocessor.fit_transform(X_train)"
   ]
  },
  {
   "cell_type": "code",
   "execution_count": null,
   "id": "4482aed6",
   "metadata": {},
   "outputs": [],
   "source": [
    "from lightautoml.automl.presets.tabular_presets import TabularAutoML, TabularUtilizedAutoML\n",
    "from lightautoml.tasks import Task\n",
    "from sklearn.metrics import accuracy_score"
   ]
  },
  {
   "cell_type": "code",
   "execution_count": null,
   "id": "caa23f62",
   "metadata": {},
   "outputs": [],
   "source": [
    "def accuracy_metric(y_true, y_pred):\n",
    "    return accuracy_score(y_true, (y_pred > 0.5).astype(int))\n",
    "\n",
    "task = Task('binary', metric = accuracy_metric)"
   ]
  },
  {
   "cell_type": "code",
   "execution_count": null,
   "id": "59bc8ef0",
   "metadata": {},
   "outputs": [],
   "source": [
    "roles = {'target': 'Transported'}"
   ]
  }
 ],
 "metadata": {
  "kernelspec": {
   "display_name": "Python 3 (ipykernel)",
   "language": "python",
   "name": "python3"
  },
  "language_info": {
   "codemirror_mode": {
    "name": "ipython",
    "version": 3
   },
   "file_extension": ".py",
   "mimetype": "text/x-python",
   "name": "python",
   "nbconvert_exporter": "python",
   "pygments_lexer": "ipython3",
   "version": "3.10.4"
  }
 },
 "nbformat": 4,
 "nbformat_minor": 5
}
